{
 "cells": [
  {
   "cell_type": "code",
   "execution_count": 13,
   "metadata": {
    "collapsed": true,
    "pycharm": {
     "name": "#%%\n"
    }
   },
   "outputs": [
    {
     "ename": "ImportError",
     "evalue": "dlopen(/Users/valena17/psych_nlp/psych_note_venv/lib/python3.8/site-packages/cairo/_cairo.cpython-38-darwin.so, 0x0002): symbol not found in flat namespace (_cairo_append_path)",
     "output_type": "error",
     "traceback": [
      "\u001B[0;31m---------------------------------------------------------------------------\u001B[0m",
      "\u001B[0;31mImportError\u001B[0m                               Traceback (most recent call last)",
      "Cell \u001B[0;32mIn [13], line 3\u001B[0m\n\u001B[1;32m      1\u001B[0m \u001B[38;5;28;01mimport\u001B[39;00m \u001B[38;5;21;01migraph\u001B[39;00m \u001B[38;5;28;01mas\u001B[39;00m \u001B[38;5;21;01mig\u001B[39;00m\n\u001B[1;32m      2\u001B[0m \u001B[38;5;28;01mimport\u001B[39;00m \u001B[38;5;21;01mleidenalg\u001B[39;00m \u001B[38;5;28;01mas\u001B[39;00m \u001B[38;5;21;01mla\u001B[39;00m\n\u001B[0;32m----> 3\u001B[0m \u001B[38;5;28;01mimport\u001B[39;00m \u001B[38;5;21;01mcairo\u001B[39;00m\n",
      "File \u001B[0;32m~/psych_nlp/psych_note_venv/lib/python3.8/site-packages/cairo/__init__.py:1\u001B[0m\n\u001B[0;32m----> 1\u001B[0m \u001B[38;5;28;01mfrom\u001B[39;00m \u001B[38;5;21;01m.\u001B[39;00m\u001B[38;5;21;01m_cairo\u001B[39;00m \u001B[38;5;28;01mimport\u001B[39;00m \u001B[38;5;241m*\u001B[39m  \u001B[38;5;66;03m# noqa: F401,F403\u001B[39;00m\n\u001B[1;32m      4\u001B[0m \u001B[38;5;28;01mdef\u001B[39;00m \u001B[38;5;21mget_include\u001B[39m():\n\u001B[1;32m      5\u001B[0m     \u001B[38;5;124;03m\"\"\"Returns a path to the directory containing the C header files\"\"\"\u001B[39;00m\n",
      "\u001B[0;31mImportError\u001B[0m: dlopen(/Users/valena17/psych_nlp/psych_note_venv/lib/python3.8/site-packages/cairo/_cairo.cpython-38-darwin.so, 0x0002): symbol not found in flat namespace (_cairo_append_path)"
     ]
    }
   ],
   "source": [
    "import igraph as ig\n",
    "import leidenalg as la\n",
    "import cairo"
   ]
  },
  {
   "cell_type": "code",
   "execution_count": 10,
   "outputs": [
    {
     "ename": "AttributeError",
     "evalue": "Plotting not available; please install pycairo or cairocffi",
     "output_type": "error",
     "traceback": [
      "\u001B[0;31m---------------------------------------------------------------------------\u001B[0m",
      "\u001B[0;31mAttributeError\u001B[0m                            Traceback (most recent call last)",
      "Cell \u001B[0;32mIn [10], line 3\u001B[0m\n\u001B[1;32m      1\u001B[0m G \u001B[38;5;241m=\u001B[39m ig\u001B[38;5;241m.\u001B[39mGraph\u001B[38;5;241m.\u001B[39mFamous(\u001B[38;5;124m'\u001B[39m\u001B[38;5;124mZachary\u001B[39m\u001B[38;5;124m'\u001B[39m)\n\u001B[1;32m      2\u001B[0m partition \u001B[38;5;241m=\u001B[39m la\u001B[38;5;241m.\u001B[39mfind_partition(G, la\u001B[38;5;241m.\u001B[39mModularityVertexPartition)\n\u001B[0;32m----> 3\u001B[0m \u001B[43mig\u001B[49m\u001B[38;5;241;43m.\u001B[39;49m\u001B[43mplot\u001B[49m\u001B[43m(\u001B[49m\u001B[43mpartition\u001B[49m\u001B[43m)\u001B[49m\n",
      "File \u001B[0;32m~/psych_nlp/psych_note_venv/lib/python3.8/site-packages/igraph/drawing/__init__.py:284\u001B[0m, in \u001B[0;36mplot\u001B[0;34m(obj, target, bbox, *args, **kwds)\u001B[0m\n\u001B[1;32m    282\u001B[0m background \u001B[38;5;241m=\u001B[39m kwds\u001B[38;5;241m.\u001B[39mpop(\u001B[38;5;124m\"\u001B[39m\u001B[38;5;124mbackground\u001B[39m\u001B[38;5;124m\"\u001B[39m, \u001B[38;5;124m\"\u001B[39m\u001B[38;5;124mwhite\u001B[39m\u001B[38;5;124m\"\u001B[39m)\n\u001B[1;32m    283\u001B[0m margin \u001B[38;5;241m=\u001B[39m \u001B[38;5;28mfloat\u001B[39m(kwds\u001B[38;5;241m.\u001B[39mpop(\u001B[38;5;124m\"\u001B[39m\u001B[38;5;124mmargin\u001B[39m\u001B[38;5;124m\"\u001B[39m, \u001B[38;5;241m20\u001B[39m))\n\u001B[0;32m--> 284\u001B[0m result \u001B[38;5;241m=\u001B[39m \u001B[43mCairoPlot\u001B[49m\u001B[43m(\u001B[49m\n\u001B[1;32m    285\u001B[0m \u001B[43m    \u001B[49m\u001B[43mtarget\u001B[49m\u001B[38;5;241;43m=\u001B[39;49m\u001B[43mtarget\u001B[49m\u001B[43m,\u001B[49m\n\u001B[1;32m    286\u001B[0m \u001B[43m    \u001B[49m\u001B[43mbbox\u001B[49m\u001B[38;5;241;43m=\u001B[39;49m\u001B[43mbbox\u001B[49m\u001B[43m,\u001B[49m\n\u001B[1;32m    287\u001B[0m \u001B[43m    \u001B[49m\u001B[43mpalette\u001B[49m\u001B[38;5;241;43m=\u001B[39;49m\u001B[43mpalette\u001B[49m\u001B[43m,\u001B[49m\n\u001B[1;32m    288\u001B[0m \u001B[43m    \u001B[49m\u001B[43mbackground\u001B[49m\u001B[38;5;241;43m=\u001B[39;49m\u001B[43mbackground\u001B[49m\u001B[43m,\u001B[49m\n\u001B[1;32m    289\u001B[0m \u001B[43m\u001B[49m\u001B[43m)\u001B[49m\n\u001B[1;32m    290\u001B[0m item_bbox \u001B[38;5;241m=\u001B[39m result\u001B[38;5;241m.\u001B[39mbbox\u001B[38;5;241m.\u001B[39mcontract(margin)\n\u001B[1;32m    291\u001B[0m result\u001B[38;5;241m.\u001B[39madd(obj, item_bbox, \u001B[38;5;241m*\u001B[39margs, \u001B[38;5;241m*\u001B[39m\u001B[38;5;241m*\u001B[39mkwds)\n",
      "File \u001B[0;32m~/psych_nlp/psych_note_venv/lib/python3.8/site-packages/igraph/drawing/cairo/plot.py:148\u001B[0m, in \u001B[0;36mCairoPlot.__init__\u001B[0;34m(self, target, bbox, palette, background)\u001B[0m\n\u001B[1;32m    146\u001B[0m \u001B[38;5;28;01mif\u001B[39;00m target \u001B[38;5;129;01mis\u001B[39;00m \u001B[38;5;28;01mNone\u001B[39;00m:\n\u001B[1;32m    147\u001B[0m     \u001B[38;5;28mself\u001B[39m\u001B[38;5;241m.\u001B[39m_need_tmpfile \u001B[38;5;241m=\u001B[39m \u001B[38;5;28;01mTrue\u001B[39;00m\n\u001B[0;32m--> 148\u001B[0m     \u001B[38;5;28mself\u001B[39m\u001B[38;5;241m.\u001B[39m_surface \u001B[38;5;241m=\u001B[39m \u001B[43mcairo\u001B[49m\u001B[38;5;241;43m.\u001B[39;49m\u001B[43mImageSurface\u001B[49m(\n\u001B[1;32m    149\u001B[0m         cairo\u001B[38;5;241m.\u001B[39mFORMAT_ARGB32, \u001B[38;5;28mint\u001B[39m(\u001B[38;5;28mself\u001B[39m\u001B[38;5;241m.\u001B[39mbbox\u001B[38;5;241m.\u001B[39mwidth), \u001B[38;5;28mint\u001B[39m(\u001B[38;5;28mself\u001B[39m\u001B[38;5;241m.\u001B[39mbbox\u001B[38;5;241m.\u001B[39mheight)\n\u001B[1;32m    150\u001B[0m     )\n\u001B[1;32m    151\u001B[0m \u001B[38;5;28;01melif\u001B[39;00m \u001B[38;5;28misinstance\u001B[39m(target, cairo\u001B[38;5;241m.\u001B[39mSurface):\n\u001B[1;32m    152\u001B[0m     \u001B[38;5;28mself\u001B[39m\u001B[38;5;241m.\u001B[39m_surface \u001B[38;5;241m=\u001B[39m target\n",
      "File \u001B[0;32m~/psych_nlp/psych_note_venv/lib/python3.8/site-packages/igraph/drawing/utils.py:428\u001B[0m, in \u001B[0;36mFakeModule.__getattr__\u001B[0;34m(self, _)\u001B[0m\n\u001B[1;32m    427\u001B[0m \u001B[38;5;28;01mdef\u001B[39;00m \u001B[38;5;21m__getattr__\u001B[39m(\u001B[38;5;28mself\u001B[39m, _):\n\u001B[0;32m--> 428\u001B[0m     \u001B[38;5;28;01mraise\u001B[39;00m \u001B[38;5;167;01mAttributeError\u001B[39;00m(\u001B[38;5;28mself\u001B[39m\u001B[38;5;241m.\u001B[39m_message)\n",
      "\u001B[0;31mAttributeError\u001B[0m: Plotting not available; please install pycairo or cairocffi"
     ]
    }
   ],
   "source": [
    "G = ig.Graph.Famous('Zachary')\n",
    "partition = la.find_partition(G, la.ModularityVertexPartition)\n",
    "ig.plot(partition)"
   ],
   "metadata": {
    "collapsed": false,
    "pycharm": {
     "name": "#%%\n"
    }
   }
  },
  {
   "cell_type": "code",
   "execution_count": null,
   "outputs": [],
   "source": [],
   "metadata": {
    "collapsed": false,
    "pycharm": {
     "name": "#%%\n"
    }
   }
  }
 ],
 "metadata": {
  "kernelspec": {
   "display_name": "Python 3",
   "language": "python",
   "name": "python3"
  },
  "language_info": {
   "codemirror_mode": {
    "name": "ipython",
    "version": 2
   },
   "file_extension": ".py",
   "mimetype": "text/x-python",
   "name": "python",
   "nbconvert_exporter": "python",
   "pygments_lexer": "ipython2",
   "version": "2.7.6"
  }
 },
 "nbformat": 4,
 "nbformat_minor": 0
}