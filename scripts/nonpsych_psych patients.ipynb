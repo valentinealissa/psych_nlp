{
 "cells": [
  {
   "cell_type": "code",
   "execution_count": 1,
   "metadata": {
    "collapsed": true,
    "pycharm": {
     "name": "#%%\n"
    }
   },
   "outputs": [
    {
     "name": "stderr",
     "output_type": "stream",
     "text": [
      "/var/folders/xm/m4dy5bvs1fn7fb9wxjhsg4dc0000gn/T/ipykernel_78668/3234742103.py:16: DtypeWarning: Columns (2,14) have mixed types. Specify dtype option on import or set low_memory=False.\n",
      "  nonpsych_patients = pd.read_csv(\"/Users/valena17/psych_nlp/data/nonpsych_patients.csv\")\n"
     ]
    }
   ],
   "source": [
    "from datetime import datetime\n",
    "# importing moules\n",
    "import os\n",
    "import pandas as pd\n",
    "import matplotlib\n",
    "import numpy as np\n",
    "from re import search\n",
    "import matplotlib.pyplot as plt\n",
    "from datetime import date\n",
    "import seaborn as sns\n",
    "import math\n",
    "from seaborn import histplot\n",
    "\n",
    "# nonpsych_patients = pd.read_csv(\"/Users/valena17/DataGripProjects/msdw2/output/nonpsych_patients_demo.csv\")\n",
    "# nonpsych_patients[\"PrimaryMrn\"]=nonpsych_patients[\"PrimaryMrn\"].values.astype(str)\n",
    "nonpsych_patients = pd.read_csv(\"/Users/valena17/psych_nlp/data/nonpsych_patients.csv\")\n",
    "nonpsych_patients[\"PrimaryMrn\"]=nonpsych_patients[\"PrimaryMrn\"].values.astype(str)\n",
    "# nonscz_psych_patients = pd.read_csv('/Users/valena17/psych_nlp/data/all_sample_controls.csv')\n",
    "# nonscz_psych_patients[\"PrimaryMrn\"]=nonscz_psych_patients[\"PrimaryMrn\"].values.astype(str)\n",
    "# scz_patients_comorbidities = pd.read_csv('/Users/valena17/psych_nlp/data/clean_ccsr_scz_patients.csv')\n",
    "# scz_patients_comorbidities[\"PrimaryMrn\"]=scz_patients_comorbidities[\"PrimaryMrn\"].values.astype(str)\n",
    "# scz_patients_demographics = pd.read_csv('/Users/valena17/psych_nlp/data/clean_ccsr_ONLYscz_patients.csv')\n",
    "# scz_patients_demographics[\"PrimaryMrn\"]=scz_patients_demographics[\"PrimaryMrn\"].values.astype(str)\n"
   ]
  },
  {
   "cell_type": "code",
   "execution_count": 2,
   "outputs": [],
   "source": [
    "nonpsych_patients_blackwhite_queer = nonpsych_patients[nonpsych_patients['Race'].isin(['Black or African-American', 'White'])]\n",
    "# nonpsych_patients_blackwhite_malefemale = nonpsych_patients_blackwhite[nonpsych_patients_blackwhite['Gender'].isin(['Female', 'Male'])]"
   ],
   "metadata": {
    "collapsed": false,
    "pycharm": {
     "name": "#%%\n"
    }
   }
  },
  {
   "cell_type": "code",
   "execution_count": 3,
   "outputs": [],
   "source": [
    "# nonpsych_patients_blackwhite_malefemale = nonpsych_patients_blackwhite_malefemale.rename(columns={'AgeInYears' : 'Age'})\n",
    "# nonpsych_patients_blackwhite_malefemale = nonpsych_patients_blackwhite_malefemale[['Age', 'Gender', 'Race', 'm_income']]\n",
    "nonpsych_patients_blackwhite_queer = nonpsych_patients_blackwhite_queer.rename(columns={'AgeInYears' : 'Age'})\n",
    "nonpsych_patients_blackwhite_queer = nonpsych_patients_blackwhite_queer[['Age', 'Gender', 'Race', 'SexualOrientation', 'm_income']]"
   ],
   "metadata": {
    "collapsed": false,
    "pycharm": {
     "name": "#%%\n"
    }
   }
  },
  {
   "cell_type": "code",
   "execution_count": 4,
   "outputs": [
    {
     "data": {
      "text/plain": "          Age  Gender                       Race SexualOrientation  m_income\n2        48.0  Female                      White               NaN   58669.0\n3        48.0  Female                      White               NaN   63048.0\n4        48.0  Female                      White               NaN       NaN\n5        58.0  Female  Black or African-American               NaN   68542.0\n6        58.0  Female  Black or African-American               NaN  148282.0\n...       ...     ...                        ...               ...       ...\n3595657  45.0    Male  Black or African-American               NaN   71859.0\n3595659  27.0    Male  Black or African-American               NaN  105538.0\n3595662  35.0    Male  Black or African-American               NaN   66173.0\n3595663  55.0  Female                      White               NaN  171719.0\n3595670  27.0  Female  Black or African-American               NaN   66325.0\n\n[2316607 rows x 5 columns]",
      "text/html": "<div>\n<style scoped>\n    .dataframe tbody tr th:only-of-type {\n        vertical-align: middle;\n    }\n\n    .dataframe tbody tr th {\n        vertical-align: top;\n    }\n\n    .dataframe thead th {\n        text-align: right;\n    }\n</style>\n<table border=\"1\" class=\"dataframe\">\n  <thead>\n    <tr style=\"text-align: right;\">\n      <th></th>\n      <th>Age</th>\n      <th>Gender</th>\n      <th>Race</th>\n      <th>SexualOrientation</th>\n      <th>m_income</th>\n    </tr>\n  </thead>\n  <tbody>\n    <tr>\n      <th>2</th>\n      <td>48.0</td>\n      <td>Female</td>\n      <td>White</td>\n      <td>NaN</td>\n      <td>58669.0</td>\n    </tr>\n    <tr>\n      <th>3</th>\n      <td>48.0</td>\n      <td>Female</td>\n      <td>White</td>\n      <td>NaN</td>\n      <td>63048.0</td>\n    </tr>\n    <tr>\n      <th>4</th>\n      <td>48.0</td>\n      <td>Female</td>\n      <td>White</td>\n      <td>NaN</td>\n      <td>NaN</td>\n    </tr>\n    <tr>\n      <th>5</th>\n      <td>58.0</td>\n      <td>Female</td>\n      <td>Black or African-American</td>\n      <td>NaN</td>\n      <td>68542.0</td>\n    </tr>\n    <tr>\n      <th>6</th>\n      <td>58.0</td>\n      <td>Female</td>\n      <td>Black or African-American</td>\n      <td>NaN</td>\n      <td>148282.0</td>\n    </tr>\n    <tr>\n      <th>...</th>\n      <td>...</td>\n      <td>...</td>\n      <td>...</td>\n      <td>...</td>\n      <td>...</td>\n    </tr>\n    <tr>\n      <th>3595657</th>\n      <td>45.0</td>\n      <td>Male</td>\n      <td>Black or African-American</td>\n      <td>NaN</td>\n      <td>71859.0</td>\n    </tr>\n    <tr>\n      <th>3595659</th>\n      <td>27.0</td>\n      <td>Male</td>\n      <td>Black or African-American</td>\n      <td>NaN</td>\n      <td>105538.0</td>\n    </tr>\n    <tr>\n      <th>3595662</th>\n      <td>35.0</td>\n      <td>Male</td>\n      <td>Black or African-American</td>\n      <td>NaN</td>\n      <td>66173.0</td>\n    </tr>\n    <tr>\n      <th>3595663</th>\n      <td>55.0</td>\n      <td>Female</td>\n      <td>White</td>\n      <td>NaN</td>\n      <td>171719.0</td>\n    </tr>\n    <tr>\n      <th>3595670</th>\n      <td>27.0</td>\n      <td>Female</td>\n      <td>Black or African-American</td>\n      <td>NaN</td>\n      <td>66325.0</td>\n    </tr>\n  </tbody>\n</table>\n<p>2316607 rows × 5 columns</p>\n</div>"
     },
     "execution_count": 4,
     "metadata": {},
     "output_type": "execute_result"
    }
   ],
   "source": [
    "# nonpsych_patients_blackwhite_malefemale\n",
    "nonpsych_patients_blackwhite_queer"
   ],
   "metadata": {
    "collapsed": false,
    "pycharm": {
     "name": "#%%\n"
    }
   }
  },
  {
   "cell_type": "code",
   "execution_count": 5,
   "outputs": [],
   "source": [
    "# blackwhite_malefemale_beforesczANDcontrols_v1 = pd.read_csv(\"/Users/valena17/psych_nlp/data/blackwhite_malefemale_beforesczANDcontrols_v1.csv\")\n",
    "\n",
    "blackwhite_queer_beforesczANDcontrols_v1 = pd.read_csv(\"/Users/valena17/psych_nlp/data/blackwhite_queer_beforesczANDcontrols.csv\")"
   ],
   "metadata": {
    "collapsed": false,
    "pycharm": {
     "name": "#%%\n"
    }
   }
  },
  {
   "cell_type": "code",
   "execution_count": 15,
   "outputs": [],
   "source": [
    "# blackwhite_malefemale_beforesczANDcontrols_v1 = blackwhite_malefemale_beforesczANDcontrols_v1[blackwhite_malefemale_beforesczANDcontrols_v1['Scz'] == 1]"
   ],
   "metadata": {
    "collapsed": false,
    "pycharm": {
     "name": "#%%\n"
    }
   }
  },
  {
   "cell_type": "code",
   "execution_count": 6,
   "outputs": [],
   "source": [
    "# blackwhite_malefemale_psych_nonpsych = pd.concat([nonpsych_patients_blackwhite_malefemale, blackwhite_malefemale_beforesczANDcontrols_v1],ignore_index=True)\n",
    "\n",
    "blackwhite_queer_psych_nonpsych = pd.concat([nonpsych_patients_blackwhite_queer, blackwhite_queer_beforesczANDcontrols_v1],ignore_index=True)"
   ],
   "metadata": {
    "collapsed": false,
    "pycharm": {
     "name": "#%%\n"
    }
   }
  },
  {
   "cell_type": "code",
   "execution_count": 7,
   "outputs": [
    {
     "data": {
      "text/plain": "          Age  Gender                       Race SexualOrientation  m_income  \\\n0        48.0  Female                      White               NaN   58669.0   \n1        48.0  Female                      White               NaN   63048.0   \n2        48.0  Female                      White               NaN       NaN   \n3        58.0  Female  Black or African-American               NaN   68542.0   \n4        58.0  Female  Black or African-American               NaN  148282.0   \n...       ...     ...                        ...               ...       ...   \n2525747  23.0  Female                      White               NaN       NaN   \n2525748  24.0  Female                      White               NaN       NaN   \n2525749  20.0    Male  Black or African-American               NaN  105538.0   \n2525750  20.0  Female  Black or African-American               NaN  105538.0   \n2525751  26.0    Male  Black or African-American               NaN       NaN   \n\n         Scz  Substance  Trauma  \n0        NaN        NaN     NaN  \n1        NaN        NaN     NaN  \n2        NaN        NaN     NaN  \n3        NaN        NaN     NaN  \n4        NaN        NaN     NaN  \n...      ...        ...     ...  \n2525747  0.0        1.0     0.0  \n2525748  0.0        1.0     0.0  \n2525749  0.0        1.0     0.0  \n2525750  0.0        1.0     0.0  \n2525751  0.0        1.0     0.0  \n\n[2525752 rows x 8 columns]",
      "text/html": "<div>\n<style scoped>\n    .dataframe tbody tr th:only-of-type {\n        vertical-align: middle;\n    }\n\n    .dataframe tbody tr th {\n        vertical-align: top;\n    }\n\n    .dataframe thead th {\n        text-align: right;\n    }\n</style>\n<table border=\"1\" class=\"dataframe\">\n  <thead>\n    <tr style=\"text-align: right;\">\n      <th></th>\n      <th>Age</th>\n      <th>Gender</th>\n      <th>Race</th>\n      <th>SexualOrientation</th>\n      <th>m_income</th>\n      <th>Scz</th>\n      <th>Substance</th>\n      <th>Trauma</th>\n    </tr>\n  </thead>\n  <tbody>\n    <tr>\n      <th>0</th>\n      <td>48.0</td>\n      <td>Female</td>\n      <td>White</td>\n      <td>NaN</td>\n      <td>58669.0</td>\n      <td>NaN</td>\n      <td>NaN</td>\n      <td>NaN</td>\n    </tr>\n    <tr>\n      <th>1</th>\n      <td>48.0</td>\n      <td>Female</td>\n      <td>White</td>\n      <td>NaN</td>\n      <td>63048.0</td>\n      <td>NaN</td>\n      <td>NaN</td>\n      <td>NaN</td>\n    </tr>\n    <tr>\n      <th>2</th>\n      <td>48.0</td>\n      <td>Female</td>\n      <td>White</td>\n      <td>NaN</td>\n      <td>NaN</td>\n      <td>NaN</td>\n      <td>NaN</td>\n      <td>NaN</td>\n    </tr>\n    <tr>\n      <th>3</th>\n      <td>58.0</td>\n      <td>Female</td>\n      <td>Black or African-American</td>\n      <td>NaN</td>\n      <td>68542.0</td>\n      <td>NaN</td>\n      <td>NaN</td>\n      <td>NaN</td>\n    </tr>\n    <tr>\n      <th>4</th>\n      <td>58.0</td>\n      <td>Female</td>\n      <td>Black or African-American</td>\n      <td>NaN</td>\n      <td>148282.0</td>\n      <td>NaN</td>\n      <td>NaN</td>\n      <td>NaN</td>\n    </tr>\n    <tr>\n      <th>...</th>\n      <td>...</td>\n      <td>...</td>\n      <td>...</td>\n      <td>...</td>\n      <td>...</td>\n      <td>...</td>\n      <td>...</td>\n      <td>...</td>\n    </tr>\n    <tr>\n      <th>2525747</th>\n      <td>23.0</td>\n      <td>Female</td>\n      <td>White</td>\n      <td>NaN</td>\n      <td>NaN</td>\n      <td>0.0</td>\n      <td>1.0</td>\n      <td>0.0</td>\n    </tr>\n    <tr>\n      <th>2525748</th>\n      <td>24.0</td>\n      <td>Female</td>\n      <td>White</td>\n      <td>NaN</td>\n      <td>NaN</td>\n      <td>0.0</td>\n      <td>1.0</td>\n      <td>0.0</td>\n    </tr>\n    <tr>\n      <th>2525749</th>\n      <td>20.0</td>\n      <td>Male</td>\n      <td>Black or African-American</td>\n      <td>NaN</td>\n      <td>105538.0</td>\n      <td>0.0</td>\n      <td>1.0</td>\n      <td>0.0</td>\n    </tr>\n    <tr>\n      <th>2525750</th>\n      <td>20.0</td>\n      <td>Female</td>\n      <td>Black or African-American</td>\n      <td>NaN</td>\n      <td>105538.0</td>\n      <td>0.0</td>\n      <td>1.0</td>\n      <td>0.0</td>\n    </tr>\n    <tr>\n      <th>2525751</th>\n      <td>26.0</td>\n      <td>Male</td>\n      <td>Black or African-American</td>\n      <td>NaN</td>\n      <td>NaN</td>\n      <td>0.0</td>\n      <td>1.0</td>\n      <td>0.0</td>\n    </tr>\n  </tbody>\n</table>\n<p>2525752 rows × 8 columns</p>\n</div>"
     },
     "execution_count": 7,
     "metadata": {},
     "output_type": "execute_result"
    }
   ],
   "source": [
    "blackwhite_queer_psych_nonpsych"
   ],
   "metadata": {
    "collapsed": false,
    "pycharm": {
     "name": "#%%\n"
    }
   }
  },
  {
   "cell_type": "code",
   "execution_count": 8,
   "outputs": [
    {
     "data": {
      "text/plain": "          Age  Gender                       Race SexualOrientation  m_income  \\\n0        48.0  Female                      White               NaN   58669.0   \n1        48.0  Female                      White               NaN   63048.0   \n2        48.0  Female                      White               NaN       NaN   \n3        58.0  Female  Black or African-American               NaN   68542.0   \n4        58.0  Female  Black or African-American               NaN  148282.0   \n...       ...     ...                        ...               ...       ...   \n2525747  23.0  Female                      White               NaN       NaN   \n2525748  24.0  Female                      White               NaN       NaN   \n2525749  20.0    Male  Black or African-American               NaN  105538.0   \n2525750  20.0  Female  Black or African-American               NaN  105538.0   \n2525751  26.0    Male  Black or African-American               NaN       NaN   \n\n         Scz  Substance  Trauma  \n0        0.0        0.0     0.0  \n1        0.0        0.0     0.0  \n2        0.0        0.0     0.0  \n3        0.0        0.0     0.0  \n4        0.0        0.0     0.0  \n...      ...        ...     ...  \n2525747  0.0        1.0     0.0  \n2525748  0.0        1.0     0.0  \n2525749  0.0        1.0     0.0  \n2525750  0.0        1.0     0.0  \n2525751  0.0        1.0     0.0  \n\n[2525752 rows x 8 columns]",
      "text/html": "<div>\n<style scoped>\n    .dataframe tbody tr th:only-of-type {\n        vertical-align: middle;\n    }\n\n    .dataframe tbody tr th {\n        vertical-align: top;\n    }\n\n    .dataframe thead th {\n        text-align: right;\n    }\n</style>\n<table border=\"1\" class=\"dataframe\">\n  <thead>\n    <tr style=\"text-align: right;\">\n      <th></th>\n      <th>Age</th>\n      <th>Gender</th>\n      <th>Race</th>\n      <th>SexualOrientation</th>\n      <th>m_income</th>\n      <th>Scz</th>\n      <th>Substance</th>\n      <th>Trauma</th>\n    </tr>\n  </thead>\n  <tbody>\n    <tr>\n      <th>0</th>\n      <td>48.0</td>\n      <td>Female</td>\n      <td>White</td>\n      <td>NaN</td>\n      <td>58669.0</td>\n      <td>0.0</td>\n      <td>0.0</td>\n      <td>0.0</td>\n    </tr>\n    <tr>\n      <th>1</th>\n      <td>48.0</td>\n      <td>Female</td>\n      <td>White</td>\n      <td>NaN</td>\n      <td>63048.0</td>\n      <td>0.0</td>\n      <td>0.0</td>\n      <td>0.0</td>\n    </tr>\n    <tr>\n      <th>2</th>\n      <td>48.0</td>\n      <td>Female</td>\n      <td>White</td>\n      <td>NaN</td>\n      <td>NaN</td>\n      <td>0.0</td>\n      <td>0.0</td>\n      <td>0.0</td>\n    </tr>\n    <tr>\n      <th>3</th>\n      <td>58.0</td>\n      <td>Female</td>\n      <td>Black or African-American</td>\n      <td>NaN</td>\n      <td>68542.0</td>\n      <td>0.0</td>\n      <td>0.0</td>\n      <td>0.0</td>\n    </tr>\n    <tr>\n      <th>4</th>\n      <td>58.0</td>\n      <td>Female</td>\n      <td>Black or African-American</td>\n      <td>NaN</td>\n      <td>148282.0</td>\n      <td>0.0</td>\n      <td>0.0</td>\n      <td>0.0</td>\n    </tr>\n    <tr>\n      <th>...</th>\n      <td>...</td>\n      <td>...</td>\n      <td>...</td>\n      <td>...</td>\n      <td>...</td>\n      <td>...</td>\n      <td>...</td>\n      <td>...</td>\n    </tr>\n    <tr>\n      <th>2525747</th>\n      <td>23.0</td>\n      <td>Female</td>\n      <td>White</td>\n      <td>NaN</td>\n      <td>NaN</td>\n      <td>0.0</td>\n      <td>1.0</td>\n      <td>0.0</td>\n    </tr>\n    <tr>\n      <th>2525748</th>\n      <td>24.0</td>\n      <td>Female</td>\n      <td>White</td>\n      <td>NaN</td>\n      <td>NaN</td>\n      <td>0.0</td>\n      <td>1.0</td>\n      <td>0.0</td>\n    </tr>\n    <tr>\n      <th>2525749</th>\n      <td>20.0</td>\n      <td>Male</td>\n      <td>Black or African-American</td>\n      <td>NaN</td>\n      <td>105538.0</td>\n      <td>0.0</td>\n      <td>1.0</td>\n      <td>0.0</td>\n    </tr>\n    <tr>\n      <th>2525750</th>\n      <td>20.0</td>\n      <td>Female</td>\n      <td>Black or African-American</td>\n      <td>NaN</td>\n      <td>105538.0</td>\n      <td>0.0</td>\n      <td>1.0</td>\n      <td>0.0</td>\n    </tr>\n    <tr>\n      <th>2525751</th>\n      <td>26.0</td>\n      <td>Male</td>\n      <td>Black or African-American</td>\n      <td>NaN</td>\n      <td>NaN</td>\n      <td>0.0</td>\n      <td>1.0</td>\n      <td>0.0</td>\n    </tr>\n  </tbody>\n</table>\n<p>2525752 rows × 8 columns</p>\n</div>"
     },
     "execution_count": 8,
     "metadata": {},
     "output_type": "execute_result"
    }
   ],
   "source": [
    "# blackwhite_malefemale_psych_nonpsych['Scz'] = blackwhite_malefemale_psych_nonpsych['Scz'].fillna(0)\n",
    "# blackwhite_malefemale_psych_nonpsych['Substance'] = blackwhite_malefemale_psych_nonpsych['Substance'].fillna(0)\n",
    "# blackwhite_malefemale_psych_nonpsych['Trauma'] = blackwhite_malefemale_psych_nonpsych['Trauma'].fillna(0)\n",
    "# blackwhite_malefemale_psych_nonpsych\n",
    "\n",
    "blackwhite_queer_psych_nonpsych['Scz'] = blackwhite_queer_psych_nonpsych['Scz'].fillna(0)\n",
    "blackwhite_queer_psych_nonpsych['Substance'] = blackwhite_queer_psych_nonpsych['Substance'].fillna(0)\n",
    "blackwhite_queer_psych_nonpsych['Trauma'] = blackwhite_queer_psych_nonpsych['Trauma'].fillna(0)\n",
    "blackwhite_queer_psych_nonpsych"
   ],
   "metadata": {
    "collapsed": false,
    "pycharm": {
     "name": "#%%\n"
    }
   }
  },
  {
   "cell_type": "code",
   "execution_count": 9,
   "outputs": [],
   "source": [
    "# blackwhite_malefemale_psych_nonpsych['m_income'] = blackwhite_malefemale_psych_nonpsych['m_income'].fillna('NA')\n",
    "\n",
    "blackwhite_queer_psych_nonpsych['m_income'] = blackwhite_queer_psych_nonpsych['m_income'].fillna('NA')"
   ],
   "metadata": {
    "collapsed": false,
    "pycharm": {
     "name": "#%%\n"
    }
   }
  },
  {
   "cell_type": "code",
   "execution_count": 10,
   "outputs": [],
   "source": [
    "# pd.DataFrame.to_csv(blackwhite_malefemale_psych_nonpsych, \"/Users/valena17/psych_nlp/data/blackwhite_malefemale_psychONLYscz_nonpsych.csv\",index = False)\n",
    "\n",
    "pd.DataFrame.to_csv(blackwhite_queer_psych_nonpsych, \"/Users/valena17/psych_nlp/data/blackwhite_queer_psych_nonpsych.csv\",index = False)"
   ],
   "metadata": {
    "collapsed": false,
    "pycharm": {
     "name": "#%%\n"
    }
   }
  },
  {
   "cell_type": "code",
   "execution_count": 18,
   "outputs": [
    {
     "data": {
      "text/plain": "4595338    14\n971952     13\n8376107    13\n8560869    13\n7510030    13\n           ..\n7299789     1\n7299790     1\n7299791     1\n7299792     1\n7530192     1\nName: PrimaryMrn, Length: 5904805, dtype: int64"
     },
     "execution_count": 18,
     "metadata": {},
     "output_type": "execute_result"
    }
   ],
   "source": [
    "nonpsych_patients = nonpsych_patients[~nonpsych_patients.PrimaryMrn.isin(list(set(nonscz_psych_patients.PrimaryMrn)))]\n",
    "nonpsych_patients = nonpsych_patients[~nonpsych_patients.PrimaryMrn.isin(list(set(scz_patients_demographics.PrimaryMrn)))]\n",
    "nonpsych_patients = nonpsych_patients[nonpsych_patients[\"PrimaryMrn\"].str.contains(\"<TMP\") == False]\n",
    "nonpsych_patients = nonpsych_patients[nonpsych_patients[\"PrimaryMrn\"].str.contains(\"Not\") == False]\n",
    "nonpsych_patients = nonpsych_patients[nonpsych_patients[\"PrimaryMrn\"].str.contains(\"Delet\") == False]\n",
    "nonpsych_patients['PrimaryMrn'].value_counts(dropna=False)"
   ],
   "metadata": {
    "collapsed": false,
    "pycharm": {
     "name": "#%%\n"
    }
   }
  },
  {
   "cell_type": "code",
   "execution_count": 19,
   "outputs": [],
   "source": [
    "nonpsych_patients = nonpsych_patients.replace(['Unknown', '*Unknown','*Unspecified', 'Choose not to disclose', 'Not recorded on birth certificate','*Not Applicable', 'Indeterminate', 'Uncertain', 'UNKNOWN', 'PATIENT DECLINED', '*Deleted'], np.nan)"
   ],
   "metadata": {
    "collapsed": false,
    "pycharm": {
     "name": "#%%\n"
    }
   }
  },
  {
   "cell_type": "code",
   "execution_count": 20,
   "outputs": [
    {
     "name": "stdout",
     "output_type": "stream",
     "text": [
      "NaN                      6442972\n",
      "Female                    653837\n",
      "Male                      455460\n",
      "Non-binary                  3499\n",
      "Gender Non-conforming       1122\n",
      "Transgender Female          1089\n",
      "Gender Queer                 982\n",
      "Transgender Male             761\n",
      "Other                        556\n",
      "Name: GenderIdentity, dtype: int64 NaN                        7521594\n",
      "Not Hispanic or Latino       31296\n",
      "Puerto Rican                  1891\n",
      "Dominican                     1452\n",
      "Latin American                1294\n",
      "Ecuadorian                     514\n",
      "Colombian                      421\n",
      "Mexican                        361\n",
      "Peruvian                       157\n",
      "Salvadoran                     153\n",
      "South American                 142\n",
      "Cuban                          104\n",
      "Honduran                        93\n",
      "Spaniard                        85\n",
      "Argentinean                     72\n",
      "Guatemalan                      67\n",
      "Uruguayan                       67\n",
      "Central American                65\n",
      "Mexican American                64\n",
      "Venezuelan                      60\n",
      "Panamanian                      49\n",
      "Chilean                         47\n",
      "Nicaraguan                      40\n",
      "Hispanic or Latino              34\n",
      "Andalusian                      27\n",
      "Bolivian                        27\n",
      "Costa Rican                     18\n",
      "Mexicano                        17\n",
      "Spanish Basque                  17\n",
      "Paraguayan                      12\n",
      "Catalonian                      10\n",
      "Gallego                          6\n",
      "Criollo                          5\n",
      "La Raza                          4\n",
      "Canarian                         3\n",
      "South American Indian            3\n",
      "Chicano                          3\n",
      "Mexican American Indian          2\n",
      "Castillian                       2\n",
      "Name: Ethnicity, dtype: int64 NaN                          3147589\n",
      "WHITE                        2072144\n",
      "OTHER                        1046604\n",
      "AFRICAN-AMERICAN              509066\n",
      "Black or African-American     206922\n",
      "                              ...   \n",
      "SAMOAN                            26\n",
      "PALAUAN                           23\n",
      "IWO JIMAN                         19\n",
      "MICRONESIAN                        5\n",
      "SOLOMON ISLANDER                   4\n",
      "Name: FirstRace, Length: 94, dtype: int64 0.0    7467735\n",
      "1.0      92542\n",
      "NaN          1\n",
      "Name: MultiRacial, dtype: int64 10029         171612\n",
      "10025         145669\n",
      "NaN           113716\n",
      "10024          87082\n",
      "10023          85696\n",
      "               ...  \n",
      "60202-1499         1\n",
      "11236-1357         1\n",
      "06820-5526         1\n",
      "11216-3087         1\n",
      "11432-4436         1\n",
      "Name: PostalCode, Length: 422976, dtype: int64\n"
     ]
    }
   ],
   "source": [
    "print(nonpsych_patients.GenderIdentity.value_counts(dropna=False),\n",
    "      nonpsych_patients.Ethnicity.value_counts(dropna=False),\n",
    "      nonpsych_patients.FirstRace.value_counts(dropna=False),\n",
    "      nonpsych_patients.MultiRacial.value_counts(dropna=False),\n",
    "      nonpsych_patients.PostalCode.value_counts(dropna=False))"
   ],
   "metadata": {
    "collapsed": false,
    "pycharm": {
     "name": "#%%\n"
    }
   }
  },
  {
   "cell_type": "code",
   "execution_count": 21,
   "outputs": [
    {
     "data": {
      "text/plain": "Female                   4188242\nMale                     3359150\nNaN                         4877\nNon-binary                  3499\nGender Non-conforming       1122\nTransgender Female          1089\nGender Queer                 982\nTransgender Male             761\nOther                        556\nName: Merged_Gender, dtype: int64"
     },
     "execution_count": 21,
     "metadata": {},
     "output_type": "execute_result"
    }
   ],
   "source": [
    "nonpsych_patients['Merged_Gender'] = nonpsych_patients['GenderIdentity']\n",
    "nonpsych_patients['Merged_Gender'] = nonpsych_patients['Merged_Gender'].fillna(nonpsych_patients['Sex'])\n",
    "nonpsych_patients.Merged_Gender.value_counts(dropna=False)"
   ],
   "metadata": {
    "collapsed": false,
    "pycharm": {
     "name": "#%%\n"
    }
   }
  },
  {
   "cell_type": "code",
   "execution_count": 22,
   "outputs": [
    {
     "name": "stderr",
     "output_type": "stream",
     "text": [
      "/var/folders/xm/m4dy5bvs1fn7fb9wxjhsg4dc0000gn/T/ipykernel_25011/1780796154.py:3: SettingWithCopyWarning: \n",
      "A value is trying to be set on a copy of a slice from a DataFrame\n",
      "\n",
      "See the caveats in the documentation: https://pandas.pydata.org/pandas-docs/stable/user_guide/indexing.html#returning-a-view-versus-a-copy\n",
      "  nonpsych_patients.Ethnicity_v2.loc[~nonpsych_patients.Ethnicity_v2.isnull()] = 1\n"
     ]
    },
    {
     "data": {
      "text/plain": "NaN    7521594\nNaN      31296\n1.0       7388\nName: Ethnicity_v2, dtype: int64"
     },
     "execution_count": 22,
     "metadata": {},
     "output_type": "execute_result"
    }
   ],
   "source": [
    "nonpsych_patients['Ethnicity_v2'] = nonpsych_patients['Ethnicity']\n",
    "nonpsych_patients.Ethnicity_v2 = nonpsych_patients.Ethnicity_v2.replace('Not Hispanic or Latino', None)\n",
    "nonpsych_patients.Ethnicity_v2.loc[~nonpsych_patients.Ethnicity_v2.isnull()] = 1\n",
    "nonpsych_patients.Ethnicity_v2.value_counts(dropna=False)"
   ],
   "metadata": {
    "collapsed": false,
    "pycharm": {
     "name": "#%%\n"
    }
   }
  },
  {
   "cell_type": "code",
   "execution_count": 23,
   "outputs": [
    {
     "data": {
      "text/plain": "White                                        2072144\nOther Race                                   1046604\nBlack or African-American                     766856\nAsian                                         263808\nHispanic or Latino                            130220\nNative Hawaiian or Other Pacific Islander     100349\nAmerican Indian or Alaska Native                7329\nName: Race, dtype: int64"
     },
     "execution_count": 23,
     "metadata": {},
     "output_type": "execute_result"
    }
   ],
   "source": [
    "race_ethnicity_mapping = pd.read_csv('../data/race_ethnicity_mapping.csv')\n",
    "nonpsych_patients = pd.merge(nonpsych_patients, race_ethnicity_mapping, on=\"FirstRace\")\n",
    "nonpsych_patients.Race.value_counts(dropna=False)"
   ],
   "metadata": {
    "collapsed": false,
    "pycharm": {
     "name": "#%%\n"
    }
   }
  },
  {
   "cell_type": "code",
   "execution_count": 24,
   "outputs": [
    {
     "data": {
      "text/plain": "White                                        2063188\nOther Race                                   1029786\nBlack or African-American                     741554\nAsian                                         248065\nHispanic or Latino                            134798\nNative Hawaiian or Other Pacific Islander      97894\nMixed racial group                             65736\nAmerican Indian or Alaska Native                6289\nName: Race_2, dtype: int64"
     },
     "execution_count": 24,
     "metadata": {},
     "output_type": "execute_result"
    }
   ],
   "source": [
    "def multiracial(x):\n",
    "    if x.MultiRacial == 1:\n",
    "        return 'Mixed racial group'\n",
    "    if x.Ethnicity_v2 == 1 and x.Race == 'Other Race':\n",
    "        return 'Hispanic or Latino'\n",
    "    if x.Ethnicity_v2 == 1 and x.Race == 'NaN':\n",
    "            return 'Hispanic or Latino'\n",
    "    else:\n",
    "        return x.Race\n",
    "\n",
    "# scz_notes = scz_notes.apply(multiracial)\n",
    "nonpsych_patients['Race_2'] = nonpsych_patients.apply(lambda row: multiracial(row), axis=1)\n",
    "nonpsych_patients.Race_2.value_counts(dropna=False)"
   ],
   "metadata": {
    "collapsed": false,
    "pycharm": {
     "name": "#%%\n"
    }
   }
  },
  {
   "cell_type": "code",
   "execution_count": 25,
   "outputs": [],
   "source": [
    "nonpsych_patients.PostalCode = nonpsych_patients.PostalCode.str[:5]\n",
    "nonpsych_patients.PostalCode = nonpsych_patients.PostalCode.replace(['99999', '00000'],np.nan)\n",
    "income = pd.read_csv('/Users/valena17/psych_nlp/data/zipcode_income.csv')\n",
    "income = income.replace(['-'],np.nan)\n",
    "income.PostalCode = income.PostalCode.str[-5:]\n",
    "\n",
    "income['2021_Median_Hincome'] = income['2021_Median_Hincome'].replace(['250,000+'],'250000')\n",
    "income['2021_Median_Hincome'] = income['2021_Median_Hincome'].replace(['2,500-'],'2500')\n",
    "income['2021_Median_Hincome']=income['2021_Median_Hincome'].values.astype(float)\n",
    "\n",
    "nonpsych_patients = pd.merge(nonpsych_patients,income, on=['PostalCode'], how='left')\n",
    "nonpsych_patients['2021_Median_Hincome'] = nonpsych_patients['2021_Median_Hincome'].replace(['250,000+'],'250000')\n",
    "nonpsych_patients['2021_Median_Hincome']=nonpsych_patients['2021_Median_Hincome'].values.astype(float)"
   ],
   "metadata": {
    "collapsed": false,
    "pycharm": {
     "name": "#%%\n"
    }
   }
  },
  {
   "cell_type": "code",
   "execution_count": 28,
   "outputs": [],
   "source": [
    "nonpsych_patients = nonpsych_patients.rename(columns={'Merged_Gender' : 'Gender',\n",
    "                                                                                          'Race_2' : 'Race',\n",
    "                                                                                          'Anxiety and fear-related disorders' : 'Anx',\n",
    "                                                                                          'Bipolar and related disorders' : 'Bpd',\n",
    "                                                                                          'Depressive disorders' : 'Dep',\n",
    "                                                                                          'Schizophrenia spectrum and other psychotic disorders' : 'Scz',\n",
    "                                                                                          'Substance-related disorders' : 'Substance',\n",
    "                                                                                          'Trauma- and stressor-related disorders' : 'Trauma',\n",
    "                                                                                          '2021_Median_Hincome' : 'm_income'})"
   ],
   "metadata": {
    "collapsed": false,
    "pycharm": {
     "name": "#%%\n"
    }
   }
  },
  {
   "cell_type": "code",
   "execution_count": 29,
   "outputs": [],
   "source": [
    "nonpsych_patients['m_income'] = nonpsych_patients['m_income'].fillna('NA')"
   ],
   "metadata": {
    "collapsed": false,
    "pycharm": {
     "name": "#%%\n"
    }
   }
  },
  {
   "cell_type": "code",
   "execution_count": 33,
   "outputs": [
    {
     "name": "stderr",
     "output_type": "stream",
     "text": [
      "/var/folders/xm/m4dy5bvs1fn7fb9wxjhsg4dc0000gn/T/ipykernel_25011/243695689.py:2: FutureWarning: reindexing with a non-unique Index is deprecated and will raise in a future version.\n",
      "  nonpsych_patients_blackwhite = nonpsych_patients_blackwhite[nonpsych_patients_blackwhite['Race'].isin(['Black or African-American', 'White'])]\n"
     ]
    },
    {
     "ename": "ValueError",
     "evalue": "cannot reindex on an axis with duplicate labels",
     "output_type": "error",
     "traceback": [
      "\u001B[0;31m---------------------------------------------------------------------------\u001B[0m",
      "\u001B[0;31mValueError\u001B[0m                                Traceback (most recent call last)",
      "Cell \u001B[0;32mIn [33], line 2\u001B[0m\n\u001B[1;32m      1\u001B[0m nonpsych_patients_blackwhite \u001B[38;5;241m=\u001B[39m nonpsych_patients\n\u001B[0;32m----> 2\u001B[0m nonpsych_patients_blackwhite \u001B[38;5;241m=\u001B[39m \u001B[43mnonpsych_patients_blackwhite\u001B[49m\u001B[43m[\u001B[49m\u001B[43mnonpsych_patients_blackwhite\u001B[49m\u001B[43m[\u001B[49m\u001B[38;5;124;43m'\u001B[39;49m\u001B[38;5;124;43mRace\u001B[39;49m\u001B[38;5;124;43m'\u001B[39;49m\u001B[43m]\u001B[49m\u001B[38;5;241;43m.\u001B[39;49m\u001B[43misin\u001B[49m\u001B[43m(\u001B[49m\u001B[43m[\u001B[49m\u001B[38;5;124;43m'\u001B[39;49m\u001B[38;5;124;43mBlack or African-American\u001B[39;49m\u001B[38;5;124;43m'\u001B[39;49m\u001B[43m,\u001B[49m\u001B[43m \u001B[49m\u001B[38;5;124;43m'\u001B[39;49m\u001B[38;5;124;43mWhite\u001B[39;49m\u001B[38;5;124;43m'\u001B[39;49m\u001B[43m]\u001B[49m\u001B[43m)\u001B[49m\u001B[43m]\u001B[49m\n\u001B[1;32m      3\u001B[0m nonpsych_patients_blackwhite_malefemale \u001B[38;5;241m=\u001B[39m nonpsych_patients_blackwhite[nonpsych_patients_blackwhite[\u001B[38;5;124m'\u001B[39m\u001B[38;5;124mGender\u001B[39m\u001B[38;5;124m'\u001B[39m]\u001B[38;5;241m.\u001B[39misin([\u001B[38;5;124m'\u001B[39m\u001B[38;5;124mFemale\u001B[39m\u001B[38;5;124m'\u001B[39m, \u001B[38;5;124m'\u001B[39m\u001B[38;5;124mMale\u001B[39m\u001B[38;5;124m'\u001B[39m])]\n",
      "File \u001B[0;32m~/psych_nlp/psych_note_venv/lib/python3.8/site-packages/pandas/core/frame.py:3492\u001B[0m, in \u001B[0;36mDataFrame.__getitem__\u001B[0;34m(self, key)\u001B[0m\n\u001B[1;32m   3490\u001B[0m \u001B[38;5;66;03m# Do we have a (boolean) DataFrame?\u001B[39;00m\n\u001B[1;32m   3491\u001B[0m \u001B[38;5;28;01mif\u001B[39;00m \u001B[38;5;28misinstance\u001B[39m(key, DataFrame):\n\u001B[0;32m-> 3492\u001B[0m     \u001B[38;5;28;01mreturn\u001B[39;00m \u001B[38;5;28;43mself\u001B[39;49m\u001B[38;5;241;43m.\u001B[39;49m\u001B[43mwhere\u001B[49m\u001B[43m(\u001B[49m\u001B[43mkey\u001B[49m\u001B[43m)\u001B[49m\n\u001B[1;32m   3494\u001B[0m \u001B[38;5;66;03m# Do we have a (boolean) 1d indexer?\u001B[39;00m\n\u001B[1;32m   3495\u001B[0m \u001B[38;5;28;01mif\u001B[39;00m com\u001B[38;5;241m.\u001B[39mis_bool_indexer(key):\n",
      "File \u001B[0;32m~/psych_nlp/psych_note_venv/lib/python3.8/site-packages/pandas/util/_decorators.py:311\u001B[0m, in \u001B[0;36mdeprecate_nonkeyword_arguments.<locals>.decorate.<locals>.wrapper\u001B[0;34m(*args, **kwargs)\u001B[0m\n\u001B[1;32m    305\u001B[0m \u001B[38;5;28;01mif\u001B[39;00m \u001B[38;5;28mlen\u001B[39m(args) \u001B[38;5;241m>\u001B[39m num_allow_args:\n\u001B[1;32m    306\u001B[0m     warnings\u001B[38;5;241m.\u001B[39mwarn(\n\u001B[1;32m    307\u001B[0m         msg\u001B[38;5;241m.\u001B[39mformat(arguments\u001B[38;5;241m=\u001B[39marguments),\n\u001B[1;32m    308\u001B[0m         \u001B[38;5;167;01mFutureWarning\u001B[39;00m,\n\u001B[1;32m    309\u001B[0m         stacklevel\u001B[38;5;241m=\u001B[39mstacklevel,\n\u001B[1;32m    310\u001B[0m     )\n\u001B[0;32m--> 311\u001B[0m \u001B[38;5;28;01mreturn\u001B[39;00m \u001B[43mfunc\u001B[49m\u001B[43m(\u001B[49m\u001B[38;5;241;43m*\u001B[39;49m\u001B[43margs\u001B[49m\u001B[43m,\u001B[49m\u001B[43m \u001B[49m\u001B[38;5;241;43m*\u001B[39;49m\u001B[38;5;241;43m*\u001B[39;49m\u001B[43mkwargs\u001B[49m\u001B[43m)\u001B[49m\n",
      "File \u001B[0;32m~/psych_nlp/psych_note_venv/lib/python3.8/site-packages/pandas/core/frame.py:10964\u001B[0m, in \u001B[0;36mDataFrame.where\u001B[0;34m(self, cond, other, inplace, axis, level, errors, try_cast)\u001B[0m\n\u001B[1;32m  10951\u001B[0m \u001B[38;5;129m@deprecate_nonkeyword_arguments\u001B[39m(\n\u001B[1;32m  10952\u001B[0m     version\u001B[38;5;241m=\u001B[39m\u001B[38;5;28;01mNone\u001B[39;00m, allowed_args\u001B[38;5;241m=\u001B[39m[\u001B[38;5;124m\"\u001B[39m\u001B[38;5;124mself\u001B[39m\u001B[38;5;124m\"\u001B[39m, \u001B[38;5;124m\"\u001B[39m\u001B[38;5;124mcond\u001B[39m\u001B[38;5;124m\"\u001B[39m, \u001B[38;5;124m\"\u001B[39m\u001B[38;5;124mother\u001B[39m\u001B[38;5;124m\"\u001B[39m]\n\u001B[1;32m  10953\u001B[0m )\n\u001B[0;32m   (...)\u001B[0m\n\u001B[1;32m  10962\u001B[0m     try_cast\u001B[38;5;241m=\u001B[39mlib\u001B[38;5;241m.\u001B[39mno_default,\n\u001B[1;32m  10963\u001B[0m ):\n\u001B[0;32m> 10964\u001B[0m     \u001B[38;5;28;01mreturn\u001B[39;00m \u001B[38;5;28;43msuper\u001B[39;49m\u001B[43m(\u001B[49m\u001B[43m)\u001B[49m\u001B[38;5;241;43m.\u001B[39;49m\u001B[43mwhere\u001B[49m\u001B[43m(\u001B[49m\u001B[43mcond\u001B[49m\u001B[43m,\u001B[49m\u001B[43m \u001B[49m\u001B[43mother\u001B[49m\u001B[43m,\u001B[49m\u001B[43m \u001B[49m\u001B[43minplace\u001B[49m\u001B[43m,\u001B[49m\u001B[43m \u001B[49m\u001B[43maxis\u001B[49m\u001B[43m,\u001B[49m\u001B[43m \u001B[49m\u001B[43mlevel\u001B[49m\u001B[43m,\u001B[49m\u001B[43m \u001B[49m\u001B[43merrors\u001B[49m\u001B[43m,\u001B[49m\u001B[43m \u001B[49m\u001B[43mtry_cast\u001B[49m\u001B[43m)\u001B[49m\n",
      "File \u001B[0;32m~/psych_nlp/psych_note_venv/lib/python3.8/site-packages/pandas/core/generic.py:9315\u001B[0m, in \u001B[0;36mNDFrame.where\u001B[0;34m(self, cond, other, inplace, axis, level, errors, try_cast)\u001B[0m\n\u001B[1;32m   9307\u001B[0m \u001B[38;5;28;01mif\u001B[39;00m try_cast \u001B[38;5;129;01mis\u001B[39;00m \u001B[38;5;129;01mnot\u001B[39;00m lib\u001B[38;5;241m.\u001B[39mno_default:\n\u001B[1;32m   9308\u001B[0m     warnings\u001B[38;5;241m.\u001B[39mwarn(\n\u001B[1;32m   9309\u001B[0m         \u001B[38;5;124m\"\u001B[39m\u001B[38;5;124mtry_cast keyword is deprecated and will be removed in a \u001B[39m\u001B[38;5;124m\"\u001B[39m\n\u001B[1;32m   9310\u001B[0m         \u001B[38;5;124m\"\u001B[39m\u001B[38;5;124mfuture version.\u001B[39m\u001B[38;5;124m\"\u001B[39m,\n\u001B[1;32m   9311\u001B[0m         \u001B[38;5;167;01mFutureWarning\u001B[39;00m,\n\u001B[1;32m   9312\u001B[0m         stacklevel\u001B[38;5;241m=\u001B[39mfind_stack_level(),\n\u001B[1;32m   9313\u001B[0m     )\n\u001B[0;32m-> 9315\u001B[0m \u001B[38;5;28;01mreturn\u001B[39;00m \u001B[38;5;28;43mself\u001B[39;49m\u001B[38;5;241;43m.\u001B[39;49m\u001B[43m_where\u001B[49m\u001B[43m(\u001B[49m\u001B[43mcond\u001B[49m\u001B[43m,\u001B[49m\u001B[43m \u001B[49m\u001B[43mother\u001B[49m\u001B[43m,\u001B[49m\u001B[43m \u001B[49m\u001B[43minplace\u001B[49m\u001B[43m,\u001B[49m\u001B[43m \u001B[49m\u001B[43maxis\u001B[49m\u001B[43m,\u001B[49m\u001B[43m \u001B[49m\u001B[43mlevel\u001B[49m\u001B[43m,\u001B[49m\u001B[43m \u001B[49m\u001B[43merrors\u001B[49m\u001B[38;5;241;43m=\u001B[39;49m\u001B[43merrors\u001B[49m\u001B[43m)\u001B[49m\n",
      "File \u001B[0;32m~/psych_nlp/psych_note_venv/lib/python3.8/site-packages/pandas/core/generic.py:9082\u001B[0m, in \u001B[0;36mNDFrame._where\u001B[0;34m(self, cond, other, inplace, axis, level, errors)\u001B[0m\n\u001B[1;32m   9079\u001B[0m     cond \u001B[38;5;241m=\u001B[39m cond\u001B[38;5;241m.\u001B[39mastype(\u001B[38;5;28mbool\u001B[39m)\n\u001B[1;32m   9081\u001B[0m cond \u001B[38;5;241m=\u001B[39m \u001B[38;5;241m-\u001B[39mcond \u001B[38;5;28;01mif\u001B[39;00m inplace \u001B[38;5;28;01melse\u001B[39;00m cond\n\u001B[0;32m-> 9082\u001B[0m cond \u001B[38;5;241m=\u001B[39m \u001B[43mcond\u001B[49m\u001B[38;5;241;43m.\u001B[39;49m\u001B[43mreindex\u001B[49m\u001B[43m(\u001B[49m\u001B[38;5;28;43mself\u001B[39;49m\u001B[38;5;241;43m.\u001B[39;49m\u001B[43m_info_axis\u001B[49m\u001B[43m,\u001B[49m\u001B[43m \u001B[49m\u001B[43maxis\u001B[49m\u001B[38;5;241;43m=\u001B[39;49m\u001B[38;5;28;43mself\u001B[39;49m\u001B[38;5;241;43m.\u001B[39;49m\u001B[43m_info_axis_number\u001B[49m\u001B[43m,\u001B[49m\u001B[43m \u001B[49m\u001B[43mcopy\u001B[49m\u001B[38;5;241;43m=\u001B[39;49m\u001B[38;5;28;43;01mFalse\u001B[39;49;00m\u001B[43m)\u001B[49m\n\u001B[1;32m   9084\u001B[0m \u001B[38;5;66;03m# try to align with other\u001B[39;00m\n\u001B[1;32m   9085\u001B[0m \u001B[38;5;28;01mif\u001B[39;00m \u001B[38;5;28misinstance\u001B[39m(other, NDFrame):\n\u001B[1;32m   9086\u001B[0m \n\u001B[1;32m   9087\u001B[0m     \u001B[38;5;66;03m# align with me\u001B[39;00m\n",
      "File \u001B[0;32m~/psych_nlp/psych_note_venv/lib/python3.8/site-packages/pandas/util/_decorators.py:324\u001B[0m, in \u001B[0;36mrewrite_axis_style_signature.<locals>.decorate.<locals>.wrapper\u001B[0;34m(*args, **kwargs)\u001B[0m\n\u001B[1;32m    322\u001B[0m \u001B[38;5;129m@wraps\u001B[39m(func)\n\u001B[1;32m    323\u001B[0m \u001B[38;5;28;01mdef\u001B[39;00m \u001B[38;5;21mwrapper\u001B[39m(\u001B[38;5;241m*\u001B[39margs, \u001B[38;5;241m*\u001B[39m\u001B[38;5;241m*\u001B[39mkwargs) \u001B[38;5;241m-\u001B[39m\u001B[38;5;241m>\u001B[39m Callable[\u001B[38;5;241m.\u001B[39m\u001B[38;5;241m.\u001B[39m\u001B[38;5;241m.\u001B[39m, Any]:\n\u001B[0;32m--> 324\u001B[0m     \u001B[38;5;28;01mreturn\u001B[39;00m \u001B[43mfunc\u001B[49m\u001B[43m(\u001B[49m\u001B[38;5;241;43m*\u001B[39;49m\u001B[43margs\u001B[49m\u001B[43m,\u001B[49m\u001B[43m \u001B[49m\u001B[38;5;241;43m*\u001B[39;49m\u001B[38;5;241;43m*\u001B[39;49m\u001B[43mkwargs\u001B[49m\u001B[43m)\u001B[49m\n",
      "File \u001B[0;32m~/psych_nlp/psych_note_venv/lib/python3.8/site-packages/pandas/core/frame.py:4807\u001B[0m, in \u001B[0;36mDataFrame.reindex\u001B[0;34m(self, *args, **kwargs)\u001B[0m\n\u001B[1;32m   4805\u001B[0m kwargs\u001B[38;5;241m.\u001B[39mpop(\u001B[38;5;124m\"\u001B[39m\u001B[38;5;124maxis\u001B[39m\u001B[38;5;124m\"\u001B[39m, \u001B[38;5;28;01mNone\u001B[39;00m)\n\u001B[1;32m   4806\u001B[0m kwargs\u001B[38;5;241m.\u001B[39mpop(\u001B[38;5;124m\"\u001B[39m\u001B[38;5;124mlabels\u001B[39m\u001B[38;5;124m\"\u001B[39m, \u001B[38;5;28;01mNone\u001B[39;00m)\n\u001B[0;32m-> 4807\u001B[0m \u001B[38;5;28;01mreturn\u001B[39;00m \u001B[38;5;28;43msuper\u001B[39;49m\u001B[43m(\u001B[49m\u001B[43m)\u001B[49m\u001B[38;5;241;43m.\u001B[39;49m\u001B[43mreindex\u001B[49m\u001B[43m(\u001B[49m\u001B[38;5;241;43m*\u001B[39;49m\u001B[38;5;241;43m*\u001B[39;49m\u001B[43mkwargs\u001B[49m\u001B[43m)\u001B[49m\n",
      "File \u001B[0;32m~/psych_nlp/psych_note_venv/lib/python3.8/site-packages/pandas/core/generic.py:4966\u001B[0m, in \u001B[0;36mNDFrame.reindex\u001B[0;34m(self, *args, **kwargs)\u001B[0m\n\u001B[1;32m   4963\u001B[0m     \u001B[38;5;28;01mreturn\u001B[39;00m \u001B[38;5;28mself\u001B[39m\u001B[38;5;241m.\u001B[39m_reindex_multi(axes, copy, fill_value)\n\u001B[1;32m   4965\u001B[0m \u001B[38;5;66;03m# perform the reindex on the axes\u001B[39;00m\n\u001B[0;32m-> 4966\u001B[0m \u001B[38;5;28;01mreturn\u001B[39;00m \u001B[38;5;28;43mself\u001B[39;49m\u001B[38;5;241;43m.\u001B[39;49m\u001B[43m_reindex_axes\u001B[49m\u001B[43m(\u001B[49m\n\u001B[1;32m   4967\u001B[0m \u001B[43m    \u001B[49m\u001B[43maxes\u001B[49m\u001B[43m,\u001B[49m\u001B[43m \u001B[49m\u001B[43mlevel\u001B[49m\u001B[43m,\u001B[49m\u001B[43m \u001B[49m\u001B[43mlimit\u001B[49m\u001B[43m,\u001B[49m\u001B[43m \u001B[49m\u001B[43mtolerance\u001B[49m\u001B[43m,\u001B[49m\u001B[43m \u001B[49m\u001B[43mmethod\u001B[49m\u001B[43m,\u001B[49m\u001B[43m \u001B[49m\u001B[43mfill_value\u001B[49m\u001B[43m,\u001B[49m\u001B[43m \u001B[49m\u001B[43mcopy\u001B[49m\n\u001B[1;32m   4968\u001B[0m \u001B[43m\u001B[49m\u001B[43m)\u001B[49m\u001B[38;5;241m.\u001B[39m__finalize__(\u001B[38;5;28mself\u001B[39m, method\u001B[38;5;241m=\u001B[39m\u001B[38;5;124m\"\u001B[39m\u001B[38;5;124mreindex\u001B[39m\u001B[38;5;124m\"\u001B[39m)\n",
      "File \u001B[0;32m~/psych_nlp/psych_note_venv/lib/python3.8/site-packages/pandas/core/frame.py:4620\u001B[0m, in \u001B[0;36mDataFrame._reindex_axes\u001B[0;34m(self, axes, level, limit, tolerance, method, fill_value, copy)\u001B[0m\n\u001B[1;32m   4618\u001B[0m columns \u001B[38;5;241m=\u001B[39m axes[\u001B[38;5;124m\"\u001B[39m\u001B[38;5;124mcolumns\u001B[39m\u001B[38;5;124m\"\u001B[39m]\n\u001B[1;32m   4619\u001B[0m \u001B[38;5;28;01mif\u001B[39;00m columns \u001B[38;5;129;01mis\u001B[39;00m \u001B[38;5;129;01mnot\u001B[39;00m \u001B[38;5;28;01mNone\u001B[39;00m:\n\u001B[0;32m-> 4620\u001B[0m     frame \u001B[38;5;241m=\u001B[39m \u001B[43mframe\u001B[49m\u001B[38;5;241;43m.\u001B[39;49m\u001B[43m_reindex_columns\u001B[49m\u001B[43m(\u001B[49m\n\u001B[1;32m   4621\u001B[0m \u001B[43m        \u001B[49m\u001B[43mcolumns\u001B[49m\u001B[43m,\u001B[49m\u001B[43m \u001B[49m\u001B[43mmethod\u001B[49m\u001B[43m,\u001B[49m\u001B[43m \u001B[49m\u001B[43mcopy\u001B[49m\u001B[43m,\u001B[49m\u001B[43m \u001B[49m\u001B[43mlevel\u001B[49m\u001B[43m,\u001B[49m\u001B[43m \u001B[49m\u001B[43mfill_value\u001B[49m\u001B[43m,\u001B[49m\u001B[43m \u001B[49m\u001B[43mlimit\u001B[49m\u001B[43m,\u001B[49m\u001B[43m \u001B[49m\u001B[43mtolerance\u001B[49m\n\u001B[1;32m   4622\u001B[0m \u001B[43m    \u001B[49m\u001B[43m)\u001B[49m\n\u001B[1;32m   4624\u001B[0m index \u001B[38;5;241m=\u001B[39m axes[\u001B[38;5;124m\"\u001B[39m\u001B[38;5;124mindex\u001B[39m\u001B[38;5;124m\"\u001B[39m]\n\u001B[1;32m   4625\u001B[0m \u001B[38;5;28;01mif\u001B[39;00m index \u001B[38;5;129;01mis\u001B[39;00m \u001B[38;5;129;01mnot\u001B[39;00m \u001B[38;5;28;01mNone\u001B[39;00m:\n",
      "File \u001B[0;32m~/psych_nlp/psych_note_venv/lib/python3.8/site-packages/pandas/core/frame.py:4665\u001B[0m, in \u001B[0;36mDataFrame._reindex_columns\u001B[0;34m(self, new_columns, method, copy, level, fill_value, limit, tolerance)\u001B[0m\n\u001B[1;32m   4652\u001B[0m \u001B[38;5;28;01mdef\u001B[39;00m \u001B[38;5;21m_reindex_columns\u001B[39m(\n\u001B[1;32m   4653\u001B[0m     \u001B[38;5;28mself\u001B[39m,\n\u001B[1;32m   4654\u001B[0m     new_columns,\n\u001B[0;32m   (...)\u001B[0m\n\u001B[1;32m   4660\u001B[0m     tolerance\u001B[38;5;241m=\u001B[39m\u001B[38;5;28;01mNone\u001B[39;00m,\n\u001B[1;32m   4661\u001B[0m ):\n\u001B[1;32m   4662\u001B[0m     new_columns, indexer \u001B[38;5;241m=\u001B[39m \u001B[38;5;28mself\u001B[39m\u001B[38;5;241m.\u001B[39mcolumns\u001B[38;5;241m.\u001B[39mreindex(\n\u001B[1;32m   4663\u001B[0m         new_columns, method\u001B[38;5;241m=\u001B[39mmethod, level\u001B[38;5;241m=\u001B[39mlevel, limit\u001B[38;5;241m=\u001B[39mlimit, tolerance\u001B[38;5;241m=\u001B[39mtolerance\n\u001B[1;32m   4664\u001B[0m     )\n\u001B[0;32m-> 4665\u001B[0m     \u001B[38;5;28;01mreturn\u001B[39;00m \u001B[38;5;28;43mself\u001B[39;49m\u001B[38;5;241;43m.\u001B[39;49m\u001B[43m_reindex_with_indexers\u001B[49m\u001B[43m(\u001B[49m\n\u001B[1;32m   4666\u001B[0m \u001B[43m        \u001B[49m\u001B[43m{\u001B[49m\u001B[38;5;241;43m1\u001B[39;49m\u001B[43m:\u001B[49m\u001B[43m \u001B[49m\u001B[43m[\u001B[49m\u001B[43mnew_columns\u001B[49m\u001B[43m,\u001B[49m\u001B[43m \u001B[49m\u001B[43mindexer\u001B[49m\u001B[43m]\u001B[49m\u001B[43m}\u001B[49m\u001B[43m,\u001B[49m\n\u001B[1;32m   4667\u001B[0m \u001B[43m        \u001B[49m\u001B[43mcopy\u001B[49m\u001B[38;5;241;43m=\u001B[39;49m\u001B[43mcopy\u001B[49m\u001B[43m,\u001B[49m\n\u001B[1;32m   4668\u001B[0m \u001B[43m        \u001B[49m\u001B[43mfill_value\u001B[49m\u001B[38;5;241;43m=\u001B[39;49m\u001B[43mfill_value\u001B[49m\u001B[43m,\u001B[49m\n\u001B[1;32m   4669\u001B[0m \u001B[43m        \u001B[49m\u001B[43mallow_dups\u001B[49m\u001B[38;5;241;43m=\u001B[39;49m\u001B[38;5;28;43;01mFalse\u001B[39;49;00m\u001B[43m,\u001B[49m\n\u001B[1;32m   4670\u001B[0m \u001B[43m    \u001B[49m\u001B[43m)\u001B[49m\n",
      "File \u001B[0;32m~/psych_nlp/psych_note_venv/lib/python3.8/site-packages/pandas/core/generic.py:5032\u001B[0m, in \u001B[0;36mNDFrame._reindex_with_indexers\u001B[0;34m(self, reindexers, fill_value, copy, allow_dups)\u001B[0m\n\u001B[1;32m   5029\u001B[0m     indexer \u001B[38;5;241m=\u001B[39m ensure_platform_int(indexer)\n\u001B[1;32m   5031\u001B[0m \u001B[38;5;66;03m# TODO: speed up on homogeneous DataFrame objects (see _reindex_multi)\u001B[39;00m\n\u001B[0;32m-> 5032\u001B[0m new_data \u001B[38;5;241m=\u001B[39m \u001B[43mnew_data\u001B[49m\u001B[38;5;241;43m.\u001B[39;49m\u001B[43mreindex_indexer\u001B[49m\u001B[43m(\u001B[49m\n\u001B[1;32m   5033\u001B[0m \u001B[43m    \u001B[49m\u001B[43mindex\u001B[49m\u001B[43m,\u001B[49m\n\u001B[1;32m   5034\u001B[0m \u001B[43m    \u001B[49m\u001B[43mindexer\u001B[49m\u001B[43m,\u001B[49m\n\u001B[1;32m   5035\u001B[0m \u001B[43m    \u001B[49m\u001B[43maxis\u001B[49m\u001B[38;5;241;43m=\u001B[39;49m\u001B[43mbaxis\u001B[49m\u001B[43m,\u001B[49m\n\u001B[1;32m   5036\u001B[0m \u001B[43m    \u001B[49m\u001B[43mfill_value\u001B[49m\u001B[38;5;241;43m=\u001B[39;49m\u001B[43mfill_value\u001B[49m\u001B[43m,\u001B[49m\n\u001B[1;32m   5037\u001B[0m \u001B[43m    \u001B[49m\u001B[43mallow_dups\u001B[49m\u001B[38;5;241;43m=\u001B[39;49m\u001B[43mallow_dups\u001B[49m\u001B[43m,\u001B[49m\n\u001B[1;32m   5038\u001B[0m \u001B[43m    \u001B[49m\u001B[43mcopy\u001B[49m\u001B[38;5;241;43m=\u001B[39;49m\u001B[43mcopy\u001B[49m\u001B[43m,\u001B[49m\n\u001B[1;32m   5039\u001B[0m \u001B[43m\u001B[49m\u001B[43m)\u001B[49m\n\u001B[1;32m   5040\u001B[0m \u001B[38;5;66;03m# If we've made a copy once, no need to make another one\u001B[39;00m\n\u001B[1;32m   5041\u001B[0m copy \u001B[38;5;241m=\u001B[39m \u001B[38;5;28;01mFalse\u001B[39;00m\n",
      "File \u001B[0;32m~/psych_nlp/psych_note_venv/lib/python3.8/site-packages/pandas/core/internals/managers.py:676\u001B[0m, in \u001B[0;36mBaseBlockManager.reindex_indexer\u001B[0;34m(self, new_axis, indexer, axis, fill_value, allow_dups, copy, consolidate, only_slice, use_na_proxy)\u001B[0m\n\u001B[1;32m    674\u001B[0m \u001B[38;5;66;03m# some axes don't allow reindexing with dups\u001B[39;00m\n\u001B[1;32m    675\u001B[0m \u001B[38;5;28;01mif\u001B[39;00m \u001B[38;5;129;01mnot\u001B[39;00m allow_dups:\n\u001B[0;32m--> 676\u001B[0m     \u001B[38;5;28;43mself\u001B[39;49m\u001B[38;5;241;43m.\u001B[39;49m\u001B[43maxes\u001B[49m\u001B[43m[\u001B[49m\u001B[43maxis\u001B[49m\u001B[43m]\u001B[49m\u001B[38;5;241;43m.\u001B[39;49m\u001B[43m_validate_can_reindex\u001B[49m\u001B[43m(\u001B[49m\u001B[43mindexer\u001B[49m\u001B[43m)\u001B[49m\n\u001B[1;32m    678\u001B[0m \u001B[38;5;28;01mif\u001B[39;00m axis \u001B[38;5;241m>\u001B[39m\u001B[38;5;241m=\u001B[39m \u001B[38;5;28mself\u001B[39m\u001B[38;5;241m.\u001B[39mndim:\n\u001B[1;32m    679\u001B[0m     \u001B[38;5;28;01mraise\u001B[39;00m \u001B[38;5;167;01mIndexError\u001B[39;00m(\u001B[38;5;124m\"\u001B[39m\u001B[38;5;124mRequested axis not found in manager\u001B[39m\u001B[38;5;124m\"\u001B[39m)\n",
      "File \u001B[0;32m~/psych_nlp/psych_note_venv/lib/python3.8/site-packages/pandas/core/indexes/base.py:4121\u001B[0m, in \u001B[0;36mIndex._validate_can_reindex\u001B[0;34m(self, indexer)\u001B[0m\n\u001B[1;32m   4119\u001B[0m \u001B[38;5;66;03m# trying to reindex on an axis with duplicates\u001B[39;00m\n\u001B[1;32m   4120\u001B[0m \u001B[38;5;28;01mif\u001B[39;00m \u001B[38;5;129;01mnot\u001B[39;00m \u001B[38;5;28mself\u001B[39m\u001B[38;5;241m.\u001B[39m_index_as_unique \u001B[38;5;129;01mand\u001B[39;00m \u001B[38;5;28mlen\u001B[39m(indexer):\n\u001B[0;32m-> 4121\u001B[0m     \u001B[38;5;28;01mraise\u001B[39;00m \u001B[38;5;167;01mValueError\u001B[39;00m(\u001B[38;5;124m\"\u001B[39m\u001B[38;5;124mcannot reindex on an axis with duplicate labels\u001B[39m\u001B[38;5;124m\"\u001B[39m)\n",
      "\u001B[0;31mValueError\u001B[0m: cannot reindex on an axis with duplicate labels"
     ]
    }
   ],
   "source": [
    "nonpsych_patients_blackwhite = nonpsych_patients"
   ],
   "metadata": {
    "collapsed": false,
    "pycharm": {
     "name": "#%%\n"
    }
   }
  },
  {
   "cell_type": "code",
   "execution_count": 36,
   "outputs": [],
   "source": [
    "nonpsych_patients_blackwhite = nonpsych_patients_blackwhite.sort_values(by=['PrimaryMrn','m_income'], ascending=[True, True])\n",
    "nonpsych_patients_blackwhite = nonpsych_patients_blackwhite.drop_duplicates(subset=['PrimaryMrn', 'm_income'])"
   ],
   "metadata": {
    "collapsed": false,
    "pycharm": {
     "name": "#%%\n"
    }
   }
  },
  {
   "cell_type": "code",
   "execution_count": 41,
   "outputs": [],
   "source": [
    "nonpsych_patients_blackwhite = nonpsych_patients_blackwhite.reset_index()"
   ],
   "metadata": {
    "collapsed": false,
    "pycharm": {
     "name": "#%%\n"
    }
   }
  },
  {
   "cell_type": "code",
   "execution_count": 39,
   "outputs": [
    {
     "data": {
      "text/plain": "True"
     },
     "execution_count": 39,
     "metadata": {},
     "output_type": "execute_result"
    }
   ],
   "source": [
    "nonpsych_patients_blackwhite.index.is_unique"
   ],
   "metadata": {
    "collapsed": false,
    "pycharm": {
     "name": "#%%\n"
    }
   }
  },
  {
   "cell_type": "code",
   "execution_count": 43,
   "outputs": [],
   "source": [
    "pd.DataFrame.to_csv(nonpsych_patients_blackwhite, \"/Users/valena17/psych_nlp/data/nonpsych_patients.csv\",index = False)"
   ],
   "metadata": {
    "collapsed": false,
    "pycharm": {
     "name": "#%%\n"
    }
   }
  },
  {
   "cell_type": "code",
   "execution_count": null,
   "outputs": [],
   "source": [],
   "metadata": {
    "collapsed": false,
    "pycharm": {
     "name": "#%%\n"
    }
   }
  }
 ],
 "metadata": {
  "kernelspec": {
   "display_name": "Python 3",
   "language": "python",
   "name": "python3"
  },
  "language_info": {
   "codemirror_mode": {
    "name": "ipython",
    "version": 2
   },
   "file_extension": ".py",
   "mimetype": "text/x-python",
   "name": "python",
   "nbconvert_exporter": "python",
   "pygments_lexer": "ipython2",
   "version": "2.7.6"
  }
 },
 "nbformat": 4,
 "nbformat_minor": 0
}