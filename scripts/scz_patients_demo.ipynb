{
 "cells": [
  {
   "cell_type": "code",
   "execution_count": 1,
   "outputs": [],
   "source": [
    "from datetime import datetime\n",
    "# importing moules\n",
    "import os\n",
    "import pandas as pd\n",
    "import matplotlib\n",
    "import numpy as np\n",
    "from re import search\n",
    "import matplotlib.pyplot as plt\n",
    "from datetime import date\n",
    "import seaborn as sns\n",
    "import math"
   ],
   "metadata": {
    "collapsed": false,
    "pycharm": {
     "name": "#%%\n"
    }
   }
  },
  {
   "cell_type": "code",
   "execution_count": 2,
   "outputs": [
    {
     "name": "stdout",
     "output_type": "stream",
     "text": [
      "24748\n"
     ]
    }
   ],
   "source": [
    "scz_demo = pd.read_csv('/Users/valena17/DataGripProjects/msdw2/output/scz_patients_demo.csv')\n",
    "print(scz_demo['PrimaryMrn'].nunique())"
   ],
   "metadata": {
    "collapsed": false,
    "pycharm": {
     "name": "#%%\n"
    }
   }
  },
  {
   "cell_type": "code",
   "execution_count": 3,
   "outputs": [],
   "source": [
    "scz_demo = scz_demo.replace(['Unknown', '*Unknown','*Unspecified', 'Choose not to disclose', 'Not recorded on birth certificate',\n",
    "                     '*Not Applicable', 'Indeterminate', 'Uncertain', 'UNKNOWN', 'PATIENT DECLINED'],\n",
    "                    np.nan)"
   ],
   "metadata": {
    "collapsed": false,
    "pycharm": {
     "name": "#%%\n"
    }
   }
  },
  {
   "cell_type": "code",
   "execution_count": 4,
   "outputs": [
    {
     "data": {
      "text/plain": "NaN                       24348\nNot Hispanic or Latino      268\nHispanic or Latino          132\nName: Ethnicity_v2, dtype: int64"
     },
     "execution_count": 4,
     "metadata": {},
     "output_type": "execute_result"
    }
   ],
   "source": [
    "scz_demo['Ethnicity_v2'] = scz_demo['Ethnicity']\n",
    "scz_demo.Ethnicity_v2 = scz_demo.Ethnicity_v2.replace(['Puerto Rican', 'Dominican', 'Latin American', 'Cuban', 'Ecuadorian',\n",
    "                                                         'Mexican', 'Colombian','Mexican American', 'Criollo', 'Honduran', 'Panamanian',\n",
    "                                                         'Chilean', 'Central American','South American', 'Guatemalan', 'Venezuelan',\n",
    "                                                         'Uruguayan', 'Peruvian'],\n",
    "                    ['Hispanic or Latino', 'Hispanic or Latino', 'Hispanic or Latino', 'Hispanic or Latino',\n",
    "                     'Hispanic or Latino', 'Hispanic or Latino', 'Hispanic or Latino', 'Hispanic or Latino',\n",
    "                     'Hispanic or Latino', 'Hispanic or Latino', 'Hispanic or Latino', 'Hispanic or Latino',\n",
    "                     'Hispanic or Latino', 'Hispanic or Latino', 'Hispanic or Latino', 'Hispanic or Latino',\n",
    "                     'Hispanic or Latino', 'Hispanic or Latino'])\n",
    "scz_demo.Ethnicity_v2.value_counts(dropna=False)"
   ],
   "metadata": {
    "collapsed": false,
    "pycharm": {
     "name": "#%%\n"
    }
   }
  },
  {
   "cell_type": "code",
   "execution_count": 5,
   "outputs": [
    {
     "data": {
      "text/plain": "Black or African-American                    7701\nOther Race                                   6527\nNaN                                          4883\nWhite                                        4632\nAsian                                         653\nHispanic or Latino                            169\nNative Hawaiian or Other Pacific Islander     124\nAmerican Indian or Alaska Native               42\nMixed racial group                             17\nName: Race, dtype: int64"
     },
     "execution_count": 5,
     "metadata": {},
     "output_type": "execute_result"
    }
   ],
   "source": [
    "scz_demo['Race'] = scz_demo['FirstRace']\n",
    "scz_demo.Race = scz_demo.Race.replace(['AMERICAN INDIAN OR ALASKAN', 'Hispanic/Latino', 'Hispanic', 'AFRICAN-AMERICAN', 'OTHER',\n",
    "                               'PATIENT DECLINED', 'WHITE', 'ASIAN INDIAN', 'CHINESE', 'KOREAN', 'CHINESE AMERICAN', 'VIETNAMESE',\n",
    "                               'OTHER: NORTH AFRICAN', 'JAPANESE', 'NATIVE HAWAIIAN', 'OTHER PACIFIC ISLANDER', 'THAI',\n",
    "                               'PAPUA NEW GUINEAN', 'GUINEAN', 'FILIPINO', 'FILIPINO AMERICAN', 'BANGLADESHI', 'UGANDAN', 'PAKISTANI',\n",
    "                               'WEST INDIAN', 'TRINIDADIAN', 'JAMAICAN', 'HAITIAN', 'TAIWANESE', 'NIGERIAN', 'ETHIOPIAN',\n",
    "                               'DOMINICA ISLANDER', 'GRENADIAN', 'MADAGASCAR', 'POLYNESIAN', 'SRI LANKAN', 'INDONESIAN', 'MALIAN',\n",
    "                               'GHANAIAN', 'BARBADIAN', 'TAHITIAN', 'ST VINCENTIAN', 'TOKELAUAN',\n",
    "                               'Black or African-American', 'Asian (Pacific Islander)', 'LAOTIAN', 'CONGOLESE', 'Native American',\n",
    "                               'OTHER: WEST AFRICAN', 'BHUTANESE', 'CAMBODIAN', 'Pacific Islander', 'OKINAWAN', 'NEW HEBRIDES',\n",
    "                               'KENYAN', 'MARIANA ISLANDER', 'SENEGALESE', 'MARSHALLESE', 'BURMESE', 'GABONIAN', 'MALAYSIAN',\n",
    "                               'TOGOLESE', 'OTHER: EAST AFRICAN', 'LIBERIAN', 'SOMALIAN', 'SUDANESE', 'HMONG', 'MICRONESIAN',\n",
    "                               'NEPALESE', 'Black or African American', 'OTHER: SOUTH AFRICAN'],\n",
    "                  ['American Indian or Alaska Native', 'Hispanic or Latino', 'Hispanic or Latino', 'Black or African-American', 'Other Race', 'Decline to Answer', 'White', 'Asian', 'Asian', 'Asian', 'Asian', 'Asian', 'Black or African-American', 'Asian', 'Native Hawaiian or Other Pacific Islander', 'Native Hawaiian or Other Pacific Islander', 'Asian', 'Native Hawaiian or Other Pacific Islander', 'Native Hawaiian or Other Pacific Islander', 'Native Hawaiian or Other Pacific Islander','Native Hawaiian or Other Pacific Islander', 'Asian', 'Black or African-American', 'Asian', 'Asian', 'Mixed racial group', 'Black or African-American', 'Black or African-American', 'Asian', 'Black or African-American', 'Black or African-American', 'Black or African-American', 'Black or African-American', 'Black or African-American', 'Native Hawaiian or Other Pacific Islander', 'Asian', 'Asian', 'Black or African-American', 'Black or African-American', 'Black or African-American', 'Native Hawaiian or Other Pacific Islander', 'Black or African-American', 'Native Hawaiian or Other Pacific Islander',\n",
    "                   'Black or African-American', 'Native Hawaiian or Other Pacific Islander', 'Asian', 'Black or African-American',\n",
    "                   'American Indian or Alaska Native', 'Black or African-American', 'Asian', 'Asian',\n",
    "                   'Native Hawaiian or Other Pacific Islander', 'Asian', 'Native Hawaiian or Other Pacific Islander',\n",
    "                   'Black or African-American', 'Native Hawaiian or Other Pacific Islander', 'Black or African-American',\n",
    "                   'Native Hawaiian or Other Pacific Islander', 'Asian', 'Black or African-American', 'Asian',\n",
    "                   'Black or African-American', 'Black or African-American', 'Black or African-American', 'Black or African-American',\n",
    "                   'Black or African-American', 'Asian', 'Native Hawaiian or Other Pacific Islander', 'Asian', 'Black or African-American', 'Black or African-American'])\n",
    "scz_demo.Race.value_counts(dropna=False)"
   ],
   "metadata": {
    "collapsed": false,
    "pycharm": {
     "name": "#%%\n"
    }
   }
  },
  {
   "cell_type": "code",
   "execution_count": 6,
   "outputs": [
    {
     "data": {
      "text/plain": "Male                     13686\nFemale                   10908\nNon-binary                  49\nTransgender Female          48\nTransgender Male            25\nGender Non-conforming       16\nGender Queer                10\nOther                        5\nNaN                          1\nName: Merged_Gender, dtype: int64"
     },
     "execution_count": 6,
     "metadata": {},
     "output_type": "execute_result"
    }
   ],
   "source": [
    "scz_demo['Merged_Gender'] = scz_demo['GenderIdentity']\n",
    "scz_demo['Merged_Gender'] = scz_demo['Merged_Gender'].fillna(scz_demo['Sex'])\n",
    "scz_demo.Merged_Gender.value_counts(dropna=False)"
   ],
   "metadata": {
    "collapsed": false,
    "pycharm": {
     "name": "#%%\n"
    }
   }
  },
  {
   "cell_type": "code",
   "execution_count": 7,
   "outputs": [
    {
     "data": {
      "text/plain": "Black or African-American                    7585\nOther Race                                   6368\nNaN                                          4872\nWhite                                        4606\nAsian                                         623\nHispanic or Latino                            275\nMixed racial group                            260\nNative Hawaiian or Other Pacific Islander     119\nAmerican Indian or Alaska Native               40\nName: Race_2, dtype: int64"
     },
     "execution_count": 7,
     "metadata": {},
     "output_type": "execute_result"
    }
   ],
   "source": [
    "def multiracial(x):\n",
    "    if x.MultiRacial == 1:\n",
    "        return 'Mixed racial group'\n",
    "    if x.Ethnicity_v2 == 'Hispanic or Latino' and x.Race == 'Other Race':\n",
    "        return 'Hispanic or Latino'\n",
    "    if x.Ethnicity_v2 == 'Hispanic or Latino' and x.Race == 'NaN':\n",
    "            return 'Hispanic or Latino'\n",
    "    else:\n",
    "        return x.Race\n",
    "\n",
    "# scz_notes = scz_notes.apply(multiracial)\n",
    "scz_demo['Race_2'] = scz_demo.apply(lambda row: multiracial(row), axis=1)\n",
    "scz_demo.Race_2.value_counts(dropna=False)"
   ],
   "metadata": {
    "collapsed": false,
    "pycharm": {
     "name": "#%%\n"
    }
   }
  },
  {
   "cell_type": "code",
   "execution_count": 8,
   "outputs": [
    {
     "name": "stdout",
     "output_type": "stream",
     "text": [
      "3270 4266 2063 2495\n"
     ]
    }
   ],
   "source": [
    "scz_demo_black = scz_demo[scz_demo['Race_2'] == 'Black or African-American']\n",
    "scz_demo_black_female = scz_demo_black[scz_demo_black['Merged_Gender'] == 'Female']\n",
    "scz_demo_black_male = scz_demo_black[scz_demo_black['Merged_Gender'] == 'Male']\n",
    "\n",
    "scz_demo_white = scz_demo[scz_demo['Race_2'] == 'White']\n",
    "scz_demo_white_female = scz_demo_white[scz_demo_white['Merged_Gender'] == 'Female']\n",
    "scz_demo_white_male = scz_demo_white[scz_demo_white['Merged_Gender'] == 'Male']\n",
    "\n",
    "print(scz_demo_black_female['PrimaryMrn'].nunique(),\n",
    "      scz_demo_black_male['PrimaryMrn'].nunique(),\n",
    "      scz_demo_white_female['PrimaryMrn'].nunique(),\n",
    "      scz_demo_white_male['PrimaryMrn'].nunique())"
   ],
   "metadata": {
    "collapsed": false,
    "pycharm": {
     "name": "#%%\n"
    }
   }
  },
  {
   "cell_type": "code",
   "execution_count": 9,
   "outputs": [
    {
     "name": "stdout",
     "output_type": "stream",
     "text": [
      "NaN                       6403\n",
      "Hispanic or Latino         106\n",
      "Not Hispanic or Latino      18\n",
      "Name: Ethnicity_v2, dtype: int64 Other Race                   106\n",
      "White                         12\n",
      "Black or African-American      9\n",
      "NaN                            3\n",
      "Asian                          2\n",
      "Name: Race, dtype: int64 Black or African-American                    7701\n",
      "Other Race                                   6527\n",
      "NaN                                          4883\n",
      "White                                        4632\n",
      "Asian                                         653\n",
      "Hispanic or Latino                            169\n",
      "Native Hawaiian or Other Pacific Islander     124\n",
      "American Indian or Alaska Native               42\n",
      "Mixed racial group                             17\n",
      "Name: Race, dtype: int64 NaN                       24348\n",
      "Not Hispanic or Latino      268\n",
      "Hispanic or Latino          132\n",
      "Name: Ethnicity_v2, dtype: int64 0    24504\n",
      "1      244\n",
      "Name: MultiRacial, dtype: int64\n"
     ]
    }
   ],
   "source": [
    "print(scz_demo[scz_demo['Race'] == 'Other Race'].Ethnicity_v2.value_counts(dropna=False),\n",
    "      scz_demo[scz_demo['Ethnicity_v2'] == 'Hispanic or Latino'].Race.value_counts(dropna=False),\n",
    "      scz_demo.Race.value_counts(dropna=False),\n",
    "      scz_demo.Ethnicity_v2.value_counts(dropna=False),\n",
    "      scz_demo.MultiRacial.value_counts(dropna=False))"
   ],
   "metadata": {
    "collapsed": false,
    "pycharm": {
     "name": "#%%\n"
    }
   }
  },
  {
   "cell_type": "code",
   "execution_count": 11,
   "outputs": [
    {
     "data": {
      "text/plain": "      PrimaryMrn  AgeInYears   BirthDate PreferredLanguage     Sex  \\\n0        1003157          63  1959-02-26           English    Male   \n1        1003377          58  1964-11-08           English  Female   \n2        1003711          49  1973-10-05           English  Female   \n3        1004418          54  1968-10-06               NaN    Male   \n4        1006438          48  1974-07-21           English    Male   \n...          ...         ...         ...               ...     ...   \n24743    K155495          35  1987-10-17           English    Male   \n24744    K156926          29  1993-02-21           English    Male   \n24745    K161108          46  1976-06-30           Spanish    Male   \n24746    V724454          66  1956-03-25           English    Male   \n24747    X300004          63  1960-01-20           English    Male   \n\n      SexAssignedAtBirth GenderIdentity Ethnicity         FirstRace  \\\n0                    NaN            NaN       NaN             OTHER   \n1                    NaN            NaN       NaN  AFRICAN-AMERICAN   \n2                    NaN            NaN       NaN  AFRICAN-AMERICAN   \n3                    NaN            NaN       NaN               NaN   \n4                    NaN            NaN       NaN               NaN   \n...                  ...            ...       ...               ...   \n24743                NaN            NaN       NaN               NaN   \n24744                NaN            NaN       NaN             OTHER   \n24745                NaN            NaN       NaN             OTHER   \n24746               Male           Male       NaN             OTHER   \n24747                NaN            NaN       NaN             WHITE   \n\n      SecondRace ThirdRace  MultiRacial SexualOrientation Ethnicity_v2  \\\n0            NaN       NaN            0          Straight          NaN   \n1            NaN       NaN            0               NaN          NaN   \n2            NaN       NaN            0               NaN          NaN   \n3            NaN       NaN            0               NaN          NaN   \n4            NaN       NaN            0               NaN          NaN   \n...          ...       ...          ...               ...          ...   \n24743        NaN       NaN            0               NaN          NaN   \n24744        NaN       NaN            0               NaN          NaN   \n24745        NaN       NaN            0               NaN          NaN   \n24746        NaN       NaN            0               NaN          NaN   \n24747        NaN       NaN            0               NaN          NaN   \n\n                            Race Merged_Gender                     Race_2  \n0                     Other Race          Male                 Other Race  \n1      Black or African-American        Female  Black or African-American  \n2      Black or African-American        Female  Black or African-American  \n3                            NaN          Male                        NaN  \n4                            NaN          Male                        NaN  \n...                          ...           ...                        ...  \n24743                        NaN          Male                        NaN  \n24744                 Other Race          Male                 Other Race  \n24745                 Other Race          Male                 Other Race  \n24746                 Other Race          Male                 Other Race  \n24747                      White          Male                      White  \n\n[24748 rows x 17 columns]",
      "text/html": "<div>\n<style scoped>\n    .dataframe tbody tr th:only-of-type {\n        vertical-align: middle;\n    }\n\n    .dataframe tbody tr th {\n        vertical-align: top;\n    }\n\n    .dataframe thead th {\n        text-align: right;\n    }\n</style>\n<table border=\"1\" class=\"dataframe\">\n  <thead>\n    <tr style=\"text-align: right;\">\n      <th></th>\n      <th>PrimaryMrn</th>\n      <th>AgeInYears</th>\n      <th>BirthDate</th>\n      <th>PreferredLanguage</th>\n      <th>Sex</th>\n      <th>SexAssignedAtBirth</th>\n      <th>GenderIdentity</th>\n      <th>Ethnicity</th>\n      <th>FirstRace</th>\n      <th>SecondRace</th>\n      <th>ThirdRace</th>\n      <th>MultiRacial</th>\n      <th>SexualOrientation</th>\n      <th>Ethnicity_v2</th>\n      <th>Race</th>\n      <th>Merged_Gender</th>\n      <th>Race_2</th>\n    </tr>\n  </thead>\n  <tbody>\n    <tr>\n      <th>0</th>\n      <td>1003157</td>\n      <td>63</td>\n      <td>1959-02-26</td>\n      <td>English</td>\n      <td>Male</td>\n      <td>NaN</td>\n      <td>NaN</td>\n      <td>NaN</td>\n      <td>OTHER</td>\n      <td>NaN</td>\n      <td>NaN</td>\n      <td>0</td>\n      <td>Straight</td>\n      <td>NaN</td>\n      <td>Other Race</td>\n      <td>Male</td>\n      <td>Other Race</td>\n    </tr>\n    <tr>\n      <th>1</th>\n      <td>1003377</td>\n      <td>58</td>\n      <td>1964-11-08</td>\n      <td>English</td>\n      <td>Female</td>\n      <td>NaN</td>\n      <td>NaN</td>\n      <td>NaN</td>\n      <td>AFRICAN-AMERICAN</td>\n      <td>NaN</td>\n      <td>NaN</td>\n      <td>0</td>\n      <td>NaN</td>\n      <td>NaN</td>\n      <td>Black or African-American</td>\n      <td>Female</td>\n      <td>Black or African-American</td>\n    </tr>\n    <tr>\n      <th>2</th>\n      <td>1003711</td>\n      <td>49</td>\n      <td>1973-10-05</td>\n      <td>English</td>\n      <td>Female</td>\n      <td>NaN</td>\n      <td>NaN</td>\n      <td>NaN</td>\n      <td>AFRICAN-AMERICAN</td>\n      <td>NaN</td>\n      <td>NaN</td>\n      <td>0</td>\n      <td>NaN</td>\n      <td>NaN</td>\n      <td>Black or African-American</td>\n      <td>Female</td>\n      <td>Black or African-American</td>\n    </tr>\n    <tr>\n      <th>3</th>\n      <td>1004418</td>\n      <td>54</td>\n      <td>1968-10-06</td>\n      <td>NaN</td>\n      <td>Male</td>\n      <td>NaN</td>\n      <td>NaN</td>\n      <td>NaN</td>\n      <td>NaN</td>\n      <td>NaN</td>\n      <td>NaN</td>\n      <td>0</td>\n      <td>NaN</td>\n      <td>NaN</td>\n      <td>NaN</td>\n      <td>Male</td>\n      <td>NaN</td>\n    </tr>\n    <tr>\n      <th>4</th>\n      <td>1006438</td>\n      <td>48</td>\n      <td>1974-07-21</td>\n      <td>English</td>\n      <td>Male</td>\n      <td>NaN</td>\n      <td>NaN</td>\n      <td>NaN</td>\n      <td>NaN</td>\n      <td>NaN</td>\n      <td>NaN</td>\n      <td>0</td>\n      <td>NaN</td>\n      <td>NaN</td>\n      <td>NaN</td>\n      <td>Male</td>\n      <td>NaN</td>\n    </tr>\n    <tr>\n      <th>...</th>\n      <td>...</td>\n      <td>...</td>\n      <td>...</td>\n      <td>...</td>\n      <td>...</td>\n      <td>...</td>\n      <td>...</td>\n      <td>...</td>\n      <td>...</td>\n      <td>...</td>\n      <td>...</td>\n      <td>...</td>\n      <td>...</td>\n      <td>...</td>\n      <td>...</td>\n      <td>...</td>\n      <td>...</td>\n    </tr>\n    <tr>\n      <th>24743</th>\n      <td>K155495</td>\n      <td>35</td>\n      <td>1987-10-17</td>\n      <td>English</td>\n      <td>Male</td>\n      <td>NaN</td>\n      <td>NaN</td>\n      <td>NaN</td>\n      <td>NaN</td>\n      <td>NaN</td>\n      <td>NaN</td>\n      <td>0</td>\n      <td>NaN</td>\n      <td>NaN</td>\n      <td>NaN</td>\n      <td>Male</td>\n      <td>NaN</td>\n    </tr>\n    <tr>\n      <th>24744</th>\n      <td>K156926</td>\n      <td>29</td>\n      <td>1993-02-21</td>\n      <td>English</td>\n      <td>Male</td>\n      <td>NaN</td>\n      <td>NaN</td>\n      <td>NaN</td>\n      <td>OTHER</td>\n      <td>NaN</td>\n      <td>NaN</td>\n      <td>0</td>\n      <td>NaN</td>\n      <td>NaN</td>\n      <td>Other Race</td>\n      <td>Male</td>\n      <td>Other Race</td>\n    </tr>\n    <tr>\n      <th>24745</th>\n      <td>K161108</td>\n      <td>46</td>\n      <td>1976-06-30</td>\n      <td>Spanish</td>\n      <td>Male</td>\n      <td>NaN</td>\n      <td>NaN</td>\n      <td>NaN</td>\n      <td>OTHER</td>\n      <td>NaN</td>\n      <td>NaN</td>\n      <td>0</td>\n      <td>NaN</td>\n      <td>NaN</td>\n      <td>Other Race</td>\n      <td>Male</td>\n      <td>Other Race</td>\n    </tr>\n    <tr>\n      <th>24746</th>\n      <td>V724454</td>\n      <td>66</td>\n      <td>1956-03-25</td>\n      <td>English</td>\n      <td>Male</td>\n      <td>Male</td>\n      <td>Male</td>\n      <td>NaN</td>\n      <td>OTHER</td>\n      <td>NaN</td>\n      <td>NaN</td>\n      <td>0</td>\n      <td>NaN</td>\n      <td>NaN</td>\n      <td>Other Race</td>\n      <td>Male</td>\n      <td>Other Race</td>\n    </tr>\n    <tr>\n      <th>24747</th>\n      <td>X300004</td>\n      <td>63</td>\n      <td>1960-01-20</td>\n      <td>English</td>\n      <td>Male</td>\n      <td>NaN</td>\n      <td>NaN</td>\n      <td>NaN</td>\n      <td>WHITE</td>\n      <td>NaN</td>\n      <td>NaN</td>\n      <td>0</td>\n      <td>NaN</td>\n      <td>NaN</td>\n      <td>White</td>\n      <td>Male</td>\n      <td>White</td>\n    </tr>\n  </tbody>\n</table>\n<p>24748 rows × 17 columns</p>\n</div>"
     },
     "execution_count": 11,
     "metadata": {},
     "output_type": "execute_result"
    }
   ],
   "source": [
    "scz_demo"
   ],
   "metadata": {
    "collapsed": false,
    "pycharm": {
     "name": "#%%\n"
    }
   }
  },
  {
   "cell_type": "code",
   "execution_count": 13,
   "outputs": [
    {
     "data": {
      "text/plain": "      PrimaryMrn  AgeInYears   BirthDate PreferredLanguage     Sex  \\\n0        1003157          63  1959-02-26           English    Male   \n1        1003377          58  1964-11-08           English  Female   \n2        1003711          49  1973-10-05           English  Female   \n5        1007012          48  1974-09-18           English  Female   \n6        1007542          35  1987-04-02           English    Male   \n...          ...         ...         ...               ...     ...   \n24742    K153194          28  1994-05-01           English    Male   \n24744    K156926          29  1993-02-21           English    Male   \n24745    K161108          46  1976-06-30           Spanish    Male   \n24746    V724454          66  1956-03-25           English    Male   \n24747    X300004          63  1960-01-20           English    Male   \n\n      SexAssignedAtBirth GenderIdentity     Ethnicity         FirstRace  \\\n0                    NaN            NaN           NaN             OTHER   \n1                    NaN            NaN           NaN  AFRICAN-AMERICAN   \n2                    NaN            NaN           NaN  AFRICAN-AMERICAN   \n5                 Female         Female  Puerto Rican             OTHER   \n6                    NaN            NaN           NaN             OTHER   \n...                  ...            ...           ...               ...   \n24742                NaN            NaN           NaN  AFRICAN-AMERICAN   \n24744                NaN            NaN           NaN             OTHER   \n24745                NaN            NaN           NaN             OTHER   \n24746               Male           Male           NaN             OTHER   \n24747                NaN            NaN           NaN             WHITE   \n\n      SecondRace ThirdRace  MultiRacial SexualOrientation        Ethnicity_v2  \\\n0            NaN       NaN            0          Straight                 NaN   \n1            NaN       NaN            0               NaN                 NaN   \n2            NaN       NaN            0               NaN                 NaN   \n5            NaN       NaN            0          Straight  Hispanic or Latino   \n6            NaN       NaN            0               NaN                 NaN   \n...          ...       ...          ...               ...                 ...   \n24742        NaN       NaN            0               NaN                 NaN   \n24744        NaN       NaN            0               NaN                 NaN   \n24745        NaN       NaN            0               NaN                 NaN   \n24746        NaN       NaN            0               NaN                 NaN   \n24747        NaN       NaN            0               NaN                 NaN   \n\n                            Race Merged_Gender                     Race_2  \n0                     Other Race          Male                 Other Race  \n1      Black or African-American        Female  Black or African-American  \n2      Black or African-American        Female  Black or African-American  \n5                     Other Race        Female         Hispanic or Latino  \n6                     Other Race          Male                 Other Race  \n...                          ...           ...                        ...  \n24742  Black or African-American          Male  Black or African-American  \n24744                 Other Race          Male                 Other Race  \n24745                 Other Race          Male                 Other Race  \n24746                 Other Race          Male                 Other Race  \n24747                      White          Male                      White  \n\n[19875 rows x 17 columns]",
      "text/html": "<div>\n<style scoped>\n    .dataframe tbody tr th:only-of-type {\n        vertical-align: middle;\n    }\n\n    .dataframe tbody tr th {\n        vertical-align: top;\n    }\n\n    .dataframe thead th {\n        text-align: right;\n    }\n</style>\n<table border=\"1\" class=\"dataframe\">\n  <thead>\n    <tr style=\"text-align: right;\">\n      <th></th>\n      <th>PrimaryMrn</th>\n      <th>AgeInYears</th>\n      <th>BirthDate</th>\n      <th>PreferredLanguage</th>\n      <th>Sex</th>\n      <th>SexAssignedAtBirth</th>\n      <th>GenderIdentity</th>\n      <th>Ethnicity</th>\n      <th>FirstRace</th>\n      <th>SecondRace</th>\n      <th>ThirdRace</th>\n      <th>MultiRacial</th>\n      <th>SexualOrientation</th>\n      <th>Ethnicity_v2</th>\n      <th>Race</th>\n      <th>Merged_Gender</th>\n      <th>Race_2</th>\n    </tr>\n  </thead>\n  <tbody>\n    <tr>\n      <th>0</th>\n      <td>1003157</td>\n      <td>63</td>\n      <td>1959-02-26</td>\n      <td>English</td>\n      <td>Male</td>\n      <td>NaN</td>\n      <td>NaN</td>\n      <td>NaN</td>\n      <td>OTHER</td>\n      <td>NaN</td>\n      <td>NaN</td>\n      <td>0</td>\n      <td>Straight</td>\n      <td>NaN</td>\n      <td>Other Race</td>\n      <td>Male</td>\n      <td>Other Race</td>\n    </tr>\n    <tr>\n      <th>1</th>\n      <td>1003377</td>\n      <td>58</td>\n      <td>1964-11-08</td>\n      <td>English</td>\n      <td>Female</td>\n      <td>NaN</td>\n      <td>NaN</td>\n      <td>NaN</td>\n      <td>AFRICAN-AMERICAN</td>\n      <td>NaN</td>\n      <td>NaN</td>\n      <td>0</td>\n      <td>NaN</td>\n      <td>NaN</td>\n      <td>Black or African-American</td>\n      <td>Female</td>\n      <td>Black or African-American</td>\n    </tr>\n    <tr>\n      <th>2</th>\n      <td>1003711</td>\n      <td>49</td>\n      <td>1973-10-05</td>\n      <td>English</td>\n      <td>Female</td>\n      <td>NaN</td>\n      <td>NaN</td>\n      <td>NaN</td>\n      <td>AFRICAN-AMERICAN</td>\n      <td>NaN</td>\n      <td>NaN</td>\n      <td>0</td>\n      <td>NaN</td>\n      <td>NaN</td>\n      <td>Black or African-American</td>\n      <td>Female</td>\n      <td>Black or African-American</td>\n    </tr>\n    <tr>\n      <th>5</th>\n      <td>1007012</td>\n      <td>48</td>\n      <td>1974-09-18</td>\n      <td>English</td>\n      <td>Female</td>\n      <td>Female</td>\n      <td>Female</td>\n      <td>Puerto Rican</td>\n      <td>OTHER</td>\n      <td>NaN</td>\n      <td>NaN</td>\n      <td>0</td>\n      <td>Straight</td>\n      <td>Hispanic or Latino</td>\n      <td>Other Race</td>\n      <td>Female</td>\n      <td>Hispanic or Latino</td>\n    </tr>\n    <tr>\n      <th>6</th>\n      <td>1007542</td>\n      <td>35</td>\n      <td>1987-04-02</td>\n      <td>English</td>\n      <td>Male</td>\n      <td>NaN</td>\n      <td>NaN</td>\n      <td>NaN</td>\n      <td>OTHER</td>\n      <td>NaN</td>\n      <td>NaN</td>\n      <td>0</td>\n      <td>NaN</td>\n      <td>NaN</td>\n      <td>Other Race</td>\n      <td>Male</td>\n      <td>Other Race</td>\n    </tr>\n    <tr>\n      <th>...</th>\n      <td>...</td>\n      <td>...</td>\n      <td>...</td>\n      <td>...</td>\n      <td>...</td>\n      <td>...</td>\n      <td>...</td>\n      <td>...</td>\n      <td>...</td>\n      <td>...</td>\n      <td>...</td>\n      <td>...</td>\n      <td>...</td>\n      <td>...</td>\n      <td>...</td>\n      <td>...</td>\n      <td>...</td>\n    </tr>\n    <tr>\n      <th>24742</th>\n      <td>K153194</td>\n      <td>28</td>\n      <td>1994-05-01</td>\n      <td>English</td>\n      <td>Male</td>\n      <td>NaN</td>\n      <td>NaN</td>\n      <td>NaN</td>\n      <td>AFRICAN-AMERICAN</td>\n      <td>NaN</td>\n      <td>NaN</td>\n      <td>0</td>\n      <td>NaN</td>\n      <td>NaN</td>\n      <td>Black or African-American</td>\n      <td>Male</td>\n      <td>Black or African-American</td>\n    </tr>\n    <tr>\n      <th>24744</th>\n      <td>K156926</td>\n      <td>29</td>\n      <td>1993-02-21</td>\n      <td>English</td>\n      <td>Male</td>\n      <td>NaN</td>\n      <td>NaN</td>\n      <td>NaN</td>\n      <td>OTHER</td>\n      <td>NaN</td>\n      <td>NaN</td>\n      <td>0</td>\n      <td>NaN</td>\n      <td>NaN</td>\n      <td>Other Race</td>\n      <td>Male</td>\n      <td>Other Race</td>\n    </tr>\n    <tr>\n      <th>24745</th>\n      <td>K161108</td>\n      <td>46</td>\n      <td>1976-06-30</td>\n      <td>Spanish</td>\n      <td>Male</td>\n      <td>NaN</td>\n      <td>NaN</td>\n      <td>NaN</td>\n      <td>OTHER</td>\n      <td>NaN</td>\n      <td>NaN</td>\n      <td>0</td>\n      <td>NaN</td>\n      <td>NaN</td>\n      <td>Other Race</td>\n      <td>Male</td>\n      <td>Other Race</td>\n    </tr>\n    <tr>\n      <th>24746</th>\n      <td>V724454</td>\n      <td>66</td>\n      <td>1956-03-25</td>\n      <td>English</td>\n      <td>Male</td>\n      <td>Male</td>\n      <td>Male</td>\n      <td>NaN</td>\n      <td>OTHER</td>\n      <td>NaN</td>\n      <td>NaN</td>\n      <td>0</td>\n      <td>NaN</td>\n      <td>NaN</td>\n      <td>Other Race</td>\n      <td>Male</td>\n      <td>Other Race</td>\n    </tr>\n    <tr>\n      <th>24747</th>\n      <td>X300004</td>\n      <td>63</td>\n      <td>1960-01-20</td>\n      <td>English</td>\n      <td>Male</td>\n      <td>NaN</td>\n      <td>NaN</td>\n      <td>NaN</td>\n      <td>WHITE</td>\n      <td>NaN</td>\n      <td>NaN</td>\n      <td>0</td>\n      <td>NaN</td>\n      <td>NaN</td>\n      <td>White</td>\n      <td>Male</td>\n      <td>White</td>\n    </tr>\n  </tbody>\n</table>\n<p>19875 rows × 17 columns</p>\n</div>"
     },
     "execution_count": 13,
     "metadata": {},
     "output_type": "execute_result"
    }
   ],
   "source": [
    "scz_demo_clean = scz_demo.dropna(subset = ['Race_2', 'Merged_Gender', 'PrimaryMrn'])\n"
   ],
   "metadata": {
    "collapsed": false,
    "pycharm": {
     "name": "#%%\n"
    }
   }
  },
  {
   "cell_type": "code",
   "execution_count": 18,
   "outputs": [
    {
     "data": {
      "text/plain": "      PrimaryMrn  AgeInYears   BirthDate PreferredLanguage SexualOrientation  \\\n0        1003157          63  1959-02-26           English          Straight   \n1        1003377          58  1964-11-08           English               NaN   \n2        1003711          49  1973-10-05           English               NaN   \n5        1007012          48  1974-09-18           English          Straight   \n6        1007542          35  1987-04-02           English               NaN   \n...          ...         ...         ...               ...               ...   \n24742    K153194          28  1994-05-01           English               NaN   \n24744    K156926          29  1993-02-21           English               NaN   \n24745    K161108          46  1976-06-30           Spanish               NaN   \n24746    V724454          66  1956-03-25           English               NaN   \n24747    X300004          63  1960-01-20           English               NaN   \n\n       Gender             Race_Ethnicity  \n0        Male                 Other Race  \n1      Female  Black or African-American  \n2      Female  Black or African-American  \n5      Female         Hispanic or Latino  \n6        Male                 Other Race  \n...       ...                        ...  \n24742    Male  Black or African-American  \n24744    Male                 Other Race  \n24745    Male                 Other Race  \n24746    Male                 Other Race  \n24747    Male                      White  \n\n[19875 rows x 7 columns]",
      "text/html": "<div>\n<style scoped>\n    .dataframe tbody tr th:only-of-type {\n        vertical-align: middle;\n    }\n\n    .dataframe tbody tr th {\n        vertical-align: top;\n    }\n\n    .dataframe thead th {\n        text-align: right;\n    }\n</style>\n<table border=\"1\" class=\"dataframe\">\n  <thead>\n    <tr style=\"text-align: right;\">\n      <th></th>\n      <th>PrimaryMrn</th>\n      <th>AgeInYears</th>\n      <th>BirthDate</th>\n      <th>PreferredLanguage</th>\n      <th>SexualOrientation</th>\n      <th>Gender</th>\n      <th>Race_Ethnicity</th>\n    </tr>\n  </thead>\n  <tbody>\n    <tr>\n      <th>0</th>\n      <td>1003157</td>\n      <td>63</td>\n      <td>1959-02-26</td>\n      <td>English</td>\n      <td>Straight</td>\n      <td>Male</td>\n      <td>Other Race</td>\n    </tr>\n    <tr>\n      <th>1</th>\n      <td>1003377</td>\n      <td>58</td>\n      <td>1964-11-08</td>\n      <td>English</td>\n      <td>NaN</td>\n      <td>Female</td>\n      <td>Black or African-American</td>\n    </tr>\n    <tr>\n      <th>2</th>\n      <td>1003711</td>\n      <td>49</td>\n      <td>1973-10-05</td>\n      <td>English</td>\n      <td>NaN</td>\n      <td>Female</td>\n      <td>Black or African-American</td>\n    </tr>\n    <tr>\n      <th>5</th>\n      <td>1007012</td>\n      <td>48</td>\n      <td>1974-09-18</td>\n      <td>English</td>\n      <td>Straight</td>\n      <td>Female</td>\n      <td>Hispanic or Latino</td>\n    </tr>\n    <tr>\n      <th>6</th>\n      <td>1007542</td>\n      <td>35</td>\n      <td>1987-04-02</td>\n      <td>English</td>\n      <td>NaN</td>\n      <td>Male</td>\n      <td>Other Race</td>\n    </tr>\n    <tr>\n      <th>...</th>\n      <td>...</td>\n      <td>...</td>\n      <td>...</td>\n      <td>...</td>\n      <td>...</td>\n      <td>...</td>\n      <td>...</td>\n    </tr>\n    <tr>\n      <th>24742</th>\n      <td>K153194</td>\n      <td>28</td>\n      <td>1994-05-01</td>\n      <td>English</td>\n      <td>NaN</td>\n      <td>Male</td>\n      <td>Black or African-American</td>\n    </tr>\n    <tr>\n      <th>24744</th>\n      <td>K156926</td>\n      <td>29</td>\n      <td>1993-02-21</td>\n      <td>English</td>\n      <td>NaN</td>\n      <td>Male</td>\n      <td>Other Race</td>\n    </tr>\n    <tr>\n      <th>24745</th>\n      <td>K161108</td>\n      <td>46</td>\n      <td>1976-06-30</td>\n      <td>Spanish</td>\n      <td>NaN</td>\n      <td>Male</td>\n      <td>Other Race</td>\n    </tr>\n    <tr>\n      <th>24746</th>\n      <td>V724454</td>\n      <td>66</td>\n      <td>1956-03-25</td>\n      <td>English</td>\n      <td>NaN</td>\n      <td>Male</td>\n      <td>Other Race</td>\n    </tr>\n    <tr>\n      <th>24747</th>\n      <td>X300004</td>\n      <td>63</td>\n      <td>1960-01-20</td>\n      <td>English</td>\n      <td>NaN</td>\n      <td>Male</td>\n      <td>White</td>\n    </tr>\n  </tbody>\n</table>\n<p>19875 rows × 7 columns</p>\n</div>"
     },
     "execution_count": 18,
     "metadata": {},
     "output_type": "execute_result"
    }
   ],
   "source": [
    "scz_demo_clean2 = scz_demo_clean[['PrimaryMrn', 'AgeInYears', 'BirthDate', 'PreferredLanguage', 'SexualOrientation', 'Merged_Gender', 'Race_2']]\n",
    "scz_demo_clean2.rename(columns={'Merged_Gender' : 'Gender', 'Race_2' : 'Race_Ethnicity'})"
   ],
   "metadata": {
    "collapsed": false,
    "pycharm": {
     "name": "#%%\n"
    }
   }
  },
  {
   "cell_type": "code",
   "execution_count": 19,
   "outputs": [],
   "source": [
    "scz_demo_clean2.to_csv('../data/scz_patients_demo_clean.csv', index = False)\n",
    "#last saved 1/22/23"
   ],
   "metadata": {
    "collapsed": false,
    "pycharm": {
     "name": "#%%\n"
    }
   }
  },
  {
   "cell_type": "code",
   "execution_count": null,
   "outputs": [],
   "source": [],
   "metadata": {
    "collapsed": false,
    "pycharm": {
     "name": "#%%\n"
    }
   }
  }
 ],
 "metadata": {
  "kernelspec": {
   "display_name": "Python 3",
   "language": "python",
   "name": "python3"
  },
  "language_info": {
   "codemirror_mode": {
    "name": "ipython",
    "version": 2
   },
   "file_extension": ".py",
   "mimetype": "text/x-python",
   "name": "python",
   "nbconvert_exporter": "python",
   "pygments_lexer": "ipython2",
   "version": "2.7.6"
  }
 },
 "nbformat": 4,
 "nbformat_minor": 0
}