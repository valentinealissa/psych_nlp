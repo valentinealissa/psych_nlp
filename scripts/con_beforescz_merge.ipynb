{
 "cells": [
  {
   "cell_type": "code",
   "execution_count": 1,
   "metadata": {
    "collapsed": true,
    "pycharm": {
     "name": "#%%\n"
    }
   },
   "outputs": [
    {
     "name": "stderr",
     "output_type": "stream",
     "text": [
      "/var/folders/xm/m4dy5bvs1fn7fb9wxjhsg4dc0000gn/T/ipykernel_78541/823044512.py:14: DtypeWarning: Columns (0,5) have mixed types. Specify dtype option on import or set low_memory=False.\n",
      "  control_patients = pd.read_csv('/Users/valena17/psych_nlp/data/all_sample_controls.csv')\n",
      "/var/folders/xm/m4dy5bvs1fn7fb9wxjhsg4dc0000gn/T/ipykernel_78541/823044512.py:16: DtypeWarning: Columns (0) have mixed types. Specify dtype option on import or set low_memory=False.\n",
      "  scz_patients_comorbidities = pd.read_csv('/Users/valena17/psych_nlp/data/clean_ccsr_scz_patients.csv')\n"
     ]
    }
   ],
   "source": [
    "from datetime import datetime\n",
    "# importing moules\n",
    "import os\n",
    "import pandas as pd\n",
    "import matplotlib\n",
    "import numpy as np\n",
    "from re import search\n",
    "import matplotlib.pyplot as plt\n",
    "from datetime import date\n",
    "import seaborn as sns\n",
    "import math\n",
    "from seaborn import histplot\n",
    "\n",
    "control_patients = pd.read_csv('/Users/valena17/psych_nlp/data/all_sample_controls.csv')\n",
    "control_patients[\"PrimaryMrn\"]=control_patients[\"PrimaryMrn\"].values.astype(str)\n",
    "scz_patients_comorbidities = pd.read_csv('/Users/valena17/psych_nlp/data/clean_ccsr_scz_patients.csv')\n",
    "scz_patients_comorbidities[\"PrimaryMrn\"]=scz_patients_comorbidities[\"PrimaryMrn\"].values.astype(str)\n",
    "scz_patients_demographics = pd.read_csv('/Users/valena17/psych_nlp/data/clean_ccsr_ONLYscz_patients.csv')\n",
    "scz_patients_demographics[\"PrimaryMrn\"]=scz_patients_demographics[\"PrimaryMrn\"].values.astype(str)"
   ]
  },
  {
   "cell_type": "code",
   "execution_count": 2,
   "outputs": [
    {
     "name": "stdout",
     "output_type": "stream",
     "text": [
      "19874\n",
      "19874\n"
     ]
    }
   ],
   "source": [
    "print(scz_patients_comorbidities.PrimaryMrn.nunique())\n",
    "scz_comorbidity = scz_patients_comorbidities[scz_patients_comorbidities['CCSR_wSubstance'].isin(['Schizophrenia spectrum and other psychotic disorders',\n",
    "                                    'Substance-related disorders',\n",
    "                                    'Depressive disorders',\n",
    "                                    'Bipolar and related disorders',\n",
    "                                    'Trauma- and stressor-related disorders',\n",
    "                                    'Anxiety and fear-related disorders'])]\n",
    "print(scz_comorbidity.PrimaryMrn.nunique())"
   ],
   "metadata": {
    "collapsed": false,
    "pycharm": {
     "name": "#%%\n"
    }
   }
  },
  {
   "cell_type": "code",
   "execution_count": 3,
   "outputs": [
    {
     "name": "stderr",
     "output_type": "stream",
     "text": [
      "/var/folders/xm/m4dy5bvs1fn7fb9wxjhsg4dc0000gn/T/ipykernel_78541/1015378211.py:1: SettingWithCopyWarning: \n",
      "A value is trying to be set on a copy of a slice from a DataFrame.\n",
      "Try using .loc[row_indexer,col_indexer] = value instead\n",
      "\n",
      "See the caveats in the documentation: https://pandas.pydata.org/pandas-docs/stable/user_guide/indexing.html#returning-a-view-versus-a-copy\n",
      "  scz_comorbidity['VisitDate'] = pd.to_datetime(scz_comorbidity['VisitDate'])\n"
     ]
    },
    {
     "data": {
      "text/plain": "                 PrimaryMrn  EncounterKey           VisitDate  AgeAtVisit  \\\nPrimaryMrn                                                                  \n1003157    0        1003157      10026992 2009-02-02 00:00:00        49.0   \n           2        1003157      12589140 2011-11-30 00:00:00        52.0   \n           3        1003157     251130954 2012-02-22 00:00:00        52.0   \n1003377    5        1003377     136471680 2019-07-26 00:00:00        54.0   \n           6        1003377     169200840 2019-10-18 00:00:00        54.0   \n...                     ...           ...                 ...         ...   \nK156926    47858    K156926     310672084 2022-10-18 00:00:00        29.0   \nK161108    47859    K161108     313677350 2022-11-29 00:00:00        46.0   \nV724454    47860    V724454     143056795 2020-01-30 17:01:00        63.0   \nX300004    47863    X300004      76843447 2018-03-10 02:45:00        58.0   \n           47864    X300004     254531792 2018-06-13 00:00:00        58.0   \n\n                                VisitType  VisitType2   Value  \\\nPrimaryMrn                                                      \n1003157    0                 Office Visit  Outpatient   F32.A   \n           2      Psych Conf Office Visit   Recurring  F19.10   \n           3                 Office Visit  Outpatient   F25.9   \n1003377    5                 Office Visit  Outpatient  F31.32   \n           6                 Office Visit  Outpatient   F33.9   \n...                                   ...         ...     ...   \nK156926    47858             Office Visit   Recurring   F25.0   \nK161108    47859             Office Visit   Recurring     F29   \nV724454    47860       Hospital Encounter   Emergency   F25.9   \nX300004    47863       Hospital Encounter   Inpatient   F32.A   \n           47864             Office Visit  Outpatient   F25.1   \n\n                                                      DisplayString  \\\nPrimaryMrn                                                            \n1003157    0                                Depression, unspecified   \n           2      Other psychoactive substance abuse, uncomplicated   \n           3                  Schizoaffective disorder, unspecified   \n1003377    5      Bipolar disorder, current episode depressed, m...   \n           6      Major depressive disorder, recurrent, unspecified   \n...                                                             ...   \nK156926    47858             Schizoaffective disorder, bipolar type   \nK161108    47859  Unspecified psychosis not due to a substance o...   \nV724454    47860              Schizoaffective disorder, unspecified   \nX300004    47863                            Depression, unspecified   \n           47864          Schizoaffective disorder, depressive type   \n\n                    PayorFinancialClass ProviderSex  ... scz_condition  \\\nPrimaryMrn                                           ...                 \n1003157    0                   Self-Pay        Male  ...             0   \n           2                   Self-Pay      Female  ...             0   \n           3                        NaN         NaN  ...             1   \n1003377    5                        NaN         NaN  ...             0   \n           6                        NaN         NaN  ...             0   \n...                                 ...         ...  ...           ...   \nK156926    47858  Medicaid Managed Care      Female  ...             1   \nK161108    47859               Self-Pay      Female  ...             1   \nV724454    47860  Medicaid Managed Care      Female  ...             1   \nX300004    47863  Medicaid Managed Care      Female  ...             0   \n           47864                    NaN         NaN  ...             1   \n\n                 AgeInYears   BirthDate PreferredLanguage SexualOrientation  \\\nPrimaryMrn                                                                    \n1003157    0             63  1959-02-26           English          Straight   \n           2             63  1959-02-26           English          Straight   \n           3             63  1959-02-26           English          Straight   \n1003377    5             58  1964-11-08           English               NaN   \n           6             58  1964-11-08           English               NaN   \n...                     ...         ...               ...               ...   \nK156926    47858         29  1993-02-21           English               NaN   \nK161108    47859         46  1976-06-30           Spanish               NaN   \nV724454    47860         66  1956-03-25           English               NaN   \nX300004    47863         63  1960-01-20           English               NaN   \n           47864         63  1960-01-20           English               NaN   \n\n                  Merged_Gender                     Race_2 Age_group  \\\nPrimaryMrn                                                             \n1003157    0               Male                 Other Race     45-54   \n           2               Male                 Other Race     45-54   \n           3               Male                 Other Race     45-54   \n1003377    5             Female  Black or African-American     45-54   \n           6             Female  Black or African-American     45-54   \n...                         ...                        ...       ...   \nK156926    47858           Male                 Other Race     25-34   \nK161108    47859           Male                 Other Race     45-54   \nV724454    47860           Male                 Other Race     55-64   \nX300004    47863           Male                      White     55-64   \n           47864           Male                      White     55-64   \n\n                 insurance_status  \\\nPrimaryMrn                          \n1003157    0             Self-pay   \n           2             Self-pay   \n           3                  NaN   \n1003377    5                  NaN   \n           6                  NaN   \n...                           ...   \nK156926    47858           Public   \nK161108    47859         Self-pay   \nV724454    47860           Public   \nX300004    47863           Public   \n           47864              NaN   \n\n                                                    CCSR_wSubstance  \nPrimaryMrn                                                           \n1003157    0                                   Depressive disorders  \n           2                            Substance-related disorders  \n           3      Schizophrenia spectrum and other psychotic dis...  \n1003377    5                          Bipolar and related disorders  \n           6                                   Depressive disorders  \n...                                                             ...  \nK156926    47858  Schizophrenia spectrum and other psychotic dis...  \nK161108    47859  Schizophrenia spectrum and other psychotic dis...  \nV724454    47860  Schizophrenia spectrum and other psychotic dis...  \nX300004    47863                               Depressive disorders  \n           47864  Schizophrenia spectrum and other psychotic dis...  \n\n[29544 rows x 25 columns]",
      "text/html": "<div>\n<style scoped>\n    .dataframe tbody tr th:only-of-type {\n        vertical-align: middle;\n    }\n\n    .dataframe tbody tr th {\n        vertical-align: top;\n    }\n\n    .dataframe thead th {\n        text-align: right;\n    }\n</style>\n<table border=\"1\" class=\"dataframe\">\n  <thead>\n    <tr style=\"text-align: right;\">\n      <th></th>\n      <th></th>\n      <th>PrimaryMrn</th>\n      <th>EncounterKey</th>\n      <th>VisitDate</th>\n      <th>AgeAtVisit</th>\n      <th>VisitType</th>\n      <th>VisitType2</th>\n      <th>Value</th>\n      <th>DisplayString</th>\n      <th>PayorFinancialClass</th>\n      <th>ProviderSex</th>\n      <th>...</th>\n      <th>scz_condition</th>\n      <th>AgeInYears</th>\n      <th>BirthDate</th>\n      <th>PreferredLanguage</th>\n      <th>SexualOrientation</th>\n      <th>Merged_Gender</th>\n      <th>Race_2</th>\n      <th>Age_group</th>\n      <th>insurance_status</th>\n      <th>CCSR_wSubstance</th>\n    </tr>\n    <tr>\n      <th>PrimaryMrn</th>\n      <th></th>\n      <th></th>\n      <th></th>\n      <th></th>\n      <th></th>\n      <th></th>\n      <th></th>\n      <th></th>\n      <th></th>\n      <th></th>\n      <th></th>\n      <th></th>\n      <th></th>\n      <th></th>\n      <th></th>\n      <th></th>\n      <th></th>\n      <th></th>\n      <th></th>\n      <th></th>\n      <th></th>\n      <th></th>\n    </tr>\n  </thead>\n  <tbody>\n    <tr>\n      <th rowspan=\"3\" valign=\"top\">1003157</th>\n      <th>0</th>\n      <td>1003157</td>\n      <td>10026992</td>\n      <td>2009-02-02 00:00:00</td>\n      <td>49.0</td>\n      <td>Office Visit</td>\n      <td>Outpatient</td>\n      <td>F32.A</td>\n      <td>Depression, unspecified</td>\n      <td>Self-Pay</td>\n      <td>Male</td>\n      <td>...</td>\n      <td>0</td>\n      <td>63</td>\n      <td>1959-02-26</td>\n      <td>English</td>\n      <td>Straight</td>\n      <td>Male</td>\n      <td>Other Race</td>\n      <td>45-54</td>\n      <td>Self-pay</td>\n      <td>Depressive disorders</td>\n    </tr>\n    <tr>\n      <th>2</th>\n      <td>1003157</td>\n      <td>12589140</td>\n      <td>2011-11-30 00:00:00</td>\n      <td>52.0</td>\n      <td>Psych Conf Office Visit</td>\n      <td>Recurring</td>\n      <td>F19.10</td>\n      <td>Other psychoactive substance abuse, uncomplicated</td>\n      <td>Self-Pay</td>\n      <td>Female</td>\n      <td>...</td>\n      <td>0</td>\n      <td>63</td>\n      <td>1959-02-26</td>\n      <td>English</td>\n      <td>Straight</td>\n      <td>Male</td>\n      <td>Other Race</td>\n      <td>45-54</td>\n      <td>Self-pay</td>\n      <td>Substance-related disorders</td>\n    </tr>\n    <tr>\n      <th>3</th>\n      <td>1003157</td>\n      <td>251130954</td>\n      <td>2012-02-22 00:00:00</td>\n      <td>52.0</td>\n      <td>Office Visit</td>\n      <td>Outpatient</td>\n      <td>F25.9</td>\n      <td>Schizoaffective disorder, unspecified</td>\n      <td>NaN</td>\n      <td>NaN</td>\n      <td>...</td>\n      <td>1</td>\n      <td>63</td>\n      <td>1959-02-26</td>\n      <td>English</td>\n      <td>Straight</td>\n      <td>Male</td>\n      <td>Other Race</td>\n      <td>45-54</td>\n      <td>NaN</td>\n      <td>Schizophrenia spectrum and other psychotic dis...</td>\n    </tr>\n    <tr>\n      <th rowspan=\"2\" valign=\"top\">1003377</th>\n      <th>5</th>\n      <td>1003377</td>\n      <td>136471680</td>\n      <td>2019-07-26 00:00:00</td>\n      <td>54.0</td>\n      <td>Office Visit</td>\n      <td>Outpatient</td>\n      <td>F31.32</td>\n      <td>Bipolar disorder, current episode depressed, m...</td>\n      <td>NaN</td>\n      <td>NaN</td>\n      <td>...</td>\n      <td>0</td>\n      <td>58</td>\n      <td>1964-11-08</td>\n      <td>English</td>\n      <td>NaN</td>\n      <td>Female</td>\n      <td>Black or African-American</td>\n      <td>45-54</td>\n      <td>NaN</td>\n      <td>Bipolar and related disorders</td>\n    </tr>\n    <tr>\n      <th>6</th>\n      <td>1003377</td>\n      <td>169200840</td>\n      <td>2019-10-18 00:00:00</td>\n      <td>54.0</td>\n      <td>Office Visit</td>\n      <td>Outpatient</td>\n      <td>F33.9</td>\n      <td>Major depressive disorder, recurrent, unspecified</td>\n      <td>NaN</td>\n      <td>NaN</td>\n      <td>...</td>\n      <td>0</td>\n      <td>58</td>\n      <td>1964-11-08</td>\n      <td>English</td>\n      <td>NaN</td>\n      <td>Female</td>\n      <td>Black or African-American</td>\n      <td>45-54</td>\n      <td>NaN</td>\n      <td>Depressive disorders</td>\n    </tr>\n    <tr>\n      <th>...</th>\n      <th>...</th>\n      <td>...</td>\n      <td>...</td>\n      <td>...</td>\n      <td>...</td>\n      <td>...</td>\n      <td>...</td>\n      <td>...</td>\n      <td>...</td>\n      <td>...</td>\n      <td>...</td>\n      <td>...</td>\n      <td>...</td>\n      <td>...</td>\n      <td>...</td>\n      <td>...</td>\n      <td>...</td>\n      <td>...</td>\n      <td>...</td>\n      <td>...</td>\n      <td>...</td>\n      <td>...</td>\n    </tr>\n    <tr>\n      <th>K156926</th>\n      <th>47858</th>\n      <td>K156926</td>\n      <td>310672084</td>\n      <td>2022-10-18 00:00:00</td>\n      <td>29.0</td>\n      <td>Office Visit</td>\n      <td>Recurring</td>\n      <td>F25.0</td>\n      <td>Schizoaffective disorder, bipolar type</td>\n      <td>Medicaid Managed Care</td>\n      <td>Female</td>\n      <td>...</td>\n      <td>1</td>\n      <td>29</td>\n      <td>1993-02-21</td>\n      <td>English</td>\n      <td>NaN</td>\n      <td>Male</td>\n      <td>Other Race</td>\n      <td>25-34</td>\n      <td>Public</td>\n      <td>Schizophrenia spectrum and other psychotic dis...</td>\n    </tr>\n    <tr>\n      <th>K161108</th>\n      <th>47859</th>\n      <td>K161108</td>\n      <td>313677350</td>\n      <td>2022-11-29 00:00:00</td>\n      <td>46.0</td>\n      <td>Office Visit</td>\n      <td>Recurring</td>\n      <td>F29</td>\n      <td>Unspecified psychosis not due to a substance o...</td>\n      <td>Self-Pay</td>\n      <td>Female</td>\n      <td>...</td>\n      <td>1</td>\n      <td>46</td>\n      <td>1976-06-30</td>\n      <td>Spanish</td>\n      <td>NaN</td>\n      <td>Male</td>\n      <td>Other Race</td>\n      <td>45-54</td>\n      <td>Self-pay</td>\n      <td>Schizophrenia spectrum and other psychotic dis...</td>\n    </tr>\n    <tr>\n      <th>V724454</th>\n      <th>47860</th>\n      <td>V724454</td>\n      <td>143056795</td>\n      <td>2020-01-30 17:01:00</td>\n      <td>63.0</td>\n      <td>Hospital Encounter</td>\n      <td>Emergency</td>\n      <td>F25.9</td>\n      <td>Schizoaffective disorder, unspecified</td>\n      <td>Medicaid Managed Care</td>\n      <td>Female</td>\n      <td>...</td>\n      <td>1</td>\n      <td>66</td>\n      <td>1956-03-25</td>\n      <td>English</td>\n      <td>NaN</td>\n      <td>Male</td>\n      <td>Other Race</td>\n      <td>55-64</td>\n      <td>Public</td>\n      <td>Schizophrenia spectrum and other psychotic dis...</td>\n    </tr>\n    <tr>\n      <th rowspan=\"2\" valign=\"top\">X300004</th>\n      <th>47863</th>\n      <td>X300004</td>\n      <td>76843447</td>\n      <td>2018-03-10 02:45:00</td>\n      <td>58.0</td>\n      <td>Hospital Encounter</td>\n      <td>Inpatient</td>\n      <td>F32.A</td>\n      <td>Depression, unspecified</td>\n      <td>Medicaid Managed Care</td>\n      <td>Female</td>\n      <td>...</td>\n      <td>0</td>\n      <td>63</td>\n      <td>1960-01-20</td>\n      <td>English</td>\n      <td>NaN</td>\n      <td>Male</td>\n      <td>White</td>\n      <td>55-64</td>\n      <td>Public</td>\n      <td>Depressive disorders</td>\n    </tr>\n    <tr>\n      <th>47864</th>\n      <td>X300004</td>\n      <td>254531792</td>\n      <td>2018-06-13 00:00:00</td>\n      <td>58.0</td>\n      <td>Office Visit</td>\n      <td>Outpatient</td>\n      <td>F25.1</td>\n      <td>Schizoaffective disorder, depressive type</td>\n      <td>NaN</td>\n      <td>NaN</td>\n      <td>...</td>\n      <td>1</td>\n      <td>63</td>\n      <td>1960-01-20</td>\n      <td>English</td>\n      <td>NaN</td>\n      <td>Male</td>\n      <td>White</td>\n      <td>55-64</td>\n      <td>NaN</td>\n      <td>Schizophrenia spectrum and other psychotic dis...</td>\n    </tr>\n  </tbody>\n</table>\n<p>29544 rows × 25 columns</p>\n</div>"
     },
     "execution_count": 3,
     "metadata": {},
     "output_type": "execute_result"
    }
   ],
   "source": [
    "scz_comorbidity['VisitDate'] = pd.to_datetime(scz_comorbidity['VisitDate'])\n",
    "\n",
    "def before_diagnoses(group):\n",
    "    # date = group[group['CCSR_code'] == 'Schizophrenia spectrum and other psychotic disorders']['VisitDate']\n",
    "    date_data = group[group['CCSR_code'] == 'Schizophrenia spectrum and other psychotic disorders']\n",
    "    date = date_data['VisitDate'].loc[date_data.index[0]]\n",
    "    before_data = group[group['VisitDate'] <= date]\n",
    "    return before_data\n",
    "\n",
    "before_scz_comorbidity = scz_comorbidity.groupby('PrimaryMrn').apply(lambda group: before_diagnoses(group))\n",
    "before_scz_comorbidity"
   ],
   "metadata": {
    "collapsed": false,
    "pycharm": {
     "name": "#%%\n"
    }
   }
  },
  {
   "cell_type": "code",
   "execution_count": 4,
   "outputs": [
    {
     "name": "stdout",
     "output_type": "stream",
     "text": [
      "19874\n"
     ]
    }
   ],
   "source": [
    "print(before_scz_comorbidity.PrimaryMrn.nunique())"
   ],
   "metadata": {
    "collapsed": false,
    "pycharm": {
     "name": "#%%\n"
    }
   }
  },
  {
   "cell_type": "code",
   "execution_count": 4,
   "outputs": [
    {
     "name": "stdout",
     "output_type": "stream",
     "text": [
      "323606\n",
      "260842\n"
     ]
    }
   ],
   "source": [
    "# print(control_patients.PrimaryMrn.nunique())\n",
    "# con_comorbidity = control_patients[control_patients['CCSR_wSubstance'].isin(['Schizophrenia spectrum and other psychotic disorders',\n",
    "#                                     'Substance-related disorders',\n",
    "#                                     'Depressive disorders',\n",
    "#                                     'Bipolar and related disorders',\n",
    "#                                     'Trauma- and stressor-related disorders',\n",
    "#                                     'Anxiety and fear-related disorders'])]\n",
    "# print(con_comorbidity.PrimaryMrn.nunique())"
   ],
   "metadata": {
    "collapsed": false,
    "pycharm": {
     "name": "#%%\n"
    }
   }
  },
  {
   "cell_type": "code",
   "execution_count": 5,
   "outputs": [
    {
     "data": {
      "text/plain": "             PrimaryMrn  EncounterKey            VisitDate  AgeAtVisit  \\\n(1003157, 0)    1003157      10026992  2009-02-02 00:00:00        49.0   \n(1003157, 2)    1003157      12589140  2011-11-30 00:00:00        52.0   \n(1003157, 3)    1003157     251130954  2012-02-22 00:00:00        52.0   \n(1003377, 5)    1003377     136471680  2019-07-26 00:00:00        54.0   \n(1003377, 6)    1003377     169200840  2019-10-18 00:00:00        54.0   \n...                 ...           ...                  ...         ...   \n466229          X400206     313708011           2022-11-06       122.0   \n466230          X400207     313707727           2022-11-06        36.0   \n466231          X400208     313709156           2022-11-06        25.0   \n466232          X400209     313707490           2022-11-06        25.0   \n466233          Y900008     307674058           2022-08-01        43.0   \n\n                            VisitType  VisitType2    Value  \\\n(1003157, 0)             Office Visit  Outpatient    F32.A   \n(1003157, 2)  Psych Conf Office Visit   Recurring   F19.10   \n(1003157, 3)             Office Visit  Outpatient    F25.9   \n(1003377, 5)             Office Visit  Outpatient   F31.32   \n(1003377, 6)             Office Visit  Outpatient    F33.9   \n...                               ...         ...      ...   \n466229             Hospital Encounter   Emergency  F10.920   \n466230             Hospital Encounter   Emergency  F10.920   \n466231             Hospital Encounter   Emergency  F10.929   \n466232             Hospital Encounter   Emergency  F10.920   \n466233             Hospital Encounter   Inpatient  F10.139   \n\n                                                  DisplayString  \\\n(1003157, 0)                            Depression, unspecified   \n(1003157, 2)  Other psychoactive substance abuse, uncomplicated   \n(1003157, 3)              Schizoaffective disorder, unspecified   \n(1003377, 5)  Bipolar disorder, current episode depressed, m...   \n(1003377, 6)  Major depressive disorder, recurrent, unspecified   \n...                                                         ...   \n466229        Alcohol use, unspecified with intoxication, un...   \n466230        Alcohol use, unspecified with intoxication, un...   \n466231        Alcohol use, unspecified with intoxication, un...   \n466232        Alcohol use, unspecified with intoxication, un...   \n466233               Alcohol abuse with withdrawal, unspecified   \n\n             PayorFinancialClass ProviderSex  ... PreferredLanguage  \\\n(1003157, 0)            Self-Pay        Male  ...           English   \n(1003157, 2)            Self-Pay      Female  ...           English   \n(1003157, 3)                 NaN         NaN  ...           English   \n(1003377, 5)                 NaN         NaN  ...           English   \n(1003377, 6)                 NaN         NaN  ...           English   \n...                          ...         ...  ...               ...   \n466229                       NaN         NaN  ...           English   \n466230                       NaN         NaN  ...           English   \n466231                       NaN         NaN  ...           English   \n466232                       NaN         NaN  ...           English   \n466233                       NaN         NaN  ...           English   \n\n             SexualOrientation Merged_Gender                     Race_2  \\\n(1003157, 0)          Straight          Male                 Other Race   \n(1003157, 2)          Straight          Male                 Other Race   \n(1003157, 3)          Straight          Male                 Other Race   \n(1003377, 5)               NaN        Female  Black or African-American   \n(1003377, 6)               NaN        Female  Black or African-American   \n...                        ...           ...                        ...   \n466229                     NaN          Male                      White   \n466230                     NaN          Male                 Other Race   \n466231                     NaN          Male  Black or African-American   \n466232                     NaN          Male                 Other Race   \n466233                     NaN          Male                 Other Race   \n\n             Age_group  insurance_status  \\\n(1003157, 0)     45-54          Self-pay   \n(1003157, 2)     45-54          Self-pay   \n(1003157, 3)     45-54               NaN   \n(1003377, 5)     45-54               NaN   \n(1003377, 6)     45-54               NaN   \n...                ...               ...   \n466229             NaN          Self-pay   \n466230             NaN          Self-pay   \n466231             NaN          Self-pay   \n466232             NaN          Self-pay   \n466233             NaN            Public   \n\n                                                CCSR_wSubstance PostalCode  \\\n(1003157, 0)                               Depressive disorders        NaN   \n(1003157, 2)                        Substance-related disorders        NaN   \n(1003157, 3)  Schizophrenia spectrum and other psychotic dis...        NaN   \n(1003377, 5)                      Bipolar and related disorders        NaN   \n(1003377, 6)                               Depressive disorders        NaN   \n...                                                         ...        ...   \n466229                              Substance-related disorders      10019   \n466230                              Substance-related disorders      11420   \n466231                              Substance-related disorders      08042   \n466232                              Substance-related disorders      10019   \n466233                              Substance-related disorders      11370   \n\n             2021_Median_Hincome      ZIPINC_QRTL  \n(1003157, 0)                 NaN              NaN  \n(1003157, 2)                 NaN              NaN  \n(1003157, 3)                 NaN              NaN  \n(1003377, 5)                 NaN              NaN  \n(1003377, 6)                 NaN              NaN  \n...                          ...              ...  \n466229                  105538.0          88,000+  \n466230                   89027.0          88,000+  \n466231                       NaN              NaN  \n466232                  105538.0          88,000+  \n466233                   67241.0  66,000 - 87,999  \n\n[495778 rows x 28 columns]",
      "text/html": "<div>\n<style scoped>\n    .dataframe tbody tr th:only-of-type {\n        vertical-align: middle;\n    }\n\n    .dataframe tbody tr th {\n        vertical-align: top;\n    }\n\n    .dataframe thead th {\n        text-align: right;\n    }\n</style>\n<table border=\"1\" class=\"dataframe\">\n  <thead>\n    <tr style=\"text-align: right;\">\n      <th></th>\n      <th>PrimaryMrn</th>\n      <th>EncounterKey</th>\n      <th>VisitDate</th>\n      <th>AgeAtVisit</th>\n      <th>VisitType</th>\n      <th>VisitType2</th>\n      <th>Value</th>\n      <th>DisplayString</th>\n      <th>PayorFinancialClass</th>\n      <th>ProviderSex</th>\n      <th>...</th>\n      <th>PreferredLanguage</th>\n      <th>SexualOrientation</th>\n      <th>Merged_Gender</th>\n      <th>Race_2</th>\n      <th>Age_group</th>\n      <th>insurance_status</th>\n      <th>CCSR_wSubstance</th>\n      <th>PostalCode</th>\n      <th>2021_Median_Hincome</th>\n      <th>ZIPINC_QRTL</th>\n    </tr>\n  </thead>\n  <tbody>\n    <tr>\n      <th>(1003157, 0)</th>\n      <td>1003157</td>\n      <td>10026992</td>\n      <td>2009-02-02 00:00:00</td>\n      <td>49.0</td>\n      <td>Office Visit</td>\n      <td>Outpatient</td>\n      <td>F32.A</td>\n      <td>Depression, unspecified</td>\n      <td>Self-Pay</td>\n      <td>Male</td>\n      <td>...</td>\n      <td>English</td>\n      <td>Straight</td>\n      <td>Male</td>\n      <td>Other Race</td>\n      <td>45-54</td>\n      <td>Self-pay</td>\n      <td>Depressive disorders</td>\n      <td>NaN</td>\n      <td>NaN</td>\n      <td>NaN</td>\n    </tr>\n    <tr>\n      <th>(1003157, 2)</th>\n      <td>1003157</td>\n      <td>12589140</td>\n      <td>2011-11-30 00:00:00</td>\n      <td>52.0</td>\n      <td>Psych Conf Office Visit</td>\n      <td>Recurring</td>\n      <td>F19.10</td>\n      <td>Other psychoactive substance abuse, uncomplicated</td>\n      <td>Self-Pay</td>\n      <td>Female</td>\n      <td>...</td>\n      <td>English</td>\n      <td>Straight</td>\n      <td>Male</td>\n      <td>Other Race</td>\n      <td>45-54</td>\n      <td>Self-pay</td>\n      <td>Substance-related disorders</td>\n      <td>NaN</td>\n      <td>NaN</td>\n      <td>NaN</td>\n    </tr>\n    <tr>\n      <th>(1003157, 3)</th>\n      <td>1003157</td>\n      <td>251130954</td>\n      <td>2012-02-22 00:00:00</td>\n      <td>52.0</td>\n      <td>Office Visit</td>\n      <td>Outpatient</td>\n      <td>F25.9</td>\n      <td>Schizoaffective disorder, unspecified</td>\n      <td>NaN</td>\n      <td>NaN</td>\n      <td>...</td>\n      <td>English</td>\n      <td>Straight</td>\n      <td>Male</td>\n      <td>Other Race</td>\n      <td>45-54</td>\n      <td>NaN</td>\n      <td>Schizophrenia spectrum and other psychotic dis...</td>\n      <td>NaN</td>\n      <td>NaN</td>\n      <td>NaN</td>\n    </tr>\n    <tr>\n      <th>(1003377, 5)</th>\n      <td>1003377</td>\n      <td>136471680</td>\n      <td>2019-07-26 00:00:00</td>\n      <td>54.0</td>\n      <td>Office Visit</td>\n      <td>Outpatient</td>\n      <td>F31.32</td>\n      <td>Bipolar disorder, current episode depressed, m...</td>\n      <td>NaN</td>\n      <td>NaN</td>\n      <td>...</td>\n      <td>English</td>\n      <td>NaN</td>\n      <td>Female</td>\n      <td>Black or African-American</td>\n      <td>45-54</td>\n      <td>NaN</td>\n      <td>Bipolar and related disorders</td>\n      <td>NaN</td>\n      <td>NaN</td>\n      <td>NaN</td>\n    </tr>\n    <tr>\n      <th>(1003377, 6)</th>\n      <td>1003377</td>\n      <td>169200840</td>\n      <td>2019-10-18 00:00:00</td>\n      <td>54.0</td>\n      <td>Office Visit</td>\n      <td>Outpatient</td>\n      <td>F33.9</td>\n      <td>Major depressive disorder, recurrent, unspecified</td>\n      <td>NaN</td>\n      <td>NaN</td>\n      <td>...</td>\n      <td>English</td>\n      <td>NaN</td>\n      <td>Female</td>\n      <td>Black or African-American</td>\n      <td>45-54</td>\n      <td>NaN</td>\n      <td>Depressive disorders</td>\n      <td>NaN</td>\n      <td>NaN</td>\n      <td>NaN</td>\n    </tr>\n    <tr>\n      <th>...</th>\n      <td>...</td>\n      <td>...</td>\n      <td>...</td>\n      <td>...</td>\n      <td>...</td>\n      <td>...</td>\n      <td>...</td>\n      <td>...</td>\n      <td>...</td>\n      <td>...</td>\n      <td>...</td>\n      <td>...</td>\n      <td>...</td>\n      <td>...</td>\n      <td>...</td>\n      <td>...</td>\n      <td>...</td>\n      <td>...</td>\n      <td>...</td>\n      <td>...</td>\n      <td>...</td>\n    </tr>\n    <tr>\n      <th>466229</th>\n      <td>X400206</td>\n      <td>313708011</td>\n      <td>2022-11-06</td>\n      <td>122.0</td>\n      <td>Hospital Encounter</td>\n      <td>Emergency</td>\n      <td>F10.920</td>\n      <td>Alcohol use, unspecified with intoxication, un...</td>\n      <td>NaN</td>\n      <td>NaN</td>\n      <td>...</td>\n      <td>English</td>\n      <td>NaN</td>\n      <td>Male</td>\n      <td>White</td>\n      <td>NaN</td>\n      <td>Self-pay</td>\n      <td>Substance-related disorders</td>\n      <td>10019</td>\n      <td>105538.0</td>\n      <td>88,000+</td>\n    </tr>\n    <tr>\n      <th>466230</th>\n      <td>X400207</td>\n      <td>313707727</td>\n      <td>2022-11-06</td>\n      <td>36.0</td>\n      <td>Hospital Encounter</td>\n      <td>Emergency</td>\n      <td>F10.920</td>\n      <td>Alcohol use, unspecified with intoxication, un...</td>\n      <td>NaN</td>\n      <td>NaN</td>\n      <td>...</td>\n      <td>English</td>\n      <td>NaN</td>\n      <td>Male</td>\n      <td>Other Race</td>\n      <td>NaN</td>\n      <td>Self-pay</td>\n      <td>Substance-related disorders</td>\n      <td>11420</td>\n      <td>89027.0</td>\n      <td>88,000+</td>\n    </tr>\n    <tr>\n      <th>466231</th>\n      <td>X400208</td>\n      <td>313709156</td>\n      <td>2022-11-06</td>\n      <td>25.0</td>\n      <td>Hospital Encounter</td>\n      <td>Emergency</td>\n      <td>F10.929</td>\n      <td>Alcohol use, unspecified with intoxication, un...</td>\n      <td>NaN</td>\n      <td>NaN</td>\n      <td>...</td>\n      <td>English</td>\n      <td>NaN</td>\n      <td>Male</td>\n      <td>Black or African-American</td>\n      <td>NaN</td>\n      <td>Self-pay</td>\n      <td>Substance-related disorders</td>\n      <td>08042</td>\n      <td>NaN</td>\n      <td>NaN</td>\n    </tr>\n    <tr>\n      <th>466232</th>\n      <td>X400209</td>\n      <td>313707490</td>\n      <td>2022-11-06</td>\n      <td>25.0</td>\n      <td>Hospital Encounter</td>\n      <td>Emergency</td>\n      <td>F10.920</td>\n      <td>Alcohol use, unspecified with intoxication, un...</td>\n      <td>NaN</td>\n      <td>NaN</td>\n      <td>...</td>\n      <td>English</td>\n      <td>NaN</td>\n      <td>Male</td>\n      <td>Other Race</td>\n      <td>NaN</td>\n      <td>Self-pay</td>\n      <td>Substance-related disorders</td>\n      <td>10019</td>\n      <td>105538.0</td>\n      <td>88,000+</td>\n    </tr>\n    <tr>\n      <th>466233</th>\n      <td>Y900008</td>\n      <td>307674058</td>\n      <td>2022-08-01</td>\n      <td>43.0</td>\n      <td>Hospital Encounter</td>\n      <td>Inpatient</td>\n      <td>F10.139</td>\n      <td>Alcohol abuse with withdrawal, unspecified</td>\n      <td>NaN</td>\n      <td>NaN</td>\n      <td>...</td>\n      <td>English</td>\n      <td>NaN</td>\n      <td>Male</td>\n      <td>Other Race</td>\n      <td>NaN</td>\n      <td>Public</td>\n      <td>Substance-related disorders</td>\n      <td>11370</td>\n      <td>67241.0</td>\n      <td>66,000 - 87,999</td>\n    </tr>\n  </tbody>\n</table>\n<p>495778 rows × 28 columns</p>\n</div>"
     },
     "execution_count": 5,
     "metadata": {},
     "output_type": "execute_result"
    }
   ],
   "source": [
    "# df_comorbidity = pd.concat([before_scz_comorbidity,con_comorbidity])\n",
    "df_comorbidity = pd.concat([before_scz_comorbidity,control_patients])\n",
    "df_comorbidity"
   ],
   "metadata": {
    "collapsed": false,
    "pycharm": {
     "name": "#%%\n"
    }
   }
  },
  {
   "cell_type": "code",
   "execution_count": 6,
   "outputs": [
    {
     "data": {
      "text/plain": "CCSR_wSubstance  Anxiety and fear-related disorders  \\\nPrimaryMrn                                            \n1000094                                           0   \n1000224                                           1   \n1000417                                           1   \n1000445                                           0   \n1000446                                           0   \n...                                             ...   \nX400206                                           0   \nX400207                                           0   \nX400208                                           0   \nX400209                                           0   \nY900008                                           0   \n\nCCSR_wSubstance  Bipolar and related disorders  Depressive disorders  \\\nPrimaryMrn                                                             \n1000094                                      0                     0   \n1000224                                      0                     0   \n1000417                                      0                     1   \n1000445                                      0                     0   \n1000446                                      0                     1   \n...                                        ...                   ...   \nX400206                                      0                     0   \nX400207                                      0                     0   \nX400208                                      0                     0   \nX400209                                      0                     0   \nY900008                                      0                     0   \n\nCCSR_wSubstance  Disruptive, impulse-control and conduct disorders  \\\nPrimaryMrn                                                           \n1000094                                                          0   \n1000224                                                          0   \n1000417                                                          0   \n1000445                                                          0   \n1000446                                                          0   \n...                                                            ...   \nX400206                                                          0   \nX400207                                                          0   \nX400208                                                          0   \nX400209                                                          0   \nY900008                                                          0   \n\nCCSR_wSubstance  Feeding and eating disorders  Hearing loss  \\\nPrimaryMrn                                                    \n1000094                                     0             0   \n1000224                                     0             0   \n1000417                                     0             0   \n1000445                                     0             0   \n1000446                                     0             0   \n...                                       ...           ...   \nX400206                                     0             0   \nX400207                                     0             0   \nX400208                                     0             0   \nX400209                                     0             0   \nY900008                                     0             0   \n\nCCSR_wSubstance  Mental and substance use disorders in remission  \\\nPrimaryMrn                                                         \n1000094                                                        0   \n1000224                                                        0   \n1000417                                                        0   \n1000445                                                        0   \n1000446                                                        0   \n...                                                          ...   \nX400206                                                        0   \nX400207                                                        0   \nX400208                                                        0   \nX400209                                                        0   \nY900008                                                        0   \n\nCCSR_wSubstance  Miscellaneous mental and behavioral disorders/conditions  \\\nPrimaryMrn                                                                  \n1000094                                                          0          \n1000224                                                          0          \n1000417                                                          0          \n1000445                                                          0          \n1000446                                                          0          \n...                                                            ...          \nX400206                                                          0          \nX400207                                                          0          \nX400208                                                          0          \nX400209                                                          0          \nY900008                                                          0          \n\nCCSR_wSubstance  Neurocognitive disorders  Neurodevelopmental disorders  \\\nPrimaryMrn                                                                \n1000094                                 0                             0   \n1000224                                 0                             0   \n1000417                                 0                             0   \n1000445                                 0                             0   \n1000446                                 0                             0   \n...                                   ...                           ...   \nX400206                                 0                             0   \nX400207                                 0                             0   \nX400208                                 0                             0   \nX400209                                 0                             0   \nY900008                                 0                             0   \n\nCCSR_wSubstance  Obsessive-compulsive and related disorders  \\\nPrimaryMrn                                                    \n1000094                                                   0   \n1000224                                                   0   \n1000417                                                   0   \n1000445                                                   0   \n1000446                                                   0   \n...                                                     ...   \nX400206                                                   0   \nX400207                                                   0   \nX400208                                                   0   \nX400209                                                   0   \nY900008                                                   0   \n\nCCSR_wSubstance  Other specified and unspecified mood disorders  \\\nPrimaryMrn                                                        \n1000094                                                       0   \n1000224                                                       0   \n1000417                                                       0   \n1000445                                                       1   \n1000446                                                       0   \n...                                                         ...   \nX400206                                                       0   \nX400207                                                       0   \nX400208                                                       0   \nX400209                                                       0   \nY900008                                                       0   \n\nCCSR_wSubstance  Personality disorders  \\\nPrimaryMrn                               \n1000094                              0   \n1000224                              0   \n1000417                              0   \n1000445                              0   \n1000446                              0   \n...                                ...   \nX400206                              0   \nX400207                              0   \nX400208                              0   \nX400209                              0   \nY900008                              0   \n\nCCSR_wSubstance  Schizophrenia spectrum and other psychotic disorders  \\\nPrimaryMrn                                                              \n1000094                                                          0      \n1000224                                                          0      \n1000417                                                          0      \n1000445                                                          0      \n1000446                                                          0      \n...                                                            ...      \nX400206                                                          0      \nX400207                                                          0      \nX400208                                                          0      \nX400209                                                          0      \nY900008                                                          0      \n\nCCSR_wSubstance  Sleep wake disorders  Somatic disorders  \\\nPrimaryMrn                                                 \n1000094                             0                  0   \n1000224                             0                  0   \n1000417                             0                  0   \n1000445                             0                  0   \n1000446                             0                  0   \n...                               ...                ...   \nX400206                             0                  0   \nX400207                             0                  0   \nX400208                             0                  0   \nX400209                             0                  0   \nY900008                             0                  0   \n\nCCSR_wSubstance  Substance-related disorders  \\\nPrimaryMrn                                     \n1000094                                    0   \n1000224                                    1   \n1000417                                    0   \n1000445                                    0   \n1000446                                    0   \n...                                      ...   \nX400206                                    1   \nX400207                                    1   \nX400208                                    1   \nX400209                                    1   \nY900008                                    1   \n\nCCSR_wSubstance  Trauma- and stressor-related disorders  Urinary incontinence  \nPrimaryMrn                                                                     \n1000094                                               1                     0  \n1000224                                               0                     0  \n1000417                                               0                     0  \n1000445                                               0                     0  \n1000446                                               0                     0  \n...                                                 ...                   ...  \nX400206                                               0                     0  \nX400207                                               0                     0  \nX400208                                               0                     0  \nX400209                                               0                     0  \nY900008                                               0                     0  \n\n[343414 rows x 19 columns]",
      "text/html": "<div>\n<style scoped>\n    .dataframe tbody tr th:only-of-type {\n        vertical-align: middle;\n    }\n\n    .dataframe tbody tr th {\n        vertical-align: top;\n    }\n\n    .dataframe thead th {\n        text-align: right;\n    }\n</style>\n<table border=\"1\" class=\"dataframe\">\n  <thead>\n    <tr style=\"text-align: right;\">\n      <th>CCSR_wSubstance</th>\n      <th>Anxiety and fear-related disorders</th>\n      <th>Bipolar and related disorders</th>\n      <th>Depressive disorders</th>\n      <th>Disruptive, impulse-control and conduct disorders</th>\n      <th>Feeding and eating disorders</th>\n      <th>Hearing loss</th>\n      <th>Mental and substance use disorders in remission</th>\n      <th>Miscellaneous mental and behavioral disorders/conditions</th>\n      <th>Neurocognitive disorders</th>\n      <th>Neurodevelopmental disorders</th>\n      <th>Obsessive-compulsive and related disorders</th>\n      <th>Other specified and unspecified mood disorders</th>\n      <th>Personality disorders</th>\n      <th>Schizophrenia spectrum and other psychotic disorders</th>\n      <th>Sleep wake disorders</th>\n      <th>Somatic disorders</th>\n      <th>Substance-related disorders</th>\n      <th>Trauma- and stressor-related disorders</th>\n      <th>Urinary incontinence</th>\n    </tr>\n    <tr>\n      <th>PrimaryMrn</th>\n      <th></th>\n      <th></th>\n      <th></th>\n      <th></th>\n      <th></th>\n      <th></th>\n      <th></th>\n      <th></th>\n      <th></th>\n      <th></th>\n      <th></th>\n      <th></th>\n      <th></th>\n      <th></th>\n      <th></th>\n      <th></th>\n      <th></th>\n      <th></th>\n      <th></th>\n    </tr>\n  </thead>\n  <tbody>\n    <tr>\n      <th>1000094</th>\n      <td>0</td>\n      <td>0</td>\n      <td>0</td>\n      <td>0</td>\n      <td>0</td>\n      <td>0</td>\n      <td>0</td>\n      <td>0</td>\n      <td>0</td>\n      <td>0</td>\n      <td>0</td>\n      <td>0</td>\n      <td>0</td>\n      <td>0</td>\n      <td>0</td>\n      <td>0</td>\n      <td>0</td>\n      <td>1</td>\n      <td>0</td>\n    </tr>\n    <tr>\n      <th>1000224</th>\n      <td>1</td>\n      <td>0</td>\n      <td>0</td>\n      <td>0</td>\n      <td>0</td>\n      <td>0</td>\n      <td>0</td>\n      <td>0</td>\n      <td>0</td>\n      <td>0</td>\n      <td>0</td>\n      <td>0</td>\n      <td>0</td>\n      <td>0</td>\n      <td>0</td>\n      <td>0</td>\n      <td>1</td>\n      <td>0</td>\n      <td>0</td>\n    </tr>\n    <tr>\n      <th>1000417</th>\n      <td>1</td>\n      <td>0</td>\n      <td>1</td>\n      <td>0</td>\n      <td>0</td>\n      <td>0</td>\n      <td>0</td>\n      <td>0</td>\n      <td>0</td>\n      <td>0</td>\n      <td>0</td>\n      <td>0</td>\n      <td>0</td>\n      <td>0</td>\n      <td>0</td>\n      <td>0</td>\n      <td>0</td>\n      <td>0</td>\n      <td>0</td>\n    </tr>\n    <tr>\n      <th>1000445</th>\n      <td>0</td>\n      <td>0</td>\n      <td>0</td>\n      <td>0</td>\n      <td>0</td>\n      <td>0</td>\n      <td>0</td>\n      <td>0</td>\n      <td>0</td>\n      <td>0</td>\n      <td>0</td>\n      <td>1</td>\n      <td>0</td>\n      <td>0</td>\n      <td>0</td>\n      <td>0</td>\n      <td>0</td>\n      <td>0</td>\n      <td>0</td>\n    </tr>\n    <tr>\n      <th>1000446</th>\n      <td>0</td>\n      <td>0</td>\n      <td>1</td>\n      <td>0</td>\n      <td>0</td>\n      <td>0</td>\n      <td>0</td>\n      <td>0</td>\n      <td>0</td>\n      <td>0</td>\n      <td>0</td>\n      <td>0</td>\n      <td>0</td>\n      <td>0</td>\n      <td>0</td>\n      <td>0</td>\n      <td>0</td>\n      <td>0</td>\n      <td>0</td>\n    </tr>\n    <tr>\n      <th>...</th>\n      <td>...</td>\n      <td>...</td>\n      <td>...</td>\n      <td>...</td>\n      <td>...</td>\n      <td>...</td>\n      <td>...</td>\n      <td>...</td>\n      <td>...</td>\n      <td>...</td>\n      <td>...</td>\n      <td>...</td>\n      <td>...</td>\n      <td>...</td>\n      <td>...</td>\n      <td>...</td>\n      <td>...</td>\n      <td>...</td>\n      <td>...</td>\n    </tr>\n    <tr>\n      <th>X400206</th>\n      <td>0</td>\n      <td>0</td>\n      <td>0</td>\n      <td>0</td>\n      <td>0</td>\n      <td>0</td>\n      <td>0</td>\n      <td>0</td>\n      <td>0</td>\n      <td>0</td>\n      <td>0</td>\n      <td>0</td>\n      <td>0</td>\n      <td>0</td>\n      <td>0</td>\n      <td>0</td>\n      <td>1</td>\n      <td>0</td>\n      <td>0</td>\n    </tr>\n    <tr>\n      <th>X400207</th>\n      <td>0</td>\n      <td>0</td>\n      <td>0</td>\n      <td>0</td>\n      <td>0</td>\n      <td>0</td>\n      <td>0</td>\n      <td>0</td>\n      <td>0</td>\n      <td>0</td>\n      <td>0</td>\n      <td>0</td>\n      <td>0</td>\n      <td>0</td>\n      <td>0</td>\n      <td>0</td>\n      <td>1</td>\n      <td>0</td>\n      <td>0</td>\n    </tr>\n    <tr>\n      <th>X400208</th>\n      <td>0</td>\n      <td>0</td>\n      <td>0</td>\n      <td>0</td>\n      <td>0</td>\n      <td>0</td>\n      <td>0</td>\n      <td>0</td>\n      <td>0</td>\n      <td>0</td>\n      <td>0</td>\n      <td>0</td>\n      <td>0</td>\n      <td>0</td>\n      <td>0</td>\n      <td>0</td>\n      <td>1</td>\n      <td>0</td>\n      <td>0</td>\n    </tr>\n    <tr>\n      <th>X400209</th>\n      <td>0</td>\n      <td>0</td>\n      <td>0</td>\n      <td>0</td>\n      <td>0</td>\n      <td>0</td>\n      <td>0</td>\n      <td>0</td>\n      <td>0</td>\n      <td>0</td>\n      <td>0</td>\n      <td>0</td>\n      <td>0</td>\n      <td>0</td>\n      <td>0</td>\n      <td>0</td>\n      <td>1</td>\n      <td>0</td>\n      <td>0</td>\n    </tr>\n    <tr>\n      <th>Y900008</th>\n      <td>0</td>\n      <td>0</td>\n      <td>0</td>\n      <td>0</td>\n      <td>0</td>\n      <td>0</td>\n      <td>0</td>\n      <td>0</td>\n      <td>0</td>\n      <td>0</td>\n      <td>0</td>\n      <td>0</td>\n      <td>0</td>\n      <td>0</td>\n      <td>0</td>\n      <td>0</td>\n      <td>1</td>\n      <td>0</td>\n      <td>0</td>\n    </tr>\n  </tbody>\n</table>\n<p>343414 rows × 19 columns</p>\n</div>"
     },
     "execution_count": 6,
     "metadata": {},
     "output_type": "execute_result"
    }
   ],
   "source": [
    "co_mat = pd.crosstab(df_comorbidity.PrimaryMrn, df_comorbidity.CCSR_wSubstance)\n",
    "co_mat"
   ],
   "metadata": {
    "collapsed": false,
    "pycharm": {
     "name": "#%%\n"
    }
   }
  },
  {
   "cell_type": "code",
   "execution_count": 7,
   "outputs": [
    {
     "name": "stdout",
     "output_type": "stream",
     "text": [
      "323606\n"
     ]
    },
    {
     "data": {
      "text/plain": "       PrimaryMrn  AgeInYears   BirthDate PreferredLanguage SexualOrientation  \\\n0         1000094        48.0  1974-12-10           English               NaN   \n1         1000224        75.0  1947-09-29           English          Straight   \n3         1000417        54.0  1968-05-25           English          Straight   \n5         1000445        48.0  1974-05-01           English               NaN   \n6         1000446        48.0  1974-08-23           English               NaN   \n...           ...         ...         ...               ...               ...   \n466229    X400206       122.0  1900-11-06           English               NaN   \n466230    X400207        36.0  1986-07-26           English               NaN   \n466231    X400208        26.0  1996-12-13           English               NaN   \n466232    X400209        26.0  1996-11-24           English               NaN   \n466233    Y900008        44.0  1978-10-20           English               NaN   \n\n       PostalCode  EncounterKey  AgeAtVisit   VisitDate  \\\n0         10029.0     323315612        47.0  2022-11-12   \n1         10701.0       3561374        62.0  2010-06-24   \n3         10039.0       3068279        41.0  2010-02-03   \n5         10025.0      56386678        42.0  2017-03-23   \n6         10029.0      53840418        42.0  2017-01-25   \n...           ...           ...         ...         ...   \n466229      10019     313708011       122.0  2022-11-06   \n466230      11420     313707727        36.0  2022-11-06   \n466231      08042     313709156        25.0  2022-11-06   \n466232      10019     313707490        25.0  2022-11-06   \n466233      11370     307674058        43.0  2022-08-01   \n\n                      VisitType  VisitType2    Value  \\\n0            Hospital Encounter   Emergency   F43.24   \n1       Psych Conf Office Visit  Outpatient    F41.1   \n3          Psych Conf Telephone         NaN    F33.1   \n5                Admission Eval  Outpatient      F39   \n6                  Office Visit  Outpatient    F32.A   \n...                         ...         ...      ...   \n466229       Hospital Encounter   Emergency  F10.920   \n466230       Hospital Encounter   Emergency  F10.920   \n466231       Hospital Encounter   Emergency  F10.929   \n466232       Hospital Encounter   Emergency  F10.920   \n466233       Hospital Encounter   Inpatient  F10.139   \n\n                                            DisplayString  \\\n0         Adjustment disorder with disturbance of conduct   \n1                            Generalized anxiety disorder   \n3          Major depressive disorder, recurrent, moderate   \n5                   Unspecified mood (affective) disorder   \n6                                 Depression, unspecified   \n...                                                   ...   \n466229  Alcohol use, unspecified with intoxication, un...   \n466230  Alcohol use, unspecified with intoxication, un...   \n466231  Alcohol use, unspecified with intoxication, un...   \n466232  Alcohol use, unspecified with intoxication, un...   \n466233         Alcohol abuse with withdrawal, unspecified   \n\n                                             CCSR_code  \\\n0               Trauma- and stressor-related disorders   \n1                   Anxiety and fear-related disorders   \n3                                 Depressive disorders   \n5       Other specified and unspecified mood disorders   \n6                                 Depressive disorders   \n...                                                ...   \n466229                       Alcohol-related disorders   \n466230                       Alcohol-related disorders   \n466231                       Alcohol-related disorders   \n466232                       Alcohol-related disorders   \n466233                       Alcohol-related disorders   \n\n                                       CCSR_wSubstance Merged_Gender  \\\n0               Trauma- and stressor-related disorders          Male   \n1                   Anxiety and fear-related disorders          Male   \n3                                 Depressive disorders        Female   \n5       Other specified and unspecified mood disorders        Female   \n6                                 Depressive disorders        Female   \n...                                                ...           ...   \n466229                     Substance-related disorders          Male   \n466230                     Substance-related disorders          Male   \n466231                     Substance-related disorders          Male   \n466232                     Substance-related disorders          Male   \n466233                     Substance-related disorders          Male   \n\n                           Race_2 insurance_status  2021_Median_Hincome  \\\n0                      Other Race          Private              33901.0   \n1       Black or African-American         Self-pay              55553.0   \n3       Black or African-American         Self-pay              50164.0   \n5                      Other Race         Self-pay             103440.0   \n6                      Other Race           Public              33901.0   \n...                           ...              ...                  ...   \n466229                      White         Self-pay             105538.0   \n466230                 Other Race         Self-pay              89027.0   \n466231  Black or African-American         Self-pay                  NaN   \n466232                 Other Race         Self-pay             105538.0   \n466233                 Other Race           Public              67241.0   \n\n            ZIPINC_QRTL  \n0               <52,000  \n1       52,000 - 65,999  \n3               <52,000  \n5               88,000+  \n6               <52,000  \n...                 ...  \n466229          88,000+  \n466230          88,000+  \n466231              NaN  \n466232          88,000+  \n466233  66,000 - 87,999  \n\n[323606 rows x 20 columns]",
      "text/html": "<div>\n<style scoped>\n    .dataframe tbody tr th:only-of-type {\n        vertical-align: middle;\n    }\n\n    .dataframe tbody tr th {\n        vertical-align: top;\n    }\n\n    .dataframe thead th {\n        text-align: right;\n    }\n</style>\n<table border=\"1\" class=\"dataframe\">\n  <thead>\n    <tr style=\"text-align: right;\">\n      <th></th>\n      <th>PrimaryMrn</th>\n      <th>AgeInYears</th>\n      <th>BirthDate</th>\n      <th>PreferredLanguage</th>\n      <th>SexualOrientation</th>\n      <th>PostalCode</th>\n      <th>EncounterKey</th>\n      <th>AgeAtVisit</th>\n      <th>VisitDate</th>\n      <th>VisitType</th>\n      <th>VisitType2</th>\n      <th>Value</th>\n      <th>DisplayString</th>\n      <th>CCSR_code</th>\n      <th>CCSR_wSubstance</th>\n      <th>Merged_Gender</th>\n      <th>Race_2</th>\n      <th>insurance_status</th>\n      <th>2021_Median_Hincome</th>\n      <th>ZIPINC_QRTL</th>\n    </tr>\n  </thead>\n  <tbody>\n    <tr>\n      <th>0</th>\n      <td>1000094</td>\n      <td>48.0</td>\n      <td>1974-12-10</td>\n      <td>English</td>\n      <td>NaN</td>\n      <td>10029.0</td>\n      <td>323315612</td>\n      <td>47.0</td>\n      <td>2022-11-12</td>\n      <td>Hospital Encounter</td>\n      <td>Emergency</td>\n      <td>F43.24</td>\n      <td>Adjustment disorder with disturbance of conduct</td>\n      <td>Trauma- and stressor-related disorders</td>\n      <td>Trauma- and stressor-related disorders</td>\n      <td>Male</td>\n      <td>Other Race</td>\n      <td>Private</td>\n      <td>33901.0</td>\n      <td>&lt;52,000</td>\n    </tr>\n    <tr>\n      <th>1</th>\n      <td>1000224</td>\n      <td>75.0</td>\n      <td>1947-09-29</td>\n      <td>English</td>\n      <td>Straight</td>\n      <td>10701.0</td>\n      <td>3561374</td>\n      <td>62.0</td>\n      <td>2010-06-24</td>\n      <td>Psych Conf Office Visit</td>\n      <td>Outpatient</td>\n      <td>F41.1</td>\n      <td>Generalized anxiety disorder</td>\n      <td>Anxiety and fear-related disorders</td>\n      <td>Anxiety and fear-related disorders</td>\n      <td>Male</td>\n      <td>Black or African-American</td>\n      <td>Self-pay</td>\n      <td>55553.0</td>\n      <td>52,000 - 65,999</td>\n    </tr>\n    <tr>\n      <th>3</th>\n      <td>1000417</td>\n      <td>54.0</td>\n      <td>1968-05-25</td>\n      <td>English</td>\n      <td>Straight</td>\n      <td>10039.0</td>\n      <td>3068279</td>\n      <td>41.0</td>\n      <td>2010-02-03</td>\n      <td>Psych Conf Telephone</td>\n      <td>NaN</td>\n      <td>F33.1</td>\n      <td>Major depressive disorder, recurrent, moderate</td>\n      <td>Depressive disorders</td>\n      <td>Depressive disorders</td>\n      <td>Female</td>\n      <td>Black or African-American</td>\n      <td>Self-pay</td>\n      <td>50164.0</td>\n      <td>&lt;52,000</td>\n    </tr>\n    <tr>\n      <th>5</th>\n      <td>1000445</td>\n      <td>48.0</td>\n      <td>1974-05-01</td>\n      <td>English</td>\n      <td>NaN</td>\n      <td>10025.0</td>\n      <td>56386678</td>\n      <td>42.0</td>\n      <td>2017-03-23</td>\n      <td>Admission Eval</td>\n      <td>Outpatient</td>\n      <td>F39</td>\n      <td>Unspecified mood (affective) disorder</td>\n      <td>Other specified and unspecified mood disorders</td>\n      <td>Other specified and unspecified mood disorders</td>\n      <td>Female</td>\n      <td>Other Race</td>\n      <td>Self-pay</td>\n      <td>103440.0</td>\n      <td>88,000+</td>\n    </tr>\n    <tr>\n      <th>6</th>\n      <td>1000446</td>\n      <td>48.0</td>\n      <td>1974-08-23</td>\n      <td>English</td>\n      <td>NaN</td>\n      <td>10029.0</td>\n      <td>53840418</td>\n      <td>42.0</td>\n      <td>2017-01-25</td>\n      <td>Office Visit</td>\n      <td>Outpatient</td>\n      <td>F32.A</td>\n      <td>Depression, unspecified</td>\n      <td>Depressive disorders</td>\n      <td>Depressive disorders</td>\n      <td>Female</td>\n      <td>Other Race</td>\n      <td>Public</td>\n      <td>33901.0</td>\n      <td>&lt;52,000</td>\n    </tr>\n    <tr>\n      <th>...</th>\n      <td>...</td>\n      <td>...</td>\n      <td>...</td>\n      <td>...</td>\n      <td>...</td>\n      <td>...</td>\n      <td>...</td>\n      <td>...</td>\n      <td>...</td>\n      <td>...</td>\n      <td>...</td>\n      <td>...</td>\n      <td>...</td>\n      <td>...</td>\n      <td>...</td>\n      <td>...</td>\n      <td>...</td>\n      <td>...</td>\n      <td>...</td>\n      <td>...</td>\n    </tr>\n    <tr>\n      <th>466229</th>\n      <td>X400206</td>\n      <td>122.0</td>\n      <td>1900-11-06</td>\n      <td>English</td>\n      <td>NaN</td>\n      <td>10019</td>\n      <td>313708011</td>\n      <td>122.0</td>\n      <td>2022-11-06</td>\n      <td>Hospital Encounter</td>\n      <td>Emergency</td>\n      <td>F10.920</td>\n      <td>Alcohol use, unspecified with intoxication, un...</td>\n      <td>Alcohol-related disorders</td>\n      <td>Substance-related disorders</td>\n      <td>Male</td>\n      <td>White</td>\n      <td>Self-pay</td>\n      <td>105538.0</td>\n      <td>88,000+</td>\n    </tr>\n    <tr>\n      <th>466230</th>\n      <td>X400207</td>\n      <td>36.0</td>\n      <td>1986-07-26</td>\n      <td>English</td>\n      <td>NaN</td>\n      <td>11420</td>\n      <td>313707727</td>\n      <td>36.0</td>\n      <td>2022-11-06</td>\n      <td>Hospital Encounter</td>\n      <td>Emergency</td>\n      <td>F10.920</td>\n      <td>Alcohol use, unspecified with intoxication, un...</td>\n      <td>Alcohol-related disorders</td>\n      <td>Substance-related disorders</td>\n      <td>Male</td>\n      <td>Other Race</td>\n      <td>Self-pay</td>\n      <td>89027.0</td>\n      <td>88,000+</td>\n    </tr>\n    <tr>\n      <th>466231</th>\n      <td>X400208</td>\n      <td>26.0</td>\n      <td>1996-12-13</td>\n      <td>English</td>\n      <td>NaN</td>\n      <td>08042</td>\n      <td>313709156</td>\n      <td>25.0</td>\n      <td>2022-11-06</td>\n      <td>Hospital Encounter</td>\n      <td>Emergency</td>\n      <td>F10.929</td>\n      <td>Alcohol use, unspecified with intoxication, un...</td>\n      <td>Alcohol-related disorders</td>\n      <td>Substance-related disorders</td>\n      <td>Male</td>\n      <td>Black or African-American</td>\n      <td>Self-pay</td>\n      <td>NaN</td>\n      <td>NaN</td>\n    </tr>\n    <tr>\n      <th>466232</th>\n      <td>X400209</td>\n      <td>26.0</td>\n      <td>1996-11-24</td>\n      <td>English</td>\n      <td>NaN</td>\n      <td>10019</td>\n      <td>313707490</td>\n      <td>25.0</td>\n      <td>2022-11-06</td>\n      <td>Hospital Encounter</td>\n      <td>Emergency</td>\n      <td>F10.920</td>\n      <td>Alcohol use, unspecified with intoxication, un...</td>\n      <td>Alcohol-related disorders</td>\n      <td>Substance-related disorders</td>\n      <td>Male</td>\n      <td>Other Race</td>\n      <td>Self-pay</td>\n      <td>105538.0</td>\n      <td>88,000+</td>\n    </tr>\n    <tr>\n      <th>466233</th>\n      <td>Y900008</td>\n      <td>44.0</td>\n      <td>1978-10-20</td>\n      <td>English</td>\n      <td>NaN</td>\n      <td>11370</td>\n      <td>307674058</td>\n      <td>43.0</td>\n      <td>2022-08-01</td>\n      <td>Hospital Encounter</td>\n      <td>Inpatient</td>\n      <td>F10.139</td>\n      <td>Alcohol abuse with withdrawal, unspecified</td>\n      <td>Alcohol-related disorders</td>\n      <td>Substance-related disorders</td>\n      <td>Male</td>\n      <td>Other Race</td>\n      <td>Public</td>\n      <td>67241.0</td>\n      <td>66,000 - 87,999</td>\n    </tr>\n  </tbody>\n</table>\n<p>323606 rows × 20 columns</p>\n</div>"
     },
     "execution_count": 7,
     "metadata": {},
     "output_type": "execute_result"
    }
   ],
   "source": [
    "control_patients_demographics = control_patients.drop_duplicates('PrimaryMrn')\n",
    "print(control_patients_demographics.PrimaryMrn.nunique())\n",
    "control_patients_demographics"
   ],
   "metadata": {
    "collapsed": false,
    "pycharm": {
     "name": "#%%\n"
    }
   }
  },
  {
   "cell_type": "code",
   "execution_count": 8,
   "outputs": [
    {
     "name": "stdout",
     "output_type": "stream",
     "text": [
      "343480\n"
     ]
    }
   ],
   "source": [
    "df_demographics = pd.concat([scz_patients_demographics,control_patients_demographics])\n",
    "print(df_demographics.PrimaryMrn.nunique())"
   ],
   "metadata": {
    "collapsed": false,
    "pycharm": {
     "name": "#%%\n"
    }
   }
  },
  {
   "cell_type": "code",
   "execution_count": 9,
   "outputs": [
    {
     "data": {
      "text/plain": "       PrimaryMrn  EncounterKey            VisitDate  AgeAtVisit  \\\n0         1003157     251130954  2012-02-22 00:00:00        52.0   \n1         1003377     169200845  2019-11-15 00:00:00        55.0   \n2         1003711     256957683  2014-11-14 00:00:00        41.0   \n3         1007012     318511167  2018-06-20 00:00:00        43.0   \n4         1007542     263308933  2021-02-14 00:00:00        33.0   \n...           ...           ...                  ...         ...   \n466229    X400206     313708011           2022-11-06       122.0   \n466230    X400207     313707727           2022-11-06        36.0   \n466231    X400208     313709156           2022-11-06        25.0   \n466232    X400209     313707490           2022-11-06        25.0   \n466233    Y900008     307674058           2022-08-01        43.0   \n\n                 VisitType  VisitType2    Value  \\\n0             Office Visit  Outpatient    F25.9   \n1             Office Visit  Outpatient    F20.9   \n2             Office Visit  Outpatient      F29   \n3       Hospital Encounter   Emergency      F29   \n4             Office Visit  Outpatient    F20.9   \n...                    ...         ...      ...   \n466229  Hospital Encounter   Emergency  F10.920   \n466230  Hospital Encounter   Emergency  F10.920   \n466231  Hospital Encounter   Emergency  F10.929   \n466232  Hospital Encounter   Emergency  F10.920   \n466233  Hospital Encounter   Inpatient  F10.139   \n\n                                            DisplayString  \\\n0                   Schizoaffective disorder, unspecified   \n1                              Schizophrenia, unspecified   \n2       Unspecified psychosis not due to a substance o...   \n3       Unspecified psychosis not due to a substance o...   \n4                              Schizophrenia, unspecified   \n...                                                   ...   \n466229  Alcohol use, unspecified with intoxication, un...   \n466230  Alcohol use, unspecified with intoxication, un...   \n466231  Alcohol use, unspecified with intoxication, un...   \n466232  Alcohol use, unspecified with intoxication, un...   \n466233         Alcohol abuse with withdrawal, unspecified   \n\n          PayorFinancialClass ProviderSex  ... PreferredLanguage  \\\n0                         NaN         NaN  ...           English   \n1                         NaN         NaN  ...           English   \n2                         NaN         NaN  ...           English   \n3       Medicaid Managed Care         NaN  ...           English   \n4                         NaN         NaN  ...           English   \n...                       ...         ...  ...               ...   \n466229                    NaN         NaN  ...           English   \n466230                    NaN         NaN  ...           English   \n466231                    NaN         NaN  ...           English   \n466232                    NaN         NaN  ...           English   \n466233                    NaN         NaN  ...           English   \n\n       SexualOrientation Merged_Gender                     Race_2 Age_group  \\\n0               Straight          Male                 Other Race     45-54   \n1                    NaN        Female  Black or African-American     55-64   \n2                    NaN        Female  Black or African-American     35-44   \n3               Straight        Female         Hispanic or Latino     35-44   \n4                    NaN          Male                 Other Race     25-34   \n...                  ...           ...                        ...       ...   \n466229               NaN          Male                      White       NaN   \n466230               NaN          Male                 Other Race       NaN   \n466231               NaN          Male  Black or African-American       NaN   \n466232               NaN          Male                 Other Race       NaN   \n466233               NaN          Male                 Other Race       NaN   \n\n        insurance_status  PostalCode 2021_Median_Hincome      ZIPINC_QRTL  \\\n0                    NaN     10029.0             33901.0          <52,000   \n1                    NaN     11221.0             66923.0  66,000 - 87,999   \n2                    NaN     10451.0             33945.0          <52,000   \n3                 Public     10128.0            127919.0          88,000+   \n4                    NaN     10009.0             77551.0  66,000 - 87,999   \n...                  ...         ...                 ...              ...   \n466229          Self-pay       10019            105538.0          88,000+   \n466230          Self-pay       11420             89027.0          88,000+   \n466231          Self-pay       08042                 NaN              NaN   \n466232          Self-pay       10019            105538.0          88,000+   \n466233            Public       11370             67241.0  66,000 - 87,999   \n\n                                          CCSR_wSubstance  \n0       Schizophrenia spectrum and other psychotic dis...  \n1       Schizophrenia spectrum and other psychotic dis...  \n2       Schizophrenia spectrum and other psychotic dis...  \n3       Schizophrenia spectrum and other psychotic dis...  \n4       Schizophrenia spectrum and other psychotic dis...  \n...                                                   ...  \n466229                        Substance-related disorders  \n466230                        Substance-related disorders  \n466231                        Substance-related disorders  \n466232                        Substance-related disorders  \n466233                        Substance-related disorders  \n\n[343480 rows x 28 columns]",
      "text/html": "<div>\n<style scoped>\n    .dataframe tbody tr th:only-of-type {\n        vertical-align: middle;\n    }\n\n    .dataframe tbody tr th {\n        vertical-align: top;\n    }\n\n    .dataframe thead th {\n        text-align: right;\n    }\n</style>\n<table border=\"1\" class=\"dataframe\">\n  <thead>\n    <tr style=\"text-align: right;\">\n      <th></th>\n      <th>PrimaryMrn</th>\n      <th>EncounterKey</th>\n      <th>VisitDate</th>\n      <th>AgeAtVisit</th>\n      <th>VisitType</th>\n      <th>VisitType2</th>\n      <th>Value</th>\n      <th>DisplayString</th>\n      <th>PayorFinancialClass</th>\n      <th>ProviderSex</th>\n      <th>...</th>\n      <th>PreferredLanguage</th>\n      <th>SexualOrientation</th>\n      <th>Merged_Gender</th>\n      <th>Race_2</th>\n      <th>Age_group</th>\n      <th>insurance_status</th>\n      <th>PostalCode</th>\n      <th>2021_Median_Hincome</th>\n      <th>ZIPINC_QRTL</th>\n      <th>CCSR_wSubstance</th>\n    </tr>\n  </thead>\n  <tbody>\n    <tr>\n      <th>0</th>\n      <td>1003157</td>\n      <td>251130954</td>\n      <td>2012-02-22 00:00:00</td>\n      <td>52.0</td>\n      <td>Office Visit</td>\n      <td>Outpatient</td>\n      <td>F25.9</td>\n      <td>Schizoaffective disorder, unspecified</td>\n      <td>NaN</td>\n      <td>NaN</td>\n      <td>...</td>\n      <td>English</td>\n      <td>Straight</td>\n      <td>Male</td>\n      <td>Other Race</td>\n      <td>45-54</td>\n      <td>NaN</td>\n      <td>10029.0</td>\n      <td>33901.0</td>\n      <td>&lt;52,000</td>\n      <td>Schizophrenia spectrum and other psychotic dis...</td>\n    </tr>\n    <tr>\n      <th>1</th>\n      <td>1003377</td>\n      <td>169200845</td>\n      <td>2019-11-15 00:00:00</td>\n      <td>55.0</td>\n      <td>Office Visit</td>\n      <td>Outpatient</td>\n      <td>F20.9</td>\n      <td>Schizophrenia, unspecified</td>\n      <td>NaN</td>\n      <td>NaN</td>\n      <td>...</td>\n      <td>English</td>\n      <td>NaN</td>\n      <td>Female</td>\n      <td>Black or African-American</td>\n      <td>55-64</td>\n      <td>NaN</td>\n      <td>11221.0</td>\n      <td>66923.0</td>\n      <td>66,000 - 87,999</td>\n      <td>Schizophrenia spectrum and other psychotic dis...</td>\n    </tr>\n    <tr>\n      <th>2</th>\n      <td>1003711</td>\n      <td>256957683</td>\n      <td>2014-11-14 00:00:00</td>\n      <td>41.0</td>\n      <td>Office Visit</td>\n      <td>Outpatient</td>\n      <td>F29</td>\n      <td>Unspecified psychosis not due to a substance o...</td>\n      <td>NaN</td>\n      <td>NaN</td>\n      <td>...</td>\n      <td>English</td>\n      <td>NaN</td>\n      <td>Female</td>\n      <td>Black or African-American</td>\n      <td>35-44</td>\n      <td>NaN</td>\n      <td>10451.0</td>\n      <td>33945.0</td>\n      <td>&lt;52,000</td>\n      <td>Schizophrenia spectrum and other psychotic dis...</td>\n    </tr>\n    <tr>\n      <th>3</th>\n      <td>1007012</td>\n      <td>318511167</td>\n      <td>2018-06-20 00:00:00</td>\n      <td>43.0</td>\n      <td>Hospital Encounter</td>\n      <td>Emergency</td>\n      <td>F29</td>\n      <td>Unspecified psychosis not due to a substance o...</td>\n      <td>Medicaid Managed Care</td>\n      <td>NaN</td>\n      <td>...</td>\n      <td>English</td>\n      <td>Straight</td>\n      <td>Female</td>\n      <td>Hispanic or Latino</td>\n      <td>35-44</td>\n      <td>Public</td>\n      <td>10128.0</td>\n      <td>127919.0</td>\n      <td>88,000+</td>\n      <td>Schizophrenia spectrum and other psychotic dis...</td>\n    </tr>\n    <tr>\n      <th>4</th>\n      <td>1007542</td>\n      <td>263308933</td>\n      <td>2021-02-14 00:00:00</td>\n      <td>33.0</td>\n      <td>Office Visit</td>\n      <td>Outpatient</td>\n      <td>F20.9</td>\n      <td>Schizophrenia, unspecified</td>\n      <td>NaN</td>\n      <td>NaN</td>\n      <td>...</td>\n      <td>English</td>\n      <td>NaN</td>\n      <td>Male</td>\n      <td>Other Race</td>\n      <td>25-34</td>\n      <td>NaN</td>\n      <td>10009.0</td>\n      <td>77551.0</td>\n      <td>66,000 - 87,999</td>\n      <td>Schizophrenia spectrum and other psychotic dis...</td>\n    </tr>\n    <tr>\n      <th>...</th>\n      <td>...</td>\n      <td>...</td>\n      <td>...</td>\n      <td>...</td>\n      <td>...</td>\n      <td>...</td>\n      <td>...</td>\n      <td>...</td>\n      <td>...</td>\n      <td>...</td>\n      <td>...</td>\n      <td>...</td>\n      <td>...</td>\n      <td>...</td>\n      <td>...</td>\n      <td>...</td>\n      <td>...</td>\n      <td>...</td>\n      <td>...</td>\n      <td>...</td>\n      <td>...</td>\n    </tr>\n    <tr>\n      <th>466229</th>\n      <td>X400206</td>\n      <td>313708011</td>\n      <td>2022-11-06</td>\n      <td>122.0</td>\n      <td>Hospital Encounter</td>\n      <td>Emergency</td>\n      <td>F10.920</td>\n      <td>Alcohol use, unspecified with intoxication, un...</td>\n      <td>NaN</td>\n      <td>NaN</td>\n      <td>...</td>\n      <td>English</td>\n      <td>NaN</td>\n      <td>Male</td>\n      <td>White</td>\n      <td>NaN</td>\n      <td>Self-pay</td>\n      <td>10019</td>\n      <td>105538.0</td>\n      <td>88,000+</td>\n      <td>Substance-related disorders</td>\n    </tr>\n    <tr>\n      <th>466230</th>\n      <td>X400207</td>\n      <td>313707727</td>\n      <td>2022-11-06</td>\n      <td>36.0</td>\n      <td>Hospital Encounter</td>\n      <td>Emergency</td>\n      <td>F10.920</td>\n      <td>Alcohol use, unspecified with intoxication, un...</td>\n      <td>NaN</td>\n      <td>NaN</td>\n      <td>...</td>\n      <td>English</td>\n      <td>NaN</td>\n      <td>Male</td>\n      <td>Other Race</td>\n      <td>NaN</td>\n      <td>Self-pay</td>\n      <td>11420</td>\n      <td>89027.0</td>\n      <td>88,000+</td>\n      <td>Substance-related disorders</td>\n    </tr>\n    <tr>\n      <th>466231</th>\n      <td>X400208</td>\n      <td>313709156</td>\n      <td>2022-11-06</td>\n      <td>25.0</td>\n      <td>Hospital Encounter</td>\n      <td>Emergency</td>\n      <td>F10.929</td>\n      <td>Alcohol use, unspecified with intoxication, un...</td>\n      <td>NaN</td>\n      <td>NaN</td>\n      <td>...</td>\n      <td>English</td>\n      <td>NaN</td>\n      <td>Male</td>\n      <td>Black or African-American</td>\n      <td>NaN</td>\n      <td>Self-pay</td>\n      <td>08042</td>\n      <td>NaN</td>\n      <td>NaN</td>\n      <td>Substance-related disorders</td>\n    </tr>\n    <tr>\n      <th>466232</th>\n      <td>X400209</td>\n      <td>313707490</td>\n      <td>2022-11-06</td>\n      <td>25.0</td>\n      <td>Hospital Encounter</td>\n      <td>Emergency</td>\n      <td>F10.920</td>\n      <td>Alcohol use, unspecified with intoxication, un...</td>\n      <td>NaN</td>\n      <td>NaN</td>\n      <td>...</td>\n      <td>English</td>\n      <td>NaN</td>\n      <td>Male</td>\n      <td>Other Race</td>\n      <td>NaN</td>\n      <td>Self-pay</td>\n      <td>10019</td>\n      <td>105538.0</td>\n      <td>88,000+</td>\n      <td>Substance-related disorders</td>\n    </tr>\n    <tr>\n      <th>466233</th>\n      <td>Y900008</td>\n      <td>307674058</td>\n      <td>2022-08-01</td>\n      <td>43.0</td>\n      <td>Hospital Encounter</td>\n      <td>Inpatient</td>\n      <td>F10.139</td>\n      <td>Alcohol abuse with withdrawal, unspecified</td>\n      <td>NaN</td>\n      <td>NaN</td>\n      <td>...</td>\n      <td>English</td>\n      <td>NaN</td>\n      <td>Male</td>\n      <td>Other Race</td>\n      <td>NaN</td>\n      <td>Public</td>\n      <td>11370</td>\n      <td>67241.0</td>\n      <td>66,000 - 87,999</td>\n      <td>Substance-related disorders</td>\n    </tr>\n  </tbody>\n</table>\n<p>343480 rows × 28 columns</p>\n</div>"
     },
     "execution_count": 9,
     "metadata": {},
     "output_type": "execute_result"
    }
   ],
   "source": [
    "df_demographics"
   ],
   "metadata": {
    "collapsed": false,
    "pycharm": {
     "name": "#%%\n"
    }
   }
  },
  {
   "cell_type": "code",
   "execution_count": 10,
   "outputs": [],
   "source": [
    "df_demographics = df_demographics[['PrimaryMrn', 'Merged_Gender', 'Race_2', 'SexualOrientation', 'AgeInYears', 'AgeAtVisit',\n",
    "                                   'insurance_status', '2021_Median_Hincome']]\n",
    "propensity_df = df_demographics.merge(co_mat, on=['PrimaryMrn'], how='left')\n",
    "propensity_df['Substance-related disorders'] = propensity_df['Substance-related disorders'].clip(0, 1)\n",
    "propensity_df_blackwhite_queer = propensity_df[propensity_df['Race_2'].isin(['Black or African-American', 'White'])]\n",
    "# propensity_df_blackwhite_malefemale = propensity_df_blackwhite[propensity_df_blackwhite['Merged_Gender'].isin(['Female', 'Male'])]"
   ],
   "metadata": {
    "collapsed": false,
    "pycharm": {
     "name": "#%%\n"
    }
   }
  },
  {
   "cell_type": "code",
   "execution_count": 11,
   "outputs": [
    {
     "name": "stderr",
     "output_type": "stream",
     "text": [
      "/var/folders/xm/m4dy5bvs1fn7fb9wxjhsg4dc0000gn/T/ipykernel_78541/2416626373.py:12: SettingWithCopyWarning: \n",
      "A value is trying to be set on a copy of a slice from a DataFrame.\n",
      "Try using .loc[row_indexer,col_indexer] = value instead\n",
      "\n",
      "See the caveats in the documentation: https://pandas.pydata.org/pandas-docs/stable/user_guide/indexing.html#returning-a-view-versus-a-copy\n",
      "  propensity_df_blackwhite_queer['Age'] = propensity_df_blackwhite_queer.apply(lambda row: age(row), axis=1)\n"
     ]
    }
   ],
   "source": [
    "def age(x):\n",
    "    age1 = x.AgeInYears\n",
    "    age2 = x.AgeAtVisit\n",
    "    if x['Schizophrenia spectrum and other psychotic disorders'] == 1:\n",
    "        return age2\n",
    "    if x['Schizophrenia spectrum and other psychotic disorders'] == 0:\n",
    "        return age1\n",
    "\n",
    "\n",
    "# propensity_df_blackwhite_malefemale['Age'] = propensity_df_blackwhite_malefemale.apply(lambda row: age(row), axis=1)\n",
    "\n",
    "propensity_df_blackwhite_queer['Age'] = propensity_df_blackwhite_queer.apply(lambda row: age(row), axis=1)"
   ],
   "metadata": {
    "collapsed": false,
    "pycharm": {
     "name": "#%%\n"
    }
   }
  },
  {
   "cell_type": "code",
   "execution_count": 12,
   "outputs": [],
   "source": [
    "# propensity_df_blackwhite_malefemale = propensity_df_blackwhite_malefemale[propensity_df_blackwhite_malefemale['Age'] > 13]\n",
    "# propensity_df_blackwhite_malefemale = propensity_df_blackwhite_malefemale[propensity_df_blackwhite_malefemale['Age'] < 98]\n",
    "\n",
    "propensity_df_blackwhite_queer = propensity_df_blackwhite_queer[propensity_df_blackwhite_queer['Age'] > 13]\n",
    "propensity_df_blackwhite_queer = propensity_df_blackwhite_queer[propensity_df_blackwhite_queer['Age'] < 98]"
   ],
   "metadata": {
    "collapsed": false,
    "pycharm": {
     "name": "#%%\n"
    }
   }
  },
  {
   "cell_type": "code",
   "execution_count": 13,
   "outputs": [],
   "source": [
    "# propensity_df_blackwhite_malefemale = propensity_df_blackwhite_malefemale.rename(columns={'Merged_Gender' : 'Gender',\n",
    "#                                                                                           'Race_2' : 'Race',\n",
    "#                                                                                           'Anxiety and fear-related disorders' : 'Anx',\n",
    "#                                                                                           'Bipolar and related disorders' : 'Bpd',\n",
    "#                                                                                           'Depressive disorders' : 'Dep',\n",
    "#                                                                                           'Schizophrenia spectrum and other psychotic disorders' : 'Scz',\n",
    "#                                                                                           'Substance-related disorders' : 'Substance',\n",
    "#                                                                                           'Trauma- and stressor-related disorders' : 'Trauma',\n",
    "#                                                                                           '2021_Median_Hincome' : 'm_income'})\n",
    "\n",
    "propensity_df_blackwhite_queer = propensity_df_blackwhite_queer.rename(columns={'Merged_Gender' : 'Gender',\n",
    "                                                                                          'Race_2' : 'Race',\n",
    "                                                                                          'Anxiety and fear-related disorders' : 'Anx',\n",
    "                                                                                          'Bipolar and related disorders' : 'Bpd',\n",
    "                                                                                          'Depressive disorders' : 'Dep',\n",
    "                                                                                          'Schizophrenia spectrum and other psychotic disorders' : 'Scz',\n",
    "                                                                                          'Substance-related disorders' : 'Substance',\n",
    "                                                                                          'Trauma- and stressor-related disorders' : 'Trauma',\n",
    "                                                                                          '2021_Median_Hincome' : 'm_income'})"
   ],
   "metadata": {
    "collapsed": false,
    "pycharm": {
     "name": "#%%\n"
    }
   }
  },
  {
   "cell_type": "code",
   "execution_count": 14,
   "outputs": [],
   "source": [
    "# scz_only = propensity_df_blackwhite_malefemale[propensity_df_blackwhite_malefemale['Scz'] == 1]\n",
    "scz_only = propensity_df_blackwhite_queer[propensity_df_blackwhite_queer['Scz'] == 1]"
   ],
   "metadata": {
    "collapsed": false,
    "pycharm": {
     "name": "#%%\n"
    }
   }
  },
  {
   "cell_type": "code",
   "execution_count": 15,
   "outputs": [
    {
     "name": "stderr",
     "output_type": "stream",
     "text": [
      "/var/folders/xm/m4dy5bvs1fn7fb9wxjhsg4dc0000gn/T/ipykernel_78541/26243630.py:7: SettingWithCopyWarning: \n",
      "A value is trying to be set on a copy of a slice from a DataFrame.\n",
      "Try using .loc[row_indexer,col_indexer] = value instead\n",
      "\n",
      "See the caveats in the documentation: https://pandas.pydata.org/pandas-docs/stable/user_guide/indexing.html#returning-a-view-versus-a-copy\n",
      "  scz_only['m_income'] = scz_only['m_income'].fillna('NA')\n"
     ]
    },
    {
     "data": {
      "text/plain": "103440.0    863\n33901.0     829\n105538.0    531\n58435.0     515\n32555.0     440\n           ... \n76902.0       1\n95968.0       1\n161348.0      1\n118459.0      1\n61875.0       1\nName: m_income, Length: 797, dtype: int64"
     },
     "execution_count": 15,
     "metadata": {},
     "output_type": "execute_result"
    }
   ],
   "source": [
    "# propensity_df_blackwhite_malefemale['m_income'] = propensity_df_blackwhite_malefemale['m_income'].fillna('NA')\n",
    "# propensity_df_blackwhite_malefemale['m_income'].value_counts(dropna=False)\n",
    "\n",
    "propensity_df_blackwhite_queer['m_income'] = propensity_df_blackwhite_queer['m_income'].fillna('NA')\n",
    "propensity_df_blackwhite_queer['m_income'].value_counts(dropna=False)\n",
    "\n",
    "scz_only['m_income'] = scz_only['m_income'].fillna('NA')\n",
    "scz_only['m_income'].value_counts(dropna=False)"
   ],
   "metadata": {
    "collapsed": false,
    "pycharm": {
     "name": "#%%\n"
    }
   }
  },
  {
   "cell_type": "code",
   "execution_count": 17,
   "outputs": [
    {
     "name": "stderr",
     "output_type": "stream",
     "text": [
      "/var/folders/xm/m4dy5bvs1fn7fb9wxjhsg4dc0000gn/T/ipykernel_78541/3945519901.py:1: SettingWithCopyWarning: \n",
      "A value is trying to be set on a copy of a slice from a DataFrame.\n",
      "Try using .loc[row_indexer,col_indexer] = value instead\n",
      "\n",
      "See the caveats in the documentation: https://pandas.pydata.org/pandas-docs/stable/user_guide/indexing.html#returning-a-view-versus-a-copy\n",
      "  scz_only['SexualOrientation'] = scz_only['SexualOrientation'].fillna('NA')\n"
     ]
    },
    {
     "data": {
      "text/plain": "       PrimaryMrn  Gender                       Race SexualOrientation  \\\n1         1003377  Female  Black or African-American                NA   \n2         1003711  Female  Black or African-American                NA   \n7         1009219  Female  Black or African-American                NA   \n8         1010078    Male  Black or African-American                NA   \n10        1010656  Female  Black or African-American                NA   \n...           ...     ...                        ...               ...   \n340301    F909684    Male  Black or African-American                NA   \n340325    F910710    Male  Black or African-American                NA   \n340331    F911156    Male  Black or African-American                NA   \n340344    F911812    Male  Black or African-American                NA   \n340349    F912388  Female  Black or African-American                NA   \n\n        AgeInYears  AgeAtVisit insurance_status  m_income  Anx  Bpd  ...  \\\n1             58.0        55.0              NaN   66923.0  0.0  1.0  ...   \n2             49.0        41.0              NaN   33945.0  0.0  0.0  ...   \n7             47.0        41.0              NaN   33901.0  0.0  1.0  ...   \n8             47.0        41.0              NaN   65038.0  0.0  0.0  ...   \n10            73.0        69.0              NaN  152335.0  0.0  0.0  ...   \n...            ...         ...              ...       ...  ...  ...  ...   \n340301        33.0        33.0           Public   77378.0  0.0  0.0  ...   \n340325        30.0        30.0           Public  147813.0  0.0  0.0  ...   \n340331        33.0        33.0           Public  103440.0  0.0  0.0  ...   \n340344        50.0        50.0         Self-pay   61414.0  0.0  0.0  ...   \n340349        63.0        63.0           Public   65038.0  0.0  0.0  ...   \n\n        Obsessive-compulsive and related disorders  \\\n1                                              0.0   \n2                                              0.0   \n7                                              0.0   \n8                                              0.0   \n10                                             0.0   \n...                                            ...   \n340301                                         0.0   \n340325                                         0.0   \n340331                                         0.0   \n340344                                         0.0   \n340349                                         0.0   \n\n        Other specified and unspecified mood disorders  Personality disorders  \\\n1                                                  0.0                    0.0   \n2                                                  0.0                    0.0   \n7                                                  0.0                    0.0   \n8                                                  0.0                    0.0   \n10                                                 0.0                    0.0   \n...                                                ...                    ...   \n340301                                             0.0                    0.0   \n340325                                             0.0                    0.0   \n340331                                             0.0                    0.0   \n340344                                             0.0                    0.0   \n340349                                             0.0                    0.0   \n\n        Scz  Sleep wake disorders  Somatic disorders  Substance  Trauma  \\\n1       1.0                   0.0                0.0        0.0     0.0   \n2       1.0                   0.0                0.0        0.0     0.0   \n7       1.0                   0.0                0.0        0.0     0.0   \n8       1.0                   0.0                0.0        0.0     1.0   \n10      1.0                   0.0                0.0        0.0     0.0   \n...     ...                   ...                ...        ...     ...   \n340301  1.0                   0.0                0.0        0.0     0.0   \n340325  1.0                   0.0                0.0        0.0     0.0   \n340331  1.0                   0.0                0.0        0.0     0.0   \n340344  1.0                   0.0                0.0        0.0     0.0   \n340349  1.0                   0.0                0.0        0.0     0.0   \n\n        Urinary incontinence   Age  \n1                        0.0  55.0  \n2                        0.0  41.0  \n7                        0.0  41.0  \n8                        0.0  41.0  \n10                       0.0  69.0  \n...                      ...   ...  \n340301                   0.0  33.0  \n340325                   0.0  30.0  \n340331                   0.0  33.0  \n340344                   0.0  50.0  \n340349                   0.0  63.0  \n\n[12203 rows x 28 columns]",
      "text/html": "<div>\n<style scoped>\n    .dataframe tbody tr th:only-of-type {\n        vertical-align: middle;\n    }\n\n    .dataframe tbody tr th {\n        vertical-align: top;\n    }\n\n    .dataframe thead th {\n        text-align: right;\n    }\n</style>\n<table border=\"1\" class=\"dataframe\">\n  <thead>\n    <tr style=\"text-align: right;\">\n      <th></th>\n      <th>PrimaryMrn</th>\n      <th>Gender</th>\n      <th>Race</th>\n      <th>SexualOrientation</th>\n      <th>AgeInYears</th>\n      <th>AgeAtVisit</th>\n      <th>insurance_status</th>\n      <th>m_income</th>\n      <th>Anx</th>\n      <th>Bpd</th>\n      <th>...</th>\n      <th>Obsessive-compulsive and related disorders</th>\n      <th>Other specified and unspecified mood disorders</th>\n      <th>Personality disorders</th>\n      <th>Scz</th>\n      <th>Sleep wake disorders</th>\n      <th>Somatic disorders</th>\n      <th>Substance</th>\n      <th>Trauma</th>\n      <th>Urinary incontinence</th>\n      <th>Age</th>\n    </tr>\n  </thead>\n  <tbody>\n    <tr>\n      <th>1</th>\n      <td>1003377</td>\n      <td>Female</td>\n      <td>Black or African-American</td>\n      <td>NA</td>\n      <td>58.0</td>\n      <td>55.0</td>\n      <td>NaN</td>\n      <td>66923.0</td>\n      <td>0.0</td>\n      <td>1.0</td>\n      <td>...</td>\n      <td>0.0</td>\n      <td>0.0</td>\n      <td>0.0</td>\n      <td>1.0</td>\n      <td>0.0</td>\n      <td>0.0</td>\n      <td>0.0</td>\n      <td>0.0</td>\n      <td>0.0</td>\n      <td>55.0</td>\n    </tr>\n    <tr>\n      <th>2</th>\n      <td>1003711</td>\n      <td>Female</td>\n      <td>Black or African-American</td>\n      <td>NA</td>\n      <td>49.0</td>\n      <td>41.0</td>\n      <td>NaN</td>\n      <td>33945.0</td>\n      <td>0.0</td>\n      <td>0.0</td>\n      <td>...</td>\n      <td>0.0</td>\n      <td>0.0</td>\n      <td>0.0</td>\n      <td>1.0</td>\n      <td>0.0</td>\n      <td>0.0</td>\n      <td>0.0</td>\n      <td>0.0</td>\n      <td>0.0</td>\n      <td>41.0</td>\n    </tr>\n    <tr>\n      <th>7</th>\n      <td>1009219</td>\n      <td>Female</td>\n      <td>Black or African-American</td>\n      <td>NA</td>\n      <td>47.0</td>\n      <td>41.0</td>\n      <td>NaN</td>\n      <td>33901.0</td>\n      <td>0.0</td>\n      <td>1.0</td>\n      <td>...</td>\n      <td>0.0</td>\n      <td>0.0</td>\n      <td>0.0</td>\n      <td>1.0</td>\n      <td>0.0</td>\n      <td>0.0</td>\n      <td>0.0</td>\n      <td>0.0</td>\n      <td>0.0</td>\n      <td>41.0</td>\n    </tr>\n    <tr>\n      <th>8</th>\n      <td>1010078</td>\n      <td>Male</td>\n      <td>Black or African-American</td>\n      <td>NA</td>\n      <td>47.0</td>\n      <td>41.0</td>\n      <td>NaN</td>\n      <td>65038.0</td>\n      <td>0.0</td>\n      <td>0.0</td>\n      <td>...</td>\n      <td>0.0</td>\n      <td>0.0</td>\n      <td>0.0</td>\n      <td>1.0</td>\n      <td>0.0</td>\n      <td>0.0</td>\n      <td>0.0</td>\n      <td>1.0</td>\n      <td>0.0</td>\n      <td>41.0</td>\n    </tr>\n    <tr>\n      <th>10</th>\n      <td>1010656</td>\n      <td>Female</td>\n      <td>Black or African-American</td>\n      <td>NA</td>\n      <td>73.0</td>\n      <td>69.0</td>\n      <td>NaN</td>\n      <td>152335.0</td>\n      <td>0.0</td>\n      <td>0.0</td>\n      <td>...</td>\n      <td>0.0</td>\n      <td>0.0</td>\n      <td>0.0</td>\n      <td>1.0</td>\n      <td>0.0</td>\n      <td>0.0</td>\n      <td>0.0</td>\n      <td>0.0</td>\n      <td>0.0</td>\n      <td>69.0</td>\n    </tr>\n    <tr>\n      <th>...</th>\n      <td>...</td>\n      <td>...</td>\n      <td>...</td>\n      <td>...</td>\n      <td>...</td>\n      <td>...</td>\n      <td>...</td>\n      <td>...</td>\n      <td>...</td>\n      <td>...</td>\n      <td>...</td>\n      <td>...</td>\n      <td>...</td>\n      <td>...</td>\n      <td>...</td>\n      <td>...</td>\n      <td>...</td>\n      <td>...</td>\n      <td>...</td>\n      <td>...</td>\n      <td>...</td>\n    </tr>\n    <tr>\n      <th>340301</th>\n      <td>F909684</td>\n      <td>Male</td>\n      <td>Black or African-American</td>\n      <td>NA</td>\n      <td>33.0</td>\n      <td>33.0</td>\n      <td>Public</td>\n      <td>77378.0</td>\n      <td>0.0</td>\n      <td>0.0</td>\n      <td>...</td>\n      <td>0.0</td>\n      <td>0.0</td>\n      <td>0.0</td>\n      <td>1.0</td>\n      <td>0.0</td>\n      <td>0.0</td>\n      <td>0.0</td>\n      <td>0.0</td>\n      <td>0.0</td>\n      <td>33.0</td>\n    </tr>\n    <tr>\n      <th>340325</th>\n      <td>F910710</td>\n      <td>Male</td>\n      <td>Black or African-American</td>\n      <td>NA</td>\n      <td>30.0</td>\n      <td>30.0</td>\n      <td>Public</td>\n      <td>147813.0</td>\n      <td>0.0</td>\n      <td>0.0</td>\n      <td>...</td>\n      <td>0.0</td>\n      <td>0.0</td>\n      <td>0.0</td>\n      <td>1.0</td>\n      <td>0.0</td>\n      <td>0.0</td>\n      <td>0.0</td>\n      <td>0.0</td>\n      <td>0.0</td>\n      <td>30.0</td>\n    </tr>\n    <tr>\n      <th>340331</th>\n      <td>F911156</td>\n      <td>Male</td>\n      <td>Black or African-American</td>\n      <td>NA</td>\n      <td>33.0</td>\n      <td>33.0</td>\n      <td>Public</td>\n      <td>103440.0</td>\n      <td>0.0</td>\n      <td>0.0</td>\n      <td>...</td>\n      <td>0.0</td>\n      <td>0.0</td>\n      <td>0.0</td>\n      <td>1.0</td>\n      <td>0.0</td>\n      <td>0.0</td>\n      <td>0.0</td>\n      <td>0.0</td>\n      <td>0.0</td>\n      <td>33.0</td>\n    </tr>\n    <tr>\n      <th>340344</th>\n      <td>F911812</td>\n      <td>Male</td>\n      <td>Black or African-American</td>\n      <td>NA</td>\n      <td>50.0</td>\n      <td>50.0</td>\n      <td>Self-pay</td>\n      <td>61414.0</td>\n      <td>0.0</td>\n      <td>0.0</td>\n      <td>...</td>\n      <td>0.0</td>\n      <td>0.0</td>\n      <td>0.0</td>\n      <td>1.0</td>\n      <td>0.0</td>\n      <td>0.0</td>\n      <td>0.0</td>\n      <td>0.0</td>\n      <td>0.0</td>\n      <td>50.0</td>\n    </tr>\n    <tr>\n      <th>340349</th>\n      <td>F912388</td>\n      <td>Female</td>\n      <td>Black or African-American</td>\n      <td>NA</td>\n      <td>63.0</td>\n      <td>63.0</td>\n      <td>Public</td>\n      <td>65038.0</td>\n      <td>0.0</td>\n      <td>0.0</td>\n      <td>...</td>\n      <td>0.0</td>\n      <td>0.0</td>\n      <td>0.0</td>\n      <td>1.0</td>\n      <td>0.0</td>\n      <td>0.0</td>\n      <td>0.0</td>\n      <td>0.0</td>\n      <td>0.0</td>\n      <td>63.0</td>\n    </tr>\n  </tbody>\n</table>\n<p>12203 rows × 28 columns</p>\n</div>"
     },
     "execution_count": 17,
     "metadata": {},
     "output_type": "execute_result"
    }
   ],
   "source": [
    "scz_only['SexualOrientation'] = scz_only['SexualOrientation'].fillna('NA')\n",
    "scz_only['SexualOrientation'].value_counts(dropna=False)\n",
    "scz_only"
   ],
   "metadata": {
    "collapsed": false,
    "pycharm": {
     "name": "#%%\n"
    }
   }
  },
  {
   "cell_type": "code",
   "execution_count": 56,
   "outputs": [
    {
     "data": {
      "text/plain": "       PrimaryMrn  Gender                       Race  AgeInYears  AgeAtVisit  \\\n1         1003377  Female  Black or African-American        58.0        55.0   \n2         1003711  Female  Black or African-American        49.0        41.0   \n7         1009219  Female  Black or African-American        47.0        41.0   \n8         1010078    Male  Black or African-American        47.0        41.0   \n10        1010656  Female  Black or African-American        73.0        69.0   \n...           ...     ...                        ...         ...         ...   \n343468    X400170  Female                      White        23.0        21.0   \n343469    X400195  Female                      White        24.0        23.0   \n343472    X400200    Male  Black or African-American        20.0        20.0   \n343474    X400205  Female  Black or African-American        20.0        20.0   \n343477    X400208    Male  Black or African-American        26.0        25.0   \n\n       insurance_status  m_income  Anx  Bpd  Dep  ...  \\\n1                   NaN   66923.0  0.0  1.0  1.0  ...   \n2                   NaN   33945.0  0.0  0.0  0.0  ...   \n7                   NaN   33901.0  0.0  1.0  1.0  ...   \n8                   NaN   65038.0  0.0  0.0  0.0  ...   \n10                  NaN  152335.0  0.0  0.0  1.0  ...   \n...                 ...       ...  ...  ...  ...  ...   \n343468         Self-pay        NA  0.0  0.0  0.0  ...   \n343469         Self-pay        NA  0.0  0.0  0.0  ...   \n343472         Self-pay  105538.0  0.0  0.0  0.0  ...   \n343474         Self-pay  105538.0  0.0  0.0  0.0  ...   \n343477         Self-pay        NA  0.0  0.0  0.0  ...   \n\n        Obsessive-compulsive and related disorders  \\\n1                                              0.0   \n2                                              0.0   \n7                                              0.0   \n8                                              0.0   \n10                                             0.0   \n...                                            ...   \n343468                                         0.0   \n343469                                         0.0   \n343472                                         0.0   \n343474                                         0.0   \n343477                                         0.0   \n\n        Other specified and unspecified mood disorders  Personality disorders  \\\n1                                                  0.0                    0.0   \n2                                                  0.0                    0.0   \n7                                                  0.0                    0.0   \n8                                                  0.0                    0.0   \n10                                                 0.0                    0.0   \n...                                                ...                    ...   \n343468                                             0.0                    0.0   \n343469                                             0.0                    0.0   \n343472                                             0.0                    0.0   \n343474                                             0.0                    0.0   \n343477                                             0.0                    0.0   \n\n        Scz  Sleep wake disorders  Somatic disorders  Substance  Trauma  \\\n1       1.0                   0.0                0.0        0.0     0.0   \n2       1.0                   0.0                0.0        0.0     0.0   \n7       1.0                   0.0                0.0        0.0     0.0   \n8       1.0                   0.0                0.0        0.0     1.0   \n10      1.0                   0.0                0.0        0.0     0.0   \n...     ...                   ...                ...        ...     ...   \n343468  0.0                   0.0                0.0        1.0     0.0   \n343469  0.0                   0.0                0.0        1.0     0.0   \n343472  0.0                   0.0                0.0        1.0     0.0   \n343474  0.0                   0.0                0.0        1.0     0.0   \n343477  0.0                   0.0                0.0        1.0     0.0   \n\n        Urinary incontinence   Age  \n1                        0.0  55.0  \n2                        0.0  41.0  \n7                        0.0  41.0  \n8                        0.0  41.0  \n10                       0.0  69.0  \n...                      ...   ...  \n343468                   0.0  23.0  \n343469                   0.0  24.0  \n343472                   0.0  20.0  \n343474                   0.0  20.0  \n343477                   0.0  26.0  \n\n[206503 rows x 27 columns]",
      "text/html": "<div>\n<style scoped>\n    .dataframe tbody tr th:only-of-type {\n        vertical-align: middle;\n    }\n\n    .dataframe tbody tr th {\n        vertical-align: top;\n    }\n\n    .dataframe thead th {\n        text-align: right;\n    }\n</style>\n<table border=\"1\" class=\"dataframe\">\n  <thead>\n    <tr style=\"text-align: right;\">\n      <th></th>\n      <th>PrimaryMrn</th>\n      <th>Gender</th>\n      <th>Race</th>\n      <th>AgeInYears</th>\n      <th>AgeAtVisit</th>\n      <th>insurance_status</th>\n      <th>m_income</th>\n      <th>Anx</th>\n      <th>Bpd</th>\n      <th>Dep</th>\n      <th>...</th>\n      <th>Obsessive-compulsive and related disorders</th>\n      <th>Other specified and unspecified mood disorders</th>\n      <th>Personality disorders</th>\n      <th>Scz</th>\n      <th>Sleep wake disorders</th>\n      <th>Somatic disorders</th>\n      <th>Substance</th>\n      <th>Trauma</th>\n      <th>Urinary incontinence</th>\n      <th>Age</th>\n    </tr>\n  </thead>\n  <tbody>\n    <tr>\n      <th>1</th>\n      <td>1003377</td>\n      <td>Female</td>\n      <td>Black or African-American</td>\n      <td>58.0</td>\n      <td>55.0</td>\n      <td>NaN</td>\n      <td>66923.0</td>\n      <td>0.0</td>\n      <td>1.0</td>\n      <td>1.0</td>\n      <td>...</td>\n      <td>0.0</td>\n      <td>0.0</td>\n      <td>0.0</td>\n      <td>1.0</td>\n      <td>0.0</td>\n      <td>0.0</td>\n      <td>0.0</td>\n      <td>0.0</td>\n      <td>0.0</td>\n      <td>55.0</td>\n    </tr>\n    <tr>\n      <th>2</th>\n      <td>1003711</td>\n      <td>Female</td>\n      <td>Black or African-American</td>\n      <td>49.0</td>\n      <td>41.0</td>\n      <td>NaN</td>\n      <td>33945.0</td>\n      <td>0.0</td>\n      <td>0.0</td>\n      <td>0.0</td>\n      <td>...</td>\n      <td>0.0</td>\n      <td>0.0</td>\n      <td>0.0</td>\n      <td>1.0</td>\n      <td>0.0</td>\n      <td>0.0</td>\n      <td>0.0</td>\n      <td>0.0</td>\n      <td>0.0</td>\n      <td>41.0</td>\n    </tr>\n    <tr>\n      <th>7</th>\n      <td>1009219</td>\n      <td>Female</td>\n      <td>Black or African-American</td>\n      <td>47.0</td>\n      <td>41.0</td>\n      <td>NaN</td>\n      <td>33901.0</td>\n      <td>0.0</td>\n      <td>1.0</td>\n      <td>1.0</td>\n      <td>...</td>\n      <td>0.0</td>\n      <td>0.0</td>\n      <td>0.0</td>\n      <td>1.0</td>\n      <td>0.0</td>\n      <td>0.0</td>\n      <td>0.0</td>\n      <td>0.0</td>\n      <td>0.0</td>\n      <td>41.0</td>\n    </tr>\n    <tr>\n      <th>8</th>\n      <td>1010078</td>\n      <td>Male</td>\n      <td>Black or African-American</td>\n      <td>47.0</td>\n      <td>41.0</td>\n      <td>NaN</td>\n      <td>65038.0</td>\n      <td>0.0</td>\n      <td>0.0</td>\n      <td>0.0</td>\n      <td>...</td>\n      <td>0.0</td>\n      <td>0.0</td>\n      <td>0.0</td>\n      <td>1.0</td>\n      <td>0.0</td>\n      <td>0.0</td>\n      <td>0.0</td>\n      <td>1.0</td>\n      <td>0.0</td>\n      <td>41.0</td>\n    </tr>\n    <tr>\n      <th>10</th>\n      <td>1010656</td>\n      <td>Female</td>\n      <td>Black or African-American</td>\n      <td>73.0</td>\n      <td>69.0</td>\n      <td>NaN</td>\n      <td>152335.0</td>\n      <td>0.0</td>\n      <td>0.0</td>\n      <td>1.0</td>\n      <td>...</td>\n      <td>0.0</td>\n      <td>0.0</td>\n      <td>0.0</td>\n      <td>1.0</td>\n      <td>0.0</td>\n      <td>0.0</td>\n      <td>0.0</td>\n      <td>0.0</td>\n      <td>0.0</td>\n      <td>69.0</td>\n    </tr>\n    <tr>\n      <th>...</th>\n      <td>...</td>\n      <td>...</td>\n      <td>...</td>\n      <td>...</td>\n      <td>...</td>\n      <td>...</td>\n      <td>...</td>\n      <td>...</td>\n      <td>...</td>\n      <td>...</td>\n      <td>...</td>\n      <td>...</td>\n      <td>...</td>\n      <td>...</td>\n      <td>...</td>\n      <td>...</td>\n      <td>...</td>\n      <td>...</td>\n      <td>...</td>\n      <td>...</td>\n      <td>...</td>\n    </tr>\n    <tr>\n      <th>343468</th>\n      <td>X400170</td>\n      <td>Female</td>\n      <td>White</td>\n      <td>23.0</td>\n      <td>21.0</td>\n      <td>Self-pay</td>\n      <td>NA</td>\n      <td>0.0</td>\n      <td>0.0</td>\n      <td>0.0</td>\n      <td>...</td>\n      <td>0.0</td>\n      <td>0.0</td>\n      <td>0.0</td>\n      <td>0.0</td>\n      <td>0.0</td>\n      <td>0.0</td>\n      <td>1.0</td>\n      <td>0.0</td>\n      <td>0.0</td>\n      <td>23.0</td>\n    </tr>\n    <tr>\n      <th>343469</th>\n      <td>X400195</td>\n      <td>Female</td>\n      <td>White</td>\n      <td>24.0</td>\n      <td>23.0</td>\n      <td>Self-pay</td>\n      <td>NA</td>\n      <td>0.0</td>\n      <td>0.0</td>\n      <td>0.0</td>\n      <td>...</td>\n      <td>0.0</td>\n      <td>0.0</td>\n      <td>0.0</td>\n      <td>0.0</td>\n      <td>0.0</td>\n      <td>0.0</td>\n      <td>1.0</td>\n      <td>0.0</td>\n      <td>0.0</td>\n      <td>24.0</td>\n    </tr>\n    <tr>\n      <th>343472</th>\n      <td>X400200</td>\n      <td>Male</td>\n      <td>Black or African-American</td>\n      <td>20.0</td>\n      <td>20.0</td>\n      <td>Self-pay</td>\n      <td>105538.0</td>\n      <td>0.0</td>\n      <td>0.0</td>\n      <td>0.0</td>\n      <td>...</td>\n      <td>0.0</td>\n      <td>0.0</td>\n      <td>0.0</td>\n      <td>0.0</td>\n      <td>0.0</td>\n      <td>0.0</td>\n      <td>1.0</td>\n      <td>0.0</td>\n      <td>0.0</td>\n      <td>20.0</td>\n    </tr>\n    <tr>\n      <th>343474</th>\n      <td>X400205</td>\n      <td>Female</td>\n      <td>Black or African-American</td>\n      <td>20.0</td>\n      <td>20.0</td>\n      <td>Self-pay</td>\n      <td>105538.0</td>\n      <td>0.0</td>\n      <td>0.0</td>\n      <td>0.0</td>\n      <td>...</td>\n      <td>0.0</td>\n      <td>0.0</td>\n      <td>0.0</td>\n      <td>0.0</td>\n      <td>0.0</td>\n      <td>0.0</td>\n      <td>1.0</td>\n      <td>0.0</td>\n      <td>0.0</td>\n      <td>20.0</td>\n    </tr>\n    <tr>\n      <th>343477</th>\n      <td>X400208</td>\n      <td>Male</td>\n      <td>Black or African-American</td>\n      <td>26.0</td>\n      <td>25.0</td>\n      <td>Self-pay</td>\n      <td>NA</td>\n      <td>0.0</td>\n      <td>0.0</td>\n      <td>0.0</td>\n      <td>...</td>\n      <td>0.0</td>\n      <td>0.0</td>\n      <td>0.0</td>\n      <td>0.0</td>\n      <td>0.0</td>\n      <td>0.0</td>\n      <td>1.0</td>\n      <td>0.0</td>\n      <td>0.0</td>\n      <td>26.0</td>\n    </tr>\n  </tbody>\n</table>\n<p>206503 rows × 27 columns</p>\n</div>"
     },
     "execution_count": 56,
     "metadata": {},
     "output_type": "execute_result"
    }
   ],
   "source": [
    "propensity_df_blackwhite_malefemale"
   ],
   "metadata": {
    "collapsed": false,
    "pycharm": {
     "name": "#%%\n"
    }
   }
  },
  {
   "cell_type": "code",
   "execution_count": 18,
   "outputs": [],
   "source": [
    "# propensity_df_blackwhite_malefemale = propensity_df_blackwhite_malefemale.drop(['AgeAtVisit', 'AgeInYears'], axis=1)\n",
    "# propensity_df_blackwhite_malefemale = propensity_df_blackwhite_malefemale[['Age', 'Gender', 'Race', 'm_income', 'Scz', 'Substance', 'Trauma']]\n",
    "#\n",
    "# scz_only = scz_only.drop(['AgeAtVisit', 'AgeInYears'], axis=1)\n",
    "# scz_only = scz_only[['PrimaryMrn', 'Age', 'Gender', 'Race', 'm_income', 'Scz', 'Substance', 'Trauma', 'Anx', 'Dep', 'Bpd']]\n",
    "\n",
    "propensity_df_blackwhite_queer = propensity_df_blackwhite_queer.drop(['AgeAtVisit', 'AgeInYears'], axis=1)\n",
    "propensity_df_blackwhite_queer = propensity_df_blackwhite_queer[['Age', 'Gender', 'Race', 'SexualOrientation', 'm_income', 'Scz', 'Substance', 'Trauma']]\n",
    "\n",
    "scz_only = scz_only.drop(['AgeAtVisit', 'AgeInYears'], axis=1)\n",
    "scz_only = scz_only[['PrimaryMrn', 'Age', 'Gender', 'SexualOrientation', 'Race', 'm_income', 'Scz', 'Substance', 'Trauma', 'Anx', 'Dep', 'Bpd']]"
   ],
   "metadata": {
    "collapsed": false,
    "pycharm": {
     "name": "#%%\n"
    }
   }
  },
  {
   "cell_type": "code",
   "execution_count": 19,
   "outputs": [
    {
     "data": {
      "text/plain": "         Age  Gender                       Race SexualOrientation  m_income  \\\n1       55.0  Female  Black or African-American               NaN   66923.0   \n2       41.0  Female  Black or African-American               NaN   33945.0   \n7       41.0  Female  Black or African-American               NaN   33901.0   \n8       41.0    Male  Black or African-American               NaN   65038.0   \n10      69.0  Female  Black or African-American               NaN  152335.0   \n...      ...     ...                        ...               ...       ...   \n343468  23.0  Female                      White               NaN        NA   \n343469  24.0  Female                      White               NaN        NA   \n343472  20.0    Male  Black or African-American               NaN  105538.0   \n343474  20.0  Female  Black or African-American               NaN  105538.0   \n343477  26.0    Male  Black or African-American               NaN        NA   \n\n        Scz  Substance  Trauma  \n1       1.0        0.0     0.0  \n2       1.0        0.0     0.0  \n7       1.0        0.0     0.0  \n8       1.0        0.0     1.0  \n10      1.0        0.0     0.0  \n...     ...        ...     ...  \n343468  0.0        1.0     0.0  \n343469  0.0        1.0     0.0  \n343472  0.0        1.0     0.0  \n343474  0.0        1.0     0.0  \n343477  0.0        1.0     0.0  \n\n[209145 rows x 8 columns]",
      "text/html": "<div>\n<style scoped>\n    .dataframe tbody tr th:only-of-type {\n        vertical-align: middle;\n    }\n\n    .dataframe tbody tr th {\n        vertical-align: top;\n    }\n\n    .dataframe thead th {\n        text-align: right;\n    }\n</style>\n<table border=\"1\" class=\"dataframe\">\n  <thead>\n    <tr style=\"text-align: right;\">\n      <th></th>\n      <th>Age</th>\n      <th>Gender</th>\n      <th>Race</th>\n      <th>SexualOrientation</th>\n      <th>m_income</th>\n      <th>Scz</th>\n      <th>Substance</th>\n      <th>Trauma</th>\n    </tr>\n  </thead>\n  <tbody>\n    <tr>\n      <th>1</th>\n      <td>55.0</td>\n      <td>Female</td>\n      <td>Black or African-American</td>\n      <td>NaN</td>\n      <td>66923.0</td>\n      <td>1.0</td>\n      <td>0.0</td>\n      <td>0.0</td>\n    </tr>\n    <tr>\n      <th>2</th>\n      <td>41.0</td>\n      <td>Female</td>\n      <td>Black or African-American</td>\n      <td>NaN</td>\n      <td>33945.0</td>\n      <td>1.0</td>\n      <td>0.0</td>\n      <td>0.0</td>\n    </tr>\n    <tr>\n      <th>7</th>\n      <td>41.0</td>\n      <td>Female</td>\n      <td>Black or African-American</td>\n      <td>NaN</td>\n      <td>33901.0</td>\n      <td>1.0</td>\n      <td>0.0</td>\n      <td>0.0</td>\n    </tr>\n    <tr>\n      <th>8</th>\n      <td>41.0</td>\n      <td>Male</td>\n      <td>Black or African-American</td>\n      <td>NaN</td>\n      <td>65038.0</td>\n      <td>1.0</td>\n      <td>0.0</td>\n      <td>1.0</td>\n    </tr>\n    <tr>\n      <th>10</th>\n      <td>69.0</td>\n      <td>Female</td>\n      <td>Black or African-American</td>\n      <td>NaN</td>\n      <td>152335.0</td>\n      <td>1.0</td>\n      <td>0.0</td>\n      <td>0.0</td>\n    </tr>\n    <tr>\n      <th>...</th>\n      <td>...</td>\n      <td>...</td>\n      <td>...</td>\n      <td>...</td>\n      <td>...</td>\n      <td>...</td>\n      <td>...</td>\n      <td>...</td>\n    </tr>\n    <tr>\n      <th>343468</th>\n      <td>23.0</td>\n      <td>Female</td>\n      <td>White</td>\n      <td>NaN</td>\n      <td>NA</td>\n      <td>0.0</td>\n      <td>1.0</td>\n      <td>0.0</td>\n    </tr>\n    <tr>\n      <th>343469</th>\n      <td>24.0</td>\n      <td>Female</td>\n      <td>White</td>\n      <td>NaN</td>\n      <td>NA</td>\n      <td>0.0</td>\n      <td>1.0</td>\n      <td>0.0</td>\n    </tr>\n    <tr>\n      <th>343472</th>\n      <td>20.0</td>\n      <td>Male</td>\n      <td>Black or African-American</td>\n      <td>NaN</td>\n      <td>105538.0</td>\n      <td>0.0</td>\n      <td>1.0</td>\n      <td>0.0</td>\n    </tr>\n    <tr>\n      <th>343474</th>\n      <td>20.0</td>\n      <td>Female</td>\n      <td>Black or African-American</td>\n      <td>NaN</td>\n      <td>105538.0</td>\n      <td>0.0</td>\n      <td>1.0</td>\n      <td>0.0</td>\n    </tr>\n    <tr>\n      <th>343477</th>\n      <td>26.0</td>\n      <td>Male</td>\n      <td>Black or African-American</td>\n      <td>NaN</td>\n      <td>NA</td>\n      <td>0.0</td>\n      <td>1.0</td>\n      <td>0.0</td>\n    </tr>\n  </tbody>\n</table>\n<p>209145 rows × 8 columns</p>\n</div>"
     },
     "execution_count": 19,
     "metadata": {},
     "output_type": "execute_result"
    }
   ],
   "source": [
    "propensity_df_blackwhite_queer"
   ],
   "metadata": {
    "collapsed": false,
    "pycharm": {
     "name": "#%%\n"
    }
   }
  },
  {
   "cell_type": "code",
   "execution_count": 20,
   "outputs": [],
   "source": [
    "pd.DataFrame.to_csv(propensity_df_blackwhite_queer, \"/Users/valena17/psych_nlp/data/blackwhite_queer_beforesczANDcontrols.csv\",index = False)"
   ],
   "metadata": {
    "collapsed": false,
    "pycharm": {
     "name": "#%%\n"
    }
   }
  },
  {
   "cell_type": "code",
   "execution_count": 21,
   "outputs": [],
   "source": [
    "pd.DataFrame.to_csv(scz_only, \"/Users/valena17/psych_nlp/data/blackwhite_queer_scz.csv\",index = False)"
   ],
   "metadata": {
    "collapsed": false,
    "pycharm": {
     "name": "#%%\n"
    }
   }
  },
  {
   "cell_type": "code",
   "execution_count": null,
   "outputs": [],
   "source": [],
   "metadata": {
    "collapsed": false,
    "pycharm": {
     "name": "#%%\n"
    }
   }
  }
 ],
 "metadata": {
  "kernelspec": {
   "display_name": "Python 3",
   "language": "python",
   "name": "python3"
  },
  "language_info": {
   "codemirror_mode": {
    "name": "ipython",
    "version": 2
   },
   "file_extension": ".py",
   "mimetype": "text/x-python",
   "name": "python",
   "nbconvert_exporter": "python",
   "pygments_lexer": "ipython2",
   "version": "2.7.6"
  }
 },
 "nbformat": 4,
 "nbformat_minor": 0
}