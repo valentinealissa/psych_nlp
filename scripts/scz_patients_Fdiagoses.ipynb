{
 "cells": [
  {
   "cell_type": "code",
   "execution_count": 43,
   "outputs": [],
   "source": [
    "from datetime import datetime\n",
    "# importing moules\n",
    "import os\n",
    "import pandas as pd\n",
    "import matplotlib\n",
    "import numpy as np\n",
    "from re import search\n",
    "import matplotlib.pyplot as plt\n",
    "from datetime import date\n",
    "import seaborn as sns\n",
    "import math"
   ],
   "metadata": {
    "collapsed": false,
    "pycharm": {
     "name": "#%%\n"
    }
   }
  },
  {
   "cell_type": "code",
   "execution_count": 75,
   "outputs": [
    {
     "name": "stderr",
     "output_type": "stream",
     "text": [
      "/var/folders/xm/m4dy5bvs1fn7fb9wxjhsg4dc0000gn/T/ipykernel_19446/613150891.py:3: DtypeWarning: Columns (0) have mixed types. Specify dtype option on import or set low_memory=False.\n",
      "  scz_diagnoses = pd.read_csv('/Users/valena17/DataGripProjects/msdw2/output/scz_patient_Fdiagnoses_pt1.csv')\n",
      "/var/folders/xm/m4dy5bvs1fn7fb9wxjhsg4dc0000gn/T/ipykernel_19446/613150891.py:7: DtypeWarning: Columns (0) have mixed types. Specify dtype option on import or set low_memory=False.\n",
      "  scz_diagnoses_5 = pd.read_csv('/Users/valena17/DataGripProjects/msdw2/output/scz_patient_Fdiagnoses_pt5.csv')\n"
     ]
    },
    {
     "name": "stdout",
     "output_type": "stream",
     "text": [
      "0\n"
     ]
    },
    {
     "data": {
      "text/plain": "Empty DataFrame\nColumns: [PrimaryMrn, _merge]\nIndex: []",
      "text/html": "<div>\n<style scoped>\n    .dataframe tbody tr th:only-of-type {\n        vertical-align: middle;\n    }\n\n    .dataframe tbody tr th {\n        vertical-align: top;\n    }\n\n    .dataframe thead th {\n        text-align: right;\n    }\n</style>\n<table border=\"1\" class=\"dataframe\">\n  <thead>\n    <tr style=\"text-align: right;\">\n      <th></th>\n      <th>PrimaryMrn</th>\n      <th>_merge</th>\n    </tr>\n  </thead>\n  <tbody>\n  </tbody>\n</table>\n</div>"
     },
     "execution_count": 75,
     "metadata": {},
     "output_type": "execute_result"
    }
   ],
   "source": [
    "scz_mrns = pd.read_csv('/Users/valena17/psych_nlp/data/scz_patients_demo_clean.csv')\n",
    "scz_mrns[\"PrimaryMrn\"]=scz_mrns[\"PrimaryMrn\"].values.astype(str)\n",
    "scz_diagnoses = pd.read_csv('/Users/valena17/DataGripProjects/msdw2/output/scz_patient_Fdiagnoses_pt1.csv')\n",
    "scz_diagnoses_2 = pd.read_csv('/Users/valena17/DataGripProjects/msdw2/output/scz_patient_Fdiagnoses_pt2.csv')\n",
    "scz_diagnoses_3 = pd.read_csv('/Users/valena17/DataGripProjects/msdw2/output/scz_patient_Fdiagnoses_pt3.csv')\n",
    "scz_diagnoses_4 = pd.read_csv('/Users/valena17/DataGripProjects/msdw2/output/scz_patient_Fdiagnoses_pt4.csv')\n",
    "scz_diagnoses_5 = pd.read_csv('/Users/valena17/DataGripProjects/msdw2/output/scz_patient_Fdiagnoses_pt5.csv')\n",
    "all_scz_diagnoses = pd.concat([scz_diagnoses, scz_diagnoses_2, scz_diagnoses_3, scz_diagnoses_4, scz_diagnoses_5], axis=0).drop_duplicates()\n",
    "all_scz_diagnoses[\"PrimaryMrn\"]=all_scz_diagnoses[\"PrimaryMrn\"].values.astype(str)\n",
    "df_all = scz_mrns[['PrimaryMrn']].merge(all_scz_diagnoses[['PrimaryMrn']], on=['PrimaryMrn'],\n",
    "                                        how='left', indicator=True)\n",
    "missing_mrns = df_all[df_all['_merge'] == 'left_only']\n",
    "print(missing_mrns['PrimaryMrn'].nunique())\n",
    "missing_mrns"
   ],
   "metadata": {
    "collapsed": false,
    "pycharm": {
     "name": "#%%\n"
    }
   }
  },
  {
   "cell_type": "code",
   "execution_count": 83,
   "outputs": [
    {
     "name": "stdout",
     "output_type": "stream",
     "text": [
      "0 0 True\n"
     ]
    }
   ],
   "source": [
    "all = set(all_scz_diagnoses.PrimaryMrn)\n",
    "mrns = set(scz_mrns.PrimaryMrn)\n",
    "missing = mrns - all\n",
    "extra = all - mrns\n",
    "print(len(missing), len(extra))"
   ],
   "metadata": {
    "collapsed": false,
    "pycharm": {
     "name": "#%%\n"
    }
   }
  },
  {
   "cell_type": "code",
   "execution_count": 84,
   "outputs": [
    {
     "name": "stdout",
     "output_type": "stream",
     "text": [
      "19875 19875\n"
     ]
    }
   ],
   "source": [
    "print(scz_mrns['PrimaryMrn'].nunique(), all_scz_diagnoses['PrimaryMrn'].nunique())"
   ],
   "metadata": {
    "collapsed": false,
    "pycharm": {
     "name": "#%%\n"
    }
   }
  },
  {
   "cell_type": "code",
   "execution_count": 86,
   "outputs": [
    {
     "data": {
      "text/plain": "       PrimaryMrn  EncounterKey            VisitDate  AgeAtVisit  \\\n642361      81746      46675199  2016-05-09 00:00:00        80.0   \n757046      81746      40347824  2015-11-04 00:00:00        79.0   \n759292      81746      95117359  2019-05-28 00:00:00        83.0   \n761377      81746      11419166  2014-11-21 14:25:00        78.0   \n761378      81746      32713320  2015-08-05 00:00:00        79.0   \n761379      81746      49256848  2016-10-17 00:00:00        80.0   \n761380      81746      57426897  2017-05-08 00:00:00        81.0   \n828477      81746      44551781  2016-01-15 00:00:00        80.0   \n873294      81746      48738450  2016-07-11 00:00:00        80.0   \n873295      81746      76303059  2018-03-26 00:00:00        82.0   \n80292       81746      46675199  2016-05-09 00:00:00        80.0   \n\n                 VisitType    VisitType2   Value  \\\n642361        Office Visit    Outpatient  F02.80   \n757046        Office Visit    Outpatient  F02.80   \n759292              Refill  *Unspecified  F02.80   \n761377  Hospital Encounter     Emergency     F29   \n761378        Office Visit    Outpatient  F02.80   \n761379        Office Visit    Outpatient  F02.80   \n761380        Office Visit    Outpatient  F02.80   \n828477           Telephone  *Unspecified  F02.80   \n873294        Office Visit    Outpatient  F02.80   \n873295        Office Visit    Outpatient  F02.80   \n80292         Office Visit    Outpatient  F02.80   \n\n                                            DisplayString  \\\n642361  Dementia in other diseases classified elsewher...   \n757046  Dementia in other diseases classified elsewher...   \n759292  Dementia in other diseases classified elsewher...   \n761377  Unspecified psychosis not due to a substance o...   \n761378  Dementia in other diseases classified elsewher...   \n761379  Dementia in other diseases classified elsewher...   \n761380  Dementia in other diseases classified elsewher...   \n828477  Dementia in other diseases classified elsewher...   \n873294  Dementia in other diseases classified elsewher...   \n873295  Dementia in other diseases classified elsewher...   \n80292   Dementia in other diseases classified elsewher...   \n\n          PayorFinancialClass ProviderSex ProviderType   ProviderSpecialty  \\\n642361               Self-Pay        Male    Physician          GERIATRICS   \n757046               Self-Pay        Male    Physician          GERIATRICS   \n759292               Self-Pay        Male    Physician          GERIATRICS   \n761377               Self-Pay      Female    Physician  Emergency Medicine   \n761378               Self-Pay        Male    Physician          GERIATRICS   \n761379               Self-Pay        Male    Physician          GERIATRICS   \n761380  Medicare Managed Care        Male    Physician          GERIATRICS   \n828477               Self-Pay        Male    Physician          GERIATRICS   \n873294               Self-Pay        Male    Physician          GERIATRICS   \n873295  Medicare Managed Care        Male    Physician          GERIATRICS   \n80292                Self-Pay        Male    Physician          GERIATRICS   \n\n                       dep_name DepartmentSpecialty  \n642361             X_GERIATRICS         Gerontology  \n757046             X_GERIATRICS         Gerontology  \n759292  1440 MADISON GERIATRICS         Gerontology  \n761377     EMERGENCY DEPARTMENT  Emergency Medicine  \n761378             X_GERIATRICS         Gerontology  \n761379  1440 MADISON GERIATRICS         Gerontology  \n761380  1440 MADISON GERIATRICS         Gerontology  \n828477             X_GERIATRICS         Gerontology  \n873294  1440 MADISON GERIATRICS         Gerontology  \n873295  1440 MADISON GERIATRICS         Gerontology  \n80292              X_GERIATRICS         Gerontology  ",
      "text/html": "<div>\n<style scoped>\n    .dataframe tbody tr th:only-of-type {\n        vertical-align: middle;\n    }\n\n    .dataframe tbody tr th {\n        vertical-align: top;\n    }\n\n    .dataframe thead th {\n        text-align: right;\n    }\n</style>\n<table border=\"1\" class=\"dataframe\">\n  <thead>\n    <tr style=\"text-align: right;\">\n      <th></th>\n      <th>PrimaryMrn</th>\n      <th>EncounterKey</th>\n      <th>VisitDate</th>\n      <th>AgeAtVisit</th>\n      <th>VisitType</th>\n      <th>VisitType2</th>\n      <th>Value</th>\n      <th>DisplayString</th>\n      <th>PayorFinancialClass</th>\n      <th>ProviderSex</th>\n      <th>ProviderType</th>\n      <th>ProviderSpecialty</th>\n      <th>dep_name</th>\n      <th>DepartmentSpecialty</th>\n    </tr>\n  </thead>\n  <tbody>\n    <tr>\n      <th>642361</th>\n      <td>81746</td>\n      <td>46675199</td>\n      <td>2016-05-09 00:00:00</td>\n      <td>80.0</td>\n      <td>Office Visit</td>\n      <td>Outpatient</td>\n      <td>F02.80</td>\n      <td>Dementia in other diseases classified elsewher...</td>\n      <td>Self-Pay</td>\n      <td>Male</td>\n      <td>Physician</td>\n      <td>GERIATRICS</td>\n      <td>X_GERIATRICS</td>\n      <td>Gerontology</td>\n    </tr>\n    <tr>\n      <th>757046</th>\n      <td>81746</td>\n      <td>40347824</td>\n      <td>2015-11-04 00:00:00</td>\n      <td>79.0</td>\n      <td>Office Visit</td>\n      <td>Outpatient</td>\n      <td>F02.80</td>\n      <td>Dementia in other diseases classified elsewher...</td>\n      <td>Self-Pay</td>\n      <td>Male</td>\n      <td>Physician</td>\n      <td>GERIATRICS</td>\n      <td>X_GERIATRICS</td>\n      <td>Gerontology</td>\n    </tr>\n    <tr>\n      <th>759292</th>\n      <td>81746</td>\n      <td>95117359</td>\n      <td>2019-05-28 00:00:00</td>\n      <td>83.0</td>\n      <td>Refill</td>\n      <td>*Unspecified</td>\n      <td>F02.80</td>\n      <td>Dementia in other diseases classified elsewher...</td>\n      <td>Self-Pay</td>\n      <td>Male</td>\n      <td>Physician</td>\n      <td>GERIATRICS</td>\n      <td>1440 MADISON GERIATRICS</td>\n      <td>Gerontology</td>\n    </tr>\n    <tr>\n      <th>761377</th>\n      <td>81746</td>\n      <td>11419166</td>\n      <td>2014-11-21 14:25:00</td>\n      <td>78.0</td>\n      <td>Hospital Encounter</td>\n      <td>Emergency</td>\n      <td>F29</td>\n      <td>Unspecified psychosis not due to a substance o...</td>\n      <td>Self-Pay</td>\n      <td>Female</td>\n      <td>Physician</td>\n      <td>Emergency Medicine</td>\n      <td>EMERGENCY DEPARTMENT</td>\n      <td>Emergency Medicine</td>\n    </tr>\n    <tr>\n      <th>761378</th>\n      <td>81746</td>\n      <td>32713320</td>\n      <td>2015-08-05 00:00:00</td>\n      <td>79.0</td>\n      <td>Office Visit</td>\n      <td>Outpatient</td>\n      <td>F02.80</td>\n      <td>Dementia in other diseases classified elsewher...</td>\n      <td>Self-Pay</td>\n      <td>Male</td>\n      <td>Physician</td>\n      <td>GERIATRICS</td>\n      <td>X_GERIATRICS</td>\n      <td>Gerontology</td>\n    </tr>\n    <tr>\n      <th>761379</th>\n      <td>81746</td>\n      <td>49256848</td>\n      <td>2016-10-17 00:00:00</td>\n      <td>80.0</td>\n      <td>Office Visit</td>\n      <td>Outpatient</td>\n      <td>F02.80</td>\n      <td>Dementia in other diseases classified elsewher...</td>\n      <td>Self-Pay</td>\n      <td>Male</td>\n      <td>Physician</td>\n      <td>GERIATRICS</td>\n      <td>1440 MADISON GERIATRICS</td>\n      <td>Gerontology</td>\n    </tr>\n    <tr>\n      <th>761380</th>\n      <td>81746</td>\n      <td>57426897</td>\n      <td>2017-05-08 00:00:00</td>\n      <td>81.0</td>\n      <td>Office Visit</td>\n      <td>Outpatient</td>\n      <td>F02.80</td>\n      <td>Dementia in other diseases classified elsewher...</td>\n      <td>Medicare Managed Care</td>\n      <td>Male</td>\n      <td>Physician</td>\n      <td>GERIATRICS</td>\n      <td>1440 MADISON GERIATRICS</td>\n      <td>Gerontology</td>\n    </tr>\n    <tr>\n      <th>828477</th>\n      <td>81746</td>\n      <td>44551781</td>\n      <td>2016-01-15 00:00:00</td>\n      <td>80.0</td>\n      <td>Telephone</td>\n      <td>*Unspecified</td>\n      <td>F02.80</td>\n      <td>Dementia in other diseases classified elsewher...</td>\n      <td>Self-Pay</td>\n      <td>Male</td>\n      <td>Physician</td>\n      <td>GERIATRICS</td>\n      <td>X_GERIATRICS</td>\n      <td>Gerontology</td>\n    </tr>\n    <tr>\n      <th>873294</th>\n      <td>81746</td>\n      <td>48738450</td>\n      <td>2016-07-11 00:00:00</td>\n      <td>80.0</td>\n      <td>Office Visit</td>\n      <td>Outpatient</td>\n      <td>F02.80</td>\n      <td>Dementia in other diseases classified elsewher...</td>\n      <td>Self-Pay</td>\n      <td>Male</td>\n      <td>Physician</td>\n      <td>GERIATRICS</td>\n      <td>1440 MADISON GERIATRICS</td>\n      <td>Gerontology</td>\n    </tr>\n    <tr>\n      <th>873295</th>\n      <td>81746</td>\n      <td>76303059</td>\n      <td>2018-03-26 00:00:00</td>\n      <td>82.0</td>\n      <td>Office Visit</td>\n      <td>Outpatient</td>\n      <td>F02.80</td>\n      <td>Dementia in other diseases classified elsewher...</td>\n      <td>Medicare Managed Care</td>\n      <td>Male</td>\n      <td>Physician</td>\n      <td>GERIATRICS</td>\n      <td>1440 MADISON GERIATRICS</td>\n      <td>Gerontology</td>\n    </tr>\n    <tr>\n      <th>80292</th>\n      <td>81746</td>\n      <td>46675199</td>\n      <td>2016-05-09 00:00:00</td>\n      <td>80.0</td>\n      <td>Office Visit</td>\n      <td>Outpatient</td>\n      <td>F02.80</td>\n      <td>Dementia in other diseases classified elsewher...</td>\n      <td>Self-Pay</td>\n      <td>Male</td>\n      <td>Physician</td>\n      <td>GERIATRICS</td>\n      <td>X_GERIATRICS</td>\n      <td>Gerontology</td>\n    </tr>\n  </tbody>\n</table>\n</div>"
     },
     "execution_count": 86,
     "metadata": {},
     "output_type": "execute_result"
    }
   ],
   "source": [
    "all_scz_diagnoses[all_scz_diagnoses['PrimaryMrn'] == '81746']"
   ],
   "metadata": {
    "collapsed": false,
    "pycharm": {
     "name": "#%%\n"
    }
   }
  },
  {
   "cell_type": "code",
   "execution_count": 87,
   "outputs": [],
   "source": [
    "pd.DataFrame.to_csv(all_scz_diagnoses, \"/Users/valena17/psych_nlp/data/scz_patient_Fdiagnoses_all.csv\",index = False)"
   ],
   "metadata": {
    "collapsed": false,
    "pycharm": {
     "name": "#%%\n"
    }
   }
  },
  {
   "cell_type": "code",
   "execution_count": 92,
   "outputs": [
    {
     "name": "stderr",
     "output_type": "stream",
     "text": [
      "/var/folders/xm/m4dy5bvs1fn7fb9wxjhsg4dc0000gn/T/ipykernel_19446/824269028.py:1: DtypeWarning: Columns (0,9,10,11,12,13) have mixed types. Specify dtype option on import or set low_memory=False.\n",
      "  scz_diagnoses = pd.read_csv('/Users/valena17/psych_nlp/data/scz_patient_Fdiagnoses_all.csv')\n"
     ]
    },
    {
     "data": {
      "text/plain": "19875"
     },
     "execution_count": 92,
     "metadata": {},
     "output_type": "execute_result"
    }
   ],
   "source": [
    "scz_diagnoses = pd.read_csv('/Users/valena17/psych_nlp/data/scz_patient_Fdiagnoses_all.csv')\n",
    "scz_diagnoses[\"PrimaryMrn\"]=scz_diagnoses[\"PrimaryMrn\"].values.astype(str)\n",
    "scz_diagnoses['PrimaryMrn'].nunique() # 25806"
   ],
   "metadata": {
    "collapsed": false,
    "pycharm": {
     "name": "#%%\n"
    }
   }
  },
  {
   "cell_type": "code",
   "execution_count": 95,
   "outputs": [],
   "source": [
    "scz_diagnoses = scz_diagnoses.replace(['Unknown', '*Unknown','*Unspecified', 'Choose not to disclose', 'Not recorded on birth certificate',\n",
    "                     '*Not Applicable', 'Indeterminate', 'Uncertain', 'UNKNOWN', 'PATIENT DECLINED', '*Deleted'],\n",
    "                    np.nan)"
   ],
   "metadata": {
    "collapsed": false,
    "pycharm": {
     "name": "#%%\n"
    }
   }
  },
  {
   "cell_type": "code",
   "execution_count": 96,
   "outputs": [
    {
     "name": "stdout",
     "output_type": "stream",
     "text": [
      "Office Visit                    766084\n",
      "Psych Conf Office Visit         262724\n",
      "Hospital Encounter               93962\n",
      "Social Work                      81700\n",
      "Confidential Office Visit        20189\n",
      "                                 ...  \n",
      "Selikoff Visit                       1\n",
      "ACO Care Coordination                1\n",
      "Psych Conf Initial Encounter         1\n",
      "Health Ed Non-Billable               1\n",
      "Confidential Nutrition Visit         1\n",
      "Name: VisitType, Length: 81, dtype: int64 Outpatient             740787\n",
      "Recurring              403933\n",
      "Emergency               67084\n",
      "NaN                     39795\n",
      "Inpatient               26198\n",
      "Urgent Care                51\n",
      "Outpatient In A Bed         2\n",
      "Name: VisitType2, dtype: int64 Paranoid schizophrenia                                                                                     186539\n",
      "Schizophrenia, unspecified                                                                                 147888\n",
      "Schizoaffective disorder, unspecified                                                                      146329\n",
      "Schizoaffective disorder, bipolar type                                                                      74754\n",
      "Schizoaffective disorder, depressive type                                                                   41128\n",
      "                                                                                                            ...  \n",
      "Sedative, hypnotic or anxiolytic dependence with sedative, hypnotic or anxiolytic-induced mood disorder         1\n",
      "Cocaine use, unspecified with intoxication delirium                                                             1\n",
      "Inhalant abuse with intoxication, unspecified                                                                   1\n",
      "Cocaine use, unspecified, in remission                                                                          1\n",
      "Cocaine use, unspecified with other cocaine-induced disorder                                                    1\n",
      "Name: DisplayString, Length: 572, dtype: int64 NaN                        579121\n",
      "Self-Pay                   419608\n",
      "Medicaid Managed Care      109064\n",
      "Medicare MS                 53527\n",
      "Medicare Managed Care       41446\n",
      "Commercial/Managed Care     33603\n",
      "Medicaid MS                 15593\n",
      "Commercial                   5913\n",
      "Self Pay                     5102\n",
      "Medicare                     4610\n",
      "Medicaid                     2970\n",
      "WTC                          2144\n",
      "Other Medicaid HMO           1586\n",
      "Medicaid HMO                  914\n",
      "Wellcare                      555\n",
      "VNS Hospice Care              361\n",
      "Child Health Plus             351\n",
      "Blue Cross                    298\n",
      "Self Pay MS                   212\n",
      "Aetna                         205\n",
      "Worker's Comp/No Fault        135\n",
      "Other                         100\n",
      "Local 1199                     92\n",
      "Fidelis Care                   87\n",
      "Medicare HMO Two               74\n",
      "ADAP                           66\n",
      "AFFINITY MCD                   31\n",
      "HMO Other                      24\n",
      "PPO                            11\n",
      "Medicare Two                   10\n",
      "Transplant                     10\n",
      "Magnacare                       7\n",
      "WTC Health Program              6\n",
      "HMO                             5\n",
      "Cigna                           4\n",
      "Commercial Two                  2\n",
      "Anthem Group Services           2\n",
      "Horizon Healthcare EPO          1\n",
      "Name: PayorFinancialClass, dtype: int64 NaN                                     501880\n",
      "Physician                               183927\n",
      "Organization                            176738\n",
      "Social Worker                           136706\n",
      "Nurse Practitioner                       55440\n",
      "Resident                                 49553\n",
      "Licensed Mental Health Counselor         36878\n",
      "Physical Therapist                       35663\n",
      "Group                                    30446\n",
      "Psychologist                             28903\n",
      "Therapist                                18145\n",
      "Psych Interns                             5495\n",
      "Fellow                                    4876\n",
      "Registered Nurse                          3860\n",
      "Resource                                  3072\n",
      "Social Worker Intern                      1755\n",
      "Counselor                                 1131\n",
      "Psychiatric Rehabilitation Therapist       692\n",
      "Physician Assistant                        638\n",
      "Licensed Practical Nurse                   566\n",
      "Ancillary Student                          288\n",
      "Acupuncturist                              254\n",
      "Psych Nurse Practitioner                   248\n",
      "Pharmacist                                 169\n",
      "Psychology Extern                          139\n",
      "Nutritionist                                61\n",
      "Technician                                  46\n",
      "Anesthesiologist                            35\n",
      "Phlebotomist                                33\n",
      "Licensed Massage Therapist                  31\n",
      "Social Worker Assistant                     30\n",
      "Speech Language Pathologist                 22\n",
      "Medical Student                             20\n",
      "Nursing Student                             17\n",
      "Medical Assistant                           16\n",
      "Rehab Neuro Psychologist                    14\n",
      "Case Manager                                13\n",
      "Care Coordinator                            13\n",
      "Chaplain                                     8\n",
      "Osteopath                                    6\n",
      "Speech Therapist                             6\n",
      "Administrative Assistant                     5\n",
      "Audiologist                                  2\n",
      "Occupational Therapist                       2\n",
      "Unlicensed Mental Health Counselor           2\n",
      "Licensed Nurse                               2\n",
      "Midwife                                      1\n",
      "Unlicensed Resident                          1\n",
      "Transport                                    1\n",
      "Health Educator                              1\n",
      "Name: ProviderType, dtype: int64 NaN                                          815189\n",
      "PSYCHIATRY                                   295477\n",
      "SOCIAL WORKER                                 39692\n",
      "Physical Therapy                              35660\n",
      "INTERNAL MEDICINE                             12125\n",
      "                                              ...  \n",
      "OCCUPATIONAL MEDICINE                             1\n",
      "PEDIATRICS PULMONOLGY AND CRITICAL CARE           1\n",
      "ORTHOPAEDIC SURGERY, FOOT & ANKLE SURGERY         1\n",
      "ABDOMINAL ORGAN TRANSPLANT                        1\n",
      "SURGERY, GENERAL VASCULAR SURGERY                 1\n",
      "Name: ProviderSpecialty, Length: 187, dtype: int64 NaN                                   819598\n",
      "HOSP PSYCH CDTP                        97236\n",
      "MS SLR BH PRC 411W 114                 72867\n",
      "X_HOSP PSYCH ADULT KCC_DEACTIVATED     48522\n",
      "MS SLR BH OPC 411W 114                 20850\n",
      "                                       ...  \n",
      "LIVER                                      1\n",
      "X_FPA PAIN MGMT/ANESTHESIOLOGY             1\n",
      "MSM STUY 6 VU2                             1\n",
      "X_FPA LIVER SUITE_DEACTIVATED              1\n",
      "10 UNION SQ E MFM CLINIC                   1\n",
      "Name: dep_name, Length: 973, dtype: int64 NaN                          823541\n",
      "Behavioral Health            169214\n",
      "Psychiatry Addiction         103221\n",
      "Psych Shared                  85374\n",
      "Psychiatry                    29317\n",
      "                              ...  \n",
      "Pre-Surgical Testing              2\n",
      "Thoracic Surgery                  1\n",
      "Allergy                           1\n",
      "Cardiology-Interventional         1\n",
      "POMA                              1\n",
      "Name: DepartmentSpecialty, Length: 74, dtype: int64\n"
     ]
    }
   ],
   "source": [
    "print(scz_diagnoses.VisitType.value_counts(dropna=False),\n",
    "      scz_diagnoses.VisitType2.value_counts(dropna=False),\n",
    "      scz_diagnoses.DisplayString.value_counts(dropna=False),\n",
    "      scz_diagnoses.PayorFinancialClass.value_counts(dropna=False),\n",
    "      scz_diagnoses.ProviderType.value_counts(dropna=False),\n",
    "      scz_diagnoses.ProviderSpecialty.value_counts(dropna=False),\n",
    "      scz_diagnoses.dep_name.value_counts(dropna=False),\n",
    "      scz_diagnoses.DepartmentSpecialty.value_counts(dropna=False))"
   ],
   "metadata": {
    "collapsed": false,
    "pycharm": {
     "name": "#%%\n"
    }
   }
  },
  {
   "cell_type": "code",
   "execution_count": 97,
   "outputs": [
    {
     "data": {
      "text/plain": "       PrimaryMrn  EncounterKey            VisitDate  AgeAtVisit  \\\n190       1003157      10026992  2009-02-02 00:00:00        49.0   \n0         1003157      10194062  2011-07-20 18:54:00        52.0   \n10        1003157      12589140  2011-11-30 00:00:00        52.0   \n140       1003157      12092269  2011-12-08 00:00:00        52.0   \n71        1003157     253796807  2012-01-25 00:00:00        52.0   \n...           ...           ...                  ...         ...   \n851359    V724454     315919161  2022-05-30 00:00:00        66.0   \n699006    V724454     312312283  2022-10-21 17:52:00        66.0   \n726828    X300004      76843447  2018-03-10 02:45:00        58.0   \n851360    X300004     277920489  2018-06-06 00:00:00        58.0   \n819701    X300004     254531792  2018-06-13 00:00:00        58.0   \n\n                      VisitType  VisitType2   Value  \\\n190                Office Visit  Outpatient   F32.A   \n0            Hospital Encounter   Inpatient     F39   \n10      Psych Conf Office Visit   Recurring  F19.10   \n140     Psych Conf Office Visit   Recurring  F06.30   \n71                 Office Visit  Outpatient   F33.9   \n...                         ...         ...     ...   \n851359       Hospital Encounter   Emergency   F60.2   \n699006       Hospital Encounter   Emergency  F11.10   \n726828       Hospital Encounter   Inpatient   F32.A   \n851360             Office Visit  Outpatient   F33.3   \n819701             Office Visit  Outpatient   F25.1   \n\n                                            DisplayString  \\\n190                               Depression, unspecified   \n0                   Unspecified mood (affective) disorder   \n10      Other psychoactive substance abuse, uncomplicated   \n140     Mood disorder due to known physiological condi...   \n71      Major depressive disorder, recurrent, unspecified   \n...                                                   ...   \n851359                    Antisocial personality disorder   \n699006                        Opioid abuse, uncomplicated   \n726828                            Depression, unspecified   \n851360  Major depressive disorder, recurrent, severe w...   \n819701          Schizoaffective disorder, depressive type   \n\n          PayorFinancialClass ProviderSex        ProviderType  \\\n190                  Self-Pay        Male           Physician   \n0                    Self-Pay        Male           Physician   \n10                   Self-Pay      Female  Nurse Practitioner   \n140                  Self-Pay      Female  Nurse Practitioner   \n71                        NaN         NaN        Organization   \n...                       ...         ...                 ...   \n851359            Medicaid MS         NaN                 NaN   \n699006            Medicare MS      Female           Physician   \n726828  Medicaid Managed Care      Female           Physician   \n851360                    NaN         NaN                 NaN   \n819701                    NaN         NaN                 NaN   \n\n         ProviderSpecialty                            dep_name  \\\n190      INTERNAL MEDICINE                        X_IMA FIRM B   \n0               PSYCHIATRY                                 C7N   \n10              PSYCHIATRY  X_HOSP PSYCH ADULT KCC_DEACTIVATED   \n140             PSYCHIATRY  X_HOSP PSYCH ADULT KCC_DEACTIVATED   \n71                     NaN                                 NaN   \n...                    ...                                 ...   \n851359                 NaN                                 NaN   \n699006  Emergency Medicine          EMERGENCY DEPT MORNINGSIDE   \n726828          PSYCHIATRY            X_WINSTON 7G_DEACTIVATED   \n851360                 NaN                                 NaN   \n819701                 NaN                                 NaN   \n\n       DepartmentSpecialty  \n190      Internal Medicine  \n0               Psychiatry  \n10            Psych Shared  \n140           Psych Shared  \n71                     NaN  \n...                    ...  \n851359                 NaN  \n699006  Emergency Medicine  \n726828                 NaN  \n851360                 NaN  \n819701                 NaN  \n\n[80087 rows x 14 columns]",
      "text/html": "<div>\n<style scoped>\n    .dataframe tbody tr th:only-of-type {\n        vertical-align: middle;\n    }\n\n    .dataframe tbody tr th {\n        vertical-align: top;\n    }\n\n    .dataframe thead th {\n        text-align: right;\n    }\n</style>\n<table border=\"1\" class=\"dataframe\">\n  <thead>\n    <tr style=\"text-align: right;\">\n      <th></th>\n      <th>PrimaryMrn</th>\n      <th>EncounterKey</th>\n      <th>VisitDate</th>\n      <th>AgeAtVisit</th>\n      <th>VisitType</th>\n      <th>VisitType2</th>\n      <th>Value</th>\n      <th>DisplayString</th>\n      <th>PayorFinancialClass</th>\n      <th>ProviderSex</th>\n      <th>ProviderType</th>\n      <th>ProviderSpecialty</th>\n      <th>dep_name</th>\n      <th>DepartmentSpecialty</th>\n    </tr>\n  </thead>\n  <tbody>\n    <tr>\n      <th>190</th>\n      <td>1003157</td>\n      <td>10026992</td>\n      <td>2009-02-02 00:00:00</td>\n      <td>49.0</td>\n      <td>Office Visit</td>\n      <td>Outpatient</td>\n      <td>F32.A</td>\n      <td>Depression, unspecified</td>\n      <td>Self-Pay</td>\n      <td>Male</td>\n      <td>Physician</td>\n      <td>INTERNAL MEDICINE</td>\n      <td>X_IMA FIRM B</td>\n      <td>Internal Medicine</td>\n    </tr>\n    <tr>\n      <th>0</th>\n      <td>1003157</td>\n      <td>10194062</td>\n      <td>2011-07-20 18:54:00</td>\n      <td>52.0</td>\n      <td>Hospital Encounter</td>\n      <td>Inpatient</td>\n      <td>F39</td>\n      <td>Unspecified mood (affective) disorder</td>\n      <td>Self-Pay</td>\n      <td>Male</td>\n      <td>Physician</td>\n      <td>PSYCHIATRY</td>\n      <td>C7N</td>\n      <td>Psychiatry</td>\n    </tr>\n    <tr>\n      <th>10</th>\n      <td>1003157</td>\n      <td>12589140</td>\n      <td>2011-11-30 00:00:00</td>\n      <td>52.0</td>\n      <td>Psych Conf Office Visit</td>\n      <td>Recurring</td>\n      <td>F19.10</td>\n      <td>Other psychoactive substance abuse, uncomplicated</td>\n      <td>Self-Pay</td>\n      <td>Female</td>\n      <td>Nurse Practitioner</td>\n      <td>PSYCHIATRY</td>\n      <td>X_HOSP PSYCH ADULT KCC_DEACTIVATED</td>\n      <td>Psych Shared</td>\n    </tr>\n    <tr>\n      <th>140</th>\n      <td>1003157</td>\n      <td>12092269</td>\n      <td>2011-12-08 00:00:00</td>\n      <td>52.0</td>\n      <td>Psych Conf Office Visit</td>\n      <td>Recurring</td>\n      <td>F06.30</td>\n      <td>Mood disorder due to known physiological condi...</td>\n      <td>Self-Pay</td>\n      <td>Female</td>\n      <td>Nurse Practitioner</td>\n      <td>PSYCHIATRY</td>\n      <td>X_HOSP PSYCH ADULT KCC_DEACTIVATED</td>\n      <td>Psych Shared</td>\n    </tr>\n    <tr>\n      <th>71</th>\n      <td>1003157</td>\n      <td>253796807</td>\n      <td>2012-01-25 00:00:00</td>\n      <td>52.0</td>\n      <td>Office Visit</td>\n      <td>Outpatient</td>\n      <td>F33.9</td>\n      <td>Major depressive disorder, recurrent, unspecified</td>\n      <td>NaN</td>\n      <td>NaN</td>\n      <td>Organization</td>\n      <td>NaN</td>\n      <td>NaN</td>\n      <td>NaN</td>\n    </tr>\n    <tr>\n      <th>...</th>\n      <td>...</td>\n      <td>...</td>\n      <td>...</td>\n      <td>...</td>\n      <td>...</td>\n      <td>...</td>\n      <td>...</td>\n      <td>...</td>\n      <td>...</td>\n      <td>...</td>\n      <td>...</td>\n      <td>...</td>\n      <td>...</td>\n      <td>...</td>\n    </tr>\n    <tr>\n      <th>851359</th>\n      <td>V724454</td>\n      <td>315919161</td>\n      <td>2022-05-30 00:00:00</td>\n      <td>66.0</td>\n      <td>Hospital Encounter</td>\n      <td>Emergency</td>\n      <td>F60.2</td>\n      <td>Antisocial personality disorder</td>\n      <td>Medicaid MS</td>\n      <td>NaN</td>\n      <td>NaN</td>\n      <td>NaN</td>\n      <td>NaN</td>\n      <td>NaN</td>\n    </tr>\n    <tr>\n      <th>699006</th>\n      <td>V724454</td>\n      <td>312312283</td>\n      <td>2022-10-21 17:52:00</td>\n      <td>66.0</td>\n      <td>Hospital Encounter</td>\n      <td>Emergency</td>\n      <td>F11.10</td>\n      <td>Opioid abuse, uncomplicated</td>\n      <td>Medicare MS</td>\n      <td>Female</td>\n      <td>Physician</td>\n      <td>Emergency Medicine</td>\n      <td>EMERGENCY DEPT MORNINGSIDE</td>\n      <td>Emergency Medicine</td>\n    </tr>\n    <tr>\n      <th>726828</th>\n      <td>X300004</td>\n      <td>76843447</td>\n      <td>2018-03-10 02:45:00</td>\n      <td>58.0</td>\n      <td>Hospital Encounter</td>\n      <td>Inpatient</td>\n      <td>F32.A</td>\n      <td>Depression, unspecified</td>\n      <td>Medicaid Managed Care</td>\n      <td>Female</td>\n      <td>Physician</td>\n      <td>PSYCHIATRY</td>\n      <td>X_WINSTON 7G_DEACTIVATED</td>\n      <td>NaN</td>\n    </tr>\n    <tr>\n      <th>851360</th>\n      <td>X300004</td>\n      <td>277920489</td>\n      <td>2018-06-06 00:00:00</td>\n      <td>58.0</td>\n      <td>Office Visit</td>\n      <td>Outpatient</td>\n      <td>F33.3</td>\n      <td>Major depressive disorder, recurrent, severe w...</td>\n      <td>NaN</td>\n      <td>NaN</td>\n      <td>NaN</td>\n      <td>NaN</td>\n      <td>NaN</td>\n      <td>NaN</td>\n    </tr>\n    <tr>\n      <th>819701</th>\n      <td>X300004</td>\n      <td>254531792</td>\n      <td>2018-06-13 00:00:00</td>\n      <td>58.0</td>\n      <td>Office Visit</td>\n      <td>Outpatient</td>\n      <td>F25.1</td>\n      <td>Schizoaffective disorder, depressive type</td>\n      <td>NaN</td>\n      <td>NaN</td>\n      <td>NaN</td>\n      <td>NaN</td>\n      <td>NaN</td>\n      <td>NaN</td>\n    </tr>\n  </tbody>\n</table>\n<p>80087 rows × 14 columns</p>\n</div>"
     },
     "execution_count": 97,
     "metadata": {},
     "output_type": "execute_result"
    }
   ],
   "source": [
    "scz_diagnoses = scz_diagnoses.sort_values(by=['PrimaryMrn','VisitDate'], ascending=[True, True])\n",
    "first_scz_diagnoses = scz_diagnoses.drop_duplicates(subset=['PrimaryMrn', 'DisplayString'],  keep='first')\n",
    "first_scz_diagnoses"
   ],
   "metadata": {
    "collapsed": false,
    "pycharm": {
     "name": "#%%\n"
    }
   }
  },
  {
   "cell_type": "code",
   "execution_count": 98,
   "outputs": [
    {
     "data": {
      "text/plain": "['Neurocognitive disorders']"
     },
     "execution_count": 98,
     "metadata": {},
     "output_type": "execute_result"
    }
   ],
   "source": [
    "ccsr = pd.read_csv(\"/Users/valena17/DataGripProjects/msdw2/psych_diagnoses/ccsr_fcodes.csv\")\n",
    "ccsr = ccsr.applymap(lambda x: x.replace(\"'\", \"\"))\n",
    "ccsr = ccsr[['ICD-10-CM CODE', 'Default CCSR CATEGORY DESCRIPTION OP']]\n",
    "ccsr_mapping = ccsr.set_index('ICD-10-CM CODE').T.to_dict('list')\n",
    "ccsr_mapping['F01518']"
   ],
   "metadata": {
    "collapsed": false,
    "pycharm": {
     "name": "#%%\n"
    }
   }
  },
  {
   "cell_type": "code",
   "execution_count": 99,
   "outputs": [
    {
     "name": "stderr",
     "output_type": "stream",
     "text": [
      "/var/folders/xm/m4dy5bvs1fn7fb9wxjhsg4dc0000gn/T/ipykernel_19446/1080365795.py:6: SettingWithCopyWarning: \n",
      "A value is trying to be set on a copy of a slice from a DataFrame.\n",
      "Try using .loc[row_indexer,col_indexer] = value instead\n",
      "\n",
      "See the caveats in the documentation: https://pandas.pydata.org/pandas-docs/stable/user_guide/indexing.html#returning-a-view-versus-a-copy\n",
      "  first_scz_diagnoses['CCSR_code'] = first_scz_diagnoses['Value'].apply(CCSR)\n"
     ]
    },
    {
     "data": {
      "text/plain": "    PrimaryMrn  EncounterKey            VisitDate  AgeAtVisit  \\\n190    1003157      10026992  2009-02-02 00:00:00        49.0   \n0      1003157      10194062  2011-07-20 18:54:00        52.0   \n10     1003157      12589140  2011-11-30 00:00:00        52.0   \n140    1003157      12092269  2011-12-08 00:00:00        52.0   \n71     1003157     253796807  2012-01-25 00:00:00        52.0   \n70     1003157     251130954  2012-02-22 00:00:00        52.0   \n11     1003157     254179037  2012-03-28 00:00:00        53.0   \n21     1003157     282332821  2014-02-17 00:00:00        54.0   \n62     1003157     109266117  2018-02-13 00:00:00        58.0   \n144    1003377     136471680  2019-07-26 00:00:00        54.0   \n88     1003377     169200840  2019-10-18 00:00:00        54.0   \n89     1003377     169200845  2019-11-15 00:00:00        55.0   \n156    1003377     169200847  2019-12-13 00:00:00        55.0   \n191    1003377     252391984  2020-04-07 00:00:00        55.0   \n33     1003377     254282884  2020-04-21 00:00:00        55.0   \n14     1003377     252831207  2020-05-30 00:00:00        55.0   \n69     1003711     256957683  2014-11-14 00:00:00        41.0   \n202    1003711     256197630  2014-11-28 00:00:00        41.0   \n203    1003711     257847904  2014-12-05 00:00:00        41.0   \n121    1003711     257427623  2014-12-24 00:00:00        41.0   \n49     1003711     256802830  2015-02-23 00:00:00        41.0   \n44     1007012      12086646  2012-01-29 16:51:00        37.0   \n127    1007012     318511167  2018-06-20 00:00:00        43.0   \n57     1007012     182241121  2020-06-08 21:16:00        45.0   \n122    1007012     287473487  2021-09-07 00:00:00        46.0   \n174    1007012     303896113  2022-05-19 00:00:00        47.0   \n128    1007012     326051473  2022-10-05 00:00:00        48.0   \n173    1007542     263308933  2021-02-14 00:00:00        33.0   \n99     1007542     303946669  2022-04-10 00:00:00        35.0   \n186    1008703     323869811  2022-11-22 02:45:00        33.0   \n179    1008965       9602665  2010-02-04 00:00:00        77.0   \n183    1008965       8692415  2010-02-04 00:00:00        77.0   \n225    1008965       6967172  2010-03-09 00:00:00        77.0   \n187    1008965      12490694  2011-02-11 00:00:00        78.0   \n247    1008965      12341297  2011-08-12 00:00:00        79.0   \n324    1008965      14010565  2012-10-05 00:00:00        80.0   \n266    1008965      24106659  2013-10-11 00:00:00        81.0   \n276    1008965      24616787  2014-03-04 00:00:00        81.0   \n231    1008965      24983415  2014-05-30 00:00:00        81.0   \n245    1008965      24810675  2014-05-30 00:00:00        81.0   \n220    1008965      25093597  2014-07-11 00:00:00        81.0   \n454    1008965      22262538  2014-09-12 00:00:00        82.0   \n293    1008965      33004328  2015-07-31 00:00:00        83.0   \n386    1008965      56735932  2017-04-07 00:00:00        84.0   \n417    1008965      93512951  2019-04-21 13:12:00        86.0   \n251    1008965     239077933  2019-12-02 00:00:00        87.0   \n296    1008965     236274727  2020-01-03 00:00:00        87.0   \n436    1009219     251627797  2016-05-19 00:00:00        40.0   \n503    1009219     252134564  2016-05-19 00:00:00        40.0   \n252    1009219     253832370  2016-05-31 00:00:00        40.0   \n\n                   VisitType  VisitType2    Value  \\\n190             Office Visit  Outpatient    F32.A   \n0         Hospital Encounter   Inpatient      F39   \n10   Psych Conf Office Visit   Recurring   F19.10   \n140  Psych Conf Office Visit   Recurring   F06.30   \n71              Office Visit  Outpatient    F33.9   \n70              Office Visit  Outpatient    F25.9   \n11              Office Visit  Outpatient    F20.0   \n21              Office Visit  Outpatient    F20.9   \n62              Office Visit  Outpatient  F17.210   \n144             Office Visit  Outpatient   F31.32   \n88              Office Visit  Outpatient    F33.9   \n89              Office Visit  Outpatient    F20.9   \n156             Office Visit  Outpatient    F31.9   \n191             Office Visit  Outpatient    F25.8   \n33              Office Visit  Outpatient    F25.9   \n14              Office Visit  Outpatient   F31.31   \n69              Office Visit  Outpatient      F29   \n202             Office Visit  Outpatient   F31.10   \n203             Office Visit  Outpatient    F31.9   \n121             Office Visit  Outpatient    F25.9   \n49              Office Visit  Outpatient    F60.3   \n44        Hospital Encounter   Emergency   F43.21   \n127       Hospital Encounter   Emergency      F29   \n57        Hospital Encounter   Inpatient    F53.1   \n122             Office Visit  Outpatient    F41.1   \n174       Hospital Encounter   Emergency   F31.12   \n128             Office Visit  Outpatient    F32.A   \n173             Office Visit  Outpatient    F20.9   \n99        Hospital Encounter   Emergency      F29   \n186       Hospital Encounter   Inpatient    F25.9   \n179  Psych Conf Office Visit   Recurring   F02.80   \n183  Psych Conf Office Visit   Recurring   F03.92   \n225        Psych Conf Refill         NaN  F02.818   \n187  Psych Conf Office Visit   Recurring   F03.93   \n247  Psych Conf Office Visit   Recurring   F02.82   \n324  Psych Conf Office Visit   Recurring      F29   \n266  Psych Conf Office Visit   Recurring   F43.23   \n276  Psych Conf Office Visit   Recurring  F03.918   \n231  Psych Conf Office Visit   Recurring      F23   \n245  Psych Conf Office Visit   Recurring    F32.A   \n220  Psych Conf Office Visit   Recurring   F32.89   \n454  Psych Conf Office Visit   Recurring   F03.91   \n293  Psych Conf Office Visit   Recurring    F32.4   \n386                   Refill         NaN      F99   \n417       Hospital Encounter   Emergency   F03.90   \n251             Office Visit  Outpatient    F33.9   \n296             Office Visit  Outpatient   F02.81   \n436       Hospital Encounter   Emergency    F33.9   \n503       Hospital Encounter   Inpatient    F32.9   \n252             Office Visit  Outpatient   F31.81   \n\n                                         DisplayString    PayorFinancialClass  \\\n190                            Depression, unspecified               Self-Pay   \n0                Unspecified mood (affective) disorder               Self-Pay   \n10   Other psychoactive substance abuse, uncomplicated               Self-Pay   \n140  Mood disorder due to known physiological condi...               Self-Pay   \n71   Major depressive disorder, recurrent, unspecified                    NaN   \n70               Schizoaffective disorder, unspecified                    NaN   \n11                              Paranoid schizophrenia                    NaN   \n21                          Schizophrenia, unspecified                    NaN   \n62      Nicotine dependence, cigarettes, uncomplicated                    NaN   \n144  Bipolar disorder, current episode depressed, m...                    NaN   \n88   Major depressive disorder, recurrent, unspecified                    NaN   \n89                          Schizophrenia, unspecified                    NaN   \n156                      Bipolar disorder, unspecified                    NaN   \n191                    Other schizoaffective disorders                    NaN   \n33               Schizoaffective disorder, unspecified                    NaN   \n14   Bipolar disorder, current episode depressed, mild                    NaN   \n69   Unspecified psychosis not due to a substance o...                    NaN   \n202  Bipolar disorder, current episode manic withou...                    NaN   \n203                      Bipolar disorder, unspecified                    NaN   \n121              Schizoaffective disorder, unspecified                    NaN   \n49                     Borderline personality disorder                    NaN   \n44             Adjustment disorder with depressed mood               Self-Pay   \n127  Unspecified psychosis not due to a substance o...  Medicaid Managed Care   \n57                                 Puerperal psychosis  Medicaid Managed Care   \n122                       Generalized anxiety disorder                    NaN   \n174  Bipolar disorder, current episode manic withou...                    NaN   \n128                            Depression, unspecified  Medicaid Managed Care   \n173                         Schizophrenia, unspecified                    NaN   \n99   Unspecified psychosis not due to a substance o...                    NaN   \n186              Schizoaffective disorder, unspecified  Medicaid Managed Care   \n179  Dementia in other diseases classified elsewher...               Self-Pay   \n183  Unspecified dementia, unspecified severity, wi...               Self-Pay   \n225  Dementia in other diseases classified elsewher...               Self-Pay   \n187  Unspecified dementia, unspecified severity, wi...               Self-Pay   \n247  Dementia in other diseases classified elsewher...               Self-Pay   \n324  Unspecified psychosis not due to a substance o...               Self-Pay   \n266  Adjustment disorder with mixed anxiety and dep...               Self-Pay   \n276  Unspecified dementia, unspecified severity, wi...               Self-Pay   \n231                           Brief psychotic disorder               Self-Pay   \n245                            Depression, unspecified               Self-Pay   \n220                Other specified depressive episodes               Self-Pay   \n454  Unspecified dementia, unspecified severity, wi...               Self-Pay   \n293  Major depressive disorder, single episode, in ...               Self-Pay   \n386           Mental disorder, not otherwise specified               Self-Pay   \n417  Unspecified dementia, unspecified severity, wi...            Medicare MS   \n251  Major depressive disorder, recurrent, unspecified                    NaN   \n296  Dementia in other diseases classified elsewher...                    NaN   \n436  Major depressive disorder, recurrent, unspecified                    NaN   \n503  Major depressive disorder, single episode, uns...                    NaN   \n252                                Bipolar II disorder                    NaN   \n\n    ProviderSex        ProviderType                 ProviderSpecialty  \\\n190        Male           Physician                 INTERNAL MEDICINE   \n0          Male           Physician                        PSYCHIATRY   \n10       Female  Nurse Practitioner                        PSYCHIATRY   \n140      Female  Nurse Practitioner                        PSYCHIATRY   \n71          NaN        Organization                               NaN   \n70          NaN        Organization                               NaN   \n11          NaN        Organization                               NaN   \n21          NaN                 NaN                               NaN   \n62         Male           Physician                   CHEST RADIOLOGY   \n144         NaN        Organization                               NaN   \n88          NaN        Organization                               NaN   \n89          NaN        Organization                               NaN   \n156         NaN        Organization                               NaN   \n191         NaN        Organization                               NaN   \n33          NaN        Organization                               NaN   \n14          NaN        Organization                               NaN   \n69          NaN        Organization                               NaN   \n202         NaN        Organization                               NaN   \n203         NaN                 NaN                        PSYCHIATRY   \n121         NaN                 NaN                               NaN   \n49          NaN           Physician                        PSYCHIATRY   \n44          NaN                 NaN                               NaN   \n127         NaN                 NaN                               NaN   \n57         Male           Physician   PSYCHIATRY, FORENSIC PSYCHIATRY   \n122         NaN               Group                               NaN   \n174        Male           Physician                        PSYCHIATRY   \n128      Female           Physician                       HOSPITALIST   \n173         NaN        Organization                               NaN   \n99          NaN                 NaN                               NaN   \n186        Male           Physician                        PSYCHIATRY   \n179      Female           Physician  PSYCHIATRY, GERIATRIC PSYCHIATRY   \n183      Female       Social Worker                        PSYCHIATRY   \n225        Male           Physician                        PSYCHIATRY   \n187      Female       Social Worker  PSYCHIATRY, GERIATRIC PSYCHIATRY   \n247         NaN              Fellow                        PSYCHIATRY   \n324        Male           Physician                        PSYCHIATRY   \n266        Male           Physician                        PSYCHIATRY   \n276         NaN              Fellow                               NaN   \n231      Female       Social Worker  PSYCHIATRY, GERIATRIC PSYCHIATRY   \n245      Female           Physician                        PSYCHIATRY   \n220        Male           Physician                        PSYCHIATRY   \n454      Female       Social Worker  PSYCHIATRY, GERIATRIC PSYCHIATRY   \n293      Female       Social Worker  PSYCHIATRY, GERIATRIC PSYCHIATRY   \n386      Female           Physician                        GERIATRICS   \n417        Male           Physician                Emergency Medicine   \n251      Female                 NaN                               NaN   \n296      Female           Physician                        GERIATRICS   \n436         NaN           Physician                        PSYCHIATRY   \n503         NaN        Organization                               NaN   \n252         NaN        Organization                               NaN   \n\n                                dep_name DepartmentSpecialty  \\\n190                         X_IMA FIRM B   Internal Medicine   \n0                                    C7N          Psychiatry   \n10    X_HOSP PSYCH ADULT KCC_DEACTIVATED        Psych Shared   \n140   X_HOSP PSYCH ADULT KCC_DEACTIVATED        Psych Shared   \n71                                   NaN                 NaN   \n70                                   NaN                 NaN   \n11                                   NaN                 NaN   \n21                                   NaN                 NaN   \n62                                   NaN                 NaN   \n144                                  NaN                 NaN   \n88                                   NaN                 NaN   \n89                                   NaN                 NaN   \n156                                  NaN                 NaN   \n191                                  NaN                 NaN   \n33                                   NaN                 NaN   \n14                                   NaN                 NaN   \n69                                   NaN                 NaN   \n202                                  NaN                 NaN   \n203                                  NaN                 NaN   \n121                                  NaN                 NaN   \n49                                   NaN                 NaN   \n44                  EMERGENCY DEPARTMENT  Emergency Medicine   \n127                                  NaN                 NaN   \n57                                  MA05          Psychiatry   \n122                                  NaN                 NaN   \n174                                  NaN                 NaN   \n128                                  NaN                 NaN   \n173                                  NaN                 NaN   \n99                                   NaN                 NaN   \n186                              CLARK 8                 NaN   \n179  X_HOSP PSYCH GERIATRICS_DEACTIVATED        Psych Shared   \n183  X_HOSP PSYCH GERIATRICS_DEACTIVATED        Psych Shared   \n225  X_HOSP PSYCH GERIATRICS_DEACTIVATED        Psych Shared   \n187  X_HOSP PSYCH GERIATRICS_DEACTIVATED        Psych Shared   \n247  X_HOSP PSYCH GERIATRICS_DEACTIVATED        Psych Shared   \n324  X_HOSP PSYCH GERIATRICS_DEACTIVATED        Psych Shared   \n266  X_HOSP PSYCH GERIATRICS_DEACTIVATED        Psych Shared   \n276  X_HOSP PSYCH GERIATRICS_DEACTIVATED        Psych Shared   \n231  X_HOSP PSYCH GERIATRICS_DEACTIVATED        Psych Shared   \n245  X_HOSP PSYCH GERIATRICS_DEACTIVATED        Psych Shared   \n220  X_HOSP PSYCH GERIATRICS_DEACTIVATED        Psych Shared   \n454  X_HOSP PSYCH GERIATRICS_DEACTIVATED        Psych Shared   \n293  X_HOSP PSYCH GERIATRICS_DEACTIVATED        Psych Shared   \n386              1440 MADISON GERIATRICS         Gerontology   \n417                 EMERGENCY DEPARTMENT  Emergency Medicine   \n251                                  NaN                 NaN   \n296                                  NaN                 NaN   \n436                                  NaN                 NaN   \n503                                  NaN                 NaN   \n252                                  NaN                 NaN   \n\n                                             CCSR_code  \n190                               Depressive disorders  \n0       Other specified and unspecified mood disorders  \n10         Other specified substance-related disorders  \n140     Other specified and unspecified mood disorders  \n71                                Depressive disorders  \n70   Schizophrenia spectrum and other psychotic dis...  \n11   Schizophrenia spectrum and other psychotic dis...  \n21   Schizophrenia spectrum and other psychotic dis...  \n62                           Tobacco-related disorders  \n144                      Bipolar and related disorders  \n88                                Depressive disorders  \n89   Schizophrenia spectrum and other psychotic dis...  \n156                      Bipolar and related disorders  \n191  Schizophrenia spectrum and other psychotic dis...  \n33   Schizophrenia spectrum and other psychotic dis...  \n14                       Bipolar and related disorders  \n69   Schizophrenia spectrum and other psychotic dis...  \n202                      Bipolar and related disorders  \n203                      Bipolar and related disorders  \n121  Schizophrenia spectrum and other psychotic dis...  \n49                               Personality disorders  \n44              Trauma- and stressor-related disorders  \n127  Schizophrenia spectrum and other psychotic dis...  \n57   Miscellaneous mental and behavioral disorders/...  \n122                 Anxiety and fear-related disorders  \n174                      Bipolar and related disorders  \n128                               Depressive disorders  \n173  Schizophrenia spectrum and other psychotic dis...  \n99   Schizophrenia spectrum and other psychotic dis...  \n186  Schizophrenia spectrum and other psychotic dis...  \n179                           Neurocognitive disorders  \n183                           Neurocognitive disorders  \n225                           Neurocognitive disorders  \n187                           Neurocognitive disorders  \n247                           Neurocognitive disorders  \n324  Schizophrenia spectrum and other psychotic dis...  \n266             Trauma- and stressor-related disorders  \n276                           Neurocognitive disorders  \n231  Schizophrenia spectrum and other psychotic dis...  \n245                               Depressive disorders  \n220                               Depressive disorders  \n454                           Neurocognitive disorders  \n293                               Depressive disorders  \n386  Miscellaneous mental and behavioral disorders/...  \n417                           Neurocognitive disorders  \n251                               Depressive disorders  \n296                           Neurocognitive disorders  \n436                               Depressive disorders  \n503                               Depressive disorders  \n252                      Bipolar and related disorders  ",
      "text/html": "<div>\n<style scoped>\n    .dataframe tbody tr th:only-of-type {\n        vertical-align: middle;\n    }\n\n    .dataframe tbody tr th {\n        vertical-align: top;\n    }\n\n    .dataframe thead th {\n        text-align: right;\n    }\n</style>\n<table border=\"1\" class=\"dataframe\">\n  <thead>\n    <tr style=\"text-align: right;\">\n      <th></th>\n      <th>PrimaryMrn</th>\n      <th>EncounterKey</th>\n      <th>VisitDate</th>\n      <th>AgeAtVisit</th>\n      <th>VisitType</th>\n      <th>VisitType2</th>\n      <th>Value</th>\n      <th>DisplayString</th>\n      <th>PayorFinancialClass</th>\n      <th>ProviderSex</th>\n      <th>ProviderType</th>\n      <th>ProviderSpecialty</th>\n      <th>dep_name</th>\n      <th>DepartmentSpecialty</th>\n      <th>CCSR_code</th>\n    </tr>\n  </thead>\n  <tbody>\n    <tr>\n      <th>190</th>\n      <td>1003157</td>\n      <td>10026992</td>\n      <td>2009-02-02 00:00:00</td>\n      <td>49.0</td>\n      <td>Office Visit</td>\n      <td>Outpatient</td>\n      <td>F32.A</td>\n      <td>Depression, unspecified</td>\n      <td>Self-Pay</td>\n      <td>Male</td>\n      <td>Physician</td>\n      <td>INTERNAL MEDICINE</td>\n      <td>X_IMA FIRM B</td>\n      <td>Internal Medicine</td>\n      <td>Depressive disorders</td>\n    </tr>\n    <tr>\n      <th>0</th>\n      <td>1003157</td>\n      <td>10194062</td>\n      <td>2011-07-20 18:54:00</td>\n      <td>52.0</td>\n      <td>Hospital Encounter</td>\n      <td>Inpatient</td>\n      <td>F39</td>\n      <td>Unspecified mood (affective) disorder</td>\n      <td>Self-Pay</td>\n      <td>Male</td>\n      <td>Physician</td>\n      <td>PSYCHIATRY</td>\n      <td>C7N</td>\n      <td>Psychiatry</td>\n      <td>Other specified and unspecified mood disorders</td>\n    </tr>\n    <tr>\n      <th>10</th>\n      <td>1003157</td>\n      <td>12589140</td>\n      <td>2011-11-30 00:00:00</td>\n      <td>52.0</td>\n      <td>Psych Conf Office Visit</td>\n      <td>Recurring</td>\n      <td>F19.10</td>\n      <td>Other psychoactive substance abuse, uncomplicated</td>\n      <td>Self-Pay</td>\n      <td>Female</td>\n      <td>Nurse Practitioner</td>\n      <td>PSYCHIATRY</td>\n      <td>X_HOSP PSYCH ADULT KCC_DEACTIVATED</td>\n      <td>Psych Shared</td>\n      <td>Other specified substance-related disorders</td>\n    </tr>\n    <tr>\n      <th>140</th>\n      <td>1003157</td>\n      <td>12092269</td>\n      <td>2011-12-08 00:00:00</td>\n      <td>52.0</td>\n      <td>Psych Conf Office Visit</td>\n      <td>Recurring</td>\n      <td>F06.30</td>\n      <td>Mood disorder due to known physiological condi...</td>\n      <td>Self-Pay</td>\n      <td>Female</td>\n      <td>Nurse Practitioner</td>\n      <td>PSYCHIATRY</td>\n      <td>X_HOSP PSYCH ADULT KCC_DEACTIVATED</td>\n      <td>Psych Shared</td>\n      <td>Other specified and unspecified mood disorders</td>\n    </tr>\n    <tr>\n      <th>71</th>\n      <td>1003157</td>\n      <td>253796807</td>\n      <td>2012-01-25 00:00:00</td>\n      <td>52.0</td>\n      <td>Office Visit</td>\n      <td>Outpatient</td>\n      <td>F33.9</td>\n      <td>Major depressive disorder, recurrent, unspecified</td>\n      <td>NaN</td>\n      <td>NaN</td>\n      <td>Organization</td>\n      <td>NaN</td>\n      <td>NaN</td>\n      <td>NaN</td>\n      <td>Depressive disorders</td>\n    </tr>\n    <tr>\n      <th>70</th>\n      <td>1003157</td>\n      <td>251130954</td>\n      <td>2012-02-22 00:00:00</td>\n      <td>52.0</td>\n      <td>Office Visit</td>\n      <td>Outpatient</td>\n      <td>F25.9</td>\n      <td>Schizoaffective disorder, unspecified</td>\n      <td>NaN</td>\n      <td>NaN</td>\n      <td>Organization</td>\n      <td>NaN</td>\n      <td>NaN</td>\n      <td>NaN</td>\n      <td>Schizophrenia spectrum and other psychotic dis...</td>\n    </tr>\n    <tr>\n      <th>11</th>\n      <td>1003157</td>\n      <td>254179037</td>\n      <td>2012-03-28 00:00:00</td>\n      <td>53.0</td>\n      <td>Office Visit</td>\n      <td>Outpatient</td>\n      <td>F20.0</td>\n      <td>Paranoid schizophrenia</td>\n      <td>NaN</td>\n      <td>NaN</td>\n      <td>Organization</td>\n      <td>NaN</td>\n      <td>NaN</td>\n      <td>NaN</td>\n      <td>Schizophrenia spectrum and other psychotic dis...</td>\n    </tr>\n    <tr>\n      <th>21</th>\n      <td>1003157</td>\n      <td>282332821</td>\n      <td>2014-02-17 00:00:00</td>\n      <td>54.0</td>\n      <td>Office Visit</td>\n      <td>Outpatient</td>\n      <td>F20.9</td>\n      <td>Schizophrenia, unspecified</td>\n      <td>NaN</td>\n      <td>NaN</td>\n      <td>NaN</td>\n      <td>NaN</td>\n      <td>NaN</td>\n      <td>NaN</td>\n      <td>Schizophrenia spectrum and other psychotic dis...</td>\n    </tr>\n    <tr>\n      <th>62</th>\n      <td>1003157</td>\n      <td>109266117</td>\n      <td>2018-02-13 00:00:00</td>\n      <td>58.0</td>\n      <td>Office Visit</td>\n      <td>Outpatient</td>\n      <td>F17.210</td>\n      <td>Nicotine dependence, cigarettes, uncomplicated</td>\n      <td>NaN</td>\n      <td>Male</td>\n      <td>Physician</td>\n      <td>CHEST RADIOLOGY</td>\n      <td>NaN</td>\n      <td>NaN</td>\n      <td>Tobacco-related disorders</td>\n    </tr>\n    <tr>\n      <th>144</th>\n      <td>1003377</td>\n      <td>136471680</td>\n      <td>2019-07-26 00:00:00</td>\n      <td>54.0</td>\n      <td>Office Visit</td>\n      <td>Outpatient</td>\n      <td>F31.32</td>\n      <td>Bipolar disorder, current episode depressed, m...</td>\n      <td>NaN</td>\n      <td>NaN</td>\n      <td>Organization</td>\n      <td>NaN</td>\n      <td>NaN</td>\n      <td>NaN</td>\n      <td>Bipolar and related disorders</td>\n    </tr>\n    <tr>\n      <th>88</th>\n      <td>1003377</td>\n      <td>169200840</td>\n      <td>2019-10-18 00:00:00</td>\n      <td>54.0</td>\n      <td>Office Visit</td>\n      <td>Outpatient</td>\n      <td>F33.9</td>\n      <td>Major depressive disorder, recurrent, unspecified</td>\n      <td>NaN</td>\n      <td>NaN</td>\n      <td>Organization</td>\n      <td>NaN</td>\n      <td>NaN</td>\n      <td>NaN</td>\n      <td>Depressive disorders</td>\n    </tr>\n    <tr>\n      <th>89</th>\n      <td>1003377</td>\n      <td>169200845</td>\n      <td>2019-11-15 00:00:00</td>\n      <td>55.0</td>\n      <td>Office Visit</td>\n      <td>Outpatient</td>\n      <td>F20.9</td>\n      <td>Schizophrenia, unspecified</td>\n      <td>NaN</td>\n      <td>NaN</td>\n      <td>Organization</td>\n      <td>NaN</td>\n      <td>NaN</td>\n      <td>NaN</td>\n      <td>Schizophrenia spectrum and other psychotic dis...</td>\n    </tr>\n    <tr>\n      <th>156</th>\n      <td>1003377</td>\n      <td>169200847</td>\n      <td>2019-12-13 00:00:00</td>\n      <td>55.0</td>\n      <td>Office Visit</td>\n      <td>Outpatient</td>\n      <td>F31.9</td>\n      <td>Bipolar disorder, unspecified</td>\n      <td>NaN</td>\n      <td>NaN</td>\n      <td>Organization</td>\n      <td>NaN</td>\n      <td>NaN</td>\n      <td>NaN</td>\n      <td>Bipolar and related disorders</td>\n    </tr>\n    <tr>\n      <th>191</th>\n      <td>1003377</td>\n      <td>252391984</td>\n      <td>2020-04-07 00:00:00</td>\n      <td>55.0</td>\n      <td>Office Visit</td>\n      <td>Outpatient</td>\n      <td>F25.8</td>\n      <td>Other schizoaffective disorders</td>\n      <td>NaN</td>\n      <td>NaN</td>\n      <td>Organization</td>\n      <td>NaN</td>\n      <td>NaN</td>\n      <td>NaN</td>\n      <td>Schizophrenia spectrum and other psychotic dis...</td>\n    </tr>\n    <tr>\n      <th>33</th>\n      <td>1003377</td>\n      <td>254282884</td>\n      <td>2020-04-21 00:00:00</td>\n      <td>55.0</td>\n      <td>Office Visit</td>\n      <td>Outpatient</td>\n      <td>F25.9</td>\n      <td>Schizoaffective disorder, unspecified</td>\n      <td>NaN</td>\n      <td>NaN</td>\n      <td>Organization</td>\n      <td>NaN</td>\n      <td>NaN</td>\n      <td>NaN</td>\n      <td>Schizophrenia spectrum and other psychotic dis...</td>\n    </tr>\n    <tr>\n      <th>14</th>\n      <td>1003377</td>\n      <td>252831207</td>\n      <td>2020-05-30 00:00:00</td>\n      <td>55.0</td>\n      <td>Office Visit</td>\n      <td>Outpatient</td>\n      <td>F31.31</td>\n      <td>Bipolar disorder, current episode depressed, mild</td>\n      <td>NaN</td>\n      <td>NaN</td>\n      <td>Organization</td>\n      <td>NaN</td>\n      <td>NaN</td>\n      <td>NaN</td>\n      <td>Bipolar and related disorders</td>\n    </tr>\n    <tr>\n      <th>69</th>\n      <td>1003711</td>\n      <td>256957683</td>\n      <td>2014-11-14 00:00:00</td>\n      <td>41.0</td>\n      <td>Office Visit</td>\n      <td>Outpatient</td>\n      <td>F29</td>\n      <td>Unspecified psychosis not due to a substance o...</td>\n      <td>NaN</td>\n      <td>NaN</td>\n      <td>Organization</td>\n      <td>NaN</td>\n      <td>NaN</td>\n      <td>NaN</td>\n      <td>Schizophrenia spectrum and other psychotic dis...</td>\n    </tr>\n    <tr>\n      <th>202</th>\n      <td>1003711</td>\n      <td>256197630</td>\n      <td>2014-11-28 00:00:00</td>\n      <td>41.0</td>\n      <td>Office Visit</td>\n      <td>Outpatient</td>\n      <td>F31.10</td>\n      <td>Bipolar disorder, current episode manic withou...</td>\n      <td>NaN</td>\n      <td>NaN</td>\n      <td>Organization</td>\n      <td>NaN</td>\n      <td>NaN</td>\n      <td>NaN</td>\n      <td>Bipolar and related disorders</td>\n    </tr>\n    <tr>\n      <th>203</th>\n      <td>1003711</td>\n      <td>257847904</td>\n      <td>2014-12-05 00:00:00</td>\n      <td>41.0</td>\n      <td>Office Visit</td>\n      <td>Outpatient</td>\n      <td>F31.9</td>\n      <td>Bipolar disorder, unspecified</td>\n      <td>NaN</td>\n      <td>NaN</td>\n      <td>NaN</td>\n      <td>PSYCHIATRY</td>\n      <td>NaN</td>\n      <td>NaN</td>\n      <td>Bipolar and related disorders</td>\n    </tr>\n    <tr>\n      <th>121</th>\n      <td>1003711</td>\n      <td>257427623</td>\n      <td>2014-12-24 00:00:00</td>\n      <td>41.0</td>\n      <td>Office Visit</td>\n      <td>Outpatient</td>\n      <td>F25.9</td>\n      <td>Schizoaffective disorder, unspecified</td>\n      <td>NaN</td>\n      <td>NaN</td>\n      <td>NaN</td>\n      <td>NaN</td>\n      <td>NaN</td>\n      <td>NaN</td>\n      <td>Schizophrenia spectrum and other psychotic dis...</td>\n    </tr>\n    <tr>\n      <th>49</th>\n      <td>1003711</td>\n      <td>256802830</td>\n      <td>2015-02-23 00:00:00</td>\n      <td>41.0</td>\n      <td>Office Visit</td>\n      <td>Outpatient</td>\n      <td>F60.3</td>\n      <td>Borderline personality disorder</td>\n      <td>NaN</td>\n      <td>NaN</td>\n      <td>Physician</td>\n      <td>PSYCHIATRY</td>\n      <td>NaN</td>\n      <td>NaN</td>\n      <td>Personality disorders</td>\n    </tr>\n    <tr>\n      <th>44</th>\n      <td>1007012</td>\n      <td>12086646</td>\n      <td>2012-01-29 16:51:00</td>\n      <td>37.0</td>\n      <td>Hospital Encounter</td>\n      <td>Emergency</td>\n      <td>F43.21</td>\n      <td>Adjustment disorder with depressed mood</td>\n      <td>Self-Pay</td>\n      <td>NaN</td>\n      <td>NaN</td>\n      <td>NaN</td>\n      <td>EMERGENCY DEPARTMENT</td>\n      <td>Emergency Medicine</td>\n      <td>Trauma- and stressor-related disorders</td>\n    </tr>\n    <tr>\n      <th>127</th>\n      <td>1007012</td>\n      <td>318511167</td>\n      <td>2018-06-20 00:00:00</td>\n      <td>43.0</td>\n      <td>Hospital Encounter</td>\n      <td>Emergency</td>\n      <td>F29</td>\n      <td>Unspecified psychosis not due to a substance o...</td>\n      <td>Medicaid Managed Care</td>\n      <td>NaN</td>\n      <td>NaN</td>\n      <td>NaN</td>\n      <td>NaN</td>\n      <td>NaN</td>\n      <td>Schizophrenia spectrum and other psychotic dis...</td>\n    </tr>\n    <tr>\n      <th>57</th>\n      <td>1007012</td>\n      <td>182241121</td>\n      <td>2020-06-08 21:16:00</td>\n      <td>45.0</td>\n      <td>Hospital Encounter</td>\n      <td>Inpatient</td>\n      <td>F53.1</td>\n      <td>Puerperal psychosis</td>\n      <td>Medicaid Managed Care</td>\n      <td>Male</td>\n      <td>Physician</td>\n      <td>PSYCHIATRY, FORENSIC PSYCHIATRY</td>\n      <td>MA05</td>\n      <td>Psychiatry</td>\n      <td>Miscellaneous mental and behavioral disorders/...</td>\n    </tr>\n    <tr>\n      <th>122</th>\n      <td>1007012</td>\n      <td>287473487</td>\n      <td>2021-09-07 00:00:00</td>\n      <td>46.0</td>\n      <td>Office Visit</td>\n      <td>Outpatient</td>\n      <td>F41.1</td>\n      <td>Generalized anxiety disorder</td>\n      <td>NaN</td>\n      <td>NaN</td>\n      <td>Group</td>\n      <td>NaN</td>\n      <td>NaN</td>\n      <td>NaN</td>\n      <td>Anxiety and fear-related disorders</td>\n    </tr>\n    <tr>\n      <th>174</th>\n      <td>1007012</td>\n      <td>303896113</td>\n      <td>2022-05-19 00:00:00</td>\n      <td>47.0</td>\n      <td>Hospital Encounter</td>\n      <td>Emergency</td>\n      <td>F31.12</td>\n      <td>Bipolar disorder, current episode manic withou...</td>\n      <td>NaN</td>\n      <td>Male</td>\n      <td>Physician</td>\n      <td>PSYCHIATRY</td>\n      <td>NaN</td>\n      <td>NaN</td>\n      <td>Bipolar and related disorders</td>\n    </tr>\n    <tr>\n      <th>128</th>\n      <td>1007012</td>\n      <td>326051473</td>\n      <td>2022-10-05 00:00:00</td>\n      <td>48.0</td>\n      <td>Office Visit</td>\n      <td>Outpatient</td>\n      <td>F32.A</td>\n      <td>Depression, unspecified</td>\n      <td>Medicaid Managed Care</td>\n      <td>Female</td>\n      <td>Physician</td>\n      <td>HOSPITALIST</td>\n      <td>NaN</td>\n      <td>NaN</td>\n      <td>Depressive disorders</td>\n    </tr>\n    <tr>\n      <th>173</th>\n      <td>1007542</td>\n      <td>263308933</td>\n      <td>2021-02-14 00:00:00</td>\n      <td>33.0</td>\n      <td>Office Visit</td>\n      <td>Outpatient</td>\n      <td>F20.9</td>\n      <td>Schizophrenia, unspecified</td>\n      <td>NaN</td>\n      <td>NaN</td>\n      <td>Organization</td>\n      <td>NaN</td>\n      <td>NaN</td>\n      <td>NaN</td>\n      <td>Schizophrenia spectrum and other psychotic dis...</td>\n    </tr>\n    <tr>\n      <th>99</th>\n      <td>1007542</td>\n      <td>303946669</td>\n      <td>2022-04-10 00:00:00</td>\n      <td>35.0</td>\n      <td>Hospital Encounter</td>\n      <td>Emergency</td>\n      <td>F29</td>\n      <td>Unspecified psychosis not due to a substance o...</td>\n      <td>NaN</td>\n      <td>NaN</td>\n      <td>NaN</td>\n      <td>NaN</td>\n      <td>NaN</td>\n      <td>NaN</td>\n      <td>Schizophrenia spectrum and other psychotic dis...</td>\n    </tr>\n    <tr>\n      <th>186</th>\n      <td>1008703</td>\n      <td>323869811</td>\n      <td>2022-11-22 02:45:00</td>\n      <td>33.0</td>\n      <td>Hospital Encounter</td>\n      <td>Inpatient</td>\n      <td>F25.9</td>\n      <td>Schizoaffective disorder, unspecified</td>\n      <td>Medicaid Managed Care</td>\n      <td>Male</td>\n      <td>Physician</td>\n      <td>PSYCHIATRY</td>\n      <td>CLARK 8</td>\n      <td>NaN</td>\n      <td>Schizophrenia spectrum and other psychotic dis...</td>\n    </tr>\n    <tr>\n      <th>179</th>\n      <td>1008965</td>\n      <td>9602665</td>\n      <td>2010-02-04 00:00:00</td>\n      <td>77.0</td>\n      <td>Psych Conf Office Visit</td>\n      <td>Recurring</td>\n      <td>F02.80</td>\n      <td>Dementia in other diseases classified elsewher...</td>\n      <td>Self-Pay</td>\n      <td>Female</td>\n      <td>Physician</td>\n      <td>PSYCHIATRY, GERIATRIC PSYCHIATRY</td>\n      <td>X_HOSP PSYCH GERIATRICS_DEACTIVATED</td>\n      <td>Psych Shared</td>\n      <td>Neurocognitive disorders</td>\n    </tr>\n    <tr>\n      <th>183</th>\n      <td>1008965</td>\n      <td>8692415</td>\n      <td>2010-02-04 00:00:00</td>\n      <td>77.0</td>\n      <td>Psych Conf Office Visit</td>\n      <td>Recurring</td>\n      <td>F03.92</td>\n      <td>Unspecified dementia, unspecified severity, wi...</td>\n      <td>Self-Pay</td>\n      <td>Female</td>\n      <td>Social Worker</td>\n      <td>PSYCHIATRY</td>\n      <td>X_HOSP PSYCH GERIATRICS_DEACTIVATED</td>\n      <td>Psych Shared</td>\n      <td>Neurocognitive disorders</td>\n    </tr>\n    <tr>\n      <th>225</th>\n      <td>1008965</td>\n      <td>6967172</td>\n      <td>2010-03-09 00:00:00</td>\n      <td>77.0</td>\n      <td>Psych Conf Refill</td>\n      <td>NaN</td>\n      <td>F02.818</td>\n      <td>Dementia in other diseases classified elsewher...</td>\n      <td>Self-Pay</td>\n      <td>Male</td>\n      <td>Physician</td>\n      <td>PSYCHIATRY</td>\n      <td>X_HOSP PSYCH GERIATRICS_DEACTIVATED</td>\n      <td>Psych Shared</td>\n      <td>Neurocognitive disorders</td>\n    </tr>\n    <tr>\n      <th>187</th>\n      <td>1008965</td>\n      <td>12490694</td>\n      <td>2011-02-11 00:00:00</td>\n      <td>78.0</td>\n      <td>Psych Conf Office Visit</td>\n      <td>Recurring</td>\n      <td>F03.93</td>\n      <td>Unspecified dementia, unspecified severity, wi...</td>\n      <td>Self-Pay</td>\n      <td>Female</td>\n      <td>Social Worker</td>\n      <td>PSYCHIATRY, GERIATRIC PSYCHIATRY</td>\n      <td>X_HOSP PSYCH GERIATRICS_DEACTIVATED</td>\n      <td>Psych Shared</td>\n      <td>Neurocognitive disorders</td>\n    </tr>\n    <tr>\n      <th>247</th>\n      <td>1008965</td>\n      <td>12341297</td>\n      <td>2011-08-12 00:00:00</td>\n      <td>79.0</td>\n      <td>Psych Conf Office Visit</td>\n      <td>Recurring</td>\n      <td>F02.82</td>\n      <td>Dementia in other diseases classified elsewher...</td>\n      <td>Self-Pay</td>\n      <td>NaN</td>\n      <td>Fellow</td>\n      <td>PSYCHIATRY</td>\n      <td>X_HOSP PSYCH GERIATRICS_DEACTIVATED</td>\n      <td>Psych Shared</td>\n      <td>Neurocognitive disorders</td>\n    </tr>\n    <tr>\n      <th>324</th>\n      <td>1008965</td>\n      <td>14010565</td>\n      <td>2012-10-05 00:00:00</td>\n      <td>80.0</td>\n      <td>Psych Conf Office Visit</td>\n      <td>Recurring</td>\n      <td>F29</td>\n      <td>Unspecified psychosis not due to a substance o...</td>\n      <td>Self-Pay</td>\n      <td>Male</td>\n      <td>Physician</td>\n      <td>PSYCHIATRY</td>\n      <td>X_HOSP PSYCH GERIATRICS_DEACTIVATED</td>\n      <td>Psych Shared</td>\n      <td>Schizophrenia spectrum and other psychotic dis...</td>\n    </tr>\n    <tr>\n      <th>266</th>\n      <td>1008965</td>\n      <td>24106659</td>\n      <td>2013-10-11 00:00:00</td>\n      <td>81.0</td>\n      <td>Psych Conf Office Visit</td>\n      <td>Recurring</td>\n      <td>F43.23</td>\n      <td>Adjustment disorder with mixed anxiety and dep...</td>\n      <td>Self-Pay</td>\n      <td>Male</td>\n      <td>Physician</td>\n      <td>PSYCHIATRY</td>\n      <td>X_HOSP PSYCH GERIATRICS_DEACTIVATED</td>\n      <td>Psych Shared</td>\n      <td>Trauma- and stressor-related disorders</td>\n    </tr>\n    <tr>\n      <th>276</th>\n      <td>1008965</td>\n      <td>24616787</td>\n      <td>2014-03-04 00:00:00</td>\n      <td>81.0</td>\n      <td>Psych Conf Office Visit</td>\n      <td>Recurring</td>\n      <td>F03.918</td>\n      <td>Unspecified dementia, unspecified severity, wi...</td>\n      <td>Self-Pay</td>\n      <td>NaN</td>\n      <td>Fellow</td>\n      <td>NaN</td>\n      <td>X_HOSP PSYCH GERIATRICS_DEACTIVATED</td>\n      <td>Psych Shared</td>\n      <td>Neurocognitive disorders</td>\n    </tr>\n    <tr>\n      <th>231</th>\n      <td>1008965</td>\n      <td>24983415</td>\n      <td>2014-05-30 00:00:00</td>\n      <td>81.0</td>\n      <td>Psych Conf Office Visit</td>\n      <td>Recurring</td>\n      <td>F23</td>\n      <td>Brief psychotic disorder</td>\n      <td>Self-Pay</td>\n      <td>Female</td>\n      <td>Social Worker</td>\n      <td>PSYCHIATRY, GERIATRIC PSYCHIATRY</td>\n      <td>X_HOSP PSYCH GERIATRICS_DEACTIVATED</td>\n      <td>Psych Shared</td>\n      <td>Schizophrenia spectrum and other psychotic dis...</td>\n    </tr>\n    <tr>\n      <th>245</th>\n      <td>1008965</td>\n      <td>24810675</td>\n      <td>2014-05-30 00:00:00</td>\n      <td>81.0</td>\n      <td>Psych Conf Office Visit</td>\n      <td>Recurring</td>\n      <td>F32.A</td>\n      <td>Depression, unspecified</td>\n      <td>Self-Pay</td>\n      <td>Female</td>\n      <td>Physician</td>\n      <td>PSYCHIATRY</td>\n      <td>X_HOSP PSYCH GERIATRICS_DEACTIVATED</td>\n      <td>Psych Shared</td>\n      <td>Depressive disorders</td>\n    </tr>\n    <tr>\n      <th>220</th>\n      <td>1008965</td>\n      <td>25093597</td>\n      <td>2014-07-11 00:00:00</td>\n      <td>81.0</td>\n      <td>Psych Conf Office Visit</td>\n      <td>Recurring</td>\n      <td>F32.89</td>\n      <td>Other specified depressive episodes</td>\n      <td>Self-Pay</td>\n      <td>Male</td>\n      <td>Physician</td>\n      <td>PSYCHIATRY</td>\n      <td>X_HOSP PSYCH GERIATRICS_DEACTIVATED</td>\n      <td>Psych Shared</td>\n      <td>Depressive disorders</td>\n    </tr>\n    <tr>\n      <th>454</th>\n      <td>1008965</td>\n      <td>22262538</td>\n      <td>2014-09-12 00:00:00</td>\n      <td>82.0</td>\n      <td>Psych Conf Office Visit</td>\n      <td>Recurring</td>\n      <td>F03.91</td>\n      <td>Unspecified dementia, unspecified severity, wi...</td>\n      <td>Self-Pay</td>\n      <td>Female</td>\n      <td>Social Worker</td>\n      <td>PSYCHIATRY, GERIATRIC PSYCHIATRY</td>\n      <td>X_HOSP PSYCH GERIATRICS_DEACTIVATED</td>\n      <td>Psych Shared</td>\n      <td>Neurocognitive disorders</td>\n    </tr>\n    <tr>\n      <th>293</th>\n      <td>1008965</td>\n      <td>33004328</td>\n      <td>2015-07-31 00:00:00</td>\n      <td>83.0</td>\n      <td>Psych Conf Office Visit</td>\n      <td>Recurring</td>\n      <td>F32.4</td>\n      <td>Major depressive disorder, single episode, in ...</td>\n      <td>Self-Pay</td>\n      <td>Female</td>\n      <td>Social Worker</td>\n      <td>PSYCHIATRY, GERIATRIC PSYCHIATRY</td>\n      <td>X_HOSP PSYCH GERIATRICS_DEACTIVATED</td>\n      <td>Psych Shared</td>\n      <td>Depressive disorders</td>\n    </tr>\n    <tr>\n      <th>386</th>\n      <td>1008965</td>\n      <td>56735932</td>\n      <td>2017-04-07 00:00:00</td>\n      <td>84.0</td>\n      <td>Refill</td>\n      <td>NaN</td>\n      <td>F99</td>\n      <td>Mental disorder, not otherwise specified</td>\n      <td>Self-Pay</td>\n      <td>Female</td>\n      <td>Physician</td>\n      <td>GERIATRICS</td>\n      <td>1440 MADISON GERIATRICS</td>\n      <td>Gerontology</td>\n      <td>Miscellaneous mental and behavioral disorders/...</td>\n    </tr>\n    <tr>\n      <th>417</th>\n      <td>1008965</td>\n      <td>93512951</td>\n      <td>2019-04-21 13:12:00</td>\n      <td>86.0</td>\n      <td>Hospital Encounter</td>\n      <td>Emergency</td>\n      <td>F03.90</td>\n      <td>Unspecified dementia, unspecified severity, wi...</td>\n      <td>Medicare MS</td>\n      <td>Male</td>\n      <td>Physician</td>\n      <td>Emergency Medicine</td>\n      <td>EMERGENCY DEPARTMENT</td>\n      <td>Emergency Medicine</td>\n      <td>Neurocognitive disorders</td>\n    </tr>\n    <tr>\n      <th>251</th>\n      <td>1008965</td>\n      <td>239077933</td>\n      <td>2019-12-02 00:00:00</td>\n      <td>87.0</td>\n      <td>Office Visit</td>\n      <td>Outpatient</td>\n      <td>F33.9</td>\n      <td>Major depressive disorder, recurrent, unspecified</td>\n      <td>NaN</td>\n      <td>Female</td>\n      <td>NaN</td>\n      <td>NaN</td>\n      <td>NaN</td>\n      <td>NaN</td>\n      <td>Depressive disorders</td>\n    </tr>\n    <tr>\n      <th>296</th>\n      <td>1008965</td>\n      <td>236274727</td>\n      <td>2020-01-03 00:00:00</td>\n      <td>87.0</td>\n      <td>Office Visit</td>\n      <td>Outpatient</td>\n      <td>F02.81</td>\n      <td>Dementia in other diseases classified elsewher...</td>\n      <td>NaN</td>\n      <td>Female</td>\n      <td>Physician</td>\n      <td>GERIATRICS</td>\n      <td>NaN</td>\n      <td>NaN</td>\n      <td>Neurocognitive disorders</td>\n    </tr>\n    <tr>\n      <th>436</th>\n      <td>1009219</td>\n      <td>251627797</td>\n      <td>2016-05-19 00:00:00</td>\n      <td>40.0</td>\n      <td>Hospital Encounter</td>\n      <td>Emergency</td>\n      <td>F33.9</td>\n      <td>Major depressive disorder, recurrent, unspecified</td>\n      <td>NaN</td>\n      <td>NaN</td>\n      <td>Physician</td>\n      <td>PSYCHIATRY</td>\n      <td>NaN</td>\n      <td>NaN</td>\n      <td>Depressive disorders</td>\n    </tr>\n    <tr>\n      <th>503</th>\n      <td>1009219</td>\n      <td>252134564</td>\n      <td>2016-05-19 00:00:00</td>\n      <td>40.0</td>\n      <td>Hospital Encounter</td>\n      <td>Inpatient</td>\n      <td>F32.9</td>\n      <td>Major depressive disorder, single episode, uns...</td>\n      <td>NaN</td>\n      <td>NaN</td>\n      <td>Organization</td>\n      <td>NaN</td>\n      <td>NaN</td>\n      <td>NaN</td>\n      <td>Depressive disorders</td>\n    </tr>\n    <tr>\n      <th>252</th>\n      <td>1009219</td>\n      <td>253832370</td>\n      <td>2016-05-31 00:00:00</td>\n      <td>40.0</td>\n      <td>Office Visit</td>\n      <td>Outpatient</td>\n      <td>F31.81</td>\n      <td>Bipolar II disorder</td>\n      <td>NaN</td>\n      <td>NaN</td>\n      <td>Organization</td>\n      <td>NaN</td>\n      <td>NaN</td>\n      <td>NaN</td>\n      <td>Bipolar and related disorders</td>\n    </tr>\n  </tbody>\n</table>\n</div>"
     },
     "execution_count": 99,
     "metadata": {},
     "output_type": "execute_result"
    }
   ],
   "source": [
    "def CCSR(row):\n",
    "    row = row.replace('.', '')\n",
    "    if row in ccsr_mapping.keys():\n",
    "        return ccsr_mapping[row][0]\n",
    "\n",
    "first_scz_diagnoses['CCSR_code'] = first_scz_diagnoses['Value'].apply(CCSR)\n",
    "first_scz_diagnoses.head(50)"
   ],
   "metadata": {
    "collapsed": false,
    "pycharm": {
     "name": "#%%\n"
    }
   }
  },
  {
   "cell_type": "code",
   "execution_count": 100,
   "outputs": [
    {
     "data": {
      "text/plain": "     PrimaryMrn  EncounterKey            VisitDate  AgeAtVisit  \\\n190     1003157      10026992  2009-02-02 00:00:00        49.0   \n0       1003157      10194062  2011-07-20 18:54:00        52.0   \n10      1003157      12589140  2011-11-30 00:00:00        52.0   \n70      1003157     251130954  2012-02-22 00:00:00        52.0   \n62      1003157     109266117  2018-02-13 00:00:00        58.0   \n144     1003377     136471680  2019-07-26 00:00:00        54.0   \n88      1003377     169200840  2019-10-18 00:00:00        54.0   \n89      1003377     169200845  2019-11-15 00:00:00        55.0   \n69      1003711     256957683  2014-11-14 00:00:00        41.0   \n202     1003711     256197630  2014-11-28 00:00:00        41.0   \n49      1003711     256802830  2015-02-23 00:00:00        41.0   \n44      1007012      12086646  2012-01-29 16:51:00        37.0   \n127     1007012     318511167  2018-06-20 00:00:00        43.0   \n57      1007012     182241121  2020-06-08 21:16:00        45.0   \n122     1007012     287473487  2021-09-07 00:00:00        46.0   \n174     1007012     303896113  2022-05-19 00:00:00        47.0   \n128     1007012     326051473  2022-10-05 00:00:00        48.0   \n173     1007542     263308933  2021-02-14 00:00:00        33.0   \n186     1008703     323869811  2022-11-22 02:45:00        33.0   \n179     1008965       9602665  2010-02-04 00:00:00        77.0   \n324     1008965      14010565  2012-10-05 00:00:00        80.0   \n266     1008965      24106659  2013-10-11 00:00:00        81.0   \n245     1008965      24810675  2014-05-30 00:00:00        81.0   \n386     1008965      56735932  2017-04-07 00:00:00        84.0   \n436     1009219     251627797  2016-05-19 00:00:00        40.0   \n252     1009219     253832370  2016-05-31 00:00:00        40.0   \n377     1009219     252595719  2016-07-20 00:00:00        41.0   \n509     1010078      10970244  2010-12-02 00:00:00        35.0   \n438     1010078     255822424  2017-05-04 00:00:00        41.0   \n253     1010078     281035160  2017-05-06 00:00:00        41.0   \n439      101057     257654365  2015-07-03 00:00:00        66.0   \n254      101057     256443641  2016-01-12 00:00:00        66.0   \n287      101057     315854735  2021-10-04 00:00:00        72.0   \n303     1010656     244921576  2019-05-17 00:00:00        69.0   \n308     1010656     246043701  2019-05-25 00:00:00        69.0   \n318     1010656     246071946  2020-10-09 00:00:00        71.0   \n510     1010656     274586835  2021-10-12 00:00:00        72.0   \n272     1010779     106590330  2020-01-28 00:00:00        29.0   \n482     1011624      23314632  2013-06-25 00:00:00        76.0   \n414     1012191     304653382  2022-07-19 14:58:00        55.0   \n264     1013058     322290078  2020-02-04 00:00:00        56.0   \n265     1013710      12242654  2014-12-24 00:00:00        66.0   \n1509    1016359     278638734  2013-04-04 00:00:00        56.0   \n430     1016359     280764249  2013-08-06 00:00:00        56.0   \n461     1016359     278380432  2013-10-25 00:00:00        56.0   \n360     1016359      32674962  2015-05-21 00:00:00        58.0   \n446     1017188     110136526  2017-02-17 00:00:00        60.0   \n493     1017188     256688956  2018-10-17 00:00:00        61.0   \n288     1017188     106117501  2020-02-10 00:00:00        63.0   \n465     1017188     326917877  2023-01-13 00:00:00        66.0   \n\n                    VisitType  VisitType2    Value  \\\n190              Office Visit  Outpatient    F32.A   \n0          Hospital Encounter   Inpatient      F39   \n10    Psych Conf Office Visit   Recurring   F19.10   \n70               Office Visit  Outpatient    F25.9   \n62               Office Visit  Outpatient  F17.210   \n144              Office Visit  Outpatient   F31.32   \n88               Office Visit  Outpatient    F33.9   \n89               Office Visit  Outpatient    F20.9   \n69               Office Visit  Outpatient      F29   \n202              Office Visit  Outpatient   F31.10   \n49               Office Visit  Outpatient    F60.3   \n44         Hospital Encounter   Emergency   F43.21   \n127        Hospital Encounter   Emergency      F29   \n57         Hospital Encounter   Inpatient    F53.1   \n122              Office Visit  Outpatient    F41.1   \n174        Hospital Encounter   Emergency   F31.12   \n128              Office Visit  Outpatient    F32.A   \n173              Office Visit  Outpatient    F20.9   \n186        Hospital Encounter   Inpatient    F25.9   \n179   Psych Conf Office Visit   Recurring   F02.80   \n324   Psych Conf Office Visit   Recurring      F29   \n266   Psych Conf Office Visit   Recurring   F43.23   \n245   Psych Conf Office Visit   Recurring    F32.A   \n386                    Refill         NaN      F99   \n436        Hospital Encounter   Emergency    F33.9   \n252              Office Visit  Outpatient   F31.81   \n377              Office Visit  Outpatient    F25.0   \n509              Office Visit  Outpatient   F44.81   \n438              Office Visit  Outpatient    F20.0   \n253              Office Visit  Outpatient      F39   \n439              Office Visit  Outpatient    F20.9   \n254              Office Visit  Outpatient   F01.51   \n287        Hospital Encounter   Emergency    F32.A   \n303        Hospital Encounter   Emergency    F32.9   \n308              Office Visit  Outpatient    F25.9   \n318              Office Visit  Outpatient    F41.8   \n510              Office Visit  Outpatient   F10.10   \n272              Office Visit   Recurring    F20.0   \n482   Psych Conf Office Visit   Recurring    F20.0   \n414        Hospital Encounter   Emergency    F25.9   \n264              Office Visit  Outpatient    F20.3   \n265               Social Work  Outpatient    F25.9   \n1509             Office Visit  Outpatient   F32.89   \n430              Office Visit  Outpatient   F19.10   \n461              Office Visit  Outpatient    F25.9   \n360              Office Visit  Outpatient    F41.9   \n446              Office Visit  Outpatient    F25.0   \n493              Office Visit  Outpatient      F39   \n288              Office Visit   Recurring    F32.4   \n465              Office Visit   Recurring   F43.10   \n\n                                          DisplayString  \\\n190                             Depression, unspecified   \n0                 Unspecified mood (affective) disorder   \n10    Other psychoactive substance abuse, uncomplicated   \n70                Schizoaffective disorder, unspecified   \n62       Nicotine dependence, cigarettes, uncomplicated   \n144   Bipolar disorder, current episode depressed, m...   \n88    Major depressive disorder, recurrent, unspecified   \n89                           Schizophrenia, unspecified   \n69    Unspecified psychosis not due to a substance o...   \n202   Bipolar disorder, current episode manic withou...   \n49                      Borderline personality disorder   \n44              Adjustment disorder with depressed mood   \n127   Unspecified psychosis not due to a substance o...   \n57                                  Puerperal psychosis   \n122                        Generalized anxiety disorder   \n174   Bipolar disorder, current episode manic withou...   \n128                             Depression, unspecified   \n173                          Schizophrenia, unspecified   \n186               Schizoaffective disorder, unspecified   \n179   Dementia in other diseases classified elsewher...   \n324   Unspecified psychosis not due to a substance o...   \n266   Adjustment disorder with mixed anxiety and dep...   \n245                             Depression, unspecified   \n386            Mental disorder, not otherwise specified   \n436   Major depressive disorder, recurrent, unspecified   \n252                                 Bipolar II disorder   \n377              Schizoaffective disorder, bipolar type   \n509                      Dissociative identity disorder   \n438                              Paranoid schizophrenia   \n253               Unspecified mood (affective) disorder   \n439                          Schizophrenia, unspecified   \n254   Vascular dementia, unspecified severity, with ...   \n287                             Depression, unspecified   \n303   Major depressive disorder, single episode, uns...   \n308               Schizoaffective disorder, unspecified   \n318                   Other specified anxiety disorders   \n510                        Alcohol abuse, uncomplicated   \n272                              Paranoid schizophrenia   \n482                              Paranoid schizophrenia   \n414               Schizoaffective disorder, unspecified   \n264                      Undifferentiated schizophrenia   \n265               Schizoaffective disorder, unspecified   \n1509                Other specified depressive episodes   \n430   Other psychoactive substance abuse, uncomplicated   \n461               Schizoaffective disorder, unspecified   \n360                       Anxiety disorder, unspecified   \n446              Schizoaffective disorder, bipolar type   \n493               Unspecified mood (affective) disorder   \n288   Major depressive disorder, single episode, in ...   \n465         Post-traumatic stress disorder, unspecified   \n\n        PayorFinancialClass ProviderSex         ProviderType  \\\n190                Self-Pay        Male            Physician   \n0                  Self-Pay        Male            Physician   \n10                 Self-Pay      Female   Nurse Practitioner   \n70                      NaN         NaN         Organization   \n62                      NaN        Male            Physician   \n144                     NaN         NaN         Organization   \n88                      NaN         NaN         Organization   \n89                      NaN         NaN         Organization   \n69                      NaN         NaN         Organization   \n202                     NaN         NaN         Organization   \n49                      NaN         NaN            Physician   \n44                 Self-Pay         NaN                  NaN   \n127   Medicaid Managed Care         NaN                  NaN   \n57    Medicaid Managed Care        Male            Physician   \n122                     NaN         NaN                Group   \n174                     NaN        Male            Physician   \n128   Medicaid Managed Care      Female            Physician   \n173                     NaN         NaN         Organization   \n186   Medicaid Managed Care        Male            Physician   \n179                Self-Pay      Female            Physician   \n324                Self-Pay        Male            Physician   \n266                Self-Pay        Male            Physician   \n245                Self-Pay      Female            Physician   \n386                Self-Pay      Female            Physician   \n436                     NaN         NaN            Physician   \n252                     NaN         NaN         Organization   \n377                     NaN         NaN         Organization   \n509                Self-Pay         NaN             Resident   \n438                     NaN         NaN         Organization   \n253                     NaN         NaN         Organization   \n439                     NaN         NaN                  NaN   \n254                     NaN         NaN            Physician   \n287   Medicare Managed Care         NaN                  NaN   \n303                     NaN         NaN         Organization   \n308                     NaN        Male            Physician   \n318                     NaN         NaN         Organization   \n510             Medicare MS        Male  Physician Assistant   \n272   Medicaid Managed Care        Male             Resident   \n482                Self-Pay        Male             Resident   \n414             Medicaid MS        Male            Physician   \n264   Medicaid Managed Care      Female            Physician   \n265                Self-Pay        Male        Social Worker   \n1509                    NaN         NaN                  NaN   \n430                     NaN         NaN                  NaN   \n461                     NaN         NaN                  NaN   \n360   Medicare Managed Care      Female   Nurse Practitioner   \n446                     NaN         NaN         Organization   \n493                     NaN        Male            Physician   \n288   Medicare Managed Care        Male             Resident   \n465   Medicare Managed Care      Female             Resident   \n\n                     ProviderSpecialty                              dep_name  \\\n190                  INTERNAL MEDICINE                          X_IMA FIRM B   \n0                           PSYCHIATRY                                   C7N   \n10                          PSYCHIATRY    X_HOSP PSYCH ADULT KCC_DEACTIVATED   \n70                                 NaN                                   NaN   \n62                     CHEST RADIOLOGY                                   NaN   \n144                                NaN                                   NaN   \n88                                 NaN                                   NaN   \n89                                 NaN                                   NaN   \n69                                 NaN                                   NaN   \n202                                NaN                                   NaN   \n49                          PSYCHIATRY                                   NaN   \n44                                 NaN                  EMERGENCY DEPARTMENT   \n127                                NaN                                   NaN   \n57     PSYCHIATRY, FORENSIC PSYCHIATRY                                  MA05   \n122                                NaN                                   NaN   \n174                         PSYCHIATRY                                   NaN   \n128                        HOSPITALIST                                   NaN   \n173                                NaN                                   NaN   \n186                         PSYCHIATRY                               CLARK 8   \n179   PSYCHIATRY, GERIATRIC PSYCHIATRY   X_HOSP PSYCH GERIATRICS_DEACTIVATED   \n324                         PSYCHIATRY   X_HOSP PSYCH GERIATRICS_DEACTIVATED   \n266                         PSYCHIATRY   X_HOSP PSYCH GERIATRICS_DEACTIVATED   \n245                         PSYCHIATRY   X_HOSP PSYCH GERIATRICS_DEACTIVATED   \n386                         GERIATRICS               1440 MADISON GERIATRICS   \n436                         PSYCHIATRY                                   NaN   \n252                                NaN                                   NaN   \n377                                NaN                                   NaN   \n509              INTERNAL MEDICINE-CPR                          X_IMA FIRM A   \n438                                NaN                                   NaN   \n253                                NaN                                   NaN   \n439                                NaN                                   NaN   \n254                         PSYCHIATRY                                   NaN   \n287                                NaN                                   NaN   \n303                                NaN                                   NaN   \n308                                NaN                                   NaN   \n318                                NaN                                   NaN   \n510                                NaN     10 NATHAN PERL PL AIMS ADMISSIONS   \n272                         PSYCHIATRY  X_10 NATHAN PERL PL POSA_DEACTIVATED   \n482                         PSYCHIATRY   X_HOSP PSYCH GERIATRICS_DEACTIVATED   \n414                         PSYCHIATRY                      CPEP PSYCH ED BI   \n264                         PSYCHIATRY                                   NaN   \n265                         PSYCHIATRY                MS SLR BH PRC 411W 114   \n1509                               NaN                                   NaN   \n430                                NaN                                   NaN   \n461                                NaN                                   NaN   \n360                 Nurse Practitioner                          X_IMA FIRM A   \n446                                NaN                                   NaN   \n493                  INTERNAL MEDICINE                                   NaN   \n288                         PSYCHIATRY  X_10 NATHAN PERL PL POSA_DEACTIVATED   \n465        OUTPATIENT ADULT PSYCHIATRY                10 NATHAN PERL PL POSA   \n\n     DepartmentSpecialty                                          CCSR_code  \n190    Internal Medicine                               Depressive disorders  \n0             Psychiatry     Other specified and unspecified mood disorders  \n10          Psych Shared        Other specified substance-related disorders  \n70                   NaN  Schizophrenia spectrum and other psychotic dis...  \n62                   NaN                          Tobacco-related disorders  \n144                  NaN                      Bipolar and related disorders  \n88                   NaN                               Depressive disorders  \n89                   NaN  Schizophrenia spectrum and other psychotic dis...  \n69                   NaN  Schizophrenia spectrum and other psychotic dis...  \n202                  NaN                      Bipolar and related disorders  \n49                   NaN                              Personality disorders  \n44    Emergency Medicine             Trauma- and stressor-related disorders  \n127                  NaN  Schizophrenia spectrum and other psychotic dis...  \n57            Psychiatry  Miscellaneous mental and behavioral disorders/...  \n122                  NaN                 Anxiety and fear-related disorders  \n174                  NaN                      Bipolar and related disorders  \n128                  NaN                               Depressive disorders  \n173                  NaN  Schizophrenia spectrum and other psychotic dis...  \n186                  NaN  Schizophrenia spectrum and other psychotic dis...  \n179         Psych Shared                           Neurocognitive disorders  \n324         Psych Shared  Schizophrenia spectrum and other psychotic dis...  \n266         Psych Shared             Trauma- and stressor-related disorders  \n245         Psych Shared                               Depressive disorders  \n386          Gerontology  Miscellaneous mental and behavioral disorders/...  \n436                  NaN                               Depressive disorders  \n252                  NaN                      Bipolar and related disorders  \n377                  NaN  Schizophrenia spectrum and other psychotic dis...  \n509    Internal Medicine             Trauma- and stressor-related disorders  \n438                  NaN  Schizophrenia spectrum and other psychotic dis...  \n253                  NaN     Other specified and unspecified mood disorders  \n439                  NaN  Schizophrenia spectrum and other psychotic dis...  \n254                  NaN                           Neurocognitive disorders  \n287                  NaN                               Depressive disorders  \n303                  NaN                               Depressive disorders  \n308                  NaN  Schizophrenia spectrum and other psychotic dis...  \n318                  NaN                 Anxiety and fear-related disorders  \n510           Psychiatry                          Alcohol-related disorders  \n272    Behavioral Health  Schizophrenia spectrum and other psychotic dis...  \n482         Psych Shared  Schizophrenia spectrum and other psychotic dis...  \n414           Psychiatry  Schizophrenia spectrum and other psychotic dis...  \n264                  NaN  Schizophrenia spectrum and other psychotic dis...  \n265    Behavioral Health  Schizophrenia spectrum and other psychotic dis...  \n1509                 NaN                               Depressive disorders  \n430                  NaN        Other specified substance-related disorders  \n461                  NaN  Schizophrenia spectrum and other psychotic dis...  \n360    Internal Medicine                 Anxiety and fear-related disorders  \n446                  NaN  Schizophrenia spectrum and other psychotic dis...  \n493                  NaN     Other specified and unspecified mood disorders  \n288    Behavioral Health                               Depressive disorders  \n465    Behavioral Health             Trauma- and stressor-related disorders  ",
      "text/html": "<div>\n<style scoped>\n    .dataframe tbody tr th:only-of-type {\n        vertical-align: middle;\n    }\n\n    .dataframe tbody tr th {\n        vertical-align: top;\n    }\n\n    .dataframe thead th {\n        text-align: right;\n    }\n</style>\n<table border=\"1\" class=\"dataframe\">\n  <thead>\n    <tr style=\"text-align: right;\">\n      <th></th>\n      <th>PrimaryMrn</th>\n      <th>EncounterKey</th>\n      <th>VisitDate</th>\n      <th>AgeAtVisit</th>\n      <th>VisitType</th>\n      <th>VisitType2</th>\n      <th>Value</th>\n      <th>DisplayString</th>\n      <th>PayorFinancialClass</th>\n      <th>ProviderSex</th>\n      <th>ProviderType</th>\n      <th>ProviderSpecialty</th>\n      <th>dep_name</th>\n      <th>DepartmentSpecialty</th>\n      <th>CCSR_code</th>\n    </tr>\n  </thead>\n  <tbody>\n    <tr>\n      <th>190</th>\n      <td>1003157</td>\n      <td>10026992</td>\n      <td>2009-02-02 00:00:00</td>\n      <td>49.0</td>\n      <td>Office Visit</td>\n      <td>Outpatient</td>\n      <td>F32.A</td>\n      <td>Depression, unspecified</td>\n      <td>Self-Pay</td>\n      <td>Male</td>\n      <td>Physician</td>\n      <td>INTERNAL MEDICINE</td>\n      <td>X_IMA FIRM B</td>\n      <td>Internal Medicine</td>\n      <td>Depressive disorders</td>\n    </tr>\n    <tr>\n      <th>0</th>\n      <td>1003157</td>\n      <td>10194062</td>\n      <td>2011-07-20 18:54:00</td>\n      <td>52.0</td>\n      <td>Hospital Encounter</td>\n      <td>Inpatient</td>\n      <td>F39</td>\n      <td>Unspecified mood (affective) disorder</td>\n      <td>Self-Pay</td>\n      <td>Male</td>\n      <td>Physician</td>\n      <td>PSYCHIATRY</td>\n      <td>C7N</td>\n      <td>Psychiatry</td>\n      <td>Other specified and unspecified mood disorders</td>\n    </tr>\n    <tr>\n      <th>10</th>\n      <td>1003157</td>\n      <td>12589140</td>\n      <td>2011-11-30 00:00:00</td>\n      <td>52.0</td>\n      <td>Psych Conf Office Visit</td>\n      <td>Recurring</td>\n      <td>F19.10</td>\n      <td>Other psychoactive substance abuse, uncomplicated</td>\n      <td>Self-Pay</td>\n      <td>Female</td>\n      <td>Nurse Practitioner</td>\n      <td>PSYCHIATRY</td>\n      <td>X_HOSP PSYCH ADULT KCC_DEACTIVATED</td>\n      <td>Psych Shared</td>\n      <td>Other specified substance-related disorders</td>\n    </tr>\n    <tr>\n      <th>70</th>\n      <td>1003157</td>\n      <td>251130954</td>\n      <td>2012-02-22 00:00:00</td>\n      <td>52.0</td>\n      <td>Office Visit</td>\n      <td>Outpatient</td>\n      <td>F25.9</td>\n      <td>Schizoaffective disorder, unspecified</td>\n      <td>NaN</td>\n      <td>NaN</td>\n      <td>Organization</td>\n      <td>NaN</td>\n      <td>NaN</td>\n      <td>NaN</td>\n      <td>Schizophrenia spectrum and other psychotic dis...</td>\n    </tr>\n    <tr>\n      <th>62</th>\n      <td>1003157</td>\n      <td>109266117</td>\n      <td>2018-02-13 00:00:00</td>\n      <td>58.0</td>\n      <td>Office Visit</td>\n      <td>Outpatient</td>\n      <td>F17.210</td>\n      <td>Nicotine dependence, cigarettes, uncomplicated</td>\n      <td>NaN</td>\n      <td>Male</td>\n      <td>Physician</td>\n      <td>CHEST RADIOLOGY</td>\n      <td>NaN</td>\n      <td>NaN</td>\n      <td>Tobacco-related disorders</td>\n    </tr>\n    <tr>\n      <th>144</th>\n      <td>1003377</td>\n      <td>136471680</td>\n      <td>2019-07-26 00:00:00</td>\n      <td>54.0</td>\n      <td>Office Visit</td>\n      <td>Outpatient</td>\n      <td>F31.32</td>\n      <td>Bipolar disorder, current episode depressed, m...</td>\n      <td>NaN</td>\n      <td>NaN</td>\n      <td>Organization</td>\n      <td>NaN</td>\n      <td>NaN</td>\n      <td>NaN</td>\n      <td>Bipolar and related disorders</td>\n    </tr>\n    <tr>\n      <th>88</th>\n      <td>1003377</td>\n      <td>169200840</td>\n      <td>2019-10-18 00:00:00</td>\n      <td>54.0</td>\n      <td>Office Visit</td>\n      <td>Outpatient</td>\n      <td>F33.9</td>\n      <td>Major depressive disorder, recurrent, unspecified</td>\n      <td>NaN</td>\n      <td>NaN</td>\n      <td>Organization</td>\n      <td>NaN</td>\n      <td>NaN</td>\n      <td>NaN</td>\n      <td>Depressive disorders</td>\n    </tr>\n    <tr>\n      <th>89</th>\n      <td>1003377</td>\n      <td>169200845</td>\n      <td>2019-11-15 00:00:00</td>\n      <td>55.0</td>\n      <td>Office Visit</td>\n      <td>Outpatient</td>\n      <td>F20.9</td>\n      <td>Schizophrenia, unspecified</td>\n      <td>NaN</td>\n      <td>NaN</td>\n      <td>Organization</td>\n      <td>NaN</td>\n      <td>NaN</td>\n      <td>NaN</td>\n      <td>Schizophrenia spectrum and other psychotic dis...</td>\n    </tr>\n    <tr>\n      <th>69</th>\n      <td>1003711</td>\n      <td>256957683</td>\n      <td>2014-11-14 00:00:00</td>\n      <td>41.0</td>\n      <td>Office Visit</td>\n      <td>Outpatient</td>\n      <td>F29</td>\n      <td>Unspecified psychosis not due to a substance o...</td>\n      <td>NaN</td>\n      <td>NaN</td>\n      <td>Organization</td>\n      <td>NaN</td>\n      <td>NaN</td>\n      <td>NaN</td>\n      <td>Schizophrenia spectrum and other psychotic dis...</td>\n    </tr>\n    <tr>\n      <th>202</th>\n      <td>1003711</td>\n      <td>256197630</td>\n      <td>2014-11-28 00:00:00</td>\n      <td>41.0</td>\n      <td>Office Visit</td>\n      <td>Outpatient</td>\n      <td>F31.10</td>\n      <td>Bipolar disorder, current episode manic withou...</td>\n      <td>NaN</td>\n      <td>NaN</td>\n      <td>Organization</td>\n      <td>NaN</td>\n      <td>NaN</td>\n      <td>NaN</td>\n      <td>Bipolar and related disorders</td>\n    </tr>\n    <tr>\n      <th>49</th>\n      <td>1003711</td>\n      <td>256802830</td>\n      <td>2015-02-23 00:00:00</td>\n      <td>41.0</td>\n      <td>Office Visit</td>\n      <td>Outpatient</td>\n      <td>F60.3</td>\n      <td>Borderline personality disorder</td>\n      <td>NaN</td>\n      <td>NaN</td>\n      <td>Physician</td>\n      <td>PSYCHIATRY</td>\n      <td>NaN</td>\n      <td>NaN</td>\n      <td>Personality disorders</td>\n    </tr>\n    <tr>\n      <th>44</th>\n      <td>1007012</td>\n      <td>12086646</td>\n      <td>2012-01-29 16:51:00</td>\n      <td>37.0</td>\n      <td>Hospital Encounter</td>\n      <td>Emergency</td>\n      <td>F43.21</td>\n      <td>Adjustment disorder with depressed mood</td>\n      <td>Self-Pay</td>\n      <td>NaN</td>\n      <td>NaN</td>\n      <td>NaN</td>\n      <td>EMERGENCY DEPARTMENT</td>\n      <td>Emergency Medicine</td>\n      <td>Trauma- and stressor-related disorders</td>\n    </tr>\n    <tr>\n      <th>127</th>\n      <td>1007012</td>\n      <td>318511167</td>\n      <td>2018-06-20 00:00:00</td>\n      <td>43.0</td>\n      <td>Hospital Encounter</td>\n      <td>Emergency</td>\n      <td>F29</td>\n      <td>Unspecified psychosis not due to a substance o...</td>\n      <td>Medicaid Managed Care</td>\n      <td>NaN</td>\n      <td>NaN</td>\n      <td>NaN</td>\n      <td>NaN</td>\n      <td>NaN</td>\n      <td>Schizophrenia spectrum and other psychotic dis...</td>\n    </tr>\n    <tr>\n      <th>57</th>\n      <td>1007012</td>\n      <td>182241121</td>\n      <td>2020-06-08 21:16:00</td>\n      <td>45.0</td>\n      <td>Hospital Encounter</td>\n      <td>Inpatient</td>\n      <td>F53.1</td>\n      <td>Puerperal psychosis</td>\n      <td>Medicaid Managed Care</td>\n      <td>Male</td>\n      <td>Physician</td>\n      <td>PSYCHIATRY, FORENSIC PSYCHIATRY</td>\n      <td>MA05</td>\n      <td>Psychiatry</td>\n      <td>Miscellaneous mental and behavioral disorders/...</td>\n    </tr>\n    <tr>\n      <th>122</th>\n      <td>1007012</td>\n      <td>287473487</td>\n      <td>2021-09-07 00:00:00</td>\n      <td>46.0</td>\n      <td>Office Visit</td>\n      <td>Outpatient</td>\n      <td>F41.1</td>\n      <td>Generalized anxiety disorder</td>\n      <td>NaN</td>\n      <td>NaN</td>\n      <td>Group</td>\n      <td>NaN</td>\n      <td>NaN</td>\n      <td>NaN</td>\n      <td>Anxiety and fear-related disorders</td>\n    </tr>\n    <tr>\n      <th>174</th>\n      <td>1007012</td>\n      <td>303896113</td>\n      <td>2022-05-19 00:00:00</td>\n      <td>47.0</td>\n      <td>Hospital Encounter</td>\n      <td>Emergency</td>\n      <td>F31.12</td>\n      <td>Bipolar disorder, current episode manic withou...</td>\n      <td>NaN</td>\n      <td>Male</td>\n      <td>Physician</td>\n      <td>PSYCHIATRY</td>\n      <td>NaN</td>\n      <td>NaN</td>\n      <td>Bipolar and related disorders</td>\n    </tr>\n    <tr>\n      <th>128</th>\n      <td>1007012</td>\n      <td>326051473</td>\n      <td>2022-10-05 00:00:00</td>\n      <td>48.0</td>\n      <td>Office Visit</td>\n      <td>Outpatient</td>\n      <td>F32.A</td>\n      <td>Depression, unspecified</td>\n      <td>Medicaid Managed Care</td>\n      <td>Female</td>\n      <td>Physician</td>\n      <td>HOSPITALIST</td>\n      <td>NaN</td>\n      <td>NaN</td>\n      <td>Depressive disorders</td>\n    </tr>\n    <tr>\n      <th>173</th>\n      <td>1007542</td>\n      <td>263308933</td>\n      <td>2021-02-14 00:00:00</td>\n      <td>33.0</td>\n      <td>Office Visit</td>\n      <td>Outpatient</td>\n      <td>F20.9</td>\n      <td>Schizophrenia, unspecified</td>\n      <td>NaN</td>\n      <td>NaN</td>\n      <td>Organization</td>\n      <td>NaN</td>\n      <td>NaN</td>\n      <td>NaN</td>\n      <td>Schizophrenia spectrum and other psychotic dis...</td>\n    </tr>\n    <tr>\n      <th>186</th>\n      <td>1008703</td>\n      <td>323869811</td>\n      <td>2022-11-22 02:45:00</td>\n      <td>33.0</td>\n      <td>Hospital Encounter</td>\n      <td>Inpatient</td>\n      <td>F25.9</td>\n      <td>Schizoaffective disorder, unspecified</td>\n      <td>Medicaid Managed Care</td>\n      <td>Male</td>\n      <td>Physician</td>\n      <td>PSYCHIATRY</td>\n      <td>CLARK 8</td>\n      <td>NaN</td>\n      <td>Schizophrenia spectrum and other psychotic dis...</td>\n    </tr>\n    <tr>\n      <th>179</th>\n      <td>1008965</td>\n      <td>9602665</td>\n      <td>2010-02-04 00:00:00</td>\n      <td>77.0</td>\n      <td>Psych Conf Office Visit</td>\n      <td>Recurring</td>\n      <td>F02.80</td>\n      <td>Dementia in other diseases classified elsewher...</td>\n      <td>Self-Pay</td>\n      <td>Female</td>\n      <td>Physician</td>\n      <td>PSYCHIATRY, GERIATRIC PSYCHIATRY</td>\n      <td>X_HOSP PSYCH GERIATRICS_DEACTIVATED</td>\n      <td>Psych Shared</td>\n      <td>Neurocognitive disorders</td>\n    </tr>\n    <tr>\n      <th>324</th>\n      <td>1008965</td>\n      <td>14010565</td>\n      <td>2012-10-05 00:00:00</td>\n      <td>80.0</td>\n      <td>Psych Conf Office Visit</td>\n      <td>Recurring</td>\n      <td>F29</td>\n      <td>Unspecified psychosis not due to a substance o...</td>\n      <td>Self-Pay</td>\n      <td>Male</td>\n      <td>Physician</td>\n      <td>PSYCHIATRY</td>\n      <td>X_HOSP PSYCH GERIATRICS_DEACTIVATED</td>\n      <td>Psych Shared</td>\n      <td>Schizophrenia spectrum and other psychotic dis...</td>\n    </tr>\n    <tr>\n      <th>266</th>\n      <td>1008965</td>\n      <td>24106659</td>\n      <td>2013-10-11 00:00:00</td>\n      <td>81.0</td>\n      <td>Psych Conf Office Visit</td>\n      <td>Recurring</td>\n      <td>F43.23</td>\n      <td>Adjustment disorder with mixed anxiety and dep...</td>\n      <td>Self-Pay</td>\n      <td>Male</td>\n      <td>Physician</td>\n      <td>PSYCHIATRY</td>\n      <td>X_HOSP PSYCH GERIATRICS_DEACTIVATED</td>\n      <td>Psych Shared</td>\n      <td>Trauma- and stressor-related disorders</td>\n    </tr>\n    <tr>\n      <th>245</th>\n      <td>1008965</td>\n      <td>24810675</td>\n      <td>2014-05-30 00:00:00</td>\n      <td>81.0</td>\n      <td>Psych Conf Office Visit</td>\n      <td>Recurring</td>\n      <td>F32.A</td>\n      <td>Depression, unspecified</td>\n      <td>Self-Pay</td>\n      <td>Female</td>\n      <td>Physician</td>\n      <td>PSYCHIATRY</td>\n      <td>X_HOSP PSYCH GERIATRICS_DEACTIVATED</td>\n      <td>Psych Shared</td>\n      <td>Depressive disorders</td>\n    </tr>\n    <tr>\n      <th>386</th>\n      <td>1008965</td>\n      <td>56735932</td>\n      <td>2017-04-07 00:00:00</td>\n      <td>84.0</td>\n      <td>Refill</td>\n      <td>NaN</td>\n      <td>F99</td>\n      <td>Mental disorder, not otherwise specified</td>\n      <td>Self-Pay</td>\n      <td>Female</td>\n      <td>Physician</td>\n      <td>GERIATRICS</td>\n      <td>1440 MADISON GERIATRICS</td>\n      <td>Gerontology</td>\n      <td>Miscellaneous mental and behavioral disorders/...</td>\n    </tr>\n    <tr>\n      <th>436</th>\n      <td>1009219</td>\n      <td>251627797</td>\n      <td>2016-05-19 00:00:00</td>\n      <td>40.0</td>\n      <td>Hospital Encounter</td>\n      <td>Emergency</td>\n      <td>F33.9</td>\n      <td>Major depressive disorder, recurrent, unspecified</td>\n      <td>NaN</td>\n      <td>NaN</td>\n      <td>Physician</td>\n      <td>PSYCHIATRY</td>\n      <td>NaN</td>\n      <td>NaN</td>\n      <td>Depressive disorders</td>\n    </tr>\n    <tr>\n      <th>252</th>\n      <td>1009219</td>\n      <td>253832370</td>\n      <td>2016-05-31 00:00:00</td>\n      <td>40.0</td>\n      <td>Office Visit</td>\n      <td>Outpatient</td>\n      <td>F31.81</td>\n      <td>Bipolar II disorder</td>\n      <td>NaN</td>\n      <td>NaN</td>\n      <td>Organization</td>\n      <td>NaN</td>\n      <td>NaN</td>\n      <td>NaN</td>\n      <td>Bipolar and related disorders</td>\n    </tr>\n    <tr>\n      <th>377</th>\n      <td>1009219</td>\n      <td>252595719</td>\n      <td>2016-07-20 00:00:00</td>\n      <td>41.0</td>\n      <td>Office Visit</td>\n      <td>Outpatient</td>\n      <td>F25.0</td>\n      <td>Schizoaffective disorder, bipolar type</td>\n      <td>NaN</td>\n      <td>NaN</td>\n      <td>Organization</td>\n      <td>NaN</td>\n      <td>NaN</td>\n      <td>NaN</td>\n      <td>Schizophrenia spectrum and other psychotic dis...</td>\n    </tr>\n    <tr>\n      <th>509</th>\n      <td>1010078</td>\n      <td>10970244</td>\n      <td>2010-12-02 00:00:00</td>\n      <td>35.0</td>\n      <td>Office Visit</td>\n      <td>Outpatient</td>\n      <td>F44.81</td>\n      <td>Dissociative identity disorder</td>\n      <td>Self-Pay</td>\n      <td>NaN</td>\n      <td>Resident</td>\n      <td>INTERNAL MEDICINE-CPR</td>\n      <td>X_IMA FIRM A</td>\n      <td>Internal Medicine</td>\n      <td>Trauma- and stressor-related disorders</td>\n    </tr>\n    <tr>\n      <th>438</th>\n      <td>1010078</td>\n      <td>255822424</td>\n      <td>2017-05-04 00:00:00</td>\n      <td>41.0</td>\n      <td>Office Visit</td>\n      <td>Outpatient</td>\n      <td>F20.0</td>\n      <td>Paranoid schizophrenia</td>\n      <td>NaN</td>\n      <td>NaN</td>\n      <td>Organization</td>\n      <td>NaN</td>\n      <td>NaN</td>\n      <td>NaN</td>\n      <td>Schizophrenia spectrum and other psychotic dis...</td>\n    </tr>\n    <tr>\n      <th>253</th>\n      <td>1010078</td>\n      <td>281035160</td>\n      <td>2017-05-06 00:00:00</td>\n      <td>41.0</td>\n      <td>Office Visit</td>\n      <td>Outpatient</td>\n      <td>F39</td>\n      <td>Unspecified mood (affective) disorder</td>\n      <td>NaN</td>\n      <td>NaN</td>\n      <td>Organization</td>\n      <td>NaN</td>\n      <td>NaN</td>\n      <td>NaN</td>\n      <td>Other specified and unspecified mood disorders</td>\n    </tr>\n    <tr>\n      <th>439</th>\n      <td>101057</td>\n      <td>257654365</td>\n      <td>2015-07-03 00:00:00</td>\n      <td>66.0</td>\n      <td>Office Visit</td>\n      <td>Outpatient</td>\n      <td>F20.9</td>\n      <td>Schizophrenia, unspecified</td>\n      <td>NaN</td>\n      <td>NaN</td>\n      <td>NaN</td>\n      <td>NaN</td>\n      <td>NaN</td>\n      <td>NaN</td>\n      <td>Schizophrenia spectrum and other psychotic dis...</td>\n    </tr>\n    <tr>\n      <th>254</th>\n      <td>101057</td>\n      <td>256443641</td>\n      <td>2016-01-12 00:00:00</td>\n      <td>66.0</td>\n      <td>Office Visit</td>\n      <td>Outpatient</td>\n      <td>F01.51</td>\n      <td>Vascular dementia, unspecified severity, with ...</td>\n      <td>NaN</td>\n      <td>NaN</td>\n      <td>Physician</td>\n      <td>PSYCHIATRY</td>\n      <td>NaN</td>\n      <td>NaN</td>\n      <td>Neurocognitive disorders</td>\n    </tr>\n    <tr>\n      <th>287</th>\n      <td>101057</td>\n      <td>315854735</td>\n      <td>2021-10-04 00:00:00</td>\n      <td>72.0</td>\n      <td>Hospital Encounter</td>\n      <td>Emergency</td>\n      <td>F32.A</td>\n      <td>Depression, unspecified</td>\n      <td>Medicare Managed Care</td>\n      <td>NaN</td>\n      <td>NaN</td>\n      <td>NaN</td>\n      <td>NaN</td>\n      <td>NaN</td>\n      <td>Depressive disorders</td>\n    </tr>\n    <tr>\n      <th>303</th>\n      <td>1010656</td>\n      <td>244921576</td>\n      <td>2019-05-17 00:00:00</td>\n      <td>69.0</td>\n      <td>Hospital Encounter</td>\n      <td>Emergency</td>\n      <td>F32.9</td>\n      <td>Major depressive disorder, single episode, uns...</td>\n      <td>NaN</td>\n      <td>NaN</td>\n      <td>Organization</td>\n      <td>NaN</td>\n      <td>NaN</td>\n      <td>NaN</td>\n      <td>Depressive disorders</td>\n    </tr>\n    <tr>\n      <th>308</th>\n      <td>1010656</td>\n      <td>246043701</td>\n      <td>2019-05-25 00:00:00</td>\n      <td>69.0</td>\n      <td>Office Visit</td>\n      <td>Outpatient</td>\n      <td>F25.9</td>\n      <td>Schizoaffective disorder, unspecified</td>\n      <td>NaN</td>\n      <td>Male</td>\n      <td>Physician</td>\n      <td>NaN</td>\n      <td>NaN</td>\n      <td>NaN</td>\n      <td>Schizophrenia spectrum and other psychotic dis...</td>\n    </tr>\n    <tr>\n      <th>318</th>\n      <td>1010656</td>\n      <td>246071946</td>\n      <td>2020-10-09 00:00:00</td>\n      <td>71.0</td>\n      <td>Office Visit</td>\n      <td>Outpatient</td>\n      <td>F41.8</td>\n      <td>Other specified anxiety disorders</td>\n      <td>NaN</td>\n      <td>NaN</td>\n      <td>Organization</td>\n      <td>NaN</td>\n      <td>NaN</td>\n      <td>NaN</td>\n      <td>Anxiety and fear-related disorders</td>\n    </tr>\n    <tr>\n      <th>510</th>\n      <td>1010656</td>\n      <td>274586835</td>\n      <td>2021-10-12 00:00:00</td>\n      <td>72.0</td>\n      <td>Office Visit</td>\n      <td>Outpatient</td>\n      <td>F10.10</td>\n      <td>Alcohol abuse, uncomplicated</td>\n      <td>Medicare MS</td>\n      <td>Male</td>\n      <td>Physician Assistant</td>\n      <td>NaN</td>\n      <td>10 NATHAN PERL PL AIMS ADMISSIONS</td>\n      <td>Psychiatry</td>\n      <td>Alcohol-related disorders</td>\n    </tr>\n    <tr>\n      <th>272</th>\n      <td>1010779</td>\n      <td>106590330</td>\n      <td>2020-01-28 00:00:00</td>\n      <td>29.0</td>\n      <td>Office Visit</td>\n      <td>Recurring</td>\n      <td>F20.0</td>\n      <td>Paranoid schizophrenia</td>\n      <td>Medicaid Managed Care</td>\n      <td>Male</td>\n      <td>Resident</td>\n      <td>PSYCHIATRY</td>\n      <td>X_10 NATHAN PERL PL POSA_DEACTIVATED</td>\n      <td>Behavioral Health</td>\n      <td>Schizophrenia spectrum and other psychotic dis...</td>\n    </tr>\n    <tr>\n      <th>482</th>\n      <td>1011624</td>\n      <td>23314632</td>\n      <td>2013-06-25 00:00:00</td>\n      <td>76.0</td>\n      <td>Psych Conf Office Visit</td>\n      <td>Recurring</td>\n      <td>F20.0</td>\n      <td>Paranoid schizophrenia</td>\n      <td>Self-Pay</td>\n      <td>Male</td>\n      <td>Resident</td>\n      <td>PSYCHIATRY</td>\n      <td>X_HOSP PSYCH GERIATRICS_DEACTIVATED</td>\n      <td>Psych Shared</td>\n      <td>Schizophrenia spectrum and other psychotic dis...</td>\n    </tr>\n    <tr>\n      <th>414</th>\n      <td>1012191</td>\n      <td>304653382</td>\n      <td>2022-07-19 14:58:00</td>\n      <td>55.0</td>\n      <td>Hospital Encounter</td>\n      <td>Emergency</td>\n      <td>F25.9</td>\n      <td>Schizoaffective disorder, unspecified</td>\n      <td>Medicaid MS</td>\n      <td>Male</td>\n      <td>Physician</td>\n      <td>PSYCHIATRY</td>\n      <td>CPEP PSYCH ED BI</td>\n      <td>Psychiatry</td>\n      <td>Schizophrenia spectrum and other psychotic dis...</td>\n    </tr>\n    <tr>\n      <th>264</th>\n      <td>1013058</td>\n      <td>322290078</td>\n      <td>2020-02-04 00:00:00</td>\n      <td>56.0</td>\n      <td>Office Visit</td>\n      <td>Outpatient</td>\n      <td>F20.3</td>\n      <td>Undifferentiated schizophrenia</td>\n      <td>Medicaid Managed Care</td>\n      <td>Female</td>\n      <td>Physician</td>\n      <td>PSYCHIATRY</td>\n      <td>NaN</td>\n      <td>NaN</td>\n      <td>Schizophrenia spectrum and other psychotic dis...</td>\n    </tr>\n    <tr>\n      <th>265</th>\n      <td>1013710</td>\n      <td>12242654</td>\n      <td>2014-12-24 00:00:00</td>\n      <td>66.0</td>\n      <td>Social Work</td>\n      <td>Outpatient</td>\n      <td>F25.9</td>\n      <td>Schizoaffective disorder, unspecified</td>\n      <td>Self-Pay</td>\n      <td>Male</td>\n      <td>Social Worker</td>\n      <td>PSYCHIATRY</td>\n      <td>MS SLR BH PRC 411W 114</td>\n      <td>Behavioral Health</td>\n      <td>Schizophrenia spectrum and other psychotic dis...</td>\n    </tr>\n    <tr>\n      <th>1509</th>\n      <td>1016359</td>\n      <td>278638734</td>\n      <td>2013-04-04 00:00:00</td>\n      <td>56.0</td>\n      <td>Office Visit</td>\n      <td>Outpatient</td>\n      <td>F32.89</td>\n      <td>Other specified depressive episodes</td>\n      <td>NaN</td>\n      <td>NaN</td>\n      <td>NaN</td>\n      <td>NaN</td>\n      <td>NaN</td>\n      <td>NaN</td>\n      <td>Depressive disorders</td>\n    </tr>\n    <tr>\n      <th>430</th>\n      <td>1016359</td>\n      <td>280764249</td>\n      <td>2013-08-06 00:00:00</td>\n      <td>56.0</td>\n      <td>Office Visit</td>\n      <td>Outpatient</td>\n      <td>F19.10</td>\n      <td>Other psychoactive substance abuse, uncomplicated</td>\n      <td>NaN</td>\n      <td>NaN</td>\n      <td>NaN</td>\n      <td>NaN</td>\n      <td>NaN</td>\n      <td>NaN</td>\n      <td>Other specified substance-related disorders</td>\n    </tr>\n    <tr>\n      <th>461</th>\n      <td>1016359</td>\n      <td>278380432</td>\n      <td>2013-10-25 00:00:00</td>\n      <td>56.0</td>\n      <td>Office Visit</td>\n      <td>Outpatient</td>\n      <td>F25.9</td>\n      <td>Schizoaffective disorder, unspecified</td>\n      <td>NaN</td>\n      <td>NaN</td>\n      <td>NaN</td>\n      <td>NaN</td>\n      <td>NaN</td>\n      <td>NaN</td>\n      <td>Schizophrenia spectrum and other psychotic dis...</td>\n    </tr>\n    <tr>\n      <th>360</th>\n      <td>1016359</td>\n      <td>32674962</td>\n      <td>2015-05-21 00:00:00</td>\n      <td>58.0</td>\n      <td>Office Visit</td>\n      <td>Outpatient</td>\n      <td>F41.9</td>\n      <td>Anxiety disorder, unspecified</td>\n      <td>Medicare Managed Care</td>\n      <td>Female</td>\n      <td>Nurse Practitioner</td>\n      <td>Nurse Practitioner</td>\n      <td>X_IMA FIRM A</td>\n      <td>Internal Medicine</td>\n      <td>Anxiety and fear-related disorders</td>\n    </tr>\n    <tr>\n      <th>446</th>\n      <td>1017188</td>\n      <td>110136526</td>\n      <td>2017-02-17 00:00:00</td>\n      <td>60.0</td>\n      <td>Office Visit</td>\n      <td>Outpatient</td>\n      <td>F25.0</td>\n      <td>Schizoaffective disorder, bipolar type</td>\n      <td>NaN</td>\n      <td>NaN</td>\n      <td>Organization</td>\n      <td>NaN</td>\n      <td>NaN</td>\n      <td>NaN</td>\n      <td>Schizophrenia spectrum and other psychotic dis...</td>\n    </tr>\n    <tr>\n      <th>493</th>\n      <td>1017188</td>\n      <td>256688956</td>\n      <td>2018-10-17 00:00:00</td>\n      <td>61.0</td>\n      <td>Office Visit</td>\n      <td>Outpatient</td>\n      <td>F39</td>\n      <td>Unspecified mood (affective) disorder</td>\n      <td>NaN</td>\n      <td>Male</td>\n      <td>Physician</td>\n      <td>INTERNAL MEDICINE</td>\n      <td>NaN</td>\n      <td>NaN</td>\n      <td>Other specified and unspecified mood disorders</td>\n    </tr>\n    <tr>\n      <th>288</th>\n      <td>1017188</td>\n      <td>106117501</td>\n      <td>2020-02-10 00:00:00</td>\n      <td>63.0</td>\n      <td>Office Visit</td>\n      <td>Recurring</td>\n      <td>F32.4</td>\n      <td>Major depressive disorder, single episode, in ...</td>\n      <td>Medicare Managed Care</td>\n      <td>Male</td>\n      <td>Resident</td>\n      <td>PSYCHIATRY</td>\n      <td>X_10 NATHAN PERL PL POSA_DEACTIVATED</td>\n      <td>Behavioral Health</td>\n      <td>Depressive disorders</td>\n    </tr>\n    <tr>\n      <th>465</th>\n      <td>1017188</td>\n      <td>326917877</td>\n      <td>2023-01-13 00:00:00</td>\n      <td>66.0</td>\n      <td>Office Visit</td>\n      <td>Recurring</td>\n      <td>F43.10</td>\n      <td>Post-traumatic stress disorder, unspecified</td>\n      <td>Medicare Managed Care</td>\n      <td>Female</td>\n      <td>Resident</td>\n      <td>OUTPATIENT ADULT PSYCHIATRY</td>\n      <td>10 NATHAN PERL PL POSA</td>\n      <td>Behavioral Health</td>\n      <td>Trauma- and stressor-related disorders</td>\n    </tr>\n  </tbody>\n</table>\n</div>"
     },
     "execution_count": 100,
     "metadata": {},
     "output_type": "execute_result"
    }
   ],
   "source": [
    "ccsr_first_scz_diagnoses = first_scz_diagnoses.drop_duplicates(subset=['PrimaryMrn', 'CCSR_code'],  keep='first')\n",
    "ccsr_first_scz_diagnoses.head(50)"
   ],
   "metadata": {
    "collapsed": false,
    "pycharm": {
     "name": "#%%\n"
    }
   }
  },
  {
   "cell_type": "code",
   "execution_count": 101,
   "outputs": [
    {
     "name": "stderr",
     "output_type": "stream",
     "text": [
      "/var/folders/xm/m4dy5bvs1fn7fb9wxjhsg4dc0000gn/T/ipykernel_19446/4027052910.py:7: SettingWithCopyWarning: \n",
      "A value is trying to be set on a copy of a slice from a DataFrame.\n",
      "Try using .loc[row_indexer,col_indexer] = value instead\n",
      "\n",
      "See the caveats in the documentation: https://pandas.pydata.org/pandas-docs/stable/user_guide/indexing.html#returning-a-view-versus-a-copy\n",
      "  ccsr_first_scz_diagnoses['scz_condition'] = ccsr_first_scz_diagnoses.CCSR_code.apply(lambda row: condition_type(row))\n"
     ]
    }
   ],
   "source": [
    "def condition_type(row):\n",
    "    if row == 'Schizophrenia spectrum and other psychotic disorders':\n",
    "        return 1\n",
    "    else:\n",
    "        return 0\n",
    "\n",
    "ccsr_first_scz_diagnoses['scz_condition'] = ccsr_first_scz_diagnoses.CCSR_code.apply(lambda row: condition_type(row))"
   ],
   "metadata": {
    "collapsed": false,
    "pycharm": {
     "name": "#%%\n"
    }
   }
  },
  {
   "cell_type": "code",
   "execution_count": 102,
   "outputs": [
    {
     "data": {
      "text/plain": "       PrimaryMrn  EncounterKey            VisitDate  AgeAtVisit  \\\n819126    F887456     327142075  2022-12-27 11:46:00        31.0   \n\n                 VisitType VisitType2  Value                  DisplayString  \\\n819126  Hospital Encounter  Inpatient  F31.9  Bipolar disorder, unspecified   \n\n       PayorFinancialClass ProviderSex ProviderType ProviderSpecialty  \\\n819126         Medicaid MS      Female    Physician        PSYCHIATRY   \n\n          dep_name DepartmentSpecialty                      CCSR_code  \\\n819126  WINSTON 7G                 NaN  Bipolar and related disorders   \n\n        scz_condition  \n819126              0  ",
      "text/html": "<div>\n<style scoped>\n    .dataframe tbody tr th:only-of-type {\n        vertical-align: middle;\n    }\n\n    .dataframe tbody tr th {\n        vertical-align: top;\n    }\n\n    .dataframe thead th {\n        text-align: right;\n    }\n</style>\n<table border=\"1\" class=\"dataframe\">\n  <thead>\n    <tr style=\"text-align: right;\">\n      <th></th>\n      <th>PrimaryMrn</th>\n      <th>EncounterKey</th>\n      <th>VisitDate</th>\n      <th>AgeAtVisit</th>\n      <th>VisitType</th>\n      <th>VisitType2</th>\n      <th>Value</th>\n      <th>DisplayString</th>\n      <th>PayorFinancialClass</th>\n      <th>ProviderSex</th>\n      <th>ProviderType</th>\n      <th>ProviderSpecialty</th>\n      <th>dep_name</th>\n      <th>DepartmentSpecialty</th>\n      <th>CCSR_code</th>\n      <th>scz_condition</th>\n    </tr>\n  </thead>\n  <tbody>\n    <tr>\n      <th>819126</th>\n      <td>F887456</td>\n      <td>327142075</td>\n      <td>2022-12-27 11:46:00</td>\n      <td>31.0</td>\n      <td>Hospital Encounter</td>\n      <td>Inpatient</td>\n      <td>F31.9</td>\n      <td>Bipolar disorder, unspecified</td>\n      <td>Medicaid MS</td>\n      <td>Female</td>\n      <td>Physician</td>\n      <td>PSYCHIATRY</td>\n      <td>WINSTON 7G</td>\n      <td>NaN</td>\n      <td>Bipolar and related disorders</td>\n      <td>0</td>\n    </tr>\n  </tbody>\n</table>\n</div>"
     },
     "execution_count": 102,
     "metadata": {},
     "output_type": "execute_result"
    }
   ],
   "source": [
    "ccsr_first_scz_diagnoses_problem = ccsr_first_scz_diagnoses.groupby('PrimaryMrn').filter(lambda x: x['scz_condition'].mean() == 0)\n",
    "ccsr_first_scz_diagnoses_problem"
   ],
   "metadata": {
    "collapsed": false,
    "pycharm": {
     "name": "#%%\n"
    }
   }
  },
  {
   "cell_type": "code",
   "execution_count": 57,
   "outputs": [],
   "source": [
    "pd.DataFrame.to_csv(ccsr_first_scz_diagnoses_problem, \"/Users/valena17/psych_nlp/data/missing_ccsr_scz_patients.csv\",index = False)"
   ],
   "metadata": {
    "collapsed": false,
    "pycharm": {
     "name": "#%%\n"
    }
   }
  },
  {
   "cell_type": "code",
   "execution_count": 103,
   "outputs": [
    {
     "name": "stdout",
     "output_type": "stream",
     "text": [
      "19875 19874\n"
     ]
    }
   ],
   "source": [
    "ccsr_first_scz_diagnoses_clean = ccsr_first_scz_diagnoses.groupby('PrimaryMrn').filter(lambda x: x['scz_condition'].mean() > 0)\n",
    "print(ccsr_first_scz_diagnoses['PrimaryMrn'].nunique(), ccsr_first_scz_diagnoses_clean['PrimaryMrn'].nunique()) #25806 24270"
   ],
   "metadata": {
    "collapsed": false,
    "pycharm": {
     "name": "#%%\n"
    }
   }
  },
  {
   "cell_type": "code",
   "execution_count": 73,
   "outputs": [
    {
     "name": "stdout",
     "output_type": "stream",
     "text": [
      "1536 {'5098937', 7610375, '3945037', '616813', '7173290', 7905301, '7278734', '3899794', '7269243', '3499679', 7594031, '7129533', '7690115', '1294175', '6157087', '4861044', '6053025', 8159304, '3815385', '4089781', 8347762, '7409842', '6240732', '3664703', '6082229', 8208531, '7152265', '346547', '3606973', '3948141', '6287016', 7594167, '7246990', 7823554, '5513745', '3426686', '3904898', '6476784', 8093905, '3860298', 8159453, 8159454, '6371831', '3820076', '7441484', '4581881', '7644061', 8274177, '7466674', '7518497', '7905369', '7499873', '7076909', '7441900', 8036629, '7378950', '3717110', '6493856', '8295365', '3797630', 8216869, '3700509', '6305576', '8150705', '7669469', '3759099', '5285870', '7485750', '7316170', '7631958', '5966039', '6040399', '6559535', '3982035', 8307039, '7436674', '3741201', '5296851', '4815938', '7118018', '7150685', '347758', '499000', 8159627, '3750098', '7434772', '6546382', '4872069', '5655626', '4236553', '4212706', '6619011', '5584879', '7567955', '1262577', '3644499', '7530355', '7594666', '6605928', '7340905', '5621415', 8135118, 7619022, '6351747', '5359051', '3756378', '3638341', '5052011', '7321255', 7692777, '3651233', '6060539', '6853355', '5239519', '466440', '3950634', '5022200', '4030849', '7764582', 8159798, '4679075', '3746526', '7329178', '7436577', 7602767, '3967575', '7131789', '6467997', 8036976, 7799409, '7259210', '4266499', '7092234', '4486930', 7709326, '3537566', '5642864', '5377014', '7604207', '7436676', 8307382, '5727433', '6391936', '3866974', '7134128', '7570818', '5583736', 7709384, '4860842', '5622795', '4846725', '3802027', 7906011, '814277', '4107301', '4832562', '7053282', '332299', '7146472', '3549822', '8158568', '5593643', 7914271, '7580712', '7529815', '7556798', 7652139, '6450719', '3580371', '6997244', '5502986', '8146805', 8176457, '3737452', '3763369', 7791439, '7624775', '5130817', '7013507', '7136043', '6858029', '3814189', '5471674', '3889155', '3576342', '4580024', '7304298', '6202260', '7096453', '7722408', 7594902, 7701406, '3825686', 7652280, '4204214', '6420583', '5639157', '7552787', '6119517', '7437383', '3741655', '3996600', '8069510', '3599580', '3879911', '3937064', '7003198', '3796402', 8012808, '5583410', 8242184, '3875455', '8211345', '3867126', '8293619', '5583251', '5070386', '4108402', 7701538, '7505424', 8201255, '3911190', '382365', '3906008', '3732112', '5538209', 8062040, '6489490', '4840494', '3775847', 7791712, '5446589', '4569603', '7436243', '6560281', '7383531', 8307843, '7281961', '7632089', 7718040, '7118654', '7573150', 7586977, '8273940', '7720029', '7573124', '6392215', '3467838', '3967783', 7767275, '5686665', '7101115', '6658445', '7302985', '3600986', '6451868', '3696577', '7072238', '7450752', '3597946', '3951368', '4832371', '3479839', '6299132', '3906367', '7491440', '3846726', 7611724, '3299315', '4794474', '3623263', '6512278', '7264534', '8119199', '8257274', '431682', '7257631', '3884407', 7701872, '709678', '5080071', 8324487, 7628192, '3690660', 8201651, 8283574, '4143616', '4342179', '3916031', 8226248, '752811', '3956523', 7620053, '6540417', '5672460', 7767517, 8291805, 7710195, '7386401', '3783248', '7571597', 8308226, '8074760', '5406021', '7841156', '5671162', '510763', 7702095, '4829542', '7619101', '7513028', '7451177', '3909050', 8267365, '1272951', '7900157', '6492189', '7183947', '7246841', '6386586', 7702157, '4302137', 7734934, '3967925', '1277067', '6293904', '7516868', '4902193', '3839340', '6275946', 7718598, '6275989', '3289914', 8267475, 8062687, '7588384', '7370426', 7702249, '7542042', '6873595', '6506577', '7376686', '3673431', '6069932', 7587586, '3858644', 8193804, '575035', '610120', '4882505', '7400219', '6280956', 7784256, '7568084', '5119711', '4621745', 8210253, '3867011', '6695684', '3876346', '3780472', '3279135', '7121369', '4006142', '74624', '3523110', '3815185', '5510560', '7371828', '3954901', 804768, '7069320', '6424747', '3455917', '3798522', '7670883', '7936563', '8338740', '3374625', '6495924', '7437329', '3740058', '7124597', '7688150', 7620573, '3685894', 8185828, '1294108', '7132905', '4947095', '7103178', '6467824', 7686143, 7636996, '3583018', 8062989, '6478376', '3448322', '3696309', '687092', '7605365', '7447057', '3693314', '3825699', 7587869, '3854377', '4228668', '4235244', '5623768', '4916130', '5519236', '4158963', 8063050, '3858025', '3381743', '3617896', 7620707, 8194147, '3623236', '3932802', '7592299', '6308542', '6310209', 8038527, '7240869', '3905608', '4914382', '3810428', 7907475, '6355952', 7587995, '6861084', '6260709', 772285, '7049375', '7049785', '6982736', '7560201', 8005891, '4381039', '3761442', '3811859', '7272313', '7252857', '5671284', 8333595, '3390258', '7057742', '7490495', '7452981', '7482430', '3282276', '3468441', '7410445', '6652653', 8194367, '6554768', 7711044, '7705715', '7348824', '5718024', '8172734', '7073568', '6426432', '7674953', '7343814', '3893076', 8341879, '3945628', 8038789, '3380569', '4985808', '4206208', '8132676', '5569323', '7337899', '4821253', '3738547', '6509039', '3917094', '4715296', '5562425', '3662528', '6587959', '3734014', 8243685, '7416900', '7048101', '7480728', 8178166, 7686647, 7637498, 8178170, '6653429', '7623118', '7512876', '4897901', '3675904', '3603645', 7621153, '7301825', 7801390, 7727668, '3875476', '7269217', '6312759', '7000040', '7000678', '7209287', '7542832', '7587713', '6475611', '3478343', '755755', '7831665', '6303626', '7110003', '3679680', '7701774', 7604858, '6276052', '3924183', '5287572', '7255822', 8129187, '1295910', '6260800', '7556333', '3276052', '7326725', 7793338, '7047556', '5678205', '7057799', '3493002', '7638954', 7678691, '7190642', '3403738', 7621367, 7719675, 8145661, 8342290, '518063', 8194841, '7248299', '7644033', '7006024', 8194855, '7577402', '7155223', '6883585', 7670590, '6646722', 8039240, 8317771, '5604021', 8031058, 8055636, 7662426, '4331071', '7242650', '7417032', '6069424', '5536902', 7613304, '3954989', 7605124, '8031023', '7075239', 8260513, '6902809', 7678892, '3642275', '5079829', '3826686', '5159727', '433606', '5547468', 8350653, '701512', '7292483', '8289678', '6335056', '6957730', 8260569, '6357846', '7361502', '3762824', 8162285, '3357390', '4572105', '7595625', '8321835', '5271486', '5473483', '7588005', '3690522', '7288377', '7440730', '3368464', '7508348', 8031289, 8031291, 7793723, '4157180', 8277076, 7588953, '3772944', 8014948, 7793766, '4509764', '7435368', 8260728, '7501700', '3875922', 7629961, '6839758', '7143658', '7162916', '7159325', 8047765, '7227684', 7679136, 8260769, 8244388, '4214638', '3776150', '498489', '6582506', '7701043', '8163811', '8161255', '7420048', '7280755', '3884429', '3325174', '3680215', '6428154', '7510950', '4466929', '6648364', '7459249', 8277264, '4353743', '3638269', '3869769', '6581631', 7671082, '707863', '567031', '5339647', '6685131', 7695693, '4394395', '3685114', '3824239', '5678622', 8121706, '7782379', '3924070', '6641191', '3629578', '3690151', 7613845, '3321974', '5441452', '7676733', '3781345', '7594625', '7160222', '7767742', '3639389', '3784929', '347591', '3860515', 8261095, 8220136, '6239374', '3648873', '7479814', 8138249, '3846019', 7802385, '7508462', '3919256', '6348421', '3657751', '3643752', '7501258', '5718076', '4606956', '5172850', '6337154', '6384701', '6296128', '3324702', 7622219, 8203854, '4749925', '6691420', '3989026', '1263629', 8203879, '5640002', '493729', '5609630', '8135158', '5611066', '3856910', 8162955, '3472635', '7352609', '7520967', '6245193', 8031899, 8171175, '6432368', '5554550', '7710461', 8302272, '7017404', '7279847', '7193755', '5203292', 7605977, '7060800', '8237723', '630920', 8228583, 8154856, '3627897', '7097549', '7202193', '3597297', '6146877', 7671550, '6386278', '3917261', '3827905', '7169833', '3624098', '3723778', '5571848', '7806589', '7363742', '3640086', 7909173, '3702097', '3756797', '3727784', '7224890', '7536431', '7512315', 7679826, '7060803', '6854521', '3620492', 7761767, '3730372', '7318140', '4941233', '7276523', '3478353', '6064206', '7624617', '440789', '3996673', '6445672', '6318260', '8148757', 7696307, '498048', '4702888', 8351695, '7632111', '3360619', 7802852, '6558863', '5088921', '7450401', 8040437, '3655703', '4459196', '7447454', '6513000', 7663621, '6615427', '741323', '3950800', '7134007', '3322027', '6448666', '6555910', '7702169', '681504', 7589921, '4499425', '3468481', '7103160', '7501493', 8163387, '3922011', '7617237', '566627', '3511619', 7630955, '4518065', 'F887456', '7138509', '6179870', '8053420', '7327127', '3675187', '5579478', '3287129', '6674575', '4360274', '6838911', '7292007', '3800205', '3918155', 8196297, '7081658', '7393600', '3570631', '7478345', '7824560', '4916448', '3753373', '7088565', '4612629', '5381897', '3979579', '410872', '3825922', '3926067', '3307161', 8261943, 7622969, '3791004', '4334670', '3950305', '7622273', '8223264', '3851155', '6360930', '7542343', 7614825, '7442019', '4834935', '7505012', '7587162', '6362876', '7308817', '6317371', 8253822, '7505837', '7319535', 7639440, '534611', '3598578', 8196517, '7457804', '4460012', '6810694', '3833650', 8335836, '7722764', 8163822, '6956570', '712221', '3959829', '3565704', '7309076', 8253952, '7069537', '3288885', '1284186', '560057', '7434863', 8262176, '7416551', '6155983', '414362', '6362155', '3828532', '7510123', '6437456', '7164654', '8353470', '3643667', 8270417, '7138016', '7343671', 8278640, '7116909', '6031546', '3680462', '7701923', 7623313, '4361107', 8327838, '5004850', '3807681', 8344228, '7139681', '7109271', '6531467', '7441849', '6196788', '3839730', '7564497', 8196822, 8139481, '4603665', 832220, '5135066', '3967008', '7435893', '7617098', '7898706', '3974525', 7721716, '6309215', 8123142, '3627291', '3692182', 8311575, '7712072', 8205088, 8221478, 8164140, '6818087', '3936970', '3877184', '7255049', '3986230', '7590437', '3993480', 7590773, '7247429', '3591463', '4195772', '7083006', '395907', '3830779', '7062038', '6655011', '6434588', '3948103', '5681984', '7489079', '3560033', '3442831', '8231926', 8156080, '7420378', '7027190', 8197067, '7193298', '7226827', '4602040', 8147952, '3640459', '3498608', 8238091, '8038435', 7918605, '8297774', '3824187', 8287255, '6374570', '393235', '3488775', '7537541', '8215644', '3926459', 8229950, '7419125', '7457139', '3642553', '7364735', '7225542', '7456758', '8034203', 8238169, '3740964', 7705702, '7760362', '7700249', '5547298', 7656559, '3931533', '6775443', '3663752', '3800887', '3852050', '7202591', '4682681', 7787669, '389713', '7597672', '3725487', '3847137', '7644457', '6343679', '7161248', '7476397', '3627026', '6904908', 7689492, '7646177', '3866445', 8197406, 7681310, '3640715', 7607586, '4221648', 7615783, '3493144', '7070748', 7632178, 7623987, 8262969, '7034016', 8164670, 8131909, '7074412', 8164689, '5121857', '4182414', '7153423', '7568499', '3384995', '5560104', '3869965', '4635614', '3781598', '3490401', '3867797', '7667492', 7607704, 8164763, '6800208', '7249715', '7443844', '6761020', '3542652', 8181176, '6337751', '6569335', '7437806', '7700069', '6353518', 808407, '7599459', '3957443', '7024023', '7536212', '7196943', '6442587', '3662615', 7722501, '4736571', 7755294, '6257640', 7697957, '5547934', 8345143, '5242983', '4115308', 7632443, '7504697', '649869', 7927372, '4998633', '3792458', '6451835', '7580456', '3890736', '493674', '4652648', '7461323', '7229922', '7439563', '6267961', '7436834', '3620770', '7244619', 8132280, '3423659', '3991781', '3569771', 7591622, '4510132', '8043100', 7902938, '7143630', '7272270', '5975541', 8287998, '7369126', '7435355', '5669043', 7649036, 8050448, 8206097, 8337177, '5519041', '8086996', '7450604', '5676466', '3602090', '7301800', '4348122', '6240615', '7441999', '4915480', 7599935, '8131260', '4978550', '7457152', '5582910', '3652929', '7769408', '3648067', '6309621', 8034142, '5313482', '4101052', 7616362, '5328169', '678800', '7193413', 8132486, '7457223', 8181643, '7436085', '6054690', '8111835', '4097378', '7344345', 8050652, 8239071, 8108004, '737171', 8189929, '7350638', '6483653', '6017347', '3880161', '3819519', '3638095', '3863059', '4237763', '4773130', '7299195', '3985623', '3854381', '3537287', '6105006', '4790008', '7465929', '6417111', '441588', '3842137', '5087708', '5594520', '7428240', 7821404, 7673950, '8330825', '7621830', '7189468', '4707969', '3595323', '571525', '700731', '4376715', '3804081', 7895201, '3701680', '4596002', 7657637, 7682214, '4937440', 8042668, 7764142, 8239297, 7649481, '3852016', '3799646', '7136060', '3484823', 7624941, '7576101', '8333688', '6918221', 784673, 8337698, '4824366', 8321332, '4562338', 8321335, '3440485', '3609699', 7666043, '730547', 833932, '5409453', '5143402', '3709579', '4338514', 8059301, '7600743', '5104466', '7518596', '7257004', '6505574', 8190411, '6845428', '4752273', '6746703', '7198627', '7217393', '3564312', '7450387', '7288328', '3380703', 7584274, 817695, 8157727, '746163', '3860627', '6583950', '7143210', '7291547', '8018314', '6326445', '4847808', '3665501', 8321620, '7467838', '3928457', 7723614, '7065897', '4319262', 7772776, '7929008', '7436189', '3982739', '7386000', '6278474', 7625350, '6014028', '806024', '7599031', '7158575', '7179199', 8190629, '7169301', '4584925', '7715802', '7248563', 8346293, 8190643, '4002771', '384378', '3688728', 8010434, '4589065', '5535766', '3977470', '4744968', 8198874, '7436540', '6092288', 8043242, 8321770, '4474087', '3886322', '5675547', 8321795, 8157959, 7617288, '5608811', '7298609', 8108815, '3724941', '590259', 8059673, 8346394, '7026071', '3622569', 8059698, 8059705, 8321850, 7895870, '4263438', '5679751', 8321863, 7707468, 785228, 8182609, '5419840', '7333283', 7789402, '4794330', 8043356, '3430515', 7666542, 7699312, '7288247', '3874521', '3888293', '4607201', '6263418', '3772350', '3754166', '7085437', '6174481', '3388904', 7797664, '7428135', 8338341, 7625641, '3745870', '3449932', '7364347', '7360872', '7679040', '6124808', '7206471', '6088226', '6866973', '3952110', '3943175', '3775459', '7902747', '7210471', '6361947', '7176602', '3546847', '6147608', '5553661', '7515651', 7724066, '4451746', 826414, '7322931', '6461363', '5107962', 7691318, 8133687, '7455745', '7161913', '3907789', 8141896, '3854621', '3793125', '3608583', 7609449, '3758298', 8207470, '7581856', 7683190, '4072784', '6549999', '3727981', '4790340', 777366, '7641754', '3836484', 8010909, 7666853, '7378216', 8002751, '3492818', '7440628', '4067669', '7108112', '3776488', '4774921', '8326965', '7401610', '7405784', '4337147', '6625638', '8160338', '4428382', 7699694, '4229547', '6540193', '3425861', 7789854, '4921032', '6180085', '7769131', '7714864', '7336874', '7223731', '3636666', '7486226', 7699818, '7408401', '8010484', '6487660', 8068477, 8134016, '7555043', '8133985', '3597289', '3712357', '3591253', '8158803', '3593845', '6853859', 8043936, '7551549', '4174585', 7699896, 8043971, 7617994, '4788588', '517478', '7071484', '7106989', '4814290', '6526832', '3941382', '6487527', '3596308', '7510286', '3792631', '4095852', 8199713, 8052260, '3338998', '6292031', '5524802', '7244869', '4036923', '730644', '3775921', 8060483, '4236914', '5572520', '7080814', 7700041, '3756881', '6329175', '5238087', '7568281', '3796736', 8330845, '7437676', 8281711, 7814771, '7253050', '4849853', '5143899', '7434686', 8158883, 8052399, '3610937', '3973874', 8347326, 7700159, 8060611, '6515139', '7586509', '6375869', '4842002', '3825279', '6249044', '6687915', '423930', '6639396', '5582797', '4468797', '7069374', '3639431', '3763953', 8060669, '7097571', '7276614', '4398430', '3299749', '6438540', '7001939', '3872260', '7568081', 8339248, '4691193', 8322871, '4406592', '3860595', 8224581, '708727', '4913305', '7400254', 81746, 7700311, '7288096', '7161289', '7150931', 8142694, 8322919, '8215247', '3548541', '5628064', 8241026, '5514920', '3739783', '5707714', '7012059', '3761548', '5590837', '3784270', '7267419', '4634608', 8224708, 8159176, '3753091', '3853965', 8290255, 8069071, '6160350', '5653434', '7283526', 8298460, '7017189', 8044518, 7725049, '3848393'}\n"
     ]
    }
   ],
   "source": [
    "# all = set(ccsr_first_scz_diagnoses.PrimaryMrn)\n",
    "# ccsr = set(ccsr_first_scz_diagnoses_clean.PrimaryMrn)\n",
    "# missing = all - ccsr\n",
    "# print(len(missing), missing)"
   ],
   "metadata": {
    "collapsed": false,
    "pycharm": {
     "name": "#%%\n"
    }
   }
  },
  {
   "cell_type": "code",
   "execution_count": 104,
   "outputs": [],
   "source": [
    "pd.DataFrame.to_csv(ccsr_first_scz_diagnoses_clean, \"/Users/valena17/psych_nlp/data/clean_ccsr_scz_patients.csv\",index = False)"
   ],
   "metadata": {
    "collapsed": false,
    "pycharm": {
     "name": "#%%\n"
    }
   }
  },
  {
   "cell_type": "code",
   "execution_count": 105,
   "outputs": [],
   "source": [
    "ccsr_first_scz_diagnoses_clean['VisitDate'] = pd.to_datetime(ccsr_first_scz_diagnoses_clean['VisitDate'])\n",
    "\n",
    "def before_diagnoses(group):\n",
    "    # date = group[group['CCSR_code'] == 'Schizophrenia spectrum and other psychotic disorders']['VisitDate']\n",
    "    date_data = group[group['CCSR_code'] == 'Schizophrenia spectrum and other psychotic disorders']\n",
    "    date = date_data['VisitDate'].loc[date_data.index[0]]\n",
    "    before_data = group[group['VisitDate'] <= date]\n",
    "    return before_data\n",
    "\n",
    "clean_schizo_patients_before_diagnoses = ccsr_first_scz_diagnoses_clean.groupby('PrimaryMrn').apply(lambda group: before_diagnoses(group))\n",
    "# clean_schizo_patients_before_diagnoses.head(50)\n",
    "# clean_ccsr_schizo_patients2.groupby('PrimaryMrn').apply(lambda group: before_diagnoses(group))"
   ],
   "metadata": {
    "collapsed": false,
    "pycharm": {
     "name": "#%%\n"
    }
   }
  },
  {
   "cell_type": "code",
   "execution_count": 106,
   "outputs": [
    {
     "data": {
      "text/plain": "                  PrimaryMrn  EncounterKey           VisitDate  AgeAtVisit  \\\nPrimaryMrn                                                                   \n1003157    190       1003157      10026992 2009-02-02 00:00:00        49.0   \n           0         1003157      10194062 2011-07-20 18:54:00        52.0   \n           10        1003157      12589140 2011-11-30 00:00:00        52.0   \n           70        1003157     251130954 2012-02-22 00:00:00        52.0   \n1003377    144       1003377     136471680 2019-07-26 00:00:00        54.0   \n...                      ...           ...                 ...         ...   \nK156926    824130    K156926     310672084 2022-10-18 00:00:00        29.0   \nK161108    726514    K161108     313677350 2022-11-29 00:00:00        46.0   \nV724454    888992    V724454     143056795 2020-01-30 17:01:00        63.0   \nX300004    726828    X300004      76843447 2018-03-10 02:45:00        58.0   \n           819701    X300004     254531792 2018-06-13 00:00:00        58.0   \n\n                                 VisitType  VisitType2   Value  \\\nPrimaryMrn                                                       \n1003157    190                Office Visit  Outpatient   F32.A   \n           0            Hospital Encounter   Inpatient     F39   \n           10      Psych Conf Office Visit   Recurring  F19.10   \n           70                 Office Visit  Outpatient   F25.9   \n1003377    144                Office Visit  Outpatient  F31.32   \n...                                    ...         ...     ...   \nK156926    824130             Office Visit   Recurring   F25.0   \nK161108    726514             Office Visit   Recurring     F29   \nV724454    888992       Hospital Encounter   Emergency   F25.9   \nX300004    726828       Hospital Encounter   Inpatient   F32.A   \n           819701             Office Visit  Outpatient   F25.1   \n\n                                                       DisplayString  \\\nPrimaryMrn                                                             \n1003157    190                               Depression, unspecified   \n           0                   Unspecified mood (affective) disorder   \n           10      Other psychoactive substance abuse, uncomplicated   \n           70                  Schizoaffective disorder, unspecified   \n1003377    144     Bipolar disorder, current episode depressed, m...   \n...                                                              ...   \nK156926    824130             Schizoaffective disorder, bipolar type   \nK161108    726514  Unspecified psychosis not due to a substance o...   \nV724454    888992              Schizoaffective disorder, unspecified   \nX300004    726828                            Depression, unspecified   \n           819701          Schizoaffective disorder, depressive type   \n\n                     PayorFinancialClass ProviderSex        ProviderType  \\\nPrimaryMrn                                                                 \n1003157    190                  Self-Pay        Male           Physician   \n           0                    Self-Pay        Male           Physician   \n           10                   Self-Pay      Female  Nurse Practitioner   \n           70                        NaN         NaN        Organization   \n1003377    144                       NaN         NaN        Organization   \n...                                  ...         ...                 ...   \nK156926    824130  Medicaid Managed Care      Female            Resident   \nK161108    726514               Self-Pay      Female  Nurse Practitioner   \nV724454    888992  Medicaid Managed Care      Female           Physician   \nX300004    726828  Medicaid Managed Care      Female           Physician   \n           819701                    NaN         NaN                 NaN   \n\n                   ProviderSpecialty                                 dep_name  \\\nPrimaryMrn                                                                      \n1003157    190     INTERNAL MEDICINE                             X_IMA FIRM B   \n           0              PSYCHIATRY                                      C7N   \n           10             PSYCHIATRY       X_HOSP PSYCH ADULT KCC_DEACTIVATED   \n           70                    NaN                                      NaN   \n1003377    144                   NaN                                      NaN   \n...                              ...                                      ...   \nK156926    824130                NaN                    HOSP PSYCH ADULT 1160   \nK161108    726514         PSYCHIATRY                    HOSP PSYCH ADULT 1160   \nV724454    888992         PSYCHIATRY  X_EMERGENCY DEPT ST. LUKE'S_DEACTIVATED   \nX300004    726828         PSYCHIATRY                 X_WINSTON 7G_DEACTIVATED   \n           819701                NaN                                      NaN   \n\n                  DepartmentSpecialty  \\\nPrimaryMrn                              \n1003157    190      Internal Medicine   \n           0               Psychiatry   \n           10            Psych Shared   \n           70                     NaN   \n1003377    144                    NaN   \n...                               ...   \nK156926    824130        Psych Shared   \nK161108    726514        Psych Shared   \nV724454    888992  Emergency Medicine   \nX300004    726828                 NaN   \n           819701                 NaN   \n\n                                                           CCSR_code  \\\nPrimaryMrn                                                             \n1003157    190                                  Depressive disorders   \n           0          Other specified and unspecified mood disorders   \n           10            Other specified substance-related disorders   \n           70      Schizophrenia spectrum and other psychotic dis...   \n1003377    144                         Bipolar and related disorders   \n...                                                              ...   \nK156926    824130  Schizophrenia spectrum and other psychotic dis...   \nK161108    726514  Schizophrenia spectrum and other psychotic dis...   \nV724454    888992  Schizophrenia spectrum and other psychotic dis...   \nX300004    726828                               Depressive disorders   \n           819701  Schizophrenia spectrum and other psychotic dis...   \n\n                   scz_condition  \nPrimaryMrn                        \n1003157    190                 0  \n           0                   0  \n           10                  0  \n           70                  1  \n1003377    144                 0  \n...                          ...  \nK156926    824130              1  \nK161108    726514              1  \nV724454    888992              1  \nX300004    726828              0  \n           819701              1  \n\n[32683 rows x 16 columns]",
      "text/html": "<div>\n<style scoped>\n    .dataframe tbody tr th:only-of-type {\n        vertical-align: middle;\n    }\n\n    .dataframe tbody tr th {\n        vertical-align: top;\n    }\n\n    .dataframe thead th {\n        text-align: right;\n    }\n</style>\n<table border=\"1\" class=\"dataframe\">\n  <thead>\n    <tr style=\"text-align: right;\">\n      <th></th>\n      <th></th>\n      <th>PrimaryMrn</th>\n      <th>EncounterKey</th>\n      <th>VisitDate</th>\n      <th>AgeAtVisit</th>\n      <th>VisitType</th>\n      <th>VisitType2</th>\n      <th>Value</th>\n      <th>DisplayString</th>\n      <th>PayorFinancialClass</th>\n      <th>ProviderSex</th>\n      <th>ProviderType</th>\n      <th>ProviderSpecialty</th>\n      <th>dep_name</th>\n      <th>DepartmentSpecialty</th>\n      <th>CCSR_code</th>\n      <th>scz_condition</th>\n    </tr>\n    <tr>\n      <th>PrimaryMrn</th>\n      <th></th>\n      <th></th>\n      <th></th>\n      <th></th>\n      <th></th>\n      <th></th>\n      <th></th>\n      <th></th>\n      <th></th>\n      <th></th>\n      <th></th>\n      <th></th>\n      <th></th>\n      <th></th>\n      <th></th>\n      <th></th>\n      <th></th>\n    </tr>\n  </thead>\n  <tbody>\n    <tr>\n      <th rowspan=\"4\" valign=\"top\">1003157</th>\n      <th>190</th>\n      <td>1003157</td>\n      <td>10026992</td>\n      <td>2009-02-02 00:00:00</td>\n      <td>49.0</td>\n      <td>Office Visit</td>\n      <td>Outpatient</td>\n      <td>F32.A</td>\n      <td>Depression, unspecified</td>\n      <td>Self-Pay</td>\n      <td>Male</td>\n      <td>Physician</td>\n      <td>INTERNAL MEDICINE</td>\n      <td>X_IMA FIRM B</td>\n      <td>Internal Medicine</td>\n      <td>Depressive disorders</td>\n      <td>0</td>\n    </tr>\n    <tr>\n      <th>0</th>\n      <td>1003157</td>\n      <td>10194062</td>\n      <td>2011-07-20 18:54:00</td>\n      <td>52.0</td>\n      <td>Hospital Encounter</td>\n      <td>Inpatient</td>\n      <td>F39</td>\n      <td>Unspecified mood (affective) disorder</td>\n      <td>Self-Pay</td>\n      <td>Male</td>\n      <td>Physician</td>\n      <td>PSYCHIATRY</td>\n      <td>C7N</td>\n      <td>Psychiatry</td>\n      <td>Other specified and unspecified mood disorders</td>\n      <td>0</td>\n    </tr>\n    <tr>\n      <th>10</th>\n      <td>1003157</td>\n      <td>12589140</td>\n      <td>2011-11-30 00:00:00</td>\n      <td>52.0</td>\n      <td>Psych Conf Office Visit</td>\n      <td>Recurring</td>\n      <td>F19.10</td>\n      <td>Other psychoactive substance abuse, uncomplicated</td>\n      <td>Self-Pay</td>\n      <td>Female</td>\n      <td>Nurse Practitioner</td>\n      <td>PSYCHIATRY</td>\n      <td>X_HOSP PSYCH ADULT KCC_DEACTIVATED</td>\n      <td>Psych Shared</td>\n      <td>Other specified substance-related disorders</td>\n      <td>0</td>\n    </tr>\n    <tr>\n      <th>70</th>\n      <td>1003157</td>\n      <td>251130954</td>\n      <td>2012-02-22 00:00:00</td>\n      <td>52.0</td>\n      <td>Office Visit</td>\n      <td>Outpatient</td>\n      <td>F25.9</td>\n      <td>Schizoaffective disorder, unspecified</td>\n      <td>NaN</td>\n      <td>NaN</td>\n      <td>Organization</td>\n      <td>NaN</td>\n      <td>NaN</td>\n      <td>NaN</td>\n      <td>Schizophrenia spectrum and other psychotic dis...</td>\n      <td>1</td>\n    </tr>\n    <tr>\n      <th>1003377</th>\n      <th>144</th>\n      <td>1003377</td>\n      <td>136471680</td>\n      <td>2019-07-26 00:00:00</td>\n      <td>54.0</td>\n      <td>Office Visit</td>\n      <td>Outpatient</td>\n      <td>F31.32</td>\n      <td>Bipolar disorder, current episode depressed, m...</td>\n      <td>NaN</td>\n      <td>NaN</td>\n      <td>Organization</td>\n      <td>NaN</td>\n      <td>NaN</td>\n      <td>NaN</td>\n      <td>Bipolar and related disorders</td>\n      <td>0</td>\n    </tr>\n    <tr>\n      <th>...</th>\n      <th>...</th>\n      <td>...</td>\n      <td>...</td>\n      <td>...</td>\n      <td>...</td>\n      <td>...</td>\n      <td>...</td>\n      <td>...</td>\n      <td>...</td>\n      <td>...</td>\n      <td>...</td>\n      <td>...</td>\n      <td>...</td>\n      <td>...</td>\n      <td>...</td>\n      <td>...</td>\n      <td>...</td>\n    </tr>\n    <tr>\n      <th>K156926</th>\n      <th>824130</th>\n      <td>K156926</td>\n      <td>310672084</td>\n      <td>2022-10-18 00:00:00</td>\n      <td>29.0</td>\n      <td>Office Visit</td>\n      <td>Recurring</td>\n      <td>F25.0</td>\n      <td>Schizoaffective disorder, bipolar type</td>\n      <td>Medicaid Managed Care</td>\n      <td>Female</td>\n      <td>Resident</td>\n      <td>NaN</td>\n      <td>HOSP PSYCH ADULT 1160</td>\n      <td>Psych Shared</td>\n      <td>Schizophrenia spectrum and other psychotic dis...</td>\n      <td>1</td>\n    </tr>\n    <tr>\n      <th>K161108</th>\n      <th>726514</th>\n      <td>K161108</td>\n      <td>313677350</td>\n      <td>2022-11-29 00:00:00</td>\n      <td>46.0</td>\n      <td>Office Visit</td>\n      <td>Recurring</td>\n      <td>F29</td>\n      <td>Unspecified psychosis not due to a substance o...</td>\n      <td>Self-Pay</td>\n      <td>Female</td>\n      <td>Nurse Practitioner</td>\n      <td>PSYCHIATRY</td>\n      <td>HOSP PSYCH ADULT 1160</td>\n      <td>Psych Shared</td>\n      <td>Schizophrenia spectrum and other psychotic dis...</td>\n      <td>1</td>\n    </tr>\n    <tr>\n      <th>V724454</th>\n      <th>888992</th>\n      <td>V724454</td>\n      <td>143056795</td>\n      <td>2020-01-30 17:01:00</td>\n      <td>63.0</td>\n      <td>Hospital Encounter</td>\n      <td>Emergency</td>\n      <td>F25.9</td>\n      <td>Schizoaffective disorder, unspecified</td>\n      <td>Medicaid Managed Care</td>\n      <td>Female</td>\n      <td>Physician</td>\n      <td>PSYCHIATRY</td>\n      <td>X_EMERGENCY DEPT ST. LUKE'S_DEACTIVATED</td>\n      <td>Emergency Medicine</td>\n      <td>Schizophrenia spectrum and other psychotic dis...</td>\n      <td>1</td>\n    </tr>\n    <tr>\n      <th rowspan=\"2\" valign=\"top\">X300004</th>\n      <th>726828</th>\n      <td>X300004</td>\n      <td>76843447</td>\n      <td>2018-03-10 02:45:00</td>\n      <td>58.0</td>\n      <td>Hospital Encounter</td>\n      <td>Inpatient</td>\n      <td>F32.A</td>\n      <td>Depression, unspecified</td>\n      <td>Medicaid Managed Care</td>\n      <td>Female</td>\n      <td>Physician</td>\n      <td>PSYCHIATRY</td>\n      <td>X_WINSTON 7G_DEACTIVATED</td>\n      <td>NaN</td>\n      <td>Depressive disorders</td>\n      <td>0</td>\n    </tr>\n    <tr>\n      <th>819701</th>\n      <td>X300004</td>\n      <td>254531792</td>\n      <td>2018-06-13 00:00:00</td>\n      <td>58.0</td>\n      <td>Office Visit</td>\n      <td>Outpatient</td>\n      <td>F25.1</td>\n      <td>Schizoaffective disorder, depressive type</td>\n      <td>NaN</td>\n      <td>NaN</td>\n      <td>NaN</td>\n      <td>NaN</td>\n      <td>NaN</td>\n      <td>NaN</td>\n      <td>Schizophrenia spectrum and other psychotic dis...</td>\n      <td>1</td>\n    </tr>\n  </tbody>\n</table>\n<p>32683 rows × 16 columns</p>\n</div>"
     },
     "execution_count": 106,
     "metadata": {},
     "output_type": "execute_result"
    }
   ],
   "source": [
    "clean_schizo_patients_before_diagnoses #40488 first, 32683 on 1/23/23 --> because i removed mrns without race/gender?"
   ],
   "metadata": {
    "collapsed": false,
    "pycharm": {
     "name": "#%%\n"
    }
   }
  },
  {
   "cell_type": "code",
   "execution_count": 107,
   "outputs": [
    {
     "data": {
      "text/plain": "                  PrimaryMrn  EncounterKey           VisitDate  AgeAtVisit  \\\nPrimaryMrn                                                                   \n1003157    70        1003157     251130954 2012-02-22 00:00:00        52.0   \n           62        1003157     109266117 2018-02-13 00:00:00        58.0   \n1003377    89        1003377     169200845 2019-11-15 00:00:00        55.0   \n1003711    69        1003711     256957683 2014-11-14 00:00:00        41.0   \n           202       1003711     256197630 2014-11-28 00:00:00        41.0   \n...                      ...           ...                 ...         ...   \nK161108    726514    K161108     313677350 2022-11-29 00:00:00        46.0   \nV724454    888992    V724454     143056795 2020-01-30 17:01:00        63.0   \n           726827    V724454     283397750 2021-11-25 22:34:00        65.0   \n           699006    V724454     312312283 2022-10-21 17:52:00        66.0   \nX300004    819701    X300004     254531792 2018-06-13 00:00:00        58.0   \n\n                            VisitType  VisitType2    Value  \\\nPrimaryMrn                                                   \n1003157    70            Office Visit  Outpatient    F25.9   \n           62            Office Visit  Outpatient  F17.210   \n1003377    89            Office Visit  Outpatient    F20.9   \n1003711    69            Office Visit  Outpatient      F29   \n           202           Office Visit  Outpatient   F31.10   \n...                               ...         ...      ...   \nK161108    726514        Office Visit   Recurring      F29   \nV724454    888992  Hospital Encounter   Emergency    F25.9   \n           726827  Hospital Encounter   Emergency      F69   \n           699006  Hospital Encounter   Emergency   F11.10   \nX300004    819701        Office Visit  Outpatient    F25.1   \n\n                                                       DisplayString  \\\nPrimaryMrn                                                             \n1003157    70                  Schizoaffective disorder, unspecified   \n           62         Nicotine dependence, cigarettes, uncomplicated   \n1003377    89                             Schizophrenia, unspecified   \n1003711    69      Unspecified psychosis not due to a substance o...   \n           202     Bipolar disorder, current episode manic withou...   \n...                                                              ...   \nK161108    726514  Unspecified psychosis not due to a substance o...   \nV724454    888992              Schizoaffective disorder, unspecified   \n           726827  Unspecified disorder of adult personality and ...   \n           699006                        Opioid abuse, uncomplicated   \nX300004    819701          Schizoaffective disorder, depressive type   \n\n                     PayorFinancialClass ProviderSex        ProviderType  \\\nPrimaryMrn                                                                 \n1003157    70                        NaN         NaN        Organization   \n           62                        NaN        Male           Physician   \n1003377    89                        NaN         NaN        Organization   \n1003711    69                        NaN         NaN        Organization   \n           202                       NaN         NaN        Organization   \n...                                  ...         ...                 ...   \nK161108    726514               Self-Pay      Female  Nurse Practitioner   \nV724454    888992  Medicaid Managed Care      Female           Physician   \n           726827            Medicare MS        Male           Physician   \n           699006            Medicare MS      Female           Physician   \nX300004    819701                    NaN         NaN                 NaN   \n\n                    ProviderSpecialty  \\\nPrimaryMrn                              \n1003157    70                     NaN   \n           62         CHEST RADIOLOGY   \n1003377    89                     NaN   \n1003711    69                     NaN   \n           202                    NaN   \n...                               ...   \nK161108    726514          PSYCHIATRY   \nV724454    888992          PSYCHIATRY   \n           726827          PSYCHIATRY   \n           699006  Emergency Medicine   \nX300004    819701                 NaN   \n\n                                                  dep_name  \\\nPrimaryMrn                                                   \n1003157    70                                          NaN   \n           62                                          NaN   \n1003377    89                                          NaN   \n1003711    69                                          NaN   \n           202                                         NaN   \n...                                                    ...   \nK161108    726514                    HOSP PSYCH ADULT 1160   \nV724454    888992  X_EMERGENCY DEPT ST. LUKE'S_DEACTIVATED   \n           726827                     EMERGENCY DEPARTMENT   \n           699006               EMERGENCY DEPT MORNINGSIDE   \nX300004    819701                                      NaN   \n\n                  DepartmentSpecialty  \\\nPrimaryMrn                              \n1003157    70                     NaN   \n           62                     NaN   \n1003377    89                     NaN   \n1003711    69                     NaN   \n           202                    NaN   \n...                               ...   \nK161108    726514        Psych Shared   \nV724454    888992  Emergency Medicine   \n           726827  Emergency Medicine   \n           699006  Emergency Medicine   \nX300004    819701                 NaN   \n\n                                                           CCSR_code  \\\nPrimaryMrn                                                             \n1003157    70      Schizophrenia spectrum and other psychotic dis...   \n           62                              Tobacco-related disorders   \n1003377    89      Schizophrenia spectrum and other psychotic dis...   \n1003711    69      Schizophrenia spectrum and other psychotic dis...   \n           202                         Bipolar and related disorders   \n...                                                              ...   \nK161108    726514  Schizophrenia spectrum and other psychotic dis...   \nV724454    888992  Schizophrenia spectrum and other psychotic dis...   \n           726827                              Personality disorders   \n           699006                           Opioid-related disorders   \nX300004    819701  Schizophrenia spectrum and other psychotic dis...   \n\n                   scz_condition  \nPrimaryMrn                        \n1003157    70                  1  \n           62                  0  \n1003377    89                  1  \n1003711    69                  1  \n           202                 0  \n...                          ...  \nK161108    726514              1  \nV724454    888992              1  \n           726827              0  \n           699006              0  \nX300004    819701              1  \n\n[35213 rows x 16 columns]",
      "text/html": "<div>\n<style scoped>\n    .dataframe tbody tr th:only-of-type {\n        vertical-align: middle;\n    }\n\n    .dataframe tbody tr th {\n        vertical-align: top;\n    }\n\n    .dataframe thead th {\n        text-align: right;\n    }\n</style>\n<table border=\"1\" class=\"dataframe\">\n  <thead>\n    <tr style=\"text-align: right;\">\n      <th></th>\n      <th></th>\n      <th>PrimaryMrn</th>\n      <th>EncounterKey</th>\n      <th>VisitDate</th>\n      <th>AgeAtVisit</th>\n      <th>VisitType</th>\n      <th>VisitType2</th>\n      <th>Value</th>\n      <th>DisplayString</th>\n      <th>PayorFinancialClass</th>\n      <th>ProviderSex</th>\n      <th>ProviderType</th>\n      <th>ProviderSpecialty</th>\n      <th>dep_name</th>\n      <th>DepartmentSpecialty</th>\n      <th>CCSR_code</th>\n      <th>scz_condition</th>\n    </tr>\n    <tr>\n      <th>PrimaryMrn</th>\n      <th></th>\n      <th></th>\n      <th></th>\n      <th></th>\n      <th></th>\n      <th></th>\n      <th></th>\n      <th></th>\n      <th></th>\n      <th></th>\n      <th></th>\n      <th></th>\n      <th></th>\n      <th></th>\n      <th></th>\n      <th></th>\n      <th></th>\n    </tr>\n  </thead>\n  <tbody>\n    <tr>\n      <th rowspan=\"2\" valign=\"top\">1003157</th>\n      <th>70</th>\n      <td>1003157</td>\n      <td>251130954</td>\n      <td>2012-02-22 00:00:00</td>\n      <td>52.0</td>\n      <td>Office Visit</td>\n      <td>Outpatient</td>\n      <td>F25.9</td>\n      <td>Schizoaffective disorder, unspecified</td>\n      <td>NaN</td>\n      <td>NaN</td>\n      <td>Organization</td>\n      <td>NaN</td>\n      <td>NaN</td>\n      <td>NaN</td>\n      <td>Schizophrenia spectrum and other psychotic dis...</td>\n      <td>1</td>\n    </tr>\n    <tr>\n      <th>62</th>\n      <td>1003157</td>\n      <td>109266117</td>\n      <td>2018-02-13 00:00:00</td>\n      <td>58.0</td>\n      <td>Office Visit</td>\n      <td>Outpatient</td>\n      <td>F17.210</td>\n      <td>Nicotine dependence, cigarettes, uncomplicated</td>\n      <td>NaN</td>\n      <td>Male</td>\n      <td>Physician</td>\n      <td>CHEST RADIOLOGY</td>\n      <td>NaN</td>\n      <td>NaN</td>\n      <td>Tobacco-related disorders</td>\n      <td>0</td>\n    </tr>\n    <tr>\n      <th>1003377</th>\n      <th>89</th>\n      <td>1003377</td>\n      <td>169200845</td>\n      <td>2019-11-15 00:00:00</td>\n      <td>55.0</td>\n      <td>Office Visit</td>\n      <td>Outpatient</td>\n      <td>F20.9</td>\n      <td>Schizophrenia, unspecified</td>\n      <td>NaN</td>\n      <td>NaN</td>\n      <td>Organization</td>\n      <td>NaN</td>\n      <td>NaN</td>\n      <td>NaN</td>\n      <td>Schizophrenia spectrum and other psychotic dis...</td>\n      <td>1</td>\n    </tr>\n    <tr>\n      <th rowspan=\"2\" valign=\"top\">1003711</th>\n      <th>69</th>\n      <td>1003711</td>\n      <td>256957683</td>\n      <td>2014-11-14 00:00:00</td>\n      <td>41.0</td>\n      <td>Office Visit</td>\n      <td>Outpatient</td>\n      <td>F29</td>\n      <td>Unspecified psychosis not due to a substance o...</td>\n      <td>NaN</td>\n      <td>NaN</td>\n      <td>Organization</td>\n      <td>NaN</td>\n      <td>NaN</td>\n      <td>NaN</td>\n      <td>Schizophrenia spectrum and other psychotic dis...</td>\n      <td>1</td>\n    </tr>\n    <tr>\n      <th>202</th>\n      <td>1003711</td>\n      <td>256197630</td>\n      <td>2014-11-28 00:00:00</td>\n      <td>41.0</td>\n      <td>Office Visit</td>\n      <td>Outpatient</td>\n      <td>F31.10</td>\n      <td>Bipolar disorder, current episode manic withou...</td>\n      <td>NaN</td>\n      <td>NaN</td>\n      <td>Organization</td>\n      <td>NaN</td>\n      <td>NaN</td>\n      <td>NaN</td>\n      <td>Bipolar and related disorders</td>\n      <td>0</td>\n    </tr>\n    <tr>\n      <th>...</th>\n      <th>...</th>\n      <td>...</td>\n      <td>...</td>\n      <td>...</td>\n      <td>...</td>\n      <td>...</td>\n      <td>...</td>\n      <td>...</td>\n      <td>...</td>\n      <td>...</td>\n      <td>...</td>\n      <td>...</td>\n      <td>...</td>\n      <td>...</td>\n      <td>...</td>\n      <td>...</td>\n      <td>...</td>\n    </tr>\n    <tr>\n      <th>K161108</th>\n      <th>726514</th>\n      <td>K161108</td>\n      <td>313677350</td>\n      <td>2022-11-29 00:00:00</td>\n      <td>46.0</td>\n      <td>Office Visit</td>\n      <td>Recurring</td>\n      <td>F29</td>\n      <td>Unspecified psychosis not due to a substance o...</td>\n      <td>Self-Pay</td>\n      <td>Female</td>\n      <td>Nurse Practitioner</td>\n      <td>PSYCHIATRY</td>\n      <td>HOSP PSYCH ADULT 1160</td>\n      <td>Psych Shared</td>\n      <td>Schizophrenia spectrum and other psychotic dis...</td>\n      <td>1</td>\n    </tr>\n    <tr>\n      <th rowspan=\"3\" valign=\"top\">V724454</th>\n      <th>888992</th>\n      <td>V724454</td>\n      <td>143056795</td>\n      <td>2020-01-30 17:01:00</td>\n      <td>63.0</td>\n      <td>Hospital Encounter</td>\n      <td>Emergency</td>\n      <td>F25.9</td>\n      <td>Schizoaffective disorder, unspecified</td>\n      <td>Medicaid Managed Care</td>\n      <td>Female</td>\n      <td>Physician</td>\n      <td>PSYCHIATRY</td>\n      <td>X_EMERGENCY DEPT ST. LUKE'S_DEACTIVATED</td>\n      <td>Emergency Medicine</td>\n      <td>Schizophrenia spectrum and other psychotic dis...</td>\n      <td>1</td>\n    </tr>\n    <tr>\n      <th>726827</th>\n      <td>V724454</td>\n      <td>283397750</td>\n      <td>2021-11-25 22:34:00</td>\n      <td>65.0</td>\n      <td>Hospital Encounter</td>\n      <td>Emergency</td>\n      <td>F69</td>\n      <td>Unspecified disorder of adult personality and ...</td>\n      <td>Medicare MS</td>\n      <td>Male</td>\n      <td>Physician</td>\n      <td>PSYCHIATRY</td>\n      <td>EMERGENCY DEPARTMENT</td>\n      <td>Emergency Medicine</td>\n      <td>Personality disorders</td>\n      <td>0</td>\n    </tr>\n    <tr>\n      <th>699006</th>\n      <td>V724454</td>\n      <td>312312283</td>\n      <td>2022-10-21 17:52:00</td>\n      <td>66.0</td>\n      <td>Hospital Encounter</td>\n      <td>Emergency</td>\n      <td>F11.10</td>\n      <td>Opioid abuse, uncomplicated</td>\n      <td>Medicare MS</td>\n      <td>Female</td>\n      <td>Physician</td>\n      <td>Emergency Medicine</td>\n      <td>EMERGENCY DEPT MORNINGSIDE</td>\n      <td>Emergency Medicine</td>\n      <td>Opioid-related disorders</td>\n      <td>0</td>\n    </tr>\n    <tr>\n      <th>X300004</th>\n      <th>819701</th>\n      <td>X300004</td>\n      <td>254531792</td>\n      <td>2018-06-13 00:00:00</td>\n      <td>58.0</td>\n      <td>Office Visit</td>\n      <td>Outpatient</td>\n      <td>F25.1</td>\n      <td>Schizoaffective disorder, depressive type</td>\n      <td>NaN</td>\n      <td>NaN</td>\n      <td>NaN</td>\n      <td>NaN</td>\n      <td>NaN</td>\n      <td>NaN</td>\n      <td>Schizophrenia spectrum and other psychotic dis...</td>\n      <td>1</td>\n    </tr>\n  </tbody>\n</table>\n<p>35213 rows × 16 columns</p>\n</div>"
     },
     "execution_count": 107,
     "metadata": {},
     "output_type": "execute_result"
    }
   ],
   "source": [
    "def after_diagnoses(group):\n",
    "    # date = group[group['CCSR_code'] == 'Schizophrenia spectrum and other psychotic disorders']['VisitDate']\n",
    "    date_data = group[group['CCSR_code'] == 'Schizophrenia spectrum and other psychotic disorders']\n",
    "    date = date_data['VisitDate'].loc[date_data.index[0]]\n",
    "    after_data = group[group['VisitDate'] >= date]\n",
    "    return after_data\n",
    "\n",
    "clean_schizo_patients_after_diagnoses = ccsr_first_scz_diagnoses_clean.groupby('PrimaryMrn').apply(lambda group: after_diagnoses(group))\n",
    "clean_schizo_patients_after_diagnoses"
   ],
   "metadata": {
    "collapsed": false,
    "pycharm": {
     "name": "#%%\n"
    }
   }
  },
  {
   "cell_type": "code",
   "execution_count": 108,
   "outputs": [
    {
     "data": {
      "text/plain": "      PrimaryMrn  EncounterKey           VisitDate  AgeAtVisit  \\\n0        1003157      10026992 2009-02-02 00:00:00        49.0   \n1        1003157      10194062 2011-07-20 18:54:00        52.0   \n2        1003157      12589140 2011-11-30 00:00:00        52.0   \n3        1003157     251130954 2012-02-22 00:00:00        52.0   \n4        1003157     109266117 2018-02-13 00:00:00        58.0   \n...          ...           ...                 ...         ...   \n47860    V724454     143056795 2020-01-30 17:01:00        63.0   \n47861    V724454     283397750 2021-11-25 22:34:00        65.0   \n47862    V724454     312312283 2022-10-21 17:52:00        66.0   \n47863    X300004      76843447 2018-03-10 02:45:00        58.0   \n47864    X300004     254531792 2018-06-13 00:00:00        58.0   \n\n                     VisitType  VisitType2    Value  \\\n0                 Office Visit  Outpatient    F32.A   \n1           Hospital Encounter   Inpatient      F39   \n2      Psych Conf Office Visit   Recurring   F19.10   \n3                 Office Visit  Outpatient    F25.9   \n4                 Office Visit  Outpatient  F17.210   \n...                        ...         ...      ...   \n47860       Hospital Encounter   Emergency    F25.9   \n47861       Hospital Encounter   Emergency      F69   \n47862       Hospital Encounter   Emergency   F11.10   \n47863       Hospital Encounter   Inpatient    F32.A   \n47864             Office Visit  Outpatient    F25.1   \n\n                                           DisplayString  \\\n0                                Depression, unspecified   \n1                  Unspecified mood (affective) disorder   \n2      Other psychoactive substance abuse, uncomplicated   \n3                  Schizoaffective disorder, unspecified   \n4         Nicotine dependence, cigarettes, uncomplicated   \n...                                                  ...   \n47860              Schizoaffective disorder, unspecified   \n47861  Unspecified disorder of adult personality and ...   \n47862                        Opioid abuse, uncomplicated   \n47863                            Depression, unspecified   \n47864          Schizoaffective disorder, depressive type   \n\n         PayorFinancialClass ProviderSex  ...  \\\n0                   Self-Pay        Male  ...   \n1                   Self-Pay        Male  ...   \n2                   Self-Pay      Female  ...   \n3                        NaN         NaN  ...   \n4                        NaN        Male  ...   \n...                      ...         ...  ...   \n47860  Medicaid Managed Care      Female  ...   \n47861            Medicare MS        Male  ...   \n47862            Medicare MS      Female  ...   \n47863  Medicaid Managed Care      Female  ...   \n47864                    NaN         NaN  ...   \n\n                                      dep_name DepartmentSpecialty  \\\n0                                 X_IMA FIRM B   Internal Medicine   \n1                                          C7N          Psychiatry   \n2           X_HOSP PSYCH ADULT KCC_DEACTIVATED        Psych Shared   \n3                                          NaN                 NaN   \n4                                          NaN                 NaN   \n...                                        ...                 ...   \n47860  X_EMERGENCY DEPT ST. LUKE'S_DEACTIVATED  Emergency Medicine   \n47861                     EMERGENCY DEPARTMENT  Emergency Medicine   \n47862               EMERGENCY DEPT MORNINGSIDE  Emergency Medicine   \n47863                 X_WINSTON 7G_DEACTIVATED                 NaN   \n47864                                      NaN                 NaN   \n\n                                               CCSR_code scz_condition  \\\n0                                   Depressive disorders             0   \n1         Other specified and unspecified mood disorders             0   \n2            Other specified substance-related disorders             0   \n3      Schizophrenia spectrum and other psychotic dis...             1   \n4                              Tobacco-related disorders             0   \n...                                                  ...           ...   \n47860  Schizophrenia spectrum and other psychotic dis...             1   \n47861                              Personality disorders             0   \n47862                           Opioid-related disorders             0   \n47863                               Depressive disorders             0   \n47864  Schizophrenia spectrum and other psychotic dis...             1   \n\n      AgeInYears   BirthDate  PreferredLanguage SexualOrientation  \\\n0             63  1959-02-26            English          Straight   \n1             63  1959-02-26            English          Straight   \n2             63  1959-02-26            English          Straight   \n3             63  1959-02-26            English          Straight   \n4             63  1959-02-26            English          Straight   \n...          ...         ...                ...               ...   \n47860         66  1956-03-25            English               NaN   \n47861         66  1956-03-25            English               NaN   \n47862         66  1956-03-25            English               NaN   \n47863         63  1960-01-20            English               NaN   \n47864         63  1960-01-20            English               NaN   \n\n      Merged_Gender      Race_2  \n0              Male  Other Race  \n1              Male  Other Race  \n2              Male  Other Race  \n3              Male  Other Race  \n4              Male  Other Race  \n...             ...         ...  \n47860          Male  Other Race  \n47861          Male  Other Race  \n47862          Male  Other Race  \n47863          Male       White  \n47864          Male       White  \n\n[47865 rows x 22 columns]",
      "text/html": "<div>\n<style scoped>\n    .dataframe tbody tr th:only-of-type {\n        vertical-align: middle;\n    }\n\n    .dataframe tbody tr th {\n        vertical-align: top;\n    }\n\n    .dataframe thead th {\n        text-align: right;\n    }\n</style>\n<table border=\"1\" class=\"dataframe\">\n  <thead>\n    <tr style=\"text-align: right;\">\n      <th></th>\n      <th>PrimaryMrn</th>\n      <th>EncounterKey</th>\n      <th>VisitDate</th>\n      <th>AgeAtVisit</th>\n      <th>VisitType</th>\n      <th>VisitType2</th>\n      <th>Value</th>\n      <th>DisplayString</th>\n      <th>PayorFinancialClass</th>\n      <th>ProviderSex</th>\n      <th>...</th>\n      <th>dep_name</th>\n      <th>DepartmentSpecialty</th>\n      <th>CCSR_code</th>\n      <th>scz_condition</th>\n      <th>AgeInYears</th>\n      <th>BirthDate</th>\n      <th>PreferredLanguage</th>\n      <th>SexualOrientation</th>\n      <th>Merged_Gender</th>\n      <th>Race_2</th>\n    </tr>\n  </thead>\n  <tbody>\n    <tr>\n      <th>0</th>\n      <td>1003157</td>\n      <td>10026992</td>\n      <td>2009-02-02 00:00:00</td>\n      <td>49.0</td>\n      <td>Office Visit</td>\n      <td>Outpatient</td>\n      <td>F32.A</td>\n      <td>Depression, unspecified</td>\n      <td>Self-Pay</td>\n      <td>Male</td>\n      <td>...</td>\n      <td>X_IMA FIRM B</td>\n      <td>Internal Medicine</td>\n      <td>Depressive disorders</td>\n      <td>0</td>\n      <td>63</td>\n      <td>1959-02-26</td>\n      <td>English</td>\n      <td>Straight</td>\n      <td>Male</td>\n      <td>Other Race</td>\n    </tr>\n    <tr>\n      <th>1</th>\n      <td>1003157</td>\n      <td>10194062</td>\n      <td>2011-07-20 18:54:00</td>\n      <td>52.0</td>\n      <td>Hospital Encounter</td>\n      <td>Inpatient</td>\n      <td>F39</td>\n      <td>Unspecified mood (affective) disorder</td>\n      <td>Self-Pay</td>\n      <td>Male</td>\n      <td>...</td>\n      <td>C7N</td>\n      <td>Psychiatry</td>\n      <td>Other specified and unspecified mood disorders</td>\n      <td>0</td>\n      <td>63</td>\n      <td>1959-02-26</td>\n      <td>English</td>\n      <td>Straight</td>\n      <td>Male</td>\n      <td>Other Race</td>\n    </tr>\n    <tr>\n      <th>2</th>\n      <td>1003157</td>\n      <td>12589140</td>\n      <td>2011-11-30 00:00:00</td>\n      <td>52.0</td>\n      <td>Psych Conf Office Visit</td>\n      <td>Recurring</td>\n      <td>F19.10</td>\n      <td>Other psychoactive substance abuse, uncomplicated</td>\n      <td>Self-Pay</td>\n      <td>Female</td>\n      <td>...</td>\n      <td>X_HOSP PSYCH ADULT KCC_DEACTIVATED</td>\n      <td>Psych Shared</td>\n      <td>Other specified substance-related disorders</td>\n      <td>0</td>\n      <td>63</td>\n      <td>1959-02-26</td>\n      <td>English</td>\n      <td>Straight</td>\n      <td>Male</td>\n      <td>Other Race</td>\n    </tr>\n    <tr>\n      <th>3</th>\n      <td>1003157</td>\n      <td>251130954</td>\n      <td>2012-02-22 00:00:00</td>\n      <td>52.0</td>\n      <td>Office Visit</td>\n      <td>Outpatient</td>\n      <td>F25.9</td>\n      <td>Schizoaffective disorder, unspecified</td>\n      <td>NaN</td>\n      <td>NaN</td>\n      <td>...</td>\n      <td>NaN</td>\n      <td>NaN</td>\n      <td>Schizophrenia spectrum and other psychotic dis...</td>\n      <td>1</td>\n      <td>63</td>\n      <td>1959-02-26</td>\n      <td>English</td>\n      <td>Straight</td>\n      <td>Male</td>\n      <td>Other Race</td>\n    </tr>\n    <tr>\n      <th>4</th>\n      <td>1003157</td>\n      <td>109266117</td>\n      <td>2018-02-13 00:00:00</td>\n      <td>58.0</td>\n      <td>Office Visit</td>\n      <td>Outpatient</td>\n      <td>F17.210</td>\n      <td>Nicotine dependence, cigarettes, uncomplicated</td>\n      <td>NaN</td>\n      <td>Male</td>\n      <td>...</td>\n      <td>NaN</td>\n      <td>NaN</td>\n      <td>Tobacco-related disorders</td>\n      <td>0</td>\n      <td>63</td>\n      <td>1959-02-26</td>\n      <td>English</td>\n      <td>Straight</td>\n      <td>Male</td>\n      <td>Other Race</td>\n    </tr>\n    <tr>\n      <th>...</th>\n      <td>...</td>\n      <td>...</td>\n      <td>...</td>\n      <td>...</td>\n      <td>...</td>\n      <td>...</td>\n      <td>...</td>\n      <td>...</td>\n      <td>...</td>\n      <td>...</td>\n      <td>...</td>\n      <td>...</td>\n      <td>...</td>\n      <td>...</td>\n      <td>...</td>\n      <td>...</td>\n      <td>...</td>\n      <td>...</td>\n      <td>...</td>\n      <td>...</td>\n      <td>...</td>\n    </tr>\n    <tr>\n      <th>47860</th>\n      <td>V724454</td>\n      <td>143056795</td>\n      <td>2020-01-30 17:01:00</td>\n      <td>63.0</td>\n      <td>Hospital Encounter</td>\n      <td>Emergency</td>\n      <td>F25.9</td>\n      <td>Schizoaffective disorder, unspecified</td>\n      <td>Medicaid Managed Care</td>\n      <td>Female</td>\n      <td>...</td>\n      <td>X_EMERGENCY DEPT ST. LUKE'S_DEACTIVATED</td>\n      <td>Emergency Medicine</td>\n      <td>Schizophrenia spectrum and other psychotic dis...</td>\n      <td>1</td>\n      <td>66</td>\n      <td>1956-03-25</td>\n      <td>English</td>\n      <td>NaN</td>\n      <td>Male</td>\n      <td>Other Race</td>\n    </tr>\n    <tr>\n      <th>47861</th>\n      <td>V724454</td>\n      <td>283397750</td>\n      <td>2021-11-25 22:34:00</td>\n      <td>65.0</td>\n      <td>Hospital Encounter</td>\n      <td>Emergency</td>\n      <td>F69</td>\n      <td>Unspecified disorder of adult personality and ...</td>\n      <td>Medicare MS</td>\n      <td>Male</td>\n      <td>...</td>\n      <td>EMERGENCY DEPARTMENT</td>\n      <td>Emergency Medicine</td>\n      <td>Personality disorders</td>\n      <td>0</td>\n      <td>66</td>\n      <td>1956-03-25</td>\n      <td>English</td>\n      <td>NaN</td>\n      <td>Male</td>\n      <td>Other Race</td>\n    </tr>\n    <tr>\n      <th>47862</th>\n      <td>V724454</td>\n      <td>312312283</td>\n      <td>2022-10-21 17:52:00</td>\n      <td>66.0</td>\n      <td>Hospital Encounter</td>\n      <td>Emergency</td>\n      <td>F11.10</td>\n      <td>Opioid abuse, uncomplicated</td>\n      <td>Medicare MS</td>\n      <td>Female</td>\n      <td>...</td>\n      <td>EMERGENCY DEPT MORNINGSIDE</td>\n      <td>Emergency Medicine</td>\n      <td>Opioid-related disorders</td>\n      <td>0</td>\n      <td>66</td>\n      <td>1956-03-25</td>\n      <td>English</td>\n      <td>NaN</td>\n      <td>Male</td>\n      <td>Other Race</td>\n    </tr>\n    <tr>\n      <th>47863</th>\n      <td>X300004</td>\n      <td>76843447</td>\n      <td>2018-03-10 02:45:00</td>\n      <td>58.0</td>\n      <td>Hospital Encounter</td>\n      <td>Inpatient</td>\n      <td>F32.A</td>\n      <td>Depression, unspecified</td>\n      <td>Medicaid Managed Care</td>\n      <td>Female</td>\n      <td>...</td>\n      <td>X_WINSTON 7G_DEACTIVATED</td>\n      <td>NaN</td>\n      <td>Depressive disorders</td>\n      <td>0</td>\n      <td>63</td>\n      <td>1960-01-20</td>\n      <td>English</td>\n      <td>NaN</td>\n      <td>Male</td>\n      <td>White</td>\n    </tr>\n    <tr>\n      <th>47864</th>\n      <td>X300004</td>\n      <td>254531792</td>\n      <td>2018-06-13 00:00:00</td>\n      <td>58.0</td>\n      <td>Office Visit</td>\n      <td>Outpatient</td>\n      <td>F25.1</td>\n      <td>Schizoaffective disorder, depressive type</td>\n      <td>NaN</td>\n      <td>NaN</td>\n      <td>...</td>\n      <td>NaN</td>\n      <td>NaN</td>\n      <td>Schizophrenia spectrum and other psychotic dis...</td>\n      <td>1</td>\n      <td>63</td>\n      <td>1960-01-20</td>\n      <td>English</td>\n      <td>NaN</td>\n      <td>Male</td>\n      <td>White</td>\n    </tr>\n  </tbody>\n</table>\n<p>47865 rows × 22 columns</p>\n</div>"
     },
     "execution_count": 108,
     "metadata": {},
     "output_type": "execute_result"
    }
   ],
   "source": [
    "scz_mrns = pd.read_csv('/Users/valena17/psych_nlp/data/scz_patients_demo_clean.csv')\n",
    "df = pd.merge(ccsr_first_scz_diagnoses_clean,scz_mrns, on='PrimaryMrn', how='left')\n",
    "df"
   ],
   "metadata": {
    "collapsed": false,
    "pycharm": {
     "name": "#%%\n"
    }
   }
  },
  {
   "cell_type": "code",
   "execution_count": 176,
   "outputs": [],
   "source": [
    "def age_range_at_diagnosis(x):\n",
    "    age = x.AgeAtVisit\n",
    "    if age < 18:\n",
    "        return '<18'\n",
    "    if 18 <= age <= 24:\n",
    "        return '18-24'\n",
    "    if 25 <= age <= 34:\n",
    "        return '25-34'\n",
    "    if 35 <= age <= 44:\n",
    "        return '35-44'\n",
    "    if 45 <= age <= 54:\n",
    "        return '45-54'\n",
    "    if 55 <= age <= 64:\n",
    "        return '55-64'\n",
    "    if 65 <= age <= 74:\n",
    "        return '65-74'\n",
    "    if 75 <= age <= 84:\n",
    "        return '75-84'\n",
    "    if 85 <= age:\n",
    "        return '85+'\n",
    "\n",
    "\n",
    "df['Age_group'] = df.apply(lambda row: age_range_at_diagnosis(row), axis=1)"
   ],
   "metadata": {
    "collapsed": false,
    "pycharm": {
     "name": "#%%\n"
    }
   }
  },
  {
   "cell_type": "code",
   "execution_count": 178,
   "outputs": [
    {
     "data": {
      "text/plain": "PayorFinancialClass\nSelf-Pay                   14365\nMedicaid Managed Care       5964\nCommercial/Managed Care     2169\nMedicaid MS                 1843\nMedicare MS                 1765\nMedicare Managed Care       1558\nSelf Pay                      79\nOther                         64\nCommercial                    60\nMedicare                      47\nOther Medicaid HMO            47\nMedicaid                      42\nSelf Pay MS                   33\nMedicaid HMO                  22\nWellcare                      18\nChild Health Plus             14\nWTC                            9\nAetna                          8\nLocal 1199                     8\nBlue Cross                     6\nVNS Hospice Care               5\nADAP                           4\nMedicare HMO Two               2\nTransplant                     2\nCommercial Two                 2\nWorker's Comp/No Fault         2\nAFFINITY MCD                   1\nHMO Other                      1\nHMO                            1\ndtype: int64"
     },
     "execution_count": 178,
     "metadata": {},
     "output_type": "execute_result"
    }
   ],
   "source": [
    "df.value_counts('PayorFinancialClass')"
   ],
   "metadata": {
    "collapsed": false,
    "pycharm": {
     "name": "#%%\n"
    }
   }
  },
  {
   "cell_type": "code",
   "execution_count": 179,
   "outputs": [
    {
     "data": {
      "text/plain": "      PrimaryMrn  EncounterKey           VisitDate  AgeAtVisit  \\\n0        1003157      10026992 2009-02-02 00:00:00        49.0   \n1        1003157      10194062 2011-07-20 18:54:00        52.0   \n2        1003157      12589140 2011-11-30 00:00:00        52.0   \n3        1003157     251130954 2012-02-22 00:00:00        52.0   \n4        1003157     109266117 2018-02-13 00:00:00        58.0   \n...          ...           ...                 ...         ...   \n47860    V724454     143056795 2020-01-30 17:01:00        63.0   \n47861    V724454     283397750 2021-11-25 22:34:00        65.0   \n47862    V724454     312312283 2022-10-21 17:52:00        66.0   \n47863    X300004      76843447 2018-03-10 02:45:00        58.0   \n47864    X300004     254531792 2018-06-13 00:00:00        58.0   \n\n                     VisitType  VisitType2    Value  \\\n0                 Office Visit  Outpatient    F32.A   \n1           Hospital Encounter   Inpatient      F39   \n2      Psych Conf Office Visit   Recurring   F19.10   \n3                 Office Visit  Outpatient    F25.9   \n4                 Office Visit  Outpatient  F17.210   \n...                        ...         ...      ...   \n47860       Hospital Encounter   Emergency    F25.9   \n47861       Hospital Encounter   Emergency      F69   \n47862       Hospital Encounter   Emergency   F11.10   \n47863       Hospital Encounter   Inpatient    F32.A   \n47864             Office Visit  Outpatient    F25.1   \n\n                                           DisplayString  \\\n0                                Depression, unspecified   \n1                  Unspecified mood (affective) disorder   \n2      Other psychoactive substance abuse, uncomplicated   \n3                  Schizoaffective disorder, unspecified   \n4         Nicotine dependence, cigarettes, uncomplicated   \n...                                                  ...   \n47860              Schizoaffective disorder, unspecified   \n47861  Unspecified disorder of adult personality and ...   \n47862                        Opioid abuse, uncomplicated   \n47863                            Depression, unspecified   \n47864          Schizoaffective disorder, depressive type   \n\n         PayorFinancialClass ProviderSex  ...  \\\n0                   Self-Pay        Male  ...   \n1                   Self-Pay        Male  ...   \n2                   Self-Pay      Female  ...   \n3                        NaN         NaN  ...   \n4                        NaN        Male  ...   \n...                      ...         ...  ...   \n47860  Medicaid Managed Care      Female  ...   \n47861            Medicare MS        Male  ...   \n47862            Medicare MS      Female  ...   \n47863  Medicaid Managed Care      Female  ...   \n47864                    NaN         NaN  ...   \n\n                                               CCSR_code scz_condition  \\\n0                                   Depressive disorders             0   \n1         Other specified and unspecified mood disorders             0   \n2            Other specified substance-related disorders             0   \n3      Schizophrenia spectrum and other psychotic dis...             1   \n4                              Tobacco-related disorders             0   \n...                                                  ...           ...   \n47860  Schizophrenia spectrum and other psychotic dis...             1   \n47861                              Personality disorders             0   \n47862                           Opioid-related disorders             0   \n47863                               Depressive disorders             0   \n47864  Schizophrenia spectrum and other psychotic dis...             1   \n\n      AgeInYears   BirthDate PreferredLanguage  SexualOrientation  \\\n0             63  1959-02-26           English           Straight   \n1             63  1959-02-26           English           Straight   \n2             63  1959-02-26           English           Straight   \n3             63  1959-02-26           English           Straight   \n4             63  1959-02-26           English           Straight   \n...          ...         ...               ...                ...   \n47860         66  1956-03-25           English                NaN   \n47861         66  1956-03-25           English                NaN   \n47862         66  1956-03-25           English                NaN   \n47863         63  1960-01-20           English                NaN   \n47864         63  1960-01-20           English                NaN   \n\n       Merged_Gender      Race_2 Age_group insurance_status  \n0               Male  Other Race     45-54         Self-pay  \n1               Male  Other Race     45-54         Self-pay  \n2               Male  Other Race     45-54         Self-pay  \n3               Male  Other Race     45-54              NaN  \n4               Male  Other Race     55-64              NaN  \n...              ...         ...       ...              ...  \n47860           Male  Other Race     55-64           Public  \n47861           Male  Other Race     65-74           Public  \n47862           Male  Other Race     65-74           Public  \n47863           Male       White     55-64           Public  \n47864           Male       White     55-64              NaN  \n\n[47865 rows x 24 columns]",
      "text/html": "<div>\n<style scoped>\n    .dataframe tbody tr th:only-of-type {\n        vertical-align: middle;\n    }\n\n    .dataframe tbody tr th {\n        vertical-align: top;\n    }\n\n    .dataframe thead th {\n        text-align: right;\n    }\n</style>\n<table border=\"1\" class=\"dataframe\">\n  <thead>\n    <tr style=\"text-align: right;\">\n      <th></th>\n      <th>PrimaryMrn</th>\n      <th>EncounterKey</th>\n      <th>VisitDate</th>\n      <th>AgeAtVisit</th>\n      <th>VisitType</th>\n      <th>VisitType2</th>\n      <th>Value</th>\n      <th>DisplayString</th>\n      <th>PayorFinancialClass</th>\n      <th>ProviderSex</th>\n      <th>...</th>\n      <th>CCSR_code</th>\n      <th>scz_condition</th>\n      <th>AgeInYears</th>\n      <th>BirthDate</th>\n      <th>PreferredLanguage</th>\n      <th>SexualOrientation</th>\n      <th>Merged_Gender</th>\n      <th>Race_2</th>\n      <th>Age_group</th>\n      <th>insurance_status</th>\n    </tr>\n  </thead>\n  <tbody>\n    <tr>\n      <th>0</th>\n      <td>1003157</td>\n      <td>10026992</td>\n      <td>2009-02-02 00:00:00</td>\n      <td>49.0</td>\n      <td>Office Visit</td>\n      <td>Outpatient</td>\n      <td>F32.A</td>\n      <td>Depression, unspecified</td>\n      <td>Self-Pay</td>\n      <td>Male</td>\n      <td>...</td>\n      <td>Depressive disorders</td>\n      <td>0</td>\n      <td>63</td>\n      <td>1959-02-26</td>\n      <td>English</td>\n      <td>Straight</td>\n      <td>Male</td>\n      <td>Other Race</td>\n      <td>45-54</td>\n      <td>Self-pay</td>\n    </tr>\n    <tr>\n      <th>1</th>\n      <td>1003157</td>\n      <td>10194062</td>\n      <td>2011-07-20 18:54:00</td>\n      <td>52.0</td>\n      <td>Hospital Encounter</td>\n      <td>Inpatient</td>\n      <td>F39</td>\n      <td>Unspecified mood (affective) disorder</td>\n      <td>Self-Pay</td>\n      <td>Male</td>\n      <td>...</td>\n      <td>Other specified and unspecified mood disorders</td>\n      <td>0</td>\n      <td>63</td>\n      <td>1959-02-26</td>\n      <td>English</td>\n      <td>Straight</td>\n      <td>Male</td>\n      <td>Other Race</td>\n      <td>45-54</td>\n      <td>Self-pay</td>\n    </tr>\n    <tr>\n      <th>2</th>\n      <td>1003157</td>\n      <td>12589140</td>\n      <td>2011-11-30 00:00:00</td>\n      <td>52.0</td>\n      <td>Psych Conf Office Visit</td>\n      <td>Recurring</td>\n      <td>F19.10</td>\n      <td>Other psychoactive substance abuse, uncomplicated</td>\n      <td>Self-Pay</td>\n      <td>Female</td>\n      <td>...</td>\n      <td>Other specified substance-related disorders</td>\n      <td>0</td>\n      <td>63</td>\n      <td>1959-02-26</td>\n      <td>English</td>\n      <td>Straight</td>\n      <td>Male</td>\n      <td>Other Race</td>\n      <td>45-54</td>\n      <td>Self-pay</td>\n    </tr>\n    <tr>\n      <th>3</th>\n      <td>1003157</td>\n      <td>251130954</td>\n      <td>2012-02-22 00:00:00</td>\n      <td>52.0</td>\n      <td>Office Visit</td>\n      <td>Outpatient</td>\n      <td>F25.9</td>\n      <td>Schizoaffective disorder, unspecified</td>\n      <td>NaN</td>\n      <td>NaN</td>\n      <td>...</td>\n      <td>Schizophrenia spectrum and other psychotic dis...</td>\n      <td>1</td>\n      <td>63</td>\n      <td>1959-02-26</td>\n      <td>English</td>\n      <td>Straight</td>\n      <td>Male</td>\n      <td>Other Race</td>\n      <td>45-54</td>\n      <td>NaN</td>\n    </tr>\n    <tr>\n      <th>4</th>\n      <td>1003157</td>\n      <td>109266117</td>\n      <td>2018-02-13 00:00:00</td>\n      <td>58.0</td>\n      <td>Office Visit</td>\n      <td>Outpatient</td>\n      <td>F17.210</td>\n      <td>Nicotine dependence, cigarettes, uncomplicated</td>\n      <td>NaN</td>\n      <td>Male</td>\n      <td>...</td>\n      <td>Tobacco-related disorders</td>\n      <td>0</td>\n      <td>63</td>\n      <td>1959-02-26</td>\n      <td>English</td>\n      <td>Straight</td>\n      <td>Male</td>\n      <td>Other Race</td>\n      <td>55-64</td>\n      <td>NaN</td>\n    </tr>\n    <tr>\n      <th>...</th>\n      <td>...</td>\n      <td>...</td>\n      <td>...</td>\n      <td>...</td>\n      <td>...</td>\n      <td>...</td>\n      <td>...</td>\n      <td>...</td>\n      <td>...</td>\n      <td>...</td>\n      <td>...</td>\n      <td>...</td>\n      <td>...</td>\n      <td>...</td>\n      <td>...</td>\n      <td>...</td>\n      <td>...</td>\n      <td>...</td>\n      <td>...</td>\n      <td>...</td>\n      <td>...</td>\n    </tr>\n    <tr>\n      <th>47860</th>\n      <td>V724454</td>\n      <td>143056795</td>\n      <td>2020-01-30 17:01:00</td>\n      <td>63.0</td>\n      <td>Hospital Encounter</td>\n      <td>Emergency</td>\n      <td>F25.9</td>\n      <td>Schizoaffective disorder, unspecified</td>\n      <td>Medicaid Managed Care</td>\n      <td>Female</td>\n      <td>...</td>\n      <td>Schizophrenia spectrum and other psychotic dis...</td>\n      <td>1</td>\n      <td>66</td>\n      <td>1956-03-25</td>\n      <td>English</td>\n      <td>NaN</td>\n      <td>Male</td>\n      <td>Other Race</td>\n      <td>55-64</td>\n      <td>Public</td>\n    </tr>\n    <tr>\n      <th>47861</th>\n      <td>V724454</td>\n      <td>283397750</td>\n      <td>2021-11-25 22:34:00</td>\n      <td>65.0</td>\n      <td>Hospital Encounter</td>\n      <td>Emergency</td>\n      <td>F69</td>\n      <td>Unspecified disorder of adult personality and ...</td>\n      <td>Medicare MS</td>\n      <td>Male</td>\n      <td>...</td>\n      <td>Personality disorders</td>\n      <td>0</td>\n      <td>66</td>\n      <td>1956-03-25</td>\n      <td>English</td>\n      <td>NaN</td>\n      <td>Male</td>\n      <td>Other Race</td>\n      <td>65-74</td>\n      <td>Public</td>\n    </tr>\n    <tr>\n      <th>47862</th>\n      <td>V724454</td>\n      <td>312312283</td>\n      <td>2022-10-21 17:52:00</td>\n      <td>66.0</td>\n      <td>Hospital Encounter</td>\n      <td>Emergency</td>\n      <td>F11.10</td>\n      <td>Opioid abuse, uncomplicated</td>\n      <td>Medicare MS</td>\n      <td>Female</td>\n      <td>...</td>\n      <td>Opioid-related disorders</td>\n      <td>0</td>\n      <td>66</td>\n      <td>1956-03-25</td>\n      <td>English</td>\n      <td>NaN</td>\n      <td>Male</td>\n      <td>Other Race</td>\n      <td>65-74</td>\n      <td>Public</td>\n    </tr>\n    <tr>\n      <th>47863</th>\n      <td>X300004</td>\n      <td>76843447</td>\n      <td>2018-03-10 02:45:00</td>\n      <td>58.0</td>\n      <td>Hospital Encounter</td>\n      <td>Inpatient</td>\n      <td>F32.A</td>\n      <td>Depression, unspecified</td>\n      <td>Medicaid Managed Care</td>\n      <td>Female</td>\n      <td>...</td>\n      <td>Depressive disorders</td>\n      <td>0</td>\n      <td>63</td>\n      <td>1960-01-20</td>\n      <td>English</td>\n      <td>NaN</td>\n      <td>Male</td>\n      <td>White</td>\n      <td>55-64</td>\n      <td>Public</td>\n    </tr>\n    <tr>\n      <th>47864</th>\n      <td>X300004</td>\n      <td>254531792</td>\n      <td>2018-06-13 00:00:00</td>\n      <td>58.0</td>\n      <td>Office Visit</td>\n      <td>Outpatient</td>\n      <td>F25.1</td>\n      <td>Schizoaffective disorder, depressive type</td>\n      <td>NaN</td>\n      <td>NaN</td>\n      <td>...</td>\n      <td>Schizophrenia spectrum and other psychotic dis...</td>\n      <td>1</td>\n      <td>63</td>\n      <td>1960-01-20</td>\n      <td>English</td>\n      <td>NaN</td>\n      <td>Male</td>\n      <td>White</td>\n      <td>55-64</td>\n      <td>NaN</td>\n    </tr>\n  </tbody>\n</table>\n<p>47865 rows × 24 columns</p>\n</div>"
     },
     "execution_count": 179,
     "metadata": {},
     "output_type": "execute_result"
    }
   ],
   "source": [
    "def insurance_names(row): # WTC,\n",
    "    if search('dicare|dicaid|WTC|Child', str(row)):\n",
    "        return 'Public'\n",
    "    if search('Self', str(row)):\n",
    "        return 'Self-pay'\n",
    "    if pd.isna(row):\n",
    "        return 'NaN'\n",
    "    else:\n",
    "        return 'Private'\n",
    "\n",
    "df['insurance_status'] = df['PayorFinancialClass'].apply(insurance_names)\n",
    "df"
   ],
   "metadata": {
    "collapsed": false,
    "pycharm": {
     "name": "#%%\n"
    }
   }
  },
  {
   "cell_type": "code",
   "execution_count": 199,
   "outputs": [
    {
     "name": "stdout",
     "output_type": "stream",
     "text": [
      "45.11582972728188 18.4009413886277 44.0 123.0 0.0\n",
      "25-34    4076\n",
      "45-54    3658\n",
      "35-44    3413\n",
      "55-64    3243\n",
      "18-24    2069\n",
      "65-74    1685\n",
      "75-84     755\n",
      "<18       545\n",
      "85+       430\n",
      "Name: Age_group, dtype: int64\n",
      "Male                     10935\n",
      "Female                    8792\n",
      "Transgender Female          47\n",
      "Non-binary                  47\n",
      "Transgender Male            24\n",
      "Gender Non-conforming       15\n",
      "Gender Queer                 9\n",
      "Other                        5\n",
      "Name: Merged_Gender, dtype: int64\n",
      "Black or African-American                    7584\n",
      "Other Race                                   6367\n",
      "White                                        4606\n",
      "Asian                                         623\n",
      "Hispanic or Latino                            275\n",
      "Mixed racial group                            260\n",
      "Native Hawaiian or Other Pacific Islander     119\n",
      "American Indian or Alaska Native               40\n",
      "Name: Race_2, dtype: int64\n",
      "Self-pay    6627\n",
      "NaN         6554\n",
      "Public      5433\n",
      "Private     1260\n",
      "Name: insurance_status, dtype: int64\n"
     ]
    }
   ],
   "source": [
    "# scz_only = df[df['CCSR_code'] == 'Schizophrenia spectrum and other psychotic disorders']\n",
    "print(scz_only['AgeAtVisit'].mean(),\n",
    "      scz_only['AgeAtVisit'].std(),\n",
    "      scz_only['AgeAtVisit'].median(),\n",
    "      scz_only['AgeAtVisit'].max(),\n",
    "      scz_only['AgeAtVisit'].min())\n",
    "print(scz_only['Age_group'].value_counts(dropna=False))\n",
    "print(scz_only['Merged_Gender'].value_counts(dropna=False))\n",
    "print(scz_only['Race_2'].value_counts(dropna=False))\n",
    "print(scz_only['insurance_status'].value_counts(dropna=False))\n",
    "# print(df['CCSR_code'].value_counts(dropna=False))"
   ],
   "metadata": {
    "collapsed": false,
    "pycharm": {
     "name": "#%%\n"
    }
   }
  },
  {
   "cell_type": "code",
   "execution_count": 277,
   "outputs": [],
   "source": [
    "df\n",
    "pd.DataFrame.to_csv(df, \"/Users/valena17/psych_nlp/data/clean_ccsr_scz_patients.csv\",index = False)"
   ],
   "metadata": {
    "collapsed": false,
    "pycharm": {
     "name": "#%%\n"
    }
   }
  },
  {
   "cell_type": "code",
   "execution_count": 219,
   "outputs": [],
   "source": [
    "scz_only\n",
    "pd.DataFrame.to_csv(scz_only, \"/Users/valena17/psych_nlp/data/clean_ccsr_ONLYscz_patients.csv\",index = False)"
   ],
   "metadata": {
    "collapsed": false,
    "pycharm": {
     "name": "#%%\n"
    }
   }
  },
  {
   "cell_type": "code",
   "execution_count": 232,
   "outputs": [
    {
     "name": "stdout",
     "output_type": "stream",
     "text": [
      "19874 19854 19870 19855\n"
     ]
    },
    {
     "data": {
      "text/plain": "      PrimaryMrn  EncounterKey            VisitDate  AgeAtVisit  \\\n0        1003157     251130954  2012-02-22 00:00:00        52.0   \n1        1003377     169200845  2019-11-15 00:00:00        55.0   \n2        1003711     256957683  2014-11-14 00:00:00        41.0   \n3        1007012     318511167  2018-06-20 00:00:00        43.0   \n4        1007542     263308933  2021-02-14 00:00:00        33.0   \n...          ...           ...                  ...         ...   \n19869    K153194     308377764  2022-09-07 00:00:00        28.0   \n19870    K156926     310672084  2022-10-18 00:00:00        29.0   \n19871    K161108     313677350  2022-11-29 00:00:00        46.0   \n19872    V724454     143056795  2020-01-30 17:01:00        63.0   \n19873    X300004     254531792  2018-06-13 00:00:00        58.0   \n\n                VisitType  VisitType2   Value  \\\n0            Office Visit  Outpatient   F25.9   \n1            Office Visit  Outpatient   F20.9   \n2            Office Visit  Outpatient     F29   \n3      Hospital Encounter   Emergency     F29   \n4            Office Visit  Outpatient   F20.9   \n...                   ...         ...     ...   \n19869        Office Visit  Outpatient  F20.89   \n19870        Office Visit   Recurring   F25.0   \n19871        Office Visit   Recurring     F29   \n19872  Hospital Encounter   Emergency   F25.9   \n19873        Office Visit  Outpatient   F25.1   \n\n                                           DisplayString  \\\n0                  Schizoaffective disorder, unspecified   \n1                             Schizophrenia, unspecified   \n2      Unspecified psychosis not due to a substance o...   \n3      Unspecified psychosis not due to a substance o...   \n4                             Schizophrenia, unspecified   \n...                                                  ...   \n19869                                Other schizophrenia   \n19870             Schizoaffective disorder, bipolar type   \n19871  Unspecified psychosis not due to a substance o...   \n19872              Schizoaffective disorder, unspecified   \n19873          Schizoaffective disorder, depressive type   \n\n         PayorFinancialClass ProviderSex  ...  \\\n0                        NaN         NaN  ...   \n1                        NaN         NaN  ...   \n2                        NaN         NaN  ...   \n3      Medicaid Managed Care         NaN  ...   \n4                        NaN         NaN  ...   \n...                      ...         ...  ...   \n19869  Medicaid Managed Care      Female  ...   \n19870  Medicaid Managed Care      Female  ...   \n19871               Self-Pay      Female  ...   \n19872  Medicaid Managed Care      Female  ...   \n19873                    NaN         NaN  ...   \n\n                                               CCSR_code scz_condition  \\\n0      Schizophrenia spectrum and other psychotic dis...             1   \n1      Schizophrenia spectrum and other psychotic dis...             1   \n2      Schizophrenia spectrum and other psychotic dis...             1   \n3      Schizophrenia spectrum and other psychotic dis...             1   \n4      Schizophrenia spectrum and other psychotic dis...             1   \n...                                                  ...           ...   \n19869  Schizophrenia spectrum and other psychotic dis...             1   \n19870  Schizophrenia spectrum and other psychotic dis...             1   \n19871  Schizophrenia spectrum and other psychotic dis...             1   \n19872  Schizophrenia spectrum and other psychotic dis...             1   \n19873  Schizophrenia spectrum and other psychotic dis...             1   \n\n      AgeInYears   BirthDate PreferredLanguage  SexualOrientation  \\\n0             63  1959-02-26           English           Straight   \n1             58  1964-11-08           English                NaN   \n2             49  1973-10-05           English                NaN   \n3             48  1974-09-18           English           Straight   \n4             35  1987-04-02           English                NaN   \n...          ...         ...               ...                ...   \n19869         28  1994-05-01           English                NaN   \n19870         29  1993-02-21           English                NaN   \n19871         46  1976-06-30           Spanish                NaN   \n19872         66  1956-03-25           English                NaN   \n19873         63  1960-01-20           English                NaN   \n\n       Merged_Gender                     Race_2 Age_group insurance_status  \n0               Male                 Other Race     45-54              NaN  \n1             Female  Black or African-American     55-64              NaN  \n2             Female  Black or African-American     35-44              NaN  \n3             Female         Hispanic or Latino     35-44           Public  \n4               Male                 Other Race     25-34              NaN  \n...              ...                        ...       ...              ...  \n19869           Male  Black or African-American     25-34           Public  \n19870           Male                 Other Race     25-34           Public  \n19871           Male                 Other Race     45-54         Self-pay  \n19872           Male                 Other Race     55-64           Public  \n19873           Male                      White     55-64              NaN  \n\n[19874 rows x 24 columns]",
      "text/html": "<div>\n<style scoped>\n    .dataframe tbody tr th:only-of-type {\n        vertical-align: middle;\n    }\n\n    .dataframe tbody tr th {\n        vertical-align: top;\n    }\n\n    .dataframe thead th {\n        text-align: right;\n    }\n</style>\n<table border=\"1\" class=\"dataframe\">\n  <thead>\n    <tr style=\"text-align: right;\">\n      <th></th>\n      <th>PrimaryMrn</th>\n      <th>EncounterKey</th>\n      <th>VisitDate</th>\n      <th>AgeAtVisit</th>\n      <th>VisitType</th>\n      <th>VisitType2</th>\n      <th>Value</th>\n      <th>DisplayString</th>\n      <th>PayorFinancialClass</th>\n      <th>ProviderSex</th>\n      <th>...</th>\n      <th>CCSR_code</th>\n      <th>scz_condition</th>\n      <th>AgeInYears</th>\n      <th>BirthDate</th>\n      <th>PreferredLanguage</th>\n      <th>SexualOrientation</th>\n      <th>Merged_Gender</th>\n      <th>Race_2</th>\n      <th>Age_group</th>\n      <th>insurance_status</th>\n    </tr>\n  </thead>\n  <tbody>\n    <tr>\n      <th>0</th>\n      <td>1003157</td>\n      <td>251130954</td>\n      <td>2012-02-22 00:00:00</td>\n      <td>52.0</td>\n      <td>Office Visit</td>\n      <td>Outpatient</td>\n      <td>F25.9</td>\n      <td>Schizoaffective disorder, unspecified</td>\n      <td>NaN</td>\n      <td>NaN</td>\n      <td>...</td>\n      <td>Schizophrenia spectrum and other psychotic dis...</td>\n      <td>1</td>\n      <td>63</td>\n      <td>1959-02-26</td>\n      <td>English</td>\n      <td>Straight</td>\n      <td>Male</td>\n      <td>Other Race</td>\n      <td>45-54</td>\n      <td>NaN</td>\n    </tr>\n    <tr>\n      <th>1</th>\n      <td>1003377</td>\n      <td>169200845</td>\n      <td>2019-11-15 00:00:00</td>\n      <td>55.0</td>\n      <td>Office Visit</td>\n      <td>Outpatient</td>\n      <td>F20.9</td>\n      <td>Schizophrenia, unspecified</td>\n      <td>NaN</td>\n      <td>NaN</td>\n      <td>...</td>\n      <td>Schizophrenia spectrum and other psychotic dis...</td>\n      <td>1</td>\n      <td>58</td>\n      <td>1964-11-08</td>\n      <td>English</td>\n      <td>NaN</td>\n      <td>Female</td>\n      <td>Black or African-American</td>\n      <td>55-64</td>\n      <td>NaN</td>\n    </tr>\n    <tr>\n      <th>2</th>\n      <td>1003711</td>\n      <td>256957683</td>\n      <td>2014-11-14 00:00:00</td>\n      <td>41.0</td>\n      <td>Office Visit</td>\n      <td>Outpatient</td>\n      <td>F29</td>\n      <td>Unspecified psychosis not due to a substance o...</td>\n      <td>NaN</td>\n      <td>NaN</td>\n      <td>...</td>\n      <td>Schizophrenia spectrum and other psychotic dis...</td>\n      <td>1</td>\n      <td>49</td>\n      <td>1973-10-05</td>\n      <td>English</td>\n      <td>NaN</td>\n      <td>Female</td>\n      <td>Black or African-American</td>\n      <td>35-44</td>\n      <td>NaN</td>\n    </tr>\n    <tr>\n      <th>3</th>\n      <td>1007012</td>\n      <td>318511167</td>\n      <td>2018-06-20 00:00:00</td>\n      <td>43.0</td>\n      <td>Hospital Encounter</td>\n      <td>Emergency</td>\n      <td>F29</td>\n      <td>Unspecified psychosis not due to a substance o...</td>\n      <td>Medicaid Managed Care</td>\n      <td>NaN</td>\n      <td>...</td>\n      <td>Schizophrenia spectrum and other psychotic dis...</td>\n      <td>1</td>\n      <td>48</td>\n      <td>1974-09-18</td>\n      <td>English</td>\n      <td>Straight</td>\n      <td>Female</td>\n      <td>Hispanic or Latino</td>\n      <td>35-44</td>\n      <td>Public</td>\n    </tr>\n    <tr>\n      <th>4</th>\n      <td>1007542</td>\n      <td>263308933</td>\n      <td>2021-02-14 00:00:00</td>\n      <td>33.0</td>\n      <td>Office Visit</td>\n      <td>Outpatient</td>\n      <td>F20.9</td>\n      <td>Schizophrenia, unspecified</td>\n      <td>NaN</td>\n      <td>NaN</td>\n      <td>...</td>\n      <td>Schizophrenia spectrum and other psychotic dis...</td>\n      <td>1</td>\n      <td>35</td>\n      <td>1987-04-02</td>\n      <td>English</td>\n      <td>NaN</td>\n      <td>Male</td>\n      <td>Other Race</td>\n      <td>25-34</td>\n      <td>NaN</td>\n    </tr>\n    <tr>\n      <th>...</th>\n      <td>...</td>\n      <td>...</td>\n      <td>...</td>\n      <td>...</td>\n      <td>...</td>\n      <td>...</td>\n      <td>...</td>\n      <td>...</td>\n      <td>...</td>\n      <td>...</td>\n      <td>...</td>\n      <td>...</td>\n      <td>...</td>\n      <td>...</td>\n      <td>...</td>\n      <td>...</td>\n      <td>...</td>\n      <td>...</td>\n      <td>...</td>\n      <td>...</td>\n      <td>...</td>\n    </tr>\n    <tr>\n      <th>19869</th>\n      <td>K153194</td>\n      <td>308377764</td>\n      <td>2022-09-07 00:00:00</td>\n      <td>28.0</td>\n      <td>Office Visit</td>\n      <td>Outpatient</td>\n      <td>F20.89</td>\n      <td>Other schizophrenia</td>\n      <td>Medicaid Managed Care</td>\n      <td>Female</td>\n      <td>...</td>\n      <td>Schizophrenia spectrum and other psychotic dis...</td>\n      <td>1</td>\n      <td>28</td>\n      <td>1994-05-01</td>\n      <td>English</td>\n      <td>NaN</td>\n      <td>Male</td>\n      <td>Black or African-American</td>\n      <td>25-34</td>\n      <td>Public</td>\n    </tr>\n    <tr>\n      <th>19870</th>\n      <td>K156926</td>\n      <td>310672084</td>\n      <td>2022-10-18 00:00:00</td>\n      <td>29.0</td>\n      <td>Office Visit</td>\n      <td>Recurring</td>\n      <td>F25.0</td>\n      <td>Schizoaffective disorder, bipolar type</td>\n      <td>Medicaid Managed Care</td>\n      <td>Female</td>\n      <td>...</td>\n      <td>Schizophrenia spectrum and other psychotic dis...</td>\n      <td>1</td>\n      <td>29</td>\n      <td>1993-02-21</td>\n      <td>English</td>\n      <td>NaN</td>\n      <td>Male</td>\n      <td>Other Race</td>\n      <td>25-34</td>\n      <td>Public</td>\n    </tr>\n    <tr>\n      <th>19871</th>\n      <td>K161108</td>\n      <td>313677350</td>\n      <td>2022-11-29 00:00:00</td>\n      <td>46.0</td>\n      <td>Office Visit</td>\n      <td>Recurring</td>\n      <td>F29</td>\n      <td>Unspecified psychosis not due to a substance o...</td>\n      <td>Self-Pay</td>\n      <td>Female</td>\n      <td>...</td>\n      <td>Schizophrenia spectrum and other psychotic dis...</td>\n      <td>1</td>\n      <td>46</td>\n      <td>1976-06-30</td>\n      <td>Spanish</td>\n      <td>NaN</td>\n      <td>Male</td>\n      <td>Other Race</td>\n      <td>45-54</td>\n      <td>Self-pay</td>\n    </tr>\n    <tr>\n      <th>19872</th>\n      <td>V724454</td>\n      <td>143056795</td>\n      <td>2020-01-30 17:01:00</td>\n      <td>63.0</td>\n      <td>Hospital Encounter</td>\n      <td>Emergency</td>\n      <td>F25.9</td>\n      <td>Schizoaffective disorder, unspecified</td>\n      <td>Medicaid Managed Care</td>\n      <td>Female</td>\n      <td>...</td>\n      <td>Schizophrenia spectrum and other psychotic dis...</td>\n      <td>1</td>\n      <td>66</td>\n      <td>1956-03-25</td>\n      <td>English</td>\n      <td>NaN</td>\n      <td>Male</td>\n      <td>Other Race</td>\n      <td>55-64</td>\n      <td>Public</td>\n    </tr>\n    <tr>\n      <th>19873</th>\n      <td>X300004</td>\n      <td>254531792</td>\n      <td>2018-06-13 00:00:00</td>\n      <td>58.0</td>\n      <td>Office Visit</td>\n      <td>Outpatient</td>\n      <td>F25.1</td>\n      <td>Schizoaffective disorder, depressive type</td>\n      <td>NaN</td>\n      <td>NaN</td>\n      <td>...</td>\n      <td>Schizophrenia spectrum and other psychotic dis...</td>\n      <td>1</td>\n      <td>63</td>\n      <td>1960-01-20</td>\n      <td>English</td>\n      <td>NaN</td>\n      <td>Male</td>\n      <td>White</td>\n      <td>55-64</td>\n      <td>NaN</td>\n    </tr>\n  </tbody>\n</table>\n<p>19874 rows × 24 columns</p>\n</div>"
     },
     "execution_count": 232,
     "metadata": {},
     "output_type": "execute_result"
    }
   ],
   "source": [
    "zip_codes = pd.read_csv('/Users/valena17/DataGripProjects/msdw2/output/ONLYscz_patient_zipcode.csv')\n",
    "scz_only = pd.read_csv(\"/Users/valena17/psych_nlp/data/clean_ccsr_ONLYscz_patients.csv\")\n",
    "\n",
    "scz_only[\"PrimaryMrn\"]=scz_only[\"PrimaryMrn\"].values.astype(str)\n",
    "zip_codes[\"PrimaryMrn\"]=zip_codes[\"PrimaryMrn\"].values.astype(str)\n",
    "print(scz_only['PrimaryMrn'].nunique(), zip_codes['PrimaryMrn'].nunique(),\n",
    "      scz_only['EncounterKey'].nunique(), zip_codes['EncounterKey'].nunique())\n",
    "\n",
    "scz_only"
   ],
   "metadata": {
    "collapsed": false,
    "pycharm": {
     "name": "#%%\n"
    }
   }
  },
  {
   "cell_type": "code",
   "execution_count": 233,
   "outputs": [
    {
     "data": {
      "text/plain": "      PrimaryMrn  EncounterKey            VisitDate  AgeAtVisit  \\\n0        1003157     251130954  2012-02-22 00:00:00        52.0   \n1        1003377     169200845  2019-11-15 00:00:00        55.0   \n2        1003711     256957683  2014-11-14 00:00:00        41.0   \n3        1007012     318511167  2018-06-20 00:00:00        43.0   \n4        1007542     263308933  2021-02-14 00:00:00        33.0   \n...          ...           ...                  ...         ...   \n19869    K153194     308377764  2022-09-07 00:00:00        28.0   \n19870    K156926     310672084  2022-10-18 00:00:00        29.0   \n19871    K161108     313677350  2022-11-29 00:00:00        46.0   \n19872    V724454     143056795  2020-01-30 17:01:00        63.0   \n19873    X300004     254531792  2018-06-13 00:00:00        58.0   \n\n                VisitType  VisitType2   Value  \\\n0            Office Visit  Outpatient   F25.9   \n1            Office Visit  Outpatient   F20.9   \n2            Office Visit  Outpatient     F29   \n3      Hospital Encounter   Emergency     F29   \n4            Office Visit  Outpatient   F20.9   \n...                   ...         ...     ...   \n19869        Office Visit  Outpatient  F20.89   \n19870        Office Visit   Recurring   F25.0   \n19871        Office Visit   Recurring     F29   \n19872  Hospital Encounter   Emergency   F25.9   \n19873        Office Visit  Outpatient   F25.1   \n\n                                           DisplayString  \\\n0                  Schizoaffective disorder, unspecified   \n1                             Schizophrenia, unspecified   \n2      Unspecified psychosis not due to a substance o...   \n3      Unspecified psychosis not due to a substance o...   \n4                             Schizophrenia, unspecified   \n...                                                  ...   \n19869                                Other schizophrenia   \n19870             Schizoaffective disorder, bipolar type   \n19871  Unspecified psychosis not due to a substance o...   \n19872              Schizoaffective disorder, unspecified   \n19873          Schizoaffective disorder, depressive type   \n\n         PayorFinancialClass ProviderSex  ... scz_condition AgeInYears  \\\n0                        NaN         NaN  ...             1         63   \n1                        NaN         NaN  ...             1         58   \n2                        NaN         NaN  ...             1         49   \n3      Medicaid Managed Care         NaN  ...             1         48   \n4                        NaN         NaN  ...             1         35   \n...                      ...         ...  ...           ...        ...   \n19869  Medicaid Managed Care      Female  ...             1         28   \n19870  Medicaid Managed Care      Female  ...             1         29   \n19871               Self-Pay      Female  ...             1         46   \n19872  Medicaid Managed Care      Female  ...             1         66   \n19873                    NaN         NaN  ...             1         63   \n\n        BirthDate PreferredLanguage SexualOrientation  Merged_Gender  \\\n0      1959-02-26           English          Straight           Male   \n1      1964-11-08           English               NaN         Female   \n2      1973-10-05           English               NaN         Female   \n3      1974-09-18           English          Straight         Female   \n4      1987-04-02           English               NaN           Male   \n...           ...               ...               ...            ...   \n19869  1994-05-01           English               NaN           Male   \n19870  1993-02-21           English               NaN           Male   \n19871  1976-06-30           Spanish               NaN           Male   \n19872  1956-03-25           English               NaN           Male   \n19873  1960-01-20           English               NaN           Male   \n\n                          Race_2 Age_group insurance_status PostalCode  \n0                     Other Race     45-54              NaN      10029  \n1      Black or African-American     55-64              NaN      11221  \n2      Black or African-American     35-44              NaN      10451  \n3             Hispanic or Latino     35-44           Public      10128  \n4                     Other Race     25-34              NaN      10009  \n...                          ...       ...              ...        ...  \n19869  Black or African-American     25-34           Public      11205  \n19870                 Other Race     25-34           Public      10455  \n19871                 Other Race     45-54         Self-pay      10459  \n19872                 Other Race     55-64           Public      10025  \n19873                      White     55-64              NaN      17013  \n\n[19874 rows x 25 columns]",
      "text/html": "<div>\n<style scoped>\n    .dataframe tbody tr th:only-of-type {\n        vertical-align: middle;\n    }\n\n    .dataframe tbody tr th {\n        vertical-align: top;\n    }\n\n    .dataframe thead th {\n        text-align: right;\n    }\n</style>\n<table border=\"1\" class=\"dataframe\">\n  <thead>\n    <tr style=\"text-align: right;\">\n      <th></th>\n      <th>PrimaryMrn</th>\n      <th>EncounterKey</th>\n      <th>VisitDate</th>\n      <th>AgeAtVisit</th>\n      <th>VisitType</th>\n      <th>VisitType2</th>\n      <th>Value</th>\n      <th>DisplayString</th>\n      <th>PayorFinancialClass</th>\n      <th>ProviderSex</th>\n      <th>...</th>\n      <th>scz_condition</th>\n      <th>AgeInYears</th>\n      <th>BirthDate</th>\n      <th>PreferredLanguage</th>\n      <th>SexualOrientation</th>\n      <th>Merged_Gender</th>\n      <th>Race_2</th>\n      <th>Age_group</th>\n      <th>insurance_status</th>\n      <th>PostalCode</th>\n    </tr>\n  </thead>\n  <tbody>\n    <tr>\n      <th>0</th>\n      <td>1003157</td>\n      <td>251130954</td>\n      <td>2012-02-22 00:00:00</td>\n      <td>52.0</td>\n      <td>Office Visit</td>\n      <td>Outpatient</td>\n      <td>F25.9</td>\n      <td>Schizoaffective disorder, unspecified</td>\n      <td>NaN</td>\n      <td>NaN</td>\n      <td>...</td>\n      <td>1</td>\n      <td>63</td>\n      <td>1959-02-26</td>\n      <td>English</td>\n      <td>Straight</td>\n      <td>Male</td>\n      <td>Other Race</td>\n      <td>45-54</td>\n      <td>NaN</td>\n      <td>10029</td>\n    </tr>\n    <tr>\n      <th>1</th>\n      <td>1003377</td>\n      <td>169200845</td>\n      <td>2019-11-15 00:00:00</td>\n      <td>55.0</td>\n      <td>Office Visit</td>\n      <td>Outpatient</td>\n      <td>F20.9</td>\n      <td>Schizophrenia, unspecified</td>\n      <td>NaN</td>\n      <td>NaN</td>\n      <td>...</td>\n      <td>1</td>\n      <td>58</td>\n      <td>1964-11-08</td>\n      <td>English</td>\n      <td>NaN</td>\n      <td>Female</td>\n      <td>Black or African-American</td>\n      <td>55-64</td>\n      <td>NaN</td>\n      <td>11221</td>\n    </tr>\n    <tr>\n      <th>2</th>\n      <td>1003711</td>\n      <td>256957683</td>\n      <td>2014-11-14 00:00:00</td>\n      <td>41.0</td>\n      <td>Office Visit</td>\n      <td>Outpatient</td>\n      <td>F29</td>\n      <td>Unspecified psychosis not due to a substance o...</td>\n      <td>NaN</td>\n      <td>NaN</td>\n      <td>...</td>\n      <td>1</td>\n      <td>49</td>\n      <td>1973-10-05</td>\n      <td>English</td>\n      <td>NaN</td>\n      <td>Female</td>\n      <td>Black or African-American</td>\n      <td>35-44</td>\n      <td>NaN</td>\n      <td>10451</td>\n    </tr>\n    <tr>\n      <th>3</th>\n      <td>1007012</td>\n      <td>318511167</td>\n      <td>2018-06-20 00:00:00</td>\n      <td>43.0</td>\n      <td>Hospital Encounter</td>\n      <td>Emergency</td>\n      <td>F29</td>\n      <td>Unspecified psychosis not due to a substance o...</td>\n      <td>Medicaid Managed Care</td>\n      <td>NaN</td>\n      <td>...</td>\n      <td>1</td>\n      <td>48</td>\n      <td>1974-09-18</td>\n      <td>English</td>\n      <td>Straight</td>\n      <td>Female</td>\n      <td>Hispanic or Latino</td>\n      <td>35-44</td>\n      <td>Public</td>\n      <td>10128</td>\n    </tr>\n    <tr>\n      <th>4</th>\n      <td>1007542</td>\n      <td>263308933</td>\n      <td>2021-02-14 00:00:00</td>\n      <td>33.0</td>\n      <td>Office Visit</td>\n      <td>Outpatient</td>\n      <td>F20.9</td>\n      <td>Schizophrenia, unspecified</td>\n      <td>NaN</td>\n      <td>NaN</td>\n      <td>...</td>\n      <td>1</td>\n      <td>35</td>\n      <td>1987-04-02</td>\n      <td>English</td>\n      <td>NaN</td>\n      <td>Male</td>\n      <td>Other Race</td>\n      <td>25-34</td>\n      <td>NaN</td>\n      <td>10009</td>\n    </tr>\n    <tr>\n      <th>...</th>\n      <td>...</td>\n      <td>...</td>\n      <td>...</td>\n      <td>...</td>\n      <td>...</td>\n      <td>...</td>\n      <td>...</td>\n      <td>...</td>\n      <td>...</td>\n      <td>...</td>\n      <td>...</td>\n      <td>...</td>\n      <td>...</td>\n      <td>...</td>\n      <td>...</td>\n      <td>...</td>\n      <td>...</td>\n      <td>...</td>\n      <td>...</td>\n      <td>...</td>\n      <td>...</td>\n    </tr>\n    <tr>\n      <th>19869</th>\n      <td>K153194</td>\n      <td>308377764</td>\n      <td>2022-09-07 00:00:00</td>\n      <td>28.0</td>\n      <td>Office Visit</td>\n      <td>Outpatient</td>\n      <td>F20.89</td>\n      <td>Other schizophrenia</td>\n      <td>Medicaid Managed Care</td>\n      <td>Female</td>\n      <td>...</td>\n      <td>1</td>\n      <td>28</td>\n      <td>1994-05-01</td>\n      <td>English</td>\n      <td>NaN</td>\n      <td>Male</td>\n      <td>Black or African-American</td>\n      <td>25-34</td>\n      <td>Public</td>\n      <td>11205</td>\n    </tr>\n    <tr>\n      <th>19870</th>\n      <td>K156926</td>\n      <td>310672084</td>\n      <td>2022-10-18 00:00:00</td>\n      <td>29.0</td>\n      <td>Office Visit</td>\n      <td>Recurring</td>\n      <td>F25.0</td>\n      <td>Schizoaffective disorder, bipolar type</td>\n      <td>Medicaid Managed Care</td>\n      <td>Female</td>\n      <td>...</td>\n      <td>1</td>\n      <td>29</td>\n      <td>1993-02-21</td>\n      <td>English</td>\n      <td>NaN</td>\n      <td>Male</td>\n      <td>Other Race</td>\n      <td>25-34</td>\n      <td>Public</td>\n      <td>10455</td>\n    </tr>\n    <tr>\n      <th>19871</th>\n      <td>K161108</td>\n      <td>313677350</td>\n      <td>2022-11-29 00:00:00</td>\n      <td>46.0</td>\n      <td>Office Visit</td>\n      <td>Recurring</td>\n      <td>F29</td>\n      <td>Unspecified psychosis not due to a substance o...</td>\n      <td>Self-Pay</td>\n      <td>Female</td>\n      <td>...</td>\n      <td>1</td>\n      <td>46</td>\n      <td>1976-06-30</td>\n      <td>Spanish</td>\n      <td>NaN</td>\n      <td>Male</td>\n      <td>Other Race</td>\n      <td>45-54</td>\n      <td>Self-pay</td>\n      <td>10459</td>\n    </tr>\n    <tr>\n      <th>19872</th>\n      <td>V724454</td>\n      <td>143056795</td>\n      <td>2020-01-30 17:01:00</td>\n      <td>63.0</td>\n      <td>Hospital Encounter</td>\n      <td>Emergency</td>\n      <td>F25.9</td>\n      <td>Schizoaffective disorder, unspecified</td>\n      <td>Medicaid Managed Care</td>\n      <td>Female</td>\n      <td>...</td>\n      <td>1</td>\n      <td>66</td>\n      <td>1956-03-25</td>\n      <td>English</td>\n      <td>NaN</td>\n      <td>Male</td>\n      <td>Other Race</td>\n      <td>55-64</td>\n      <td>Public</td>\n      <td>10025</td>\n    </tr>\n    <tr>\n      <th>19873</th>\n      <td>X300004</td>\n      <td>254531792</td>\n      <td>2018-06-13 00:00:00</td>\n      <td>58.0</td>\n      <td>Office Visit</td>\n      <td>Outpatient</td>\n      <td>F25.1</td>\n      <td>Schizoaffective disorder, depressive type</td>\n      <td>NaN</td>\n      <td>NaN</td>\n      <td>...</td>\n      <td>1</td>\n      <td>63</td>\n      <td>1960-01-20</td>\n      <td>English</td>\n      <td>NaN</td>\n      <td>Male</td>\n      <td>White</td>\n      <td>55-64</td>\n      <td>NaN</td>\n      <td>17013</td>\n    </tr>\n  </tbody>\n</table>\n<p>19874 rows × 25 columns</p>\n</div>"
     },
     "execution_count": 233,
     "metadata": {},
     "output_type": "execute_result"
    }
   ],
   "source": [
    "df = pd.merge(scz_only,zip_codes, on=['PrimaryMrn','EncounterKey'], how='left')\n",
    "df"
   ],
   "metadata": {
    "collapsed": false,
    "pycharm": {
     "name": "#%%\n"
    }
   }
  },
  {
   "cell_type": "code",
   "execution_count": 234,
   "outputs": [
    {
     "data": {
      "text/plain": "10029         1627\n10025         1388\n10019          804\n10035          788\n10027          733\n              ... \n11213-1647       1\n10005-1982       1\n10038-2735       1\n08318            1\n17013            1\nName: PostalCode, Length: 2675, dtype: int64"
     },
     "execution_count": 234,
     "metadata": {},
     "output_type": "execute_result"
    }
   ],
   "source": [
    "df.PostalCode.value_counts(dropna=False)"
   ],
   "metadata": {
    "collapsed": false,
    "pycharm": {
     "name": "#%%\n"
    }
   }
  },
  {
   "cell_type": "code",
   "execution_count": 235,
   "outputs": [
    {
     "data": {
      "text/plain": "10029    1699\n10025    1429\n10019     832\n10035     818\n10027     763\n         ... \n60643       1\n06511       1\n10702       1\n11962       1\n17013       1\nName: PostalCode, Length: 1036, dtype: int64"
     },
     "execution_count": 235,
     "metadata": {},
     "output_type": "execute_result"
    }
   ],
   "source": [
    "df.PostalCode = df.PostalCode.str[:5]\n",
    "df.PostalCode.value_counts(dropna=False)"
   ],
   "metadata": {
    "collapsed": false,
    "pycharm": {
     "name": "#%%\n"
    }
   }
  },
  {
   "cell_type": "code",
   "execution_count": 250,
   "outputs": [
    {
     "name": "stdout",
     "output_type": "stream",
     "text": [
      "189\n"
     ]
    },
    {
     "data": {
      "text/plain": "      2021_Median_Hincome\n0.25              57208.0\n0.50              70104.0\n0.75              94558.0\n1.00             250000.0",
      "text/html": "<div>\n<style scoped>\n    .dataframe tbody tr th:only-of-type {\n        vertical-align: middle;\n    }\n\n    .dataframe tbody tr th {\n        vertical-align: top;\n    }\n\n    .dataframe thead th {\n        text-align: right;\n    }\n</style>\n<table border=\"1\" class=\"dataframe\">\n  <thead>\n    <tr style=\"text-align: right;\">\n      <th></th>\n      <th>2021_Median_Hincome</th>\n    </tr>\n  </thead>\n  <tbody>\n    <tr>\n      <th>0.25</th>\n      <td>57208.0</td>\n    </tr>\n    <tr>\n      <th>0.50</th>\n      <td>70104.0</td>\n    </tr>\n    <tr>\n      <th>0.75</th>\n      <td>94558.0</td>\n    </tr>\n    <tr>\n      <th>1.00</th>\n      <td>250000.0</td>\n    </tr>\n  </tbody>\n</table>\n</div>"
     },
     "execution_count": 250,
     "metadata": {},
     "output_type": "execute_result"
    }
   ],
   "source": [
    "income = pd.read_csv('/Users/valena17/psych_nlp/data/zipcode_income.csv')\n",
    "income = income.replace(['-'],np.nan)\n",
    "income.PostalCode = income.PostalCode.str[-5:]\n",
    "\n",
    "print(income['2021_Median_Hincome'].isna().sum())\n",
    "\n",
    "income['2021_Median_Hincome'] = income['2021_Median_Hincome'].replace(['250,000+'],'250000')\n",
    "income['2021_Median_Hincome'] = income['2021_Median_Hincome'].replace(['2,500-'],'2500')\n",
    "income['2021_Median_Hincome']=income['2021_Median_Hincome'].values.astype(float)\n",
    "income[income['2021_Median_Hincome'].notnull()].quantile([.25, .5, .75, 1])"
   ],
   "metadata": {
    "collapsed": false,
    "pycharm": {
     "name": "#%%\n"
    }
   }
  },
  {
   "cell_type": "code",
   "execution_count": 237,
   "outputs": [
    {
     "data": {
      "text/plain": "      PrimaryMrn  EncounterKey            VisitDate  AgeAtVisit  \\\n0        1003157     251130954  2012-02-22 00:00:00        52.0   \n1        1003377     169200845  2019-11-15 00:00:00        55.0   \n2        1003711     256957683  2014-11-14 00:00:00        41.0   \n3        1007012     318511167  2018-06-20 00:00:00        43.0   \n4        1007542     263308933  2021-02-14 00:00:00        33.0   \n...          ...           ...                  ...         ...   \n19869    K153194     308377764  2022-09-07 00:00:00        28.0   \n19870    K156926     310672084  2022-10-18 00:00:00        29.0   \n19871    K161108     313677350  2022-11-29 00:00:00        46.0   \n19872    V724454     143056795  2020-01-30 17:01:00        63.0   \n19873    X300004     254531792  2018-06-13 00:00:00        58.0   \n\n                VisitType  VisitType2   Value  \\\n0            Office Visit  Outpatient   F25.9   \n1            Office Visit  Outpatient   F20.9   \n2            Office Visit  Outpatient     F29   \n3      Hospital Encounter   Emergency     F29   \n4            Office Visit  Outpatient   F20.9   \n...                   ...         ...     ...   \n19869        Office Visit  Outpatient  F20.89   \n19870        Office Visit   Recurring   F25.0   \n19871        Office Visit   Recurring     F29   \n19872  Hospital Encounter   Emergency   F25.9   \n19873        Office Visit  Outpatient   F25.1   \n\n                                           DisplayString  \\\n0                  Schizoaffective disorder, unspecified   \n1                             Schizophrenia, unspecified   \n2      Unspecified psychosis not due to a substance o...   \n3      Unspecified psychosis not due to a substance o...   \n4                             Schizophrenia, unspecified   \n...                                                  ...   \n19869                                Other schizophrenia   \n19870             Schizoaffective disorder, bipolar type   \n19871  Unspecified psychosis not due to a substance o...   \n19872              Schizoaffective disorder, unspecified   \n19873          Schizoaffective disorder, depressive type   \n\n         PayorFinancialClass ProviderSex  ... AgeInYears   BirthDate  \\\n0                        NaN         NaN  ...         63  1959-02-26   \n1                        NaN         NaN  ...         58  1964-11-08   \n2                        NaN         NaN  ...         49  1973-10-05   \n3      Medicaid Managed Care         NaN  ...         48  1974-09-18   \n4                        NaN         NaN  ...         35  1987-04-02   \n...                      ...         ...  ...        ...         ...   \n19869  Medicaid Managed Care      Female  ...         28  1994-05-01   \n19870  Medicaid Managed Care      Female  ...         29  1993-02-21   \n19871               Self-Pay      Female  ...         46  1976-06-30   \n19872  Medicaid Managed Care      Female  ...         66  1956-03-25   \n19873                    NaN         NaN  ...         63  1960-01-20   \n\n      PreferredLanguage SexualOrientation Merged_Gender  \\\n0               English          Straight          Male   \n1               English               NaN        Female   \n2               English               NaN        Female   \n3               English          Straight        Female   \n4               English               NaN          Male   \n...                 ...               ...           ...   \n19869           English               NaN          Male   \n19870           English               NaN          Male   \n19871           Spanish               NaN          Male   \n19872           English               NaN          Male   \n19873           English               NaN          Male   \n\n                          Race_2  Age_group insurance_status PostalCode  \\\n0                     Other Race      45-54              NaN      10029   \n1      Black or African-American      55-64              NaN      11221   \n2      Black or African-American      35-44              NaN      10451   \n3             Hispanic or Latino      35-44           Public      10128   \n4                     Other Race      25-34              NaN      10009   \n...                          ...        ...              ...        ...   \n19869  Black or African-American      25-34           Public      11205   \n19870                 Other Race      25-34           Public      10455   \n19871                 Other Race      45-54         Self-pay      10459   \n19872                 Other Race      55-64           Public      10025   \n19873                      White      55-64              NaN      17013   \n\n      2021_Median_Hincome  \n0                   33901  \n1                   66923  \n2                   33945  \n3                  127919  \n4                   77551  \n...                   ...  \n19869               68607  \n19870               30741  \n19871               36631  \n19872              103440  \n19873               62112  \n\n[19874 rows x 26 columns]",
      "text/html": "<div>\n<style scoped>\n    .dataframe tbody tr th:only-of-type {\n        vertical-align: middle;\n    }\n\n    .dataframe tbody tr th {\n        vertical-align: top;\n    }\n\n    .dataframe thead th {\n        text-align: right;\n    }\n</style>\n<table border=\"1\" class=\"dataframe\">\n  <thead>\n    <tr style=\"text-align: right;\">\n      <th></th>\n      <th>PrimaryMrn</th>\n      <th>EncounterKey</th>\n      <th>VisitDate</th>\n      <th>AgeAtVisit</th>\n      <th>VisitType</th>\n      <th>VisitType2</th>\n      <th>Value</th>\n      <th>DisplayString</th>\n      <th>PayorFinancialClass</th>\n      <th>ProviderSex</th>\n      <th>...</th>\n      <th>AgeInYears</th>\n      <th>BirthDate</th>\n      <th>PreferredLanguage</th>\n      <th>SexualOrientation</th>\n      <th>Merged_Gender</th>\n      <th>Race_2</th>\n      <th>Age_group</th>\n      <th>insurance_status</th>\n      <th>PostalCode</th>\n      <th>2021_Median_Hincome</th>\n    </tr>\n  </thead>\n  <tbody>\n    <tr>\n      <th>0</th>\n      <td>1003157</td>\n      <td>251130954</td>\n      <td>2012-02-22 00:00:00</td>\n      <td>52.0</td>\n      <td>Office Visit</td>\n      <td>Outpatient</td>\n      <td>F25.9</td>\n      <td>Schizoaffective disorder, unspecified</td>\n      <td>NaN</td>\n      <td>NaN</td>\n      <td>...</td>\n      <td>63</td>\n      <td>1959-02-26</td>\n      <td>English</td>\n      <td>Straight</td>\n      <td>Male</td>\n      <td>Other Race</td>\n      <td>45-54</td>\n      <td>NaN</td>\n      <td>10029</td>\n      <td>33901</td>\n    </tr>\n    <tr>\n      <th>1</th>\n      <td>1003377</td>\n      <td>169200845</td>\n      <td>2019-11-15 00:00:00</td>\n      <td>55.0</td>\n      <td>Office Visit</td>\n      <td>Outpatient</td>\n      <td>F20.9</td>\n      <td>Schizophrenia, unspecified</td>\n      <td>NaN</td>\n      <td>NaN</td>\n      <td>...</td>\n      <td>58</td>\n      <td>1964-11-08</td>\n      <td>English</td>\n      <td>NaN</td>\n      <td>Female</td>\n      <td>Black or African-American</td>\n      <td>55-64</td>\n      <td>NaN</td>\n      <td>11221</td>\n      <td>66923</td>\n    </tr>\n    <tr>\n      <th>2</th>\n      <td>1003711</td>\n      <td>256957683</td>\n      <td>2014-11-14 00:00:00</td>\n      <td>41.0</td>\n      <td>Office Visit</td>\n      <td>Outpatient</td>\n      <td>F29</td>\n      <td>Unspecified psychosis not due to a substance o...</td>\n      <td>NaN</td>\n      <td>NaN</td>\n      <td>...</td>\n      <td>49</td>\n      <td>1973-10-05</td>\n      <td>English</td>\n      <td>NaN</td>\n      <td>Female</td>\n      <td>Black or African-American</td>\n      <td>35-44</td>\n      <td>NaN</td>\n      <td>10451</td>\n      <td>33945</td>\n    </tr>\n    <tr>\n      <th>3</th>\n      <td>1007012</td>\n      <td>318511167</td>\n      <td>2018-06-20 00:00:00</td>\n      <td>43.0</td>\n      <td>Hospital Encounter</td>\n      <td>Emergency</td>\n      <td>F29</td>\n      <td>Unspecified psychosis not due to a substance o...</td>\n      <td>Medicaid Managed Care</td>\n      <td>NaN</td>\n      <td>...</td>\n      <td>48</td>\n      <td>1974-09-18</td>\n      <td>English</td>\n      <td>Straight</td>\n      <td>Female</td>\n      <td>Hispanic or Latino</td>\n      <td>35-44</td>\n      <td>Public</td>\n      <td>10128</td>\n      <td>127919</td>\n    </tr>\n    <tr>\n      <th>4</th>\n      <td>1007542</td>\n      <td>263308933</td>\n      <td>2021-02-14 00:00:00</td>\n      <td>33.0</td>\n      <td>Office Visit</td>\n      <td>Outpatient</td>\n      <td>F20.9</td>\n      <td>Schizophrenia, unspecified</td>\n      <td>NaN</td>\n      <td>NaN</td>\n      <td>...</td>\n      <td>35</td>\n      <td>1987-04-02</td>\n      <td>English</td>\n      <td>NaN</td>\n      <td>Male</td>\n      <td>Other Race</td>\n      <td>25-34</td>\n      <td>NaN</td>\n      <td>10009</td>\n      <td>77551</td>\n    </tr>\n    <tr>\n      <th>...</th>\n      <td>...</td>\n      <td>...</td>\n      <td>...</td>\n      <td>...</td>\n      <td>...</td>\n      <td>...</td>\n      <td>...</td>\n      <td>...</td>\n      <td>...</td>\n      <td>...</td>\n      <td>...</td>\n      <td>...</td>\n      <td>...</td>\n      <td>...</td>\n      <td>...</td>\n      <td>...</td>\n      <td>...</td>\n      <td>...</td>\n      <td>...</td>\n      <td>...</td>\n      <td>...</td>\n    </tr>\n    <tr>\n      <th>19869</th>\n      <td>K153194</td>\n      <td>308377764</td>\n      <td>2022-09-07 00:00:00</td>\n      <td>28.0</td>\n      <td>Office Visit</td>\n      <td>Outpatient</td>\n      <td>F20.89</td>\n      <td>Other schizophrenia</td>\n      <td>Medicaid Managed Care</td>\n      <td>Female</td>\n      <td>...</td>\n      <td>28</td>\n      <td>1994-05-01</td>\n      <td>English</td>\n      <td>NaN</td>\n      <td>Male</td>\n      <td>Black or African-American</td>\n      <td>25-34</td>\n      <td>Public</td>\n      <td>11205</td>\n      <td>68607</td>\n    </tr>\n    <tr>\n      <th>19870</th>\n      <td>K156926</td>\n      <td>310672084</td>\n      <td>2022-10-18 00:00:00</td>\n      <td>29.0</td>\n      <td>Office Visit</td>\n      <td>Recurring</td>\n      <td>F25.0</td>\n      <td>Schizoaffective disorder, bipolar type</td>\n      <td>Medicaid Managed Care</td>\n      <td>Female</td>\n      <td>...</td>\n      <td>29</td>\n      <td>1993-02-21</td>\n      <td>English</td>\n      <td>NaN</td>\n      <td>Male</td>\n      <td>Other Race</td>\n      <td>25-34</td>\n      <td>Public</td>\n      <td>10455</td>\n      <td>30741</td>\n    </tr>\n    <tr>\n      <th>19871</th>\n      <td>K161108</td>\n      <td>313677350</td>\n      <td>2022-11-29 00:00:00</td>\n      <td>46.0</td>\n      <td>Office Visit</td>\n      <td>Recurring</td>\n      <td>F29</td>\n      <td>Unspecified psychosis not due to a substance o...</td>\n      <td>Self-Pay</td>\n      <td>Female</td>\n      <td>...</td>\n      <td>46</td>\n      <td>1976-06-30</td>\n      <td>Spanish</td>\n      <td>NaN</td>\n      <td>Male</td>\n      <td>Other Race</td>\n      <td>45-54</td>\n      <td>Self-pay</td>\n      <td>10459</td>\n      <td>36631</td>\n    </tr>\n    <tr>\n      <th>19872</th>\n      <td>V724454</td>\n      <td>143056795</td>\n      <td>2020-01-30 17:01:00</td>\n      <td>63.0</td>\n      <td>Hospital Encounter</td>\n      <td>Emergency</td>\n      <td>F25.9</td>\n      <td>Schizoaffective disorder, unspecified</td>\n      <td>Medicaid Managed Care</td>\n      <td>Female</td>\n      <td>...</td>\n      <td>66</td>\n      <td>1956-03-25</td>\n      <td>English</td>\n      <td>NaN</td>\n      <td>Male</td>\n      <td>Other Race</td>\n      <td>55-64</td>\n      <td>Public</td>\n      <td>10025</td>\n      <td>103440</td>\n    </tr>\n    <tr>\n      <th>19873</th>\n      <td>X300004</td>\n      <td>254531792</td>\n      <td>2018-06-13 00:00:00</td>\n      <td>58.0</td>\n      <td>Office Visit</td>\n      <td>Outpatient</td>\n      <td>F25.1</td>\n      <td>Schizoaffective disorder, depressive type</td>\n      <td>NaN</td>\n      <td>NaN</td>\n      <td>...</td>\n      <td>63</td>\n      <td>1960-01-20</td>\n      <td>English</td>\n      <td>NaN</td>\n      <td>Male</td>\n      <td>White</td>\n      <td>55-64</td>\n      <td>NaN</td>\n      <td>17013</td>\n      <td>62112</td>\n    </tr>\n  </tbody>\n</table>\n<p>19874 rows × 26 columns</p>\n</div>"
     },
     "execution_count": 237,
     "metadata": {},
     "output_type": "execute_result"
    }
   ],
   "source": [
    "df = pd.merge(df,income, on=['PostalCode'], how='left')\n",
    "df.PostalCode = df.PostalCode.replace(['99999', '00000'],np.nan)\n",
    "df"
   ],
   "metadata": {
    "collapsed": false,
    "pycharm": {
     "name": "#%%\n"
    }
   }
  },
  {
   "cell_type": "code",
   "execution_count": 241,
   "outputs": [
    {
     "name": "stdout",
     "output_type": "stream",
     "text": [
      "400 33901     1699\n",
      "103440    1429\n",
      "105538     832\n",
      "32555      818\n",
      "58435      763\n",
      "          ... \n",
      "59742        1\n",
      "137917       1\n",
      "55225        1\n",
      "16789        1\n",
      "62112        1\n",
      "Name: 2021_Median_Hincome, Length: 950, dtype: int64\n"
     ]
    }
   ],
   "source": [
    "df['2021_Median_Hincome'] = df['2021_Median_Hincome'].replace(['250,000+'],'250000')\n",
    "\n",
    "print(df['2021_Median_Hincome'].isna().sum(),\n",
    "      df['2021_Median_Hincome'].value_counts(dropna=False))"
   ],
   "metadata": {
    "collapsed": false,
    "pycharm": {
     "name": "#%%\n"
    }
   }
  },
  {
   "cell_type": "code",
   "execution_count": 248,
   "outputs": [
    {
     "data": {
      "text/plain": "      EncounterKey  AgeAtVisit  scz_condition  AgeInYears  2021_Median_Hincome\n0.25  5.462042e+07        30.0            1.0        35.0              42639.0\n0.50  1.924955e+08        44.0            1.0        50.0              66132.0\n0.75  2.785307e+08        58.0            1.0        64.0             103440.0\n1.00  3.297318e+08       123.0            1.0       123.0             250000.0",
      "text/html": "<div>\n<style scoped>\n    .dataframe tbody tr th:only-of-type {\n        vertical-align: middle;\n    }\n\n    .dataframe tbody tr th {\n        vertical-align: top;\n    }\n\n    .dataframe thead th {\n        text-align: right;\n    }\n</style>\n<table border=\"1\" class=\"dataframe\">\n  <thead>\n    <tr style=\"text-align: right;\">\n      <th></th>\n      <th>EncounterKey</th>\n      <th>AgeAtVisit</th>\n      <th>scz_condition</th>\n      <th>AgeInYears</th>\n      <th>2021_Median_Hincome</th>\n    </tr>\n  </thead>\n  <tbody>\n    <tr>\n      <th>0.25</th>\n      <td>5.462042e+07</td>\n      <td>30.0</td>\n      <td>1.0</td>\n      <td>35.0</td>\n      <td>42639.0</td>\n    </tr>\n    <tr>\n      <th>0.50</th>\n      <td>1.924955e+08</td>\n      <td>44.0</td>\n      <td>1.0</td>\n      <td>50.0</td>\n      <td>66132.0</td>\n    </tr>\n    <tr>\n      <th>0.75</th>\n      <td>2.785307e+08</td>\n      <td>58.0</td>\n      <td>1.0</td>\n      <td>64.0</td>\n      <td>103440.0</td>\n    </tr>\n    <tr>\n      <th>1.00</th>\n      <td>3.297318e+08</td>\n      <td>123.0</td>\n      <td>1.0</td>\n      <td>123.0</td>\n      <td>250000.0</td>\n    </tr>\n  </tbody>\n</table>\n</div>"
     },
     "execution_count": 248,
     "metadata": {},
     "output_type": "execute_result"
    }
   ],
   "source": [
    "df['2021_Median_Hincome']=df['2021_Median_Hincome'].values.astype(float)\n",
    "df[df['2021_Median_Hincome'].notnull()].quantile([.25, .5, .75, 1])"
   ],
   "metadata": {
    "collapsed": false,
    "pycharm": {
     "name": "#%%\n"
    }
   }
  },
  {
   "cell_type": "code",
   "execution_count": 251,
   "outputs": [
    {
     "data": {
      "text/plain": "88,000+            7116\n<52,000            6175\n52,000 - 65,999    3526\n66,000 - 87,999    2657\nName: ZIPINC_QRTL, dtype: int64"
     },
     "execution_count": 251,
     "metadata": {},
     "output_type": "execute_result"
    }
   ],
   "source": [
    "def income_range(x):\n",
    "    income = x['2021_Median_Hincome']\n",
    "    if income < 52000:\n",
    "        return '<52,000'\n",
    "    if 52000 <= income <= 65999:\n",
    "        return '52,000 - 65,999'\n",
    "    if 66000 <= income <= 87999:\n",
    "        return '66,000 - 87,999'\n",
    "    if 88000 <= income :\n",
    "        return '88,000+'\n",
    "\n",
    "df['ZIPINC_QRTL'] = df.apply(lambda row: income_range(row), axis=1)\n",
    "\n",
    "\n",
    "df['ZIPINC_QRTL'].value_counts()"
   ],
   "metadata": {
    "collapsed": false,
    "pycharm": {
     "name": "#%%\n"
    }
   }
  },
  {
   "cell_type": "code",
   "execution_count": 259,
   "outputs": [],
   "source": [
    "pd.DataFrame.to_csv(df[df['PostalCode'].isna()], \"/Users/valena17/psych_nlp/data/scz_patients_noZIPCODE.csv\",index = False)"
   ],
   "metadata": {
    "collapsed": false,
    "pycharm": {
     "name": "#%%\n"
    }
   }
  },
  {
   "cell_type": "code",
   "execution_count": 269,
   "outputs": [],
   "source": [
    "pd.DataFrame.to_csv(df, \"/Users/valena17/psych_nlp/data/clean_ccsr_ONLYscz_patients.csv\",index = False)"
   ],
   "metadata": {
    "collapsed": false,
    "pycharm": {
     "name": "#%%\n"
    }
   }
  },
  {
   "cell_type": "code",
   "execution_count": 2,
   "outputs": [
    {
     "name": "stderr",
     "output_type": "stream",
     "text": [
      "/var/folders/xm/m4dy5bvs1fn7fb9wxjhsg4dc0000gn/T/ipykernel_48035/2489642973.py:2: DtypeWarning: Columns (0) have mixed types. Specify dtype option on import or set low_memory=False.\n",
      "  df = pd.read_csv('/Users/valena17/psych_nlp/data/clean_ccsr_scz_patients.csv')\n"
     ]
    },
    {
     "data": {
      "text/plain": "Schizophrenia spectrum and other psychotic disorders        19874\nSubstance-related disorders                                  6074\nDepressive disorders                                         4465\nTrauma- and stressor-related disorders                       4239\nBipolar and related disorders                                3039\nAnxiety and fear-related disorders                           2908\nOther specified and unspecified mood disorders               1666\nNeurocognitive disorders                                      972\nMental and substance use disorders in remission               971\nPersonality disorders                                         914\nMiscellaneous mental and behavioral disorders/conditions      803\nNeurodevelopmental disorders                                  724\nDisruptive, impulse-control and conduct disorders             425\nSleep wake disorders                                          327\nObsessive-compulsive and related disorders                    235\nSomatic disorders                                             152\nFeeding and eating disorders                                   67\nUrinary incontinence                                           10\nName: CCSR_wSubstance, dtype: int64"
     },
     "execution_count": 2,
     "metadata": {},
     "output_type": "execute_result"
    }
   ],
   "source": [
    "import pandas as pd\n",
    "df = pd.read_csv('/Users/valena17/psych_nlp/data/clean_ccsr_scz_patients.csv')\n",
    "df.CCSR_wSubstance.value_counts()"
   ],
   "metadata": {
    "collapsed": false,
    "pycharm": {
     "name": "#%%\n"
    }
   }
  },
  {
   "cell_type": "code",
   "execution_count": 270,
   "outputs": [
    {
     "name": "stderr",
     "output_type": "stream",
     "text": [
      "/var/folders/xm/m4dy5bvs1fn7fb9wxjhsg4dc0000gn/T/ipykernel_19446/1509699208.py:1: DtypeWarning: Columns (0) have mixed types. Specify dtype option on import or set low_memory=False.\n",
      "  df = pd.read_csv('/Users/valena17/psych_nlp/data/clean_ccsr_scz_patients.csv')\n"
     ]
    }
   ],
   "source": [
    "def ccsr_substance(x):\n",
    "    substance_disorders = ['Other specified substance-related disorders',\n",
    "                           'Alcohol-related disorders',\n",
    "                           'Tobacco-related disorders',\n",
    "                           'Stimulant-related disorders',\n",
    "                           'Cannabis-related disorders',\n",
    "                           'Opioid-related disorders',\n",
    "                           'Sedative-related disorders',\n",
    "                           'Hallucinogen-related disorders',\n",
    "                           'Inhalant-related disorders']\n",
    "    if x in substance_disorders:\n",
    "        return 'Substance-related disorders'\n",
    "    else:\n",
    "        return x\n",
    "\n",
    "df['CCSR_wSubstance'] = df['CCSR_code'].apply(ccsr_substance)"
   ],
   "metadata": {
    "collapsed": false,
    "pycharm": {
     "name": "#%%\n"
    }
   }
  },
  {
   "cell_type": "code",
   "execution_count": 288,
   "outputs": [],
   "source": [
    "df = df.drop_duplicates(subset=['PrimaryMrn', 'CCSR_wSubstance'],  keep='first')"
   ],
   "metadata": {
    "collapsed": false,
    "pycharm": {
     "name": "#%%\n"
    }
   }
  },
  {
   "cell_type": "code",
   "execution_count": 289,
   "outputs": [],
   "source": [
    "male = df.loc[df.Merged_Gender.isin(['Male'])]\n",
    "male_asian = male.loc[male.Race_2.isin(['Asian'])]\n",
    "male_black = male.loc[male.Race_2.isin(['Black or African-American'])]\n",
    "male_latino = male.loc[male.Race_2.isin(['Hispanic or Latino'])]\n",
    "male_white = male.loc[male.Race_2.isin(['White'])]\n",
    "\n",
    "female = df.loc[df.Merged_Gender.isin(['Female'])]\n",
    "female_asian = female.loc[female.Race_2.isin(['Asian'])]\n",
    "female_black = female.loc[female.Race_2.isin(['Black or African-American'])]\n",
    "female_latina = female.loc[female.Race_2.isin(['Hispanic or Latino'])]\n",
    "female_white = female.loc[female.Race_2.isin(['White'])]"
   ],
   "metadata": {
    "collapsed": false,
    "pycharm": {
     "name": "#%%\n"
    }
   }
  },
  {
   "cell_type": "code",
   "execution_count": 272,
   "outputs": [
    {
     "name": "stdout",
     "output_type": "stream",
     "text": [
      "313 4266 134 2495 306 3269 140 2063\n"
     ]
    }
   ],
   "source": [
    "print(male_asian['PrimaryMrn'].nunique(),\n",
    "      male_black['PrimaryMrn'].nunique(),\n",
    "      male_latino['PrimaryMrn'].nunique(),\n",
    "      male_white['PrimaryMrn'].nunique(),\n",
    "      female_asian['PrimaryMrn'].nunique(),\n",
    "      female_black['PrimaryMrn'].nunique(),\n",
    "      female_latina['PrimaryMrn'].nunique(),\n",
    "      female_white['PrimaryMrn'].nunique())\n",
    "# 1283 655 764 441\n",
    "# 4266 2495 3269 2063 as of 1/23/23"
   ],
   "metadata": {
    "collapsed": false,
    "pycharm": {
     "name": "#%%\n"
    }
   }
  },
  {
   "cell_type": "code",
   "execution_count": 256,
   "outputs": [
    {
     "name": "stdout",
     "output_type": "stream",
     "text": [
      "7 68 2 30 6 39 1 28\n",
      "11 91 3 46 7 57 1 46\n"
     ]
    }
   ],
   "source": [
    "print(male_asian['PostalCode'].isna().sum(),\n",
    "      male_black['PostalCode'].isna().sum(),\n",
    "      male_latino['PostalCode'].isna().sum(),\n",
    "      male_white['PostalCode'].isna().sum(),\n",
    "      female_asian['PostalCode'].isna().sum(),\n",
    "      female_black['PostalCode'].isna().sum(),\n",
    "      female_latina['PostalCode'].isna().sum(),\n",
    "      female_white['PostalCode'].isna().sum())\n",
    "\n",
    "print(male_asian['ZIPINC_QRTL'].isna().sum(),\n",
    "      male_black['ZIPINC_QRTL'].isna().sum(),\n",
    "      male_latino['ZIPINC_QRTL'].isna().sum(),\n",
    "      male_white['ZIPINC_QRTL'].isna().sum(),\n",
    "      female_asian['ZIPINC_QRTL'].isna().sum(),\n",
    "      female_black['ZIPINC_QRTL'].isna().sum(),\n",
    "      female_latina['ZIPINC_QRTL'].isna().sum(),\n",
    "      female_white['ZIPINC_QRTL'].isna().sum())\n"
   ],
   "metadata": {
    "collapsed": false,
    "pycharm": {
     "name": "#%%\n"
    }
   }
  },
  {
   "cell_type": "code",
   "execution_count": 265,
   "outputs": [],
   "source": [
    "ccsr_codes = ['Alcohol-related disorders',\n",
    " 'Anxiety and fear-related disorders',\n",
    " 'Bipolar and related disorders',\n",
    " 'Cannabis-related disorders',\n",
    " 'Depressive disorders',\n",
    " 'Disruptive, impulse-control and conduct disorders',\n",
    " 'Mental and substance use disorders in remission',\n",
    " #'Miscellaneous mental and behavioral disorders/conditions',\n",
    " 'Neurocognitive disorders',\n",
    " 'Neurodevelopmental disorders',\n",
    " 'Obsessive-compulsive and related disorders',\n",
    " 'Opioid-related disorders',\n",
    " 'Other specified and unspecified mood disorders',\n",
    " 'Other specified substance-related disorders',\n",
    " 'Personality disorders',\n",
    " 'Schizophrenia spectrum and other psychotic disorders',\n",
    " 'Sleep wake disorders',\n",
    " 'Stimulant-related disorders',\n",
    " 'Tobacco-related disorders',\n",
    " 'Trauma- and stressor-related disorders']\n",
    "\n",
    "# don't use this -- makes giant square heat map\n",
    "# def before_after_diagnoses_matrix(df_before, df_after, name):\n",
    "#     co_mat_before = pd.crosstab(df_before.PrimaryMrn, df_before.CCSR_code)\n",
    "#     co_mat_before = co_mat_before.loc[:, ccsr_codes]\n",
    "#     # co_mat.drop(co_mat.columns[3], axis=1, inplace=True)\n",
    "#     co_occ_before = co_mat_before.T.dot(co_mat_before)\n",
    "#     np.fill_diagonal(co_occ_before.values, 0)\n",
    "#     num_patient = df_before['PrimaryMrn'].nunique()\n",
    "#     co_occ_norm_before = co_occ_before.div(num_patient, fill_value=0)\n",
    "#\n",
    "#     co_mat_after = pd.crosstab(df_after.PrimaryMrn, df_after.CCSR_code)\n",
    "#     co_mat_after = co_mat_after.loc[:, ccsr_codes]\n",
    "#     # co_mat.drop(co_mat.columns[3], axis=1, inplace=True)\n",
    "#     co_occ_after = co_mat_after.T.dot(co_mat_after)\n",
    "#     np.fill_diagonal(co_occ_after.values, 0)\n",
    "#     num_patient = df_after['PrimaryMrn'].nunique()\n",
    "#     co_occ_norm_after = co_occ_after.div(num_patient, fill_value=0)\n",
    "#\n",
    "#     plot_name = \"Co-occurrence matrix for {0}\".format(name)\n",
    "#     hm = sns.heatmap(co_occ_norm_before, cmap = \"BuPu\", mask=np.tril(co_occ_norm_before), vmin=0, vmax=0.15, cbar=False)\n",
    "#     hm = sns.heatmap(co_occ_norm_after, cmap = \"BuPu\", mask=np.triu(co_occ_norm_after), vmin=0, vmax=0.15)\n",
    "#     # labels = sorted(list(set(df_before.CCSR_code)))\n",
    "#     hm.axes.set_yticks(np.arange(0.5, (.5 + len(ccsr_codes)), 1))\n",
    "#     hm.axes.set_yticklabels(ccsr_codes)\n",
    "#     plt.title(plot_name)\n",
    "#     figure_name = \"../figures/before_after_scz_diagnoses/before_after_scz_diagnoses_{0}.png\".format(name)\n",
    "#     plt.savefig(figure_name, transparent=False, format='png', dpi=300, bbox_inches='tight')\n",
    "#     plt.clf()"
   ],
   "metadata": {
    "collapsed": false,
    "pycharm": {
     "name": "#%%\n"
    }
   }
  },
  {
   "cell_type": "code",
   "execution_count": 120,
   "outputs": [],
   "source": [
    "def before_after_diagnoses_matrix(df_before, df_after, name):\n",
    "    co_mat_before = pd.crosstab(df_before.PrimaryMrn, df_before.CCSR_code)\n",
    "    co_mat_before = co_mat_before.loc[:, ccsr_codes]\n",
    "    # co_mat.drop(co_mat.columns[3], axis=1, inplace=True)\n",
    "    co_occ_before = co_mat_before.T.dot(co_mat_before)\n",
    "    np.fill_diagonal(co_occ_before.values, 0)\n",
    "    num_patient = df_before['PrimaryMrn'].nunique()\n",
    "    co_occ_norm_before = co_occ_before.div(num_patient, fill_value=0)\n",
    "    szc_before = co_occ_norm_before.loc[:, 'Schizophrenia spectrum and other psychotic disorders']\n",
    "    # szc_before = szc_before.rename(mapper={'Schizophrenia spectrum and other psychotic disorders':'Before SCZ'})\n",
    "\n",
    "    co_mat_after = pd.crosstab(df_after.PrimaryMrn, df_after.CCSR_code)\n",
    "    co_mat_after = co_mat_after.loc[:, ccsr_codes]\n",
    "    # co_mat.drop(co_mat.columns[3], axis=1, inplace=True)\n",
    "    co_occ_after = co_mat_after.T.dot(co_mat_after)\n",
    "    np.fill_diagonal(co_occ_after.values, 0)\n",
    "    num_patient = df_after['PrimaryMrn'].nunique()\n",
    "    co_occ_norm_after = co_occ_after.div(num_patient, fill_value=0)\n",
    "    szc_after = co_occ_norm_after.loc[:, 'Schizophrenia spectrum and other psychotic disorders']\n",
    "    # szc_after = szc_after.rename(mapper={'Schizophrenia spectrum and other psychotic disorders':'After SCZ'})\n",
    "\n",
    "    df = pd.concat([szc_before,szc_after],axis=1, keys=['Before SCZ', 'After SCZ'])\n",
    "    # print(df)\n",
    "\n",
    "    plot_name = \"Percent {0} Patients with Diagnosis Before/After SCZ\".format(name)\n",
    "    hm = sns.heatmap(df, cmap = \"BuPu\", vmin=0, vmax=0.15, annot=True)\n",
    "    # labels = sorted(list(set(df_before.CCSR_code)))\n",
    "    # hm.axes.set_yticks(np.arange(0.5, (.5 + len(ccsr_codes)), 1))\n",
    "    # hm.axes.set_yticklabels(ccsr_codes)\n",
    "    plt.title(plot_name)\n",
    "    figure_name = \"../figures/scz_patients/before_after_scz_diagnoses/v3_before_after_scz_diagnoses_{0}.png\".format(name)\n",
    "    plt.savefig(figure_name, transparent=False, format='png', dpi=300, bbox_inches='tight')\n",
    "    plt.clf()"
   ],
   "metadata": {
    "collapsed": false,
    "pycharm": {
     "name": "#%%\n"
    }
   }
  },
  {
   "cell_type": "code",
   "execution_count": 152,
   "outputs": [
    {
     "data": {
      "text/plain": "<Figure size 640x480 with 0 Axes>"
     },
     "metadata": {},
     "output_type": "display_data"
    }
   ],
   "source": [
    "def everything(data, name_string):\n",
    "    before_diagnoses_ = data.groupby('PrimaryMrn').apply(lambda group: before_diagnoses(group))\n",
    "    after_diagnoses_ = data.groupby('PrimaryMrn').apply(lambda group: after_diagnoses(group))\n",
    "    before_after_overall_diagnoses_matrix(data,\n",
    "                                  before_diagnoses_, #upper triangle\n",
    "                                  after_diagnoses_, # lower triangle\n",
    "                                  name_string)\n",
    "\n",
    "sociodemo_groups = [male, male_black, male_white] #female, female_black, female_white] #\n",
    "sociodemo_groups_string = ['male', 'male_black', 'male_white'] #'female', 'female_black', 'female_white'] #\n",
    "\n",
    "for i,group_df in enumerate(sociodemo_groups):\n",
    "    everything(group_df, sociodemo_groups_string[i])"
   ],
   "metadata": {
    "collapsed": false,
    "pycharm": {
     "name": "#%%\n"
    }
   }
  },
  {
   "cell_type": "code",
   "execution_count": 290,
   "outputs": [
    {
     "data": {
      "text/plain": "<Figure size 640x480 with 0 Axes>"
     },
     "metadata": {},
     "output_type": "display_data"
    }
   ],
   "source": [
    "ccsr_codes = [ #'Alcohol-related disorders',\n",
    " 'Anxiety and fear-related disorders',\n",
    " 'Bipolar and related disorders',\n",
    " #'Cannabis-related disorders',\n",
    " 'Depressive disorders',\n",
    " 'Disruptive, impulse-control and conduct disorders',\n",
    " 'Mental and substance use disorders in remission',\n",
    " #'Miscellaneous mental and behavioral disorders/conditions',\n",
    " 'Neurocognitive disorders',\n",
    " 'Neurodevelopmental disorders',\n",
    " 'Obsessive-compulsive and related disorders',\n",
    " 'Opioid-related disorders',\n",
    " 'Other specified and unspecified mood disorders',\n",
    " 'Other specified substance-related disorders',\n",
    " 'Personality disorders',\n",
    " 'Schizophrenia spectrum and other psychotic disorders',\n",
    " 'Sleep wake disorders',\n",
    " 'Stimulant-related disorders',\n",
    " 'Tobacco-related disorders',\n",
    " 'Trauma- and stressor-related disorders']\n",
    "\n",
    "ccsr_codes_substance = ['Anxiety and fear-related disorders',\n",
    " 'Bipolar and related disorders',\n",
    " 'Depressive disorders',\n",
    " 'Disruptive, impulse-control and conduct disorders',\n",
    " 'Mental and substance use disorders in remission',\n",
    " #'Miscellaneous mental and behavioral disorders/conditions',\n",
    " 'Neurocognitive disorders',\n",
    " 'Neurodevelopmental disorders',\n",
    " 'Obsessive-compulsive and related disorders',\n",
    " 'Other specified and unspecified mood disorders',\n",
    " 'Personality disorders',\n",
    " 'Substance-related disorders',\n",
    " 'Schizophrenia spectrum and other psychotic disorders',\n",
    " 'Sleep wake disorders',\n",
    " 'Trauma- and stressor-related disorders']\n",
    "\n",
    "def overall_race_female_diagnoses_matrix(df_asian, df_black, df_latino, df_white, name):\n",
    "    co_mat_asian = pd.crosstab(df_asian.PrimaryMrn, df_asian.CCSR_wSubstance)\n",
    "    co_mat_asian = co_mat_asian.loc[:, ccsr_codes_substance]\n",
    "    co_occ_asian = co_mat_asian.T.dot(co_mat_asian)\n",
    "    np.fill_diagonal(co_occ_asian.values, 0)\n",
    "    num_patient = df_asian['PrimaryMrn'].nunique()\n",
    "    co_occ_norm_asian = co_occ_asian.div(num_patient, fill_value=0).mul(100, fill_value=0)\n",
    "    szc_asian = co_occ_norm_asian.loc[:, 'Schizophrenia spectrum and other psychotic disorders']\n",
    "\n",
    "    co_mat_black = pd.crosstab(df_black.PrimaryMrn, df_black.CCSR_wSubstance)\n",
    "    co_mat_black = co_mat_black.loc[:, ccsr_codes_substance]\n",
    "    co_occ_black = co_mat_black.T.dot(co_mat_black)\n",
    "    np.fill_diagonal(co_occ_black.values, 0)\n",
    "    num_patient = df_black['PrimaryMrn'].nunique()\n",
    "    co_occ_norm_black = co_occ_black.div(num_patient, fill_value=0).mul(100, fill_value=0)\n",
    "    szc_black = co_occ_norm_black.loc[:, 'Schizophrenia spectrum and other psychotic disorders']\n",
    "\n",
    "    co_mat_latino = pd.crosstab(df_latino.PrimaryMrn, df_latino.CCSR_wSubstance)\n",
    "    co_mat_latino = co_mat_latino.loc[:, ccsr_codes_substance]\n",
    "    co_occ_latino = co_mat_latino.T.dot(co_mat_latino)\n",
    "    np.fill_diagonal(co_occ_latino.values, 0)\n",
    "    num_patient = df_latino['PrimaryMrn'].nunique()\n",
    "    co_occ_norm_latino = co_occ_latino.div(num_patient, fill_value=0).mul(100, fill_value=0)\n",
    "    szc_latino = co_occ_norm_latino.loc[:, 'Schizophrenia spectrum and other psychotic disorders']\n",
    "\n",
    "    co_mat_white = pd.crosstab(df_white.PrimaryMrn, df_white.CCSR_wSubstance)\n",
    "    co_mat_white = co_mat_white.loc[:, ccsr_codes_substance]\n",
    "    co_occ_white = co_mat_white.T.dot(co_mat_white)\n",
    "    np.fill_diagonal(co_occ_white.values, 0)\n",
    "    num_patient = df_white['PrimaryMrn'].nunique()\n",
    "    co_occ_norm_white = co_occ_white.div(num_patient, fill_value=0).mul(100, fill_value=0)\n",
    "    szc_white = co_occ_norm_white.loc[:, 'Schizophrenia spectrum and other psychotic disorders']\n",
    "\n",
    "    df = pd.concat([szc_asian, szc_black, szc_latino, szc_white],axis=1, keys=['Asian \\n n=306',\n",
    "                                                                               'Black \\n n=3269',\n",
    "                                                                               'Latina \\n n=140',\n",
    "                                                                               'White \\n n=2063']) # 306 3269 140 2063\n",
    "    df = df.drop('Schizophrenia spectrum and other psychotic disorders', axis = 0)\n",
    "\n",
    "    plot_name = \"Percent {0} SCZ Patients with Comorbid Diagnoses\".format(name)\n",
    "    hm = sns.heatmap(df, cmap = \"BuPu\", vmin=0, vmax=40, annot=True, cbar_kws={'format': '%.0f%%'})\n",
    "    for t in hm.texts: t.set_text(t.get_text() + \"%\")\n",
    "    plt.title(plot_name)\n",
    "    figure_name = \"../figures/scz_patients/before_after_scz_diagnoses/race_ethnicity_scz_diagnoses_substance_{0}.png\".format(name)\n",
    "    plt.savefig(figure_name, transparent=False, format='png', dpi=300, bbox_inches='tight')\n",
    "    plt.clf()\n",
    "\n",
    "overall_race_female_diagnoses_matrix(female_asian, female_black, female_latina, female_white, 'Female')"
   ],
   "metadata": {
    "collapsed": false,
    "pycharm": {
     "name": "#%%\n"
    }
   }
  },
  {
   "cell_type": "code",
   "execution_count": 293,
   "outputs": [
    {
     "data": {
      "text/plain": "<Figure size 640x480 with 0 Axes>"
     },
     "metadata": {},
     "output_type": "display_data"
    }
   ],
   "source": [
    "ccsr_codes = [ 'Alcohol-related disorders',\n",
    " 'Anxiety and fear-related disorders',\n",
    " 'Bipolar and related disorders',\n",
    " 'Cannabis-related disorders',\n",
    " 'Depressive disorders',\n",
    " 'Disruptive, impulse-control and conduct disorders',\n",
    " 'Mental and substance use disorders in remission',\n",
    " #'Miscellaneous mental and behavioral disorders/conditions',\n",
    " 'Neurocognitive disorders',\n",
    " 'Neurodevelopmental disorders',\n",
    " 'Obsessive-compulsive and related disorders',\n",
    " 'Opioid-related disorders',\n",
    " 'Other specified and unspecified mood disorders',\n",
    " 'Other specified substance-related disorders',\n",
    " 'Personality disorders',\n",
    " 'Schizophrenia spectrum and other psychotic disorders',\n",
    " 'Sleep wake disorders',\n",
    " 'Stimulant-related disorders',\n",
    " 'Tobacco-related disorders',\n",
    " 'Trauma- and stressor-related disorders']\n",
    "\n",
    "def overall_race_male_diagnoses_matrix(df_asian, df_black, df_latino, df_white, name):\n",
    "    co_mat_asian = pd.crosstab(df_asian.PrimaryMrn, df_asian.CCSR_wSubstance)\n",
    "    co_mat_asian = co_mat_asian.loc[:, ccsr_codes_substance]\n",
    "    co_occ_asian = co_mat_asian.T.dot(co_mat_asian)\n",
    "    np.fill_diagonal(co_occ_asian.values, 0)\n",
    "    num_patient = df_asian['PrimaryMrn'].nunique()\n",
    "    co_occ_norm_asian = co_occ_asian.div(num_patient, fill_value=0).mul(100, fill_value=0)\n",
    "    szc_asian = co_occ_norm_asian.loc[:, 'Schizophrenia spectrum and other psychotic disorders']\n",
    "\n",
    "    co_mat_black = pd.crosstab(df_black.PrimaryMrn, df_black.CCSR_wSubstance)\n",
    "    co_mat_black = co_mat_black.loc[:, ccsr_codes_substance]\n",
    "    co_occ_black = co_mat_black.T.dot(co_mat_black)\n",
    "    np.fill_diagonal(co_occ_black.values, 0)\n",
    "    num_patient = df_black['PrimaryMrn'].nunique()\n",
    "    co_occ_norm_black = co_occ_black.div(num_patient, fill_value=0).mul(100, fill_value=0)\n",
    "    szc_black = co_occ_norm_black.loc[:, 'Schizophrenia spectrum and other psychotic disorders']\n",
    "\n",
    "    co_mat_latino = pd.crosstab(df_latino.PrimaryMrn, df_latino.CCSR_wSubstance)\n",
    "    co_mat_latino = co_mat_latino.loc[:, ccsr_codes_substance]\n",
    "    co_occ_latino = co_mat_latino.T.dot(co_mat_latino)\n",
    "    np.fill_diagonal(co_occ_latino.values, 0)\n",
    "    num_patient = df_latino['PrimaryMrn'].nunique()\n",
    "    co_occ_norm_latino = co_occ_latino.div(num_patient, fill_value=0).mul(100, fill_value=0)\n",
    "    szc_latino = co_occ_norm_latino.loc[:, 'Schizophrenia spectrum and other psychotic disorders']\n",
    "\n",
    "    co_mat_white = pd.crosstab(df_white.PrimaryMrn, df_white.CCSR_wSubstance)\n",
    "    co_mat_white = co_mat_white.loc[:, ccsr_codes_substance]\n",
    "    co_occ_white = co_mat_white.T.dot(co_mat_white)\n",
    "    np.fill_diagonal(co_occ_white.values, 0)\n",
    "    num_patient = df_white['PrimaryMrn'].nunique()\n",
    "    co_occ_norm_white = co_occ_white.div(num_patient, fill_value=0).mul(100, fill_value=0)\n",
    "    szc_white = co_occ_norm_white.loc[:, 'Schizophrenia spectrum and other psychotic disorders']\n",
    "\n",
    "    df = pd.concat([szc_asian, szc_black, szc_latino, szc_white],axis=1, keys=['Asian \\n n=313',\n",
    "                                                                               'Black \\n n=4366',\n",
    "                                                                               'Latino \\n n=134',\n",
    "                                                                               'White \\n n=2495']) # 313 4266 134 2495\n",
    "    df = df.drop('Schizophrenia spectrum and other psychotic disorders', axis = 0)\n",
    "\n",
    "    plot_name = \"Percent {0} SCZ Patients with Comorbid Diagnoses\".format(name)\n",
    "    hm = sns.heatmap(df, cmap = \"BuPu\", vmin=0, vmax=40, annot=True, cbar_kws={'format': '%.0f%%'})\n",
    "    for t in hm.texts: t.set_text(t.get_text() + \"%\")\n",
    "    plt.title(plot_name)\n",
    "    figure_name = \"../figures/scz_patients/before_after_scz_diagnoses/race_ethnicity_scz_diagnoses_substance_{0}.png\".format(name)\n",
    "    plt.savefig(figure_name, transparent=False, format='png', dpi=300, bbox_inches='tight')\n",
    "    plt.clf()\n",
    "\n",
    "overall_race_male_diagnoses_matrix(male_asian, male_black, male_latino, male_white, 'Male')"
   ],
   "metadata": {
    "collapsed": false,
    "pycharm": {
     "name": "#%%\n"
    }
   }
  },
  {
   "cell_type": "code",
   "execution_count": null,
   "outputs": [],
   "source": [
    "def before_after_overall_diagnoses_matrix(df_anytime, df_before, df_after, name):\n",
    "    co_mat_before = pd.crosstab(df_before.PrimaryMrn, df_before.CCSR_code)\n",
    "    co_mat_before = co_mat_before.loc[:, ccsr_codes]\n",
    "    co_occ_before = co_mat_before.T.dot(co_mat_before)\n",
    "    np.fill_diagonal(co_occ_before.values, 0)\n",
    "    num_patient = df_before['PrimaryMrn'].nunique()\n",
    "    co_occ_norm_before = co_occ_before.div(num_patient, fill_value=0).mul(100, fill_value=0)\n",
    "    szc_before = co_occ_norm_before.loc[:, 'Schizophrenia spectrum and other psychotic disorders']\n",
    "\n",
    "    co_mat_after = pd.crosstab(df_after.PrimaryMrn, df_after.CCSR_code)\n",
    "    co_mat_after = co_mat_after.loc[:, ccsr_codes]\n",
    "    co_occ_after = co_mat_after.T.dot(co_mat_after)\n",
    "    np.fill_diagonal(co_occ_after.values, 0)\n",
    "    num_patient = df_after['PrimaryMrn'].nunique()\n",
    "    co_occ_norm_after = co_occ_after.div(num_patient, fill_value=0).mul(100, fill_value=0)\n",
    "    szc_after = co_occ_norm_after.loc[:, 'Schizophrenia spectrum and other psychotic disorders']\n",
    "\n",
    "    co_mat_anytime = pd.crosstab(df_anytime.PrimaryMrn, df_anytime.CCSR_code)\n",
    "    co_mat_anytime = co_mat_anytime.loc[:, ccsr_codes]\n",
    "    co_occ_anytime = co_mat_anytime.T.dot(co_mat_anytime)\n",
    "    np.fill_diagonal(co_occ_anytime.values, 0)\n",
    "    num_patient = df_anytime['PrimaryMrn'].nunique()\n",
    "    co_occ_norm_anytime = co_occ_anytime.div(num_patient, fill_value=0).mul(100, fill_value=0)\n",
    "    szc_anytime = co_occ_norm_anytime.loc[:, 'Schizophrenia spectrum and other psychotic disorders']\n",
    "\n",
    "    df = pd.concat([szc_before, szc_after, szc_anytime],axis=1, keys=['Before SCZ', 'After SCZ', 'Anytime'])\n",
    "    df = df.drop('Schizophrenia spectrum and other psychotic disorders', axis = 0)\n",
    "    # print(df)\n",
    "\n",
    "    plot_name = \"Percent {0} Patients with Diagnosis Before/After SCZ\".format(name)\n",
    "    hm = sns.heatmap(df, cmap = \"BuPu\", vmin=0, vmax=25, annot=True, cbar_kws={'format': '%.0f%%'}) #\n",
    "    for t in hm.texts: t.set_text(t.get_text() + \"%\")\n",
    "    # labels = sorted(list(set(df_before.CCSR_code)))\n",
    "    # hm.axes.set_yticks(np.arange(0.5, (.5 + len(ccsr_codes)), 1))\n",
    "    # hm.axes.set_yticklabels(ccsr_codes)\n",
    "    plt.title(plot_name)\n",
    "    figure_name = \"../figures/scz_patients/before_after_scz_diagnoses/anytime_before_after_scz_diagnoses_{0}.png\".format(name)\n",
    "    plt.savefig(figure_name, transparent=False, format='png', dpi=300, bbox_inches='tight')\n",
    "    plt.clf()"
   ],
   "metadata": {
    "collapsed": false,
    "pycharm": {
     "name": "#%%\n"
    }
   }
  },
  {
   "cell_type": "code",
   "execution_count": 220,
   "outputs": [],
   "source": [
    "ccsr_codes = ['Alcohol-related disorders',\n",
    " 'Anxiety and fear-related disorders',\n",
    " 'Bipolar and related disorders',\n",
    " 'Cannabis-related disorders',\n",
    " 'Depressive disorders',\n",
    " 'Disruptive, impulse-control and conduct disorders',\n",
    " 'Mental and substance use disorders in remission',\n",
    " #'Miscellaneous mental and behavioral disorders/conditions',\n",
    " 'Neurocognitive disorders',\n",
    " 'Neurodevelopmental disorders',\n",
    " 'Obsessive-compulsive and related disorders',\n",
    " 'Opioid-related disorders',\n",
    " 'Other specified and unspecified mood disorders',\n",
    " 'Other specified substance-related disorders',\n",
    " 'Personality disorders',\n",
    " 'Schizophrenia spectrum and other psychotic disorders',\n",
    " 'Sleep wake disorders',\n",
    " 'Stimulant-related disorders',\n",
    " 'Tobacco-related disorders',\n",
    " 'Trauma- and stressor-related disorders']\n",
    "\n",
    "def diagnosis_age_histogram(df, name):\n",
    "    for code in ccsr_codes:\n",
    "        sample_df = df[df['CCSR_code'] == code]\n",
    "        plot_name = \"Age at diagnosis histogram for {0} and {1}\".format(name, code)\n",
    "        figure_name = \"../figures/scz_patients/age_at_diagnosis/age_at_diagnosis_{0}_{1}.png\".format(name, code)\n",
    "        sns.histplot(data=sample_df, x=\"AgeAtVisit\")\n",
    "        plt.title(plot_name)\n",
    "        plt.savefig(figure_name, transparent=False, format='png', dpi=300, bbox_inches='tight')\n",
    "        plt.clf()"
   ],
   "metadata": {
    "collapsed": false,
    "pycharm": {
     "name": "#%%\n"
    }
   }
  },
  {
   "cell_type": "code",
   "execution_count": 221,
   "outputs": [
    {
     "data": {
      "text/plain": "<Figure size 640x480 with 0 Axes>"
     },
     "metadata": {},
     "output_type": "display_data"
    }
   ],
   "source": [
    "for i,group_df in enumerate(sociodemo_groups):\n",
    "    diagnosis_age_histogram(group_df, sociodemo_groups_string[i])"
   ],
   "metadata": {
    "collapsed": false,
    "pycharm": {
     "name": "#%%\n"
    }
   }
  }
 ],
 "metadata": {
  "kernelspec": {
   "display_name": "Python 3",
   "language": "python",
   "name": "python3"
  },
  "language_info": {
   "codemirror_mode": {
    "name": "ipython",
    "version": 2
   },
   "file_extension": ".py",
   "mimetype": "text/x-python",
   "name": "python",
   "nbconvert_exporter": "python",
   "pygments_lexer": "ipython2",
   "version": "2.7.6"
  }
 },
 "nbformat": 4,
 "nbformat_minor": 0
}