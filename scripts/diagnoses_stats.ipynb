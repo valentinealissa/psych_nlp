{
 "cells": [
  {
   "cell_type": "code",
   "execution_count": 1,
   "outputs": [],
   "source": [
    "from datetime import datetime\n",
    "# importing moules\n",
    "import os\n",
    "import pandas as pd\n",
    "import matplotlib\n",
    "import numpy as np\n",
    "from re import search\n",
    "import matplotlib.pyplot as plt\n",
    "from datetime import date\n",
    "import seaborn as sns\n",
    "import math"
   ],
   "metadata": {
    "collapsed": false,
    "pycharm": {
     "name": "#%%\n"
    }
   }
  },
  {
   "cell_type": "code",
   "execution_count": 2,
   "outputs": [
    {
     "name": "stderr",
     "output_type": "stream",
     "text": [
      "/var/folders/xm/m4dy5bvs1fn7fb9wxjhsg4dc0000gn/T/ipykernel_55250/1800471710.py:2: DtypeWarning: Columns (8) have mixed types. Specify dtype option on import or set low_memory=False.\n",
      "  psych_encounters = pd.read_csv('../data/clean_psych_encounters_conditions_patients.csv')\n"
     ]
    }
   ],
   "source": [
    "# all_encounters = pd.read_csv('../data/clean_all_encounters_conditions_patients.csv')\n",
    "psych_encounters = pd.read_csv('../data/clean_psych_encounters_conditions_patients.csv')\n",
    "patient_psych_diagnoses = pd.read_csv('../data/psych_diagnoses_per_patient.csv')"
   ],
   "metadata": {
    "collapsed": false,
    "pycharm": {
     "name": "#%%\n"
    }
   }
  },
  {
   "cell_type": "code",
   "execution_count": 3,
   "outputs": [],
   "source": [
    "male = patient_psych_diagnoses.loc[patient_psych_diagnoses.merged_gender.isin(['Male'])]\n",
    "male_asian = male.loc[male.merged_race_ethnicity_v2.isin(['Asian'])]\n",
    "male_black = male.loc[male.merged_race_ethnicity_v2.isin(['Black or African American'])]\n",
    "male_latino = male.loc[male.merged_race_ethnicity_v2.isin(['Hispanic or Latino'])]\n",
    "male_white = male.loc[male.merged_race_ethnicity_v2.isin(['White'])]\n",
    "\n",
    "female = patient_psych_diagnoses.loc[patient_psych_diagnoses.merged_gender.isin(['Female'])]\n",
    "female_asian = female.loc[female.merged_race_ethnicity_v2.isin(['Asian'])]\n",
    "female_black = female.loc[female.merged_race_ethnicity_v2.isin(['Black or African American'])]\n",
    "female_latina = female.loc[female.merged_race_ethnicity_v2.isin(['Hispanic or Latino'])]\n",
    "female_white = female.loc[female.merged_race_ethnicity_v2.isin(['White'])]\n",
    "\n",
    "straight = patient_psych_diagnoses.loc[patient_psych_diagnoses.xtn_sexual_orientation_source_concept_name.isin(['Straight (not lesbian or gay)'])]\n",
    "straight = straight.loc[straight.merged_gender.isin(['Female', 'Male'])]\n",
    "queer = patient_psych_diagnoses.loc[patient_psych_diagnoses.merged_gender.isin(['Non-binary', 'Transgender Female', 'Transgender Male', 'Gender Non-conforming', 'Gender Queer', 'Other', 'Uncertain']) | patient_psych_diagnoses.xtn_sexual_orientation_source_concept_name.isin(['Lesbian or Gay', 'Bisexual', 'Queer', 'Something else', 'Don\\'t know'])]\n",
    "queer_gender = patient_psych_diagnoses.loc[patient_psych_diagnoses.merged_gender.isin(['Non-binary', 'Transgender Female', 'Transgender Male', 'Gender Non-conforming', 'Gender Queer', 'Other', 'Uncertain'])]\n",
    "queer_sexuality = patient_psych_diagnoses.loc[patient_psych_diagnoses.xtn_sexual_orientation_source_concept_name.isin(['Lesbian or Gay', 'Bisexual', 'Queer', 'Something else', 'Don\\'t know'])]\n",
    "\n",
    "queer_asian = patient_psych_diagnoses.loc[patient_psych_diagnoses.merged_race_ethnicity_v2.isin(['Asian'])]\n",
    "queer_asian = queer_asian.loc[queer_asian.merged_gender.isin(['Non-binary', 'Transgender Female', 'Transgender Male', 'Gender Non-conforming', 'Gender Queer', 'Other', 'Uncertain']) | queer_asian.xtn_sexual_orientation_source_concept_name.isin(['Lesbian or Gay', 'Bisexual', 'Queer', 'Something else', 'Don\\'t know'])]\n",
    "queer_black = patient_psych_diagnoses.loc[patient_psych_diagnoses.merged_race_ethnicity_v2.isin(['Black or African American'])]\n",
    "queer_black = queer_black.loc[queer_black.merged_gender.isin(['Non-binary', 'Transgender Female', 'Transgender Male', 'Gender Non-conforming', 'Gender Queer', 'Other', 'Uncertain']) | queer_black.xtn_sexual_orientation_source_concept_name.isin(['Lesbian or Gay', 'Bisexual', 'Queer', 'Something else', 'Don\\'t know'])]\n",
    "queer_latinx = patient_psych_diagnoses.loc[patient_psych_diagnoses.merged_race_ethnicity_v2.isin(['Hispanic or Latino'])]\n",
    "queer_latinx = queer_latinx.loc[queer_latinx.merged_gender.isin(['Non-binary', 'Transgender Female', 'Transgender Male', 'Gender Non-conforming', 'Gender Queer', 'Other', 'Uncertain']) | queer_latinx.xtn_sexual_orientation_source_concept_name.isin(['Lesbian or Gay', 'Bisexual', 'Queer', 'Something else', 'Don\\'t know'])]\n",
    "queer_white = patient_psych_diagnoses.loc[patient_psych_diagnoses.merged_race_ethnicity_v2.isin(['White'])]\n",
    "queer_white = queer_white.loc[queer_white.merged_gender.isin(['Non-binary', 'Transgender Female', 'Transgender Male', 'Gender Non-conforming', 'Gender Queer', 'Other', 'Uncertain']) | queer_white.xtn_sexual_orientation_source_concept_name.isin(['Lesbian or Gay', 'Bisexual', 'Queer', 'Something else', 'Don\\'t know'])]\n",
    "\n",
    "male_black_inpatient = male_black.loc[male_black.xtn_visit_type_source_concept_code.isin(['Inpatient Hospitalization from ED Visit','Inpatient Hospitalization'])]\n",
    "male_black_outpatient  = male_black.loc[male_black.xtn_visit_type_source_concept_code.isin(['Outpatient Visit','Hospital Outpatient Visit','Telehealth Visit','Mobile Unit Encounter'])]\n",
    "male_black_ed = male_black.loc[male_black.xtn_visit_type_source_concept_code.isin(['ED Visit'])]\n",
    "\n",
    "male_white_inpatient = male_white.loc[male_white.xtn_visit_type_source_concept_code.isin(['Inpatient Hospitalization from ED Visit','Inpatient Hospitalization'])]\n",
    "male_white_outpatient  = male_white.loc[male_white.xtn_visit_type_source_concept_code.isin(['Outpatient Visit','Hospital Outpatient Visit','Telehealth Visit','Mobile Unit Encounter'])]\n",
    "male_white_ed = male_white.loc[male_white.xtn_visit_type_source_concept_code.isin(['ED Visit'])]\n",
    "\n",
    "\n",
    "female_black_inpatient = female_black.loc[female_black.xtn_visit_type_source_concept_code.isin(['Inpatient Hospitalization from ED Visit','Inpatient Hospitalization'])]\n",
    "female_black_outpatient  = female_black.loc[female_black.xtn_visit_type_source_concept_code.isin(['Outpatient Visit','Hospital Outpatient Visit','Telehealth Visit','Mobile Unit Encounter'])]\n",
    "female_black_ed = female_black.loc[female_black.xtn_visit_type_source_concept_code.isin(['ED Visit'])]\n",
    "\n",
    "female_white_inpatient = female_white.loc[female_white.xtn_visit_type_source_concept_code.isin(['Inpatient Hospitalization from ED Visit','Inpatient Hospitalization'])]\n",
    "female_white_outpatient  = female_white.loc[female_white.xtn_visit_type_source_concept_code.isin(['Outpatient Visit','Hospital Outpatient Visit','Telehealth Visit','Mobile Unit Encounter'])]\n",
    "female_white_ed = female_white.loc[female_white.xtn_visit_type_source_concept_code.isin(['ED Visit'])]"
   ],
   "metadata": {
    "collapsed": false,
    "pycharm": {
     "name": "#%%\n"
    }
   }
  },
  {
   "cell_type": "code",
   "execution_count": 6,
   "outputs": [
    {
     "name": "stdout",
     "output_type": "stream",
     "text": [
      "22257 \n",
      " 1999 \n",
      " 9186 \n",
      " 2107 \n",
      " 2580 \n",
      " 624 \n",
      " 0 \n",
      " 632 \n",
      " 1219 \n",
      " 0 \n",
      " 387 \n",
      "\n"
     ]
    }
   ],
   "source": [
    "male_black_schizo = male_black.loc[male_black.CCSR_code.isin(['Schizophrenia spectrum and other psychotic disorders'])] # - 1999\n",
    "male_black_neurodev = male_black.loc[male_black.CCSR_code.isin(['Neurodevelopmental disorders'])] # - 9186\n",
    "male_black_adhd = male_black.loc[male_black.ICD_code_top_h.isin(['F90'])] # ADHD - 2107\n",
    "male_black_pdd = male_black.loc[male_black.ICD_code_top_h.isin(['F84'])] # pervasive dev disorders - 2580\n",
    "male_black_autism = male_black.loc[male_black.ICD_code_h.isin(['F84.0'])] # autism - 624\n",
    "male_black_rett = male_black.loc[male_black.ICD_code_h.isin(['F84.2'])] # rett - 0\n",
    "male_black_other_disintegrative = male_black.loc[male_black.ICD_code_h.isin(['F84.3'])] # other - 632\n",
    "male_black_asperger = male_black.loc[male_black.ICD_code_h.isin(['F84.5'])] # asperberg - 1219\n",
    "male_black_other_pervasive = male_black.loc[male_black.ICD_code_h.isin(['F84.8'])] # other - 0\n",
    "male_black_pdd_other = male_black.loc[male_black.ICD_code_h.isin(['F84.9'])] # other - 387\n",
    "\n",
    "\n",
    "print(male_black.person_id.nunique(), '\\n',\n",
    "      male_black_schizo.person_id.nunique(), '\\n',\n",
    "      male_black_neurodev.person_id.nunique(), '\\n',\n",
    "      male_black_adhd.person_id.nunique(), '\\n',\n",
    "      male_black_pdd.person_id.nunique(), '\\n',\n",
    "      male_black_autism.person_id.nunique(), '\\n',\n",
    "      male_black_rett.person_id.nunique(), '\\n',\n",
    "      male_black_other_disintegrative.person_id.nunique(), '\\n',\n",
    "      male_black_asperger.person_id.nunique(), '\\n',\n",
    "      male_black_other_pervasive.person_id.nunique(), '\\n',\n",
    "      male_black_pdd_other.person_id.nunique(), '\\n',)\n",
    "\n",
    "# 1775 counts of comorbidity between CCSR neurodev and schizophreni spectrum and other psychotic disorders\n",
    "# 1364 counts of comorbidity between ICD pdd and schizophrenia/Schizoaffective disorders/Unspecified psychosis\n",
    "\n",
    "# 1999 / 22257 = ~9% of male black patients w CCSR schizophreni spectrum and other psychotic disorders\n",
    "# 2580 / 22257 = ~11.6% of male black patients w ICD pervasive dev disorders (pdd)\n",
    "# 1219 / 22257 = ~5.5% of male black patients w ICD asperger\n",
    "# 1364 / 22257 = ~ 6% of male black patients w comorbidity between ICD pdd and schizophrenia/Schizoaffective disorders/Unspecified psychosis\n",
    "# 1364 / 2580 = ~53% of male black patients w ICD pervasive dev disorders also have schizophrenia/Schizoaffective disorders/Unspecified psychosis\n",
    "# 1364 / 1999 = ~68% of male black patients w CCSR schizophrenia/Schizoaffective disorders/Unspecified psychosis also have ICD pervasive dev disorders"
   ],
   "metadata": {
    "collapsed": false,
    "pycharm": {
     "name": "#%%\n"
    }
   }
  },
  {
   "cell_type": "code",
   "execution_count": 7,
   "outputs": [
    {
     "name": "stdout",
     "output_type": "stream",
     "text": [
      "77831 \n",
      " 1572 \n",
      " 31719 \n",
      " 7704 \n",
      " 4309 \n",
      " 913 \n",
      " 1 \n",
      " 2341 \n",
      " 794 \n",
      " 0 \n",
      " 667 \n",
      "\n"
     ]
    }
   ],
   "source": [
    "male_white_schizo = male_white.loc[male_white.CCSR_code.isin(['Schizophrenia spectrum and other psychotic disorders'])] # - 1572\n",
    "male_white_neurodev = male_white.loc[male_white.CCSR_code.isin(['Neurodevelopmental disorders'])] # - 31719\n",
    "male_white_adhd = male_white.loc[male_white.ICD_code_top_h.isin(['F90'])] # ADHD - 7704\n",
    "male_white_pdd = male_white.loc[male_white.ICD_code_top_h.isin(['F84'])] # pervasive dev disorders - 4309\n",
    "male_white_autism = male_white.loc[male_white.ICD_code_h.isin(['F84.0'])] # autism - 913\n",
    "male_white_rett = male_white.loc[male_white.ICD_code_h.isin(['F84.2'])] # rett - 1\n",
    "male_white_other_disintegrative = male_white.loc[male_white.ICD_code_h.isin(['F84.3'])] # other - 2341\n",
    "male_white_asperger = male_white.loc[male_white.ICD_code_h.isin(['F84.5'])] # asperberg - 794\n",
    "male_white_other_pervasive = male_white.loc[male_white.ICD_code_h.isin(['F84.8'])] # other - 0\n",
    "male_white_pdd_other = male_white.loc[male_white.ICD_code_h.isin(['F84.9'])] # other - 667\n",
    "\n",
    "\n",
    "print(male_white.person_id.nunique(), '\\n',\n",
    "      male_white_schizo.person_id.nunique(), '\\n',\n",
    "      male_white_neurodev.person_id.nunique(), '\\n',\n",
    "      male_white_adhd.person_id.nunique(), '\\n',\n",
    "      male_white_pdd.person_id.nunique(), '\\n',\n",
    "      male_white_autism.person_id.nunique(), '\\n',\n",
    "      male_white_rett.person_id.nunique(), '\\n',\n",
    "      male_white_other_disintegrative.person_id.nunique(), '\\n',\n",
    "      male_white_asperger.person_id.nunique(), '\\n',\n",
    "      male_white_other_pervasive.person_id.nunique(), '\\n',\n",
    "      male_white_pdd_other.person_id.nunique(), '\\n',)\n",
    "\n",
    "# 1092 counts of comorbidity between CCSR neurodev and schizophreni spectrum and other psychotic disorders\n",
    "# 710 counts of comorbidity between ICD pdd and schizophrenia/Schizoaffective disorders/Unspecified psychosis\n",
    "\n",
    "# 1572 / 77831 = ~2% of male white patients w CCSR schizophreni spectrum and other psychotic disorders\n",
    "# 4309 / 77831 = ~5.5% of male white patients w ICD pervasive dev disorders (pdd)\n",
    "# 794 / 77831 = ~1% of male white patients w ICD asperger\n",
    "# 710 / 77831 = ~ 1% of male white patients w comorbidity between ICD pdd and schizophrenia/Schizoaffective disorders/Unspecified psychosis\n",
    "# 710 / 4309 = ~16.5% of male white patients w ICD pervasive dev disorders also have schizophrenia/Schizoaffective disorders/Unspecified psychosis\n",
    "# 710 / 1572 = ~45% of male white patients w CCSR schizophrenia/Schizoaffective disorders/Unspecified psychosis also have ICD pervasive dev disorders\n",
    "\n"
   ],
   "metadata": {
    "collapsed": false,
    "pycharm": {
     "name": "#%%\n"
    }
   }
  },
  {
   "cell_type": "code",
   "execution_count": null,
   "outputs": [],
   "source": [],
   "metadata": {
    "collapsed": false,
    "pycharm": {
     "name": "#%%\n"
    }
   }
  }
 ],
 "metadata": {
  "kernelspec": {
   "display_name": "Python 3",
   "language": "python",
   "name": "python3"
  },
  "language_info": {
   "codemirror_mode": {
    "name": "ipython",
    "version": 2
   },
   "file_extension": ".py",
   "mimetype": "text/x-python",
   "name": "python",
   "nbconvert_exporter": "python",
   "pygments_lexer": "ipython2",
   "version": "2.7.6"
  }
 },
 "nbformat": 4,
 "nbformat_minor": 0
}