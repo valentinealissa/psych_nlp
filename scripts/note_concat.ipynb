{
 "cells": [
  {
   "cell_type": "code",
   "execution_count": null,
   "outputs": [],
   "source": [
    "# importing moules\n",
    "import os\n",
    "import pandas as pd\n",
    "import matplotlib\n",
    "import numpy as np"
   ],
   "metadata": {
    "collapsed": false,
    "pycharm": {
     "name": "#%%\n"
    }
   }
  },
  {
   "cell_type": "code",
   "execution_count": null,
   "outputs": [],
   "source": [
    "data_path = \"/Users/valena17/psych_nlp/data/\"\n",
    "in_file = \"PSYCH_NOTES_092020.csv\"\n",
    "out_file = \"CONCAT_PSYCH_NOTES_092020.csv\"\n",
    "_filename = os.path.join(data_path, in_file)\n",
    "_out_filename = os.path.join(data_path, out_file)\n",
    "    # _filename = os.path.join(args.data_path, args.in_file)\n",
    "    # _out_filename = os.path.join(args.data_path, args.out_file)\n",
    "with open(_filename) as f:\n",
    "    df = pd.read_csv(f, parse_dates=[4, 8, 9], quotechar=\"\\\"\")\n",
    "    df = df.drop(columns=['Unnamed: 0.1', 'Unnamed: 0'])  # Unnamed: 0.1, Unnamed: 0 --- drop columns with nothing\n",
    "    max_notes_patient1 = df.loc[(df[\"PAT_ID\"] == \"Z2801050\")]\n",
    "    max_notes_patient2 = df.loc[(df[\"MRN\"] == \"7186513\")]\n",
    "    max_notes_patient3 = df.loc[(df[\"MRN\"] == \"8607090\")]\n",
    "    notes_3patients = pd.concat([max_notes_patient1, max_notes_patient2, max_notes_patient3])\n",
    "    # test = combine_notes(notes_3patients)\n",
    "    # test.to_csv(\"/Users/valena17/psych_nlp/data/agg_sample_3patients.csv\")"
   ],
   "metadata": {
    "collapsed": false,
    "pycharm": {
     "name": "#%%\n"
    }
   }
  },
  {
   "cell_type": "code",
   "execution_count": 44,
   "outputs": [],
   "source": [
    "def combine_notes(data_frame):\n",
    "    data_frame = data_frame.sort_values(by=['PAT_ID', 'NOTE_ID', 'CONTACT_SERIAL_NUM', 'SPECIFIED_DATETIME', 'LINE'])\n",
    "    data_frame['NOTE_TEXT'] = data_frame['NOTE_TEXT'].str.replace(' ', '')\n",
    "    data_frame['NEW_NOTE_TEXT'] = data_frame.groupby(['NOTE_ID', 'CONTACT_SERIAL_NUM'])['NOTE_TEXT'].transform(lambda x: ' '.join(x))\n",
    "    return data_frame.drop(columns=[\"LINE\", \"NOTE_TEXT\"]).drop_duplicates()\n",
    "    # group by\n",
    "    # df = df.groupby(['NOTE_ID', 'CONTACT_SERIAL_NUM'])\n",
    "    # sort by 'LINE'\n",
    "    # apply concat_notes() function i make separately\n",
    "\n",
    "\n",
    "    # data_frame['id_match'] = data_frame.NOTE_ID == data_frame.NOTE_ID.shift(-1)\n",
    "    # data_frame['serial_match'] = data_frame.CONTACT_SERIAL_NUM == data_frame.CONTACT_SERIAL_NUM.shift(-1)\n",
    "    # new_note = []\n",
    "    # for row in data_frame.itertuples(index=True):\n",
    "    #     index = row[0]\n",
    "    #     note_text = row.NOTE_TEXT.replace(' ', '')  # removing  \n",
    "    #     if row.id_match and row.serial_match:\n",
    "    #         new_note.append(note_text)\n",
    "    #     else:\n",
    "    #         new_note.append(note_text)\n",
    "    #         data_frame.at[index, 'NEW_NOTE_TEXT'] = \" \".join(new_note)\n",
    "    #         new_note = []\n",
    "    # return data_frame.dropna().drop([\"id_match\", \"serial_match\", \"NOTE_TEXT\"], axis=1)"
   ],
   "metadata": {
    "collapsed": false,
    "pycharm": {
     "name": "#%%\n"
    }
   }
  },
  {
   "cell_type": "code",
   "execution_count": 45,
   "outputs": [],
   "source": [
    "test = combine_notes(df)\n",
    "test.to_csv(_out_filename)"
   ],
   "metadata": {
    "collapsed": false,
    "pycharm": {
     "name": "#%%\n"
    }
   }
  },
  {
   "cell_type": "code",
   "execution_count": null,
   "outputs": [],
   "source": [],
   "metadata": {
    "collapsed": false,
    "pycharm": {
     "name": "#%%\n"
    }
   }
  }
 ],
 "metadata": {
  "kernelspec": {
   "display_name": "Python 3",
   "language": "python",
   "name": "python3"
  },
  "language_info": {
   "codemirror_mode": {
    "name": "ipython",
    "version": 2
   },
   "file_extension": ".py",
   "mimetype": "text/x-python",
   "name": "python",
   "nbconvert_exporter": "python",
   "pygments_lexer": "ipython2",
   "version": "2.7.6"
  }
 },
 "nbformat": 4,
 "nbformat_minor": 0
}