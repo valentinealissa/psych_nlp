{
 "cells": [
  {
   "cell_type": "code",
   "execution_count": 1,
   "outputs": [],
   "source": [
    "from datetime import datetime\n",
    "# importing moules\n",
    "import os\n",
    "import pandas as pd\n",
    "import matplotlib\n",
    "import numpy as np\n",
    "from re import search\n",
    "import matplotlib.pyplot as plt\n",
    "from datetime import date\n",
    "import seaborn as sns\n",
    "import math"
   ],
   "metadata": {
    "collapsed": false,
    "pycharm": {
     "name": "#%%\n"
    }
   }
  },
  {
   "cell_type": "code",
   "execution_count": 2,
   "outputs": [
    {
     "name": "stderr",
     "output_type": "stream",
     "text": [
      "/var/folders/xm/m4dy5bvs1fn7fb9wxjhsg4dc0000gn/T/ipykernel_7465/889036862.py:1: DtypeWarning: Columns (8) have mixed types. Specify dtype option on import or set low_memory=False.\n",
      "  all_encounters = pd.read_csv('../data/clean_all_encounters_conditions_patients.csv')\n"
     ]
    }
   ],
   "source": [
    "all_encounters = pd.read_csv('../data/clean_all_encounters_conditions_patients.csv')\n",
    "psych_encounters = pd.read_csv('../data/clean_psych_encounters_conditions_patients.csv')\n",
    "# patient_psych_diagnoses = pd.read_csv('../data/psych_diagnoses_per_patient.csv')\n",
    "# psych_depts_encounters = pd.read_csv('../data/clean_psych_dept_encounters_conditions_patients.csv')\n",
    "# nonpsych_depts_encounters = pd.read_csv('../data/clean_nonpsych_dept_encounters_conditions_patients.csv')"
   ],
   "metadata": {
    "collapsed": false,
    "pycharm": {
     "name": "#%%\n"
    }
   }
  },
  {
   "cell_type": "code",
   "execution_count": 39,
   "outputs": [],
   "source": [
    "# psych_depts = pd.read_csv('/Users/valena17/DataGripProjects/msdw2/psych_depts/care_site_name.csv')\n",
    "# psych_depts = list(psych_depts.xtn_department_name)\n",
    "# psych_depts = [item for item in psych_depts if not(pd.isna(item))]\n",
    "# psych_depts_encounters = all_encounters.loc[all_encounters.xtn_department_name.isin(psych_depts)]\n",
    "# nonpsych_depts_encounters = all_encounters[~all_encounters['xtn_department_name'].isin(psych_depts)]\n",
    "# psych_depts_encounters.head(20)\n",
    "# pd.DataFrame.to_csv(psych_depts_encounters, \"/Users/valena17/psych_nlp/data/clean_psych_dept_encounters_conditions_patients.csv\",index = False)\n",
    "# pd.DataFrame.to_csv(nonpsych_depts_encounters, \"/Users/valena17/psych_nlp/data/clean_nonpsych_dept_encounters_conditions_patients.csv\",index = False)"
   ],
   "metadata": {
    "collapsed": false,
    "pycharm": {
     "name": "#%%\n"
    }
   }
  },
  {
   "cell_type": "code",
   "execution_count": 19,
   "outputs": [
    {
     "name": "stderr",
     "output_type": "stream",
     "text": [
      "/var/folders/xm/m4dy5bvs1fn7fb9wxjhsg4dc0000gn/T/ipykernel_43879/758889035.py:7: DtypeWarning: Columns (0,1,2,3,4,5,30,31,35,36,37,38,52,53,55,56,57,58,59,60,61,64,65,66,67,68,69) have mixed types. Specify dtype option on import or set low_memory=False.\n",
      "  all_insurance = pd.read_csv('/Users/valena17/psych_nlp/data/insurance/all_insurance.csv')\n"
     ]
    }
   ],
   "source": [
    "missing_i = pd.read_csv('/Users/valena17/DataGripProjects/msdw2/output/missing_insurance.csv',\n",
    "                        names=['xtn_patient_epic_mrn', 'etl_epic_encounter_key', 'insurance_payor_class'],\n",
    "                        usecols=[0,1,41])\n",
    "missing_i = missing_i.replace(['*Unspecified', 'Other', 'Charge Correction'], np.nan)\n",
    "missing_i = missing_i[missing_i.xtn_patient_epic_mrn.isin(mrns)]\n",
    "all_insurance = pd.read_csv('/Users/valena17/psych_nlp/data/insurance/all_insurance.csv',\n",
    "                        names=['xtn_patient_epic_mrn', 'etl_epic_encounter_key', 'insurance_payor_class'],\n",
    "                        usecols=[0,1,41])\n",
    "all_insurance = pd.concat([all_insurance, missing_i])\n",
    "all_insurance\n",
    "# pd.DataFrame.to_csv(all_insurance, \"/Users/valena17/psych_nlp/data/insurance/insurance_complete.csv\",index = False)\n",
    "everything = pd.merge(all_encounters, all_insurance, how=\"left\", on=[\"xtn_patient_epic_mrn\", \"etl_epic_encounter_key\"])\n",
    "everything"
   ],
   "metadata": {
    "collapsed": false,
    "pycharm": {
     "name": "#%%\n"
    }
   }
  },
  {
   "cell_type": "code",
   "execution_count": 44,
   "outputs": [],
   "source": [
    "# everything = everything.drop(columns = ['insurance_payor_class_x', 'insured_status_x', 'time_since_zip_update', 'location_record_update_datetime', 'xtn_inpatient_admission_datetime', 'xtn_discharge_datetime', 'merged_race_ethnicity_v1'])\n",
    "pd.DataFrame.to_csv(everything, \"/Users/valena17/psych_nlp/data/clean_all_encounters_conditions_patients.csv\",index = False)\n",
    "# /Users/valena17/psych_nlp/data/clean_all_encounters_conditions_patients.csv most recent version as of 11/3/22"
   ],
   "metadata": {
    "collapsed": false,
    "pycharm": {
     "name": "#%%\n"
    }
   }
  },
  {
   "cell_type": "code",
   "execution_count": 3,
   "outputs": [],
   "source": [
    "# save encounters with non na values for later analysis and save encounters with a psych diagnosis\n",
    "# psych_encounters = df.dropna(axis = 0, subset=['merged_gender', 'insured_status_x', 'billing_condition', 'xtn_birth_date',\n",
    "#                               'xtn_race_ethnicity_source_concept_name', 'visit_start_datetime', 'xtn_visit_type_source_concept_code'])\n",
    "# everything = pd.read_csv('../data/clean_all_encounters_conditions_patients.csv')\n",
    "psych_encounters = everything.groupby('visit_occurrence_id').filter(lambda x: x['psych_condition'].mean() > 0)\n",
    "pd.DataFrame.to_csv(psych_encounters, \"/Users/valena17/psych_nlp/data/clean_psych_encounters_conditions_patients.csv\",index = False)"
   ],
   "metadata": {
    "collapsed": false,
    "pycharm": {
     "name": "#%%\n"
    }
   }
  },
  {
   "cell_type": "code",
   "execution_count": 4,
   "outputs": [
    {
     "name": "stderr",
     "output_type": "stream",
     "text": [
      "/var/folders/xm/m4dy5bvs1fn7fb9wxjhsg4dc0000gn/T/ipykernel_64502/4174801071.py:4: UserWarning: DataFrame columns are not unique, some columns will be omitted.\n",
      "  mapping_d = map.set_index('referencedComponentName').T.to_dict('list')\n"
     ]
    },
    {
     "data": {
      "text/plain": "['F03.90',\n 'Unspecified dementia, unspecified severity, without behavioral disturbance, psychotic disturbance, mood disturbance, and anxiety']"
     },
     "execution_count": 4,
     "metadata": {},
     "output_type": "execute_result"
    }
   ],
   "source": [
    "import pandas as pd\n",
    "map = pd.read_csv(\"/Users/valena17/DataGripProjects/msdw2/psych_diagnoses/snomed_icd_map_v2.csv\")\n",
    "map = map[['referencedComponentName', 'mapTarget', 'mapTargetName']]\n",
    "mapping_d = map.set_index('referencedComponentName').T.to_dict('list')\n",
    "mapping_d[\"Dementia\"]"
   ],
   "metadata": {
    "collapsed": false,
    "pycharm": {
     "name": "#%%\n"
    }
   }
  },
  {
   "cell_type": "code",
   "execution_count": 5,
   "outputs": [
    {
     "data": {
      "text/plain": "   person_id  visit_occurrence_id  etl_epic_encounter_key xtn_department_name  \\\n0        845            172058493               285636709  10 UNION SQ E RESP   \n1        845            172058493               285636709  10 UNION SQ E RESP   \n2        845            172058493               285636709  10 UNION SQ E RESP   \n3        845            185133868               291089587     10 UNION SQ PFT   \n4        845            185133868               291089587     10 UNION SQ PFT   \n\n   xtn_visit_type_source_concept_id xtn_visit_type_source_concept_code  \\\n0                        2000000112                   Outpatient Visit   \n1                        2000000112                   Outpatient Visit   \n2                        2000000112                   Outpatient Visit   \n3                        2000000112                   Outpatient Visit   \n4                        2000000112                   Outpatient Visit   \n\n  visit_start_datetime   visit_end_datetime xtn_patient_epic_mrn  \\\n0  2022-01-25 00:00:00  2022-01-25 00:00:00              3754282   \n1  2022-01-25 00:00:00  2022-01-25 00:00:00              3754282   \n2  2022-01-25 00:00:00  2022-01-25 00:00:00              3754282   \n3  2022-02-22 00:00:00  2022-02-22 00:00:00              3754282   \n4  2022-02-22 00:00:00  2022-02-22 00:00:00              3754282   \n\n  xtn_birth_date  ... merged_gender merged_race_ethnicity_v2  psych_condition  \\\n0     1974-09-28  ...        Female                    White                0   \n1     1974-09-28  ...        Female                    White                0   \n2     1974-09-28  ...        Female                    White                1   \n3     1974-09-28  ...        Female                    White                0   \n4     1974-09-28  ...        Female                    White                0   \n\n   insurance_payor_class  insurance_status ICD_name  ICD_code ICD_code_h  \\\n0  Medicaid Managed Care            Public     None      None        NaN   \n1  Medicaid Managed Care            Public     None      None        NaN   \n2  Medicaid Managed Care            Public     None      None      F78.A   \n3  Medicaid Managed Care            Public     None      None        NaN   \n4  Medicaid Managed Care            Public     None      None        NaN   \n\n   ICD_code_top_h                     CCSR_code  \n0             NaN                           NaN  \n1             NaN                           NaN  \n2             F78  Neurodevelopmental disorders  \n3             NaN                           NaN  \n4             NaN                           NaN  \n\n[5 rows x 37 columns]",
      "text/html": "<div>\n<style scoped>\n    .dataframe tbody tr th:only-of-type {\n        vertical-align: middle;\n    }\n\n    .dataframe tbody tr th {\n        vertical-align: top;\n    }\n\n    .dataframe thead th {\n        text-align: right;\n    }\n</style>\n<table border=\"1\" class=\"dataframe\">\n  <thead>\n    <tr style=\"text-align: right;\">\n      <th></th>\n      <th>person_id</th>\n      <th>visit_occurrence_id</th>\n      <th>etl_epic_encounter_key</th>\n      <th>xtn_department_name</th>\n      <th>xtn_visit_type_source_concept_id</th>\n      <th>xtn_visit_type_source_concept_code</th>\n      <th>visit_start_datetime</th>\n      <th>visit_end_datetime</th>\n      <th>xtn_patient_epic_mrn</th>\n      <th>xtn_birth_date</th>\n      <th>...</th>\n      <th>merged_gender</th>\n      <th>merged_race_ethnicity_v2</th>\n      <th>psych_condition</th>\n      <th>insurance_payor_class</th>\n      <th>insurance_status</th>\n      <th>ICD_name</th>\n      <th>ICD_code</th>\n      <th>ICD_code_h</th>\n      <th>ICD_code_top_h</th>\n      <th>CCSR_code</th>\n    </tr>\n  </thead>\n  <tbody>\n    <tr>\n      <th>0</th>\n      <td>845</td>\n      <td>172058493</td>\n      <td>285636709</td>\n      <td>10 UNION SQ E RESP</td>\n      <td>2000000112</td>\n      <td>Outpatient Visit</td>\n      <td>2022-01-25 00:00:00</td>\n      <td>2022-01-25 00:00:00</td>\n      <td>3754282</td>\n      <td>1974-09-28</td>\n      <td>...</td>\n      <td>Female</td>\n      <td>White</td>\n      <td>0</td>\n      <td>Medicaid Managed Care</td>\n      <td>Public</td>\n      <td>None</td>\n      <td>None</td>\n      <td>NaN</td>\n      <td>NaN</td>\n      <td>NaN</td>\n    </tr>\n    <tr>\n      <th>1</th>\n      <td>845</td>\n      <td>172058493</td>\n      <td>285636709</td>\n      <td>10 UNION SQ E RESP</td>\n      <td>2000000112</td>\n      <td>Outpatient Visit</td>\n      <td>2022-01-25 00:00:00</td>\n      <td>2022-01-25 00:00:00</td>\n      <td>3754282</td>\n      <td>1974-09-28</td>\n      <td>...</td>\n      <td>Female</td>\n      <td>White</td>\n      <td>0</td>\n      <td>Medicaid Managed Care</td>\n      <td>Public</td>\n      <td>None</td>\n      <td>None</td>\n      <td>NaN</td>\n      <td>NaN</td>\n      <td>NaN</td>\n    </tr>\n    <tr>\n      <th>2</th>\n      <td>845</td>\n      <td>172058493</td>\n      <td>285636709</td>\n      <td>10 UNION SQ E RESP</td>\n      <td>2000000112</td>\n      <td>Outpatient Visit</td>\n      <td>2022-01-25 00:00:00</td>\n      <td>2022-01-25 00:00:00</td>\n      <td>3754282</td>\n      <td>1974-09-28</td>\n      <td>...</td>\n      <td>Female</td>\n      <td>White</td>\n      <td>1</td>\n      <td>Medicaid Managed Care</td>\n      <td>Public</td>\n      <td>None</td>\n      <td>None</td>\n      <td>F78.A</td>\n      <td>F78</td>\n      <td>Neurodevelopmental disorders</td>\n    </tr>\n    <tr>\n      <th>3</th>\n      <td>845</td>\n      <td>185133868</td>\n      <td>291089587</td>\n      <td>10 UNION SQ PFT</td>\n      <td>2000000112</td>\n      <td>Outpatient Visit</td>\n      <td>2022-02-22 00:00:00</td>\n      <td>2022-02-22 00:00:00</td>\n      <td>3754282</td>\n      <td>1974-09-28</td>\n      <td>...</td>\n      <td>Female</td>\n      <td>White</td>\n      <td>0</td>\n      <td>Medicaid Managed Care</td>\n      <td>Public</td>\n      <td>None</td>\n      <td>None</td>\n      <td>NaN</td>\n      <td>NaN</td>\n      <td>NaN</td>\n    </tr>\n    <tr>\n      <th>4</th>\n      <td>845</td>\n      <td>185133868</td>\n      <td>291089587</td>\n      <td>10 UNION SQ PFT</td>\n      <td>2000000112</td>\n      <td>Outpatient Visit</td>\n      <td>2022-02-22 00:00:00</td>\n      <td>2022-02-22 00:00:00</td>\n      <td>3754282</td>\n      <td>1974-09-28</td>\n      <td>...</td>\n      <td>Female</td>\n      <td>White</td>\n      <td>0</td>\n      <td>Medicaid Managed Care</td>\n      <td>Public</td>\n      <td>None</td>\n      <td>None</td>\n      <td>NaN</td>\n      <td>NaN</td>\n      <td>NaN</td>\n    </tr>\n  </tbody>\n</table>\n<p>5 rows × 37 columns</p>\n</div>"
     },
     "execution_count": 5,
     "metadata": {},
     "output_type": "execute_result"
    }
   ],
   "source": [
    "def ICD_name(row):\n",
    "    if row in mapping_d.keys():\n",
    "        return mapping_d[row][1]\n",
    "\n",
    "def ICD_code(row):\n",
    "    if row in mapping_d.keys():\n",
    "        return mapping_d[row][0]\n",
    "\n",
    "all_encounters['ICD_name'] = all_encounters['condition_concept_name'].apply(ICD_name)\n",
    "all_encounters['ICD_code'] = all_encounters['condition_concept_name'].apply(ICD_code)\n",
    "all_encounters.head()"
   ],
   "metadata": {
    "collapsed": false,
    "pycharm": {
     "name": "#%%\n"
    }
   }
  },
  {
   "cell_type": "code",
   "execution_count": 6,
   "outputs": [
    {
     "data": {
      "text/plain": "   person_id  visit_occurrence_id  etl_epic_encounter_key xtn_department_name  \\\n0        845            172058493               285636709  10 UNION SQ E RESP   \n1        845            172058493               285636709  10 UNION SQ E RESP   \n2        845            172058493               285636709  10 UNION SQ E RESP   \n3        845            185133868               291089587     10 UNION SQ PFT   \n4        845            185133868               291089587     10 UNION SQ PFT   \n\n   xtn_visit_type_source_concept_id xtn_visit_type_source_concept_code  \\\n0                        2000000112                   Outpatient Visit   \n1                        2000000112                   Outpatient Visit   \n2                        2000000112                   Outpatient Visit   \n3                        2000000112                   Outpatient Visit   \n4                        2000000112                   Outpatient Visit   \n\n  visit_start_datetime   visit_end_datetime xtn_patient_epic_mrn  \\\n0  2022-01-25 00:00:00  2022-01-25 00:00:00              3754282   \n1  2022-01-25 00:00:00  2022-01-25 00:00:00              3754282   \n2  2022-01-25 00:00:00  2022-01-25 00:00:00              3754282   \n3  2022-02-22 00:00:00  2022-02-22 00:00:00              3754282   \n4  2022-02-22 00:00:00  2022-02-22 00:00:00              3754282   \n\n  xtn_birth_date  ... merged_gender merged_race_ethnicity_v2  psych_condition  \\\n0     1974-09-28  ...        Female                    White                0   \n1     1974-09-28  ...        Female                    White                0   \n2     1974-09-28  ...        Female                    White                1   \n3     1974-09-28  ...        Female                    White                0   \n4     1974-09-28  ...        Female                    White                0   \n\n   insurance_payor_class  insurance_status ICD_name  ICD_code ICD_code_h  \\\n0  Medicaid Managed Care            Public     None      None       None   \n1  Medicaid Managed Care            Public     None      None       None   \n2  Medicaid Managed Care            Public     None      None       None   \n3  Medicaid Managed Care            Public     None      None       None   \n4  Medicaid Managed Care            Public     None      None       None   \n\n   ICD_code_top_h                     CCSR_code  \n0            None                           NaN  \n1            None                           NaN  \n2            None  Neurodevelopmental disorders  \n3            None                           NaN  \n4            None                           NaN  \n\n[5 rows x 37 columns]",
      "text/html": "<div>\n<style scoped>\n    .dataframe tbody tr th:only-of-type {\n        vertical-align: middle;\n    }\n\n    .dataframe tbody tr th {\n        vertical-align: top;\n    }\n\n    .dataframe thead th {\n        text-align: right;\n    }\n</style>\n<table border=\"1\" class=\"dataframe\">\n  <thead>\n    <tr style=\"text-align: right;\">\n      <th></th>\n      <th>person_id</th>\n      <th>visit_occurrence_id</th>\n      <th>etl_epic_encounter_key</th>\n      <th>xtn_department_name</th>\n      <th>xtn_visit_type_source_concept_id</th>\n      <th>xtn_visit_type_source_concept_code</th>\n      <th>visit_start_datetime</th>\n      <th>visit_end_datetime</th>\n      <th>xtn_patient_epic_mrn</th>\n      <th>xtn_birth_date</th>\n      <th>...</th>\n      <th>merged_gender</th>\n      <th>merged_race_ethnicity_v2</th>\n      <th>psych_condition</th>\n      <th>insurance_payor_class</th>\n      <th>insurance_status</th>\n      <th>ICD_name</th>\n      <th>ICD_code</th>\n      <th>ICD_code_h</th>\n      <th>ICD_code_top_h</th>\n      <th>CCSR_code</th>\n    </tr>\n  </thead>\n  <tbody>\n    <tr>\n      <th>0</th>\n      <td>845</td>\n      <td>172058493</td>\n      <td>285636709</td>\n      <td>10 UNION SQ E RESP</td>\n      <td>2000000112</td>\n      <td>Outpatient Visit</td>\n      <td>2022-01-25 00:00:00</td>\n      <td>2022-01-25 00:00:00</td>\n      <td>3754282</td>\n      <td>1974-09-28</td>\n      <td>...</td>\n      <td>Female</td>\n      <td>White</td>\n      <td>0</td>\n      <td>Medicaid Managed Care</td>\n      <td>Public</td>\n      <td>None</td>\n      <td>None</td>\n      <td>None</td>\n      <td>None</td>\n      <td>NaN</td>\n    </tr>\n    <tr>\n      <th>1</th>\n      <td>845</td>\n      <td>172058493</td>\n      <td>285636709</td>\n      <td>10 UNION SQ E RESP</td>\n      <td>2000000112</td>\n      <td>Outpatient Visit</td>\n      <td>2022-01-25 00:00:00</td>\n      <td>2022-01-25 00:00:00</td>\n      <td>3754282</td>\n      <td>1974-09-28</td>\n      <td>...</td>\n      <td>Female</td>\n      <td>White</td>\n      <td>0</td>\n      <td>Medicaid Managed Care</td>\n      <td>Public</td>\n      <td>None</td>\n      <td>None</td>\n      <td>None</td>\n      <td>None</td>\n      <td>NaN</td>\n    </tr>\n    <tr>\n      <th>2</th>\n      <td>845</td>\n      <td>172058493</td>\n      <td>285636709</td>\n      <td>10 UNION SQ E RESP</td>\n      <td>2000000112</td>\n      <td>Outpatient Visit</td>\n      <td>2022-01-25 00:00:00</td>\n      <td>2022-01-25 00:00:00</td>\n      <td>3754282</td>\n      <td>1974-09-28</td>\n      <td>...</td>\n      <td>Female</td>\n      <td>White</td>\n      <td>1</td>\n      <td>Medicaid Managed Care</td>\n      <td>Public</td>\n      <td>None</td>\n      <td>None</td>\n      <td>None</td>\n      <td>None</td>\n      <td>Neurodevelopmental disorders</td>\n    </tr>\n    <tr>\n      <th>3</th>\n      <td>845</td>\n      <td>185133868</td>\n      <td>291089587</td>\n      <td>10 UNION SQ PFT</td>\n      <td>2000000112</td>\n      <td>Outpatient Visit</td>\n      <td>2022-02-22 00:00:00</td>\n      <td>2022-02-22 00:00:00</td>\n      <td>3754282</td>\n      <td>1974-09-28</td>\n      <td>...</td>\n      <td>Female</td>\n      <td>White</td>\n      <td>0</td>\n      <td>Medicaid Managed Care</td>\n      <td>Public</td>\n      <td>None</td>\n      <td>None</td>\n      <td>None</td>\n      <td>None</td>\n      <td>NaN</td>\n    </tr>\n    <tr>\n      <th>4</th>\n      <td>845</td>\n      <td>185133868</td>\n      <td>291089587</td>\n      <td>10 UNION SQ PFT</td>\n      <td>2000000112</td>\n      <td>Outpatient Visit</td>\n      <td>2022-02-22 00:00:00</td>\n      <td>2022-02-22 00:00:00</td>\n      <td>3754282</td>\n      <td>1974-09-28</td>\n      <td>...</td>\n      <td>Female</td>\n      <td>White</td>\n      <td>0</td>\n      <td>Medicaid Managed Care</td>\n      <td>Public</td>\n      <td>None</td>\n      <td>None</td>\n      <td>None</td>\n      <td>None</td>\n      <td>NaN</td>\n    </tr>\n  </tbody>\n</table>\n<p>5 rows × 37 columns</p>\n</div>"
     },
     "execution_count": 6,
     "metadata": {},
     "output_type": "execute_result"
    }
   ],
   "source": [
    "all_encounters['ICD_name'] = all_encounters['ICD_name'].replace(['None'], np.nan)\n",
    "all_encounters['ICD_code'] = all_encounters['ICD_code'].replace(['None'], np.nan)\n",
    "\n",
    "h = pd.read_csv(\"/Users/valena17/DataGripProjects/msdw2/psych_diagnoses/icd_fcode_hierarchy.csv\")\n",
    "h = h[['mapTarget', 'hierarchy', 'top_h']].drop_duplicates()\n",
    "mapping_h = h.set_index('mapTarget').T.to_dict('list')\n",
    "# mapping_h['F01.50']\n",
    "\n",
    "def ICD_h(row):\n",
    "    if row in mapping_h.keys():\n",
    "        return mapping_h[row][0]\n",
    "\n",
    "def ICD_h_top(row):\n",
    "    if row in mapping_h.keys():\n",
    "        return mapping_h[row][1]\n",
    "\n",
    "all_encounters['ICD_code_h'] = all_encounters['ICD_code'].apply(ICD_h)\n",
    "all_encounters['ICD_code_top_h'] = all_encounters['ICD_code'].apply(ICD_h_top)\n",
    "all_encounters['ICD_code_h'] = all_encounters['ICD_code_h'].replace(['None'], np.nan)\n",
    "all_encounters['ICD_code_top_h'] = all_encounters['ICD_code_top_h'].replace(['None'], np.nan)\n",
    "all_encounters.head()"
   ],
   "metadata": {
    "collapsed": false,
    "pycharm": {
     "name": "#%%\n"
    }
   }
  },
  {
   "cell_type": "code",
   "execution_count": 7,
   "outputs": [
    {
     "data": {
      "text/plain": "['Neurocognitive disorders']"
     },
     "execution_count": 7,
     "metadata": {},
     "output_type": "execute_result"
    }
   ],
   "source": [
    "ccsr = pd.read_csv(\"/Users/valena17/DataGripProjects/msdw2/psych_diagnoses/ccsr_fcodes.csv\")\n",
    "ccsr = ccsr.applymap(lambda x: x.replace(\"'\", \"\"))\n",
    "ccsr = ccsr[['ICD-10-CM CODE', 'Default CCSR CATEGORY DESCRIPTION OP']]\n",
    "ccsr_mapping = ccsr.set_index('ICD-10-CM CODE').T.to_dict('list')\n",
    "ccsr_mapping['F01518']"
   ],
   "metadata": {
    "collapsed": false,
    "pycharm": {
     "name": "#%%\n"
    }
   }
  },
  {
   "cell_type": "code",
   "execution_count": 8,
   "outputs": [
    {
     "data": {
      "text/plain": "    person_id  visit_occurrence_id  etl_epic_encounter_key  \\\n0         845            172058493               285636709   \n1         845            172058493               285636709   \n2         845            172058493               285636709   \n3         845            185133868               291089587   \n4         845            185133868               291089587   \n5         845            185133868               291089587   \n6         845            194027752               293787212   \n7         845            194027752               293787212   \n8         845            194027752               293787212   \n9         845            197004100               302037736   \n10        845            197004100               302037736   \n11        845            197004100               302037736   \n12        913            198204422               304807149   \n13        913            198204422               304807149   \n14        913            198204422               304807149   \n15        913            198204422               304807149   \n16        913            198204422               304807149   \n17        913            198204422               304807149   \n18        913            198204422               304807149   \n19        913            198204422               304807149   \n20        913            198204422               304807149   \n21        913            198204422               304807149   \n22        913            198204422               304807149   \n23        913            198204422               304807149   \n24        913            198204422               304807149   \n25        913            198204422               304807149   \n26        913            198204422               304807149   \n27        913            198204422               304807149   \n28        913            198204422               304807149   \n29        913            198204422               304807149   \n30        913            198204422               304807149   \n31        913            198204422               304807149   \n32        913            198204422               304807149   \n33        913            198204422               304807149   \n34        913            198204422               304807149   \n35        913            198204422               304807149   \n36        913            198204422               304807149   \n37        913            198204422               304807149   \n38        913            198204422               304807149   \n39        913            198204422               304807149   \n40        913            198204422               304807149   \n41        913            198204422               304807149   \n42        913            198204422               304807149   \n43        913            198204422               304807149   \n44        913            198204422               304807149   \n45        913            198204422               304807149   \n46        913            198204422               304807149   \n47       1081            195258082               297028242   \n48       1081            195258082               297028242   \n49       1081            195258082               297028242   \n\n                       xtn_department_name  xtn_visit_type_source_concept_id  \\\n0                       10 UNION SQ E RESP                        2000000112   \n1                       10 UNION SQ E RESP                        2000000112   \n2                       10 UNION SQ E RESP                        2000000112   \n3                          10 UNION SQ PFT                        2000000112   \n4                          10 UNION SQ PFT                        2000000112   \n5                          10 UNION SQ PFT                        2000000112   \n6           17 E 102ND RHEUMATOLOGY CLINIC                        2000000112   \n7           17 E 102ND RHEUMATOLOGY CLINIC                        2000000112   \n8           17 E 102ND RHEUMATOLOGY CLINIC                        2000000112   \n9           17 E 102ND RHEUMATOLOGY CLINIC                        2000000112   \n10          17 E 102ND RHEUMATOLOGY CLINIC                        2000000112   \n11          17 E 102ND RHEUMATOLOGY CLINIC                        2000000112   \n12  341 CENTRAL PARK AVE INTERNAL MEDICINE                        2000000112   \n13  341 CENTRAL PARK AVE INTERNAL MEDICINE                        2000000112   \n14  341 CENTRAL PARK AVE INTERNAL MEDICINE                        2000000112   \n15  341 CENTRAL PARK AVE INTERNAL MEDICINE                        2000000112   \n16  341 CENTRAL PARK AVE INTERNAL MEDICINE                        2000000112   \n17  341 CENTRAL PARK AVE INTERNAL MEDICINE                        2000000112   \n18  341 CENTRAL PARK AVE INTERNAL MEDICINE                        2000000112   \n19  341 CENTRAL PARK AVE INTERNAL MEDICINE                        2000000112   \n20  341 CENTRAL PARK AVE INTERNAL MEDICINE                        2000000112   \n21  341 CENTRAL PARK AVE INTERNAL MEDICINE                        2000000112   \n22  341 CENTRAL PARK AVE INTERNAL MEDICINE                        2000000112   \n23  341 CENTRAL PARK AVE INTERNAL MEDICINE                        2000000112   \n24  341 CENTRAL PARK AVE INTERNAL MEDICINE                        2000000112   \n25  341 CENTRAL PARK AVE INTERNAL MEDICINE                        2000000112   \n26  341 CENTRAL PARK AVE INTERNAL MEDICINE                        2000000112   \n27  341 CENTRAL PARK AVE INTERNAL MEDICINE                        2000000112   \n28  341 CENTRAL PARK AVE INTERNAL MEDICINE                        2000000112   \n29  341 CENTRAL PARK AVE INTERNAL MEDICINE                        2000000112   \n30  341 CENTRAL PARK AVE INTERNAL MEDICINE                        2000000112   \n31  341 CENTRAL PARK AVE INTERNAL MEDICINE                        2000000112   \n32  341 CENTRAL PARK AVE INTERNAL MEDICINE                        2000000112   \n33  341 CENTRAL PARK AVE INTERNAL MEDICINE                        2000000112   \n34  341 CENTRAL PARK AVE INTERNAL MEDICINE                        2000000112   \n35  341 CENTRAL PARK AVE INTERNAL MEDICINE                        2000000112   \n36  341 CENTRAL PARK AVE INTERNAL MEDICINE                        2000000112   \n37  341 CENTRAL PARK AVE INTERNAL MEDICINE                        2000000112   \n38  341 CENTRAL PARK AVE INTERNAL MEDICINE                        2000000112   \n39  341 CENTRAL PARK AVE INTERNAL MEDICINE                        2000000112   \n40  341 CENTRAL PARK AVE INTERNAL MEDICINE                        2000000112   \n41  341 CENTRAL PARK AVE INTERNAL MEDICINE                        2000000112   \n42  341 CENTRAL PARK AVE INTERNAL MEDICINE                        2000000112   \n43  341 CENTRAL PARK AVE INTERNAL MEDICINE                        2000000112   \n44  341 CENTRAL PARK AVE INTERNAL MEDICINE                        2000000112   \n45  341 CENTRAL PARK AVE INTERNAL MEDICINE                        2000000112   \n46  341 CENTRAL PARK AVE INTERNAL MEDICINE                        2000000112   \n47         37-12 82ND ST INTERNAL MEDICINE                        2000000112   \n48         37-12 82ND ST INTERNAL MEDICINE                        2000000112   \n49         37-12 82ND ST INTERNAL MEDICINE                        2000000112   \n\n   xtn_visit_type_source_concept_code visit_start_datetime  \\\n0                    Outpatient Visit  2022-01-25 00:00:00   \n1                    Outpatient Visit  2022-01-25 00:00:00   \n2                    Outpatient Visit  2022-01-25 00:00:00   \n3                    Outpatient Visit  2022-02-22 00:00:00   \n4                    Outpatient Visit  2022-02-22 00:00:00   \n5                    Outpatient Visit  2022-02-22 00:00:00   \n6                    Outpatient Visit  2022-06-16 00:00:00   \n7                    Outpatient Visit  2022-06-16 00:00:00   \n8                    Outpatient Visit  2022-06-16 00:00:00   \n9                    Outpatient Visit  2022-07-05 00:00:00   \n10                   Outpatient Visit  2022-07-05 00:00:00   \n11                   Outpatient Visit  2022-07-05 00:00:00   \n12                   Outpatient Visit  2022-07-21 00:00:00   \n13                   Outpatient Visit  2022-07-21 00:00:00   \n14                   Outpatient Visit  2022-07-21 00:00:00   \n15                   Outpatient Visit  2022-07-21 00:00:00   \n16                   Outpatient Visit  2022-07-21 00:00:00   \n17                   Outpatient Visit  2022-07-21 00:00:00   \n18                   Outpatient Visit  2022-07-21 00:00:00   \n19                   Outpatient Visit  2022-07-21 00:00:00   \n20                   Outpatient Visit  2022-07-21 00:00:00   \n21                   Outpatient Visit  2022-07-21 00:00:00   \n22                   Outpatient Visit  2022-07-21 00:00:00   \n23                   Outpatient Visit  2022-07-21 00:00:00   \n24                   Outpatient Visit  2022-07-21 00:00:00   \n25                   Outpatient Visit  2022-07-21 00:00:00   \n26                   Outpatient Visit  2022-07-21 00:00:00   \n27                   Outpatient Visit  2022-07-21 00:00:00   \n28                   Outpatient Visit  2022-07-21 00:00:00   \n29                   Outpatient Visit  2022-07-21 00:00:00   \n30                   Outpatient Visit  2022-07-21 00:00:00   \n31                   Outpatient Visit  2022-07-21 00:00:00   \n32                   Outpatient Visit  2022-07-21 00:00:00   \n33                   Outpatient Visit  2022-07-21 00:00:00   \n34                   Outpatient Visit  2022-07-21 00:00:00   \n35                   Outpatient Visit  2022-07-21 00:00:00   \n36                   Outpatient Visit  2022-07-21 00:00:00   \n37                   Outpatient Visit  2022-07-21 00:00:00   \n38                   Outpatient Visit  2022-07-21 00:00:00   \n39                   Outpatient Visit  2022-07-21 00:00:00   \n40                   Outpatient Visit  2022-07-21 00:00:00   \n41                   Outpatient Visit  2022-07-21 00:00:00   \n42                   Outpatient Visit  2022-07-21 00:00:00   \n43                   Outpatient Visit  2022-07-21 00:00:00   \n44                   Outpatient Visit  2022-07-21 00:00:00   \n45                   Outpatient Visit  2022-07-21 00:00:00   \n46                   Outpatient Visit  2022-07-21 00:00:00   \n47                   Outpatient Visit  2022-04-22 00:00:00   \n48                   Outpatient Visit  2022-04-22 00:00:00   \n49                   Outpatient Visit  2022-04-22 00:00:00   \n\n     visit_end_datetime xtn_patient_epic_mrn xtn_birth_date  ...  \\\n0   2022-01-25 00:00:00              3754282     1974-09-28  ...   \n1   2022-01-25 00:00:00              3754282     1974-09-28  ...   \n2   2022-01-25 00:00:00              3754282     1974-09-28  ...   \n3   2022-02-22 00:00:00              3754282     1974-09-28  ...   \n4   2022-02-22 00:00:00              3754282     1974-09-28  ...   \n5   2022-02-22 00:00:00              3754282     1974-09-28  ...   \n6   2022-06-16 00:00:00              3754282     1974-09-28  ...   \n7   2022-06-16 00:00:00              3754282     1974-09-28  ...   \n8   2022-06-16 00:00:00              3754282     1974-09-28  ...   \n9   2022-07-05 00:00:00              3754282     1974-09-28  ...   \n10  2022-07-05 00:00:00              3754282     1974-09-28  ...   \n11  2022-07-05 00:00:00              3754282     1974-09-28  ...   \n12  2022-07-21 00:00:00              3657926     1952-03-02  ...   \n13  2022-07-21 00:00:00              3657926     1952-03-02  ...   \n14  2022-07-21 00:00:00              3657926     1952-03-02  ...   \n15  2022-07-21 00:00:00              3657926     1952-03-02  ...   \n16  2022-07-21 00:00:00              3657926     1952-03-02  ...   \n17  2022-07-21 00:00:00              3657926     1952-03-02  ...   \n18  2022-07-21 00:00:00              3657926     1952-03-02  ...   \n19  2022-07-21 00:00:00              3657926     1952-03-02  ...   \n20  2022-07-21 00:00:00              3657926     1952-03-02  ...   \n21  2022-07-21 00:00:00              3657926     1952-03-02  ...   \n22  2022-07-21 00:00:00              3657926     1952-03-02  ...   \n23  2022-07-21 00:00:00              3657926     1952-03-02  ...   \n24  2022-07-21 00:00:00              3657926     1952-03-02  ...   \n25  2022-07-21 00:00:00              3657926     1952-03-02  ...   \n26  2022-07-21 00:00:00              3657926     1952-03-02  ...   \n27  2022-07-21 00:00:00              3657926     1952-03-02  ...   \n28  2022-07-21 00:00:00              3657926     1952-03-02  ...   \n29  2022-07-21 00:00:00              3657926     1952-03-02  ...   \n30  2022-07-21 00:00:00              3657926     1952-03-02  ...   \n31  2022-07-21 00:00:00              3657926     1952-03-02  ...   \n32  2022-07-21 00:00:00              3657926     1952-03-02  ...   \n33  2022-07-21 00:00:00              3657926     1952-03-02  ...   \n34  2022-07-21 00:00:00              3657926     1952-03-02  ...   \n35  2022-07-21 00:00:00              3657926     1952-03-02  ...   \n36  2022-07-21 00:00:00              3657926     1952-03-02  ...   \n37  2022-07-21 00:00:00              3657926     1952-03-02  ...   \n38  2022-07-21 00:00:00              3657926     1952-03-02  ...   \n39  2022-07-21 00:00:00              3657926     1952-03-02  ...   \n40  2022-07-21 00:00:00              3657926     1952-03-02  ...   \n41  2022-07-21 00:00:00              3657926     1952-03-02  ...   \n42  2022-07-21 00:00:00              3657926     1952-03-02  ...   \n43  2022-07-21 00:00:00              3657926     1952-03-02  ...   \n44  2022-07-21 00:00:00              3657926     1952-03-02  ...   \n45  2022-07-21 00:00:00              3657926     1952-03-02  ...   \n46  2022-07-21 00:00:00              3657926     1952-03-02  ...   \n47  2022-04-22 00:00:00              3872637     1996-05-02  ...   \n48  2022-04-22 00:00:00              3872637     1996-05-02  ...   \n49  2022-04-22 00:00:00              3872637     1996-05-02  ...   \n\n   merged_gender merged_race_ethnicity_v2  psych_condition  \\\n0         Female                    White                0   \n1         Female                    White                0   \n2         Female                    White                1   \n3         Female                    White                0   \n4         Female                    White                0   \n5         Female                    White                1   \n6         Female                    White                0   \n7         Female                    White                0   \n8         Female                    White                0   \n9         Female                    White                0   \n10        Female                    White                0   \n11        Female                    White                0   \n12        Female                      NaN                1   \n13        Female                      NaN                0   \n14        Female                      NaN                0   \n15        Female                      NaN                0   \n16        Female                      NaN                0   \n17        Female                      NaN                0   \n18        Female                      NaN                0   \n19        Female                      NaN                1   \n20        Female                      NaN                0   \n21        Female                      NaN                0   \n22        Female                      NaN                0   \n23        Female                      NaN                0   \n24        Female                      NaN                0   \n25        Female                      NaN                0   \n26        Female                      NaN                0   \n27        Female                      NaN                0   \n28        Female                      NaN                0   \n29        Female                      NaN                0   \n30        Female                      NaN                0   \n31        Female                      NaN                0   \n32        Female                      NaN                0   \n33        Female                      NaN                0   \n34        Female                      NaN                0   \n35        Female                      NaN                0   \n36        Female                      NaN                0   \n37        Female                      NaN                0   \n38        Female                      NaN                0   \n39        Female                      NaN                0   \n40        Female                      NaN                0   \n41        Female                      NaN                0   \n42        Female                      NaN                0   \n43        Female                      NaN                0   \n44        Female                      NaN                0   \n45        Female                      NaN                0   \n46        Female                      NaN                0   \n47        Female                      NaN                1   \n48        Female                      NaN                0   \n49        Female                      NaN                0   \n\n    insurance_payor_class  insurance_status                       ICD_name  \\\n0   Medicaid Managed Care            Public                           None   \n1   Medicaid Managed Care            Public                           None   \n2   Medicaid Managed Care            Public                           None   \n3   Medicaid Managed Care            Public                           None   \n4   Medicaid Managed Care            Public                           None   \n5   Medicaid Managed Care            Public                           None   \n6   Medicaid Managed Care            Public                           None   \n7   Medicaid Managed Care            Public                           None   \n8   Medicaid Managed Care            Public                           None   \n9   Medicaid Managed Care            Public                           None   \n10  Medicaid Managed Care            Public                           None   \n11  Medicaid Managed Care            Public                           None   \n12            Medicare MS            Public  Anxiety disorder, unspecified   \n13            Medicare MS            Public                           None   \n14            Medicare MS            Public                           None   \n15            Medicare MS            Public                           None   \n16            Medicare MS            Public                           None   \n17            Medicare MS            Public                           None   \n18            Medicare MS            Public                           None   \n19            Medicare MS            Public        Depression, unspecified   \n20            Medicare MS            Public                           None   \n21            Medicare MS            Public                           None   \n22            Medicare MS            Public                           None   \n23            Medicare MS            Public                           None   \n24            Medicare MS            Public                           None   \n25            Medicare MS            Public                           None   \n26            Medicare MS            Public                           None   \n27            Medicare MS            Public                           None   \n28            Medicare MS            Public                           None   \n29            Medicare MS            Public                           None   \n30            Medicare MS            Public                           None   \n31            Medicare MS            Public                           None   \n32            Medicare MS            Public                           None   \n33            Medicare MS            Public                           None   \n34            Medicare MS            Public                           None   \n35            Medicare MS            Public                           None   \n36            Medicare MS            Public                           None   \n37            Medicare MS            Public                           None   \n38            Medicare MS            Public                           None   \n39            Medicare MS            Public                           None   \n40            Medicare MS            Public                           None   \n41            Medicare MS            Public                           None   \n42            Medicare MS            Public                           None   \n43            Medicare MS            Public                           None   \n44            Medicare MS            Public                           None   \n45            Medicare MS            Public                           None   \n46            Medicare MS            Public                           None   \n47  Medicaid Managed Care            Public  Anxiety disorder, unspecified   \n48  Medicaid Managed Care            Public                           None   \n49  Medicaid Managed Care            Public                           None   \n\n    ICD_code ICD_code_h  ICD_code_top_h                           CCSR_code  \n0       None       None            None                                None  \n1       None       None            None                                None  \n2       None       None            None                                None  \n3       None       None            None                                None  \n4       None       None            None                                None  \n5       None       None            None                                None  \n6       None       None            None                                None  \n7       None       None            None                                None  \n8       None       None            None                                None  \n9       None       None            None                                None  \n10      None       None            None                                None  \n11      None       None            None                                None  \n12     F41.9      F41.9             F41  Anxiety and fear-related disorders  \n13      None       None            None                                None  \n14      None       None            None                                None  \n15      None       None            None                                None  \n16      None       None            None                                None  \n17      None       None            None                                None  \n18      None       None            None                                None  \n19     F32.A      F32.A             F32                Depressive disorders  \n20      None       None            None                                None  \n21      None       None            None                                None  \n22      None       None            None                                None  \n23      None       None            None                                None  \n24      None       None            None                                None  \n25      None       None            None                                None  \n26      None       None            None                                None  \n27      None       None            None                                None  \n28      None       None            None                                None  \n29      None       None            None                                None  \n30      None       None            None                                None  \n31      None       None            None                                None  \n32      None       None            None                                None  \n33      None       None            None                                None  \n34      None       None            None                                None  \n35      None       None            None                                None  \n36      None       None            None                                None  \n37      None       None            None                                None  \n38      None       None            None                                None  \n39      None       None            None                                None  \n40      None       None            None                                None  \n41      None       None            None                                None  \n42      None       None            None                                None  \n43      None       None            None                                None  \n44      None       None            None                                None  \n45      None       None            None                                None  \n46      None       None            None                                None  \n47     F41.9      F41.9             F41  Anxiety and fear-related disorders  \n48      None       None            None                                None  \n49      None       None            None                                None  \n\n[50 rows x 37 columns]",
      "text/html": "<div>\n<style scoped>\n    .dataframe tbody tr th:only-of-type {\n        vertical-align: middle;\n    }\n\n    .dataframe tbody tr th {\n        vertical-align: top;\n    }\n\n    .dataframe thead th {\n        text-align: right;\n    }\n</style>\n<table border=\"1\" class=\"dataframe\">\n  <thead>\n    <tr style=\"text-align: right;\">\n      <th></th>\n      <th>person_id</th>\n      <th>visit_occurrence_id</th>\n      <th>etl_epic_encounter_key</th>\n      <th>xtn_department_name</th>\n      <th>xtn_visit_type_source_concept_id</th>\n      <th>xtn_visit_type_source_concept_code</th>\n      <th>visit_start_datetime</th>\n      <th>visit_end_datetime</th>\n      <th>xtn_patient_epic_mrn</th>\n      <th>xtn_birth_date</th>\n      <th>...</th>\n      <th>merged_gender</th>\n      <th>merged_race_ethnicity_v2</th>\n      <th>psych_condition</th>\n      <th>insurance_payor_class</th>\n      <th>insurance_status</th>\n      <th>ICD_name</th>\n      <th>ICD_code</th>\n      <th>ICD_code_h</th>\n      <th>ICD_code_top_h</th>\n      <th>CCSR_code</th>\n    </tr>\n  </thead>\n  <tbody>\n    <tr>\n      <th>0</th>\n      <td>845</td>\n      <td>172058493</td>\n      <td>285636709</td>\n      <td>10 UNION SQ E RESP</td>\n      <td>2000000112</td>\n      <td>Outpatient Visit</td>\n      <td>2022-01-25 00:00:00</td>\n      <td>2022-01-25 00:00:00</td>\n      <td>3754282</td>\n      <td>1974-09-28</td>\n      <td>...</td>\n      <td>Female</td>\n      <td>White</td>\n      <td>0</td>\n      <td>Medicaid Managed Care</td>\n      <td>Public</td>\n      <td>None</td>\n      <td>None</td>\n      <td>None</td>\n      <td>None</td>\n      <td>None</td>\n    </tr>\n    <tr>\n      <th>1</th>\n      <td>845</td>\n      <td>172058493</td>\n      <td>285636709</td>\n      <td>10 UNION SQ E RESP</td>\n      <td>2000000112</td>\n      <td>Outpatient Visit</td>\n      <td>2022-01-25 00:00:00</td>\n      <td>2022-01-25 00:00:00</td>\n      <td>3754282</td>\n      <td>1974-09-28</td>\n      <td>...</td>\n      <td>Female</td>\n      <td>White</td>\n      <td>0</td>\n      <td>Medicaid Managed Care</td>\n      <td>Public</td>\n      <td>None</td>\n      <td>None</td>\n      <td>None</td>\n      <td>None</td>\n      <td>None</td>\n    </tr>\n    <tr>\n      <th>2</th>\n      <td>845</td>\n      <td>172058493</td>\n      <td>285636709</td>\n      <td>10 UNION SQ E RESP</td>\n      <td>2000000112</td>\n      <td>Outpatient Visit</td>\n      <td>2022-01-25 00:00:00</td>\n      <td>2022-01-25 00:00:00</td>\n      <td>3754282</td>\n      <td>1974-09-28</td>\n      <td>...</td>\n      <td>Female</td>\n      <td>White</td>\n      <td>1</td>\n      <td>Medicaid Managed Care</td>\n      <td>Public</td>\n      <td>None</td>\n      <td>None</td>\n      <td>None</td>\n      <td>None</td>\n      <td>None</td>\n    </tr>\n    <tr>\n      <th>3</th>\n      <td>845</td>\n      <td>185133868</td>\n      <td>291089587</td>\n      <td>10 UNION SQ PFT</td>\n      <td>2000000112</td>\n      <td>Outpatient Visit</td>\n      <td>2022-02-22 00:00:00</td>\n      <td>2022-02-22 00:00:00</td>\n      <td>3754282</td>\n      <td>1974-09-28</td>\n      <td>...</td>\n      <td>Female</td>\n      <td>White</td>\n      <td>0</td>\n      <td>Medicaid Managed Care</td>\n      <td>Public</td>\n      <td>None</td>\n      <td>None</td>\n      <td>None</td>\n      <td>None</td>\n      <td>None</td>\n    </tr>\n    <tr>\n      <th>4</th>\n      <td>845</td>\n      <td>185133868</td>\n      <td>291089587</td>\n      <td>10 UNION SQ PFT</td>\n      <td>2000000112</td>\n      <td>Outpatient Visit</td>\n      <td>2022-02-22 00:00:00</td>\n      <td>2022-02-22 00:00:00</td>\n      <td>3754282</td>\n      <td>1974-09-28</td>\n      <td>...</td>\n      <td>Female</td>\n      <td>White</td>\n      <td>0</td>\n      <td>Medicaid Managed Care</td>\n      <td>Public</td>\n      <td>None</td>\n      <td>None</td>\n      <td>None</td>\n      <td>None</td>\n      <td>None</td>\n    </tr>\n    <tr>\n      <th>5</th>\n      <td>845</td>\n      <td>185133868</td>\n      <td>291089587</td>\n      <td>10 UNION SQ PFT</td>\n      <td>2000000112</td>\n      <td>Outpatient Visit</td>\n      <td>2022-02-22 00:00:00</td>\n      <td>2022-02-22 00:00:00</td>\n      <td>3754282</td>\n      <td>1974-09-28</td>\n      <td>...</td>\n      <td>Female</td>\n      <td>White</td>\n      <td>1</td>\n      <td>Medicaid Managed Care</td>\n      <td>Public</td>\n      <td>None</td>\n      <td>None</td>\n      <td>None</td>\n      <td>None</td>\n      <td>None</td>\n    </tr>\n    <tr>\n      <th>6</th>\n      <td>845</td>\n      <td>194027752</td>\n      <td>293787212</td>\n      <td>17 E 102ND RHEUMATOLOGY CLINIC</td>\n      <td>2000000112</td>\n      <td>Outpatient Visit</td>\n      <td>2022-06-16 00:00:00</td>\n      <td>2022-06-16 00:00:00</td>\n      <td>3754282</td>\n      <td>1974-09-28</td>\n      <td>...</td>\n      <td>Female</td>\n      <td>White</td>\n      <td>0</td>\n      <td>Medicaid Managed Care</td>\n      <td>Public</td>\n      <td>None</td>\n      <td>None</td>\n      <td>None</td>\n      <td>None</td>\n      <td>None</td>\n    </tr>\n    <tr>\n      <th>7</th>\n      <td>845</td>\n      <td>194027752</td>\n      <td>293787212</td>\n      <td>17 E 102ND RHEUMATOLOGY CLINIC</td>\n      <td>2000000112</td>\n      <td>Outpatient Visit</td>\n      <td>2022-06-16 00:00:00</td>\n      <td>2022-06-16 00:00:00</td>\n      <td>3754282</td>\n      <td>1974-09-28</td>\n      <td>...</td>\n      <td>Female</td>\n      <td>White</td>\n      <td>0</td>\n      <td>Medicaid Managed Care</td>\n      <td>Public</td>\n      <td>None</td>\n      <td>None</td>\n      <td>None</td>\n      <td>None</td>\n      <td>None</td>\n    </tr>\n    <tr>\n      <th>8</th>\n      <td>845</td>\n      <td>194027752</td>\n      <td>293787212</td>\n      <td>17 E 102ND RHEUMATOLOGY CLINIC</td>\n      <td>2000000112</td>\n      <td>Outpatient Visit</td>\n      <td>2022-06-16 00:00:00</td>\n      <td>2022-06-16 00:00:00</td>\n      <td>3754282</td>\n      <td>1974-09-28</td>\n      <td>...</td>\n      <td>Female</td>\n      <td>White</td>\n      <td>0</td>\n      <td>Medicaid Managed Care</td>\n      <td>Public</td>\n      <td>None</td>\n      <td>None</td>\n      <td>None</td>\n      <td>None</td>\n      <td>None</td>\n    </tr>\n    <tr>\n      <th>9</th>\n      <td>845</td>\n      <td>197004100</td>\n      <td>302037736</td>\n      <td>17 E 102ND RHEUMATOLOGY CLINIC</td>\n      <td>2000000112</td>\n      <td>Outpatient Visit</td>\n      <td>2022-07-05 00:00:00</td>\n      <td>2022-07-05 00:00:00</td>\n      <td>3754282</td>\n      <td>1974-09-28</td>\n      <td>...</td>\n      <td>Female</td>\n      <td>White</td>\n      <td>0</td>\n      <td>Medicaid Managed Care</td>\n      <td>Public</td>\n      <td>None</td>\n      <td>None</td>\n      <td>None</td>\n      <td>None</td>\n      <td>None</td>\n    </tr>\n    <tr>\n      <th>10</th>\n      <td>845</td>\n      <td>197004100</td>\n      <td>302037736</td>\n      <td>17 E 102ND RHEUMATOLOGY CLINIC</td>\n      <td>2000000112</td>\n      <td>Outpatient Visit</td>\n      <td>2022-07-05 00:00:00</td>\n      <td>2022-07-05 00:00:00</td>\n      <td>3754282</td>\n      <td>1974-09-28</td>\n      <td>...</td>\n      <td>Female</td>\n      <td>White</td>\n      <td>0</td>\n      <td>Medicaid Managed Care</td>\n      <td>Public</td>\n      <td>None</td>\n      <td>None</td>\n      <td>None</td>\n      <td>None</td>\n      <td>None</td>\n    </tr>\n    <tr>\n      <th>11</th>\n      <td>845</td>\n      <td>197004100</td>\n      <td>302037736</td>\n      <td>17 E 102ND RHEUMATOLOGY CLINIC</td>\n      <td>2000000112</td>\n      <td>Outpatient Visit</td>\n      <td>2022-07-05 00:00:00</td>\n      <td>2022-07-05 00:00:00</td>\n      <td>3754282</td>\n      <td>1974-09-28</td>\n      <td>...</td>\n      <td>Female</td>\n      <td>White</td>\n      <td>0</td>\n      <td>Medicaid Managed Care</td>\n      <td>Public</td>\n      <td>None</td>\n      <td>None</td>\n      <td>None</td>\n      <td>None</td>\n      <td>None</td>\n    </tr>\n    <tr>\n      <th>12</th>\n      <td>913</td>\n      <td>198204422</td>\n      <td>304807149</td>\n      <td>341 CENTRAL PARK AVE INTERNAL MEDICINE</td>\n      <td>2000000112</td>\n      <td>Outpatient Visit</td>\n      <td>2022-07-21 00:00:00</td>\n      <td>2022-07-21 00:00:00</td>\n      <td>3657926</td>\n      <td>1952-03-02</td>\n      <td>...</td>\n      <td>Female</td>\n      <td>NaN</td>\n      <td>1</td>\n      <td>Medicare MS</td>\n      <td>Public</td>\n      <td>Anxiety disorder, unspecified</td>\n      <td>F41.9</td>\n      <td>F41.9</td>\n      <td>F41</td>\n      <td>Anxiety and fear-related disorders</td>\n    </tr>\n    <tr>\n      <th>13</th>\n      <td>913</td>\n      <td>198204422</td>\n      <td>304807149</td>\n      <td>341 CENTRAL PARK AVE INTERNAL MEDICINE</td>\n      <td>2000000112</td>\n      <td>Outpatient Visit</td>\n      <td>2022-07-21 00:00:00</td>\n      <td>2022-07-21 00:00:00</td>\n      <td>3657926</td>\n      <td>1952-03-02</td>\n      <td>...</td>\n      <td>Female</td>\n      <td>NaN</td>\n      <td>0</td>\n      <td>Medicare MS</td>\n      <td>Public</td>\n      <td>None</td>\n      <td>None</td>\n      <td>None</td>\n      <td>None</td>\n      <td>None</td>\n    </tr>\n    <tr>\n      <th>14</th>\n      <td>913</td>\n      <td>198204422</td>\n      <td>304807149</td>\n      <td>341 CENTRAL PARK AVE INTERNAL MEDICINE</td>\n      <td>2000000112</td>\n      <td>Outpatient Visit</td>\n      <td>2022-07-21 00:00:00</td>\n      <td>2022-07-21 00:00:00</td>\n      <td>3657926</td>\n      <td>1952-03-02</td>\n      <td>...</td>\n      <td>Female</td>\n      <td>NaN</td>\n      <td>0</td>\n      <td>Medicare MS</td>\n      <td>Public</td>\n      <td>None</td>\n      <td>None</td>\n      <td>None</td>\n      <td>None</td>\n      <td>None</td>\n    </tr>\n    <tr>\n      <th>15</th>\n      <td>913</td>\n      <td>198204422</td>\n      <td>304807149</td>\n      <td>341 CENTRAL PARK AVE INTERNAL MEDICINE</td>\n      <td>2000000112</td>\n      <td>Outpatient Visit</td>\n      <td>2022-07-21 00:00:00</td>\n      <td>2022-07-21 00:00:00</td>\n      <td>3657926</td>\n      <td>1952-03-02</td>\n      <td>...</td>\n      <td>Female</td>\n      <td>NaN</td>\n      <td>0</td>\n      <td>Medicare MS</td>\n      <td>Public</td>\n      <td>None</td>\n      <td>None</td>\n      <td>None</td>\n      <td>None</td>\n      <td>None</td>\n    </tr>\n    <tr>\n      <th>16</th>\n      <td>913</td>\n      <td>198204422</td>\n      <td>304807149</td>\n      <td>341 CENTRAL PARK AVE INTERNAL MEDICINE</td>\n      <td>2000000112</td>\n      <td>Outpatient Visit</td>\n      <td>2022-07-21 00:00:00</td>\n      <td>2022-07-21 00:00:00</td>\n      <td>3657926</td>\n      <td>1952-03-02</td>\n      <td>...</td>\n      <td>Female</td>\n      <td>NaN</td>\n      <td>0</td>\n      <td>Medicare MS</td>\n      <td>Public</td>\n      <td>None</td>\n      <td>None</td>\n      <td>None</td>\n      <td>None</td>\n      <td>None</td>\n    </tr>\n    <tr>\n      <th>17</th>\n      <td>913</td>\n      <td>198204422</td>\n      <td>304807149</td>\n      <td>341 CENTRAL PARK AVE INTERNAL MEDICINE</td>\n      <td>2000000112</td>\n      <td>Outpatient Visit</td>\n      <td>2022-07-21 00:00:00</td>\n      <td>2022-07-21 00:00:00</td>\n      <td>3657926</td>\n      <td>1952-03-02</td>\n      <td>...</td>\n      <td>Female</td>\n      <td>NaN</td>\n      <td>0</td>\n      <td>Medicare MS</td>\n      <td>Public</td>\n      <td>None</td>\n      <td>None</td>\n      <td>None</td>\n      <td>None</td>\n      <td>None</td>\n    </tr>\n    <tr>\n      <th>18</th>\n      <td>913</td>\n      <td>198204422</td>\n      <td>304807149</td>\n      <td>341 CENTRAL PARK AVE INTERNAL MEDICINE</td>\n      <td>2000000112</td>\n      <td>Outpatient Visit</td>\n      <td>2022-07-21 00:00:00</td>\n      <td>2022-07-21 00:00:00</td>\n      <td>3657926</td>\n      <td>1952-03-02</td>\n      <td>...</td>\n      <td>Female</td>\n      <td>NaN</td>\n      <td>0</td>\n      <td>Medicare MS</td>\n      <td>Public</td>\n      <td>None</td>\n      <td>None</td>\n      <td>None</td>\n      <td>None</td>\n      <td>None</td>\n    </tr>\n    <tr>\n      <th>19</th>\n      <td>913</td>\n      <td>198204422</td>\n      <td>304807149</td>\n      <td>341 CENTRAL PARK AVE INTERNAL MEDICINE</td>\n      <td>2000000112</td>\n      <td>Outpatient Visit</td>\n      <td>2022-07-21 00:00:00</td>\n      <td>2022-07-21 00:00:00</td>\n      <td>3657926</td>\n      <td>1952-03-02</td>\n      <td>...</td>\n      <td>Female</td>\n      <td>NaN</td>\n      <td>1</td>\n      <td>Medicare MS</td>\n      <td>Public</td>\n      <td>Depression, unspecified</td>\n      <td>F32.A</td>\n      <td>F32.A</td>\n      <td>F32</td>\n      <td>Depressive disorders</td>\n    </tr>\n    <tr>\n      <th>20</th>\n      <td>913</td>\n      <td>198204422</td>\n      <td>304807149</td>\n      <td>341 CENTRAL PARK AVE INTERNAL MEDICINE</td>\n      <td>2000000112</td>\n      <td>Outpatient Visit</td>\n      <td>2022-07-21 00:00:00</td>\n      <td>2022-07-21 00:00:00</td>\n      <td>3657926</td>\n      <td>1952-03-02</td>\n      <td>...</td>\n      <td>Female</td>\n      <td>NaN</td>\n      <td>0</td>\n      <td>Medicare MS</td>\n      <td>Public</td>\n      <td>None</td>\n      <td>None</td>\n      <td>None</td>\n      <td>None</td>\n      <td>None</td>\n    </tr>\n    <tr>\n      <th>21</th>\n      <td>913</td>\n      <td>198204422</td>\n      <td>304807149</td>\n      <td>341 CENTRAL PARK AVE INTERNAL MEDICINE</td>\n      <td>2000000112</td>\n      <td>Outpatient Visit</td>\n      <td>2022-07-21 00:00:00</td>\n      <td>2022-07-21 00:00:00</td>\n      <td>3657926</td>\n      <td>1952-03-02</td>\n      <td>...</td>\n      <td>Female</td>\n      <td>NaN</td>\n      <td>0</td>\n      <td>Medicare MS</td>\n      <td>Public</td>\n      <td>None</td>\n      <td>None</td>\n      <td>None</td>\n      <td>None</td>\n      <td>None</td>\n    </tr>\n    <tr>\n      <th>22</th>\n      <td>913</td>\n      <td>198204422</td>\n      <td>304807149</td>\n      <td>341 CENTRAL PARK AVE INTERNAL MEDICINE</td>\n      <td>2000000112</td>\n      <td>Outpatient Visit</td>\n      <td>2022-07-21 00:00:00</td>\n      <td>2022-07-21 00:00:00</td>\n      <td>3657926</td>\n      <td>1952-03-02</td>\n      <td>...</td>\n      <td>Female</td>\n      <td>NaN</td>\n      <td>0</td>\n      <td>Medicare MS</td>\n      <td>Public</td>\n      <td>None</td>\n      <td>None</td>\n      <td>None</td>\n      <td>None</td>\n      <td>None</td>\n    </tr>\n    <tr>\n      <th>23</th>\n      <td>913</td>\n      <td>198204422</td>\n      <td>304807149</td>\n      <td>341 CENTRAL PARK AVE INTERNAL MEDICINE</td>\n      <td>2000000112</td>\n      <td>Outpatient Visit</td>\n      <td>2022-07-21 00:00:00</td>\n      <td>2022-07-21 00:00:00</td>\n      <td>3657926</td>\n      <td>1952-03-02</td>\n      <td>...</td>\n      <td>Female</td>\n      <td>NaN</td>\n      <td>0</td>\n      <td>Medicare MS</td>\n      <td>Public</td>\n      <td>None</td>\n      <td>None</td>\n      <td>None</td>\n      <td>None</td>\n      <td>None</td>\n    </tr>\n    <tr>\n      <th>24</th>\n      <td>913</td>\n      <td>198204422</td>\n      <td>304807149</td>\n      <td>341 CENTRAL PARK AVE INTERNAL MEDICINE</td>\n      <td>2000000112</td>\n      <td>Outpatient Visit</td>\n      <td>2022-07-21 00:00:00</td>\n      <td>2022-07-21 00:00:00</td>\n      <td>3657926</td>\n      <td>1952-03-02</td>\n      <td>...</td>\n      <td>Female</td>\n      <td>NaN</td>\n      <td>0</td>\n      <td>Medicare MS</td>\n      <td>Public</td>\n      <td>None</td>\n      <td>None</td>\n      <td>None</td>\n      <td>None</td>\n      <td>None</td>\n    </tr>\n    <tr>\n      <th>25</th>\n      <td>913</td>\n      <td>198204422</td>\n      <td>304807149</td>\n      <td>341 CENTRAL PARK AVE INTERNAL MEDICINE</td>\n      <td>2000000112</td>\n      <td>Outpatient Visit</td>\n      <td>2022-07-21 00:00:00</td>\n      <td>2022-07-21 00:00:00</td>\n      <td>3657926</td>\n      <td>1952-03-02</td>\n      <td>...</td>\n      <td>Female</td>\n      <td>NaN</td>\n      <td>0</td>\n      <td>Medicare MS</td>\n      <td>Public</td>\n      <td>None</td>\n      <td>None</td>\n      <td>None</td>\n      <td>None</td>\n      <td>None</td>\n    </tr>\n    <tr>\n      <th>26</th>\n      <td>913</td>\n      <td>198204422</td>\n      <td>304807149</td>\n      <td>341 CENTRAL PARK AVE INTERNAL MEDICINE</td>\n      <td>2000000112</td>\n      <td>Outpatient Visit</td>\n      <td>2022-07-21 00:00:00</td>\n      <td>2022-07-21 00:00:00</td>\n      <td>3657926</td>\n      <td>1952-03-02</td>\n      <td>...</td>\n      <td>Female</td>\n      <td>NaN</td>\n      <td>0</td>\n      <td>Medicare MS</td>\n      <td>Public</td>\n      <td>None</td>\n      <td>None</td>\n      <td>None</td>\n      <td>None</td>\n      <td>None</td>\n    </tr>\n    <tr>\n      <th>27</th>\n      <td>913</td>\n      <td>198204422</td>\n      <td>304807149</td>\n      <td>341 CENTRAL PARK AVE INTERNAL MEDICINE</td>\n      <td>2000000112</td>\n      <td>Outpatient Visit</td>\n      <td>2022-07-21 00:00:00</td>\n      <td>2022-07-21 00:00:00</td>\n      <td>3657926</td>\n      <td>1952-03-02</td>\n      <td>...</td>\n      <td>Female</td>\n      <td>NaN</td>\n      <td>0</td>\n      <td>Medicare MS</td>\n      <td>Public</td>\n      <td>None</td>\n      <td>None</td>\n      <td>None</td>\n      <td>None</td>\n      <td>None</td>\n    </tr>\n    <tr>\n      <th>28</th>\n      <td>913</td>\n      <td>198204422</td>\n      <td>304807149</td>\n      <td>341 CENTRAL PARK AVE INTERNAL MEDICINE</td>\n      <td>2000000112</td>\n      <td>Outpatient Visit</td>\n      <td>2022-07-21 00:00:00</td>\n      <td>2022-07-21 00:00:00</td>\n      <td>3657926</td>\n      <td>1952-03-02</td>\n      <td>...</td>\n      <td>Female</td>\n      <td>NaN</td>\n      <td>0</td>\n      <td>Medicare MS</td>\n      <td>Public</td>\n      <td>None</td>\n      <td>None</td>\n      <td>None</td>\n      <td>None</td>\n      <td>None</td>\n    </tr>\n    <tr>\n      <th>29</th>\n      <td>913</td>\n      <td>198204422</td>\n      <td>304807149</td>\n      <td>341 CENTRAL PARK AVE INTERNAL MEDICINE</td>\n      <td>2000000112</td>\n      <td>Outpatient Visit</td>\n      <td>2022-07-21 00:00:00</td>\n      <td>2022-07-21 00:00:00</td>\n      <td>3657926</td>\n      <td>1952-03-02</td>\n      <td>...</td>\n      <td>Female</td>\n      <td>NaN</td>\n      <td>0</td>\n      <td>Medicare MS</td>\n      <td>Public</td>\n      <td>None</td>\n      <td>None</td>\n      <td>None</td>\n      <td>None</td>\n      <td>None</td>\n    </tr>\n    <tr>\n      <th>30</th>\n      <td>913</td>\n      <td>198204422</td>\n      <td>304807149</td>\n      <td>341 CENTRAL PARK AVE INTERNAL MEDICINE</td>\n      <td>2000000112</td>\n      <td>Outpatient Visit</td>\n      <td>2022-07-21 00:00:00</td>\n      <td>2022-07-21 00:00:00</td>\n      <td>3657926</td>\n      <td>1952-03-02</td>\n      <td>...</td>\n      <td>Female</td>\n      <td>NaN</td>\n      <td>0</td>\n      <td>Medicare MS</td>\n      <td>Public</td>\n      <td>None</td>\n      <td>None</td>\n      <td>None</td>\n      <td>None</td>\n      <td>None</td>\n    </tr>\n    <tr>\n      <th>31</th>\n      <td>913</td>\n      <td>198204422</td>\n      <td>304807149</td>\n      <td>341 CENTRAL PARK AVE INTERNAL MEDICINE</td>\n      <td>2000000112</td>\n      <td>Outpatient Visit</td>\n      <td>2022-07-21 00:00:00</td>\n      <td>2022-07-21 00:00:00</td>\n      <td>3657926</td>\n      <td>1952-03-02</td>\n      <td>...</td>\n      <td>Female</td>\n      <td>NaN</td>\n      <td>0</td>\n      <td>Medicare MS</td>\n      <td>Public</td>\n      <td>None</td>\n      <td>None</td>\n      <td>None</td>\n      <td>None</td>\n      <td>None</td>\n    </tr>\n    <tr>\n      <th>32</th>\n      <td>913</td>\n      <td>198204422</td>\n      <td>304807149</td>\n      <td>341 CENTRAL PARK AVE INTERNAL MEDICINE</td>\n      <td>2000000112</td>\n      <td>Outpatient Visit</td>\n      <td>2022-07-21 00:00:00</td>\n      <td>2022-07-21 00:00:00</td>\n      <td>3657926</td>\n      <td>1952-03-02</td>\n      <td>...</td>\n      <td>Female</td>\n      <td>NaN</td>\n      <td>0</td>\n      <td>Medicare MS</td>\n      <td>Public</td>\n      <td>None</td>\n      <td>None</td>\n      <td>None</td>\n      <td>None</td>\n      <td>None</td>\n    </tr>\n    <tr>\n      <th>33</th>\n      <td>913</td>\n      <td>198204422</td>\n      <td>304807149</td>\n      <td>341 CENTRAL PARK AVE INTERNAL MEDICINE</td>\n      <td>2000000112</td>\n      <td>Outpatient Visit</td>\n      <td>2022-07-21 00:00:00</td>\n      <td>2022-07-21 00:00:00</td>\n      <td>3657926</td>\n      <td>1952-03-02</td>\n      <td>...</td>\n      <td>Female</td>\n      <td>NaN</td>\n      <td>0</td>\n      <td>Medicare MS</td>\n      <td>Public</td>\n      <td>None</td>\n      <td>None</td>\n      <td>None</td>\n      <td>None</td>\n      <td>None</td>\n    </tr>\n    <tr>\n      <th>34</th>\n      <td>913</td>\n      <td>198204422</td>\n      <td>304807149</td>\n      <td>341 CENTRAL PARK AVE INTERNAL MEDICINE</td>\n      <td>2000000112</td>\n      <td>Outpatient Visit</td>\n      <td>2022-07-21 00:00:00</td>\n      <td>2022-07-21 00:00:00</td>\n      <td>3657926</td>\n      <td>1952-03-02</td>\n      <td>...</td>\n      <td>Female</td>\n      <td>NaN</td>\n      <td>0</td>\n      <td>Medicare MS</td>\n      <td>Public</td>\n      <td>None</td>\n      <td>None</td>\n      <td>None</td>\n      <td>None</td>\n      <td>None</td>\n    </tr>\n    <tr>\n      <th>35</th>\n      <td>913</td>\n      <td>198204422</td>\n      <td>304807149</td>\n      <td>341 CENTRAL PARK AVE INTERNAL MEDICINE</td>\n      <td>2000000112</td>\n      <td>Outpatient Visit</td>\n      <td>2022-07-21 00:00:00</td>\n      <td>2022-07-21 00:00:00</td>\n      <td>3657926</td>\n      <td>1952-03-02</td>\n      <td>...</td>\n      <td>Female</td>\n      <td>NaN</td>\n      <td>0</td>\n      <td>Medicare MS</td>\n      <td>Public</td>\n      <td>None</td>\n      <td>None</td>\n      <td>None</td>\n      <td>None</td>\n      <td>None</td>\n    </tr>\n    <tr>\n      <th>36</th>\n      <td>913</td>\n      <td>198204422</td>\n      <td>304807149</td>\n      <td>341 CENTRAL PARK AVE INTERNAL MEDICINE</td>\n      <td>2000000112</td>\n      <td>Outpatient Visit</td>\n      <td>2022-07-21 00:00:00</td>\n      <td>2022-07-21 00:00:00</td>\n      <td>3657926</td>\n      <td>1952-03-02</td>\n      <td>...</td>\n      <td>Female</td>\n      <td>NaN</td>\n      <td>0</td>\n      <td>Medicare MS</td>\n      <td>Public</td>\n      <td>None</td>\n      <td>None</td>\n      <td>None</td>\n      <td>None</td>\n      <td>None</td>\n    </tr>\n    <tr>\n      <th>37</th>\n      <td>913</td>\n      <td>198204422</td>\n      <td>304807149</td>\n      <td>341 CENTRAL PARK AVE INTERNAL MEDICINE</td>\n      <td>2000000112</td>\n      <td>Outpatient Visit</td>\n      <td>2022-07-21 00:00:00</td>\n      <td>2022-07-21 00:00:00</td>\n      <td>3657926</td>\n      <td>1952-03-02</td>\n      <td>...</td>\n      <td>Female</td>\n      <td>NaN</td>\n      <td>0</td>\n      <td>Medicare MS</td>\n      <td>Public</td>\n      <td>None</td>\n      <td>None</td>\n      <td>None</td>\n      <td>None</td>\n      <td>None</td>\n    </tr>\n    <tr>\n      <th>38</th>\n      <td>913</td>\n      <td>198204422</td>\n      <td>304807149</td>\n      <td>341 CENTRAL PARK AVE INTERNAL MEDICINE</td>\n      <td>2000000112</td>\n      <td>Outpatient Visit</td>\n      <td>2022-07-21 00:00:00</td>\n      <td>2022-07-21 00:00:00</td>\n      <td>3657926</td>\n      <td>1952-03-02</td>\n      <td>...</td>\n      <td>Female</td>\n      <td>NaN</td>\n      <td>0</td>\n      <td>Medicare MS</td>\n      <td>Public</td>\n      <td>None</td>\n      <td>None</td>\n      <td>None</td>\n      <td>None</td>\n      <td>None</td>\n    </tr>\n    <tr>\n      <th>39</th>\n      <td>913</td>\n      <td>198204422</td>\n      <td>304807149</td>\n      <td>341 CENTRAL PARK AVE INTERNAL MEDICINE</td>\n      <td>2000000112</td>\n      <td>Outpatient Visit</td>\n      <td>2022-07-21 00:00:00</td>\n      <td>2022-07-21 00:00:00</td>\n      <td>3657926</td>\n      <td>1952-03-02</td>\n      <td>...</td>\n      <td>Female</td>\n      <td>NaN</td>\n      <td>0</td>\n      <td>Medicare MS</td>\n      <td>Public</td>\n      <td>None</td>\n      <td>None</td>\n      <td>None</td>\n      <td>None</td>\n      <td>None</td>\n    </tr>\n    <tr>\n      <th>40</th>\n      <td>913</td>\n      <td>198204422</td>\n      <td>304807149</td>\n      <td>341 CENTRAL PARK AVE INTERNAL MEDICINE</td>\n      <td>2000000112</td>\n      <td>Outpatient Visit</td>\n      <td>2022-07-21 00:00:00</td>\n      <td>2022-07-21 00:00:00</td>\n      <td>3657926</td>\n      <td>1952-03-02</td>\n      <td>...</td>\n      <td>Female</td>\n      <td>NaN</td>\n      <td>0</td>\n      <td>Medicare MS</td>\n      <td>Public</td>\n      <td>None</td>\n      <td>None</td>\n      <td>None</td>\n      <td>None</td>\n      <td>None</td>\n    </tr>\n    <tr>\n      <th>41</th>\n      <td>913</td>\n      <td>198204422</td>\n      <td>304807149</td>\n      <td>341 CENTRAL PARK AVE INTERNAL MEDICINE</td>\n      <td>2000000112</td>\n      <td>Outpatient Visit</td>\n      <td>2022-07-21 00:00:00</td>\n      <td>2022-07-21 00:00:00</td>\n      <td>3657926</td>\n      <td>1952-03-02</td>\n      <td>...</td>\n      <td>Female</td>\n      <td>NaN</td>\n      <td>0</td>\n      <td>Medicare MS</td>\n      <td>Public</td>\n      <td>None</td>\n      <td>None</td>\n      <td>None</td>\n      <td>None</td>\n      <td>None</td>\n    </tr>\n    <tr>\n      <th>42</th>\n      <td>913</td>\n      <td>198204422</td>\n      <td>304807149</td>\n      <td>341 CENTRAL PARK AVE INTERNAL MEDICINE</td>\n      <td>2000000112</td>\n      <td>Outpatient Visit</td>\n      <td>2022-07-21 00:00:00</td>\n      <td>2022-07-21 00:00:00</td>\n      <td>3657926</td>\n      <td>1952-03-02</td>\n      <td>...</td>\n      <td>Female</td>\n      <td>NaN</td>\n      <td>0</td>\n      <td>Medicare MS</td>\n      <td>Public</td>\n      <td>None</td>\n      <td>None</td>\n      <td>None</td>\n      <td>None</td>\n      <td>None</td>\n    </tr>\n    <tr>\n      <th>43</th>\n      <td>913</td>\n      <td>198204422</td>\n      <td>304807149</td>\n      <td>341 CENTRAL PARK AVE INTERNAL MEDICINE</td>\n      <td>2000000112</td>\n      <td>Outpatient Visit</td>\n      <td>2022-07-21 00:00:00</td>\n      <td>2022-07-21 00:00:00</td>\n      <td>3657926</td>\n      <td>1952-03-02</td>\n      <td>...</td>\n      <td>Female</td>\n      <td>NaN</td>\n      <td>0</td>\n      <td>Medicare MS</td>\n      <td>Public</td>\n      <td>None</td>\n      <td>None</td>\n      <td>None</td>\n      <td>None</td>\n      <td>None</td>\n    </tr>\n    <tr>\n      <th>44</th>\n      <td>913</td>\n      <td>198204422</td>\n      <td>304807149</td>\n      <td>341 CENTRAL PARK AVE INTERNAL MEDICINE</td>\n      <td>2000000112</td>\n      <td>Outpatient Visit</td>\n      <td>2022-07-21 00:00:00</td>\n      <td>2022-07-21 00:00:00</td>\n      <td>3657926</td>\n      <td>1952-03-02</td>\n      <td>...</td>\n      <td>Female</td>\n      <td>NaN</td>\n      <td>0</td>\n      <td>Medicare MS</td>\n      <td>Public</td>\n      <td>None</td>\n      <td>None</td>\n      <td>None</td>\n      <td>None</td>\n      <td>None</td>\n    </tr>\n    <tr>\n      <th>45</th>\n      <td>913</td>\n      <td>198204422</td>\n      <td>304807149</td>\n      <td>341 CENTRAL PARK AVE INTERNAL MEDICINE</td>\n      <td>2000000112</td>\n      <td>Outpatient Visit</td>\n      <td>2022-07-21 00:00:00</td>\n      <td>2022-07-21 00:00:00</td>\n      <td>3657926</td>\n      <td>1952-03-02</td>\n      <td>...</td>\n      <td>Female</td>\n      <td>NaN</td>\n      <td>0</td>\n      <td>Medicare MS</td>\n      <td>Public</td>\n      <td>None</td>\n      <td>None</td>\n      <td>None</td>\n      <td>None</td>\n      <td>None</td>\n    </tr>\n    <tr>\n      <th>46</th>\n      <td>913</td>\n      <td>198204422</td>\n      <td>304807149</td>\n      <td>341 CENTRAL PARK AVE INTERNAL MEDICINE</td>\n      <td>2000000112</td>\n      <td>Outpatient Visit</td>\n      <td>2022-07-21 00:00:00</td>\n      <td>2022-07-21 00:00:00</td>\n      <td>3657926</td>\n      <td>1952-03-02</td>\n      <td>...</td>\n      <td>Female</td>\n      <td>NaN</td>\n      <td>0</td>\n      <td>Medicare MS</td>\n      <td>Public</td>\n      <td>None</td>\n      <td>None</td>\n      <td>None</td>\n      <td>None</td>\n      <td>None</td>\n    </tr>\n    <tr>\n      <th>47</th>\n      <td>1081</td>\n      <td>195258082</td>\n      <td>297028242</td>\n      <td>37-12 82ND ST INTERNAL MEDICINE</td>\n      <td>2000000112</td>\n      <td>Outpatient Visit</td>\n      <td>2022-04-22 00:00:00</td>\n      <td>2022-04-22 00:00:00</td>\n      <td>3872637</td>\n      <td>1996-05-02</td>\n      <td>...</td>\n      <td>Female</td>\n      <td>NaN</td>\n      <td>1</td>\n      <td>Medicaid Managed Care</td>\n      <td>Public</td>\n      <td>Anxiety disorder, unspecified</td>\n      <td>F41.9</td>\n      <td>F41.9</td>\n      <td>F41</td>\n      <td>Anxiety and fear-related disorders</td>\n    </tr>\n    <tr>\n      <th>48</th>\n      <td>1081</td>\n      <td>195258082</td>\n      <td>297028242</td>\n      <td>37-12 82ND ST INTERNAL MEDICINE</td>\n      <td>2000000112</td>\n      <td>Outpatient Visit</td>\n      <td>2022-04-22 00:00:00</td>\n      <td>2022-04-22 00:00:00</td>\n      <td>3872637</td>\n      <td>1996-05-02</td>\n      <td>...</td>\n      <td>Female</td>\n      <td>NaN</td>\n      <td>0</td>\n      <td>Medicaid Managed Care</td>\n      <td>Public</td>\n      <td>None</td>\n      <td>None</td>\n      <td>None</td>\n      <td>None</td>\n      <td>None</td>\n    </tr>\n    <tr>\n      <th>49</th>\n      <td>1081</td>\n      <td>195258082</td>\n      <td>297028242</td>\n      <td>37-12 82ND ST INTERNAL MEDICINE</td>\n      <td>2000000112</td>\n      <td>Outpatient Visit</td>\n      <td>2022-04-22 00:00:00</td>\n      <td>2022-04-22 00:00:00</td>\n      <td>3872637</td>\n      <td>1996-05-02</td>\n      <td>...</td>\n      <td>Female</td>\n      <td>NaN</td>\n      <td>0</td>\n      <td>Medicaid Managed Care</td>\n      <td>Public</td>\n      <td>None</td>\n      <td>None</td>\n      <td>None</td>\n      <td>None</td>\n      <td>None</td>\n    </tr>\n  </tbody>\n</table>\n<p>50 rows × 37 columns</p>\n</div>"
     },
     "execution_count": 8,
     "metadata": {},
     "output_type": "execute_result"
    }
   ],
   "source": [
    "def CCSR(row):\n",
    "    if row in mapping_h.keys():\n",
    "        row = row.replace('.', '')\n",
    "        return ccsr_mapping[row][0]\n",
    "\n",
    "all_encounters['CCSR_code'] = all_encounters['ICD_code'].apply(CCSR)\n",
    "all_encounters.head(50)"
   ],
   "metadata": {
    "collapsed": false,
    "pycharm": {
     "name": "#%%\n"
    }
   }
  },
  {
   "cell_type": "code",
   "execution_count": 9,
   "outputs": [
    {
     "name": "stderr",
     "output_type": "stream",
     "text": [
      "/var/folders/xm/m4dy5bvs1fn7fb9wxjhsg4dc0000gn/T/ipykernel_64502/3764839172.py:3: UserWarning: DataFrame columns are not unique, some columns will be omitted.\n",
      "  mapping_d = map.set_index('referencedComponentName').T.to_dict('list')\n"
     ]
    }
   ],
   "source": [
    "map = pd.read_csv(\"/Users/valena17/DataGripProjects/msdw2/psych_diagnoses/snomed_icd_map_v2.csv\")\n",
    "map = map[['referencedComponentName', 'mapTarget', 'mapTargetName']]\n",
    "mapping_d = map.set_index('referencedComponentName').T.to_dict('list')\n",
    "mapping_d['Dementia']\n",
    "\n",
    "diagnoses = set(map.referencedComponentName)\n",
    "def condition_type(row):\n",
    "    if row in diagnoses:\n",
    "        return 1\n",
    "    else:\n",
    "        return 0\n",
    "\n",
    "all_encounters['psych_condition'] = all_encounters.condition_concept_name.apply(lambda row: condition_type(row))\n",
    "\n",
    "\n",
    "# all_encounters = pd.read_csv('../data/clean_all_encounters_conditions_patients.csv')\n",
    "# psych_encounters = pd.read_csv('../data/clean_psych_encounters_conditions_patients.csv')"
   ],
   "metadata": {
    "collapsed": false,
    "pycharm": {
     "name": "#%%\n"
    }
   }
  },
  {
   "cell_type": "code",
   "execution_count": 11,
   "outputs": [],
   "source": [
    "pd.DataFrame.to_csv(all_encounters, \"/Users/valena17/psych_nlp/data/clean_all_encounters_conditions_patients.csv\",index = False)\n",
    "\n",
    "psych_encounters = all_encounters.groupby('visit_occurrence_id').filter(lambda x: x['psych_condition'].mean() > 0)\n",
    "pd.DataFrame.to_csv(psych_encounters, \"/Users/valena17/psych_nlp/data/clean_psych_encounters_conditions_patients.csv\",index = False)"
   ],
   "metadata": {
    "collapsed": false,
    "pycharm": {
     "name": "#%%\n"
    }
   }
  },
  {
   "cell_type": "code",
   "execution_count": 6,
   "outputs": [
    {
     "data": {
      "text/plain": "     person_id  visit_occurrence_id  etl_epic_encounter_key  \\\n12         913            198204422               304807149   \n19         913            198204422               304807149   \n47        1081            195258082               297028242   \n54        1256            195615221               297693162   \n63        1444              4162678                 8321369   \n66        1474             12354025                 5567263   \n85        1564             11493815                 6112675   \n76        1564             11493794                 6064169   \n81        1564             11493813                 6111967   \n79        1564             11493804                 9585911   \n80        1564             11493804                 9585911   \n86        1634             10350201                13032362   \n111       1874            193988774               293722132   \n167       2406              6090484                 3469143   \n175       2825            197218567               302297990   \n182       3200             42407913                12238416   \n198       3752            185164625               291191776   \n211       4716             12949933                 2271895   \n212       6029            164980693               272951026   \n213       6029            164980693               272951026   \n217       6029            164980693               272951026   \n218       6029            164980693               272951026   \n262       6675            196103939               299872889   \n263       6675            196103939               299872889   \n264       6675            196103939               299872889   \n277       7952            162991436               265988415   \n278       7952            162991436               265988415   \n315       8937             13091095                 4826757   \n319      10814            161674795               260227067   \n334      13851            165880592               275611356   \n336      13851            166987819               283901675   \n337      13851            166987819               283901675   \n341      14111             40067574                33126509   \n343      14111             40067580                33197798   \n346      14174              9149946                 6306413   \n353      14320            123038443                87414511   \n358      14359             21377795                44466976   \n361      17215            185178538               291218327   \n384      17700            172223657               285908266   \n387      20317              8168761                 2295625   \n392      21948              9132086                 3439834   \n401      22594            173629593               290560322   \n406      22594            173629593               290560322   \n411      23166            194592727               294780995   \n412      23166            194592727               294780995   \n424      23166            199501805               308201024   \n425      23166            199501805               308201024   \n428      23252             11913535                 2012096   \n431      23783             62422822                11887033   \n433      23946             10987197                 5218901   \n\n                                   xtn_department_name  \\\n12              341 CENTRAL PARK AVE INTERNAL MEDICINE   \n19              341 CENTRAL PARK AVE INTERNAL MEDICINE   \n47                     37-12 82ND ST INTERNAL MEDICINE   \n54                               1428 MADISON GENETICS   \n63                 X_HOSP SBH MCSM MEDICAL_DEACTIVATED   \n66                  X_FPA GASTROENTEROLOGY_DEACTIVATED   \n85                      X_HOSP PSYCH CHILD_DEACTIVATED   \n76                      X_HOSP PSYCH CHILD_DEACTIVATED   \n81                      X_HOSP PSYCH CHILD_DEACTIVATED   \n79                      X_HOSP PSYCH CHILD_DEACTIVATED   \n80                      X_HOSP PSYCH CHILD_DEACTIVATED   \n86         X_HOSP ADOLESCENT MENTAL HEALTH_DEACTIVATED   \n111                            17 E 102ND ST IMA PSYCH   \n167                                 X_FPA PEDS GRIBETZ   \n175                       135 N 7TH ST FAMILY MEDICINE   \n182          X_FPA PSYCHIATRY - DR. HIRSCH_DEACTIVATED   \n198                    37-12 82ND ST INTERNAL MEDICINE   \n211                          X_FPA PEDS GI_DEACTIVATED   \n212                 476 KLONDIKE AVE INTERNAL MEDICINE   \n213                 476 KLONDIKE AVE INTERNAL MEDICINE   \n217                 476 KLONDIKE AVE INTERNAL MEDICINE   \n218                 476 KLONDIKE AVE INTERNAL MEDICINE   \n262                                  5 E 98  NEUROLOGY   \n263                                  5 E 98  NEUROLOGY   \n264                                  5 E 98  NEUROLOGY   \n277                    200 W 57TH ST INTERNAL MEDICINE   \n278                    200 W 57TH ST INTERNAL MEDICINE   \n315                               X_FPA PEDS NEUROLOGY   \n319                    1436 BROADWAY INTERNAL MEDICINE   \n334                                   275 7TH AVE CTMS   \n336                                   275 7TH AVE CTMS   \n337                                   275 7TH AVE CTMS   \n341                X_FPA PSYCHIATRY-NORRIS_DEACTIVATED   \n343                X_FPA PSYCHIATRY-NORRIS_DEACTIVATED   \n346                             WTC PSYCH 1160 5TH AVE   \n353  X_1155 NORTHERN BLVD INTERNAL MEDICINE_DEACTIV...   \n358                               X_FPA PSYCH-TRAINEES   \n361                                         MSB 2 WEST   \n384                                 10 E 102 PULMONARY   \n387                X_FPA NEUROPHYSIO DIAGNOSTIC CENTER   \n392                       X_HOSP PSYCH IAC_DEACTIVATED   \n401                           1436 BROADWAY PEDIATRICS   \n406                           1436 BROADWAY PEDIATRICS   \n411                                   275 7TH AVE CTMS   \n412                                   275 7TH AVE CTMS   \n424                             5 E 98 ST PEDS UROLOGY   \n425                             5 E 98 ST PEDS UROLOGY   \n428                 X_FPA GASTROENTEROLOGY_DEACTIVATED   \n431                     X_HOSP PSYCH CHILD_DEACTIVATED   \n433                                       X_IMA FIRM B   \n\n     xtn_visit_type_source_concept_id  \\\n12                         2000000112   \n19                         2000000112   \n47                         2000000112   \n54                         2000000112   \n63                         2000000112   \n66                         2000000112   \n85                         2000000112   \n76                         2000000112   \n81                         2000000112   \n79                         2000000112   \n80                         2000000112   \n86                         2000000112   \n111                        2000000112   \n167                        2000000112   \n175                        2000000112   \n182                        2000000112   \n198                        2000000112   \n211                        2000000112   \n212                        2000000112   \n213                        2000000112   \n217                        2000000112   \n218                        2000000112   \n262                        2000000112   \n263                        2000000112   \n264                        2000000112   \n277                        2000000112   \n278                        2000000112   \n315                        2000000112   \n319                        2000000112   \n334                        2000000112   \n336                        2000000112   \n337                        2000000112   \n341                        2000000112   \n343                        2000000112   \n346                        2000000112   \n353                        2000000112   \n358                        2000000112   \n361                        2000000099   \n384                        2000000112   \n387                        2000000112   \n392                        2000000112   \n401                        2000000112   \n406                        2000000112   \n411                        2000000112   \n412                        2000000112   \n424                        2000000112   \n425                        2000000112   \n428                        2000000112   \n431                        2000000112   \n433                        2000000112   \n\n          xtn_visit_type_source_concept_code visit_start_datetime  \\\n12                          Outpatient Visit  2022-07-21 00:00:00   \n19                          Outpatient Visit  2022-07-21 00:00:00   \n47                          Outpatient Visit  2022-04-22 00:00:00   \n54                          Outpatient Visit  2022-06-17 00:00:00   \n63                          Outpatient Visit  2010-03-03 00:00:00   \n66                          Outpatient Visit           2010-02-03   \n85                          Outpatient Visit           2010-04-02   \n76                          Outpatient Visit           2010-05-14   \n81                          Outpatient Visit           2010-06-18   \n79                          Outpatient Visit  2010-08-30 00:00:00   \n80                          Outpatient Visit  2010-08-30 00:00:00   \n86                          Outpatient Visit  2011-02-25 00:00:00   \n111                         Outpatient Visit  2022-04-05 00:00:00   \n167                         Outpatient Visit           2010-04-29   \n175                         Outpatient Visit  2022-06-29 00:00:00   \n182                         Outpatient Visit  2011-02-07 00:00:00   \n198                         Outpatient Visit  2022-03-01 00:00:00   \n211                         Outpatient Visit           2008-08-14   \n212                         Outpatient Visit  2021-09-30 00:00:00   \n213                         Outpatient Visit  2021-09-30 00:00:00   \n217                         Outpatient Visit  2021-09-30 00:00:00   \n218                         Outpatient Visit  2021-09-30 00:00:00   \n262                         Outpatient Visit  2022-09-01 00:00:00   \n263                         Outpatient Visit  2022-09-01 00:00:00   \n264                         Outpatient Visit  2022-09-01 00:00:00   \n277                         Outpatient Visit  2021-10-11 00:00:00   \n278                         Outpatient Visit  2021-10-11 00:00:00   \n315                         Outpatient Visit           2008-09-02   \n319                         Outpatient Visit           2021-10-11   \n334                         Outpatient Visit  2021-11-24 00:00:00   \n336                         Outpatient Visit  2022-01-07 00:00:00   \n337                         Outpatient Visit  2022-01-07 00:00:00   \n341                         Outpatient Visit  2015-01-28 00:00:00   \n343                         Outpatient Visit  2015-03-02 00:00:00   \n346                         Outpatient Visit  2010-06-09 00:00:00   \n353                         Outpatient Visit  2018-12-11 00:00:00   \n358                         Outpatient Visit  2016-01-11 00:00:00   \n361  Inpatient Hospitalization from ED Visit  2022-02-26 05:28:00   \n384                         Outpatient Visit  2022-06-01 00:00:00   \n387                         Outpatient Visit           2009-09-03   \n392                         Outpatient Visit  2010-03-02 00:00:00   \n401                         Outpatient Visit  2022-02-17 00:00:00   \n406                         Outpatient Visit  2022-02-17 00:00:00   \n411                         Outpatient Visit  2022-04-12 00:00:00   \n412                         Outpatient Visit  2022-04-12 00:00:00   \n424                         Outpatient Visit  2022-09-14 00:00:00   \n425                         Outpatient Visit  2022-09-14 00:00:00   \n428                         Outpatient Visit  2010-10-15 00:00:00   \n431                         Outpatient Visit  2010-10-22 00:00:00   \n433                         Outpatient Visit           2010-04-26   \n\n      visit_end_datetime xtn_patient_epic_mrn xtn_birth_date  ...  \\\n12   2022-07-21 00:00:00              3657926     1952-03-02  ...   \n19   2022-07-21 00:00:00              3657926     1952-03-02  ...   \n47   2022-04-22 00:00:00              3872637     1996-05-02  ...   \n54   2022-06-17 00:00:00              2460594     2002-07-28  ...   \n63   2010-03-03 00:00:00              2811095     1993-10-02  ...   \n66            2010-02-03              3063678     1984-07-23  ...   \n85            2010-04-02              2177437     1994-02-11  ...   \n76            2010-05-14              2177437     1994-02-11  ...   \n81            2010-06-18              2177437     1994-02-11  ...   \n79   2010-08-30 00:00:00              2177437     1994-02-11  ...   \n80   2010-08-30 00:00:00              2177437     1994-02-11  ...   \n86   2011-02-25 00:00:00              3242312     1992-02-03  ...   \n111  2022-04-05 00:00:00              3634904     1963-11-30  ...   \n167           2010-04-29              3122422     2007-12-13  ...   \n175  2022-06-29 00:00:00              3206759     1991-09-17  ...   \n182  2011-02-07 00:00:00              3228071     1984-01-01  ...   \n198  2022-03-01 00:00:00              3535383     1946-08-25  ...   \n211           2008-08-14              2906067     1998-02-22  ...   \n212  2021-09-30 00:00:00              5529898     1970-01-07  ...   \n213  2021-09-30 00:00:00              5529898     1970-01-07  ...   \n217  2021-09-30 00:00:00              5529898     1970-01-07  ...   \n218  2021-09-30 00:00:00              5529898     1970-01-07  ...   \n262  2022-09-01 00:00:00              1547763     1947-05-20  ...   \n263  2022-09-01 00:00:00              1547763     1947-05-20  ...   \n264  2022-09-01 00:00:00              1547763     1947-05-20  ...   \n277  2021-10-11 00:00:00              3807773     1970-01-10  ...   \n278  2021-10-11 00:00:00              3807773     1970-01-10  ...   \n315           2008-09-02              2906141     2004-03-05  ...   \n319           2021-10-11              3702174     1945-02-18  ...   \n334  2021-11-24 00:00:00              2510691     2005-05-06  ...   \n336  2022-01-07 00:00:00              2510691     2005-05-06  ...   \n337  2022-01-07 00:00:00              2510691     2005-05-06  ...   \n341  2015-01-28 00:00:00              2760015     2000-05-04  ...   \n343  2015-03-02 00:00:00              2760015     2000-05-04  ...   \n346  2010-06-09 00:00:00              3123628     1962-07-30  ...   \n353  2018-12-11 00:00:00              3882883     1955-07-12  ...   \n358  2016-01-11 00:00:00              3752122     1987-02-03  ...   \n361  2022-02-26 05:28:00              2047771     1965-01-02  ...   \n384  2022-06-01 00:00:00              3185963     1991-03-20  ...   \n387           2009-09-03              3004706     1935-01-10  ...   \n392  2010-03-02 00:00:00              2942951     1995-02-14  ...   \n401  2022-02-17 00:00:00              2832587     2007-12-30  ...   \n406  2022-02-17 00:00:00              2832587     2007-12-30  ...   \n411  2022-04-12 00:00:00              3130925     2008-01-11  ...   \n412  2022-04-12 00:00:00              3130925     2008-01-11  ...   \n424  2022-09-14 00:00:00              3130925     2008-01-11  ...   \n425  2022-09-14 00:00:00              3130925     2008-01-11  ...   \n428  2010-10-15 00:00:00              3185216     1921-02-12  ...   \n431  2010-10-22 00:00:00              3194450     1999-07-29  ...   \n433           2010-04-26              3086624     1986-07-02  ...   \n\n       insurance_payor_class insurance_status  \\\n12               Medicare MS           Public   \n19               Medicare MS           Public   \n47     Medicaid Managed Care           Public   \n54   Commercial/Managed Care          Private   \n63                  Self-Pay         Self-pay   \n66                  Self-Pay         Self-pay   \n85                  Self-Pay         Self-pay   \n76                  Self-Pay         Self-pay   \n81                  Self-Pay         Self-pay   \n79                  Self-Pay         Self-pay   \n80                  Self-Pay         Self-pay   \n86                  Self-Pay         Self-pay   \n111  Commercial/Managed Care          Private   \n167                 Self-Pay         Self-pay   \n175  Commercial/Managed Care          Private   \n182                 Self-Pay         Self-pay   \n198  Commercial/Managed Care          Private   \n211                 Self-Pay         Self-pay   \n212  Commercial/Managed Care          Private   \n213  Commercial/Managed Care          Private   \n217  Commercial/Managed Care          Private   \n218  Commercial/Managed Care          Private   \n262              Medicare MS           Public   \n263              Medicare MS           Public   \n264              Medicare MS           Public   \n277  Commercial/Managed Care          Private   \n278  Commercial/Managed Care          Private   \n315                 Self-Pay         Self-pay   \n319              Medicare MS           Public   \n334  Commercial/Managed Care          Private   \n336                 Self-Pay         Self-pay   \n337                 Self-Pay         Self-pay   \n341                 Self-Pay         Self-pay   \n343                 Self-Pay         Self-pay   \n346                 Self-Pay         Self-pay   \n353  Commercial/Managed Care          Private   \n358                 Self-Pay         Self-pay   \n361  Commercial/Managed Care          Private   \n384              Medicaid MS           Public   \n387                 Self-Pay         Self-pay   \n392                 Self-Pay         Self-pay   \n401    Medicaid Managed Care           Public   \n406    Medicaid Managed Care           Public   \n411  Commercial/Managed Care          Private   \n412  Commercial/Managed Care          Private   \n424  Commercial/Managed Care          Private   \n425  Commercial/Managed Care          Private   \n428                 Self-Pay         Self-pay   \n431                 Self-Pay         Self-pay   \n433                 Self-Pay         Self-pay   \n\n                                              ICD_name ICD_code  ICD_code_h  \\\n12                       Anxiety disorder, unspecified    F41.9       F41.9   \n19                             Depression, unspecified    F32.A       F32.A   \n47                       Anxiety disorder, unspecified    F41.9       F41.9   \n54               Unspecified intellectual disabilities      F79         F79   \n63                       Anxiety disorder, unspecified    F41.9       F41.9   \n66                       Bipolar disorder, unspecified    F31.9       F31.9   \n85          Obsessive-compulsive disorder, unspecified    F42.9       F42.9   \n76   Attention-deficit hyperactivity disorder, unsp...    F90.9       F90.9   \n81   Attention-deficit hyperactivity disorder, pred...    F90.0       F90.0   \n79   Attention-deficit hyperactivity disorder, pred...    F90.1       F90.1   \n80        Mixed receptive-expressive language disorder    F80.2       F80.2   \n86              Conduct disorder, childhood-onset type    F91.1       F91.1   \n111         Major depressive disorder, recurrent, mild    F33.0       F33.0   \n167  Developmental disorder of speech and language,...    F80.9       F80.9   \n175  Attention-deficit hyperactivity disorder, unsp...    F90.9       F90.9   \n182         Obsessive-compulsive disorder, unspecified    F42.9       F42.9   \n198                       Generalized anxiety disorder    F41.1       F41.1   \n211           Separation anxiety disorder of childhood    F93.0       F93.0   \n212                      Anxiety disorder, unspecified    F41.9       F41.9   \n213                      Anxiety disorder, unspecified    F41.9       F41.9   \n217  Major depressive disorder, single episode, uns...    F32.9       F32.9   \n218                  Other specified anxiety disorders    F41.8       F41.8   \n262  Dementia in other diseases classified elsewher...   F02.80       F02.8   \n263  Dementia in other diseases classified elsewher...   F02.80       F02.8   \n264  Vascular dementia, unspecified severity, witho...   F01.50       F01.5   \n277                      Anxiety disorder, unspecified    F41.9       F41.9   \n278                      Anxiety disorder, unspecified    F41.9       F41.9   \n315  Developmental disorder of speech and language,...    F80.9       F80.9   \n319                       Generalized anxiety disorder    F41.1       F41.1   \n334                                     Transsexualism    F64.0       F64.0   \n336                       Generalized anxiety disorder    F41.1       F41.1   \n337                Other obsessive-compulsive disorder    F42.8       F42.8   \n341          Nonpsychotic mental disorder, unspecified    F48.9       F48.9   \n343                       Generalized anxiety disorder    F41.1       F41.1   \n346                   Adjustment disorder, unspecified   F43.20       F43.2   \n353    Nicotine dependence, unspecified, uncomplicated  F17.200       F17.2   \n358                   Adjustment disorder with anxiety   F43.22       F43.2   \n361  Alcohol use, unspecified with other alcohol-in...  F10.988       F10.9   \n384                                  Autistic disorder    F84.0       F84.0   \n387  Unspecified dementia, unspecified severity, wi...   F03.90       F03.9   \n392              Unspecified mood [affective] disorder      F39         F39   \n401                      Anxiety disorder, unspecified    F41.9       F41.9   \n406                  Other specified anxiety disorders    F41.8       F41.8   \n411                                     Transsexualism    F64.0       F64.0   \n412                                     Transsexualism    F64.0       F64.0   \n424              Gender identity disorder, unspecified    F64.9       F64.9   \n425              Gender identity disorder, unspecified    F64.9       F64.9   \n428                            Depression, unspecified    F32.A       F32.A   \n431      Pervasive developmental disorder, unspecified    F84.9       F84.9   \n433                            Depression, unspecified    F32.A       F32.A   \n\n    ICD_code_top_h                                          CCSR_code  \\\n12             F41                 Anxiety and fear-related disorders   \n19             F32                               Depressive disorders   \n47             F41                 Anxiety and fear-related disorders   \n54             F79                       Neurodevelopmental disorders   \n63             F41                 Anxiety and fear-related disorders   \n66             F31                      Bipolar and related disorders   \n85             F42         Obsessive-compulsive and related disorders   \n76             F90                       Neurodevelopmental disorders   \n81             F90                       Neurodevelopmental disorders   \n79             F90                       Neurodevelopmental disorders   \n80             F80                       Neurodevelopmental disorders   \n86             F91  Disruptive, impulse-control and conduct disorders   \n111            F33                               Depressive disorders   \n167            F80                       Neurodevelopmental disorders   \n175            F90                       Neurodevelopmental disorders   \n182            F42         Obsessive-compulsive and related disorders   \n198            F41                 Anxiety and fear-related disorders   \n211            F93                 Anxiety and fear-related disorders   \n212            F41                 Anxiety and fear-related disorders   \n213            F41                 Anxiety and fear-related disorders   \n217            F32                               Depressive disorders   \n218            F41                 Anxiety and fear-related disorders   \n262            F02                           Neurocognitive disorders   \n263            F02                           Neurocognitive disorders   \n264            F01                           Neurocognitive disorders   \n277            F41                 Anxiety and fear-related disorders   \n278            F41                 Anxiety and fear-related disorders   \n315            F80                       Neurodevelopmental disorders   \n319            F41                 Anxiety and fear-related disorders   \n334            F64  Miscellaneous mental and behavioral disorders/...   \n336            F41                 Anxiety and fear-related disorders   \n337            F42         Obsessive-compulsive and related disorders   \n341            F48  Miscellaneous mental and behavioral disorders/...   \n343            F41                 Anxiety and fear-related disorders   \n346            F43             Trauma- and stressor-related disorders   \n353            F17                          Tobacco-related disorders   \n358            F43             Trauma- and stressor-related disorders   \n361            F10                          Alcohol-related disorders   \n384            F84                       Neurodevelopmental disorders   \n387            F03                           Neurocognitive disorders   \n392            F39     Other specified and unspecified mood disorders   \n401            F41                 Anxiety and fear-related disorders   \n406            F41                 Anxiety and fear-related disorders   \n411            F64  Miscellaneous mental and behavioral disorders/...   \n412            F64  Miscellaneous mental and behavioral disorders/...   \n424            F64  Miscellaneous mental and behavioral disorders/...   \n425            F64  Miscellaneous mental and behavioral disorders/...   \n428            F32                               Depressive disorders   \n431            F84                       Neurodevelopmental disorders   \n433            F32                               Depressive disorders   \n\n    visit_year  birth_year age_at_visit  \n12        2022        1952           70  \n19        2022        1952           70  \n47        2022        1996           26  \n54        2022        2002           20  \n63        2010        1993           17  \n66        2010        1984           26  \n85        2010        1994           16  \n76        2010        1994           16  \n81        2010        1994           16  \n79        2010        1994           16  \n80        2010        1994           16  \n86        2011        1992           19  \n111       2022        1963           59  \n167       2010        2007            3  \n175       2022        1991           31  \n182       2011        1984           27  \n198       2022        1946           76  \n211       2008        1998           10  \n212       2021        1970           51  \n213       2021        1970           51  \n217       2021        1970           51  \n218       2021        1970           51  \n262       2022        1947           75  \n263       2022        1947           75  \n264       2022        1947           75  \n277       2021        1970           51  \n278       2021        1970           51  \n315       2008        2004            4  \n319       2021        1945           76  \n334       2021        2005           16  \n336       2022        2005           17  \n337       2022        2005           17  \n341       2015        2000           15  \n343       2015        2000           15  \n346       2010        1962           48  \n353       2018        1955           63  \n358       2016        1987           29  \n361       2022        1965           57  \n384       2022        1991           31  \n387       2009        1935           74  \n392       2010        1995           15  \n401       2022        2007           15  \n406       2022        2007           15  \n411       2022        2008           14  \n412       2022        2008           14  \n424       2022        2008           14  \n425       2022        2008           14  \n428       2010        1921           89  \n431       2010        1999           11  \n433       2010        1986           24  \n\n[50 rows x 40 columns]",
      "text/html": "<div>\n<style scoped>\n    .dataframe tbody tr th:only-of-type {\n        vertical-align: middle;\n    }\n\n    .dataframe tbody tr th {\n        vertical-align: top;\n    }\n\n    .dataframe thead th {\n        text-align: right;\n    }\n</style>\n<table border=\"1\" class=\"dataframe\">\n  <thead>\n    <tr style=\"text-align: right;\">\n      <th></th>\n      <th>person_id</th>\n      <th>visit_occurrence_id</th>\n      <th>etl_epic_encounter_key</th>\n      <th>xtn_department_name</th>\n      <th>xtn_visit_type_source_concept_id</th>\n      <th>xtn_visit_type_source_concept_code</th>\n      <th>visit_start_datetime</th>\n      <th>visit_end_datetime</th>\n      <th>xtn_patient_epic_mrn</th>\n      <th>xtn_birth_date</th>\n      <th>...</th>\n      <th>insurance_payor_class</th>\n      <th>insurance_status</th>\n      <th>ICD_name</th>\n      <th>ICD_code</th>\n      <th>ICD_code_h</th>\n      <th>ICD_code_top_h</th>\n      <th>CCSR_code</th>\n      <th>visit_year</th>\n      <th>birth_year</th>\n      <th>age_at_visit</th>\n    </tr>\n  </thead>\n  <tbody>\n    <tr>\n      <th>12</th>\n      <td>913</td>\n      <td>198204422</td>\n      <td>304807149</td>\n      <td>341 CENTRAL PARK AVE INTERNAL MEDICINE</td>\n      <td>2000000112</td>\n      <td>Outpatient Visit</td>\n      <td>2022-07-21 00:00:00</td>\n      <td>2022-07-21 00:00:00</td>\n      <td>3657926</td>\n      <td>1952-03-02</td>\n      <td>...</td>\n      <td>Medicare MS</td>\n      <td>Public</td>\n      <td>Anxiety disorder, unspecified</td>\n      <td>F41.9</td>\n      <td>F41.9</td>\n      <td>F41</td>\n      <td>Anxiety and fear-related disorders</td>\n      <td>2022</td>\n      <td>1952</td>\n      <td>70</td>\n    </tr>\n    <tr>\n      <th>19</th>\n      <td>913</td>\n      <td>198204422</td>\n      <td>304807149</td>\n      <td>341 CENTRAL PARK AVE INTERNAL MEDICINE</td>\n      <td>2000000112</td>\n      <td>Outpatient Visit</td>\n      <td>2022-07-21 00:00:00</td>\n      <td>2022-07-21 00:00:00</td>\n      <td>3657926</td>\n      <td>1952-03-02</td>\n      <td>...</td>\n      <td>Medicare MS</td>\n      <td>Public</td>\n      <td>Depression, unspecified</td>\n      <td>F32.A</td>\n      <td>F32.A</td>\n      <td>F32</td>\n      <td>Depressive disorders</td>\n      <td>2022</td>\n      <td>1952</td>\n      <td>70</td>\n    </tr>\n    <tr>\n      <th>47</th>\n      <td>1081</td>\n      <td>195258082</td>\n      <td>297028242</td>\n      <td>37-12 82ND ST INTERNAL MEDICINE</td>\n      <td>2000000112</td>\n      <td>Outpatient Visit</td>\n      <td>2022-04-22 00:00:00</td>\n      <td>2022-04-22 00:00:00</td>\n      <td>3872637</td>\n      <td>1996-05-02</td>\n      <td>...</td>\n      <td>Medicaid Managed Care</td>\n      <td>Public</td>\n      <td>Anxiety disorder, unspecified</td>\n      <td>F41.9</td>\n      <td>F41.9</td>\n      <td>F41</td>\n      <td>Anxiety and fear-related disorders</td>\n      <td>2022</td>\n      <td>1996</td>\n      <td>26</td>\n    </tr>\n    <tr>\n      <th>54</th>\n      <td>1256</td>\n      <td>195615221</td>\n      <td>297693162</td>\n      <td>1428 MADISON GENETICS</td>\n      <td>2000000112</td>\n      <td>Outpatient Visit</td>\n      <td>2022-06-17 00:00:00</td>\n      <td>2022-06-17 00:00:00</td>\n      <td>2460594</td>\n      <td>2002-07-28</td>\n      <td>...</td>\n      <td>Commercial/Managed Care</td>\n      <td>Private</td>\n      <td>Unspecified intellectual disabilities</td>\n      <td>F79</td>\n      <td>F79</td>\n      <td>F79</td>\n      <td>Neurodevelopmental disorders</td>\n      <td>2022</td>\n      <td>2002</td>\n      <td>20</td>\n    </tr>\n    <tr>\n      <th>63</th>\n      <td>1444</td>\n      <td>4162678</td>\n      <td>8321369</td>\n      <td>X_HOSP SBH MCSM MEDICAL_DEACTIVATED</td>\n      <td>2000000112</td>\n      <td>Outpatient Visit</td>\n      <td>2010-03-03 00:00:00</td>\n      <td>2010-03-03 00:00:00</td>\n      <td>2811095</td>\n      <td>1993-10-02</td>\n      <td>...</td>\n      <td>Self-Pay</td>\n      <td>Self-pay</td>\n      <td>Anxiety disorder, unspecified</td>\n      <td>F41.9</td>\n      <td>F41.9</td>\n      <td>F41</td>\n      <td>Anxiety and fear-related disorders</td>\n      <td>2010</td>\n      <td>1993</td>\n      <td>17</td>\n    </tr>\n    <tr>\n      <th>66</th>\n      <td>1474</td>\n      <td>12354025</td>\n      <td>5567263</td>\n      <td>X_FPA GASTROENTEROLOGY_DEACTIVATED</td>\n      <td>2000000112</td>\n      <td>Outpatient Visit</td>\n      <td>2010-02-03</td>\n      <td>2010-02-03</td>\n      <td>3063678</td>\n      <td>1984-07-23</td>\n      <td>...</td>\n      <td>Self-Pay</td>\n      <td>Self-pay</td>\n      <td>Bipolar disorder, unspecified</td>\n      <td>F31.9</td>\n      <td>F31.9</td>\n      <td>F31</td>\n      <td>Bipolar and related disorders</td>\n      <td>2010</td>\n      <td>1984</td>\n      <td>26</td>\n    </tr>\n    <tr>\n      <th>85</th>\n      <td>1564</td>\n      <td>11493815</td>\n      <td>6112675</td>\n      <td>X_HOSP PSYCH CHILD_DEACTIVATED</td>\n      <td>2000000112</td>\n      <td>Outpatient Visit</td>\n      <td>2010-04-02</td>\n      <td>2010-04-02</td>\n      <td>2177437</td>\n      <td>1994-02-11</td>\n      <td>...</td>\n      <td>Self-Pay</td>\n      <td>Self-pay</td>\n      <td>Obsessive-compulsive disorder, unspecified</td>\n      <td>F42.9</td>\n      <td>F42.9</td>\n      <td>F42</td>\n      <td>Obsessive-compulsive and related disorders</td>\n      <td>2010</td>\n      <td>1994</td>\n      <td>16</td>\n    </tr>\n    <tr>\n      <th>76</th>\n      <td>1564</td>\n      <td>11493794</td>\n      <td>6064169</td>\n      <td>X_HOSP PSYCH CHILD_DEACTIVATED</td>\n      <td>2000000112</td>\n      <td>Outpatient Visit</td>\n      <td>2010-05-14</td>\n      <td>2010-05-14</td>\n      <td>2177437</td>\n      <td>1994-02-11</td>\n      <td>...</td>\n      <td>Self-Pay</td>\n      <td>Self-pay</td>\n      <td>Attention-deficit hyperactivity disorder, unsp...</td>\n      <td>F90.9</td>\n      <td>F90.9</td>\n      <td>F90</td>\n      <td>Neurodevelopmental disorders</td>\n      <td>2010</td>\n      <td>1994</td>\n      <td>16</td>\n    </tr>\n    <tr>\n      <th>81</th>\n      <td>1564</td>\n      <td>11493813</td>\n      <td>6111967</td>\n      <td>X_HOSP PSYCH CHILD_DEACTIVATED</td>\n      <td>2000000112</td>\n      <td>Outpatient Visit</td>\n      <td>2010-06-18</td>\n      <td>2010-06-18</td>\n      <td>2177437</td>\n      <td>1994-02-11</td>\n      <td>...</td>\n      <td>Self-Pay</td>\n      <td>Self-pay</td>\n      <td>Attention-deficit hyperactivity disorder, pred...</td>\n      <td>F90.0</td>\n      <td>F90.0</td>\n      <td>F90</td>\n      <td>Neurodevelopmental disorders</td>\n      <td>2010</td>\n      <td>1994</td>\n      <td>16</td>\n    </tr>\n    <tr>\n      <th>79</th>\n      <td>1564</td>\n      <td>11493804</td>\n      <td>9585911</td>\n      <td>X_HOSP PSYCH CHILD_DEACTIVATED</td>\n      <td>2000000112</td>\n      <td>Outpatient Visit</td>\n      <td>2010-08-30 00:00:00</td>\n      <td>2010-08-30 00:00:00</td>\n      <td>2177437</td>\n      <td>1994-02-11</td>\n      <td>...</td>\n      <td>Self-Pay</td>\n      <td>Self-pay</td>\n      <td>Attention-deficit hyperactivity disorder, pred...</td>\n      <td>F90.1</td>\n      <td>F90.1</td>\n      <td>F90</td>\n      <td>Neurodevelopmental disorders</td>\n      <td>2010</td>\n      <td>1994</td>\n      <td>16</td>\n    </tr>\n    <tr>\n      <th>80</th>\n      <td>1564</td>\n      <td>11493804</td>\n      <td>9585911</td>\n      <td>X_HOSP PSYCH CHILD_DEACTIVATED</td>\n      <td>2000000112</td>\n      <td>Outpatient Visit</td>\n      <td>2010-08-30 00:00:00</td>\n      <td>2010-08-30 00:00:00</td>\n      <td>2177437</td>\n      <td>1994-02-11</td>\n      <td>...</td>\n      <td>Self-Pay</td>\n      <td>Self-pay</td>\n      <td>Mixed receptive-expressive language disorder</td>\n      <td>F80.2</td>\n      <td>F80.2</td>\n      <td>F80</td>\n      <td>Neurodevelopmental disorders</td>\n      <td>2010</td>\n      <td>1994</td>\n      <td>16</td>\n    </tr>\n    <tr>\n      <th>86</th>\n      <td>1634</td>\n      <td>10350201</td>\n      <td>13032362</td>\n      <td>X_HOSP ADOLESCENT MENTAL HEALTH_DEACTIVATED</td>\n      <td>2000000112</td>\n      <td>Outpatient Visit</td>\n      <td>2011-02-25 00:00:00</td>\n      <td>2011-02-25 00:00:00</td>\n      <td>3242312</td>\n      <td>1992-02-03</td>\n      <td>...</td>\n      <td>Self-Pay</td>\n      <td>Self-pay</td>\n      <td>Conduct disorder, childhood-onset type</td>\n      <td>F91.1</td>\n      <td>F91.1</td>\n      <td>F91</td>\n      <td>Disruptive, impulse-control and conduct disorders</td>\n      <td>2011</td>\n      <td>1992</td>\n      <td>19</td>\n    </tr>\n    <tr>\n      <th>111</th>\n      <td>1874</td>\n      <td>193988774</td>\n      <td>293722132</td>\n      <td>17 E 102ND ST IMA PSYCH</td>\n      <td>2000000112</td>\n      <td>Outpatient Visit</td>\n      <td>2022-04-05 00:00:00</td>\n      <td>2022-04-05 00:00:00</td>\n      <td>3634904</td>\n      <td>1963-11-30</td>\n      <td>...</td>\n      <td>Commercial/Managed Care</td>\n      <td>Private</td>\n      <td>Major depressive disorder, recurrent, mild</td>\n      <td>F33.0</td>\n      <td>F33.0</td>\n      <td>F33</td>\n      <td>Depressive disorders</td>\n      <td>2022</td>\n      <td>1963</td>\n      <td>59</td>\n    </tr>\n    <tr>\n      <th>167</th>\n      <td>2406</td>\n      <td>6090484</td>\n      <td>3469143</td>\n      <td>X_FPA PEDS GRIBETZ</td>\n      <td>2000000112</td>\n      <td>Outpatient Visit</td>\n      <td>2010-04-29</td>\n      <td>2010-04-29</td>\n      <td>3122422</td>\n      <td>2007-12-13</td>\n      <td>...</td>\n      <td>Self-Pay</td>\n      <td>Self-pay</td>\n      <td>Developmental disorder of speech and language,...</td>\n      <td>F80.9</td>\n      <td>F80.9</td>\n      <td>F80</td>\n      <td>Neurodevelopmental disorders</td>\n      <td>2010</td>\n      <td>2007</td>\n      <td>3</td>\n    </tr>\n    <tr>\n      <th>175</th>\n      <td>2825</td>\n      <td>197218567</td>\n      <td>302297990</td>\n      <td>135 N 7TH ST FAMILY MEDICINE</td>\n      <td>2000000112</td>\n      <td>Outpatient Visit</td>\n      <td>2022-06-29 00:00:00</td>\n      <td>2022-06-29 00:00:00</td>\n      <td>3206759</td>\n      <td>1991-09-17</td>\n      <td>...</td>\n      <td>Commercial/Managed Care</td>\n      <td>Private</td>\n      <td>Attention-deficit hyperactivity disorder, unsp...</td>\n      <td>F90.9</td>\n      <td>F90.9</td>\n      <td>F90</td>\n      <td>Neurodevelopmental disorders</td>\n      <td>2022</td>\n      <td>1991</td>\n      <td>31</td>\n    </tr>\n    <tr>\n      <th>182</th>\n      <td>3200</td>\n      <td>42407913</td>\n      <td>12238416</td>\n      <td>X_FPA PSYCHIATRY - DR. HIRSCH_DEACTIVATED</td>\n      <td>2000000112</td>\n      <td>Outpatient Visit</td>\n      <td>2011-02-07 00:00:00</td>\n      <td>2011-02-07 00:00:00</td>\n      <td>3228071</td>\n      <td>1984-01-01</td>\n      <td>...</td>\n      <td>Self-Pay</td>\n      <td>Self-pay</td>\n      <td>Obsessive-compulsive disorder, unspecified</td>\n      <td>F42.9</td>\n      <td>F42.9</td>\n      <td>F42</td>\n      <td>Obsessive-compulsive and related disorders</td>\n      <td>2011</td>\n      <td>1984</td>\n      <td>27</td>\n    </tr>\n    <tr>\n      <th>198</th>\n      <td>3752</td>\n      <td>185164625</td>\n      <td>291191776</td>\n      <td>37-12 82ND ST INTERNAL MEDICINE</td>\n      <td>2000000112</td>\n      <td>Outpatient Visit</td>\n      <td>2022-03-01 00:00:00</td>\n      <td>2022-03-01 00:00:00</td>\n      <td>3535383</td>\n      <td>1946-08-25</td>\n      <td>...</td>\n      <td>Commercial/Managed Care</td>\n      <td>Private</td>\n      <td>Generalized anxiety disorder</td>\n      <td>F41.1</td>\n      <td>F41.1</td>\n      <td>F41</td>\n      <td>Anxiety and fear-related disorders</td>\n      <td>2022</td>\n      <td>1946</td>\n      <td>76</td>\n    </tr>\n    <tr>\n      <th>211</th>\n      <td>4716</td>\n      <td>12949933</td>\n      <td>2271895</td>\n      <td>X_FPA PEDS GI_DEACTIVATED</td>\n      <td>2000000112</td>\n      <td>Outpatient Visit</td>\n      <td>2008-08-14</td>\n      <td>2008-08-14</td>\n      <td>2906067</td>\n      <td>1998-02-22</td>\n      <td>...</td>\n      <td>Self-Pay</td>\n      <td>Self-pay</td>\n      <td>Separation anxiety disorder of childhood</td>\n      <td>F93.0</td>\n      <td>F93.0</td>\n      <td>F93</td>\n      <td>Anxiety and fear-related disorders</td>\n      <td>2008</td>\n      <td>1998</td>\n      <td>10</td>\n    </tr>\n    <tr>\n      <th>212</th>\n      <td>6029</td>\n      <td>164980693</td>\n      <td>272951026</td>\n      <td>476 KLONDIKE AVE INTERNAL MEDICINE</td>\n      <td>2000000112</td>\n      <td>Outpatient Visit</td>\n      <td>2021-09-30 00:00:00</td>\n      <td>2021-09-30 00:00:00</td>\n      <td>5529898</td>\n      <td>1970-01-07</td>\n      <td>...</td>\n      <td>Commercial/Managed Care</td>\n      <td>Private</td>\n      <td>Anxiety disorder, unspecified</td>\n      <td>F41.9</td>\n      <td>F41.9</td>\n      <td>F41</td>\n      <td>Anxiety and fear-related disorders</td>\n      <td>2021</td>\n      <td>1970</td>\n      <td>51</td>\n    </tr>\n    <tr>\n      <th>213</th>\n      <td>6029</td>\n      <td>164980693</td>\n      <td>272951026</td>\n      <td>476 KLONDIKE AVE INTERNAL MEDICINE</td>\n      <td>2000000112</td>\n      <td>Outpatient Visit</td>\n      <td>2021-09-30 00:00:00</td>\n      <td>2021-09-30 00:00:00</td>\n      <td>5529898</td>\n      <td>1970-01-07</td>\n      <td>...</td>\n      <td>Commercial/Managed Care</td>\n      <td>Private</td>\n      <td>Anxiety disorder, unspecified</td>\n      <td>F41.9</td>\n      <td>F41.9</td>\n      <td>F41</td>\n      <td>Anxiety and fear-related disorders</td>\n      <td>2021</td>\n      <td>1970</td>\n      <td>51</td>\n    </tr>\n    <tr>\n      <th>217</th>\n      <td>6029</td>\n      <td>164980693</td>\n      <td>272951026</td>\n      <td>476 KLONDIKE AVE INTERNAL MEDICINE</td>\n      <td>2000000112</td>\n      <td>Outpatient Visit</td>\n      <td>2021-09-30 00:00:00</td>\n      <td>2021-09-30 00:00:00</td>\n      <td>5529898</td>\n      <td>1970-01-07</td>\n      <td>...</td>\n      <td>Commercial/Managed Care</td>\n      <td>Private</td>\n      <td>Major depressive disorder, single episode, uns...</td>\n      <td>F32.9</td>\n      <td>F32.9</td>\n      <td>F32</td>\n      <td>Depressive disorders</td>\n      <td>2021</td>\n      <td>1970</td>\n      <td>51</td>\n    </tr>\n    <tr>\n      <th>218</th>\n      <td>6029</td>\n      <td>164980693</td>\n      <td>272951026</td>\n      <td>476 KLONDIKE AVE INTERNAL MEDICINE</td>\n      <td>2000000112</td>\n      <td>Outpatient Visit</td>\n      <td>2021-09-30 00:00:00</td>\n      <td>2021-09-30 00:00:00</td>\n      <td>5529898</td>\n      <td>1970-01-07</td>\n      <td>...</td>\n      <td>Commercial/Managed Care</td>\n      <td>Private</td>\n      <td>Other specified anxiety disorders</td>\n      <td>F41.8</td>\n      <td>F41.8</td>\n      <td>F41</td>\n      <td>Anxiety and fear-related disorders</td>\n      <td>2021</td>\n      <td>1970</td>\n      <td>51</td>\n    </tr>\n    <tr>\n      <th>262</th>\n      <td>6675</td>\n      <td>196103939</td>\n      <td>299872889</td>\n      <td>5 E 98  NEUROLOGY</td>\n      <td>2000000112</td>\n      <td>Outpatient Visit</td>\n      <td>2022-09-01 00:00:00</td>\n      <td>2022-09-01 00:00:00</td>\n      <td>1547763</td>\n      <td>1947-05-20</td>\n      <td>...</td>\n      <td>Medicare MS</td>\n      <td>Public</td>\n      <td>Dementia in other diseases classified elsewher...</td>\n      <td>F02.80</td>\n      <td>F02.8</td>\n      <td>F02</td>\n      <td>Neurocognitive disorders</td>\n      <td>2022</td>\n      <td>1947</td>\n      <td>75</td>\n    </tr>\n    <tr>\n      <th>263</th>\n      <td>6675</td>\n      <td>196103939</td>\n      <td>299872889</td>\n      <td>5 E 98  NEUROLOGY</td>\n      <td>2000000112</td>\n      <td>Outpatient Visit</td>\n      <td>2022-09-01 00:00:00</td>\n      <td>2022-09-01 00:00:00</td>\n      <td>1547763</td>\n      <td>1947-05-20</td>\n      <td>...</td>\n      <td>Medicare MS</td>\n      <td>Public</td>\n      <td>Dementia in other diseases classified elsewher...</td>\n      <td>F02.80</td>\n      <td>F02.8</td>\n      <td>F02</td>\n      <td>Neurocognitive disorders</td>\n      <td>2022</td>\n      <td>1947</td>\n      <td>75</td>\n    </tr>\n    <tr>\n      <th>264</th>\n      <td>6675</td>\n      <td>196103939</td>\n      <td>299872889</td>\n      <td>5 E 98  NEUROLOGY</td>\n      <td>2000000112</td>\n      <td>Outpatient Visit</td>\n      <td>2022-09-01 00:00:00</td>\n      <td>2022-09-01 00:00:00</td>\n      <td>1547763</td>\n      <td>1947-05-20</td>\n      <td>...</td>\n      <td>Medicare MS</td>\n      <td>Public</td>\n      <td>Vascular dementia, unspecified severity, witho...</td>\n      <td>F01.50</td>\n      <td>F01.5</td>\n      <td>F01</td>\n      <td>Neurocognitive disorders</td>\n      <td>2022</td>\n      <td>1947</td>\n      <td>75</td>\n    </tr>\n    <tr>\n      <th>277</th>\n      <td>7952</td>\n      <td>162991436</td>\n      <td>265988415</td>\n      <td>200 W 57TH ST INTERNAL MEDICINE</td>\n      <td>2000000112</td>\n      <td>Outpatient Visit</td>\n      <td>2021-10-11 00:00:00</td>\n      <td>2021-10-11 00:00:00</td>\n      <td>3807773</td>\n      <td>1970-01-10</td>\n      <td>...</td>\n      <td>Commercial/Managed Care</td>\n      <td>Private</td>\n      <td>Anxiety disorder, unspecified</td>\n      <td>F41.9</td>\n      <td>F41.9</td>\n      <td>F41</td>\n      <td>Anxiety and fear-related disorders</td>\n      <td>2021</td>\n      <td>1970</td>\n      <td>51</td>\n    </tr>\n    <tr>\n      <th>278</th>\n      <td>7952</td>\n      <td>162991436</td>\n      <td>265988415</td>\n      <td>200 W 57TH ST INTERNAL MEDICINE</td>\n      <td>2000000112</td>\n      <td>Outpatient Visit</td>\n      <td>2021-10-11 00:00:00</td>\n      <td>2021-10-11 00:00:00</td>\n      <td>3807773</td>\n      <td>1970-01-10</td>\n      <td>...</td>\n      <td>Commercial/Managed Care</td>\n      <td>Private</td>\n      <td>Anxiety disorder, unspecified</td>\n      <td>F41.9</td>\n      <td>F41.9</td>\n      <td>F41</td>\n      <td>Anxiety and fear-related disorders</td>\n      <td>2021</td>\n      <td>1970</td>\n      <td>51</td>\n    </tr>\n    <tr>\n      <th>315</th>\n      <td>8937</td>\n      <td>13091095</td>\n      <td>4826757</td>\n      <td>X_FPA PEDS NEUROLOGY</td>\n      <td>2000000112</td>\n      <td>Outpatient Visit</td>\n      <td>2008-09-02</td>\n      <td>2008-09-02</td>\n      <td>2906141</td>\n      <td>2004-03-05</td>\n      <td>...</td>\n      <td>Self-Pay</td>\n      <td>Self-pay</td>\n      <td>Developmental disorder of speech and language,...</td>\n      <td>F80.9</td>\n      <td>F80.9</td>\n      <td>F80</td>\n      <td>Neurodevelopmental disorders</td>\n      <td>2008</td>\n      <td>2004</td>\n      <td>4</td>\n    </tr>\n    <tr>\n      <th>319</th>\n      <td>10814</td>\n      <td>161674795</td>\n      <td>260227067</td>\n      <td>1436 BROADWAY INTERNAL MEDICINE</td>\n      <td>2000000112</td>\n      <td>Outpatient Visit</td>\n      <td>2021-10-11</td>\n      <td>2021-10-11</td>\n      <td>3702174</td>\n      <td>1945-02-18</td>\n      <td>...</td>\n      <td>Medicare MS</td>\n      <td>Public</td>\n      <td>Generalized anxiety disorder</td>\n      <td>F41.1</td>\n      <td>F41.1</td>\n      <td>F41</td>\n      <td>Anxiety and fear-related disorders</td>\n      <td>2021</td>\n      <td>1945</td>\n      <td>76</td>\n    </tr>\n    <tr>\n      <th>334</th>\n      <td>13851</td>\n      <td>165880592</td>\n      <td>275611356</td>\n      <td>275 7TH AVE CTMS</td>\n      <td>2000000112</td>\n      <td>Outpatient Visit</td>\n      <td>2021-11-24 00:00:00</td>\n      <td>2021-11-24 00:00:00</td>\n      <td>2510691</td>\n      <td>2005-05-06</td>\n      <td>...</td>\n      <td>Commercial/Managed Care</td>\n      <td>Private</td>\n      <td>Transsexualism</td>\n      <td>F64.0</td>\n      <td>F64.0</td>\n      <td>F64</td>\n      <td>Miscellaneous mental and behavioral disorders/...</td>\n      <td>2021</td>\n      <td>2005</td>\n      <td>16</td>\n    </tr>\n    <tr>\n      <th>336</th>\n      <td>13851</td>\n      <td>166987819</td>\n      <td>283901675</td>\n      <td>275 7TH AVE CTMS</td>\n      <td>2000000112</td>\n      <td>Outpatient Visit</td>\n      <td>2022-01-07 00:00:00</td>\n      <td>2022-01-07 00:00:00</td>\n      <td>2510691</td>\n      <td>2005-05-06</td>\n      <td>...</td>\n      <td>Self-Pay</td>\n      <td>Self-pay</td>\n      <td>Generalized anxiety disorder</td>\n      <td>F41.1</td>\n      <td>F41.1</td>\n      <td>F41</td>\n      <td>Anxiety and fear-related disorders</td>\n      <td>2022</td>\n      <td>2005</td>\n      <td>17</td>\n    </tr>\n    <tr>\n      <th>337</th>\n      <td>13851</td>\n      <td>166987819</td>\n      <td>283901675</td>\n      <td>275 7TH AVE CTMS</td>\n      <td>2000000112</td>\n      <td>Outpatient Visit</td>\n      <td>2022-01-07 00:00:00</td>\n      <td>2022-01-07 00:00:00</td>\n      <td>2510691</td>\n      <td>2005-05-06</td>\n      <td>...</td>\n      <td>Self-Pay</td>\n      <td>Self-pay</td>\n      <td>Other obsessive-compulsive disorder</td>\n      <td>F42.8</td>\n      <td>F42.8</td>\n      <td>F42</td>\n      <td>Obsessive-compulsive and related disorders</td>\n      <td>2022</td>\n      <td>2005</td>\n      <td>17</td>\n    </tr>\n    <tr>\n      <th>341</th>\n      <td>14111</td>\n      <td>40067574</td>\n      <td>33126509</td>\n      <td>X_FPA PSYCHIATRY-NORRIS_DEACTIVATED</td>\n      <td>2000000112</td>\n      <td>Outpatient Visit</td>\n      <td>2015-01-28 00:00:00</td>\n      <td>2015-01-28 00:00:00</td>\n      <td>2760015</td>\n      <td>2000-05-04</td>\n      <td>...</td>\n      <td>Self-Pay</td>\n      <td>Self-pay</td>\n      <td>Nonpsychotic mental disorder, unspecified</td>\n      <td>F48.9</td>\n      <td>F48.9</td>\n      <td>F48</td>\n      <td>Miscellaneous mental and behavioral disorders/...</td>\n      <td>2015</td>\n      <td>2000</td>\n      <td>15</td>\n    </tr>\n    <tr>\n      <th>343</th>\n      <td>14111</td>\n      <td>40067580</td>\n      <td>33197798</td>\n      <td>X_FPA PSYCHIATRY-NORRIS_DEACTIVATED</td>\n      <td>2000000112</td>\n      <td>Outpatient Visit</td>\n      <td>2015-03-02 00:00:00</td>\n      <td>2015-03-02 00:00:00</td>\n      <td>2760015</td>\n      <td>2000-05-04</td>\n      <td>...</td>\n      <td>Self-Pay</td>\n      <td>Self-pay</td>\n      <td>Generalized anxiety disorder</td>\n      <td>F41.1</td>\n      <td>F41.1</td>\n      <td>F41</td>\n      <td>Anxiety and fear-related disorders</td>\n      <td>2015</td>\n      <td>2000</td>\n      <td>15</td>\n    </tr>\n    <tr>\n      <th>346</th>\n      <td>14174</td>\n      <td>9149946</td>\n      <td>6306413</td>\n      <td>WTC PSYCH 1160 5TH AVE</td>\n      <td>2000000112</td>\n      <td>Outpatient Visit</td>\n      <td>2010-06-09 00:00:00</td>\n      <td>2010-06-09 00:00:00</td>\n      <td>3123628</td>\n      <td>1962-07-30</td>\n      <td>...</td>\n      <td>Self-Pay</td>\n      <td>Self-pay</td>\n      <td>Adjustment disorder, unspecified</td>\n      <td>F43.20</td>\n      <td>F43.2</td>\n      <td>F43</td>\n      <td>Trauma- and stressor-related disorders</td>\n      <td>2010</td>\n      <td>1962</td>\n      <td>48</td>\n    </tr>\n    <tr>\n      <th>353</th>\n      <td>14320</td>\n      <td>123038443</td>\n      <td>87414511</td>\n      <td>X_1155 NORTHERN BLVD INTERNAL MEDICINE_DEACTIV...</td>\n      <td>2000000112</td>\n      <td>Outpatient Visit</td>\n      <td>2018-12-11 00:00:00</td>\n      <td>2018-12-11 00:00:00</td>\n      <td>3882883</td>\n      <td>1955-07-12</td>\n      <td>...</td>\n      <td>Commercial/Managed Care</td>\n      <td>Private</td>\n      <td>Nicotine dependence, unspecified, uncomplicated</td>\n      <td>F17.200</td>\n      <td>F17.2</td>\n      <td>F17</td>\n      <td>Tobacco-related disorders</td>\n      <td>2018</td>\n      <td>1955</td>\n      <td>63</td>\n    </tr>\n    <tr>\n      <th>358</th>\n      <td>14359</td>\n      <td>21377795</td>\n      <td>44466976</td>\n      <td>X_FPA PSYCH-TRAINEES</td>\n      <td>2000000112</td>\n      <td>Outpatient Visit</td>\n      <td>2016-01-11 00:00:00</td>\n      <td>2016-01-11 00:00:00</td>\n      <td>3752122</td>\n      <td>1987-02-03</td>\n      <td>...</td>\n      <td>Self-Pay</td>\n      <td>Self-pay</td>\n      <td>Adjustment disorder with anxiety</td>\n      <td>F43.22</td>\n      <td>F43.2</td>\n      <td>F43</td>\n      <td>Trauma- and stressor-related disorders</td>\n      <td>2016</td>\n      <td>1987</td>\n      <td>29</td>\n    </tr>\n    <tr>\n      <th>361</th>\n      <td>17215</td>\n      <td>185178538</td>\n      <td>291218327</td>\n      <td>MSB 2 WEST</td>\n      <td>2000000099</td>\n      <td>Inpatient Hospitalization from ED Visit</td>\n      <td>2022-02-26 05:28:00</td>\n      <td>2022-02-26 05:28:00</td>\n      <td>2047771</td>\n      <td>1965-01-02</td>\n      <td>...</td>\n      <td>Commercial/Managed Care</td>\n      <td>Private</td>\n      <td>Alcohol use, unspecified with other alcohol-in...</td>\n      <td>F10.988</td>\n      <td>F10.9</td>\n      <td>F10</td>\n      <td>Alcohol-related disorders</td>\n      <td>2022</td>\n      <td>1965</td>\n      <td>57</td>\n    </tr>\n    <tr>\n      <th>384</th>\n      <td>17700</td>\n      <td>172223657</td>\n      <td>285908266</td>\n      <td>10 E 102 PULMONARY</td>\n      <td>2000000112</td>\n      <td>Outpatient Visit</td>\n      <td>2022-06-01 00:00:00</td>\n      <td>2022-06-01 00:00:00</td>\n      <td>3185963</td>\n      <td>1991-03-20</td>\n      <td>...</td>\n      <td>Medicaid MS</td>\n      <td>Public</td>\n      <td>Autistic disorder</td>\n      <td>F84.0</td>\n      <td>F84.0</td>\n      <td>F84</td>\n      <td>Neurodevelopmental disorders</td>\n      <td>2022</td>\n      <td>1991</td>\n      <td>31</td>\n    </tr>\n    <tr>\n      <th>387</th>\n      <td>20317</td>\n      <td>8168761</td>\n      <td>2295625</td>\n      <td>X_FPA NEUROPHYSIO DIAGNOSTIC CENTER</td>\n      <td>2000000112</td>\n      <td>Outpatient Visit</td>\n      <td>2009-09-03</td>\n      <td>2009-09-03</td>\n      <td>3004706</td>\n      <td>1935-01-10</td>\n      <td>...</td>\n      <td>Self-Pay</td>\n      <td>Self-pay</td>\n      <td>Unspecified dementia, unspecified severity, wi...</td>\n      <td>F03.90</td>\n      <td>F03.9</td>\n      <td>F03</td>\n      <td>Neurocognitive disorders</td>\n      <td>2009</td>\n      <td>1935</td>\n      <td>74</td>\n    </tr>\n    <tr>\n      <th>392</th>\n      <td>21948</td>\n      <td>9132086</td>\n      <td>3439834</td>\n      <td>X_HOSP PSYCH IAC_DEACTIVATED</td>\n      <td>2000000112</td>\n      <td>Outpatient Visit</td>\n      <td>2010-03-02 00:00:00</td>\n      <td>2010-03-02 00:00:00</td>\n      <td>2942951</td>\n      <td>1995-02-14</td>\n      <td>...</td>\n      <td>Self-Pay</td>\n      <td>Self-pay</td>\n      <td>Unspecified mood [affective] disorder</td>\n      <td>F39</td>\n      <td>F39</td>\n      <td>F39</td>\n      <td>Other specified and unspecified mood disorders</td>\n      <td>2010</td>\n      <td>1995</td>\n      <td>15</td>\n    </tr>\n    <tr>\n      <th>401</th>\n      <td>22594</td>\n      <td>173629593</td>\n      <td>290560322</td>\n      <td>1436 BROADWAY PEDIATRICS</td>\n      <td>2000000112</td>\n      <td>Outpatient Visit</td>\n      <td>2022-02-17 00:00:00</td>\n      <td>2022-02-17 00:00:00</td>\n      <td>2832587</td>\n      <td>2007-12-30</td>\n      <td>...</td>\n      <td>Medicaid Managed Care</td>\n      <td>Public</td>\n      <td>Anxiety disorder, unspecified</td>\n      <td>F41.9</td>\n      <td>F41.9</td>\n      <td>F41</td>\n      <td>Anxiety and fear-related disorders</td>\n      <td>2022</td>\n      <td>2007</td>\n      <td>15</td>\n    </tr>\n    <tr>\n      <th>406</th>\n      <td>22594</td>\n      <td>173629593</td>\n      <td>290560322</td>\n      <td>1436 BROADWAY PEDIATRICS</td>\n      <td>2000000112</td>\n      <td>Outpatient Visit</td>\n      <td>2022-02-17 00:00:00</td>\n      <td>2022-02-17 00:00:00</td>\n      <td>2832587</td>\n      <td>2007-12-30</td>\n      <td>...</td>\n      <td>Medicaid Managed Care</td>\n      <td>Public</td>\n      <td>Other specified anxiety disorders</td>\n      <td>F41.8</td>\n      <td>F41.8</td>\n      <td>F41</td>\n      <td>Anxiety and fear-related disorders</td>\n      <td>2022</td>\n      <td>2007</td>\n      <td>15</td>\n    </tr>\n    <tr>\n      <th>411</th>\n      <td>23166</td>\n      <td>194592727</td>\n      <td>294780995</td>\n      <td>275 7TH AVE CTMS</td>\n      <td>2000000112</td>\n      <td>Outpatient Visit</td>\n      <td>2022-04-12 00:00:00</td>\n      <td>2022-04-12 00:00:00</td>\n      <td>3130925</td>\n      <td>2008-01-11</td>\n      <td>...</td>\n      <td>Commercial/Managed Care</td>\n      <td>Private</td>\n      <td>Transsexualism</td>\n      <td>F64.0</td>\n      <td>F64.0</td>\n      <td>F64</td>\n      <td>Miscellaneous mental and behavioral disorders/...</td>\n      <td>2022</td>\n      <td>2008</td>\n      <td>14</td>\n    </tr>\n    <tr>\n      <th>412</th>\n      <td>23166</td>\n      <td>194592727</td>\n      <td>294780995</td>\n      <td>275 7TH AVE CTMS</td>\n      <td>2000000112</td>\n      <td>Outpatient Visit</td>\n      <td>2022-04-12 00:00:00</td>\n      <td>2022-04-12 00:00:00</td>\n      <td>3130925</td>\n      <td>2008-01-11</td>\n      <td>...</td>\n      <td>Commercial/Managed Care</td>\n      <td>Private</td>\n      <td>Transsexualism</td>\n      <td>F64.0</td>\n      <td>F64.0</td>\n      <td>F64</td>\n      <td>Miscellaneous mental and behavioral disorders/...</td>\n      <td>2022</td>\n      <td>2008</td>\n      <td>14</td>\n    </tr>\n    <tr>\n      <th>424</th>\n      <td>23166</td>\n      <td>199501805</td>\n      <td>308201024</td>\n      <td>5 E 98 ST PEDS UROLOGY</td>\n      <td>2000000112</td>\n      <td>Outpatient Visit</td>\n      <td>2022-09-14 00:00:00</td>\n      <td>2022-09-14 00:00:00</td>\n      <td>3130925</td>\n      <td>2008-01-11</td>\n      <td>...</td>\n      <td>Commercial/Managed Care</td>\n      <td>Private</td>\n      <td>Gender identity disorder, unspecified</td>\n      <td>F64.9</td>\n      <td>F64.9</td>\n      <td>F64</td>\n      <td>Miscellaneous mental and behavioral disorders/...</td>\n      <td>2022</td>\n      <td>2008</td>\n      <td>14</td>\n    </tr>\n    <tr>\n      <th>425</th>\n      <td>23166</td>\n      <td>199501805</td>\n      <td>308201024</td>\n      <td>5 E 98 ST PEDS UROLOGY</td>\n      <td>2000000112</td>\n      <td>Outpatient Visit</td>\n      <td>2022-09-14 00:00:00</td>\n      <td>2022-09-14 00:00:00</td>\n      <td>3130925</td>\n      <td>2008-01-11</td>\n      <td>...</td>\n      <td>Commercial/Managed Care</td>\n      <td>Private</td>\n      <td>Gender identity disorder, unspecified</td>\n      <td>F64.9</td>\n      <td>F64.9</td>\n      <td>F64</td>\n      <td>Miscellaneous mental and behavioral disorders/...</td>\n      <td>2022</td>\n      <td>2008</td>\n      <td>14</td>\n    </tr>\n    <tr>\n      <th>428</th>\n      <td>23252</td>\n      <td>11913535</td>\n      <td>2012096</td>\n      <td>X_FPA GASTROENTEROLOGY_DEACTIVATED</td>\n      <td>2000000112</td>\n      <td>Outpatient Visit</td>\n      <td>2010-10-15 00:00:00</td>\n      <td>2010-10-15 00:00:00</td>\n      <td>3185216</td>\n      <td>1921-02-12</td>\n      <td>...</td>\n      <td>Self-Pay</td>\n      <td>Self-pay</td>\n      <td>Depression, unspecified</td>\n      <td>F32.A</td>\n      <td>F32.A</td>\n      <td>F32</td>\n      <td>Depressive disorders</td>\n      <td>2010</td>\n      <td>1921</td>\n      <td>89</td>\n    </tr>\n    <tr>\n      <th>431</th>\n      <td>23783</td>\n      <td>62422822</td>\n      <td>11887033</td>\n      <td>X_HOSP PSYCH CHILD_DEACTIVATED</td>\n      <td>2000000112</td>\n      <td>Outpatient Visit</td>\n      <td>2010-10-22 00:00:00</td>\n      <td>2010-10-22 00:00:00</td>\n      <td>3194450</td>\n      <td>1999-07-29</td>\n      <td>...</td>\n      <td>Self-Pay</td>\n      <td>Self-pay</td>\n      <td>Pervasive developmental disorder, unspecified</td>\n      <td>F84.9</td>\n      <td>F84.9</td>\n      <td>F84</td>\n      <td>Neurodevelopmental disorders</td>\n      <td>2010</td>\n      <td>1999</td>\n      <td>11</td>\n    </tr>\n    <tr>\n      <th>433</th>\n      <td>23946</td>\n      <td>10987197</td>\n      <td>5218901</td>\n      <td>X_IMA FIRM B</td>\n      <td>2000000112</td>\n      <td>Outpatient Visit</td>\n      <td>2010-04-26</td>\n      <td>2010-04-26</td>\n      <td>3086624</td>\n      <td>1986-07-02</td>\n      <td>...</td>\n      <td>Self-Pay</td>\n      <td>Self-pay</td>\n      <td>Depression, unspecified</td>\n      <td>F32.A</td>\n      <td>F32.A</td>\n      <td>F32</td>\n      <td>Depressive disorders</td>\n      <td>2010</td>\n      <td>1986</td>\n      <td>24</td>\n    </tr>\n  </tbody>\n</table>\n<p>50 rows × 40 columns</p>\n</div>"
     },
     "execution_count": 6,
     "metadata": {},
     "output_type": "execute_result"
    }
   ],
   "source": [
    "test = psych_encounters[(psych_encounters['psych_condition'] == 1)]\n",
    "test = test.sort_values(by = ['person_id', 'visit_start_datetime'], ascending=True)\n",
    "test = test.drop_duplicates(subset=['person_id','condition_concept_name'], keep='first')\n",
    "test.head(50)"
   ],
   "metadata": {
    "collapsed": false,
    "pycharm": {
     "name": "#%%\n"
    }
   }
  },
  {
   "cell_type": "code",
   "execution_count": 8,
   "outputs": [],
   "source": [
    "test.merged_race_ethnicity_v2.value_counts(dropna=False)\n",
    "pd.DataFrame.to_csv(test, \"/Users/valena17/psych_nlp/data/psych_diagnoses_per_patient.csv\",index = False)"
   ],
   "metadata": {
    "collapsed": false,
    "pycharm": {
     "name": "#%%\n"
    }
   }
  },
  {
   "cell_type": "code",
   "execution_count": 25,
   "outputs": [],
   "source": [
    "psych_encounters = psych_encounters.merged_race_ethnicity_v2.replace(['AMERICAN INDIAN OR ALASKAN', 'Hispanic/Latino', 'Hispanic', 'AFRICAN-AMERICAN', 'OTHER', 'PATIENT DECLINED', 'WHITE', 'ASIAN INDIAN', 'CHINESE',\n",
    "                   'KOREAN', 'CHINESE AMERICAN', 'VIETNAMESE', 'OTHER: NORTH AFRICAN', 'JAPANESE', 'NATIVE HAWAIIAN', 'OTHER PACIFIC ISLANDER', 'THAI',\n",
    "                   'PAPUA NEW GUINEAN', 'GUINEAN', 'FILIPINO', 'FILIPINO AMERICAN', 'BANGLADESHI', 'UGANDAN', 'PAKISTANI', 'WEST INDIAN', 'TRINIDADIAN', 'JAMAICAN', 'HAITIAN', 'TAIWANESE', 'NIGERIAN', 'ETHIOPIAN', 'DOMINICA ISLANDER', 'GRENADIAN', 'MADAGASCAR', 'POLYNESIAN', 'SRI LANKAN', 'INDONESIAN', 'MALIAN', 'GHANAIAN', 'BARBADIAN', 'TAHITIAN', 'ST VINCENTIAN', 'TOKELAUAN'],\n",
    "                  ['American Indian or Alaska Native', 'Hispanic or Latino', 'Hispanic or Latino', 'Black or African American', 'Other Race', 'Decline to Answer', 'White', 'Asian', 'Asian', 'Asian', 'Asian', 'Asian', 'Black or African American', 'Asian', 'Native Hawaiian or Other Pacific Islander', 'Native Hawaiian or Other Pacific Islander', 'Asian', 'Native Hawaiian or Other Pacific Islander', 'Native Hawaiian or Other Pacific Islander', 'Native Hawaiian or Other Pacific Islander','Native Hawaiian or Other Pacific Islander', 'Asian', 'Black or African American', 'Asian', 'Asian', 'Mixed racial group', 'Black or African American', 'Black or African American', 'Asian', 'Black or African American', 'Black or African American', 'Black or African American', 'Black or African American', 'Black or African American', 'Native Hawaiian or Other Pacific Islander', 'Asian', 'Asian', 'Black or African American', 'Black or African American', 'Black or African American', 'Native Hawaiian or Other Pacific Islander', 'Black or African American', 'Native Hawaiian or Other Pacific Islander'])\n",
    "\n",
    "# print(all_encounters.merged_race_ethnicity_v2.value_counts(dropna=False),\n",
    "#       all_encounters.merged_gender.value_counts(dropna=False))"
   ],
   "metadata": {
    "collapsed": false,
    "pycharm": {
     "name": "#%%\n"
    }
   }
  },
  {
   "cell_type": "code",
   "execution_count": 26,
   "outputs": [],
   "source": [
    "# pd.DataFrame.to_csv(test, \"/Users/valena17/psych_nlp/data/psych_diagnoses_per_patient.csv\",index = False)\n",
    "pd.DataFrame.to_csv(all_encounters, \"/Users/valena17/psych_nlp/data/clean_all_encounters_conditions_patients.csv\",index = False)\n",
    "pd.DataFrame.to_csv(psych_encounters, \"/Users/valena17/psych_nlp/data/clean_psych_encounters_conditions_patients.csv\",index = False)"
   ],
   "metadata": {
    "collapsed": false,
    "pycharm": {
     "name": "#%%\n"
    }
   }
  },
  {
   "cell_type": "code",
   "execution_count": 152,
   "outputs": [
    {
     "name": "stderr",
     "output_type": "stream",
     "text": [
      "/var/folders/xm/m4dy5bvs1fn7fb9wxjhsg4dc0000gn/T/ipykernel_71040/3448286411.py:7: DtypeWarning: Columns (14,16,27) have mixed types. Specify dtype option on import or set low_memory=False.\n",
      "  data1 = pd.read_csv('/Users/valena17/DataGripProjects/msdw2/output/testing_everything_3.csv', parse_dates=[6,7,8,9,11,26,28], names=header_list)\n",
      "/var/folders/xm/m4dy5bvs1fn7fb9wxjhsg4dc0000gn/T/ipykernel_71040/3448286411.py:8: DtypeWarning: Columns (14,16,27) have mixed types. Specify dtype option on import or set low_memory=False.\n",
      "  data2 = pd.read_csv('/Users/valena17/DataGripProjects/msdw2/output/testing_everything_3.2.csv', parse_dates=[6,7,8,9,11,26,28], names=header_list)\n"
     ]
    }
   ],
   "source": [
    "header_list=['person_id', 'visit_occurrence_id', 'etl_epic_encounter_key', 'xtn_department_name', 'xtn_visit_type_source_concept_id',\n",
    "             'xtn_visit_type_source_concept_code', 'visit_start_datetime', 'visit_end_datetime', 'xtn_inpatient_admission_datetime',\n",
    "             'xtn_discharge_datetime', 'xtn_patient_epic_mrn', 'xtn_birth_date', 'xtn_race_ethnicity_source_concept_code',\n",
    "             'xtn_race_ethnicity_source_concept_name', 'race_source_concept_code', 'race_source_concept_name',\n",
    "             'gender_source_concept_code', 'gender_source_concept_name', 'xtn_gender_identity_source_concept_code',\n",
    "             'xtn_gender_identity_source_concept_name', 'xtn_sexual_orientation_source_concept_code', 'xtn_sexual_orientation_source_concept_name', 'xtn_condition_status_source_concept_code', 'condition_concept_id', 'condition_concept_code', 'condition_concept_name', 'condition_start_datetime', 'xtn_five_digit_zip', 'location_record_update_datetime']\n",
    "data1 = pd.read_csv('/Users/valena17/DataGripProjects/msdw2/output/testing_everything_3.csv', parse_dates=[6,7,8,9,11,26,28], names=header_list)\n",
    "data2 = pd.read_csv('/Users/valena17/DataGripProjects/msdw2/output/testing_everything_3.2.csv', parse_dates=[6,7,8,9,11,26,28], names=header_list)\n",
    "data = pd.concat([data1, data2])\n",
    "print(data.nunique(axis=0))\n",
    "pd.DataFrame.to_csv(data, \"../data/psych_patient_encounter_conditions.csv\",index = False)\n",
    "data = data[data.person_id != 0]\n",
    "data = data[data.visit_occurrence_id != 0]\n",
    "data = data[data.etl_epic_encounter_key != 0]"
   ],
   "metadata": {
    "collapsed": false,
    "pycharm": {
     "name": "#%%\n"
    }
   }
  },
  {
   "cell_type": "code",
   "execution_count": 75,
   "outputs": [
    {
     "data": {
      "text/plain": "         person_id  visit_occurrence_id  etl_epic_encounter_key  \\\n0          2115779            131485284               195731968   \n1         14546672             65247911                81508619   \n2         12970775            165648724               275164678   \n3         14303053            162816877               265688449   \n4          1573247             29022672               194570630   \n...            ...                  ...                     ...   \n1333064   14473810             89302250                59216055   \n1333065    7163411             66680110                91154969   \n1333066   14210676            163114499               266102317   \n1333067    1869791             31590330               182426190   \n1333068   13472736            183666735               258963671   \n\n                              xtn_department_name  \\\n0                     300 CADMAN PLAZA PEDIATRICS   \n1                            5 E 98 ENDOCRINOLOGY   \n2                     234 E 85TH ST NYEE MSH OPTH   \n3                                2109 BROADWAY IM   \n4        X_1000 10TH AVE NEUROSURGERY_DEACTIVATED   \n...                                           ...   \n1333064                  1190 5TH CARDIOVASC INST   \n1333065                     17 E 102ND IMA FIRM B   \n1333066                                MSQ 4 EAST   \n1333067                                      N09C   \n1333068                1450 MADISON NEURO ENDOVAS   \n\n         xtn_visit_type_source_concept_id  \\\n0                              2000000112   \n1                              2000000112   \n2                              2000000112   \n3                              2000000112   \n4                              2000000101   \n...                                   ...   \n1333064                        2000000112   \n1333065                        2000000112   \n1333066                        2000000099   \n1333067                        2000000103   \n1333068                        2000000101   \n\n              xtn_visit_type_source_concept_code visit_start_datetime  \\\n0                               Outpatient Visit  2021-03-16 00:00:00   \n1                               Outpatient Visit  2018-08-06 00:00:00   \n2                               Outpatient Visit  2022-04-28 00:00:00   \n3                               Outpatient Visit  2021-08-12 00:00:00   \n4                               Telehealth Visit  2021-02-05 00:00:00   \n...                                          ...                  ...   \n1333064                         Outpatient Visit  2017-09-05 00:00:00   \n1333065                         Outpatient Visit  2019-02-28 00:00:00   \n1333066  Inpatient Hospitalization from ED Visit  2021-07-22 14:30:00   \n1333067                Inpatient Hospitalization  2020-06-11 10:04:00   \n1333068                         Telehealth Visit  2021-05-17 00:00:00   \n\n         visit_end_datetime xtn_inpatient_admission_datetime  \\\n0       2021-03-16 00:00:00                              NaT   \n1       2018-08-06 00:00:00                              NaT   \n2       2022-04-28 00:00:00                              NaT   \n3       2021-08-12 00:00:00                              NaT   \n4       2021-02-05 00:00:00                              NaT   \n...                     ...                              ...   \n1333064 2017-09-05 00:00:00                              NaT   \n1333065 2019-02-28 00:00:00                              NaT   \n1333066 2021-07-26 11:40:00              2021-07-22 21:26:00   \n1333067 2020-06-29 11:55:00              2020-06-11 10:04:00   \n1333068 2021-05-17 00:00:00                              NaT   \n\n        xtn_discharge_datetime  ... xtn_gender_identity_source_concept_name  \\\n0                          NaT  ...                            *Unspecified   \n1                          NaT  ...                                    Male   \n2                          NaT  ...                                  Female   \n3                          NaT  ...                                    Male   \n4                          NaT  ...                            *Unspecified   \n...                        ...  ...                                     ...   \n1333064                    NaT  ...                                  Female   \n1333065                    NaT  ...                            *Unspecified   \n1333066    2021-07-26 11:40:00  ...                            *Unspecified   \n1333067    2020-06-29 11:55:00  ...                                    Male   \n1333068                    NaT  ...                                    Male   \n\n        xtn_sexual_orientation_source_concept_code  \\\n0                                     *Unspecified   \n1                                                2   \n2                                                2   \n3                                                2   \n4                                     *Unspecified   \n...                                            ...   \n1333064                               *Unspecified   \n1333065                               *Unspecified   \n1333066                               *Unspecified   \n1333067                               *Unspecified   \n1333068                               *Unspecified   \n\n        xtn_sexual_orientation_source_concept_name  \\\n0                                     *Unspecified   \n1                    Straight (not lesbian or gay)   \n2                    Straight (not lesbian or gay)   \n3                    Straight (not lesbian or gay)   \n4                                     *Unspecified   \n...                                            ...   \n1333064                               *Unspecified   \n1333065                               *Unspecified   \n1333066                               *Unspecified   \n1333067                               *Unspecified   \n1333068                               *Unspecified   \n\n        xtn_condition_status_source_concept_code condition_concept_id  \\\n0                              Billing Diagnosis              4144111   \n1                                   Problem List              4159131   \n2                              Billing Diagnosis              4102183   \n3                              Billing Diagnosis              4245252   \n4                              Billing Diagnosis               381270   \n...                                          ...                  ...   \n1333064                      Encounter Diagnosis               312437   \n1333065                      Encounter Diagnosis               197672   \n1333066                        Billing Diagnosis               438878   \n1333067                        Billing Diagnosis              4155910   \n1333068                        Billing Diagnosis             37204002   \n\n        condition_concept_code  \\\n0                    266435005   \n1                    370992007   \n2                    193531003   \n3                    396152005   \n4                     49049000   \n...                        ...   \n1333064              267036007   \n1333065              165232002   \n1333066              166603001   \n1333067              271808008   \n1333068              787044009   \n\n                                    condition_concept_name  \\\n0        Gastroesophageal reflux disease without esopha...   \n1                                             Dyslipidemia   \n2                                      Borderline glaucoma   \n3                         Raised prostate specific antigen   \n4                                      Parkinson's disease   \n...                                                    ...   \n1333064                                            Dyspnea   \n1333065                               Urinary incontinence   \n1333066                      Liver function tests abnormal   \n1333067                                 Edema, generalized   \n1333068             Bilateral stenosis of carotid arteries   \n\n        condition_start_datetime xtn_five_digit_zip  \\\n0                     2021-03-16            11224.0   \n1                     2018-08-06            10033.0   \n2                     2022-04-28             7748.0   \n3                     2021-08-12            10023.0   \n4                     2021-02-05            11415.0   \n...                          ...                ...   \n1333064               2017-09-05            10026.0   \n1333065               2019-02-28            10039.0   \n1333066               2021-07-23            11105.0   \n1333067               2020-06-12            11217.0   \n1333068               2021-05-17            10029.0   \n\n        location_record_update_datetime  \n0               2021-11-25 01:38:19.293  \n1               2022-07-08 04:34:24.153  \n2               2021-11-30 01:42:41.123  \n3               2022-06-14 01:52:50.580  \n4               2021-11-17 01:37:36.797  \n...                                 ...  \n1333064         2022-09-24 02:05:37.360  \n1333065         2021-11-07 08:57:12.287  \n1333066         2021-11-07 09:06:27.550  \n1333067         2022-01-08 07:25:42.590  \n1333068         2021-12-04 07:22:55.040  \n\n[1333069 rows x 29 columns]",
      "text/html": "<div>\n<style scoped>\n    .dataframe tbody tr th:only-of-type {\n        vertical-align: middle;\n    }\n\n    .dataframe tbody tr th {\n        vertical-align: top;\n    }\n\n    .dataframe thead th {\n        text-align: right;\n    }\n</style>\n<table border=\"1\" class=\"dataframe\">\n  <thead>\n    <tr style=\"text-align: right;\">\n      <th></th>\n      <th>person_id</th>\n      <th>visit_occurrence_id</th>\n      <th>etl_epic_encounter_key</th>\n      <th>xtn_department_name</th>\n      <th>xtn_visit_type_source_concept_id</th>\n      <th>xtn_visit_type_source_concept_code</th>\n      <th>visit_start_datetime</th>\n      <th>visit_end_datetime</th>\n      <th>xtn_inpatient_admission_datetime</th>\n      <th>xtn_discharge_datetime</th>\n      <th>...</th>\n      <th>xtn_gender_identity_source_concept_name</th>\n      <th>xtn_sexual_orientation_source_concept_code</th>\n      <th>xtn_sexual_orientation_source_concept_name</th>\n      <th>xtn_condition_status_source_concept_code</th>\n      <th>condition_concept_id</th>\n      <th>condition_concept_code</th>\n      <th>condition_concept_name</th>\n      <th>condition_start_datetime</th>\n      <th>xtn_five_digit_zip</th>\n      <th>location_record_update_datetime</th>\n    </tr>\n  </thead>\n  <tbody>\n    <tr>\n      <th>0</th>\n      <td>2115779</td>\n      <td>131485284</td>\n      <td>195731968</td>\n      <td>300 CADMAN PLAZA PEDIATRICS</td>\n      <td>2000000112</td>\n      <td>Outpatient Visit</td>\n      <td>2021-03-16 00:00:00</td>\n      <td>2021-03-16 00:00:00</td>\n      <td>NaT</td>\n      <td>NaT</td>\n      <td>...</td>\n      <td>*Unspecified</td>\n      <td>*Unspecified</td>\n      <td>*Unspecified</td>\n      <td>Billing Diagnosis</td>\n      <td>4144111</td>\n      <td>266435005</td>\n      <td>Gastroesophageal reflux disease without esopha...</td>\n      <td>2021-03-16</td>\n      <td>11224.0</td>\n      <td>2021-11-25 01:38:19.293</td>\n    </tr>\n    <tr>\n      <th>1</th>\n      <td>14546672</td>\n      <td>65247911</td>\n      <td>81508619</td>\n      <td>5 E 98 ENDOCRINOLOGY</td>\n      <td>2000000112</td>\n      <td>Outpatient Visit</td>\n      <td>2018-08-06 00:00:00</td>\n      <td>2018-08-06 00:00:00</td>\n      <td>NaT</td>\n      <td>NaT</td>\n      <td>...</td>\n      <td>Male</td>\n      <td>2</td>\n      <td>Straight (not lesbian or gay)</td>\n      <td>Problem List</td>\n      <td>4159131</td>\n      <td>370992007</td>\n      <td>Dyslipidemia</td>\n      <td>2018-08-06</td>\n      <td>10033.0</td>\n      <td>2022-07-08 04:34:24.153</td>\n    </tr>\n    <tr>\n      <th>2</th>\n      <td>12970775</td>\n      <td>165648724</td>\n      <td>275164678</td>\n      <td>234 E 85TH ST NYEE MSH OPTH</td>\n      <td>2000000112</td>\n      <td>Outpatient Visit</td>\n      <td>2022-04-28 00:00:00</td>\n      <td>2022-04-28 00:00:00</td>\n      <td>NaT</td>\n      <td>NaT</td>\n      <td>...</td>\n      <td>Female</td>\n      <td>2</td>\n      <td>Straight (not lesbian or gay)</td>\n      <td>Billing Diagnosis</td>\n      <td>4102183</td>\n      <td>193531003</td>\n      <td>Borderline glaucoma</td>\n      <td>2022-04-28</td>\n      <td>7748.0</td>\n      <td>2021-11-30 01:42:41.123</td>\n    </tr>\n    <tr>\n      <th>3</th>\n      <td>14303053</td>\n      <td>162816877</td>\n      <td>265688449</td>\n      <td>2109 BROADWAY IM</td>\n      <td>2000000112</td>\n      <td>Outpatient Visit</td>\n      <td>2021-08-12 00:00:00</td>\n      <td>2021-08-12 00:00:00</td>\n      <td>NaT</td>\n      <td>NaT</td>\n      <td>...</td>\n      <td>Male</td>\n      <td>2</td>\n      <td>Straight (not lesbian or gay)</td>\n      <td>Billing Diagnosis</td>\n      <td>4245252</td>\n      <td>396152005</td>\n      <td>Raised prostate specific antigen</td>\n      <td>2021-08-12</td>\n      <td>10023.0</td>\n      <td>2022-06-14 01:52:50.580</td>\n    </tr>\n    <tr>\n      <th>4</th>\n      <td>1573247</td>\n      <td>29022672</td>\n      <td>194570630</td>\n      <td>X_1000 10TH AVE NEUROSURGERY_DEACTIVATED</td>\n      <td>2000000101</td>\n      <td>Telehealth Visit</td>\n      <td>2021-02-05 00:00:00</td>\n      <td>2021-02-05 00:00:00</td>\n      <td>NaT</td>\n      <td>NaT</td>\n      <td>...</td>\n      <td>*Unspecified</td>\n      <td>*Unspecified</td>\n      <td>*Unspecified</td>\n      <td>Billing Diagnosis</td>\n      <td>381270</td>\n      <td>49049000</td>\n      <td>Parkinson's disease</td>\n      <td>2021-02-05</td>\n      <td>11415.0</td>\n      <td>2021-11-17 01:37:36.797</td>\n    </tr>\n    <tr>\n      <th>...</th>\n      <td>...</td>\n      <td>...</td>\n      <td>...</td>\n      <td>...</td>\n      <td>...</td>\n      <td>...</td>\n      <td>...</td>\n      <td>...</td>\n      <td>...</td>\n      <td>...</td>\n      <td>...</td>\n      <td>...</td>\n      <td>...</td>\n      <td>...</td>\n      <td>...</td>\n      <td>...</td>\n      <td>...</td>\n      <td>...</td>\n      <td>...</td>\n      <td>...</td>\n      <td>...</td>\n    </tr>\n    <tr>\n      <th>1333064</th>\n      <td>14473810</td>\n      <td>89302250</td>\n      <td>59216055</td>\n      <td>1190 5TH CARDIOVASC INST</td>\n      <td>2000000112</td>\n      <td>Outpatient Visit</td>\n      <td>2017-09-05 00:00:00</td>\n      <td>2017-09-05 00:00:00</td>\n      <td>NaT</td>\n      <td>NaT</td>\n      <td>...</td>\n      <td>Female</td>\n      <td>*Unspecified</td>\n      <td>*Unspecified</td>\n      <td>Encounter Diagnosis</td>\n      <td>312437</td>\n      <td>267036007</td>\n      <td>Dyspnea</td>\n      <td>2017-09-05</td>\n      <td>10026.0</td>\n      <td>2022-09-24 02:05:37.360</td>\n    </tr>\n    <tr>\n      <th>1333065</th>\n      <td>7163411</td>\n      <td>66680110</td>\n      <td>91154969</td>\n      <td>17 E 102ND IMA FIRM B</td>\n      <td>2000000112</td>\n      <td>Outpatient Visit</td>\n      <td>2019-02-28 00:00:00</td>\n      <td>2019-02-28 00:00:00</td>\n      <td>NaT</td>\n      <td>NaT</td>\n      <td>...</td>\n      <td>*Unspecified</td>\n      <td>*Unspecified</td>\n      <td>*Unspecified</td>\n      <td>Encounter Diagnosis</td>\n      <td>197672</td>\n      <td>165232002</td>\n      <td>Urinary incontinence</td>\n      <td>2019-02-28</td>\n      <td>10039.0</td>\n      <td>2021-11-07 08:57:12.287</td>\n    </tr>\n    <tr>\n      <th>1333066</th>\n      <td>14210676</td>\n      <td>163114499</td>\n      <td>266102317</td>\n      <td>MSQ 4 EAST</td>\n      <td>2000000099</td>\n      <td>Inpatient Hospitalization from ED Visit</td>\n      <td>2021-07-22 14:30:00</td>\n      <td>2021-07-26 11:40:00</td>\n      <td>2021-07-22 21:26:00</td>\n      <td>2021-07-26 11:40:00</td>\n      <td>...</td>\n      <td>*Unspecified</td>\n      <td>*Unspecified</td>\n      <td>*Unspecified</td>\n      <td>Billing Diagnosis</td>\n      <td>438878</td>\n      <td>166603001</td>\n      <td>Liver function tests abnormal</td>\n      <td>2021-07-23</td>\n      <td>11105.0</td>\n      <td>2021-11-07 09:06:27.550</td>\n    </tr>\n    <tr>\n      <th>1333067</th>\n      <td>1869791</td>\n      <td>31590330</td>\n      <td>182426190</td>\n      <td>N09C</td>\n      <td>2000000103</td>\n      <td>Inpatient Hospitalization</td>\n      <td>2020-06-11 10:04:00</td>\n      <td>2020-06-29 11:55:00</td>\n      <td>2020-06-11 10:04:00</td>\n      <td>2020-06-29 11:55:00</td>\n      <td>...</td>\n      <td>Male</td>\n      <td>*Unspecified</td>\n      <td>*Unspecified</td>\n      <td>Billing Diagnosis</td>\n      <td>4155910</td>\n      <td>271808008</td>\n      <td>Edema, generalized</td>\n      <td>2020-06-12</td>\n      <td>11217.0</td>\n      <td>2022-01-08 07:25:42.590</td>\n    </tr>\n    <tr>\n      <th>1333068</th>\n      <td>13472736</td>\n      <td>183666735</td>\n      <td>258963671</td>\n      <td>1450 MADISON NEURO ENDOVAS</td>\n      <td>2000000101</td>\n      <td>Telehealth Visit</td>\n      <td>2021-05-17 00:00:00</td>\n      <td>2021-05-17 00:00:00</td>\n      <td>NaT</td>\n      <td>NaT</td>\n      <td>...</td>\n      <td>Male</td>\n      <td>*Unspecified</td>\n      <td>*Unspecified</td>\n      <td>Billing Diagnosis</td>\n      <td>37204002</td>\n      <td>787044009</td>\n      <td>Bilateral stenosis of carotid arteries</td>\n      <td>2021-05-17</td>\n      <td>10029.0</td>\n      <td>2021-12-04 07:22:55.040</td>\n    </tr>\n  </tbody>\n</table>\n<p>1333069 rows × 29 columns</p>\n</div>"
     },
     "execution_count": 75,
     "metadata": {},
     "output_type": "execute_result"
    }
   ],
   "source": [
    "# header_list=['person_id', 'visit_occurrence_id', 'etl_epic_encounter_key', 'xtn_department_name', 'xtn_visit_type_source_concept_id',\n",
    "#              'xtn_visit_type_source_concept_code', 'visit_start_datetime', 'visit_end_datetime', 'xtn_inpatient_admission_datetime',\n",
    "#              'xtn_discharge_datetime', 'xtn_patient_epic_mrn', 'xtn_birth_date', 'xtn_race_ethnicity_source_concept_code',\n",
    "#              'xtn_race_ethnicity_source_concept_name', 'race_source_concept_code', 'race_source_concept_name',\n",
    "#              'gender_source_concept_code', 'gender_source_concept_name', 'xtn_gender_identity_source_concept_code',\n",
    "#              'xtn_gender_identity_source_concept_name', 'xtn_sexual_orientation_source_concept_code', 'xtn_sexual_orientation_source_concept_name', 'xtn_condition_status_source_concept_code', 'condition_concept_id', 'condition_concept_code', 'condition_concept_name', 'condition_start_datetime', 'xtn_five_digit_zip', 'location_record_update_datetime']\n",
    "# df = pd.read_csv('/Users/valena17/DataGripProjects/msdw2/output/testing_everything.csv', parse_dates=[6,7,8,9,11,26,28], names=header_list)"
   ],
   "metadata": {
    "collapsed": false,
    "pycharm": {
     "name": "#%%\n"
    }
   }
  },
  {
   "cell_type": "code",
   "execution_count": 163,
   "outputs": [
    {
     "data": {
      "text/plain": "          person_id  visit_occurrence_id  etl_epic_encounter_key  \\\n4           4794633            169997280                10280319   \n6           4006329             70652611                62519800   \n11          2835428             36506151               186704819   \n13          1952023            165988141               275833015   \n28         13045813             42226805                48599413   \n...             ...                  ...                     ...   \n51631917   15004618            195545050               297568577   \n51631918    2726307             37237189                14502255   \n51631919    7815747            164280709               270776184   \n51631920    4448349            113764586                54334321   \n51631921    1708648            190122007                96037921   \n\n                         xtn_department_name  \\\n4                                       MICU   \n6                     234 E 85TH ST PEDS GEN   \n11                     17 E 102ND IMA FIRM D   \n13           1436 BROADWAY INTERNAL MEDICINE   \n28            X_FPA PAIN MGMT/ANESTHESIOLOGY   \n...                                      ...   \n51631917  638 COLUMBUS AVE INTERNAL MEDICINE   \n51631918            NS INTERNAL MEDICINE-325   \n51631919          10 UNION SQ E COVID 19 COE   \n51631920                X_MS BI INT MED 14TH   \n51631921             1440 MADISON GERIATRICS   \n\n          xtn_visit_type_source_concept_id  \\\n4                               2000000099   \n6                               2000000112   \n11                              2000000112   \n13                              2000000112   \n28                              2000000112   \n...                                    ...   \n51631917                        2000000112   \n51631918                        2000000112   \n51631919                        2000000112   \n51631920                        2000000112   \n51631921                        2000000112   \n\n               xtn_visit_type_source_concept_code visit_start_datetime  \\\n4         Inpatient Hospitalization from ED Visit  2011-09-03 20:18:00   \n6                                Outpatient Visit  2017-11-08 00:00:00   \n11                               Outpatient Visit  2020-09-28 00:00:00   \n13                               Outpatient Visit  2021-12-14 00:00:00   \n28                               Outpatient Visit  2016-06-23 00:00:00   \n...                                           ...                  ...   \n51631917                         Outpatient Visit  2022-08-29 00:00:00   \n51631918                         Outpatient Visit  2014-09-12 00:00:00   \n51631919                         Outpatient Visit  2021-09-15 00:00:00   \n51631920                         Outpatient Visit  2017-02-03 00:00:00   \n51631921                         Outpatient Visit  2019-09-23 00:00:00   \n\n          visit_end_datetime xtn_inpatient_admission_datetime  \\\n4        2011-09-12 22:40:00              2011-09-03 22:05:00   \n6        2017-11-08 00:00:00                              NaT   \n11       2020-09-28 00:00:00                              NaT   \n13       2021-12-14 00:00:00                              NaT   \n28       2016-06-23 00:00:00                              NaT   \n...                      ...                              ...   \n51631917 2022-08-29 00:00:00                              NaT   \n51631918 2014-09-12 00:00:00                              NaT   \n51631919 2021-09-15 00:00:00                              NaT   \n51631920 2017-02-03 00:00:00                              NaT   \n51631921 2019-09-23 00:00:00                              NaT   \n\n         xtn_discharge_datetime  ... xtn_gender_identity_source_concept_name  \\\n4           2011-09-12 22:40:00  ...                            *Unspecified   \n6                           NaT  ...                            *Unspecified   \n11                          NaT  ...                                    Male   \n13                          NaT  ...                            *Unspecified   \n28                          NaT  ...                                  Female   \n...                         ...  ...                                     ...   \n51631917                    NaT  ...                                  Female   \n51631918                    NaT  ...                                    Male   \n51631919                    NaT  ...                            *Unspecified   \n51631920                    NaT  ...                            *Unspecified   \n51631921                    NaT  ...                                  Female   \n\n         xtn_sexual_orientation_source_concept_code  \\\n4                                      *Unspecified   \n6                                      *Unspecified   \n11                                                2   \n13                                     *Unspecified   \n28                                     *Unspecified   \n...                                             ...   \n51631917                                          2   \n51631918                                          2   \n51631919                               *Unspecified   \n51631920                               *Unspecified   \n51631921                                          2   \n\n         xtn_sexual_orientation_source_concept_name  \\\n4                                      *Unspecified   \n6                                      *Unspecified   \n11                    Straight (not lesbian or gay)   \n13                                     *Unspecified   \n28                                     *Unspecified   \n...                                             ...   \n51631917              Straight (not lesbian or gay)   \n51631918              Straight (not lesbian or gay)   \n51631919                               *Unspecified   \n51631920                               *Unspecified   \n51631921              Straight (not lesbian or gay)   \n\n         xtn_condition_status_source_concept_code condition_concept_id  \\\n4                                Hospital Problem              4112853   \n6                               Billing Diagnosis               314754   \n11                            Encounter Diagnosis               432875   \n13                            Encounter Diagnosis               436070   \n28                                   Problem List                72418   \n...                                           ...                  ...   \n51631917                        Billing Diagnosis               436070   \n51631918                      Encounter Diagnosis              4029305   \n51631919                      Encounter Diagnosis               432883   \n51631920                      Encounter Diagnosis               255573   \n51631921                      Encounter Diagnosis               374888   \n\n         condition_concept_code  \\\n4                     254837009   \n6                      56018004   \n11                    413533008   \n13                     34713006   \n28                    298382003   \n...                         ...   \n51631917               34713006   \n51631918               13644009   \n51631919              191611001   \n51631920               13645005   \n51631921              191519005   \n\n                                 condition_concept_name  \\\n4                             Malignant tumor of breast   \n6                                              Wheezing   \n11                     Anemia due to chronic blood loss   \n13                                 Vitamin D deficiency   \n28                         Scoliosis deformity of spine   \n...                                                 ...   \n51631917                           Vitamin D deficiency   \n51631918                           Hypercholesterolemia   \n51631919  Recurrent major depressive episodes, moderate   \n51631920               Chronic obstructive lung disease   \n51631921       Dementia associated with another disease   \n\n         condition_start_datetime xtn_five_digit_zip  \\\n4                      2011-09-03            11373.0   \n6                      2017-11-08            10027.0   \n11                     2020-09-28            10039.0   \n13                     2021-12-14            11096.0   \n28                     2016-06-23            10572.0   \n...                           ...                ...   \n51631917               2022-08-29              10026   \n51631918               2014-09-12              11725   \n51631919               2021-09-15              10451   \n51631920               2017-02-03              10011   \n51631921               2019-09-23              10469   \n\n         location_record_update_datetime  \n4                2021-11-17 01:36:00.597  \n6                2022-10-07 02:06:31.147  \n11               2022-07-01 01:56:14.927  \n13               2022-03-08 01:45:30.133  \n28               2022-10-02 02:13:05.497  \n...                                  ...  \n51631917         2022-05-03 01:47:01.870  \n51631918         2022-03-03 06:01:45.033  \n51631919         2021-11-17 01:36:00.597  \n51631920         2021-11-17 01:36:00.597  \n51631921         2021-11-17 01:36:00.597  \n\n[37376628 rows x 29 columns]",
      "text/html": "<div>\n<style scoped>\n    .dataframe tbody tr th:only-of-type {\n        vertical-align: middle;\n    }\n\n    .dataframe tbody tr th {\n        vertical-align: top;\n    }\n\n    .dataframe thead th {\n        text-align: right;\n    }\n</style>\n<table border=\"1\" class=\"dataframe\">\n  <thead>\n    <tr style=\"text-align: right;\">\n      <th></th>\n      <th>person_id</th>\n      <th>visit_occurrence_id</th>\n      <th>etl_epic_encounter_key</th>\n      <th>xtn_department_name</th>\n      <th>xtn_visit_type_source_concept_id</th>\n      <th>xtn_visit_type_source_concept_code</th>\n      <th>visit_start_datetime</th>\n      <th>visit_end_datetime</th>\n      <th>xtn_inpatient_admission_datetime</th>\n      <th>xtn_discharge_datetime</th>\n      <th>...</th>\n      <th>xtn_gender_identity_source_concept_name</th>\n      <th>xtn_sexual_orientation_source_concept_code</th>\n      <th>xtn_sexual_orientation_source_concept_name</th>\n      <th>xtn_condition_status_source_concept_code</th>\n      <th>condition_concept_id</th>\n      <th>condition_concept_code</th>\n      <th>condition_concept_name</th>\n      <th>condition_start_datetime</th>\n      <th>xtn_five_digit_zip</th>\n      <th>location_record_update_datetime</th>\n    </tr>\n  </thead>\n  <tbody>\n    <tr>\n      <th>4</th>\n      <td>4794633</td>\n      <td>169997280</td>\n      <td>10280319</td>\n      <td>MICU</td>\n      <td>2000000099</td>\n      <td>Inpatient Hospitalization from ED Visit</td>\n      <td>2011-09-03 20:18:00</td>\n      <td>2011-09-12 22:40:00</td>\n      <td>2011-09-03 22:05:00</td>\n      <td>2011-09-12 22:40:00</td>\n      <td>...</td>\n      <td>*Unspecified</td>\n      <td>*Unspecified</td>\n      <td>*Unspecified</td>\n      <td>Hospital Problem</td>\n      <td>4112853</td>\n      <td>254837009</td>\n      <td>Malignant tumor of breast</td>\n      <td>2011-09-03</td>\n      <td>11373.0</td>\n      <td>2021-11-17 01:36:00.597</td>\n    </tr>\n    <tr>\n      <th>6</th>\n      <td>4006329</td>\n      <td>70652611</td>\n      <td>62519800</td>\n      <td>234 E 85TH ST PEDS GEN</td>\n      <td>2000000112</td>\n      <td>Outpatient Visit</td>\n      <td>2017-11-08 00:00:00</td>\n      <td>2017-11-08 00:00:00</td>\n      <td>NaT</td>\n      <td>NaT</td>\n      <td>...</td>\n      <td>*Unspecified</td>\n      <td>*Unspecified</td>\n      <td>*Unspecified</td>\n      <td>Billing Diagnosis</td>\n      <td>314754</td>\n      <td>56018004</td>\n      <td>Wheezing</td>\n      <td>2017-11-08</td>\n      <td>10027.0</td>\n      <td>2022-10-07 02:06:31.147</td>\n    </tr>\n    <tr>\n      <th>11</th>\n      <td>2835428</td>\n      <td>36506151</td>\n      <td>186704819</td>\n      <td>17 E 102ND IMA FIRM D</td>\n      <td>2000000112</td>\n      <td>Outpatient Visit</td>\n      <td>2020-09-28 00:00:00</td>\n      <td>2020-09-28 00:00:00</td>\n      <td>NaT</td>\n      <td>NaT</td>\n      <td>...</td>\n      <td>Male</td>\n      <td>2</td>\n      <td>Straight (not lesbian or gay)</td>\n      <td>Encounter Diagnosis</td>\n      <td>432875</td>\n      <td>413533008</td>\n      <td>Anemia due to chronic blood loss</td>\n      <td>2020-09-28</td>\n      <td>10039.0</td>\n      <td>2022-07-01 01:56:14.927</td>\n    </tr>\n    <tr>\n      <th>13</th>\n      <td>1952023</td>\n      <td>165988141</td>\n      <td>275833015</td>\n      <td>1436 BROADWAY INTERNAL MEDICINE</td>\n      <td>2000000112</td>\n      <td>Outpatient Visit</td>\n      <td>2021-12-14 00:00:00</td>\n      <td>2021-12-14 00:00:00</td>\n      <td>NaT</td>\n      <td>NaT</td>\n      <td>...</td>\n      <td>*Unspecified</td>\n      <td>*Unspecified</td>\n      <td>*Unspecified</td>\n      <td>Encounter Diagnosis</td>\n      <td>436070</td>\n      <td>34713006</td>\n      <td>Vitamin D deficiency</td>\n      <td>2021-12-14</td>\n      <td>11096.0</td>\n      <td>2022-03-08 01:45:30.133</td>\n    </tr>\n    <tr>\n      <th>28</th>\n      <td>13045813</td>\n      <td>42226805</td>\n      <td>48599413</td>\n      <td>X_FPA PAIN MGMT/ANESTHESIOLOGY</td>\n      <td>2000000112</td>\n      <td>Outpatient Visit</td>\n      <td>2016-06-23 00:00:00</td>\n      <td>2016-06-23 00:00:00</td>\n      <td>NaT</td>\n      <td>NaT</td>\n      <td>...</td>\n      <td>Female</td>\n      <td>*Unspecified</td>\n      <td>*Unspecified</td>\n      <td>Problem List</td>\n      <td>72418</td>\n      <td>298382003</td>\n      <td>Scoliosis deformity of spine</td>\n      <td>2016-06-23</td>\n      <td>10572.0</td>\n      <td>2022-10-02 02:13:05.497</td>\n    </tr>\n    <tr>\n      <th>...</th>\n      <td>...</td>\n      <td>...</td>\n      <td>...</td>\n      <td>...</td>\n      <td>...</td>\n      <td>...</td>\n      <td>...</td>\n      <td>...</td>\n      <td>...</td>\n      <td>...</td>\n      <td>...</td>\n      <td>...</td>\n      <td>...</td>\n      <td>...</td>\n      <td>...</td>\n      <td>...</td>\n      <td>...</td>\n      <td>...</td>\n      <td>...</td>\n      <td>...</td>\n      <td>...</td>\n    </tr>\n    <tr>\n      <th>51631917</th>\n      <td>15004618</td>\n      <td>195545050</td>\n      <td>297568577</td>\n      <td>638 COLUMBUS AVE INTERNAL MEDICINE</td>\n      <td>2000000112</td>\n      <td>Outpatient Visit</td>\n      <td>2022-08-29 00:00:00</td>\n      <td>2022-08-29 00:00:00</td>\n      <td>NaT</td>\n      <td>NaT</td>\n      <td>...</td>\n      <td>Female</td>\n      <td>2</td>\n      <td>Straight (not lesbian or gay)</td>\n      <td>Billing Diagnosis</td>\n      <td>436070</td>\n      <td>34713006</td>\n      <td>Vitamin D deficiency</td>\n      <td>2022-08-29</td>\n      <td>10026</td>\n      <td>2022-05-03 01:47:01.870</td>\n    </tr>\n    <tr>\n      <th>51631918</th>\n      <td>2726307</td>\n      <td>37237189</td>\n      <td>14502255</td>\n      <td>NS INTERNAL MEDICINE-325</td>\n      <td>2000000112</td>\n      <td>Outpatient Visit</td>\n      <td>2014-09-12 00:00:00</td>\n      <td>2014-09-12 00:00:00</td>\n      <td>NaT</td>\n      <td>NaT</td>\n      <td>...</td>\n      <td>Male</td>\n      <td>2</td>\n      <td>Straight (not lesbian or gay)</td>\n      <td>Encounter Diagnosis</td>\n      <td>4029305</td>\n      <td>13644009</td>\n      <td>Hypercholesterolemia</td>\n      <td>2014-09-12</td>\n      <td>11725</td>\n      <td>2022-03-03 06:01:45.033</td>\n    </tr>\n    <tr>\n      <th>51631919</th>\n      <td>7815747</td>\n      <td>164280709</td>\n      <td>270776184</td>\n      <td>10 UNION SQ E COVID 19 COE</td>\n      <td>2000000112</td>\n      <td>Outpatient Visit</td>\n      <td>2021-09-15 00:00:00</td>\n      <td>2021-09-15 00:00:00</td>\n      <td>NaT</td>\n      <td>NaT</td>\n      <td>...</td>\n      <td>*Unspecified</td>\n      <td>*Unspecified</td>\n      <td>*Unspecified</td>\n      <td>Encounter Diagnosis</td>\n      <td>432883</td>\n      <td>191611001</td>\n      <td>Recurrent major depressive episodes, moderate</td>\n      <td>2021-09-15</td>\n      <td>10451</td>\n      <td>2021-11-17 01:36:00.597</td>\n    </tr>\n    <tr>\n      <th>51631920</th>\n      <td>4448349</td>\n      <td>113764586</td>\n      <td>54334321</td>\n      <td>X_MS BI INT MED 14TH</td>\n      <td>2000000112</td>\n      <td>Outpatient Visit</td>\n      <td>2017-02-03 00:00:00</td>\n      <td>2017-02-03 00:00:00</td>\n      <td>NaT</td>\n      <td>NaT</td>\n      <td>...</td>\n      <td>*Unspecified</td>\n      <td>*Unspecified</td>\n      <td>*Unspecified</td>\n      <td>Encounter Diagnosis</td>\n      <td>255573</td>\n      <td>13645005</td>\n      <td>Chronic obstructive lung disease</td>\n      <td>2017-02-03</td>\n      <td>10011</td>\n      <td>2021-11-17 01:36:00.597</td>\n    </tr>\n    <tr>\n      <th>51631921</th>\n      <td>1708648</td>\n      <td>190122007</td>\n      <td>96037921</td>\n      <td>1440 MADISON GERIATRICS</td>\n      <td>2000000112</td>\n      <td>Outpatient Visit</td>\n      <td>2019-09-23 00:00:00</td>\n      <td>2019-09-23 00:00:00</td>\n      <td>NaT</td>\n      <td>NaT</td>\n      <td>...</td>\n      <td>Female</td>\n      <td>2</td>\n      <td>Straight (not lesbian or gay)</td>\n      <td>Encounter Diagnosis</td>\n      <td>374888</td>\n      <td>191519005</td>\n      <td>Dementia associated with another disease</td>\n      <td>2019-09-23</td>\n      <td>10469</td>\n      <td>2021-11-17 01:36:00.597</td>\n    </tr>\n  </tbody>\n</table>\n<p>37376628 rows × 29 columns</p>\n</div>"
     },
     "execution_count": 163,
     "metadata": {},
     "output_type": "execute_result"
    }
   ],
   "source": [
    "# removing rows with same zip but different location update time\n",
    "dup_zip=['person_id', 'visit_occurrence_id', 'etl_epic_encounter_key', 'xtn_department_name', 'xtn_visit_type_source_concept_id',\n",
    "             'xtn_visit_type_source_concept_code', 'visit_start_datetime', 'visit_end_datetime', 'xtn_inpatient_admission_datetime',\n",
    "             'xtn_discharge_datetime', 'xtn_patient_epic_mrn', 'xtn_birth_date', 'xtn_race_ethnicity_source_concept_code',\n",
    "             'xtn_race_ethnicity_source_concept_name', 'race_source_concept_code', 'race_source_concept_name',\n",
    "             'gender_source_concept_code', 'gender_source_concept_name', 'xtn_gender_identity_source_concept_code',\n",
    "             'xtn_gender_identity_source_concept_name', 'xtn_sexual_orientation_source_concept_code', 'xtn_sexual_orientation_source_concept_name', 'xtn_condition_status_source_concept_code', 'condition_concept_id', 'condition_concept_code', 'condition_concept_name', 'condition_start_datetime', 'xtn_five_digit_zip']\n",
    "df1 = data.drop_duplicates(subset=dup_zip, keep='last')"
   ],
   "metadata": {
    "collapsed": false,
    "pycharm": {
     "name": "#%%\n"
    }
   }
  },
  {
   "cell_type": "code",
   "execution_count": 164,
   "outputs": [
    {
     "name": "stderr",
     "output_type": "stream",
     "text": [
      "/var/folders/xm/m4dy5bvs1fn7fb9wxjhsg4dc0000gn/T/ipykernel_71040/3608161958.py:8: SettingWithCopyWarning: \n",
      "A value is trying to be set on a copy of a slice from a DataFrame.\n",
      "Try using .loc[row_indexer,col_indexer] = value instead\n",
      "\n",
      "See the caveats in the documentation: https://pandas.pydata.org/pandas-docs/stable/user_guide/indexing.html#returning-a-view-versus-a-copy\n",
      "  df1['billing_condition'] = df1.apply(lambda row: billing(row), axis=1)\n"
     ]
    }
   ],
   "source": [
    "# creating new column with billing vs non billing codes\n",
    "# print(df1['xtn_condition_status_source_concept_code'].value_counts())\n",
    "def billing(row):\n",
    "    if row['xtn_condition_status_source_concept_code'] == 'Billing Diagnosis':\n",
    "        return 'Billing Diagnosis'\n",
    "    else:\n",
    "        return 'Non-Billing Diagnosis'\n",
    "df1['billing_condition'] = df1.apply(lambda row: billing(row), axis=1)\n",
    "# print(df1['billing_condition'].value_counts())"
   ],
   "metadata": {
    "collapsed": false,
    "pycharm": {
     "name": "#%%\n"
    }
   }
  },
  {
   "cell_type": "code",
   "execution_count": 165,
   "outputs": [],
   "source": [
    "# removing rows with duplicated condition names but different condition types (billing vs non billing)\n",
    "# if condition had a billing label, then that's what stayed\n",
    "df1 = df1.sort_values(by=['person_id', 'visit_occurrence_id', 'condition_concept_name','billing_condition'])\n",
    "dup_con_bill=['person_id', 'visit_occurrence_id', 'etl_epic_encounter_key', 'xtn_department_name', 'xtn_visit_type_source_concept_id',\n",
    "             'xtn_visit_type_source_concept_code', 'visit_start_datetime', 'visit_end_datetime', 'xtn_inpatient_admission_datetime',\n",
    "             'xtn_discharge_datetime', 'xtn_patient_epic_mrn', 'xtn_birth_date', 'xtn_race_ethnicity_source_concept_code',\n",
    "             'xtn_race_ethnicity_source_concept_name', 'race_source_concept_code', 'race_source_concept_name',\n",
    "             'gender_source_concept_code', 'gender_source_concept_name', 'xtn_gender_identity_source_concept_code',\n",
    "             'xtn_gender_identity_source_concept_name', 'xtn_sexual_orientation_source_concept_code', 'xtn_sexual_orientation_source_concept_name', 'condition_concept_id', 'condition_concept_code', 'condition_concept_name', 'xtn_five_digit_zip']\n",
    "df2 = df1.drop_duplicates(subset=dup_con_bill, keep='first')\n",
    "# df2"
   ],
   "metadata": {
    "collapsed": false,
    "pycharm": {
     "name": "#%%\n"
    }
   }
  },
  {
   "cell_type": "code",
   "execution_count": 166,
   "outputs": [
    {
     "data": {
      "text/plain": "          person_id  visit_occurrence_id  etl_epic_encounter_key  \\\n34025380          0            166406671               270120309   \n10798610          0            166406835               268387146   \n7606946           0            166406888               282949502   \n2010169           0            166408303               270757536   \n9854934           0            166408421               282727736   \n...             ...                  ...                     ...   \n29209183   15906895            200636137               310738382   \n29214262   15906895            200636137               310738382   \n4416258    15909331             63329267                88353760   \n4411115    15909331             63329267                88353760   \n35347374   15909331             63329279               105243072   \n\n                               xtn_department_name  \\\n34025380           37-12 82ND ST INTERNAL MEDICINE   \n10798610                        10 E 102 PULMONARY   \n7606946                          122 AMSTERDAM SCH   \n2010169                17 E 102ND ENDOCRINE CLINIC   \n9854934                      HOSP ORTHOPEDICS PEDS   \n...                                            ...   \n29209183                        19 E 98TH ST PSYCH   \n29214262                        19 E 98TH ST PSYCH   \n4416258   X_EMERGENCY DEPT BI BROOKLYN_DEACTIVATED   \n4411115   X_EMERGENCY DEPT BI BROOKLYN_DEACTIVATED   \n35347374  X_EMERGENCY DEPT BI BROOKLYN_DEACTIVATED   \n\n          xtn_visit_type_source_concept_id xtn_visit_type_source_concept_code  \\\n34025380                        2000000112                   Outpatient Visit   \n10798610                        2000000112                   Outpatient Visit   \n7606946                         2000000112                   Outpatient Visit   \n2010169                         2000000112                   Outpatient Visit   \n9854934                         2000000112                   Outpatient Visit   \n...                                    ...                                ...   \n29209183                        2000000101                   Telehealth Visit   \n29214262                        2000000112                   Outpatient Visit   \n4416258                         2000000113                           ED Visit   \n4411115                         2000000113                           ED Visit   \n35347374                        2000000113                           ED Visit   \n\n         visit_start_datetime  visit_end_datetime  \\\n34025380  2021-11-15 00:00:00 2021-11-15 00:00:00   \n10798610  2021-11-09 00:00:00 2021-11-09 00:00:00   \n7606946   2021-11-17 00:00:00 2021-11-17 00:00:00   \n2010169   2021-11-18 00:00:00 2021-11-18 00:00:00   \n9854934   2021-11-22 00:00:00 2021-11-22 00:00:00   \n...                       ...                 ...   \n29209183  2022-10-03 00:00:00 2022-10-03 00:00:00   \n29214262  2022-10-03 00:00:00 2022-10-03 00:00:00   \n4416258   2018-12-19 14:21:00 2018-12-19 16:12:00   \n4411115   2018-12-19 14:21:00 2018-12-19 16:12:00   \n35347374  2019-12-30 15:25:00 2019-12-31 02:26:00   \n\n         xtn_inpatient_admission_datetime xtn_discharge_datetime  ...  \\\n34025380                              NaT                    NaT  ...   \n10798610                              NaT                    NaT  ...   \n7606946                               NaT                    NaT  ...   \n2010169                               NaT                    NaT  ...   \n9854934                               NaT                    NaT  ...   \n...                                   ...                    ...  ...   \n29209183                              NaT                    NaT  ...   \n29214262                              NaT                    NaT  ...   \n4416258                               NaT    2018-12-19 16:12:00  ...   \n4411115                               NaT    2018-12-19 16:12:00  ...   \n35347374                              NaT    2019-12-31 02:26:00  ...   \n\n         xtn_sexual_orientation_source_concept_code  \\\n34025380                        No matching concept   \n10798610                        No matching concept   \n7606946                         No matching concept   \n2010169                         No matching concept   \n9854934                         No matching concept   \n...                                             ...   \n29209183                               *Unspecified   \n29214262                               *Unspecified   \n4416258                                *Unspecified   \n4411115                                *Unspecified   \n35347374                               *Unspecified   \n\n         xtn_sexual_orientation_source_concept_name  \\\n34025380                        No matching concept   \n10798610                        No matching concept   \n7606946                         No matching concept   \n2010169                         No matching concept   \n9854934                         No matching concept   \n...                                             ...   \n29209183                               *Unspecified   \n29214262                               *Unspecified   \n4416258                                *Unspecified   \n4411115                                *Unspecified   \n35347374                               *Unspecified   \n\n         xtn_condition_status_source_concept_code condition_concept_id  \\\n34025380                      Encounter Diagnosis               320128   \n10798610                        Billing Diagnosis               440615   \n7606946                         Primary Diagnosis                81151   \n2010169                       Encounter Diagnosis             45757474   \n9854934                         Primary Diagnosis                81723   \n...                                           ...                  ...   \n29209183                        Billing Diagnosis               443617   \n29214262                        Billing Diagnosis               443617   \n4416258                       Encounter Diagnosis              4113821   \n4411115                         Primary Diagnosis              4085100   \n35347374                        Primary Diagnosis                75860   \n\n         condition_concept_code                        condition_concept_name  \\\n34025380               59621000                        Essential hypertension   \n10798610               71677004          Effect of exposure to external cause   \n7606946                44465007                               Sprain of ankle   \n2010169           1481000119100  Diabetes mellitus type 2 without retinopathy   \n9854934                 5662003                             Contusion of hand   \n...                         ...                                           ...   \n29209183              430909002                              Conduct disorder   \n29214262              430909002                              Conduct disorder   \n4416258               198288003                                 Anxiety state   \n4411115               281794004       Viral upper respiratory tract infection   \n35347374               14760008                                  Constipation   \n\n         condition_start_datetime xtn_five_digit_zip  \\\n34025380               2021-11-15              *Unsp   \n10798610               2021-11-09              *Unsp   \n7606946                2021-11-17              *Unsp   \n2010169                2021-11-18              *Unsp   \n9854934                2021-11-22              *Unsp   \n...                           ...                ...   \n29209183               2022-10-03            10024.0   \n29214262               2022-10-03            10024.0   \n4416258                2018-12-19            11236.0   \n4411115                2018-12-19            11236.0   \n35347374               2019-12-30            11236.0   \n\n         location_record_update_datetime      billing_condition  \n34025380         2021-09-15 17:55:51.000  Non-Billing Diagnosis  \n10798610         2021-09-15 17:55:51.000      Billing Diagnosis  \n7606946          2021-09-15 17:55:51.000  Non-Billing Diagnosis  \n2010169          2021-09-15 17:55:51.000  Non-Billing Diagnosis  \n9854934          2021-09-15 17:55:51.000  Non-Billing Diagnosis  \n...                                  ...                    ...  \n29209183         2022-10-04 02:08:59.403      Billing Diagnosis  \n29214262         2022-10-04 02:08:59.403      Billing Diagnosis  \n4416258          2021-11-07 08:57:05.270  Non-Billing Diagnosis  \n4411115          2021-11-07 08:57:05.270  Non-Billing Diagnosis  \n35347374         2021-11-07 08:57:05.270  Non-Billing Diagnosis  \n\n[29737210 rows x 30 columns]",
      "text/html": "<div>\n<style scoped>\n    .dataframe tbody tr th:only-of-type {\n        vertical-align: middle;\n    }\n\n    .dataframe tbody tr th {\n        vertical-align: top;\n    }\n\n    .dataframe thead th {\n        text-align: right;\n    }\n</style>\n<table border=\"1\" class=\"dataframe\">\n  <thead>\n    <tr style=\"text-align: right;\">\n      <th></th>\n      <th>person_id</th>\n      <th>visit_occurrence_id</th>\n      <th>etl_epic_encounter_key</th>\n      <th>xtn_department_name</th>\n      <th>xtn_visit_type_source_concept_id</th>\n      <th>xtn_visit_type_source_concept_code</th>\n      <th>visit_start_datetime</th>\n      <th>visit_end_datetime</th>\n      <th>xtn_inpatient_admission_datetime</th>\n      <th>xtn_discharge_datetime</th>\n      <th>...</th>\n      <th>xtn_sexual_orientation_source_concept_code</th>\n      <th>xtn_sexual_orientation_source_concept_name</th>\n      <th>xtn_condition_status_source_concept_code</th>\n      <th>condition_concept_id</th>\n      <th>condition_concept_code</th>\n      <th>condition_concept_name</th>\n      <th>condition_start_datetime</th>\n      <th>xtn_five_digit_zip</th>\n      <th>location_record_update_datetime</th>\n      <th>billing_condition</th>\n    </tr>\n  </thead>\n  <tbody>\n    <tr>\n      <th>34025380</th>\n      <td>0</td>\n      <td>166406671</td>\n      <td>270120309</td>\n      <td>37-12 82ND ST INTERNAL MEDICINE</td>\n      <td>2000000112</td>\n      <td>Outpatient Visit</td>\n      <td>2021-11-15 00:00:00</td>\n      <td>2021-11-15 00:00:00</td>\n      <td>NaT</td>\n      <td>NaT</td>\n      <td>...</td>\n      <td>No matching concept</td>\n      <td>No matching concept</td>\n      <td>Encounter Diagnosis</td>\n      <td>320128</td>\n      <td>59621000</td>\n      <td>Essential hypertension</td>\n      <td>2021-11-15</td>\n      <td>*Unsp</td>\n      <td>2021-09-15 17:55:51.000</td>\n      <td>Non-Billing Diagnosis</td>\n    </tr>\n    <tr>\n      <th>10798610</th>\n      <td>0</td>\n      <td>166406835</td>\n      <td>268387146</td>\n      <td>10 E 102 PULMONARY</td>\n      <td>2000000112</td>\n      <td>Outpatient Visit</td>\n      <td>2021-11-09 00:00:00</td>\n      <td>2021-11-09 00:00:00</td>\n      <td>NaT</td>\n      <td>NaT</td>\n      <td>...</td>\n      <td>No matching concept</td>\n      <td>No matching concept</td>\n      <td>Billing Diagnosis</td>\n      <td>440615</td>\n      <td>71677004</td>\n      <td>Effect of exposure to external cause</td>\n      <td>2021-11-09</td>\n      <td>*Unsp</td>\n      <td>2021-09-15 17:55:51.000</td>\n      <td>Billing Diagnosis</td>\n    </tr>\n    <tr>\n      <th>7606946</th>\n      <td>0</td>\n      <td>166406888</td>\n      <td>282949502</td>\n      <td>122 AMSTERDAM SCH</td>\n      <td>2000000112</td>\n      <td>Outpatient Visit</td>\n      <td>2021-11-17 00:00:00</td>\n      <td>2021-11-17 00:00:00</td>\n      <td>NaT</td>\n      <td>NaT</td>\n      <td>...</td>\n      <td>No matching concept</td>\n      <td>No matching concept</td>\n      <td>Primary Diagnosis</td>\n      <td>81151</td>\n      <td>44465007</td>\n      <td>Sprain of ankle</td>\n      <td>2021-11-17</td>\n      <td>*Unsp</td>\n      <td>2021-09-15 17:55:51.000</td>\n      <td>Non-Billing Diagnosis</td>\n    </tr>\n    <tr>\n      <th>2010169</th>\n      <td>0</td>\n      <td>166408303</td>\n      <td>270757536</td>\n      <td>17 E 102ND ENDOCRINE CLINIC</td>\n      <td>2000000112</td>\n      <td>Outpatient Visit</td>\n      <td>2021-11-18 00:00:00</td>\n      <td>2021-11-18 00:00:00</td>\n      <td>NaT</td>\n      <td>NaT</td>\n      <td>...</td>\n      <td>No matching concept</td>\n      <td>No matching concept</td>\n      <td>Encounter Diagnosis</td>\n      <td>45757474</td>\n      <td>1481000119100</td>\n      <td>Diabetes mellitus type 2 without retinopathy</td>\n      <td>2021-11-18</td>\n      <td>*Unsp</td>\n      <td>2021-09-15 17:55:51.000</td>\n      <td>Non-Billing Diagnosis</td>\n    </tr>\n    <tr>\n      <th>9854934</th>\n      <td>0</td>\n      <td>166408421</td>\n      <td>282727736</td>\n      <td>HOSP ORTHOPEDICS PEDS</td>\n      <td>2000000112</td>\n      <td>Outpatient Visit</td>\n      <td>2021-11-22 00:00:00</td>\n      <td>2021-11-22 00:00:00</td>\n      <td>NaT</td>\n      <td>NaT</td>\n      <td>...</td>\n      <td>No matching concept</td>\n      <td>No matching concept</td>\n      <td>Primary Diagnosis</td>\n      <td>81723</td>\n      <td>5662003</td>\n      <td>Contusion of hand</td>\n      <td>2021-11-22</td>\n      <td>*Unsp</td>\n      <td>2021-09-15 17:55:51.000</td>\n      <td>Non-Billing Diagnosis</td>\n    </tr>\n    <tr>\n      <th>...</th>\n      <td>...</td>\n      <td>...</td>\n      <td>...</td>\n      <td>...</td>\n      <td>...</td>\n      <td>...</td>\n      <td>...</td>\n      <td>...</td>\n      <td>...</td>\n      <td>...</td>\n      <td>...</td>\n      <td>...</td>\n      <td>...</td>\n      <td>...</td>\n      <td>...</td>\n      <td>...</td>\n      <td>...</td>\n      <td>...</td>\n      <td>...</td>\n      <td>...</td>\n      <td>...</td>\n    </tr>\n    <tr>\n      <th>29209183</th>\n      <td>15906895</td>\n      <td>200636137</td>\n      <td>310738382</td>\n      <td>19 E 98TH ST PSYCH</td>\n      <td>2000000101</td>\n      <td>Telehealth Visit</td>\n      <td>2022-10-03 00:00:00</td>\n      <td>2022-10-03 00:00:00</td>\n      <td>NaT</td>\n      <td>NaT</td>\n      <td>...</td>\n      <td>*Unspecified</td>\n      <td>*Unspecified</td>\n      <td>Billing Diagnosis</td>\n      <td>443617</td>\n      <td>430909002</td>\n      <td>Conduct disorder</td>\n      <td>2022-10-03</td>\n      <td>10024.0</td>\n      <td>2022-10-04 02:08:59.403</td>\n      <td>Billing Diagnosis</td>\n    </tr>\n    <tr>\n      <th>29214262</th>\n      <td>15906895</td>\n      <td>200636137</td>\n      <td>310738382</td>\n      <td>19 E 98TH ST PSYCH</td>\n      <td>2000000112</td>\n      <td>Outpatient Visit</td>\n      <td>2022-10-03 00:00:00</td>\n      <td>2022-10-03 00:00:00</td>\n      <td>NaT</td>\n      <td>NaT</td>\n      <td>...</td>\n      <td>*Unspecified</td>\n      <td>*Unspecified</td>\n      <td>Billing Diagnosis</td>\n      <td>443617</td>\n      <td>430909002</td>\n      <td>Conduct disorder</td>\n      <td>2022-10-03</td>\n      <td>10024.0</td>\n      <td>2022-10-04 02:08:59.403</td>\n      <td>Billing Diagnosis</td>\n    </tr>\n    <tr>\n      <th>4416258</th>\n      <td>15909331</td>\n      <td>63329267</td>\n      <td>88353760</td>\n      <td>X_EMERGENCY DEPT BI BROOKLYN_DEACTIVATED</td>\n      <td>2000000113</td>\n      <td>ED Visit</td>\n      <td>2018-12-19 14:21:00</td>\n      <td>2018-12-19 16:12:00</td>\n      <td>NaT</td>\n      <td>2018-12-19 16:12:00</td>\n      <td>...</td>\n      <td>*Unspecified</td>\n      <td>*Unspecified</td>\n      <td>Encounter Diagnosis</td>\n      <td>4113821</td>\n      <td>198288003</td>\n      <td>Anxiety state</td>\n      <td>2018-12-19</td>\n      <td>11236.0</td>\n      <td>2021-11-07 08:57:05.270</td>\n      <td>Non-Billing Diagnosis</td>\n    </tr>\n    <tr>\n      <th>4411115</th>\n      <td>15909331</td>\n      <td>63329267</td>\n      <td>88353760</td>\n      <td>X_EMERGENCY DEPT BI BROOKLYN_DEACTIVATED</td>\n      <td>2000000113</td>\n      <td>ED Visit</td>\n      <td>2018-12-19 14:21:00</td>\n      <td>2018-12-19 16:12:00</td>\n      <td>NaT</td>\n      <td>2018-12-19 16:12:00</td>\n      <td>...</td>\n      <td>*Unspecified</td>\n      <td>*Unspecified</td>\n      <td>Primary Diagnosis</td>\n      <td>4085100</td>\n      <td>281794004</td>\n      <td>Viral upper respiratory tract infection</td>\n      <td>2018-12-19</td>\n      <td>11236.0</td>\n      <td>2021-11-07 08:57:05.270</td>\n      <td>Non-Billing Diagnosis</td>\n    </tr>\n    <tr>\n      <th>35347374</th>\n      <td>15909331</td>\n      <td>63329279</td>\n      <td>105243072</td>\n      <td>X_EMERGENCY DEPT BI BROOKLYN_DEACTIVATED</td>\n      <td>2000000113</td>\n      <td>ED Visit</td>\n      <td>2019-12-30 15:25:00</td>\n      <td>2019-12-31 02:26:00</td>\n      <td>NaT</td>\n      <td>2019-12-31 02:26:00</td>\n      <td>...</td>\n      <td>*Unspecified</td>\n      <td>*Unspecified</td>\n      <td>Primary Diagnosis</td>\n      <td>75860</td>\n      <td>14760008</td>\n      <td>Constipation</td>\n      <td>2019-12-30</td>\n      <td>11236.0</td>\n      <td>2021-11-07 08:57:05.270</td>\n      <td>Non-Billing Diagnosis</td>\n    </tr>\n  </tbody>\n</table>\n<p>29737210 rows × 30 columns</p>\n</div>"
     },
     "execution_count": 166,
     "metadata": {},
     "output_type": "execute_result"
    }
   ],
   "source": [
    "# drop duplicated condition names with different condition start datetime\n",
    "dup_con=['person_id', 'visit_occurrence_id', 'etl_epic_encounter_key', 'xtn_department_name', 'xtn_visit_type_source_concept_id',\n",
    "             'xtn_visit_type_source_concept_code', 'visit_start_datetime', 'visit_end_datetime', 'xtn_inpatient_admission_datetime',\n",
    "             'xtn_discharge_datetime', 'xtn_patient_epic_mrn', 'xtn_birth_date', 'xtn_race_ethnicity_source_concept_code',\n",
    "             'xtn_race_ethnicity_source_concept_name', 'race_source_concept_code', 'race_source_concept_name',\n",
    "             'gender_source_concept_code', 'gender_source_concept_name', 'xtn_gender_identity_source_concept_code',\n",
    "             'xtn_gender_identity_source_concept_name', 'xtn_sexual_orientation_source_concept_code', 'xtn_sexual_orientation_source_concept_name', 'condition_concept_id', 'condition_concept_code', 'condition_concept_name', 'xtn_five_digit_zip', 'location_record_update_datetime', 'billing_condition']\n",
    "df3 = df2.drop_duplicates(subset=dup_con, keep='first')\n",
    "# df3"
   ],
   "metadata": {
    "collapsed": false,
    "pycharm": {
     "name": "#%%\n"
    }
   }
  },
  {
   "cell_type": "code",
   "execution_count": 168,
   "outputs": [],
   "source": [
    "df3['visit_start_datetime'] = pd.to_datetime(df3['visit_start_datetime'])\n",
    "df3['visit_end_datetime'] = pd.to_datetime(df3['visit_end_datetime'])\n",
    "df3['xtn_inpatient_admission_datetime'] = pd.to_datetime(df3['xtn_inpatient_admission_datetime'])\n",
    "df3['xtn_discharge_datetime'] = pd.to_datetime(df3['xtn_discharge_datetime'])\n",
    "df3['xtn_birth_date'] = pd.to_datetime(df3['xtn_birth_date'])\n",
    "df3['condition_start_datetime'] = pd.to_datetime(df3['condition_start_datetime'])\n",
    "df3['location_record_update_datetime'] = pd.to_datetime(df3['location_record_update_datetime'])\n",
    "\n",
    "# print(df3['visit_start_datetime'].isna().sum())\n",
    "u = df3.select_dtypes(include=['datetime'])\n",
    "df3['visit_start_datetime'] = u.visit_start_datetime.fillna(u.xtn_inpatient_admission_datetime)\n",
    "df3['visit_end_datetime'] = u.visit_start_datetime.fillna(u.xtn_discharge_datetime)\n",
    "df3 = df3.dropna(subset=['visit_start_datetime'])\n",
    "df3['time_since_zip_update'] = (df3.location_record_update_datetime - df3.visit_start_datetime)\n",
    "# df3"
   ],
   "metadata": {
    "collapsed": false,
    "pycharm": {
     "name": "#%%\n"
    }
   }
  },
  {
   "cell_type": "code",
   "execution_count": 170,
   "outputs": [
    {
     "data": {
      "text/plain": "          person_id  visit_occurrence_id  etl_epic_encounter_key  \\\n1466309     4457878            185041362               290911283   \n1469639     4457878            185041362               290911283   \n7080027     1634822            193781739               293267531   \n7085103     1634822            193781739               293267531   \n7082361     1634822            193781739               293267531   \n...             ...                  ...                     ...   \n28612207    5051945              3017558                 5374347   \n28614278    5051945              3017558                 5374347   \n28610930    5051945              3017558                 5374347   \n28608592    5051945              3017558                 5374347   \n3063353     2142941             89210747                 5604278   \n\n         xtn_department_name  xtn_visit_type_source_concept_id  \\\n1466309    EMERGENCY DEPT BI                        2000000113   \n1469639    EMERGENCY DEPT BI                        2000000113   \n7080027           BABCOCK 4W                        2000000099   \n7085103           BABCOCK 4W                        2000000099   \n7082361           BABCOCK 4W                        2000000099   \n...                      ...                               ...   \n28612207        X_GERIATRICS                        2000000112   \n28614278        X_GERIATRICS                        2000000112   \n28610930        X_GERIATRICS                        2000000112   \n28608592        X_GERIATRICS                        2000000112   \n3063353         X_GERIATRICS                        2000000112   \n\n               xtn_visit_type_source_concept_code visit_start_datetime  \\\n1466309                                  ED Visit  2022-02-21 01:46:00   \n1469639                                  ED Visit  2022-02-21 01:46:00   \n7080027   Inpatient Hospitalization from ED Visit  2022-03-10 01:33:00   \n7085103   Inpatient Hospitalization from ED Visit  2022-03-10 01:33:00   \n7082361   Inpatient Hospitalization from ED Visit  2022-03-10 01:33:00   \n...                                           ...                  ...   \n28612207                         Outpatient Visit  2006-06-29 00:00:00   \n28614278                         Outpatient Visit  2006-06-29 00:00:00   \n28610930                         Outpatient Visit  2006-06-29 00:00:00   \n28608592                         Outpatient Visit  2006-06-29 00:00:00   \n3063353                          Outpatient Visit  2006-06-28 00:00:00   \n\n          visit_end_datetime xtn_inpatient_admission_datetime  \\\n1466309  2022-02-21 01:46:00                              NaT   \n1469639  2022-02-21 01:46:00                              NaT   \n7080027  2022-03-10 01:33:00              2022-03-10 01:43:00   \n7085103  2022-03-10 01:33:00              2022-03-10 01:43:00   \n7082361  2022-03-10 01:33:00              2022-03-10 01:43:00   \n...                      ...                              ...   \n28612207 2006-06-29 00:00:00                              NaT   \n28614278 2006-06-29 00:00:00                              NaT   \n28610930 2006-06-29 00:00:00                              NaT   \n28608592 2006-06-29 00:00:00                              NaT   \n3063353  2006-06-28 00:00:00                              NaT   \n\n         xtn_discharge_datetime  ...  \\\n1466309     2022-02-21 04:12:00  ...   \n1469639     2022-02-21 04:12:00  ...   \n7080027     2022-03-18 16:46:00  ...   \n7085103     2022-03-18 16:46:00  ...   \n7082361     2022-03-18 16:46:00  ...   \n...                         ...  ...   \n28612207                    NaT  ...   \n28614278                    NaT  ...   \n28610930                    NaT  ...   \n28608592                    NaT  ...   \n3063353                     NaT  ...   \n\n         xtn_sexual_orientation_source_concept_name  \\\n1466309                                *Unspecified   \n1469639                                *Unspecified   \n7080027                                *Unspecified   \n7085103                                *Unspecified   \n7082361                                *Unspecified   \n...                                             ...   \n28612207                               *Unspecified   \n28614278                               *Unspecified   \n28610930                               *Unspecified   \n28608592                               *Unspecified   \n3063353               Straight (not lesbian or gay)   \n\n         xtn_condition_status_source_concept_code condition_concept_id  \\\n1466309                       Encounter Diagnosis                25297   \n1469639                         Primary Diagnosis               442077   \n7080027                         Billing Diagnosis             37016348   \n7085103                         Billing Diagnosis               443412   \n7082361                              Problem List               201826   \n...                                           ...                  ...   \n28612207                      Encounter Diagnosis               201820   \n28614278                      Encounter Diagnosis               316866   \n28610930                      Encounter Diagnosis               374375   \n28608592                      Encounter Diagnosis               192450   \n3063353                       Encounter Diagnosis                80502   \n\n         condition_concept_code  \\\n1466309               363746003   \n1469639               197480006   \n7080027         367991000119101   \n7085103               313435000   \n7082361                44054006   \n...                         ...   \n28612207               73211009   \n28614278               38341003   \n28610930               18070006   \n28608592              267064002   \n3063353                64859006   \n\n                                 condition_concept_name  \\\n1466309                               Acute pharyngitis   \n1469639                                Anxiety disorder   \n7080027   Hyperglycemia due to type 1 diabetes mellitus   \n7085103   Type 1 diabetes mellitus without complication   \n7082361                        Type 2 diabetes mellitus   \n...                                                 ...   \n28612207                              Diabetes mellitus   \n28614278                          Hypertensive disorder   \n28610930                               Impacted cerumen   \n28608592                             Retention of urine   \n3063353                                    Osteoporosis   \n\n         condition_start_datetime xtn_five_digit_zip  \\\n1466309                2022-02-21            11237.0   \n1469639                2022-02-21            11237.0   \n7080027                2022-03-11            10025.0   \n7085103                2022-03-16            10025.0   \n7082361                2022-03-10            10025.0   \n...                           ...                ...   \n28612207               2006-06-29              11372   \n28614278               2006-06-29              11372   \n28610930               2006-06-29              11372   \n28608592               2006-06-29              11372   \n3063353                2006-06-28            10024.0   \n\n         location_record_update_datetime      billing_condition  \\\n1466309          2022-02-21 01:47:57.067  Non-Billing Diagnosis   \n1469639          2022-02-21 01:47:57.067  Non-Billing Diagnosis   \n7080027          2022-03-10 01:45:51.287      Billing Diagnosis   \n7085103          2022-03-10 01:45:51.287      Billing Diagnosis   \n7082361          2022-03-10 01:45:51.287  Non-Billing Diagnosis   \n...                                  ...                    ...   \n28612207         2022-10-02 02:13:05.497  Non-Billing Diagnosis   \n28614278         2022-10-02 02:13:05.497  Non-Billing Diagnosis   \n28610930         2022-10-02 02:13:05.497  Non-Billing Diagnosis   \n28608592         2022-10-02 02:13:05.497  Non-Billing Diagnosis   \n3063353          2022-10-02 02:13:05.497  Non-Billing Diagnosis   \n\n             time_since_zip_update  \n1466309     0 days 00:01:57.067000  \n1469639     0 days 00:01:57.067000  \n7080027     0 days 00:12:51.287000  \n7085103     0 days 00:12:51.287000  \n7082361     0 days 00:12:51.287000  \n...                            ...  \n28612207 5939 days 02:13:05.497000  \n28614278 5939 days 02:13:05.497000  \n28610930 5939 days 02:13:05.497000  \n28608592 5939 days 02:13:05.497000  \n3063353  5940 days 02:13:05.497000  \n\n[28905995 rows x 31 columns]",
      "text/html": "<div>\n<style scoped>\n    .dataframe tbody tr th:only-of-type {\n        vertical-align: middle;\n    }\n\n    .dataframe tbody tr th {\n        vertical-align: top;\n    }\n\n    .dataframe thead th {\n        text-align: right;\n    }\n</style>\n<table border=\"1\" class=\"dataframe\">\n  <thead>\n    <tr style=\"text-align: right;\">\n      <th></th>\n      <th>person_id</th>\n      <th>visit_occurrence_id</th>\n      <th>etl_epic_encounter_key</th>\n      <th>xtn_department_name</th>\n      <th>xtn_visit_type_source_concept_id</th>\n      <th>xtn_visit_type_source_concept_code</th>\n      <th>visit_start_datetime</th>\n      <th>visit_end_datetime</th>\n      <th>xtn_inpatient_admission_datetime</th>\n      <th>xtn_discharge_datetime</th>\n      <th>...</th>\n      <th>xtn_sexual_orientation_source_concept_name</th>\n      <th>xtn_condition_status_source_concept_code</th>\n      <th>condition_concept_id</th>\n      <th>condition_concept_code</th>\n      <th>condition_concept_name</th>\n      <th>condition_start_datetime</th>\n      <th>xtn_five_digit_zip</th>\n      <th>location_record_update_datetime</th>\n      <th>billing_condition</th>\n      <th>time_since_zip_update</th>\n    </tr>\n  </thead>\n  <tbody>\n    <tr>\n      <th>1466309</th>\n      <td>4457878</td>\n      <td>185041362</td>\n      <td>290911283</td>\n      <td>EMERGENCY DEPT BI</td>\n      <td>2000000113</td>\n      <td>ED Visit</td>\n      <td>2022-02-21 01:46:00</td>\n      <td>2022-02-21 01:46:00</td>\n      <td>NaT</td>\n      <td>2022-02-21 04:12:00</td>\n      <td>...</td>\n      <td>*Unspecified</td>\n      <td>Encounter Diagnosis</td>\n      <td>25297</td>\n      <td>363746003</td>\n      <td>Acute pharyngitis</td>\n      <td>2022-02-21</td>\n      <td>11237.0</td>\n      <td>2022-02-21 01:47:57.067</td>\n      <td>Non-Billing Diagnosis</td>\n      <td>0 days 00:01:57.067000</td>\n    </tr>\n    <tr>\n      <th>1469639</th>\n      <td>4457878</td>\n      <td>185041362</td>\n      <td>290911283</td>\n      <td>EMERGENCY DEPT BI</td>\n      <td>2000000113</td>\n      <td>ED Visit</td>\n      <td>2022-02-21 01:46:00</td>\n      <td>2022-02-21 01:46:00</td>\n      <td>NaT</td>\n      <td>2022-02-21 04:12:00</td>\n      <td>...</td>\n      <td>*Unspecified</td>\n      <td>Primary Diagnosis</td>\n      <td>442077</td>\n      <td>197480006</td>\n      <td>Anxiety disorder</td>\n      <td>2022-02-21</td>\n      <td>11237.0</td>\n      <td>2022-02-21 01:47:57.067</td>\n      <td>Non-Billing Diagnosis</td>\n      <td>0 days 00:01:57.067000</td>\n    </tr>\n    <tr>\n      <th>7080027</th>\n      <td>1634822</td>\n      <td>193781739</td>\n      <td>293267531</td>\n      <td>BABCOCK 4W</td>\n      <td>2000000099</td>\n      <td>Inpatient Hospitalization from ED Visit</td>\n      <td>2022-03-10 01:33:00</td>\n      <td>2022-03-10 01:33:00</td>\n      <td>2022-03-10 01:43:00</td>\n      <td>2022-03-18 16:46:00</td>\n      <td>...</td>\n      <td>*Unspecified</td>\n      <td>Billing Diagnosis</td>\n      <td>37016348</td>\n      <td>367991000119101</td>\n      <td>Hyperglycemia due to type 1 diabetes mellitus</td>\n      <td>2022-03-11</td>\n      <td>10025.0</td>\n      <td>2022-03-10 01:45:51.287</td>\n      <td>Billing Diagnosis</td>\n      <td>0 days 00:12:51.287000</td>\n    </tr>\n    <tr>\n      <th>7085103</th>\n      <td>1634822</td>\n      <td>193781739</td>\n      <td>293267531</td>\n      <td>BABCOCK 4W</td>\n      <td>2000000099</td>\n      <td>Inpatient Hospitalization from ED Visit</td>\n      <td>2022-03-10 01:33:00</td>\n      <td>2022-03-10 01:33:00</td>\n      <td>2022-03-10 01:43:00</td>\n      <td>2022-03-18 16:46:00</td>\n      <td>...</td>\n      <td>*Unspecified</td>\n      <td>Billing Diagnosis</td>\n      <td>443412</td>\n      <td>313435000</td>\n      <td>Type 1 diabetes mellitus without complication</td>\n      <td>2022-03-16</td>\n      <td>10025.0</td>\n      <td>2022-03-10 01:45:51.287</td>\n      <td>Billing Diagnosis</td>\n      <td>0 days 00:12:51.287000</td>\n    </tr>\n    <tr>\n      <th>7082361</th>\n      <td>1634822</td>\n      <td>193781739</td>\n      <td>293267531</td>\n      <td>BABCOCK 4W</td>\n      <td>2000000099</td>\n      <td>Inpatient Hospitalization from ED Visit</td>\n      <td>2022-03-10 01:33:00</td>\n      <td>2022-03-10 01:33:00</td>\n      <td>2022-03-10 01:43:00</td>\n      <td>2022-03-18 16:46:00</td>\n      <td>...</td>\n      <td>*Unspecified</td>\n      <td>Problem List</td>\n      <td>201826</td>\n      <td>44054006</td>\n      <td>Type 2 diabetes mellitus</td>\n      <td>2022-03-10</td>\n      <td>10025.0</td>\n      <td>2022-03-10 01:45:51.287</td>\n      <td>Non-Billing Diagnosis</td>\n      <td>0 days 00:12:51.287000</td>\n    </tr>\n    <tr>\n      <th>...</th>\n      <td>...</td>\n      <td>...</td>\n      <td>...</td>\n      <td>...</td>\n      <td>...</td>\n      <td>...</td>\n      <td>...</td>\n      <td>...</td>\n      <td>...</td>\n      <td>...</td>\n      <td>...</td>\n      <td>...</td>\n      <td>...</td>\n      <td>...</td>\n      <td>...</td>\n      <td>...</td>\n      <td>...</td>\n      <td>...</td>\n      <td>...</td>\n      <td>...</td>\n      <td>...</td>\n    </tr>\n    <tr>\n      <th>28612207</th>\n      <td>5051945</td>\n      <td>3017558</td>\n      <td>5374347</td>\n      <td>X_GERIATRICS</td>\n      <td>2000000112</td>\n      <td>Outpatient Visit</td>\n      <td>2006-06-29 00:00:00</td>\n      <td>2006-06-29 00:00:00</td>\n      <td>NaT</td>\n      <td>NaT</td>\n      <td>...</td>\n      <td>*Unspecified</td>\n      <td>Encounter Diagnosis</td>\n      <td>201820</td>\n      <td>73211009</td>\n      <td>Diabetes mellitus</td>\n      <td>2006-06-29</td>\n      <td>11372</td>\n      <td>2022-10-02 02:13:05.497</td>\n      <td>Non-Billing Diagnosis</td>\n      <td>5939 days 02:13:05.497000</td>\n    </tr>\n    <tr>\n      <th>28614278</th>\n      <td>5051945</td>\n      <td>3017558</td>\n      <td>5374347</td>\n      <td>X_GERIATRICS</td>\n      <td>2000000112</td>\n      <td>Outpatient Visit</td>\n      <td>2006-06-29 00:00:00</td>\n      <td>2006-06-29 00:00:00</td>\n      <td>NaT</td>\n      <td>NaT</td>\n      <td>...</td>\n      <td>*Unspecified</td>\n      <td>Encounter Diagnosis</td>\n      <td>316866</td>\n      <td>38341003</td>\n      <td>Hypertensive disorder</td>\n      <td>2006-06-29</td>\n      <td>11372</td>\n      <td>2022-10-02 02:13:05.497</td>\n      <td>Non-Billing Diagnosis</td>\n      <td>5939 days 02:13:05.497000</td>\n    </tr>\n    <tr>\n      <th>28610930</th>\n      <td>5051945</td>\n      <td>3017558</td>\n      <td>5374347</td>\n      <td>X_GERIATRICS</td>\n      <td>2000000112</td>\n      <td>Outpatient Visit</td>\n      <td>2006-06-29 00:00:00</td>\n      <td>2006-06-29 00:00:00</td>\n      <td>NaT</td>\n      <td>NaT</td>\n      <td>...</td>\n      <td>*Unspecified</td>\n      <td>Encounter Diagnosis</td>\n      <td>374375</td>\n      <td>18070006</td>\n      <td>Impacted cerumen</td>\n      <td>2006-06-29</td>\n      <td>11372</td>\n      <td>2022-10-02 02:13:05.497</td>\n      <td>Non-Billing Diagnosis</td>\n      <td>5939 days 02:13:05.497000</td>\n    </tr>\n    <tr>\n      <th>28608592</th>\n      <td>5051945</td>\n      <td>3017558</td>\n      <td>5374347</td>\n      <td>X_GERIATRICS</td>\n      <td>2000000112</td>\n      <td>Outpatient Visit</td>\n      <td>2006-06-29 00:00:00</td>\n      <td>2006-06-29 00:00:00</td>\n      <td>NaT</td>\n      <td>NaT</td>\n      <td>...</td>\n      <td>*Unspecified</td>\n      <td>Encounter Diagnosis</td>\n      <td>192450</td>\n      <td>267064002</td>\n      <td>Retention of urine</td>\n      <td>2006-06-29</td>\n      <td>11372</td>\n      <td>2022-10-02 02:13:05.497</td>\n      <td>Non-Billing Diagnosis</td>\n      <td>5939 days 02:13:05.497000</td>\n    </tr>\n    <tr>\n      <th>3063353</th>\n      <td>2142941</td>\n      <td>89210747</td>\n      <td>5604278</td>\n      <td>X_GERIATRICS</td>\n      <td>2000000112</td>\n      <td>Outpatient Visit</td>\n      <td>2006-06-28 00:00:00</td>\n      <td>2006-06-28 00:00:00</td>\n      <td>NaT</td>\n      <td>NaT</td>\n      <td>...</td>\n      <td>Straight (not lesbian or gay)</td>\n      <td>Encounter Diagnosis</td>\n      <td>80502</td>\n      <td>64859006</td>\n      <td>Osteoporosis</td>\n      <td>2006-06-28</td>\n      <td>10024.0</td>\n      <td>2022-10-02 02:13:05.497</td>\n      <td>Non-Billing Diagnosis</td>\n      <td>5940 days 02:13:05.497000</td>\n    </tr>\n  </tbody>\n</table>\n<p>28905995 rows × 31 columns</p>\n</div>"
     },
     "execution_count": 170,
     "metadata": {},
     "output_type": "execute_result"
    }
   ],
   "source": [
    "dup_con=['person_id', 'visit_occurrence_id', 'etl_epic_encounter_key', 'xtn_department_name', 'xtn_visit_type_source_concept_id',\n",
    "             'xtn_visit_type_source_concept_code', 'visit_start_datetime', 'visit_end_datetime', 'xtn_inpatient_admission_datetime',\n",
    "             'xtn_discharge_datetime', 'xtn_patient_epic_mrn', 'xtn_birth_date', 'xtn_race_ethnicity_source_concept_code',\n",
    "             'xtn_race_ethnicity_source_concept_name', 'race_source_concept_code', 'race_source_concept_name',\n",
    "             'gender_source_concept_code', 'gender_source_concept_name', 'xtn_gender_identity_source_concept_code',\n",
    "             'xtn_gender_identity_source_concept_name', 'xtn_sexual_orientation_source_concept_code', 'xtn_sexual_orientation_source_concept_name', 'condition_concept_id', 'condition_concept_code', 'condition_concept_name', 'billing_condition']\n",
    "df4 = df3.sort_values(by=['time_since_zip_update', 'visit_occurrence_id'],ascending=[True, True], key=lambda ele: abs(ele))\n",
    "df4 = df4.drop_duplicates(subset=dup_con,keep='first')\n",
    "# df4"
   ],
   "metadata": {
    "collapsed": false,
    "pycharm": {
     "name": "#%%\n"
    }
   }
  },
  {
   "cell_type": "code",
   "execution_count": 1,
   "outputs": [
    {
     "ename": "NameError",
     "evalue": "name 'pd' is not defined",
     "output_type": "error",
     "traceback": [
      "\u001B[0;31m---------------------------------------------------------------------------\u001B[0m",
      "\u001B[0;31mNameError\u001B[0m                                 Traceback (most recent call last)",
      "Cell \u001B[0;32mIn [1], line 1\u001B[0m\n\u001B[0;32m----> 1\u001B[0m df \u001B[38;5;241m=\u001B[39m \u001B[43mpd\u001B[49m\u001B[38;5;241m.\u001B[39mread_csv(\u001B[38;5;124m'\u001B[39m\u001B[38;5;124m../data/clean_psych_patient_encounter_conditions.csv\u001B[39m\u001B[38;5;124m'\u001B[39m)\n",
      "\u001B[0;31mNameError\u001B[0m: name 'pd' is not defined"
     ]
    }
   ],
   "source": [
    "# df = pd.read_csv('../data/clean_psych_patient_encounter_conditions.csv')\n",
    "# print(df.head(10))\n",
    "# df = df.replace(['UNKNOWN','Race', 'No matching concept', 'Unknown', '*Unspecified', '*Unknown'], np.nan)\n",
    "# df['merged_gender'] = df.xtn_gender_identity_source_concept_name.fillna(df.gender_source_concept_name)\n",
    "# df['merged_race_ethnicity_v1'] = df.race_source_concept_name.fillna(df.xtn_race_ethnicity_source_concept_name)\n",
    "# df['merged_race_ethnicity_v2'] = df.xtn_race_ethnicity_source_concept_name.fillna(df.race_source_concept_name)\n",
    "#\n",
    "# insurance = pd.read_csv(\"../data/insurance/all_insurance.csv\",\n",
    "#                         names=['xtn_patient_epic_mrn', 'etl_epic_encounter_key', 'insurance_payor_class'],\n",
    "#                         usecols=[0,1,41])\n",
    "# insurance = insurance.replace(['*Unspecified', 'Other', 'Charge Correction'], np.nan)\n",
    "\n",
    "# def insurance_type(row):\n",
    "#     if search('Self', str(row)):\n",
    "#         return 'Uninsured'\n",
    "#     else:\n",
    "#         return 'Insured'\n",
    "#\n",
    "# insurance['insured_status'] = insurance.insurance_payor_class.apply(lambda row: insurance_type(row))\n",
    "# print(insurance.head(20))\n",
    "# insurance_data = pd.merge(df, insurance, how=\"left\", on=[\"xtn_patient_epic_mrn\", \"etl_epic_encounter_key\"])\n",
    "# print(insurance_data.head(20))\n",
    "# print(insurance.nunique(axis=0))\n",
    "# pd.DataFrame.to_csv(insurance_data, \"../data/clean_psych_patient_encounter_conditions.csv\",index = False)"
   ],
   "metadata": {
    "collapsed": false,
    "pycharm": {
     "name": "#%%\n"
    }
   }
  },
  {
   "cell_type": "markdown",
   "source": [],
   "metadata": {
    "collapsed": false,
    "pycharm": {
     "name": "#%% md\n"
    }
   }
  },
  {
   "cell_type": "code",
   "execution_count": 3,
   "outputs": [
    {
     "name": "stderr",
     "output_type": "stream",
     "text": [
      "/var/folders/xm/m4dy5bvs1fn7fb9wxjhsg4dc0000gn/T/ipykernel_29106/2864821143.py:1: DtypeWarning: Columns (10,21) have mixed types. Specify dtype option on import or set low_memory=False.\n",
      "  psych_encounters = pd.read_csv('../data/clean_psych_patient_encounter_conditions.csv')\n"
     ]
    },
    {
     "data": {
      "text/plain": "          person_id  visit_occurrence_id  etl_epic_encounter_key  \\\n0               845            172058493               285636709   \n1               845            172058493               285636709   \n2               845            172058493               285636709   \n3               845            185133868               291089587   \n4               845            185133868               291089587   \n...             ...                  ...                     ...   \n28321985   15906895            200636137               310738382   \n28321986   15906895            200636137               310738382   \n28321987   15909331             63329267                88353760   \n28321988   15909331             63329267                88353760   \n28321989   15909331             63329279               105243072   \n\n                               xtn_department_name  \\\n0                               10 UNION SQ E RESP   \n1                               10 UNION SQ E RESP   \n2                               10 UNION SQ E RESP   \n3                                  10 UNION SQ PFT   \n4                                  10 UNION SQ PFT   \n...                                            ...   \n28321985                        19 E 98TH ST PSYCH   \n28321986                        19 E 98TH ST PSYCH   \n28321987  X_EMERGENCY DEPT BI BROOKLYN_DEACTIVATED   \n28321988  X_EMERGENCY DEPT BI BROOKLYN_DEACTIVATED   \n28321989  X_EMERGENCY DEPT BI BROOKLYN_DEACTIVATED   \n\n          xtn_visit_type_source_concept_id xtn_visit_type_source_concept_code  \\\n0                               2000000112                   Outpatient Visit   \n1                               2000000112                   Outpatient Visit   \n2                               2000000112                   Outpatient Visit   \n3                               2000000112                   Outpatient Visit   \n4                               2000000112                   Outpatient Visit   \n...                                    ...                                ...   \n28321985                        2000000101                   Telehealth Visit   \n28321986                        2000000112                   Outpatient Visit   \n28321987                        2000000113                           ED Visit   \n28321988                        2000000113                           ED Visit   \n28321989                        2000000113                           ED Visit   \n\n         visit_start_datetime   visit_end_datetime  \\\n0         2022-01-25 00:00:00  2022-01-25 00:00:00   \n1         2022-01-25 00:00:00  2022-01-25 00:00:00   \n2         2022-01-25 00:00:00  2022-01-25 00:00:00   \n3         2022-02-22 00:00:00  2022-02-22 00:00:00   \n4         2022-02-22 00:00:00  2022-02-22 00:00:00   \n...                       ...                  ...   \n28321985  2022-10-03 00:00:00  2022-10-03 00:00:00   \n28321986  2022-10-03 00:00:00  2022-10-03 00:00:00   \n28321987  2018-12-19 14:21:00  2018-12-19 14:21:00   \n28321988  2018-12-19 14:21:00  2018-12-19 14:21:00   \n28321989  2019-12-30 15:25:00  2019-12-30 15:25:00   \n\n         xtn_inpatient_admission_datetime xtn_discharge_datetime  ...  \\\n0                                     NaN                    NaN  ...   \n1                                     NaN                    NaN  ...   \n2                                     NaN                    NaN  ...   \n3                                     NaN                    NaN  ...   \n4                                     NaN                    NaN  ...   \n...                                   ...                    ...  ...   \n28321985                              NaN                    NaN  ...   \n28321986                              NaN                    NaN  ...   \n28321987                              NaN    2018-12-19 16:12:00  ...   \n28321988                              NaN    2018-12-19 16:12:00  ...   \n28321989                              NaN    2019-12-31 02:26:00  ...   \n\n         xtn_five_digit_zip location_record_update_datetime  \\\n0                   11234.0         2022-08-25 01:53:08.583   \n1                   11234.0         2022-08-25 01:53:08.583   \n2                   11234.0         2022-08-25 01:53:08.583   \n3                   11234.0         2022-08-25 01:53:08.583   \n4                   11234.0         2022-08-25 01:53:08.583   \n...                     ...                             ...   \n28321985            10024.0         2022-10-04 02:08:59.403   \n28321986            10024.0         2022-10-04 02:08:59.403   \n28321987            11236.0         2021-11-07 08:57:05.270   \n28321988            11236.0         2021-11-07 08:57:05.270   \n28321989            11236.0         2021-11-07 08:57:05.270   \n\n              billing_condition      time_since_zip_update  merged_gender  \\\n0             Billing Diagnosis   212 days 01:53:08.583000         Female   \n1             Billing Diagnosis   212 days 01:53:08.583000         Female   \n2         Non-Billing Diagnosis   212 days 01:53:08.583000         Female   \n3             Billing Diagnosis   184 days 01:53:08.583000         Female   \n4             Billing Diagnosis   184 days 01:53:08.583000         Female   \n...                         ...                        ...            ...   \n28321985      Billing Diagnosis     1 days 02:08:59.403000         Female   \n28321986      Billing Diagnosis     1 days 02:08:59.403000         Female   \n28321987  Non-Billing Diagnosis  1053 days 18:36:05.270000         Female   \n28321988  Non-Billing Diagnosis  1053 days 18:36:05.270000         Female   \n28321989  Non-Billing Diagnosis   677 days 17:32:05.270000         Female   \n\n         insurance_payor_class_x  insured_status_x merged_race_ethnicity_v1  \\\n0          Medicaid Managed Care           Insured                    WHITE   \n1          Medicaid Managed Care           Insured                    WHITE   \n2          Medicaid Managed Care           Insured                    WHITE   \n3                            NaN               NaN                    WHITE   \n4                            NaN               NaN                    WHITE   \n...                          ...               ...                      ...   \n28321985                Self-Pay         Uninsured                    WHITE   \n28321986                Self-Pay         Uninsured                    WHITE   \n28321987                     NaN               NaN                      NaN   \n28321988                     NaN               NaN                      NaN   \n28321989                     NaN               NaN                      NaN   \n\n          merged_race_ethnicity_v2 psych_condition  \n0                            White               0  \n1                            White               0  \n2                            White               1  \n3                            White               0  \n4                            White               0  \n...                            ...             ...  \n28321985                     White               1  \n28321986                     White               1  \n28321987                       NaN               1  \n28321988                       NaN               0  \n28321989                       NaN               0  \n\n[28321990 rows x 37 columns]",
      "text/html": "<div>\n<style scoped>\n    .dataframe tbody tr th:only-of-type {\n        vertical-align: middle;\n    }\n\n    .dataframe tbody tr th {\n        vertical-align: top;\n    }\n\n    .dataframe thead th {\n        text-align: right;\n    }\n</style>\n<table border=\"1\" class=\"dataframe\">\n  <thead>\n    <tr style=\"text-align: right;\">\n      <th></th>\n      <th>person_id</th>\n      <th>visit_occurrence_id</th>\n      <th>etl_epic_encounter_key</th>\n      <th>xtn_department_name</th>\n      <th>xtn_visit_type_source_concept_id</th>\n      <th>xtn_visit_type_source_concept_code</th>\n      <th>visit_start_datetime</th>\n      <th>visit_end_datetime</th>\n      <th>xtn_inpatient_admission_datetime</th>\n      <th>xtn_discharge_datetime</th>\n      <th>...</th>\n      <th>xtn_five_digit_zip</th>\n      <th>location_record_update_datetime</th>\n      <th>billing_condition</th>\n      <th>time_since_zip_update</th>\n      <th>merged_gender</th>\n      <th>insurance_payor_class_x</th>\n      <th>insured_status_x</th>\n      <th>merged_race_ethnicity_v1</th>\n      <th>merged_race_ethnicity_v2</th>\n      <th>psych_condition</th>\n    </tr>\n  </thead>\n  <tbody>\n    <tr>\n      <th>0</th>\n      <td>845</td>\n      <td>172058493</td>\n      <td>285636709</td>\n      <td>10 UNION SQ E RESP</td>\n      <td>2000000112</td>\n      <td>Outpatient Visit</td>\n      <td>2022-01-25 00:00:00</td>\n      <td>2022-01-25 00:00:00</td>\n      <td>NaN</td>\n      <td>NaN</td>\n      <td>...</td>\n      <td>11234.0</td>\n      <td>2022-08-25 01:53:08.583</td>\n      <td>Billing Diagnosis</td>\n      <td>212 days 01:53:08.583000</td>\n      <td>Female</td>\n      <td>Medicaid Managed Care</td>\n      <td>Insured</td>\n      <td>WHITE</td>\n      <td>White</td>\n      <td>0</td>\n    </tr>\n    <tr>\n      <th>1</th>\n      <td>845</td>\n      <td>172058493</td>\n      <td>285636709</td>\n      <td>10 UNION SQ E RESP</td>\n      <td>2000000112</td>\n      <td>Outpatient Visit</td>\n      <td>2022-01-25 00:00:00</td>\n      <td>2022-01-25 00:00:00</td>\n      <td>NaN</td>\n      <td>NaN</td>\n      <td>...</td>\n      <td>11234.0</td>\n      <td>2022-08-25 01:53:08.583</td>\n      <td>Billing Diagnosis</td>\n      <td>212 days 01:53:08.583000</td>\n      <td>Female</td>\n      <td>Medicaid Managed Care</td>\n      <td>Insured</td>\n      <td>WHITE</td>\n      <td>White</td>\n      <td>0</td>\n    </tr>\n    <tr>\n      <th>2</th>\n      <td>845</td>\n      <td>172058493</td>\n      <td>285636709</td>\n      <td>10 UNION SQ E RESP</td>\n      <td>2000000112</td>\n      <td>Outpatient Visit</td>\n      <td>2022-01-25 00:00:00</td>\n      <td>2022-01-25 00:00:00</td>\n      <td>NaN</td>\n      <td>NaN</td>\n      <td>...</td>\n      <td>11234.0</td>\n      <td>2022-08-25 01:53:08.583</td>\n      <td>Non-Billing Diagnosis</td>\n      <td>212 days 01:53:08.583000</td>\n      <td>Female</td>\n      <td>Medicaid Managed Care</td>\n      <td>Insured</td>\n      <td>WHITE</td>\n      <td>White</td>\n      <td>1</td>\n    </tr>\n    <tr>\n      <th>3</th>\n      <td>845</td>\n      <td>185133868</td>\n      <td>291089587</td>\n      <td>10 UNION SQ PFT</td>\n      <td>2000000112</td>\n      <td>Outpatient Visit</td>\n      <td>2022-02-22 00:00:00</td>\n      <td>2022-02-22 00:00:00</td>\n      <td>NaN</td>\n      <td>NaN</td>\n      <td>...</td>\n      <td>11234.0</td>\n      <td>2022-08-25 01:53:08.583</td>\n      <td>Billing Diagnosis</td>\n      <td>184 days 01:53:08.583000</td>\n      <td>Female</td>\n      <td>NaN</td>\n      <td>NaN</td>\n      <td>WHITE</td>\n      <td>White</td>\n      <td>0</td>\n    </tr>\n    <tr>\n      <th>4</th>\n      <td>845</td>\n      <td>185133868</td>\n      <td>291089587</td>\n      <td>10 UNION SQ PFT</td>\n      <td>2000000112</td>\n      <td>Outpatient Visit</td>\n      <td>2022-02-22 00:00:00</td>\n      <td>2022-02-22 00:00:00</td>\n      <td>NaN</td>\n      <td>NaN</td>\n      <td>...</td>\n      <td>11234.0</td>\n      <td>2022-08-25 01:53:08.583</td>\n      <td>Billing Diagnosis</td>\n      <td>184 days 01:53:08.583000</td>\n      <td>Female</td>\n      <td>NaN</td>\n      <td>NaN</td>\n      <td>WHITE</td>\n      <td>White</td>\n      <td>0</td>\n    </tr>\n    <tr>\n      <th>...</th>\n      <td>...</td>\n      <td>...</td>\n      <td>...</td>\n      <td>...</td>\n      <td>...</td>\n      <td>...</td>\n      <td>...</td>\n      <td>...</td>\n      <td>...</td>\n      <td>...</td>\n      <td>...</td>\n      <td>...</td>\n      <td>...</td>\n      <td>...</td>\n      <td>...</td>\n      <td>...</td>\n      <td>...</td>\n      <td>...</td>\n      <td>...</td>\n      <td>...</td>\n      <td>...</td>\n    </tr>\n    <tr>\n      <th>28321985</th>\n      <td>15906895</td>\n      <td>200636137</td>\n      <td>310738382</td>\n      <td>19 E 98TH ST PSYCH</td>\n      <td>2000000101</td>\n      <td>Telehealth Visit</td>\n      <td>2022-10-03 00:00:00</td>\n      <td>2022-10-03 00:00:00</td>\n      <td>NaN</td>\n      <td>NaN</td>\n      <td>...</td>\n      <td>10024.0</td>\n      <td>2022-10-04 02:08:59.403</td>\n      <td>Billing Diagnosis</td>\n      <td>1 days 02:08:59.403000</td>\n      <td>Female</td>\n      <td>Self-Pay</td>\n      <td>Uninsured</td>\n      <td>WHITE</td>\n      <td>White</td>\n      <td>1</td>\n    </tr>\n    <tr>\n      <th>28321986</th>\n      <td>15906895</td>\n      <td>200636137</td>\n      <td>310738382</td>\n      <td>19 E 98TH ST PSYCH</td>\n      <td>2000000112</td>\n      <td>Outpatient Visit</td>\n      <td>2022-10-03 00:00:00</td>\n      <td>2022-10-03 00:00:00</td>\n      <td>NaN</td>\n      <td>NaN</td>\n      <td>...</td>\n      <td>10024.0</td>\n      <td>2022-10-04 02:08:59.403</td>\n      <td>Billing Diagnosis</td>\n      <td>1 days 02:08:59.403000</td>\n      <td>Female</td>\n      <td>Self-Pay</td>\n      <td>Uninsured</td>\n      <td>WHITE</td>\n      <td>White</td>\n      <td>1</td>\n    </tr>\n    <tr>\n      <th>28321987</th>\n      <td>15909331</td>\n      <td>63329267</td>\n      <td>88353760</td>\n      <td>X_EMERGENCY DEPT BI BROOKLYN_DEACTIVATED</td>\n      <td>2000000113</td>\n      <td>ED Visit</td>\n      <td>2018-12-19 14:21:00</td>\n      <td>2018-12-19 14:21:00</td>\n      <td>NaN</td>\n      <td>2018-12-19 16:12:00</td>\n      <td>...</td>\n      <td>11236.0</td>\n      <td>2021-11-07 08:57:05.270</td>\n      <td>Non-Billing Diagnosis</td>\n      <td>1053 days 18:36:05.270000</td>\n      <td>Female</td>\n      <td>NaN</td>\n      <td>NaN</td>\n      <td>NaN</td>\n      <td>NaN</td>\n      <td>1</td>\n    </tr>\n    <tr>\n      <th>28321988</th>\n      <td>15909331</td>\n      <td>63329267</td>\n      <td>88353760</td>\n      <td>X_EMERGENCY DEPT BI BROOKLYN_DEACTIVATED</td>\n      <td>2000000113</td>\n      <td>ED Visit</td>\n      <td>2018-12-19 14:21:00</td>\n      <td>2018-12-19 14:21:00</td>\n      <td>NaN</td>\n      <td>2018-12-19 16:12:00</td>\n      <td>...</td>\n      <td>11236.0</td>\n      <td>2021-11-07 08:57:05.270</td>\n      <td>Non-Billing Diagnosis</td>\n      <td>1053 days 18:36:05.270000</td>\n      <td>Female</td>\n      <td>NaN</td>\n      <td>NaN</td>\n      <td>NaN</td>\n      <td>NaN</td>\n      <td>0</td>\n    </tr>\n    <tr>\n      <th>28321989</th>\n      <td>15909331</td>\n      <td>63329279</td>\n      <td>105243072</td>\n      <td>X_EMERGENCY DEPT BI BROOKLYN_DEACTIVATED</td>\n      <td>2000000113</td>\n      <td>ED Visit</td>\n      <td>2019-12-30 15:25:00</td>\n      <td>2019-12-30 15:25:00</td>\n      <td>NaN</td>\n      <td>2019-12-31 02:26:00</td>\n      <td>...</td>\n      <td>11236.0</td>\n      <td>2021-11-07 08:57:05.270</td>\n      <td>Non-Billing Diagnosis</td>\n      <td>677 days 17:32:05.270000</td>\n      <td>Female</td>\n      <td>NaN</td>\n      <td>NaN</td>\n      <td>NaN</td>\n      <td>NaN</td>\n      <td>0</td>\n    </tr>\n  </tbody>\n</table>\n<p>28321990 rows × 37 columns</p>\n</div>"
     },
     "execution_count": 3,
     "metadata": {},
     "output_type": "execute_result"
    }
   ],
   "source": [
    "psych_encounters = pd.read_csv('../data/clean_psych_encounters_conditions_patients.csv')\n",
    "psych_encounters"
   ],
   "metadata": {
    "collapsed": false,
    "pycharm": {
     "name": "#%%\n"
    }
   }
  },
  {
   "cell_type": "code",
   "execution_count": 3,
   "outputs": [
    {
     "data": {
      "text/plain": "         person_id gender_source_concept_name  \\\n195          13851                       Male   \n513          39637                     Female   \n906          95223                     Female   \n992         113216                       Male   \n1287        168106                     Female   \n...            ...                        ...   \n8481614   15889420                       Male   \n8481741   15890391                     Female   \n8481807   15890780                     Female   \n8481949   15891821                     Female   \n8482514   15895696                       Male   \n\n        xtn_gender_identity_source_concept_name  \\\n195         Transgender Female / Male-to-Female   \n513                                        Male   \n906                                        Male   \n992                                  Non-binary   \n1287                                       Male   \n...                                         ...   \n8481614                                  Female   \n8481741       Transgender Male / Female-to-Male   \n8481807                              Non-binary   \n8481949       Transgender Male / Female-to-Male   \n8482514                                  Female   \n\n                               merged_gender  \\\n195      Transgender Female / Male-to-Female   \n513                                     Male   \n906                                     Male   \n992                               Non-binary   \n1287                                    Male   \n...                                      ...   \n8481614                               Female   \n8481741    Transgender Male / Female-to-Male   \n8481807                           Non-binary   \n8481949    Transgender Male / Female-to-Male   \n8482514                               Female   \n\n        xtn_sexual_orientation_source_concept_name  \n195                                            NaN  \n513                                            NaN  \n906                                            NaN  \n992                                            NaN  \n1287                                         Queer  \n...                                            ...  \n8481614              Straight (not lesbian or gay)  \n8481741                                        NaN  \n8481807                                        NaN  \n8481949                                      Queer  \n8482514                             Lesbian or Gay  \n\n[6507 rows x 5 columns]",
      "text/html": "<div>\n<style scoped>\n    .dataframe tbody tr th:only-of-type {\n        vertical-align: middle;\n    }\n\n    .dataframe tbody tr th {\n        vertical-align: top;\n    }\n\n    .dataframe thead th {\n        text-align: right;\n    }\n</style>\n<table border=\"1\" class=\"dataframe\">\n  <thead>\n    <tr style=\"text-align: right;\">\n      <th></th>\n      <th>person_id</th>\n      <th>gender_source_concept_name</th>\n      <th>xtn_gender_identity_source_concept_name</th>\n      <th>merged_gender</th>\n      <th>xtn_sexual_orientation_source_concept_name</th>\n    </tr>\n  </thead>\n  <tbody>\n    <tr>\n      <th>195</th>\n      <td>13851</td>\n      <td>Male</td>\n      <td>Transgender Female / Male-to-Female</td>\n      <td>Transgender Female / Male-to-Female</td>\n      <td>NaN</td>\n    </tr>\n    <tr>\n      <th>513</th>\n      <td>39637</td>\n      <td>Female</td>\n      <td>Male</td>\n      <td>Male</td>\n      <td>NaN</td>\n    </tr>\n    <tr>\n      <th>906</th>\n      <td>95223</td>\n      <td>Female</td>\n      <td>Male</td>\n      <td>Male</td>\n      <td>NaN</td>\n    </tr>\n    <tr>\n      <th>992</th>\n      <td>113216</td>\n      <td>Male</td>\n      <td>Non-binary</td>\n      <td>Non-binary</td>\n      <td>NaN</td>\n    </tr>\n    <tr>\n      <th>1287</th>\n      <td>168106</td>\n      <td>Female</td>\n      <td>Male</td>\n      <td>Male</td>\n      <td>Queer</td>\n    </tr>\n    <tr>\n      <th>...</th>\n      <td>...</td>\n      <td>...</td>\n      <td>...</td>\n      <td>...</td>\n      <td>...</td>\n    </tr>\n    <tr>\n      <th>8481614</th>\n      <td>15889420</td>\n      <td>Male</td>\n      <td>Female</td>\n      <td>Female</td>\n      <td>Straight (not lesbian or gay)</td>\n    </tr>\n    <tr>\n      <th>8481741</th>\n      <td>15890391</td>\n      <td>Female</td>\n      <td>Transgender Male / Female-to-Male</td>\n      <td>Transgender Male / Female-to-Male</td>\n      <td>NaN</td>\n    </tr>\n    <tr>\n      <th>8481807</th>\n      <td>15890780</td>\n      <td>Female</td>\n      <td>Non-binary</td>\n      <td>Non-binary</td>\n      <td>NaN</td>\n    </tr>\n    <tr>\n      <th>8481949</th>\n      <td>15891821</td>\n      <td>Female</td>\n      <td>Transgender Male / Female-to-Male</td>\n      <td>Transgender Male / Female-to-Male</td>\n      <td>Queer</td>\n    </tr>\n    <tr>\n      <th>8482514</th>\n      <td>15895696</td>\n      <td>Male</td>\n      <td>Female</td>\n      <td>Female</td>\n      <td>Lesbian or Gay</td>\n    </tr>\n  </tbody>\n</table>\n<p>6507 rows × 5 columns</p>\n</div>"
     },
     "execution_count": 3,
     "metadata": {},
     "output_type": "execute_result"
    }
   ],
   "source": [
    "checking_gender = psych_encounters.dropna(axis = 0, subset=['gender_source_concept_name', 'xtn_gender_identity_source_concept_name'])\n",
    "checking_gender = checking_gender.loc[checking_gender['gender_source_concept_name'] != checking_gender['xtn_gender_identity_source_concept_name']]\n",
    "checking_gender = checking_gender.drop_duplicates(subset=['person_id', 'gender_source_concept_name', 'xtn_gender_identity_source_concept_name', 'merged_gender'])\n",
    "checking_gender = checking_gender[['person_id', 'gender_source_concept_name', 'xtn_gender_identity_source_concept_name', 'merged_gender', 'xtn_sexual_orientation_source_concept_name']]\n",
    "checking_gender"
   ],
   "metadata": {
    "collapsed": false,
    "pycharm": {
     "name": "#%%\n"
    }
   }
  },
  {
   "cell_type": "code",
   "execution_count": 38,
   "outputs": [
    {
     "data": {
      "text/plain": "          person_id  visit_occurrence_id etl_epic_encounter_key  \\\n0               845            172058493              285636709   \n1               845            172058493              285636709   \n2               845            172058493              285636709   \n3               845            185133868              291089587   \n4               845            185133868              291089587   \n...             ...                  ...                    ...   \n28326236   15906895            200636137              310738382   \n28326237   15906895            200636137              310738382   \n28326238   15909331             63329267               88353760   \n28326239   15909331             63329267               88353760   \n28326240   15909331             63329279              105243072   \n\n                               xtn_department_name  \\\n0                               10 UNION SQ E RESP   \n1                               10 UNION SQ E RESP   \n2                               10 UNION SQ E RESP   \n3                                  10 UNION SQ PFT   \n4                                  10 UNION SQ PFT   \n...                                            ...   \n28326236                        19 E 98TH ST PSYCH   \n28326237                        19 E 98TH ST PSYCH   \n28326238  X_EMERGENCY DEPT BI BROOKLYN_DEACTIVATED   \n28326239  X_EMERGENCY DEPT BI BROOKLYN_DEACTIVATED   \n28326240  X_EMERGENCY DEPT BI BROOKLYN_DEACTIVATED   \n\n          xtn_visit_type_source_concept_id xtn_visit_type_source_concept_code  \\\n0                               2000000112                   Outpatient Visit   \n1                               2000000112                   Outpatient Visit   \n2                               2000000112                   Outpatient Visit   \n3                               2000000112                   Outpatient Visit   \n4                               2000000112                   Outpatient Visit   \n...                                    ...                                ...   \n28326236                        2000000101                   Telehealth Visit   \n28326237                        2000000112                   Outpatient Visit   \n28326238                        2000000113                           ED Visit   \n28326239                        2000000113                           ED Visit   \n28326240                        2000000113                           ED Visit   \n\n         visit_start_datetime   visit_end_datetime xtn_patient_epic_mrn  \\\n0         2022-01-25 00:00:00  2022-01-25 00:00:00              3754282   \n1         2022-01-25 00:00:00  2022-01-25 00:00:00              3754282   \n2         2022-01-25 00:00:00  2022-01-25 00:00:00              3754282   \n3         2022-02-22 00:00:00  2022-02-22 00:00:00              3754282   \n4         2022-02-22 00:00:00  2022-02-22 00:00:00              3754282   \n...                       ...                  ...                  ...   \n28326236  2022-10-03 00:00:00  2022-10-03 00:00:00              F801514   \n28326237  2022-10-03 00:00:00  2022-10-03 00:00:00              F801514   \n28326238  2018-12-19 14:21:00  2018-12-19 14:21:00              F805539   \n28326239  2018-12-19 14:21:00  2018-12-19 14:21:00              F805539   \n28326240  2019-12-30 15:25:00  2019-12-30 15:25:00              F805539   \n\n         xtn_birth_date  ... condition_concept_code  \\\n0            1974-09-28  ...              193462001   \n1            1974-09-28  ...          1101000119103   \n2            1974-09-28  ...               78275009   \n3            1974-09-28  ...              193462001   \n4            1974-09-28  ...          1101000119103   \n...                 ...  ...                    ...   \n28326236     2013-04-15  ...              430909002   \n28326237     2013-04-15  ...              430909002   \n28326238     1989-07-24  ...              198288003   \n28326239     1989-07-24  ...              281794004   \n28326240     1989-07-24  ...               14760008   \n\n                           condition_concept_name  condition_start_datetime  \\\n0                                        Insomnia                2022-01-25   \n1                Obstructive sleep apnea of adult                2022-01-25   \n2                Obstructive sleep apnea syndrome                2022-01-25   \n3                                        Insomnia                2022-02-22   \n4                Obstructive sleep apnea of adult                2022-02-22   \n...                                           ...                       ...   \n28326236                         Conduct disorder                2022-10-03   \n28326237                         Conduct disorder                2022-10-03   \n28326238                            Anxiety state                2018-12-19   \n28326239  Viral upper respiratory tract infection                2018-12-19   \n28326240                             Constipation                2019-12-30   \n\n         xtn_five_digit_zip      billing_condition merged_gender  \\\n0                   11234.0      Billing Diagnosis        Female   \n1                   11234.0      Billing Diagnosis        Female   \n2                   11234.0  Non-Billing Diagnosis        Female   \n3                   11234.0      Billing Diagnosis        Female   \n4                   11234.0      Billing Diagnosis        Female   \n...                     ...                    ...           ...   \n28326236            10024.0      Billing Diagnosis        Female   \n28326237            10024.0      Billing Diagnosis        Female   \n28326238            11236.0  Non-Billing Diagnosis        Female   \n28326239            11236.0  Non-Billing Diagnosis        Female   \n28326240            11236.0  Non-Billing Diagnosis        Female   \n\n          merged_race_ethnicity_v2 psych_condition    insurance_payor_class  \\\n0                            White               0    Medicaid Managed Care   \n1                            White               0    Medicaid Managed Care   \n2                            White               1    Medicaid Managed Care   \n3                            White               0    Medicaid Managed Care   \n4                            White               0    Medicaid Managed Care   \n...                            ...             ...                      ...   \n28326236                     White               1                 Self-Pay   \n28326237                     White               1                 Self-Pay   \n28326238                       NaN               1  Commercial/Managed Care   \n28326239                       NaN               0  Commercial/Managed Care   \n28326240                       NaN               0                 Self-Pay   \n\n         insurance_status  \n0                  Public  \n1                  Public  \n2                  Public  \n3                  Public  \n4                  Public  \n...                   ...  \n28326236         Self-pay  \n28326237         Self-pay  \n28326238          Private  \n28326239          Private  \n28326240         Self-pay  \n\n[28326241 rows x 32 columns]",
      "text/html": "<div>\n<style scoped>\n    .dataframe tbody tr th:only-of-type {\n        vertical-align: middle;\n    }\n\n    .dataframe tbody tr th {\n        vertical-align: top;\n    }\n\n    .dataframe thead th {\n        text-align: right;\n    }\n</style>\n<table border=\"1\" class=\"dataframe\">\n  <thead>\n    <tr style=\"text-align: right;\">\n      <th></th>\n      <th>person_id</th>\n      <th>visit_occurrence_id</th>\n      <th>etl_epic_encounter_key</th>\n      <th>xtn_department_name</th>\n      <th>xtn_visit_type_source_concept_id</th>\n      <th>xtn_visit_type_source_concept_code</th>\n      <th>visit_start_datetime</th>\n      <th>visit_end_datetime</th>\n      <th>xtn_patient_epic_mrn</th>\n      <th>xtn_birth_date</th>\n      <th>...</th>\n      <th>condition_concept_code</th>\n      <th>condition_concept_name</th>\n      <th>condition_start_datetime</th>\n      <th>xtn_five_digit_zip</th>\n      <th>billing_condition</th>\n      <th>merged_gender</th>\n      <th>merged_race_ethnicity_v2</th>\n      <th>psych_condition</th>\n      <th>insurance_payor_class</th>\n      <th>insurance_status</th>\n    </tr>\n  </thead>\n  <tbody>\n    <tr>\n      <th>0</th>\n      <td>845</td>\n      <td>172058493</td>\n      <td>285636709</td>\n      <td>10 UNION SQ E RESP</td>\n      <td>2000000112</td>\n      <td>Outpatient Visit</td>\n      <td>2022-01-25 00:00:00</td>\n      <td>2022-01-25 00:00:00</td>\n      <td>3754282</td>\n      <td>1974-09-28</td>\n      <td>...</td>\n      <td>193462001</td>\n      <td>Insomnia</td>\n      <td>2022-01-25</td>\n      <td>11234.0</td>\n      <td>Billing Diagnosis</td>\n      <td>Female</td>\n      <td>White</td>\n      <td>0</td>\n      <td>Medicaid Managed Care</td>\n      <td>Public</td>\n    </tr>\n    <tr>\n      <th>1</th>\n      <td>845</td>\n      <td>172058493</td>\n      <td>285636709</td>\n      <td>10 UNION SQ E RESP</td>\n      <td>2000000112</td>\n      <td>Outpatient Visit</td>\n      <td>2022-01-25 00:00:00</td>\n      <td>2022-01-25 00:00:00</td>\n      <td>3754282</td>\n      <td>1974-09-28</td>\n      <td>...</td>\n      <td>1101000119103</td>\n      <td>Obstructive sleep apnea of adult</td>\n      <td>2022-01-25</td>\n      <td>11234.0</td>\n      <td>Billing Diagnosis</td>\n      <td>Female</td>\n      <td>White</td>\n      <td>0</td>\n      <td>Medicaid Managed Care</td>\n      <td>Public</td>\n    </tr>\n    <tr>\n      <th>2</th>\n      <td>845</td>\n      <td>172058493</td>\n      <td>285636709</td>\n      <td>10 UNION SQ E RESP</td>\n      <td>2000000112</td>\n      <td>Outpatient Visit</td>\n      <td>2022-01-25 00:00:00</td>\n      <td>2022-01-25 00:00:00</td>\n      <td>3754282</td>\n      <td>1974-09-28</td>\n      <td>...</td>\n      <td>78275009</td>\n      <td>Obstructive sleep apnea syndrome</td>\n      <td>2022-01-25</td>\n      <td>11234.0</td>\n      <td>Non-Billing Diagnosis</td>\n      <td>Female</td>\n      <td>White</td>\n      <td>1</td>\n      <td>Medicaid Managed Care</td>\n      <td>Public</td>\n    </tr>\n    <tr>\n      <th>3</th>\n      <td>845</td>\n      <td>185133868</td>\n      <td>291089587</td>\n      <td>10 UNION SQ PFT</td>\n      <td>2000000112</td>\n      <td>Outpatient Visit</td>\n      <td>2022-02-22 00:00:00</td>\n      <td>2022-02-22 00:00:00</td>\n      <td>3754282</td>\n      <td>1974-09-28</td>\n      <td>...</td>\n      <td>193462001</td>\n      <td>Insomnia</td>\n      <td>2022-02-22</td>\n      <td>11234.0</td>\n      <td>Billing Diagnosis</td>\n      <td>Female</td>\n      <td>White</td>\n      <td>0</td>\n      <td>Medicaid Managed Care</td>\n      <td>Public</td>\n    </tr>\n    <tr>\n      <th>4</th>\n      <td>845</td>\n      <td>185133868</td>\n      <td>291089587</td>\n      <td>10 UNION SQ PFT</td>\n      <td>2000000112</td>\n      <td>Outpatient Visit</td>\n      <td>2022-02-22 00:00:00</td>\n      <td>2022-02-22 00:00:00</td>\n      <td>3754282</td>\n      <td>1974-09-28</td>\n      <td>...</td>\n      <td>1101000119103</td>\n      <td>Obstructive sleep apnea of adult</td>\n      <td>2022-02-22</td>\n      <td>11234.0</td>\n      <td>Billing Diagnosis</td>\n      <td>Female</td>\n      <td>White</td>\n      <td>0</td>\n      <td>Medicaid Managed Care</td>\n      <td>Public</td>\n    </tr>\n    <tr>\n      <th>...</th>\n      <td>...</td>\n      <td>...</td>\n      <td>...</td>\n      <td>...</td>\n      <td>...</td>\n      <td>...</td>\n      <td>...</td>\n      <td>...</td>\n      <td>...</td>\n      <td>...</td>\n      <td>...</td>\n      <td>...</td>\n      <td>...</td>\n      <td>...</td>\n      <td>...</td>\n      <td>...</td>\n      <td>...</td>\n      <td>...</td>\n      <td>...</td>\n      <td>...</td>\n      <td>...</td>\n    </tr>\n    <tr>\n      <th>28326236</th>\n      <td>15906895</td>\n      <td>200636137</td>\n      <td>310738382</td>\n      <td>19 E 98TH ST PSYCH</td>\n      <td>2000000101</td>\n      <td>Telehealth Visit</td>\n      <td>2022-10-03 00:00:00</td>\n      <td>2022-10-03 00:00:00</td>\n      <td>F801514</td>\n      <td>2013-04-15</td>\n      <td>...</td>\n      <td>430909002</td>\n      <td>Conduct disorder</td>\n      <td>2022-10-03</td>\n      <td>10024.0</td>\n      <td>Billing Diagnosis</td>\n      <td>Female</td>\n      <td>White</td>\n      <td>1</td>\n      <td>Self-Pay</td>\n      <td>Self-pay</td>\n    </tr>\n    <tr>\n      <th>28326237</th>\n      <td>15906895</td>\n      <td>200636137</td>\n      <td>310738382</td>\n      <td>19 E 98TH ST PSYCH</td>\n      <td>2000000112</td>\n      <td>Outpatient Visit</td>\n      <td>2022-10-03 00:00:00</td>\n      <td>2022-10-03 00:00:00</td>\n      <td>F801514</td>\n      <td>2013-04-15</td>\n      <td>...</td>\n      <td>430909002</td>\n      <td>Conduct disorder</td>\n      <td>2022-10-03</td>\n      <td>10024.0</td>\n      <td>Billing Diagnosis</td>\n      <td>Female</td>\n      <td>White</td>\n      <td>1</td>\n      <td>Self-Pay</td>\n      <td>Self-pay</td>\n    </tr>\n    <tr>\n      <th>28326238</th>\n      <td>15909331</td>\n      <td>63329267</td>\n      <td>88353760</td>\n      <td>X_EMERGENCY DEPT BI BROOKLYN_DEACTIVATED</td>\n      <td>2000000113</td>\n      <td>ED Visit</td>\n      <td>2018-12-19 14:21:00</td>\n      <td>2018-12-19 14:21:00</td>\n      <td>F805539</td>\n      <td>1989-07-24</td>\n      <td>...</td>\n      <td>198288003</td>\n      <td>Anxiety state</td>\n      <td>2018-12-19</td>\n      <td>11236.0</td>\n      <td>Non-Billing Diagnosis</td>\n      <td>Female</td>\n      <td>NaN</td>\n      <td>1</td>\n      <td>Commercial/Managed Care</td>\n      <td>Private</td>\n    </tr>\n    <tr>\n      <th>28326239</th>\n      <td>15909331</td>\n      <td>63329267</td>\n      <td>88353760</td>\n      <td>X_EMERGENCY DEPT BI BROOKLYN_DEACTIVATED</td>\n      <td>2000000113</td>\n      <td>ED Visit</td>\n      <td>2018-12-19 14:21:00</td>\n      <td>2018-12-19 14:21:00</td>\n      <td>F805539</td>\n      <td>1989-07-24</td>\n      <td>...</td>\n      <td>281794004</td>\n      <td>Viral upper respiratory tract infection</td>\n      <td>2018-12-19</td>\n      <td>11236.0</td>\n      <td>Non-Billing Diagnosis</td>\n      <td>Female</td>\n      <td>NaN</td>\n      <td>0</td>\n      <td>Commercial/Managed Care</td>\n      <td>Private</td>\n    </tr>\n    <tr>\n      <th>28326240</th>\n      <td>15909331</td>\n      <td>63329279</td>\n      <td>105243072</td>\n      <td>X_EMERGENCY DEPT BI BROOKLYN_DEACTIVATED</td>\n      <td>2000000113</td>\n      <td>ED Visit</td>\n      <td>2019-12-30 15:25:00</td>\n      <td>2019-12-30 15:25:00</td>\n      <td>F805539</td>\n      <td>1989-07-24</td>\n      <td>...</td>\n      <td>14760008</td>\n      <td>Constipation</td>\n      <td>2019-12-30</td>\n      <td>11236.0</td>\n      <td>Non-Billing Diagnosis</td>\n      <td>Female</td>\n      <td>NaN</td>\n      <td>0</td>\n      <td>Self-Pay</td>\n      <td>Self-pay</td>\n    </tr>\n  </tbody>\n</table>\n<p>28326241 rows × 32 columns</p>\n</div>"
     },
     "execution_count": 38,
     "metadata": {},
     "output_type": "execute_result"
    }
   ],
   "source": [
    "# import math\n",
    "# renaming insurance payor values\n",
    "def insurance_names(row): # WTC,\n",
    "    if search('dicare|dicaid|WTC', str(row)):\n",
    "        return 'Public'\n",
    "    if search('Self', str(row)):\n",
    "        return 'Self-pay'\n",
    "    if pd.isna(row):\n",
    "        return 'NaN'\n",
    "    else:\n",
    "        return 'Private'\n",
    "\n",
    "everything['insurance_status'] = everything['insurance_payor_class'].apply(insurance_names)\n",
    "everything"
   ],
   "metadata": {
    "collapsed": false,
    "pycharm": {
     "name": "#%%\n"
    }
   }
  },
  {
   "cell_type": "code",
   "execution_count": 7,
   "outputs": [
    {
     "data": {
      "text/plain": "Self-pay    11031803\nPublic      10865554\nPrivate      6216742\nNaN           212142\nName: insurance_status, dtype: int64"
     },
     "execution_count": 7,
     "metadata": {},
     "output_type": "execute_result"
    }
   ],
   "source": [
    "# psych_encounters.head(200)\n",
    "# everything.replace('*Unspecified', 'NaN')\n",
    "all_encounters.insurance_status.value_counts(dropna=False)"
   ],
   "metadata": {
    "collapsed": false,
    "pycharm": {
     "name": "#%%\n"
    }
   }
  },
  {
   "cell_type": "code",
   "execution_count": 10,
   "outputs": [
    {
     "data": {
      "text/plain": "          person_id xtn_patient_epic_mrn  visit_occurrence_id  \\\n5805         417194              4093792            197232273   \n11932        501856              8155832            165735466   \n11936        501856              8155832            165811527   \n28116        612988              6836009            186287758   \n40687        617308              1158593             79082629   \n...             ...                  ...                  ...   \n28324402   15890360              F787518            200063121   \n28325006   15893414              F790462            200171316   \n28325223   15895244              F792080            200236582   \n28325850   15901612              F795935            200518759   \n28326138   15904775              F798166            200406297   \n\n          etl_epic_encounter_key  \n5805                   302254463  \n11932                  275308185  \n11936                  275400221  \n28116                   57523938  \n40687                   60122918  \n...                          ...  \n28324402               309771971  \n28325006               309956343  \n28325223               310051542  \n28325850               310299378  \n28326138               310460801  \n\n[81330 rows x 4 columns]",
      "text/html": "<div>\n<style scoped>\n    .dataframe tbody tr th:only-of-type {\n        vertical-align: middle;\n    }\n\n    .dataframe tbody tr th {\n        vertical-align: top;\n    }\n\n    .dataframe thead th {\n        text-align: right;\n    }\n</style>\n<table border=\"1\" class=\"dataframe\">\n  <thead>\n    <tr style=\"text-align: right;\">\n      <th></th>\n      <th>person_id</th>\n      <th>xtn_patient_epic_mrn</th>\n      <th>visit_occurrence_id</th>\n      <th>etl_epic_encounter_key</th>\n    </tr>\n  </thead>\n  <tbody>\n    <tr>\n      <th>5805</th>\n      <td>417194</td>\n      <td>4093792</td>\n      <td>197232273</td>\n      <td>302254463</td>\n    </tr>\n    <tr>\n      <th>11932</th>\n      <td>501856</td>\n      <td>8155832</td>\n      <td>165735466</td>\n      <td>275308185</td>\n    </tr>\n    <tr>\n      <th>11936</th>\n      <td>501856</td>\n      <td>8155832</td>\n      <td>165811527</td>\n      <td>275400221</td>\n    </tr>\n    <tr>\n      <th>28116</th>\n      <td>612988</td>\n      <td>6836009</td>\n      <td>186287758</td>\n      <td>57523938</td>\n    </tr>\n    <tr>\n      <th>40687</th>\n      <td>617308</td>\n      <td>1158593</td>\n      <td>79082629</td>\n      <td>60122918</td>\n    </tr>\n    <tr>\n      <th>...</th>\n      <td>...</td>\n      <td>...</td>\n      <td>...</td>\n      <td>...</td>\n    </tr>\n    <tr>\n      <th>28324402</th>\n      <td>15890360</td>\n      <td>F787518</td>\n      <td>200063121</td>\n      <td>309771971</td>\n    </tr>\n    <tr>\n      <th>28325006</th>\n      <td>15893414</td>\n      <td>F790462</td>\n      <td>200171316</td>\n      <td>309956343</td>\n    </tr>\n    <tr>\n      <th>28325223</th>\n      <td>15895244</td>\n      <td>F792080</td>\n      <td>200236582</td>\n      <td>310051542</td>\n    </tr>\n    <tr>\n      <th>28325850</th>\n      <td>15901612</td>\n      <td>F795935</td>\n      <td>200518759</td>\n      <td>310299378</td>\n    </tr>\n    <tr>\n      <th>28326138</th>\n      <td>15904775</td>\n      <td>F798166</td>\n      <td>200406297</td>\n      <td>310460801</td>\n    </tr>\n  </tbody>\n</table>\n<p>81330 rows × 4 columns</p>\n</div>"
     },
     "execution_count": 10,
     "metadata": {},
     "output_type": "execute_result"
    }
   ],
   "source": [
    "missing_insurance = all_encounters[all_encounters['insurance_payor_class'].isna()]\n",
    "missing_insurance = missing_insurance[['person_id','xtn_patient_epic_mrn', 'visit_occurrence_id', 'etl_epic_encounter_key']].drop_duplicates()\n",
    "missing_insurance"
   ],
   "metadata": {
    "collapsed": false,
    "pycharm": {
     "name": "#%%\n"
    }
   }
  },
  {
   "cell_type": "code",
   "execution_count": 11,
   "outputs": [],
   "source": [
    "pd.DataFrame.to_csv(missing_insurance, \"../data/missing_insurance.csv\",index = True)"
   ],
   "metadata": {
    "collapsed": false,
    "pycharm": {
     "name": "#%%\n"
    }
   }
  },
  {
   "cell_type": "code",
   "execution_count": 55,
   "outputs": [
    {
     "name": "stderr",
     "output_type": "stream",
     "text": [
      "/var/folders/xm/m4dy5bvs1fn7fb9wxjhsg4dc0000gn/T/ipykernel_6367/2861663421.py:3: UserWarning: DataFrame columns are not unique, some columns will be omitted.\n",
      "  mapping_d = map.set_index('referencedComponentName').T.to_dict('list')\n"
     ]
    },
    {
     "data": {
      "text/plain": "['F52.32', 'Male orgasmic disorder']"
     },
     "execution_count": 55,
     "metadata": {},
     "output_type": "execute_result"
    }
   ],
   "source": [
    "map = pd.read_csv(\"/Users/valena17/DataGripProjects/msdw2/psych_diagnoses/snomed_icd_map.csv\")\n",
    "map = map[['referencedComponentName', 'mapTarget', 'mapTargetName']]\n",
    "mapping_d = map.set_index('referencedComponentName').T.to_dict('list')\n",
    "mapping_d['Failure of orgasm']"
   ],
   "metadata": {
    "collapsed": false,
    "pycharm": {
     "name": "#%%\n"
    }
   }
  },
  {
   "cell_type": "code",
   "execution_count": 85,
   "outputs": [
    {
     "data": {
      "text/plain": "billing_condition      ICD_hierarchy  insured_status_x\nBilling Diagnosis      F01.5          Insured             2357\n                                      Uninsured             48\n                       F02.8          Insured             5584\n                                      Uninsured            128\n                       F03.9          Insured             5762\n                                                          ... \nNon-Billing Diagnosis  F98.5          Uninsured             38\n                       F98.9          Insured               12\n                                      Uninsured             45\n                       F99            Insured              312\n                                      Uninsured            575\nName: person_id, Length: 663, dtype: int64"
     },
     "execution_count": 85,
     "metadata": {},
     "output_type": "execute_result"
    }
   ],
   "source": [
    "import seaborn as sns\n",
    "import matplotlib.pyplot as plt\n",
    "g = psych_encounters.groupby(['billing_condition','ICD_hierarchy','insured_status_x'])\n",
    "condition_cnt = g.person_id.nunique() #.sort_values(by=['time_since_zip_update', 'visit_occurrence_id'],ascending=[True, True]\n",
    "condition_cnt"
   ],
   "metadata": {
    "collapsed": false,
    "pycharm": {
     "name": "#%%\n"
    }
   }
  },
  {
   "cell_type": "code",
   "execution_count": 45,
   "outputs": [
    {
     "data": {
      "text/plain": "person_id\n845         [845, 0.0, 0.0, 0.0, 0.0, 0.0, 0.0, 0.0, 0.0, ...\n913         [913, 0.0, 0.0, 0.0, 0.0, 0.0, 0.0, 0.0, 0.0, ...\n1081        [1081, 0.0, 0.0, 0.0, 0.0, 0.0, 0.0, 0.0, 0.0,...\n1256        [1256, 0.0, 0.0, 0.0, 0.0, 0.0, 0.0, 0.0, 0.0,...\n1351        [1351, 0.0, 0.0, 0.0, 0.0, 0.0, 0.0, 0.0, 0.0,...\n                                  ...                        \n15906752    [15906752, 0.0, 0.0, 0.0, 0.0, 0.0, 0.0, 0.0, ...\n15906832    [15906832, 0.0, 0.0, 0.0, 0.0, 0.0, 1.0, 0.0, ...\n15906880    [15906880, 0.0, 0.0, 0.0, 0.0, 0.0, 0.0, 0.0, ...\n15906895    [15906895, 0.0, 0.0, 0.0, 0.0, 0.0, 0.0, 0.0, ...\n15909331    [15909331, 0.0, 0.0, 0.0, 0.0, 0.0, 0.0, 0.0, ...\nLength: 466692, dtype: object"
     },
     "execution_count": 45,
     "metadata": {},
     "output_type": "execute_result"
    }
   ],
   "source": [
    "# this makes condition matrix with more broad CCSR code hierarchy with no decimal place\n",
    "CCSR = set(all_encounters.CCSR_code)\n",
    "\n",
    "def count_conditions(group):\n",
    "    total_c = group['condition_concept_name'].count()\n",
    "    # total_p_c = group['ICD_code'].count()\n",
    "    c_counts = list()\n",
    "    c_counts.append(group.name)\n",
    "    for code in CCSR:\n",
    "        p_count = group[group.CCSR_code == code].shape[0] # group['ICD_code'].value_counts()[psych_code]\n",
    "        c_counts.append(float(p_count/total_c))\n",
    "    return c_counts\n",
    "\n",
    "condition_count_matrix_CCSR= all_encounters.groupby('person_id').apply(lambda group: count_conditions(group))\n",
    "pd.DataFrame.to_csv(condition_count_matrix_CCSR, \"../data/all_encounters_condition_count_matrix_CCSR.csv\",index = False)\n",
    "condition_count_matrix_CCSR"
   ],
   "metadata": {
    "collapsed": false,
    "pycharm": {
     "name": "#%%\n"
    }
   }
  },
  {
   "cell_type": "code",
   "execution_count": 4,
   "outputs": [
    {
     "data": {
      "text/plain": "person_id\n845         [845, 0.0, 0.0, 0.0, 0.0, 0.0, 0.0, 0.0, 0.0, ...\n913         [913, 0.0, 0.0, 0.0, 0.0, 0.0, 0.0, 0.0, 0.0, ...\n1081        [1081, 0.0, 0.0, 0.0, 0.0, 0.0, 0.0, 0.0, 0.0,...\n1256        [1256, 0.0, 0.0, 0.0, 0.0, 0.0, 0.0, 0.0, 0.0,...\n1351        [1351, 0.0, 0.0, 0.0, 0.0, 0.0, 0.0, 0.0, 0.0,...\n                                  ...                        \n15906752    [15906752, 0.0, 0.0, 0.0, 0.0, 0.0, 0.0, 0.0, ...\n15906832    [15906832, 0.0, 0.0, 0.0, 0.0, 0.0, 0.0, 0.0, ...\n15906880    [15906880, 0.0, 0.0, 0.0, 0.0, 0.0, 0.0, 0.0, ...\n15906895    [15906895, 0.0, 0.0, 0.0, 0.0, 0.0, 0.0, 0.0, ...\n15909331    [15909331, 0.0, 0.0, 0.0, 0.0, 0.0, 0.0, 0.0, ...\nLength: 466692, dtype: object"
     },
     "execution_count": 4,
     "metadata": {},
     "output_type": "execute_result"
    }
   ],
   "source": [
    "## this makes condition matrix with more specific ICD code hierarchy with one decimal place\n",
    "ICD = set(all_encounters.ICD_code_h)\n",
    "\n",
    "def count_conditions(group):\n",
    "    total_c = group['condition_concept_name'].count()\n",
    "    # total_p_c = group['ICD_code'].count()\n",
    "    c_counts = list()\n",
    "    c_counts.append(group.name)\n",
    "    for code in ICD:\n",
    "        p_count = group[group.ICD_code_h == code].shape[0] # group['ICD_code'].value_counts()[psych_code]\n",
    "        c_counts.append(float(p_count/total_c))\n",
    "    return c_counts\n",
    "\n",
    "condition_count_matrix_ICD= all_encounters.groupby('person_id').apply(lambda group: count_conditions(group))\n",
    "pd.DataFrame.to_csv(condition_count_matrix_ICD, \"../data/all_encounters_condition_count_matrix_ICD.csv\",index = False)\n",
    "condition_count_matrix_ICD"
   ],
   "metadata": {
    "collapsed": false,
    "pycharm": {
     "name": "#%%\n"
    }
   }
  },
  {
   "cell_type": "code",
   "execution_count": 9,
   "outputs": [],
   "source": [
    "condition_count_matrix_CCSR = pd.read_csv(\"../data/all_encounters_condition_count_matrix_CCSR.csv\")\n",
    "condition_count_matrix_ICD = pd.read_csv(\"../data/all_encounters_condition_count_matrix_ICD.csv\")"
   ],
   "metadata": {
    "collapsed": false,
    "pycharm": {
     "name": "#%%\n"
    }
   }
  },
  {
   "cell_type": "code",
   "execution_count": 48,
   "outputs": [
    {
     "name": "stdout",
     "output_type": "stream",
     "text": [
      "  Alcohol-related disorders Anxiety and fear-related disorders  \\\n",
      "0                       0.0                           0.000000   \n",
      "1                       0.0                           0.028571   \n",
      "2                       0.0                           0.142857   \n",
      "3                       0.0                           0.000000   \n",
      "4                       0.0                           0.000000   \n",
      "5                       0.0                           0.200000   \n",
      "6                       0.0                           0.000000   \n",
      "7                       0.0                           0.000000   \n",
      "8                       0.0                           0.000000   \n",
      "9                       0.0                           0.000000   \n",
      "\n",
      "  Bipolar and related disorders Cannabis-related disorders  \\\n",
      "0                          0.00                        0.0   \n",
      "1                          0.00                        0.0   \n",
      "2                          0.00                        0.0   \n",
      "3                          0.00                        0.0   \n",
      "4                          0.00                        0.0   \n",
      "5                          0.00                        0.0   \n",
      "6                          0.25                        0.0   \n",
      "7                          0.00                        0.0   \n",
      "8                          0.00                        0.0   \n",
      "9                          0.00                        0.0   \n",
      "\n",
      "  Depressive disorders Disruptive, impulse-control and conduct disorders  \\\n",
      "0             0.000000                                               0.0   \n",
      "1             0.028571                                               0.0   \n",
      "2             0.000000                                               0.0   \n",
      "3             0.000000                                               0.0   \n",
      "4             0.000000                                               0.0   \n",
      "5             0.000000                                               0.0   \n",
      "6             0.000000                                               0.0   \n",
      "7             0.000000                                               0.0   \n",
      "8             0.000000                                               1.0   \n",
      "9             0.012658                                               0.0   \n",
      "\n",
      "  Feeding and eating disorders Hearing loss  \\\n",
      "0                          0.0          0.0   \n",
      "1                          0.0          0.0   \n",
      "2                          0.0          0.0   \n",
      "3                          0.0          0.0   \n",
      "4                          0.0          0.0   \n",
      "5                          0.0          0.0   \n",
      "6                          0.0          0.0   \n",
      "7                          0.0          0.0   \n",
      "8                          0.0          0.0   \n",
      "9                          0.0          0.0   \n",
      "\n",
      "  Mental and substance use disorders in remission  \\\n",
      "0                                             0.0   \n",
      "1                                             0.0   \n",
      "2                                             0.0   \n",
      "3                                             0.0   \n",
      "4                                             0.0   \n",
      "5                                             0.0   \n",
      "6                                             0.0   \n",
      "7                                             0.0   \n",
      "8                                             0.0   \n",
      "9                                             0.0   \n",
      "\n",
      "  Miscellaneous mental and behavioral disorders/conditions  ...  \\\n",
      "0                                                0.0        ...   \n",
      "1                                                0.0        ...   \n",
      "2                                                0.0        ...   \n",
      "3                                                0.0        ...   \n",
      "4                                                0.0        ...   \n",
      "5                                                0.0        ...   \n",
      "6                                                0.0        ...   \n",
      "7                                                0.0        ...   \n",
      "8                                                0.0        ...   \n",
      "9                                                0.0        ...   \n",
      "\n",
      "  Other specified substance-related disorders Personality disorders  \\\n",
      "0                                         0.0                   0.0   \n",
      "1                                         0.0                   0.0   \n",
      "2                                         0.0                   0.0   \n",
      "3                                         0.0                   0.0   \n",
      "4                                         0.0                   0.0   \n",
      "5                                         0.0                   0.0   \n",
      "6                                         0.0                   0.0   \n",
      "7                                         0.0                   0.0   \n",
      "8                                         0.0                   0.0   \n",
      "9                                         0.0                   0.0   \n",
      "\n",
      "  Schizophrenia spectrum and other psychotic disorders Sleep wake disorders  \\\n",
      "0                                                0.0                    0.0   \n",
      "1                                                0.0                    0.0   \n",
      "2                                                0.0                    0.0   \n",
      "3                                                0.0                    0.0   \n",
      "4                                                0.0                    0.0   \n",
      "5                                                0.0                    0.0   \n",
      "6                                                0.0                    0.0   \n",
      "7                                                0.0                    0.0   \n",
      "8                                                0.0                    0.0   \n",
      "9                                                0.0                    0.0   \n",
      "\n",
      "  Somatic disorders Stimulant-related disorders Tobacco-related disorders  \\\n",
      "0               0.0                         0.0                       0.0   \n",
      "1               0.0                         0.0                       0.0   \n",
      "2               0.0                         0.0                       0.0   \n",
      "3               0.0                         0.0                       0.0   \n",
      "4               0.0                         0.0                       0.0   \n",
      "5               0.0                         0.0                       0.0   \n",
      "6               0.0                         0.0                       0.0   \n",
      "7               0.0                         0.0                       0.0   \n",
      "8               0.0                         0.0                       0.0   \n",
      "9               0.0                         0.0                       0.0   \n",
      "\n",
      "  Trauma- and stressor-related disorders Urinary incontinence person_id  \n",
      "0                                    0.0                  0.0       845  \n",
      "1                                    0.0                  0.0       913  \n",
      "2                                    0.0                  0.0      1081  \n",
      "3                                    0.0                  0.0      1256  \n",
      "4                                    0.0                  0.0      1351  \n",
      "5                                    0.0                  0.0      1444  \n",
      "6                                    0.0                  0.0      1474  \n",
      "7                                    0.0                  0.0      1564  \n",
      "8                                    0.0                  0.0      1634  \n",
      "9                                    0.0                  0.0      1874  \n",
      "\n",
      "[10 rows x 25 columns]\n"
     ]
    }
   ],
   "source": [
    "# patient_data = insurance_data[['person_id', 'xtn_patient_epic_mrn', 'visit_start_datetime', 'xtn_birth_date', 'xtn_race_ethnicity_source_concept_code',\n",
    "#                                'xtn_race_ethnicity_source_concept_name', 'race_source_concept_code', 'race_source_concept_name', 'merged_race_ethnicity_v1',\n",
    "#                                'merged_race_ethnicity_v2', 'gender_source_concept_code', 'gender_source_concept_name', 'xtn_gender_identity_source_concept_code', 'merged_gender', 'xtn_gender_identity_source_concept_name', 'xtn_sexual_orientation_source_concept_code', 'xtn_sexual_orientation_source_concept_name', 'xtn_five_digit_zip']]\n",
    "# p = pd.read_csv(\"../data/clean_psych_patient.csv\")\n",
    "# idk = list(p['person_id'])\n",
    "\n",
    "# psych_codes = set(psych_encounters.ICD_top_h)\n",
    "# test = list(psych_codes)\n",
    "# test = ['person_id'] + test # test.insert(0, 'person_id')\n",
    "\n",
    "\n",
    "CCSR = set(all_encounters.CCSR_code)\n",
    "CCSR = list(CCSR)\n",
    "CCSR = ['person_id'] + CCSR\n",
    "everything_CCSR = []\n",
    "for line in condition_count_matrix_CCSR:\n",
    "    everything_CCSR.append(line)\n",
    "CCSR_matrix = pd.DataFrame(data=everything_CCSR, columns=[CCSR])\n",
    "CCSR_matrix = CCSR_matrix.sort_index(axis = 1)\n",
    "CCSR_matrix = CCSR_matrix.iloc[: , :-1]\n",
    "print(CCSR_matrix.head(10))\n",
    "\n",
    "# ICD = set(all_encounters.ICD_code_h)\n",
    "# ICD = list(ICD)\n",
    "# ICD = ['person_id'] + ICD\n",
    "# everything_ICD = []\n",
    "# for group in condition_count_matrix_ICD:\n",
    "#     everything_ICD.append(group)\n",
    "# ICD_matrix = pd.DataFrame(everything_ICD, columns=[ICD])\n",
    "# ICD_matrix = ICD_matrix.sort_index(axis = 1)\n",
    "# ICD_matrix = ICD_matrix.iloc[: , :-1]\n",
    "# print(ICD_matrix.head(10))\n",
    "#\n",
    "# p = pd.read_csv(\"../data/clean_psych_patient.csv\")"
   ],
   "metadata": {
    "collapsed": false,
    "pycharm": {
     "name": "#%%\n"
    }
   }
  },
  {
   "cell_type": "code",
   "execution_count": 49,
   "outputs": [
    {
     "name": "stdout",
     "output_type": "stream",
     "text": [
      "   Alcohol-related disorders  Anxiety and fear-related disorders  \\\n",
      "0                        0.0                            0.000000   \n",
      "1                        0.0                            0.028571   \n",
      "2                        0.0                            0.142857   \n",
      "3                        0.0                            0.000000   \n",
      "4                        0.0                            0.000000   \n",
      "5                        0.0                            0.200000   \n",
      "6                        0.0                            0.000000   \n",
      "7                        0.0                            0.000000   \n",
      "8                        0.0                            0.000000   \n",
      "9                        0.0                            0.000000   \n",
      "\n",
      "   Bipolar and related disorders  Cannabis-related disorders  \\\n",
      "0                           0.00                         0.0   \n",
      "1                           0.00                         0.0   \n",
      "2                           0.00                         0.0   \n",
      "3                           0.00                         0.0   \n",
      "4                           0.00                         0.0   \n",
      "5                           0.00                         0.0   \n",
      "6                           0.25                         0.0   \n",
      "7                           0.00                         0.0   \n",
      "8                           0.00                         0.0   \n",
      "9                           0.00                         0.0   \n",
      "\n",
      "   Depressive disorders  Disruptive, impulse-control and conduct disorders  \\\n",
      "0              0.000000                                                0.0   \n",
      "1              0.028571                                                0.0   \n",
      "2              0.000000                                                0.0   \n",
      "3              0.000000                                                0.0   \n",
      "4              0.000000                                                0.0   \n",
      "5              0.000000                                                0.0   \n",
      "6              0.000000                                                0.0   \n",
      "7              0.000000                                                0.0   \n",
      "8              0.000000                                                1.0   \n",
      "9              0.012658                                                0.0   \n",
      "\n",
      "   Feeding and eating disorders  Hearing loss  \\\n",
      "0                           0.0           0.0   \n",
      "1                           0.0           0.0   \n",
      "2                           0.0           0.0   \n",
      "3                           0.0           0.0   \n",
      "4                           0.0           0.0   \n",
      "5                           0.0           0.0   \n",
      "6                           0.0           0.0   \n",
      "7                           0.0           0.0   \n",
      "8                           0.0           0.0   \n",
      "9                           0.0           0.0   \n",
      "\n",
      "   Mental and substance use disorders in remission  \\\n",
      "0                                              0.0   \n",
      "1                                              0.0   \n",
      "2                                              0.0   \n",
      "3                                              0.0   \n",
      "4                                              0.0   \n",
      "5                                              0.0   \n",
      "6                                              0.0   \n",
      "7                                              0.0   \n",
      "8                                              0.0   \n",
      "9                                              0.0   \n",
      "\n",
      "   Miscellaneous mental and behavioral disorders/conditions  ...  \\\n",
      "0                                                0.0         ...   \n",
      "1                                                0.0         ...   \n",
      "2                                                0.0         ...   \n",
      "3                                                0.0         ...   \n",
      "4                                                0.0         ...   \n",
      "5                                                0.0         ...   \n",
      "6                                                0.0         ...   \n",
      "7                                                0.0         ...   \n",
      "8                                                0.0         ...   \n",
      "9                                                0.0         ...   \n",
      "\n",
      "   xtn_birth_date  xtn_race_ethnicity_source_concept_name  \\\n",
      "0      1974-09-28                                   White   \n",
      "1      1952-03-02                                     NaN   \n",
      "2      1996-05-02                                     NaN   \n",
      "3      2002-07-28                                     NaN   \n",
      "4      1988-11-21                                   White   \n",
      "5      1993-10-02                                     NaN   \n",
      "6      1984-07-23                                   White   \n",
      "7      1994-02-11                                     NaN   \n",
      "8      1992-02-03                                     NaN   \n",
      "9      1963-11-30                                   White   \n",
      "\n",
      "   race_source_concept_name  merged_race_ethnicity_v2  \\\n",
      "0                     White                     White   \n",
      "1                       NaN                       NaN   \n",
      "2                       NaN                       NaN   \n",
      "3                       NaN                       NaN   \n",
      "4                     White                     White   \n",
      "5        Hispanic or Latino        Hispanic or Latino   \n",
      "6                     White                     White   \n",
      "7        Hispanic or Latino        Hispanic or Latino   \n",
      "8                       NaN                       NaN   \n",
      "9                     White                     White   \n",
      "\n",
      "   gender_source_concept_name  xtn_gender_identity_source_concept_name  \\\n",
      "0                      Female                                   Female   \n",
      "1                      Female                                      NaN   \n",
      "2                      Female                                      NaN   \n",
      "3                        Male                                      NaN   \n",
      "4                        Male                                      NaN   \n",
      "5                      Female                                      NaN   \n",
      "6                      Female                                      NaN   \n",
      "7                        Male                                      NaN   \n",
      "8                        Male                                      NaN   \n",
      "9                        Male                                     Male   \n",
      "\n",
      "   merged_gender  xtn_sexual_orientation_source_concept_name  \\\n",
      "0         Female                                         NaN   \n",
      "1         Female                                         NaN   \n",
      "2         Female                                         NaN   \n",
      "3           Male                                         NaN   \n",
      "4           Male                                         NaN   \n",
      "5         Female                                         NaN   \n",
      "6         Female                                         NaN   \n",
      "7           Male                                         NaN   \n",
      "8           Male                                         NaN   \n",
      "9           Male               Straight (not lesbian or gay)   \n",
      "\n",
      "   xtn_five_digit_zip  current_age  \n",
      "0             11234.0           48  \n",
      "1             10710.0           70  \n",
      "2             11368.0           26  \n",
      "3             10026.0           20  \n",
      "4             10538.0           34  \n",
      "5             10460.0           29  \n",
      "6             10019.0           38  \n",
      "7             10459.0           28  \n",
      "8             11218.0           30  \n",
      "9             10029.0           59  \n",
      "\n",
      "[10 rows x 38 columns]\n"
     ]
    }
   ],
   "source": [
    "# print(CCSR_matrix.columns.map(''.join))\n",
    "p = pd.read_csv(\"../data/clean_psych_patient.csv\")\n",
    "CCSR_matrix.columns = CCSR_matrix.columns.map(''.join)\n",
    "CCSR_matrix = pd.concat([CCSR_matrix, p], axis=1).reset_index()\n",
    "CCSR_matrix = CCSR_matrix.drop(columns='index')\n",
    "print(CCSR_matrix.head(10))\n",
    "pd.DataFrame.to_csv(CCSR_matrix, \"../data/all_encounters_condition_count_matrix_CCSR.csv\",index = False)\n",
    "\n",
    "# ICD_matrix.columns = ICD_matrix.columns.map(''.join)\n",
    "# ICD_matrix = pd.concat([ICD_matrix, p], axis=1).reset_index()\n",
    "# ICD_matrix = ICD_matrix.drop(columns='index')\n",
    "# print(ICD_matrix.head(10))\n",
    "# pd.DataFrame.to_csv(ICD_matrix, \"../data/all_encounters_condition_count_matrix_ICD.csv\",index = False)"
   ],
   "metadata": {
    "collapsed": false,
    "pycharm": {
     "name": "#%%\n"
    }
   }
  },
  {
   "cell_type": "code",
   "execution_count": 50,
   "outputs": [],
   "source": [
    "# this makes condition matrix with more broad CCSR code hierarchy with no decimal place\n",
    "CCSR = set(psych_encounters.CCSR_code)\n",
    "\n",
    "def count_conditions(group):\n",
    "    total_c = group['condition_concept_name'].count()\n",
    "    # total_p_c = group['ICD_code'].count()\n",
    "    c_counts = list()\n",
    "    c_counts.append(group.name)\n",
    "    for code in CCSR:\n",
    "        p_count = group[group.CCSR_code == code].shape[0] # group['ICD_code'].value_counts()[psych_code]\n",
    "        c_counts.append(float(p_count/total_c))\n",
    "    return c_counts\n",
    "\n",
    "psych_condition_count_matrix_CCSR = psych_encounters.groupby('person_id').apply(lambda group: count_conditions(group))\n",
    "pd.DataFrame.to_csv(psych_condition_count_matrix_CCSR, \"../data/psych_encounters_condition_count_matrix_CCSR.csv\",index = False)\n",
    "# psych_condition_count_matrix_CCSR\n",
    "\n",
    "CCSR = list(CCSR)\n",
    "CCSR = ['person_id'] + CCSR\n",
    "everything_CCSR = []\n",
    "for line in psych_condition_count_matrix_CCSR:\n",
    "    everything_CCSR.append(line)\n",
    "CCSR_matrix = pd.DataFrame(data=everything_CCSR, columns=[CCSR])\n",
    "CCSR_matrix = CCSR_matrix.sort_index(axis = 1)\n",
    "CCSR_matrix = CCSR_matrix.iloc[: , :-1]\n",
    "# print(CCSR_matrix.head(10))\n",
    "\n",
    "p = pd.read_csv(\"../data/clean_psych_patient.csv\")\n",
    "CCSR_matrix.columns = CCSR_matrix.columns.map(''.join)\n",
    "CCSR_matrix = pd.concat([CCSR_matrix, p], axis=1).reset_index()\n",
    "CCSR_matrix = CCSR_matrix.drop(columns='index')\n",
    "# print(CCSR_matrix.head(10))\n",
    "pd.DataFrame.to_csv(CCSR_matrix, \"../data/psych_encounters_condition_count_matrix_CCSR.csv\",index = False)"
   ],
   "metadata": {
    "collapsed": false,
    "pycharm": {
     "name": "#%%\n"
    }
   }
  },
  {
   "cell_type": "code",
   "execution_count": null,
   "outputs": [],
   "source": [],
   "metadata": {
    "collapsed": false,
    "pycharm": {
     "name": "#%%\n"
    }
   }
  },
  {
   "cell_type": "code",
   "execution_count": 217,
   "outputs": [
    {
     "name": "stdout",
     "output_type": "stream",
     "text": [
      "1.0 8 0\n"
     ]
    }
   ],
   "source": [
    "print(#psych_encounters.condition_concept_name.value_counts(dropna=False),\n",
    "      psych_encounters.groupby(['person_id'])['insurance_payor_class_x'].nunique().median(),\n",
    "    psych_encounters.groupby(['person_id'])['insurance_payor_class_x'].nunique().max(),\n",
    "    psych_encounters.groupby(['person_id'])['insurance_payor_class_x'].nunique().min())\n",
    "\n",
    "# print(\n",
    "#     psych_encounters.groupby(['person_id'])['visit_occurrence_id'].nunique().median(),\n",
    "#     psych_encounters.groupby(['person_id'])['visit_occurrence_id'].nunique().max(),\n",
    "#     psych_encounters.groupby(['person_id'])['visit_occurrence_id'].nunique().min()\n",
    "# )\n",
    "# print(psych_encounters.person_id.value_counts().mean(),\n",
    "# psych_encounters.person_id.value_counts().std(),\n",
    "# psych_encounters.person_id.value_counts().median(),\n",
    "# psych_encounters.person_id.value_counts().max(),\n",
    "# psych_encounters.person_id.value_counts().min())\n",
    "#\n",
    "# print(psych_encounters.visit_occurrence_id.value_counts().mean(),\n",
    "# psych_encounters.visit_occurrence_id.value_counts().std(),\n",
    "# psych_encounters.visit_occurrence_id.value_counts().median(),\n",
    "# psych_encounters.visit_occurrence_id.value_counts().max(),\n",
    "# psych_encounters.visit_occurrence_id.value_counts().min())\n",
    "#\n",
    "# print(psych_encounters.xtn_department_name.value_counts(dropna=False),\n",
    "# psych_encounters.xtn_visit_type_source_concept_code.value_counts(dropna=False))\n",
    "#\n",
    "# print(psych_encounters.visit_start_datetime.max(),\n",
    "# psych_encounters.visit_start_datetime.min(),\n",
    "# psych_encounters.visit_start_datetime.isna().sum(),\n",
    "# psych_encounters.visit_end_datetime.max(),\n",
    "# psych_encounters.visit_end_datetime.min(),\n",
    "# psych_encounters.visit_end_datetime.isna().sum())\n",
    "#\n",
    "# print(psych_encounters.xtn_five_digit_zip.value_counts(dropna=False))\n",
    "#\n",
    "# print(psych_encounters.insurance_payor_class_x.value_counts(dropna=False),\n",
    "#       psych_encounters.insured_status_x.value_counts(dropna=False))"
   ],
   "metadata": {
    "collapsed": false,
    "pycharm": {
     "name": "#%%\n"
    }
   }
  },
  {
   "cell_type": "code",
   "execution_count": null,
   "outputs": [],
   "source": [
    " df2 = pd.read_csv(\"../data/clean_psych_patient.csv\")\n",
    "\n",
    "print(df2.race_source_concept_name.value_counts(dropna=False),\n",
    "      df2.xtn_race_ethnicity_source_concept_name.value_counts(dropna=False),\n",
    "      df2.merged_race_ethnicity_v1.value_counts(dropna=False),\n",
    "      df2.merged_race_ethnicity_v2.value_counts(dropna=False),\n",
    "      df2.gender_source_concept_name.value_counts(dropna=False),\n",
    "      df2.xtn_gender_identity_source_concept_name.value_counts(dropna=False),\n",
    "      df2.merged_gender.value_counts(dropna=False),\n",
    "      df2.xtn_sexual_orientation_source_concept_name.value_counts(dropna=False))\n",
    "\n",
    "print(df2.current_age.median(),\n",
    "      df2.current_age.max(),\n",
    "      df2.current_age.min(),\n",
    "      df2.current_age.isna().sum())\n",
    "\n",
    "print(df2.xtn_five_digit_zip.value_counts(dropna=False))"
   ],
   "metadata": {
    "collapsed": false,
    "pycharm": {
     "name": "#%%\n",
     "is_executing": true
    }
   }
  },
  {
   "cell_type": "code",
   "execution_count": 25,
   "outputs": [
    {
     "name": "stdout",
     "output_type": "stream",
     "text": [
      "person_id                                     466692\n",
      "xtn_patient_epic_mrn                          466692\n",
      "visit_start_datetime                           85419\n",
      "xtn_birth_date                                 38777\n",
      "xtn_race_ethnicity_source_concept_name             7\n",
      "race_source_concept_name                         100\n",
      "merged_race_ethnicity_v2                          52\n",
      "gender_source_concept_name                         6\n",
      "xtn_gender_identity_source_concept_name            9\n",
      "merged_gender                                     12\n",
      "xtn_sexual_orientation_source_concept_name         7\n",
      "xtn_five_digit_zip                              7274\n",
      "dtype: int64 2332301     1\n",
      "12894950    1\n",
      "3137073     1\n",
      "3052321     1\n",
      "3985891     1\n",
      "           ..\n",
      "2415046     1\n",
      "4584300     1\n",
      "3495217     1\n",
      "2322891     1\n",
      "6776528     1\n",
      "Name: person_id, Length: 466692, dtype: int64\n"
     ]
    },
    {
     "data": {
      "text/plain": "          person_id xtn_patient_epic_mrn visit_start_datetime xtn_birth_date  \\\n5942682     2332301              2792028  2023-03-24 09:30:00     1963-03-22   \n27500514   15033805              7929561  2023-03-10 09:30:00     1967-11-13   \n28323114   15883069              K153862  2023-03-08 00:00:00     1992-12-29   \n1339306     1327337              E516395  2023-02-23 11:30:00     1975-02-09   \n10507378    3461222              8411899  2023-02-23 09:00:00     1951-10-07   \n...             ...                  ...                  ...            ...   \n14240017    5851229              2528016           2006-07-13     1943-05-01   \n10246392    3418342              2579506           2006-07-11     1914-12-12   \n22682656   14212808              1862429           2006-07-11     1925-08-12   \n9952788     3276160              2522394           2006-07-05     1934-04-08   \n14796494    6776528              1028378           2006-06-29     1929-07-19   \n\n         xtn_race_ethnicity_source_concept_name race_source_concept_name  \\\n5942682                                   Asian                  CHINESE   \n27500514              Black or African American       Mixed racial group   \n28323114                     Hispanic or Latino                    OTHER   \n1339306                      Hispanic or Latino                    OTHER   \n10507378                     Hispanic or Latino                    OTHER   \n...                                         ...                      ...   \n14240017                                  White                    WHITE   \n10246392                                  White                    WHITE   \n22682656                                  White                    WHITE   \n9952788                                     NaN          Hispanic/Latino   \n14796494                                  White                    WHITE   \n\n           merged_race_ethnicity_v2 gender_source_concept_name  \\\n5942682                       Asian                       Male   \n27500514  Black or African American                     Female   \n28323114         Hispanic or Latino                     Female   \n1339306          Hispanic or Latino                       Male   \n10507378         Hispanic or Latino                       Male   \n...                             ...                        ...   \n14240017                      White                       Male   \n10246392                      White                     Female   \n22682656                      White                     Female   \n9952788             Hispanic/Latino                     Female   \n14796494                      White                       Male   \n\n         xtn_gender_identity_source_concept_name merged_gender  \\\n5942682                                     Male          Male   \n27500514                                  Female        Female   \n28323114                                     NaN        Female   \n1339306                                     Male          Male   \n10507378                                    Male          Male   \n...                                          ...           ...   \n14240017                                     NaN          Male   \n10246392                                     NaN        Female   \n22682656                                     NaN        Female   \n9952788                                      NaN        Female   \n14796494                                     NaN          Male   \n\n         xtn_sexual_orientation_source_concept_name  xtn_five_digit_zip  \n5942682                              Lesbian or Gay             10025.0  \n27500514              Straight (not lesbian or gay)             10128.0  \n28323114                                        NaN             11373.0  \n1339306                                         NaN             10456.0  \n10507378                                        NaN             10459.0  \n...                                             ...                 ...  \n14240017                                        NaN             85338.0  \n10246392                                        NaN             10028.0  \n22682656                                        NaN             10024.0  \n9952788                                         NaN             10036.0  \n14796494                                        NaN             10012.0  \n\n[466692 rows x 12 columns]",
      "text/html": "<div>\n<style scoped>\n    .dataframe tbody tr th:only-of-type {\n        vertical-align: middle;\n    }\n\n    .dataframe tbody tr th {\n        vertical-align: top;\n    }\n\n    .dataframe thead th {\n        text-align: right;\n    }\n</style>\n<table border=\"1\" class=\"dataframe\">\n  <thead>\n    <tr style=\"text-align: right;\">\n      <th></th>\n      <th>person_id</th>\n      <th>xtn_patient_epic_mrn</th>\n      <th>visit_start_datetime</th>\n      <th>xtn_birth_date</th>\n      <th>xtn_race_ethnicity_source_concept_name</th>\n      <th>race_source_concept_name</th>\n      <th>merged_race_ethnicity_v2</th>\n      <th>gender_source_concept_name</th>\n      <th>xtn_gender_identity_source_concept_name</th>\n      <th>merged_gender</th>\n      <th>xtn_sexual_orientation_source_concept_name</th>\n      <th>xtn_five_digit_zip</th>\n    </tr>\n  </thead>\n  <tbody>\n    <tr>\n      <th>5942682</th>\n      <td>2332301</td>\n      <td>2792028</td>\n      <td>2023-03-24 09:30:00</td>\n      <td>1963-03-22</td>\n      <td>Asian</td>\n      <td>CHINESE</td>\n      <td>Asian</td>\n      <td>Male</td>\n      <td>Male</td>\n      <td>Male</td>\n      <td>Lesbian or Gay</td>\n      <td>10025.0</td>\n    </tr>\n    <tr>\n      <th>27500514</th>\n      <td>15033805</td>\n      <td>7929561</td>\n      <td>2023-03-10 09:30:00</td>\n      <td>1967-11-13</td>\n      <td>Black or African American</td>\n      <td>Mixed racial group</td>\n      <td>Black or African American</td>\n      <td>Female</td>\n      <td>Female</td>\n      <td>Female</td>\n      <td>Straight (not lesbian or gay)</td>\n      <td>10128.0</td>\n    </tr>\n    <tr>\n      <th>28323114</th>\n      <td>15883069</td>\n      <td>K153862</td>\n      <td>2023-03-08 00:00:00</td>\n      <td>1992-12-29</td>\n      <td>Hispanic or Latino</td>\n      <td>OTHER</td>\n      <td>Hispanic or Latino</td>\n      <td>Female</td>\n      <td>NaN</td>\n      <td>Female</td>\n      <td>NaN</td>\n      <td>11373.0</td>\n    </tr>\n    <tr>\n      <th>1339306</th>\n      <td>1327337</td>\n      <td>E516395</td>\n      <td>2023-02-23 11:30:00</td>\n      <td>1975-02-09</td>\n      <td>Hispanic or Latino</td>\n      <td>OTHER</td>\n      <td>Hispanic or Latino</td>\n      <td>Male</td>\n      <td>Male</td>\n      <td>Male</td>\n      <td>NaN</td>\n      <td>10456.0</td>\n    </tr>\n    <tr>\n      <th>10507378</th>\n      <td>3461222</td>\n      <td>8411899</td>\n      <td>2023-02-23 09:00:00</td>\n      <td>1951-10-07</td>\n      <td>Hispanic or Latino</td>\n      <td>OTHER</td>\n      <td>Hispanic or Latino</td>\n      <td>Male</td>\n      <td>Male</td>\n      <td>Male</td>\n      <td>NaN</td>\n      <td>10459.0</td>\n    </tr>\n    <tr>\n      <th>...</th>\n      <td>...</td>\n      <td>...</td>\n      <td>...</td>\n      <td>...</td>\n      <td>...</td>\n      <td>...</td>\n      <td>...</td>\n      <td>...</td>\n      <td>...</td>\n      <td>...</td>\n      <td>...</td>\n      <td>...</td>\n    </tr>\n    <tr>\n      <th>14240017</th>\n      <td>5851229</td>\n      <td>2528016</td>\n      <td>2006-07-13</td>\n      <td>1943-05-01</td>\n      <td>White</td>\n      <td>WHITE</td>\n      <td>White</td>\n      <td>Male</td>\n      <td>NaN</td>\n      <td>Male</td>\n      <td>NaN</td>\n      <td>85338.0</td>\n    </tr>\n    <tr>\n      <th>10246392</th>\n      <td>3418342</td>\n      <td>2579506</td>\n      <td>2006-07-11</td>\n      <td>1914-12-12</td>\n      <td>White</td>\n      <td>WHITE</td>\n      <td>White</td>\n      <td>Female</td>\n      <td>NaN</td>\n      <td>Female</td>\n      <td>NaN</td>\n      <td>10028.0</td>\n    </tr>\n    <tr>\n      <th>22682656</th>\n      <td>14212808</td>\n      <td>1862429</td>\n      <td>2006-07-11</td>\n      <td>1925-08-12</td>\n      <td>White</td>\n      <td>WHITE</td>\n      <td>White</td>\n      <td>Female</td>\n      <td>NaN</td>\n      <td>Female</td>\n      <td>NaN</td>\n      <td>10024.0</td>\n    </tr>\n    <tr>\n      <th>9952788</th>\n      <td>3276160</td>\n      <td>2522394</td>\n      <td>2006-07-05</td>\n      <td>1934-04-08</td>\n      <td>NaN</td>\n      <td>Hispanic/Latino</td>\n      <td>Hispanic/Latino</td>\n      <td>Female</td>\n      <td>NaN</td>\n      <td>Female</td>\n      <td>NaN</td>\n      <td>10036.0</td>\n    </tr>\n    <tr>\n      <th>14796494</th>\n      <td>6776528</td>\n      <td>1028378</td>\n      <td>2006-06-29</td>\n      <td>1929-07-19</td>\n      <td>White</td>\n      <td>WHITE</td>\n      <td>White</td>\n      <td>Male</td>\n      <td>NaN</td>\n      <td>Male</td>\n      <td>NaN</td>\n      <td>10012.0</td>\n    </tr>\n  </tbody>\n</table>\n<p>466692 rows × 12 columns</p>\n</div>"
     },
     "execution_count": 25,
     "metadata": {},
     "output_type": "execute_result"
    }
   ],
   "source": [
    "patient_data = everything[['person_id', 'xtn_patient_epic_mrn', 'visit_start_datetime', 'xtn_birth_date',\n",
    "                           'xtn_race_ethnicity_source_concept_name', 'race_source_concept_name','merged_race_ethnicity_v2', 'gender_source_concept_name', 'xtn_gender_identity_source_concept_name', 'merged_gender', 'xtn_sexual_orientation_source_concept_name', 'xtn_five_digit_zip']]\n",
    "\n",
    "# dup = ['person_id', 'xtn_patient_epic_mrn', 'xtn_birth_date', 'xtn_race_ethnicity_source_concept_code',\n",
    "#              'xtn_race_ethnicity_source_concept_name', 'race_source_concept_code', 'race_source_concept_name', 'merged_race_ethnicity',\n",
    "#              'gender_source_concept_code', 'gender_source_concept_name', 'xtn_gender_identity_source_concept_code', 'merged_gender',\n",
    "#              'xtn_gender_identity_source_concept_name', 'xtn_sexual_orientation_source_concept_code', 'xtn_sexual_orientation_source_concept_name']\n",
    "\n",
    "patient_data = patient_data.sort_values(by=['visit_start_datetime'], ascending=[False])\n",
    "dup = ['person_id']\n",
    "patient_data = patient_data.drop_duplicates(subset=dup, keep='first')\n",
    "print(patient_data.nunique(axis=0), patient_data.person_id.value_counts(dropna=False))\n",
    "patient_data"
   ],
   "metadata": {
    "collapsed": false,
    "pycharm": {
     "name": "#%%\n"
    }
   }
  },
  {
   "cell_type": "code",
   "execution_count": 26,
   "outputs": [],
   "source": [
    "patient_data['xtn_birth_date'] = pd.to_datetime(patient_data['xtn_birth_date'])\n",
    "def calculate_age(born):\n",
    "    year = born.year\n",
    "    today = datetime.today().year\n",
    "    return today - year # today.year - born.year - ((today.month, today.day) < (born.month, born.day))\n",
    "\n",
    "patient_data['current_age'] = patient_data['xtn_birth_date'].apply(calculate_age)\n",
    "#"
   ],
   "metadata": {
    "collapsed": false,
    "pycharm": {
     "name": "#%%\n"
    }
   }
  },
  {
   "cell_type": "code",
   "execution_count": 27,
   "outputs": [
    {
     "name": "stdout",
     "output_type": "stream",
     "text": [
      "White                                        189646\n",
      "NaN                                           88300\n",
      "Hispanic or Latino                            63363\n",
      "Black or African American                     55604\n",
      "Other Race                                    47389\n",
      "Asian                                         16992\n",
      "Mixed racial group                             2784\n",
      "Native Hawaiian or Other Pacific Islander      1346\n",
      "Decline to Answer                               839\n",
      "American Indian or Alaska Native                429\n",
      "Name: merged_race_ethnicity_v2, dtype: int64 Female                                 261312\n",
      "Male                                   201141\n",
      "Non-binary                               1253\n",
      "Transgender Female / Male-to-Female      1015\n",
      "Transgender Male / Female-to-Male         694\n",
      "Choose not to disclose                    429\n",
      "Gender Non-conforming                     250\n",
      "Gender Queer                              226\n",
      "Other                                     221\n",
      "NaN                                       134\n",
      "Uncertain                                  17\n",
      "Name: merged_gender, dtype: int64 NaN                              383201\n",
      "Straight (not lesbian or gay)     67525\n",
      "Lesbian or Gay                     5187\n",
      "Choose not to disclose             3526\n",
      "Bisexual                           3414\n",
      "Queer                              1939\n",
      "Something else                     1210\n",
      "Don't know                          690\n",
      "Name: xtn_sexual_orientation_source_concept_name, dtype: int64\n"
     ]
    }
   ],
   "source": [
    "# df2 = pd.read_csv(\"../data/clean_psych_patient.csv\")\n",
    "\n",
    "patient_data = patient_data.replace(['Indeterminate', 'Not recorded on birth certificate'], np.nan)\n",
    "patient_data = patient_data.replace(['AMERICAN INDIAN OR ALASKAN', 'Hispanic/Latino', 'Hispanic', 'AFRICAN-AMERICAN', 'OTHER', 'PATIENT DECLINED', 'WHITE', 'ASIAN INDIAN', 'CHINESE',\n",
    "                   'KOREAN', 'CHINESE AMERICAN', 'VIETNAMESE', 'OTHER: NORTH AFRICAN', 'JAPANESE', 'NATIVE HAWAIIAN', 'OTHER PACIFIC ISLANDER', 'THAI',\n",
    "                   'PAPUA NEW GUINEAN', 'GUINEAN', 'FILIPINO', 'FILIPINO AMERICAN', 'BANGLADESHI', 'UGANDAN', 'PAKISTANI', 'WEST INDIAN', 'TRINIDADIAN', 'JAMAICAN', 'HAITIAN', 'TAIWANESE', 'NIGERIAN', 'ETHIOPIAN', 'DOMINICA ISLANDER', 'GRENADIAN', 'MADAGASCAR', 'POLYNESIAN', 'SRI LANKAN', 'INDONESIAN', 'MALIAN', 'GHANAIAN', 'BARBADIAN', 'TAHITIAN', 'ST VINCENTIAN', 'TOKELAUAN'],\n",
    "                  ['American Indian or Alaska Native', 'Hispanic or Latino', 'Hispanic or Latino', 'Black or African American', 'Other Race', 'Decline to Answer', 'White', 'Asian', 'Asian', 'Asian', 'Asian', 'Asian', 'Black or African American', 'Asian', 'Native Hawaiian or Other Pacific Islander', 'Native Hawaiian or Other Pacific Islander', 'Asian', 'Native Hawaiian or Other Pacific Islander', 'Native Hawaiian or Other Pacific Islander', 'Native Hawaiian or Other Pacific Islander','Native Hawaiian or Other Pacific Islander', 'Asian', 'Black or African American', 'Asian', 'Asian', 'Mixed racial group', 'Black or African American', 'Black or African American', 'Asian', 'Black or African American', 'Black or African American', 'Black or African American', 'Black or African American', 'Black or African American', 'Native Hawaiian or Other Pacific Islander', 'Asian', 'Asian', 'Black or African American', 'Black or African American', 'Black or African American', 'Native Hawaiian or Other Pacific Islander', 'Black or African American', 'Native Hawaiian or Other Pacific Islander'])\n",
    "\n",
    "print(patient_data.merged_race_ethnicity_v2.value_counts(dropna=False),\n",
    "      patient_data.merged_gender.value_counts(dropna=False),\n",
    "      patient_data.xtn_sexual_orientation_source_concept_name.value_counts(dropna=False))\n",
    "\n",
    "# print(patient_data.xtn_five_digit_zip.value_counts(dropna=False))"
   ],
   "metadata": {
    "collapsed": false,
    "pycharm": {
     "name": "#%%\n"
    }
   }
  },
  {
   "cell_type": "code",
   "execution_count": 29,
   "outputs": [],
   "source": [
    "def age(row):\n",
    "    if row >99:\n",
    "        return 99\n",
    "    else:\n",
    "        return row\n",
    "\n",
    "patient_data['current_age'] =patient_data.current_age.apply(age)"
   ],
   "metadata": {
    "collapsed": false,
    "pycharm": {
     "name": "#%%\n"
    }
   }
  },
  {
   "cell_type": "code",
   "execution_count": 30,
   "outputs": [
    {
     "name": "stdout",
     "output_type": "stream",
     "text": [
      "49.579769955345284 99 0 0\n"
     ]
    }
   ],
   "source": [
    "print(patient_data.current_age.mean(),\n",
    "      patient_data.current_age.max(),\n",
    "      patient_data.current_age.min(),\n",
    "      patient_data.current_age.isna().sum())\n"
   ],
   "metadata": {
    "collapsed": false,
    "pycharm": {
     "name": "#%%\n"
    }
   }
  },
  {
   "cell_type": "code",
   "execution_count": 34,
   "outputs": [],
   "source": [
    "pd.DataFrame.to_csv(patient_data.sort_values(by=['person_id'], ascending=[True]), \"../data/clean_psych_patient.csv\",index = False)\n",
    "# most updated version 11/3/22"
   ],
   "metadata": {
    "collapsed": false,
    "pycharm": {
     "name": "#%%\n"
    }
   }
  },
  {
   "cell_type": "code",
   "execution_count": 3,
   "outputs": [
    {
     "data": {
      "text/plain": "    person_id  visit_occurrence_id  etl_epic_encounter_key  \\\n0         845            172058493               285636709   \n1         845            172058493               285636709   \n2         845            172058493               285636709   \n3         845            185133868               291089587   \n4         845            185133868               291089587   \n5         845            185133868               291089587   \n6         845            194027752               293787212   \n7         845            194027752               293787212   \n8         845            194027752               293787212   \n9         845            197004100               302037736   \n10        845            197004100               302037736   \n11        845            197004100               302037736   \n12        913            198204422               304807149   \n13        913            198204422               304807149   \n14        913            198204422               304807149   \n15        913            198204422               304807149   \n16        913            198204422               304807149   \n17        913            198204422               304807149   \n18        913            198204422               304807149   \n19        913            198204422               304807149   \n\n                       xtn_department_name  xtn_visit_type_source_concept_id  \\\n0                       10 UNION SQ E RESP                        2000000112   \n1                       10 UNION SQ E RESP                        2000000112   \n2                       10 UNION SQ E RESP                        2000000112   \n3                          10 UNION SQ PFT                        2000000112   \n4                          10 UNION SQ PFT                        2000000112   \n5                          10 UNION SQ PFT                        2000000112   \n6           17 E 102ND RHEUMATOLOGY CLINIC                        2000000112   \n7           17 E 102ND RHEUMATOLOGY CLINIC                        2000000112   \n8           17 E 102ND RHEUMATOLOGY CLINIC                        2000000112   \n9           17 E 102ND RHEUMATOLOGY CLINIC                        2000000112   \n10          17 E 102ND RHEUMATOLOGY CLINIC                        2000000112   \n11          17 E 102ND RHEUMATOLOGY CLINIC                        2000000112   \n12  341 CENTRAL PARK AVE INTERNAL MEDICINE                        2000000112   \n13  341 CENTRAL PARK AVE INTERNAL MEDICINE                        2000000112   \n14  341 CENTRAL PARK AVE INTERNAL MEDICINE                        2000000112   \n15  341 CENTRAL PARK AVE INTERNAL MEDICINE                        2000000112   \n16  341 CENTRAL PARK AVE INTERNAL MEDICINE                        2000000112   \n17  341 CENTRAL PARK AVE INTERNAL MEDICINE                        2000000112   \n18  341 CENTRAL PARK AVE INTERNAL MEDICINE                        2000000112   \n19  341 CENTRAL PARK AVE INTERNAL MEDICINE                        2000000112   \n\n   xtn_visit_type_source_concept_code visit_start_datetime  \\\n0                    Outpatient Visit  2022-01-25 00:00:00   \n1                    Outpatient Visit  2022-01-25 00:00:00   \n2                    Outpatient Visit  2022-01-25 00:00:00   \n3                    Outpatient Visit  2022-02-22 00:00:00   \n4                    Outpatient Visit  2022-02-22 00:00:00   \n5                    Outpatient Visit  2022-02-22 00:00:00   \n6                    Outpatient Visit  2022-06-16 00:00:00   \n7                    Outpatient Visit  2022-06-16 00:00:00   \n8                    Outpatient Visit  2022-06-16 00:00:00   \n9                    Outpatient Visit  2022-07-05 00:00:00   \n10                   Outpatient Visit  2022-07-05 00:00:00   \n11                   Outpatient Visit  2022-07-05 00:00:00   \n12                   Outpatient Visit  2022-07-21 00:00:00   \n13                   Outpatient Visit  2022-07-21 00:00:00   \n14                   Outpatient Visit  2022-07-21 00:00:00   \n15                   Outpatient Visit  2022-07-21 00:00:00   \n16                   Outpatient Visit  2022-07-21 00:00:00   \n17                   Outpatient Visit  2022-07-21 00:00:00   \n18                   Outpatient Visit  2022-07-21 00:00:00   \n19                   Outpatient Visit  2022-07-21 00:00:00   \n\n     visit_end_datetime xtn_patient_epic_mrn xtn_birth_date  ...  \\\n0   2022-01-25 00:00:00              3754282     1974-09-28  ...   \n1   2022-01-25 00:00:00              3754282     1974-09-28  ...   \n2   2022-01-25 00:00:00              3754282     1974-09-28  ...   \n3   2022-02-22 00:00:00              3754282     1974-09-28  ...   \n4   2022-02-22 00:00:00              3754282     1974-09-28  ...   \n5   2022-02-22 00:00:00              3754282     1974-09-28  ...   \n6   2022-06-16 00:00:00              3754282     1974-09-28  ...   \n7   2022-06-16 00:00:00              3754282     1974-09-28  ...   \n8   2022-06-16 00:00:00              3754282     1974-09-28  ...   \n9   2022-07-05 00:00:00              3754282     1974-09-28  ...   \n10  2022-07-05 00:00:00              3754282     1974-09-28  ...   \n11  2022-07-05 00:00:00              3754282     1974-09-28  ...   \n12  2022-07-21 00:00:00              3657926     1952-03-02  ...   \n13  2022-07-21 00:00:00              3657926     1952-03-02  ...   \n14  2022-07-21 00:00:00              3657926     1952-03-02  ...   \n15  2022-07-21 00:00:00              3657926     1952-03-02  ...   \n16  2022-07-21 00:00:00              3657926     1952-03-02  ...   \n17  2022-07-21 00:00:00              3657926     1952-03-02  ...   \n18  2022-07-21 00:00:00              3657926     1952-03-02  ...   \n19  2022-07-21 00:00:00              3657926     1952-03-02  ...   \n\n    insurance_payor_class insurance_status                       ICD_name  \\\n0   Medicaid Managed Care           Public                            NaN   \n1   Medicaid Managed Care           Public                            NaN   \n2   Medicaid Managed Care           Public                            NaN   \n3   Medicaid Managed Care           Public                            NaN   \n4   Medicaid Managed Care           Public                            NaN   \n5   Medicaid Managed Care           Public                            NaN   \n6   Medicaid Managed Care           Public                            NaN   \n7   Medicaid Managed Care           Public                            NaN   \n8   Medicaid Managed Care           Public                            NaN   \n9   Medicaid Managed Care           Public                            NaN   \n10  Medicaid Managed Care           Public                            NaN   \n11  Medicaid Managed Care           Public                            NaN   \n12            Medicare MS           Public  Anxiety disorder, unspecified   \n13            Medicare MS           Public                            NaN   \n14            Medicare MS           Public                            NaN   \n15            Medicare MS           Public                            NaN   \n16            Medicare MS           Public                            NaN   \n17            Medicare MS           Public                            NaN   \n18            Medicare MS           Public                            NaN   \n19            Medicare MS           Public        Depression, unspecified   \n\n   ICD_code  ICD_code_h ICD_code_top_h                           CCSR_code  \\\n0       NaN         NaN            NaN                                 NaN   \n1       NaN         NaN            NaN                                 NaN   \n2       NaN         NaN            NaN                                 NaN   \n3       NaN         NaN            NaN                                 NaN   \n4       NaN         NaN            NaN                                 NaN   \n5       NaN         NaN            NaN                                 NaN   \n6       NaN         NaN            NaN                                 NaN   \n7       NaN         NaN            NaN                                 NaN   \n8       NaN         NaN            NaN                                 NaN   \n9       NaN         NaN            NaN                                 NaN   \n10      NaN         NaN            NaN                                 NaN   \n11      NaN         NaN            NaN                                 NaN   \n12    F41.9       F41.9            F41  Anxiety and fear-related disorders   \n13      NaN         NaN            NaN                                 NaN   \n14      NaN         NaN            NaN                                 NaN   \n15      NaN         NaN            NaN                                 NaN   \n16      NaN         NaN            NaN                                 NaN   \n17      NaN         NaN            NaN                                 NaN   \n18      NaN         NaN            NaN                                 NaN   \n19    F32.A       F32.A            F32                Depressive disorders   \n\n   visit_year  birth_year age_at_visit  \n0        2022        1974           48  \n1        2022        1974           48  \n2        2022        1974           48  \n3        2022        1974           48  \n4        2022        1974           48  \n5        2022        1974           48  \n6        2022        1974           48  \n7        2022        1974           48  \n8        2022        1974           48  \n9        2022        1974           48  \n10       2022        1974           48  \n11       2022        1974           48  \n12       2022        1952           70  \n13       2022        1952           70  \n14       2022        1952           70  \n15       2022        1952           70  \n16       2022        1952           70  \n17       2022        1952           70  \n18       2022        1952           70  \n19       2022        1952           70  \n\n[20 rows x 40 columns]",
      "text/html": "<div>\n<style scoped>\n    .dataframe tbody tr th:only-of-type {\n        vertical-align: middle;\n    }\n\n    .dataframe tbody tr th {\n        vertical-align: top;\n    }\n\n    .dataframe thead th {\n        text-align: right;\n    }\n</style>\n<table border=\"1\" class=\"dataframe\">\n  <thead>\n    <tr style=\"text-align: right;\">\n      <th></th>\n      <th>person_id</th>\n      <th>visit_occurrence_id</th>\n      <th>etl_epic_encounter_key</th>\n      <th>xtn_department_name</th>\n      <th>xtn_visit_type_source_concept_id</th>\n      <th>xtn_visit_type_source_concept_code</th>\n      <th>visit_start_datetime</th>\n      <th>visit_end_datetime</th>\n      <th>xtn_patient_epic_mrn</th>\n      <th>xtn_birth_date</th>\n      <th>...</th>\n      <th>insurance_payor_class</th>\n      <th>insurance_status</th>\n      <th>ICD_name</th>\n      <th>ICD_code</th>\n      <th>ICD_code_h</th>\n      <th>ICD_code_top_h</th>\n      <th>CCSR_code</th>\n      <th>visit_year</th>\n      <th>birth_year</th>\n      <th>age_at_visit</th>\n    </tr>\n  </thead>\n  <tbody>\n    <tr>\n      <th>0</th>\n      <td>845</td>\n      <td>172058493</td>\n      <td>285636709</td>\n      <td>10 UNION SQ E RESP</td>\n      <td>2000000112</td>\n      <td>Outpatient Visit</td>\n      <td>2022-01-25 00:00:00</td>\n      <td>2022-01-25 00:00:00</td>\n      <td>3754282</td>\n      <td>1974-09-28</td>\n      <td>...</td>\n      <td>Medicaid Managed Care</td>\n      <td>Public</td>\n      <td>NaN</td>\n      <td>NaN</td>\n      <td>NaN</td>\n      <td>NaN</td>\n      <td>NaN</td>\n      <td>2022</td>\n      <td>1974</td>\n      <td>48</td>\n    </tr>\n    <tr>\n      <th>1</th>\n      <td>845</td>\n      <td>172058493</td>\n      <td>285636709</td>\n      <td>10 UNION SQ E RESP</td>\n      <td>2000000112</td>\n      <td>Outpatient Visit</td>\n      <td>2022-01-25 00:00:00</td>\n      <td>2022-01-25 00:00:00</td>\n      <td>3754282</td>\n      <td>1974-09-28</td>\n      <td>...</td>\n      <td>Medicaid Managed Care</td>\n      <td>Public</td>\n      <td>NaN</td>\n      <td>NaN</td>\n      <td>NaN</td>\n      <td>NaN</td>\n      <td>NaN</td>\n      <td>2022</td>\n      <td>1974</td>\n      <td>48</td>\n    </tr>\n    <tr>\n      <th>2</th>\n      <td>845</td>\n      <td>172058493</td>\n      <td>285636709</td>\n      <td>10 UNION SQ E RESP</td>\n      <td>2000000112</td>\n      <td>Outpatient Visit</td>\n      <td>2022-01-25 00:00:00</td>\n      <td>2022-01-25 00:00:00</td>\n      <td>3754282</td>\n      <td>1974-09-28</td>\n      <td>...</td>\n      <td>Medicaid Managed Care</td>\n      <td>Public</td>\n      <td>NaN</td>\n      <td>NaN</td>\n      <td>NaN</td>\n      <td>NaN</td>\n      <td>NaN</td>\n      <td>2022</td>\n      <td>1974</td>\n      <td>48</td>\n    </tr>\n    <tr>\n      <th>3</th>\n      <td>845</td>\n      <td>185133868</td>\n      <td>291089587</td>\n      <td>10 UNION SQ PFT</td>\n      <td>2000000112</td>\n      <td>Outpatient Visit</td>\n      <td>2022-02-22 00:00:00</td>\n      <td>2022-02-22 00:00:00</td>\n      <td>3754282</td>\n      <td>1974-09-28</td>\n      <td>...</td>\n      <td>Medicaid Managed Care</td>\n      <td>Public</td>\n      <td>NaN</td>\n      <td>NaN</td>\n      <td>NaN</td>\n      <td>NaN</td>\n      <td>NaN</td>\n      <td>2022</td>\n      <td>1974</td>\n      <td>48</td>\n    </tr>\n    <tr>\n      <th>4</th>\n      <td>845</td>\n      <td>185133868</td>\n      <td>291089587</td>\n      <td>10 UNION SQ PFT</td>\n      <td>2000000112</td>\n      <td>Outpatient Visit</td>\n      <td>2022-02-22 00:00:00</td>\n      <td>2022-02-22 00:00:00</td>\n      <td>3754282</td>\n      <td>1974-09-28</td>\n      <td>...</td>\n      <td>Medicaid Managed Care</td>\n      <td>Public</td>\n      <td>NaN</td>\n      <td>NaN</td>\n      <td>NaN</td>\n      <td>NaN</td>\n      <td>NaN</td>\n      <td>2022</td>\n      <td>1974</td>\n      <td>48</td>\n    </tr>\n    <tr>\n      <th>5</th>\n      <td>845</td>\n      <td>185133868</td>\n      <td>291089587</td>\n      <td>10 UNION SQ PFT</td>\n      <td>2000000112</td>\n      <td>Outpatient Visit</td>\n      <td>2022-02-22 00:00:00</td>\n      <td>2022-02-22 00:00:00</td>\n      <td>3754282</td>\n      <td>1974-09-28</td>\n      <td>...</td>\n      <td>Medicaid Managed Care</td>\n      <td>Public</td>\n      <td>NaN</td>\n      <td>NaN</td>\n      <td>NaN</td>\n      <td>NaN</td>\n      <td>NaN</td>\n      <td>2022</td>\n      <td>1974</td>\n      <td>48</td>\n    </tr>\n    <tr>\n      <th>6</th>\n      <td>845</td>\n      <td>194027752</td>\n      <td>293787212</td>\n      <td>17 E 102ND RHEUMATOLOGY CLINIC</td>\n      <td>2000000112</td>\n      <td>Outpatient Visit</td>\n      <td>2022-06-16 00:00:00</td>\n      <td>2022-06-16 00:00:00</td>\n      <td>3754282</td>\n      <td>1974-09-28</td>\n      <td>...</td>\n      <td>Medicaid Managed Care</td>\n      <td>Public</td>\n      <td>NaN</td>\n      <td>NaN</td>\n      <td>NaN</td>\n      <td>NaN</td>\n      <td>NaN</td>\n      <td>2022</td>\n      <td>1974</td>\n      <td>48</td>\n    </tr>\n    <tr>\n      <th>7</th>\n      <td>845</td>\n      <td>194027752</td>\n      <td>293787212</td>\n      <td>17 E 102ND RHEUMATOLOGY CLINIC</td>\n      <td>2000000112</td>\n      <td>Outpatient Visit</td>\n      <td>2022-06-16 00:00:00</td>\n      <td>2022-06-16 00:00:00</td>\n      <td>3754282</td>\n      <td>1974-09-28</td>\n      <td>...</td>\n      <td>Medicaid Managed Care</td>\n      <td>Public</td>\n      <td>NaN</td>\n      <td>NaN</td>\n      <td>NaN</td>\n      <td>NaN</td>\n      <td>NaN</td>\n      <td>2022</td>\n      <td>1974</td>\n      <td>48</td>\n    </tr>\n    <tr>\n      <th>8</th>\n      <td>845</td>\n      <td>194027752</td>\n      <td>293787212</td>\n      <td>17 E 102ND RHEUMATOLOGY CLINIC</td>\n      <td>2000000112</td>\n      <td>Outpatient Visit</td>\n      <td>2022-06-16 00:00:00</td>\n      <td>2022-06-16 00:00:00</td>\n      <td>3754282</td>\n      <td>1974-09-28</td>\n      <td>...</td>\n      <td>Medicaid Managed Care</td>\n      <td>Public</td>\n      <td>NaN</td>\n      <td>NaN</td>\n      <td>NaN</td>\n      <td>NaN</td>\n      <td>NaN</td>\n      <td>2022</td>\n      <td>1974</td>\n      <td>48</td>\n    </tr>\n    <tr>\n      <th>9</th>\n      <td>845</td>\n      <td>197004100</td>\n      <td>302037736</td>\n      <td>17 E 102ND RHEUMATOLOGY CLINIC</td>\n      <td>2000000112</td>\n      <td>Outpatient Visit</td>\n      <td>2022-07-05 00:00:00</td>\n      <td>2022-07-05 00:00:00</td>\n      <td>3754282</td>\n      <td>1974-09-28</td>\n      <td>...</td>\n      <td>Medicaid Managed Care</td>\n      <td>Public</td>\n      <td>NaN</td>\n      <td>NaN</td>\n      <td>NaN</td>\n      <td>NaN</td>\n      <td>NaN</td>\n      <td>2022</td>\n      <td>1974</td>\n      <td>48</td>\n    </tr>\n    <tr>\n      <th>10</th>\n      <td>845</td>\n      <td>197004100</td>\n      <td>302037736</td>\n      <td>17 E 102ND RHEUMATOLOGY CLINIC</td>\n      <td>2000000112</td>\n      <td>Outpatient Visit</td>\n      <td>2022-07-05 00:00:00</td>\n      <td>2022-07-05 00:00:00</td>\n      <td>3754282</td>\n      <td>1974-09-28</td>\n      <td>...</td>\n      <td>Medicaid Managed Care</td>\n      <td>Public</td>\n      <td>NaN</td>\n      <td>NaN</td>\n      <td>NaN</td>\n      <td>NaN</td>\n      <td>NaN</td>\n      <td>2022</td>\n      <td>1974</td>\n      <td>48</td>\n    </tr>\n    <tr>\n      <th>11</th>\n      <td>845</td>\n      <td>197004100</td>\n      <td>302037736</td>\n      <td>17 E 102ND RHEUMATOLOGY CLINIC</td>\n      <td>2000000112</td>\n      <td>Outpatient Visit</td>\n      <td>2022-07-05 00:00:00</td>\n      <td>2022-07-05 00:00:00</td>\n      <td>3754282</td>\n      <td>1974-09-28</td>\n      <td>...</td>\n      <td>Medicaid Managed Care</td>\n      <td>Public</td>\n      <td>NaN</td>\n      <td>NaN</td>\n      <td>NaN</td>\n      <td>NaN</td>\n      <td>NaN</td>\n      <td>2022</td>\n      <td>1974</td>\n      <td>48</td>\n    </tr>\n    <tr>\n      <th>12</th>\n      <td>913</td>\n      <td>198204422</td>\n      <td>304807149</td>\n      <td>341 CENTRAL PARK AVE INTERNAL MEDICINE</td>\n      <td>2000000112</td>\n      <td>Outpatient Visit</td>\n      <td>2022-07-21 00:00:00</td>\n      <td>2022-07-21 00:00:00</td>\n      <td>3657926</td>\n      <td>1952-03-02</td>\n      <td>...</td>\n      <td>Medicare MS</td>\n      <td>Public</td>\n      <td>Anxiety disorder, unspecified</td>\n      <td>F41.9</td>\n      <td>F41.9</td>\n      <td>F41</td>\n      <td>Anxiety and fear-related disorders</td>\n      <td>2022</td>\n      <td>1952</td>\n      <td>70</td>\n    </tr>\n    <tr>\n      <th>13</th>\n      <td>913</td>\n      <td>198204422</td>\n      <td>304807149</td>\n      <td>341 CENTRAL PARK AVE INTERNAL MEDICINE</td>\n      <td>2000000112</td>\n      <td>Outpatient Visit</td>\n      <td>2022-07-21 00:00:00</td>\n      <td>2022-07-21 00:00:00</td>\n      <td>3657926</td>\n      <td>1952-03-02</td>\n      <td>...</td>\n      <td>Medicare MS</td>\n      <td>Public</td>\n      <td>NaN</td>\n      <td>NaN</td>\n      <td>NaN</td>\n      <td>NaN</td>\n      <td>NaN</td>\n      <td>2022</td>\n      <td>1952</td>\n      <td>70</td>\n    </tr>\n    <tr>\n      <th>14</th>\n      <td>913</td>\n      <td>198204422</td>\n      <td>304807149</td>\n      <td>341 CENTRAL PARK AVE INTERNAL MEDICINE</td>\n      <td>2000000112</td>\n      <td>Outpatient Visit</td>\n      <td>2022-07-21 00:00:00</td>\n      <td>2022-07-21 00:00:00</td>\n      <td>3657926</td>\n      <td>1952-03-02</td>\n      <td>...</td>\n      <td>Medicare MS</td>\n      <td>Public</td>\n      <td>NaN</td>\n      <td>NaN</td>\n      <td>NaN</td>\n      <td>NaN</td>\n      <td>NaN</td>\n      <td>2022</td>\n      <td>1952</td>\n      <td>70</td>\n    </tr>\n    <tr>\n      <th>15</th>\n      <td>913</td>\n      <td>198204422</td>\n      <td>304807149</td>\n      <td>341 CENTRAL PARK AVE INTERNAL MEDICINE</td>\n      <td>2000000112</td>\n      <td>Outpatient Visit</td>\n      <td>2022-07-21 00:00:00</td>\n      <td>2022-07-21 00:00:00</td>\n      <td>3657926</td>\n      <td>1952-03-02</td>\n      <td>...</td>\n      <td>Medicare MS</td>\n      <td>Public</td>\n      <td>NaN</td>\n      <td>NaN</td>\n      <td>NaN</td>\n      <td>NaN</td>\n      <td>NaN</td>\n      <td>2022</td>\n      <td>1952</td>\n      <td>70</td>\n    </tr>\n    <tr>\n      <th>16</th>\n      <td>913</td>\n      <td>198204422</td>\n      <td>304807149</td>\n      <td>341 CENTRAL PARK AVE INTERNAL MEDICINE</td>\n      <td>2000000112</td>\n      <td>Outpatient Visit</td>\n      <td>2022-07-21 00:00:00</td>\n      <td>2022-07-21 00:00:00</td>\n      <td>3657926</td>\n      <td>1952-03-02</td>\n      <td>...</td>\n      <td>Medicare MS</td>\n      <td>Public</td>\n      <td>NaN</td>\n      <td>NaN</td>\n      <td>NaN</td>\n      <td>NaN</td>\n      <td>NaN</td>\n      <td>2022</td>\n      <td>1952</td>\n      <td>70</td>\n    </tr>\n    <tr>\n      <th>17</th>\n      <td>913</td>\n      <td>198204422</td>\n      <td>304807149</td>\n      <td>341 CENTRAL PARK AVE INTERNAL MEDICINE</td>\n      <td>2000000112</td>\n      <td>Outpatient Visit</td>\n      <td>2022-07-21 00:00:00</td>\n      <td>2022-07-21 00:00:00</td>\n      <td>3657926</td>\n      <td>1952-03-02</td>\n      <td>...</td>\n      <td>Medicare MS</td>\n      <td>Public</td>\n      <td>NaN</td>\n      <td>NaN</td>\n      <td>NaN</td>\n      <td>NaN</td>\n      <td>NaN</td>\n      <td>2022</td>\n      <td>1952</td>\n      <td>70</td>\n    </tr>\n    <tr>\n      <th>18</th>\n      <td>913</td>\n      <td>198204422</td>\n      <td>304807149</td>\n      <td>341 CENTRAL PARK AVE INTERNAL MEDICINE</td>\n      <td>2000000112</td>\n      <td>Outpatient Visit</td>\n      <td>2022-07-21 00:00:00</td>\n      <td>2022-07-21 00:00:00</td>\n      <td>3657926</td>\n      <td>1952-03-02</td>\n      <td>...</td>\n      <td>Medicare MS</td>\n      <td>Public</td>\n      <td>NaN</td>\n      <td>NaN</td>\n      <td>NaN</td>\n      <td>NaN</td>\n      <td>NaN</td>\n      <td>2022</td>\n      <td>1952</td>\n      <td>70</td>\n    </tr>\n    <tr>\n      <th>19</th>\n      <td>913</td>\n      <td>198204422</td>\n      <td>304807149</td>\n      <td>341 CENTRAL PARK AVE INTERNAL MEDICINE</td>\n      <td>2000000112</td>\n      <td>Outpatient Visit</td>\n      <td>2022-07-21 00:00:00</td>\n      <td>2022-07-21 00:00:00</td>\n      <td>3657926</td>\n      <td>1952-03-02</td>\n      <td>...</td>\n      <td>Medicare MS</td>\n      <td>Public</td>\n      <td>Depression, unspecified</td>\n      <td>F32.A</td>\n      <td>F32.A</td>\n      <td>F32</td>\n      <td>Depressive disorders</td>\n      <td>2022</td>\n      <td>1952</td>\n      <td>70</td>\n    </tr>\n  </tbody>\n</table>\n<p>20 rows × 40 columns</p>\n</div>"
     },
     "execution_count": 3,
     "metadata": {},
     "output_type": "execute_result"
    }
   ],
   "source": [
    "# psych_encounters.xtn_birth_date.clip()\n",
    "#\n",
    "# psych_encounters.clip(lower=pd.Series({'xtn_birth_date': 2.5}), upper=pd.Series({'xtn_birth_date': 2.5}), axis=1)\n",
    "\n",
    "all_encounters['visit_year'] = pd.to_datetime(all_encounters['visit_start_datetime']).dt.year\n",
    "all_encounters['birth_year'] = pd.to_datetime(all_encounters['xtn_birth_date']).dt.year\n",
    "\n",
    "all_encounters['age_at_visit'] = all_encounters['visit_year'] - all_encounters['birth_year']\n",
    "\n",
    "# def calculate_age_diagnosis(born):\n",
    "#     birth_year = born.year\n",
    "#     visit_year = all_encounters.visit_start_datetime.year\n",
    "#     return birth_year - visit_year # today.year - born.year - ((today.month, today.day) < (born.month, born.day))\n",
    "#\n",
    "# all_encounters['age_diagnosis'] = all_encounters['xtn_birth_date'].apply(calculate_age_diagnosis)\n",
    "all_encounters.head(20)"
   ],
   "metadata": {
    "collapsed": false,
    "pycharm": {
     "name": "#%%\n"
    }
   }
  },
  {
   "cell_type": "code",
   "execution_count": 6,
   "outputs": [
    {
     "data": {
      "text/plain": "White                                        12387606\nHispanic or Latino                            6122720\nBlack or African American                     4301307\nOther Race                                    2526292\nNaN                                           1854888\nAsian                                          962550\nMixed racial group                              69772\nNative Hawaiian or Other Pacific Islander       45890\nDecline to Answer                               35075\nAmerican Indian or Alaska Native                20141\nName: merged_race_ethnicity_v2, dtype: int64"
     },
     "execution_count": 6,
     "metadata": {},
     "output_type": "execute_result"
    }
   ],
   "source": [
    "all_encounters.merged_race_ethnicity_v2.value_counts(dropna=False)"
   ],
   "metadata": {
    "collapsed": false,
    "pycharm": {
     "name": "#%%\n"
    }
   }
  },
  {
   "cell_type": "code",
   "execution_count": 5,
   "outputs": [],
   "source": [
    "psych_encounters = all_encounters.groupby('visit_occurrence_id').filter(lambda x: x['psych_condition'].mean() > 0)\n",
    "pd.DataFrame.to_csv(psych_encounters, \"/Users/valena17/psych_nlp/data/clean_psych_encounters_conditions_patients.csv\",index = False)"
   ],
   "metadata": {
    "collapsed": false,
    "pycharm": {
     "name": "#%%\n"
    }
   }
  },
  {
   "cell_type": "code",
   "execution_count": null,
   "outputs": [],
   "source": [],
   "metadata": {
    "collapsed": false,
    "pycharm": {
     "name": "#%%\n"
    }
   }
  }
 ],
 "metadata": {
  "kernelspec": {
   "display_name": "Python 3",
   "language": "python",
   "name": "python3"
  },
  "language_info": {
   "codemirror_mode": {
    "name": "ipython",
    "version": 2
   },
   "file_extension": ".py",
   "mimetype": "text/x-python",
   "name": "python",
   "nbconvert_exporter": "python",
   "pygments_lexer": "ipython2",
   "version": "2.7.6"
  }
 },
 "nbformat": 4,
 "nbformat_minor": 0
}