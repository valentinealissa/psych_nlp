{
 "cells": [
  {
   "cell_type": "code",
   "execution_count": 2,
   "metadata": {
    "collapsed": true,
    "pycharm": {
     "name": "#%%\n"
    }
   },
   "outputs": [],
   "source": [
    "# importing moules\n",
    "import os\n",
    "import pandas as pd\n",
    "import matplotlib\n",
    "import numpy as np\n",
    "from datetime import date\n",
    "# setting path and file names\n",
    "in_path = \"/Users/valena17/DataGripProjects/msdw2/output\"\n",
    "in_file = \"SNOMED_psych_MRNs_vo.csv\"\n",
    "in_file2 = \"test.csv\" # \"SNOMED_psych_MRNs_vo_ek.csv\"\n",
    "in_file3 = \"test3.csv\"\n",
    "# in_path = \"/Users/valena17/psych_nlp/data/\"\n",
    "# in_file = \"CONCAT_PSYCH_NOTES_092020.csv\"\n",
    "_filename = os.path.join(in_path, in_file)\n",
    "_filename2 = os.path.join(in_path, in_file2)\n",
    "_filename3 = os.path.join(in_path, in_file3)"
   ]
  },
  {
   "cell_type": "code",
   "execution_count": 7,
   "outputs": [
    {
     "name": "stderr",
     "output_type": "stream",
     "text": [
      "/var/folders/xm/m4dy5bvs1fn7fb9wxjhsg4dc0000gn/T/ipykernel_69992/3581023670.py:7: DtypeWarning: Columns (14,16,27) have mixed types. Specify dtype option on import or set low_memory=False.\n",
      "  df = pd.read_csv('/Users/valena17/DataGripProjects/msdw2/output/testing_everything_3.csv', names=header_list)\n"
     ]
    },
    {
     "name": "stdout",
     "output_type": "stream",
     "text": [
      "person_id                                      335693\n",
      "visit_occurrence_id                           2079736\n",
      "etl_epic_encounter_key                        2079736\n",
      "xtn_department_name                              2783\n",
      "xtn_visit_type_source_concept_id                    8\n",
      "xtn_visit_type_source_concept_code                  8\n",
      "visit_start_datetime                           152612\n",
      "visit_end_datetime                             143278\n",
      "xtn_inpatient_admission_datetime                46961\n",
      "xtn_discharge_datetime                         136858\n",
      "xtn_patient_epic_mrn                           335693\n",
      "xtn_birth_date                                  38042\n",
      "xtn_race_ethnicity_source_concept_code              9\n",
      "xtn_race_ethnicity_source_concept_name              9\n",
      "race_source_concept_code                          167\n",
      "race_source_concept_name                          100\n",
      "gender_source_concept_code                         13\n",
      "gender_source_concept_name                          8\n",
      "xtn_gender_identity_source_concept_code            11\n",
      "xtn_gender_identity_source_concept_name            11\n",
      "xtn_sexual_orientation_source_concept_code         10\n",
      "xtn_sexual_orientation_source_concept_name         10\n",
      "xtn_condition_status_source_concept_code            8\n",
      "condition_concept_id                             9224\n",
      "condition_concept_code                           9224\n",
      "condition_concept_name                           9223\n",
      "condition_start_datetime                         6317\n",
      "xtn_five_digit_zip                               8903\n",
      "location_record_update_datetime                  1505\n",
      "dtype: int64\n"
     ]
    }
   ],
   "source": [
    "header_list=['person_id', 'visit_occurrence_id', 'etl_epic_encounter_key', 'xtn_department_name', 'xtn_visit_type_source_concept_id',\n",
    "             'xtn_visit_type_source_concept_code', 'visit_start_datetime', 'visit_end_datetime', 'xtn_inpatient_admission_datetime',\n",
    "             'xtn_discharge_datetime', 'xtn_patient_epic_mrn', 'xtn_birth_date', 'xtn_race_ethnicity_source_concept_code',\n",
    "             'xtn_race_ethnicity_source_concept_name', 'race_source_concept_code', 'race_source_concept_name',\n",
    "             'gender_source_concept_code', 'gender_source_concept_name', 'xtn_gender_identity_source_concept_code',\n",
    "             'xtn_gender_identity_source_concept_name', 'xtn_sexual_orientation_source_concept_code', 'xtn_sexual_orientation_source_concept_name', 'xtn_condition_status_source_concept_code', 'condition_concept_id', 'condition_concept_code', 'condition_concept_name', 'condition_start_datetime', 'xtn_five_digit_zip', 'location_record_update_datetime']\n",
    "df = pd.read_csv('/Users/valena17/DataGripProjects/msdw2/output/testing_everything_3.csv', names=header_list)\n",
    "print(df.nunique(axis=0)) # for 2,079,736 encounters --> 12,096,664 conditions"
   ],
   "metadata": {
    "collapsed": false,
    "pycharm": {
     "name": "#%%\n"
    }
   }
  },
  {
   "cell_type": "code",
   "execution_count": 9,
   "outputs": [
    {
     "data": {
      "text/plain": "          person_id  visit_occurrence_id  etl_epic_encounter_key  \\\n0          13377195              1067180                83118837   \n1          15000600            170004157                60394885   \n2           1819475             66648543                78048668   \n3           8834050            156063384               102109684   \n4           4794633            169997280                10280319   \n...             ...                  ...                     ...   \n12096659    1013578             55821698                54393459   \n12096660    2327009             70427415               190253345   \n12096661   15041858            195419810               297372126   \n12096662   13078329            183558748               259084434   \n12096663    2301413            191540580                99760095   \n\n                         xtn_department_name  \\\n0         X_10 UNION SQ E CARDIO_DEACTIVATED   \n1                     X_325 W 15TH ST CANCER   \n2                     X_10 UNION SQ E GASTRO   \n3                 5 E 98  RMTI LIVER SURGERY   \n4                                       MICU   \n...                                      ...   \n12096659          1468 MADISON HOSP PEDS GEN   \n12096660   X_EMERGENCY DEPT WEST_DEACTIVATED   \n12096661          1470 MADISON CANCER CENTER   \n12096662        341 CENTRAL PARK AVE ALLERGY   \n12096663      X_440 W 114 CARDIO_DEACTIVATED   \n\n          xtn_visit_type_source_concept_id  \\\n0                               2000000112   \n1                               2000000112   \n2                               2000000112   \n3                                        0   \n4                               2000000099   \n...                                    ...   \n12096659                        2000000112   \n12096660                        2000000113   \n12096661                        2000000112   \n12096662                        2000000112   \n12096663                        2000000112   \n\n               xtn_visit_type_source_concept_code visit_start_datetime  \\\n0                                Outpatient Visit  2018-08-31 00:00:00   \n1                                Outpatient Visit  2018-02-28 00:00:00   \n2                                Outpatient Visit  2018-04-20 00:00:00   \n3                             No matching concept  2019-10-22 00:00:00   \n4         Inpatient Hospitalization from ED Visit  2011-09-03 20:18:00   \n...                                           ...                  ...   \n12096659                         Outpatient Visit  2017-02-14 00:00:00   \n12096660                                 ED Visit  2020-11-13 12:26:00   \n12096661                         Outpatient Visit  2022-05-18 00:00:00   \n12096662                         Outpatient Visit  2021-05-27 00:00:00   \n12096663                         Outpatient Visit  2019-09-13 00:00:00   \n\n           visit_end_datetime xtn_inpatient_admission_datetime  \\\n0         2018-08-31 00:00:00                              NaN   \n1         2018-02-28 00:00:00                              NaN   \n2         2018-04-20 00:00:00                              NaN   \n3         2019-10-22 00:00:00                              NaN   \n4         2011-09-12 22:40:00              2011-09-03 22:05:00   \n...                       ...                              ...   \n12096659  2017-02-14 00:00:00                              NaN   \n12096660  2020-11-13 18:50:00                              NaN   \n12096661  2022-05-18 00:00:00                              NaN   \n12096662  2021-05-27 00:00:00                              NaN   \n12096663  2019-09-13 00:00:00                              NaN   \n\n         xtn_discharge_datetime  ... xtn_gender_identity_source_concept_name  \\\n0                           NaN  ...                                    Male   \n1                           NaN  ...                                  Female   \n2                           NaN  ...                                  Female   \n3                           NaN  ...                                    Male   \n4           2011-09-12 22:40:00  ...                            *Unspecified   \n...                         ...  ...                                     ...   \n12096659                    NaN  ...                            *Unspecified   \n12096660    2020-11-13 18:50:00  ...                                    Male   \n12096661                    NaN  ...                                    Male   \n12096662                    NaN  ...                                  Female   \n12096663                    NaN  ...                            *Unspecified   \n\n         xtn_sexual_orientation_source_concept_code  \\\n0                                      *Unspecified   \n1                                      *Unspecified   \n2                                      *Unspecified   \n3                                      *Unspecified   \n4                                      *Unspecified   \n...                                             ...   \n12096659                               *Unspecified   \n12096660                               *Unspecified   \n12096661                               *Unspecified   \n12096662                                          2   \n12096663                               *Unspecified   \n\n         xtn_sexual_orientation_source_concept_name  \\\n0                                      *Unspecified   \n1                                      *Unspecified   \n2                                      *Unspecified   \n3                                      *Unspecified   \n4                                      *Unspecified   \n...                                             ...   \n12096659                               *Unspecified   \n12096660                               *Unspecified   \n12096661                               *Unspecified   \n12096662              Straight (not lesbian or gay)   \n12096663                               *Unspecified   \n\n         xtn_condition_status_source_concept_code condition_concept_id  \\\n0                                    Problem List               432867   \n1                                    Problem List               320128   \n2                               Primary Diagnosis             45769139   \n3                               Primary Diagnosis               439502   \n4                                Hospital Problem              4112853   \n...                                           ...                  ...   \n12096659                        Billing Diagnosis               141654   \n12096660                        Billing Diagnosis               764123   \n12096661                        Billing Diagnosis               200962   \n12096662                        Billing Diagnosis              4146581   \n12096663                        Billing Diagnosis               764123   \n\n         condition_concept_code  \\\n0                      55822004   \n1                      59621000   \n2                     707724006   \n3                     213299007   \n4                     254837009   \n...                         ...   \n12096659              200776003   \n12096660        451041000124103   \n12096661               93974005   \n12096662              427679007   \n12096663        451041000124103   \n\n                                     condition_concept_name  \\\n0                                            Hyperlipidemia   \n1                                    Essential hypertension   \n2                              Elevated liver enzymes level   \n3                                        Postoperative pain   \n4                                 Malignant tumor of breast   \n...                                                     ...   \n12096659                    Infantile seborrheic dermatitis   \n12096660  Atherosclerosis of coronary artery without ang...   \n12096661             Primary malignant neoplasm of prostate   \n12096662                           Mild intermittent asthma   \n12096663  Atherosclerosis of coronary artery without ang...   \n\n         condition_start_datetime xtn_five_digit_zip  \\\n0                      2018-08-27            10003.0   \n1                      2018-02-28            10009.0   \n2                      2018-04-20            10011.0   \n3                      2019-10-22            11803.0   \n4                      2011-09-03            11373.0   \n...                           ...                ...   \n12096659               2017-02-14            10026.0   \n12096660               2020-11-13            10025.0   \n12096661               2022-05-18            10023.0   \n12096662               2021-05-27            10034.0   \n12096663               2019-09-13            10025.0   \n\n         location_record_update_datetime  \n0                2021-12-07 01:40:53.750  \n1                2022-09-07 01:50:32.980  \n2                2021-12-07 01:40:53.750  \n3                2021-11-07 08:56:05.387  \n4                2021-11-17 01:36:00.597  \n...                                  ...  \n12096659         2021-11-07 08:56:52.673  \n12096660         2022-09-26 02:01:23.237  \n12096661         2022-09-17 01:38:34.553  \n12096662         2021-12-07 01:40:53.750  \n12096663         2021-11-17 01:36:00.597  \n\n[12096664 rows x 29 columns]",
      "text/html": "<div>\n<style scoped>\n    .dataframe tbody tr th:only-of-type {\n        vertical-align: middle;\n    }\n\n    .dataframe tbody tr th {\n        vertical-align: top;\n    }\n\n    .dataframe thead th {\n        text-align: right;\n    }\n</style>\n<table border=\"1\" class=\"dataframe\">\n  <thead>\n    <tr style=\"text-align: right;\">\n      <th></th>\n      <th>person_id</th>\n      <th>visit_occurrence_id</th>\n      <th>etl_epic_encounter_key</th>\n      <th>xtn_department_name</th>\n      <th>xtn_visit_type_source_concept_id</th>\n      <th>xtn_visit_type_source_concept_code</th>\n      <th>visit_start_datetime</th>\n      <th>visit_end_datetime</th>\n      <th>xtn_inpatient_admission_datetime</th>\n      <th>xtn_discharge_datetime</th>\n      <th>...</th>\n      <th>xtn_gender_identity_source_concept_name</th>\n      <th>xtn_sexual_orientation_source_concept_code</th>\n      <th>xtn_sexual_orientation_source_concept_name</th>\n      <th>xtn_condition_status_source_concept_code</th>\n      <th>condition_concept_id</th>\n      <th>condition_concept_code</th>\n      <th>condition_concept_name</th>\n      <th>condition_start_datetime</th>\n      <th>xtn_five_digit_zip</th>\n      <th>location_record_update_datetime</th>\n    </tr>\n  </thead>\n  <tbody>\n    <tr>\n      <th>0</th>\n      <td>13377195</td>\n      <td>1067180</td>\n      <td>83118837</td>\n      <td>X_10 UNION SQ E CARDIO_DEACTIVATED</td>\n      <td>2000000112</td>\n      <td>Outpatient Visit</td>\n      <td>2018-08-31 00:00:00</td>\n      <td>2018-08-31 00:00:00</td>\n      <td>NaN</td>\n      <td>NaN</td>\n      <td>...</td>\n      <td>Male</td>\n      <td>*Unspecified</td>\n      <td>*Unspecified</td>\n      <td>Problem List</td>\n      <td>432867</td>\n      <td>55822004</td>\n      <td>Hyperlipidemia</td>\n      <td>2018-08-27</td>\n      <td>10003.0</td>\n      <td>2021-12-07 01:40:53.750</td>\n    </tr>\n    <tr>\n      <th>1</th>\n      <td>15000600</td>\n      <td>170004157</td>\n      <td>60394885</td>\n      <td>X_325 W 15TH ST CANCER</td>\n      <td>2000000112</td>\n      <td>Outpatient Visit</td>\n      <td>2018-02-28 00:00:00</td>\n      <td>2018-02-28 00:00:00</td>\n      <td>NaN</td>\n      <td>NaN</td>\n      <td>...</td>\n      <td>Female</td>\n      <td>*Unspecified</td>\n      <td>*Unspecified</td>\n      <td>Problem List</td>\n      <td>320128</td>\n      <td>59621000</td>\n      <td>Essential hypertension</td>\n      <td>2018-02-28</td>\n      <td>10009.0</td>\n      <td>2022-09-07 01:50:32.980</td>\n    </tr>\n    <tr>\n      <th>2</th>\n      <td>1819475</td>\n      <td>66648543</td>\n      <td>78048668</td>\n      <td>X_10 UNION SQ E GASTRO</td>\n      <td>2000000112</td>\n      <td>Outpatient Visit</td>\n      <td>2018-04-20 00:00:00</td>\n      <td>2018-04-20 00:00:00</td>\n      <td>NaN</td>\n      <td>NaN</td>\n      <td>...</td>\n      <td>Female</td>\n      <td>*Unspecified</td>\n      <td>*Unspecified</td>\n      <td>Primary Diagnosis</td>\n      <td>45769139</td>\n      <td>707724006</td>\n      <td>Elevated liver enzymes level</td>\n      <td>2018-04-20</td>\n      <td>10011.0</td>\n      <td>2021-12-07 01:40:53.750</td>\n    </tr>\n    <tr>\n      <th>3</th>\n      <td>8834050</td>\n      <td>156063384</td>\n      <td>102109684</td>\n      <td>5 E 98  RMTI LIVER SURGERY</td>\n      <td>0</td>\n      <td>No matching concept</td>\n      <td>2019-10-22 00:00:00</td>\n      <td>2019-10-22 00:00:00</td>\n      <td>NaN</td>\n      <td>NaN</td>\n      <td>...</td>\n      <td>Male</td>\n      <td>*Unspecified</td>\n      <td>*Unspecified</td>\n      <td>Primary Diagnosis</td>\n      <td>439502</td>\n      <td>213299007</td>\n      <td>Postoperative pain</td>\n      <td>2019-10-22</td>\n      <td>11803.0</td>\n      <td>2021-11-07 08:56:05.387</td>\n    </tr>\n    <tr>\n      <th>4</th>\n      <td>4794633</td>\n      <td>169997280</td>\n      <td>10280319</td>\n      <td>MICU</td>\n      <td>2000000099</td>\n      <td>Inpatient Hospitalization from ED Visit</td>\n      <td>2011-09-03 20:18:00</td>\n      <td>2011-09-12 22:40:00</td>\n      <td>2011-09-03 22:05:00</td>\n      <td>2011-09-12 22:40:00</td>\n      <td>...</td>\n      <td>*Unspecified</td>\n      <td>*Unspecified</td>\n      <td>*Unspecified</td>\n      <td>Hospital Problem</td>\n      <td>4112853</td>\n      <td>254837009</td>\n      <td>Malignant tumor of breast</td>\n      <td>2011-09-03</td>\n      <td>11373.0</td>\n      <td>2021-11-17 01:36:00.597</td>\n    </tr>\n    <tr>\n      <th>...</th>\n      <td>...</td>\n      <td>...</td>\n      <td>...</td>\n      <td>...</td>\n      <td>...</td>\n      <td>...</td>\n      <td>...</td>\n      <td>...</td>\n      <td>...</td>\n      <td>...</td>\n      <td>...</td>\n      <td>...</td>\n      <td>...</td>\n      <td>...</td>\n      <td>...</td>\n      <td>...</td>\n      <td>...</td>\n      <td>...</td>\n      <td>...</td>\n      <td>...</td>\n      <td>...</td>\n    </tr>\n    <tr>\n      <th>12096659</th>\n      <td>1013578</td>\n      <td>55821698</td>\n      <td>54393459</td>\n      <td>1468 MADISON HOSP PEDS GEN</td>\n      <td>2000000112</td>\n      <td>Outpatient Visit</td>\n      <td>2017-02-14 00:00:00</td>\n      <td>2017-02-14 00:00:00</td>\n      <td>NaN</td>\n      <td>NaN</td>\n      <td>...</td>\n      <td>*Unspecified</td>\n      <td>*Unspecified</td>\n      <td>*Unspecified</td>\n      <td>Billing Diagnosis</td>\n      <td>141654</td>\n      <td>200776003</td>\n      <td>Infantile seborrheic dermatitis</td>\n      <td>2017-02-14</td>\n      <td>10026.0</td>\n      <td>2021-11-07 08:56:52.673</td>\n    </tr>\n    <tr>\n      <th>12096660</th>\n      <td>2327009</td>\n      <td>70427415</td>\n      <td>190253345</td>\n      <td>X_EMERGENCY DEPT WEST_DEACTIVATED</td>\n      <td>2000000113</td>\n      <td>ED Visit</td>\n      <td>2020-11-13 12:26:00</td>\n      <td>2020-11-13 18:50:00</td>\n      <td>NaN</td>\n      <td>2020-11-13 18:50:00</td>\n      <td>...</td>\n      <td>Male</td>\n      <td>*Unspecified</td>\n      <td>*Unspecified</td>\n      <td>Billing Diagnosis</td>\n      <td>764123</td>\n      <td>451041000124103</td>\n      <td>Atherosclerosis of coronary artery without ang...</td>\n      <td>2020-11-13</td>\n      <td>10025.0</td>\n      <td>2022-09-26 02:01:23.237</td>\n    </tr>\n    <tr>\n      <th>12096661</th>\n      <td>15041858</td>\n      <td>195419810</td>\n      <td>297372126</td>\n      <td>1470 MADISON CANCER CENTER</td>\n      <td>2000000112</td>\n      <td>Outpatient Visit</td>\n      <td>2022-05-18 00:00:00</td>\n      <td>2022-05-18 00:00:00</td>\n      <td>NaN</td>\n      <td>NaN</td>\n      <td>...</td>\n      <td>Male</td>\n      <td>*Unspecified</td>\n      <td>*Unspecified</td>\n      <td>Billing Diagnosis</td>\n      <td>200962</td>\n      <td>93974005</td>\n      <td>Primary malignant neoplasm of prostate</td>\n      <td>2022-05-18</td>\n      <td>10023.0</td>\n      <td>2022-09-17 01:38:34.553</td>\n    </tr>\n    <tr>\n      <th>12096662</th>\n      <td>13078329</td>\n      <td>183558748</td>\n      <td>259084434</td>\n      <td>341 CENTRAL PARK AVE ALLERGY</td>\n      <td>2000000112</td>\n      <td>Outpatient Visit</td>\n      <td>2021-05-27 00:00:00</td>\n      <td>2021-05-27 00:00:00</td>\n      <td>NaN</td>\n      <td>NaN</td>\n      <td>...</td>\n      <td>Female</td>\n      <td>2</td>\n      <td>Straight (not lesbian or gay)</td>\n      <td>Billing Diagnosis</td>\n      <td>4146581</td>\n      <td>427679007</td>\n      <td>Mild intermittent asthma</td>\n      <td>2021-05-27</td>\n      <td>10034.0</td>\n      <td>2021-12-07 01:40:53.750</td>\n    </tr>\n    <tr>\n      <th>12096663</th>\n      <td>2301413</td>\n      <td>191540580</td>\n      <td>99760095</td>\n      <td>X_440 W 114 CARDIO_DEACTIVATED</td>\n      <td>2000000112</td>\n      <td>Outpatient Visit</td>\n      <td>2019-09-13 00:00:00</td>\n      <td>2019-09-13 00:00:00</td>\n      <td>NaN</td>\n      <td>NaN</td>\n      <td>...</td>\n      <td>*Unspecified</td>\n      <td>*Unspecified</td>\n      <td>*Unspecified</td>\n      <td>Billing Diagnosis</td>\n      <td>764123</td>\n      <td>451041000124103</td>\n      <td>Atherosclerosis of coronary artery without ang...</td>\n      <td>2019-09-13</td>\n      <td>10025.0</td>\n      <td>2021-11-17 01:36:00.597</td>\n    </tr>\n  </tbody>\n</table>\n<p>12096664 rows × 29 columns</p>\n</div>"
     },
     "execution_count": 9,
     "metadata": {},
     "output_type": "execute_result"
    }
   ],
   "source": [
    "df"
   ],
   "metadata": {
    "collapsed": false,
    "pycharm": {
     "name": "#%%\n"
    }
   }
  },
  {
   "cell_type": "code",
   "execution_count": 4,
   "outputs": [
    {
     "name": "stdout",
     "output_type": "stream",
     "text": [
      "12010686\n"
     ]
    }
   ],
   "source": [
    "df = pd.read_csv('/Users/valena17/psych_nlp/data/all_encounters_id_vo_ek.csv', header=0)\n",
    "print(len(df.visit_occurrence_id))"
   ],
   "metadata": {
    "collapsed": false,
    "pycharm": {
     "name": "#%%\n"
    }
   }
  },
  {
   "cell_type": "code",
   "execution_count": 19,
   "outputs": [
    {
     "data": {
      "text/plain": "   person_id xtn_patient_epic_mrn  visit_occurrence_id  etl_epic_encounter_key\n0   13183689              A505118            194634342               294798200\n1    2888417              5373930             62138711               185993834\n2    4607713              2738824            178436770                22278135\n3    2835428              8288676             36506151               186704819\n4   14371453              2472677             98322156                14423393\n5    3873071              6480867             44815968                63707313\n6    9133122              3634063             27793574                23121451\n7    1654503              8830685            120404015               102092762\n8    3197752               983710            191602287                99948843\n9    1071477              7759788             26024226                54618691",
      "text/html": "<div>\n<style scoped>\n    .dataframe tbody tr th:only-of-type {\n        vertical-align: middle;\n    }\n\n    .dataframe tbody tr th {\n        vertical-align: top;\n    }\n\n    .dataframe thead th {\n        text-align: right;\n    }\n</style>\n<table border=\"1\" class=\"dataframe\">\n  <thead>\n    <tr style=\"text-align: right;\">\n      <th></th>\n      <th>person_id</th>\n      <th>xtn_patient_epic_mrn</th>\n      <th>visit_occurrence_id</th>\n      <th>etl_epic_encounter_key</th>\n    </tr>\n  </thead>\n  <tbody>\n    <tr>\n      <th>0</th>\n      <td>13183689</td>\n      <td>A505118</td>\n      <td>194634342</td>\n      <td>294798200</td>\n    </tr>\n    <tr>\n      <th>1</th>\n      <td>2888417</td>\n      <td>5373930</td>\n      <td>62138711</td>\n      <td>185993834</td>\n    </tr>\n    <tr>\n      <th>2</th>\n      <td>4607713</td>\n      <td>2738824</td>\n      <td>178436770</td>\n      <td>22278135</td>\n    </tr>\n    <tr>\n      <th>3</th>\n      <td>2835428</td>\n      <td>8288676</td>\n      <td>36506151</td>\n      <td>186704819</td>\n    </tr>\n    <tr>\n      <th>4</th>\n      <td>14371453</td>\n      <td>2472677</td>\n      <td>98322156</td>\n      <td>14423393</td>\n    </tr>\n    <tr>\n      <th>5</th>\n      <td>3873071</td>\n      <td>6480867</td>\n      <td>44815968</td>\n      <td>63707313</td>\n    </tr>\n    <tr>\n      <th>6</th>\n      <td>9133122</td>\n      <td>3634063</td>\n      <td>27793574</td>\n      <td>23121451</td>\n    </tr>\n    <tr>\n      <th>7</th>\n      <td>1654503</td>\n      <td>8830685</td>\n      <td>120404015</td>\n      <td>102092762</td>\n    </tr>\n    <tr>\n      <th>8</th>\n      <td>3197752</td>\n      <td>983710</td>\n      <td>191602287</td>\n      <td>99948843</td>\n    </tr>\n    <tr>\n      <th>9</th>\n      <td>1071477</td>\n      <td>7759788</td>\n      <td>26024226</td>\n      <td>54618691</td>\n    </tr>\n  </tbody>\n</table>\n</div>"
     },
     "execution_count": 19,
     "metadata": {},
     "output_type": "execute_result"
    }
   ],
   "source": [
    "df1 = df.iloc[0:10]\n",
    "pd.DataFrame.to_csv(df1, \"../data/part1.csv\",header=False, index = False, mode = 'a')\n",
    "\n",
    "# 13183689,A505118,194634342,294798200\n",
    "# df2 = df.iloc[1201069:2402137]\n",
    "# df2 = df.iloc[2402137:3603206]\n",
    "# df2 = df.iloc[3603206:]"
   ],
   "metadata": {
    "collapsed": false,
    "pycharm": {
     "name": "#%%\n"
    }
   }
  },
  {
   "cell_type": "code",
   "execution_count": 49,
   "outputs": [
    {
     "name": "stdout",
     "output_type": "stream",
     "text": [
      "person_id                   466971\n",
      "xtn_patient_epic_mrn        466971\n",
      "visit_occurrence_id       12013290\n",
      "etl_epic_encounter_key    12013272\n",
      "dtype: int64\n",
      "False    12013290\n",
      "True          779\n",
      "Name: d_last, dtype: int64\n",
      "person_id                 205\n",
      "xtn_patient_epic_mrn      205\n",
      "visit_occurrence_id       779\n",
      "etl_epic_encounter_key    779\n",
      "d_last                      2\n",
      "d                           2\n",
      "dtype: int64\n",
      "person_id                   466766\n",
      "xtn_patient_epic_mrn        466766\n",
      "visit_occurrence_id       12010757\n",
      "etl_epic_encounter_key    12010739\n",
      "d_last                           1\n",
      "d                                1\n",
      "dtype: int64\n",
      "False    12010739\n",
      "True           18\n",
      "Name: d_last, dtype: int64\n",
      "person_id                  1\n",
      "xtn_patient_epic_mrn       1\n",
      "visit_occurrence_id       36\n",
      "etl_epic_encounter_key    18\n",
      "d_last                     2\n",
      "d                          2\n",
      "dtype: int64\n",
      "person_id                   466765\n",
      "xtn_patient_epic_mrn        466765\n",
      "visit_occurrence_id       12010686\n",
      "etl_epic_encounter_key    12010686\n",
      "d_last                           1\n",
      "d                                1\n",
      "dtype: int64\n"
     ]
    }
   ],
   "source": [
    "with open(_filename3) as f:\n",
    "    df = pd.read_csv(f)\n",
    "df\n",
    "# print(df.nunique(axis=0))\n",
    "no_zeros = df[(df['visit_occurrence_id'] != 0) & (df['person_id'] != 0) & (df['etl_epic_encounter_key'] != 0)]\n",
    "print(no_zeros.nunique(axis=0))\n",
    "\n",
    "no_zeros['d_last'] = no_zeros.duplicated(subset = ['visit_occurrence_id'], keep = 'last')\n",
    "no_zeros['d'] = no_zeros.duplicated(subset = ['visit_occurrence_id'])\n",
    "print(no_zeros['d_last'].value_counts()) #210\n",
    "ds = no_zeros[(no_zeros[\"d\"]==True) | (no_zeros[\"d_last\"]==True)]\n",
    "print(ds.nunique(axis=0))\n",
    "a = list(ds.person_id)\n",
    "index_names = no_zeros[ no_zeros['person_id'].isin(a) ].index\n",
    "no_zeros.drop(index_names, inplace = True)\n",
    "print(no_zeros.nunique(axis=0))\n",
    "\n",
    "no_zeros['d_last'] = no_zeros.duplicated(subset = ['etl_epic_encounter_key'], keep = 'last')\n",
    "no_zeros['d'] = no_zeros.duplicated(subset = ['etl_epic_encounter_key'])\n",
    "print(no_zeros['d_last'].value_counts()) #210\n",
    "ds = no_zeros[(no_zeros[\"d\"]==True) | (no_zeros[\"d_last\"]==True)]\n",
    "print(ds.nunique(axis=0))\n",
    "a = list(ds.person_id)\n",
    "index_names = no_zeros[ no_zeros['person_id'].isin(a) ].index\n",
    "no_zeros.drop(index_names, inplace = True)\n",
    "print(no_zeros.nunique(axis=0))"
   ],
   "metadata": {
    "collapsed": false,
    "pycharm": {
     "name": "#%%\n"
    }
   }
  },
  {
   "cell_type": "code",
   "execution_count": 51,
   "outputs": [],
   "source": [
    "pd.DataFrame.to_csv(no_zeros, \"../data/clean_id_vo_ek.csv\", columns= ('person_id', 'xtn_patient_epic_mrn','visit_occurrence_id','etl_epic_encounter_key'),index = False)"
   ],
   "metadata": {
    "collapsed": false,
    "pycharm": {
     "name": "#%%\n"
    }
   }
  },
  {
   "cell_type": "code",
   "execution_count": 19,
   "outputs": [
    {
     "data": {
      "text/plain": "         person_id xtn_patient_epic_mrn  visit_occurrence_id\n0         13083159              2627504            185153035\n1          2616596              1767121            110834371\n2          5086462              7092280             61780949\n3         13359129              7579933             78993822\n4          3530440              2526127             37685275\n...            ...                  ...                  ...\n2818059    3484845              2972601              3721159\n2818060    1022959              2503505            111216644\n2818061   14399883              1624339             75486977\n2818062    6885850              6047375             54213585\n2818063     577247              1236134                    0\n\n[2818064 rows x 3 columns]",
      "text/html": "<div>\n<style scoped>\n    .dataframe tbody tr th:only-of-type {\n        vertical-align: middle;\n    }\n\n    .dataframe tbody tr th {\n        vertical-align: top;\n    }\n\n    .dataframe thead th {\n        text-align: right;\n    }\n</style>\n<table border=\"1\" class=\"dataframe\">\n  <thead>\n    <tr style=\"text-align: right;\">\n      <th></th>\n      <th>person_id</th>\n      <th>xtn_patient_epic_mrn</th>\n      <th>visit_occurrence_id</th>\n    </tr>\n  </thead>\n  <tbody>\n    <tr>\n      <th>0</th>\n      <td>13083159</td>\n      <td>2627504</td>\n      <td>185153035</td>\n    </tr>\n    <tr>\n      <th>1</th>\n      <td>2616596</td>\n      <td>1767121</td>\n      <td>110834371</td>\n    </tr>\n    <tr>\n      <th>2</th>\n      <td>5086462</td>\n      <td>7092280</td>\n      <td>61780949</td>\n    </tr>\n    <tr>\n      <th>3</th>\n      <td>13359129</td>\n      <td>7579933</td>\n      <td>78993822</td>\n    </tr>\n    <tr>\n      <th>4</th>\n      <td>3530440</td>\n      <td>2526127</td>\n      <td>37685275</td>\n    </tr>\n    <tr>\n      <th>...</th>\n      <td>...</td>\n      <td>...</td>\n      <td>...</td>\n    </tr>\n    <tr>\n      <th>2818059</th>\n      <td>3484845</td>\n      <td>2972601</td>\n      <td>3721159</td>\n    </tr>\n    <tr>\n      <th>2818060</th>\n      <td>1022959</td>\n      <td>2503505</td>\n      <td>111216644</td>\n    </tr>\n    <tr>\n      <th>2818061</th>\n      <td>14399883</td>\n      <td>1624339</td>\n      <td>75486977</td>\n    </tr>\n    <tr>\n      <th>2818062</th>\n      <td>6885850</td>\n      <td>6047375</td>\n      <td>54213585</td>\n    </tr>\n    <tr>\n      <th>2818063</th>\n      <td>577247</td>\n      <td>1236134</td>\n      <td>0</td>\n    </tr>\n  </tbody>\n</table>\n<p>2818064 rows × 3 columns</p>\n</div>"
     },
     "execution_count": 19,
     "metadata": {},
     "output_type": "execute_result"
    }
   ],
   "source": [
    "with open(_filename) as f:\n",
    "    df = pd.read_csv(f)\n",
    "df"
   ],
   "metadata": {
    "collapsed": false,
    "pycharm": {
     "name": "#%%\n"
    }
   }
  },
  {
   "cell_type": "code",
   "execution_count": 20,
   "outputs": [
    {
     "name": "stdout",
     "output_type": "stream",
     "text": [
      "person_id                480135\n",
      "xtn_patient_epic_mrn     480135\n",
      "visit_occurrence_id     2731864\n",
      "dtype: int64\n"
     ]
    }
   ],
   "source": [
    "print(df.nunique(axis=0))"
   ],
   "metadata": {
    "collapsed": false,
    "pycharm": {
     "name": "#%%\n"
    }
   }
  },
  {
   "cell_type": "code",
   "execution_count": 21,
   "outputs": [
    {
     "data": {
      "text/plain": "person_id                465416\nxtn_patient_epic_mrn     465416\nvisit_occurrence_id     2731854\ndtype: int64"
     },
     "execution_count": 21,
     "metadata": {},
     "output_type": "execute_result"
    }
   ],
   "source": [
    "no_zeros = df[(df['visit_occurrence_id'] != 0) & (df['person_id'] != 0)]\n",
    "no_zeros.nunique(axis=0)\n",
    "# no_zeros # 2731999 rows"
   ],
   "metadata": {
    "collapsed": false,
    "pycharm": {
     "name": "#%%\n"
    }
   }
  },
  {
   "cell_type": "code",
   "execution_count": 22,
   "outputs": [
    {
     "name": "stderr",
     "output_type": "stream",
     "text": [
      "/var/folders/xm/m4dy5bvs1fn7fb9wxjhsg4dc0000gn/T/ipykernel_15159/1943439711.py:1: SettingWithCopyWarning: \n",
      "A value is trying to be set on a copy of a slice from a DataFrame.\n",
      "Try using .loc[row_indexer,col_indexer] = value instead\n",
      "\n",
      "See the caveats in the documentation: https://pandas.pydata.org/pandas-docs/stable/user_guide/indexing.html#returning-a-view-versus-a-copy\n",
      "  no_zeros['d_last'] = no_zeros.duplicated(subset = ['visit_occurrence_id'], keep = 'last')\n",
      "/var/folders/xm/m4dy5bvs1fn7fb9wxjhsg4dc0000gn/T/ipykernel_15159/1943439711.py:2: SettingWithCopyWarning: \n",
      "A value is trying to be set on a copy of a slice from a DataFrame.\n",
      "Try using .loc[row_indexer,col_indexer] = value instead\n",
      "\n",
      "See the caveats in the documentation: https://pandas.pydata.org/pandas-docs/stable/user_guide/indexing.html#returning-a-view-versus-a-copy\n",
      "  no_zeros['d'] = no_zeros.duplicated(subset = ['visit_occurrence_id'])\n"
     ]
    },
    {
     "data": {
      "text/plain": "False    2731854\nTrue         128\nName: d_last, dtype: int64"
     },
     "execution_count": 22,
     "metadata": {},
     "output_type": "execute_result"
    }
   ],
   "source": [
    "no_zeros['d_last'] = no_zeros.duplicated(subset = ['visit_occurrence_id'], keep = 'last')\n",
    "no_zeros['d'] = no_zeros.duplicated(subset = ['visit_occurrence_id'])\n",
    "no_zeros['d_last'].value_counts()\n",
    "#df['d'].value_counts()"
   ],
   "metadata": {
    "collapsed": false,
    "pycharm": {
     "name": "#%%\n"
    }
   }
  },
  {
   "cell_type": "code",
   "execution_count": 23,
   "outputs": [
    {
     "data": {
      "text/plain": "person_id               155\nxtn_patient_epic_mrn    155\nvisit_occurrence_id     128\nd_last                    2\nd                         2\ndtype: int64"
     },
     "execution_count": 23,
     "metadata": {},
     "output_type": "execute_result"
    }
   ],
   "source": [
    "#ds = df[(df.d == True) & df[df.d_last == True]]\n",
    "ds = no_zeros[(no_zeros[\"d\"]==True) | (no_zeros[\"d_last\"]==True)]\n",
    "ds.nunique(axis=0)"
   ],
   "metadata": {
    "collapsed": false,
    "pycharm": {
     "name": "#%%\n"
    }
   }
  },
  {
   "cell_type": "code",
   "execution_count": 24,
   "outputs": [
    {
     "name": "stderr",
     "output_type": "stream",
     "text": [
      "/var/folders/xm/m4dy5bvs1fn7fb9wxjhsg4dc0000gn/T/ipykernel_15159/865339135.py:5: SettingWithCopyWarning: \n",
      "A value is trying to be set on a copy of a slice from a DataFrame\n",
      "\n",
      "See the caveats in the documentation: https://pandas.pydata.org/pandas-docs/stable/user_guide/indexing.html#returning-a-view-versus-a-copy\n",
      "  no_zeros.drop(index_names, inplace = True)\n"
     ]
    },
    {
     "data": {
      "text/plain": "person_id                465261\nxtn_patient_epic_mrn     465261\nvisit_occurrence_id     2731361\nd_last                        1\nd                             1\ndtype: int64"
     },
     "execution_count": 24,
     "metadata": {},
     "output_type": "execute_result"
    }
   ],
   "source": [
    "a = list(ds.person_id)\n",
    "# indexNames = df['person_id'].isin(a).index\n",
    "index_names = no_zeros[ no_zeros['person_id'].isin(a) ].index\n",
    "index_names\n",
    "no_zeros.drop(index_names, inplace = True)\n",
    "no_zeros.nunique(axis=0)\n",
    "# no_z_d = no_zeros[~no_zeros['person_id'].isin(a)]\n",
    "# no_z_d.nunique(axis=0)\n",
    "# no_z_d # 2731982 rows"
   ],
   "metadata": {
    "collapsed": false,
    "pycharm": {
     "name": "#%%\n"
    }
   }
  },
  {
   "cell_type": "code",
   "execution_count": 25,
   "outputs": [
    {
     "data": {
      "text/plain": "         person_id xtn_patient_epic_mrn  visit_occurrence_id  d_last      d\n0         13083159              2627504            185153035   False  False\n1          2616596              1767121            110834371   False  False\n2          5086462              7092280             61780949   False  False\n3         13359129              7579933             78993822   False  False\n4          3530440              2526127             37685275   False  False\n...            ...                  ...                  ...     ...    ...\n2818058    3676960              7509820             24002327   False  False\n2818059    3484845              2972601              3721159   False  False\n2818060    1022959              2503505            111216644   False  False\n2818061   14399883              1624339             75486977   False  False\n2818062    6885850              6047375             54213585   False  False\n\n[2731361 rows x 5 columns]",
      "text/html": "<div>\n<style scoped>\n    .dataframe tbody tr th:only-of-type {\n        vertical-align: middle;\n    }\n\n    .dataframe tbody tr th {\n        vertical-align: top;\n    }\n\n    .dataframe thead th {\n        text-align: right;\n    }\n</style>\n<table border=\"1\" class=\"dataframe\">\n  <thead>\n    <tr style=\"text-align: right;\">\n      <th></th>\n      <th>person_id</th>\n      <th>xtn_patient_epic_mrn</th>\n      <th>visit_occurrence_id</th>\n      <th>d_last</th>\n      <th>d</th>\n    </tr>\n  </thead>\n  <tbody>\n    <tr>\n      <th>0</th>\n      <td>13083159</td>\n      <td>2627504</td>\n      <td>185153035</td>\n      <td>False</td>\n      <td>False</td>\n    </tr>\n    <tr>\n      <th>1</th>\n      <td>2616596</td>\n      <td>1767121</td>\n      <td>110834371</td>\n      <td>False</td>\n      <td>False</td>\n    </tr>\n    <tr>\n      <th>2</th>\n      <td>5086462</td>\n      <td>7092280</td>\n      <td>61780949</td>\n      <td>False</td>\n      <td>False</td>\n    </tr>\n    <tr>\n      <th>3</th>\n      <td>13359129</td>\n      <td>7579933</td>\n      <td>78993822</td>\n      <td>False</td>\n      <td>False</td>\n    </tr>\n    <tr>\n      <th>4</th>\n      <td>3530440</td>\n      <td>2526127</td>\n      <td>37685275</td>\n      <td>False</td>\n      <td>False</td>\n    </tr>\n    <tr>\n      <th>...</th>\n      <td>...</td>\n      <td>...</td>\n      <td>...</td>\n      <td>...</td>\n      <td>...</td>\n    </tr>\n    <tr>\n      <th>2818058</th>\n      <td>3676960</td>\n      <td>7509820</td>\n      <td>24002327</td>\n      <td>False</td>\n      <td>False</td>\n    </tr>\n    <tr>\n      <th>2818059</th>\n      <td>3484845</td>\n      <td>2972601</td>\n      <td>3721159</td>\n      <td>False</td>\n      <td>False</td>\n    </tr>\n    <tr>\n      <th>2818060</th>\n      <td>1022959</td>\n      <td>2503505</td>\n      <td>111216644</td>\n      <td>False</td>\n      <td>False</td>\n    </tr>\n    <tr>\n      <th>2818061</th>\n      <td>14399883</td>\n      <td>1624339</td>\n      <td>75486977</td>\n      <td>False</td>\n      <td>False</td>\n    </tr>\n    <tr>\n      <th>2818062</th>\n      <td>6885850</td>\n      <td>6047375</td>\n      <td>54213585</td>\n      <td>False</td>\n      <td>False</td>\n    </tr>\n  </tbody>\n</table>\n<p>2731361 rows × 5 columns</p>\n</div>"
     },
     "execution_count": 25,
     "metadata": {},
     "output_type": "execute_result"
    }
   ],
   "source": [
    "no_zeros"
   ],
   "metadata": {
    "collapsed": false,
    "pycharm": {
     "name": "#%%\n"
    }
   }
  },
  {
   "cell_type": "code",
   "execution_count": 26,
   "outputs": [],
   "source": [
    "pd.DataFrame.to_csv(no_zeros, \"../data/clean_id_vo.csv\", columns= ('person_id', 'xtn_patient_epic_mrn','visit_occurrence_id'),index = False)"
   ],
   "metadata": {
    "collapsed": false,
    "pycharm": {
     "name": "#%%\n"
    }
   }
  },
  {
   "cell_type": "code",
   "execution_count": 4,
   "outputs": [
    {
     "name": "stderr",
     "output_type": "stream",
     "text": [
      "/var/folders/xm/m4dy5bvs1fn7fb9wxjhsg4dc0000gn/T/ipykernel_6537/4253357316.py:2: DtypeWarning: Columns (2) have mixed types. Specify dtype option on import or set low_memory=False.\n",
      "  df = pd.read_csv(f, parse_dates=[4,8,9], quotechar=\"\\\"\")\n"
     ]
    }
   ],
   "source": [
    "with open(_filename) as f:\n",
    "    df = pd.read_csv(f, parse_dates=[4,8,9], quotechar=\"\\\"\")\n",
    "    df = df.drop(columns=['Unnamed: 0']) # Unnamed: 0.1, Unnamed: 0 --- drop columns with nothing"
   ],
   "metadata": {
    "collapsed": false,
    "pycharm": {
     "name": "#%%\n"
    }
   }
  },
  {
   "cell_type": "code",
   "execution_count": 5,
   "outputs": [
    {
     "name": "stdout",
     "output_type": "stream",
     "text": [
      "Header values: Index(['PAT_ID', 'MRN', 'CONTACT_DATE', 'PAT_ENC_CSN_ID', 'NOTE_ID',\n",
      "       'CONTACT_SERIAL_NUM', 'SPECIFIED_DATETIME', 'UPD_AUT_LOCAL_DTTM',\n",
      "       'NOTE_TYPE_ID', 'NOTE_TYPE', 'STATUS', 'NEW_NOTE_TEXT'],\n",
      "      dtype='object')\n",
      "\n",
      "Dataframe shape: (351647, 12)\n",
      "\n",
      "Counts of unique values per column:\n",
      "PAT_ID                 33800\n",
      "MRN                    33801\n",
      "CONTACT_DATE            3446\n",
      "PAT_ENC_CSN_ID         55547\n",
      "NOTE_ID               286459\n",
      "CONTACT_SERIAL_NUM    351647\n",
      "SPECIFIED_DATETIME    314166\n",
      "UPD_AUT_LOCAL_DTTM    322557\n",
      "NOTE_TYPE_ID               7\n",
      "NOTE_TYPE                  7\n",
      "STATUS                     2\n",
      "NEW_NOTE_TEXT         340015\n",
      "dtype: int64\n"
     ]
    }
   ],
   "source": [
    "print(\"Header values: {0}\".format(df.columns))\n",
    "print()\n",
    "print(\"Dataframe shape: {0}\".format(df.shape)) # 815130 notes\n",
    "print()\n",
    "print(\"Counts of unique values per column:\")\n",
    "print(df.nunique(axis=0)) # 33800 patients over ~3446 days"
   ],
   "metadata": {
    "collapsed": false,
    "pycharm": {
     "name": "#%%\n"
    }
   }
  },
  {
   "cell_type": "code",
   "execution_count": 6,
   "outputs": [
    {
     "name": "stdout",
     "output_type": "stream",
     "text": [
      "With discharge notes:\n",
      "Mean number of notes per patient id = 10.403757396449704 (sd = 18.07253427844962)\n",
      "Median number of notes per patient id = 5.0 [460,1])\n",
      "\n",
      "Mean number of notes per hospitalization = 6.330620915621005 (sd = 8.972402093743248)\n",
      "Median number of notes per hospitalization = 4.0 [239,1])\n",
      "\n",
      "Mean number of notes per encounters = 1.2275648522127076 (sd = 0.6739598792170285)\n",
      "Median number of notes per encounters = 1.0 [28,1])\n"
     ]
    }
   ],
   "source": [
    "print(\"With discharge notes:\")\n",
    "print(\"Mean number of notes per patient id = {0} (sd = {1})\".format(df['PAT_ID'].value_counts().mean(),\n",
    "                                                             df['PAT_ID'].value_counts().std()))\n",
    "print(\"Median number of notes per patient id = {0} [{1},{2}])\".format(df['PAT_ID'].value_counts().median(),\n",
    "                                                                      df['PAT_ID'].value_counts().max(),\n",
    "                                                                      df['PAT_ID'].value_counts().min()))\n",
    "print()\n",
    "print(\"Mean number of notes per hospitalization = {0} (sd = {1})\".format(df['PAT_ENC_CSN_ID'].value_counts().mean(),\n",
    "                                                                         df['PAT_ENC_CSN_ID'].value_counts().std()))\n",
    "print(\"Median number of notes per hospitalization = {0} [{1},{2}])\".format(df['PAT_ENC_CSN_ID'].value_counts().median(),\n",
    "                                                                           df['PAT_ENC_CSN_ID'].value_counts().max(),\n",
    "                                                                           df['PAT_ENC_CSN_ID'].value_counts().min()))\n",
    "print() # Encounter = instance in meeting between provider and patient that results in one main note with addendum possible\n",
    "print(\"Mean number of notes per encounters = {0} (sd = {1})\".format(df['NOTE_ID'].value_counts().mean(),\n",
    "                                                                    df['NOTE_ID'].value_counts().std()))\n",
    "print(\"Median number of notes per encounters = {0} [{1},{2}])\".format(df['NOTE_ID'].value_counts().median(),\n",
    "                                                                      df['NOTE_ID'].value_counts().max(),\n",
    "                                                                      df['NOTE_ID'].value_counts().min()))"
   ],
   "metadata": {
    "collapsed": false,
    "pycharm": {
     "name": "#%%\n"
    }
   }
  },
  {
   "cell_type": "code",
   "execution_count": 7,
   "outputs": [],
   "source": [
    "# the average/median length of stay (LOS)\n",
    "los = df.groupby('PAT_ENC_CSN_ID').CONTACT_DATE.agg(['min', 'max'])\n",
    "min_ = los['min']\n",
    "max_ = los['max']\n",
    "LOS = []"
   ],
   "metadata": {
    "collapsed": false,
    "pycharm": {
     "name": "#%%\n"
    }
   }
  },
  {
   "cell_type": "code",
   "execution_count": 8,
   "outputs": [],
   "source": [
    "# drop people over 2000 days\n",
    "# plot distribution to see outliers --> what's safe threshold\n",
    "for i, value in enumerate(min_.values):\n",
    "    a = pd.to_datetime(value, format=\"%Y-%m-%d\")\n",
    "    b = pd.to_datetime(max_.values[i], format=\"%Y-%m-%d\")\n",
    "    c = (b-a).days\n",
    "    # if c > 2000 :\n",
    "    #     print(a, b)\n",
    "    LOS.append(c)"
   ],
   "metadata": {
    "collapsed": false,
    "pycharm": {
     "name": "#%%\n"
    }
   }
  },
  {
   "cell_type": "code",
   "execution_count": 9,
   "outputs": [
    {
     "name": "stdout",
     "output_type": "stream",
     "text": [
      "Mean length of stay = 7.952706716834393 (sd = 38.700760186474625)\n",
      "Median length of stay = 0.0 [2159,0])\n"
     ]
    },
    {
     "data": {
      "text/plain": "<Figure size 640x480 with 1 Axes>",
      "image/png": "[encoded data removed]"
     },
     "metadata": {},
     "output_type": "display_data"
    }
   ],
   "source": [
    "from matplotlib import pyplot as plt\n",
    "\n",
    "print(\"Mean length of stay = {0} (sd = {1})\".format(np.mean(LOS), np.std(LOS)))\n",
    "print(\"Median length of stay = {0} [{1},{2}])\".format(np.median(LOS), np.max(LOS), np.min(LOS)))\n",
    "# PAT_ENC_CSN_ID # 80658520 --> messed up year on their record --> LOS = 6 years\n",
    "plt.hist(LOS, bins=50)\n",
    "plt.xlabel(\"length of stay\")\n",
    "plt.ylabel(\"count\")\n",
    "plt.show()"
   ],
   "metadata": {
    "collapsed": false,
    "pycharm": {
     "name": "#%%\n"
    }
   }
  },
  {
   "cell_type": "code",
   "execution_count": 415,
   "outputs": [
    {
     "data": {
      "text/plain": "                                 min         max\nPAT_ID    PAT_ENC_CSN_ID                        \nZ10000585 100049609294    2019-04-17  2019-04-26\nZ10001158 100011180367    2017-03-22  2017-03-28\nZ1000204  100035267432    2018-05-21  2018-05-21\nZ1000297  100015814066    2017-08-01  2017-09-07\nZ10003502 100051379165    2019-05-30  2019-05-30\n...                              ...         ...\nZ9997088  100009942040    2017-02-14  2017-02-14\nZ9997438  100069620438    2020-06-18  2020-06-18\n          100069631179    2020-06-18  2020-06-18\nZ999785   74342094        2011-08-12  2011-08-19\n          74935939        2011-09-19  2011-09-19\n\n[55547 rows x 2 columns]",
      "text/html": "<div>\n<style scoped>\n    .dataframe tbody tr th:only-of-type {\n        vertical-align: middle;\n    }\n\n    .dataframe tbody tr th {\n        vertical-align: top;\n    }\n\n    .dataframe thead th {\n        text-align: right;\n    }\n</style>\n<table border=\"1\" class=\"dataframe\">\n  <thead>\n    <tr style=\"text-align: right;\">\n      <th></th>\n      <th></th>\n      <th>min</th>\n      <th>max</th>\n    </tr>\n    <tr>\n      <th>PAT_ID</th>\n      <th>PAT_ENC_CSN_ID</th>\n      <th></th>\n      <th></th>\n    </tr>\n  </thead>\n  <tbody>\n    <tr>\n      <th>Z10000585</th>\n      <th>100049609294</th>\n      <td>2019-04-17</td>\n      <td>2019-04-26</td>\n    </tr>\n    <tr>\n      <th>Z10001158</th>\n      <th>100011180367</th>\n      <td>2017-03-22</td>\n      <td>2017-03-28</td>\n    </tr>\n    <tr>\n      <th>Z1000204</th>\n      <th>100035267432</th>\n      <td>2018-05-21</td>\n      <td>2018-05-21</td>\n    </tr>\n    <tr>\n      <th>Z1000297</th>\n      <th>100015814066</th>\n      <td>2017-08-01</td>\n      <td>2017-09-07</td>\n    </tr>\n    <tr>\n      <th>Z10003502</th>\n      <th>100051379165</th>\n      <td>2019-05-30</td>\n      <td>2019-05-30</td>\n    </tr>\n    <tr>\n      <th>...</th>\n      <th>...</th>\n      <td>...</td>\n      <td>...</td>\n    </tr>\n    <tr>\n      <th>Z9997088</th>\n      <th>100009942040</th>\n      <td>2017-02-14</td>\n      <td>2017-02-14</td>\n    </tr>\n    <tr>\n      <th rowspan=\"2\" valign=\"top\">Z9997438</th>\n      <th>100069620438</th>\n      <td>2020-06-18</td>\n      <td>2020-06-18</td>\n    </tr>\n    <tr>\n      <th>100069631179</th>\n      <td>2020-06-18</td>\n      <td>2020-06-18</td>\n    </tr>\n    <tr>\n      <th rowspan=\"2\" valign=\"top\">Z999785</th>\n      <th>74342094</th>\n      <td>2011-08-12</td>\n      <td>2011-08-19</td>\n    </tr>\n    <tr>\n      <th>74935939</th>\n      <td>2011-09-19</td>\n      <td>2011-09-19</td>\n    </tr>\n  </tbody>\n</table>\n<p>55547 rows × 2 columns</p>\n</div>"
     },
     "execution_count": 415,
     "metadata": {},
     "output_type": "execute_result"
    }
   ],
   "source": [
    "# the avg/med number of readmissions;\n",
    "# how to define a readmission? 30 days ok sure\n",
    "\n",
    "# using only discharge notes\n",
    "# for i, note_type in enumerate(df.NOTE_TYPE_ID):\n",
    "#     if note_type == \"1000021\":\n",
    "#         print(df.PAT_ID[i], df.PAT_ENC_CSN_ID[i], df.CONTACT_DATE[i])\n",
    "\n",
    "\n",
    "pt_admissions = df.groupby(['PAT_ID', 'PAT_ENC_CSN_ID']).CONTACT_DATE.agg(['min', 'max'])\n",
    "# pt_admissions = df.groupby('PAT_ID').PAT_ENC_CSN_ID.nunique()\n",
    "# pt_admissions = pt_admissions.to_frame()\n",
    "pt_admissions\n",
    "# pt_admissions.loc[pt_admissions['PAT_ENC_CSN_ID'] > 1]\n",
    "# pt_readmit = list(pt_admissions.index.values)\n",
    "# pt_readmit\n",
    "# Z10011260:\n",
    "# 100070764433\n",
    "# 100071029496\n",
    "# 100071037349"
   ],
   "metadata": {
    "collapsed": false,
    "pycharm": {
     "name": "#%%\n"
    }
   }
  },
  {
   "cell_type": "code",
   "execution_count": null,
   "outputs": [],
   "source": [],
   "metadata": {
    "collapsed": false,
    "pycharm": {
     "name": "#%%\n",
     "is_executing": true
    }
   }
  },
  {
   "cell_type": "code",
   "execution_count": 400,
   "outputs": [
    {
     "data": {
      "text/plain": "           PAT_ID      MRN CONTACT_DATE PAT_ENC_CSN_ID    NOTE_ID  \\\n16      Z10001158   944489   2017-03-28   100011180367  176449157   \n25       Z1000297  2024206   2017-09-07   100015814066  204184817   \n55      Z10006444   959525   2020-08-17   100071007395  385726376   \n83      Z10010030   784247   2019-10-14   100057123607  309479854   \n123     Z10016854   718850   2018-11-13   100041850612  248642651   \n...           ...      ...          ...            ...        ...   \n351569    Z998923  1775249   2014-01-24       92432260   45651063   \n351618   Z9995834   666332   2020-05-29   100068422579  364544255   \n351638    Z999785  1481387   2011-08-19       74342094   12066087   \n351639    Z999785  1481387   2011-08-19       74342094   12066087   \n351640    Z999785  1481387   2011-08-19       74342094   12070901   \n\n        CONTACT_SERIAL_NUM   SPECIFIED_DATETIME  UPD_AUT_LOCAL_DTTM  \\\n16               191330396  2017-03-28 14:35:00 2017-03-27 18:47:00   \n25               216527388  2017-09-07 21:55:00 2017-08-22 11:30:00   \n55               409296080  2020-08-17 14:20:00 2020-08-17 09:55:00   \n83               329886362  2019-10-14 12:41:00 2019-10-11 17:46:00   \n123              266191777  2018-11-13 16:30:00 2018-11-13 14:50:00   \n...                    ...                  ...                 ...   \n351569            53757969  2014-01-24 18:23:00 2014-01-24 18:23:00   \n351618           387209454  2020-05-29 17:31:00 2020-05-29 16:13:00   \n351638            13033384  2011-08-19 15:16:00 2011-08-19 15:16:00   \n351639            13036506  2011-08-19 15:33:00 2011-08-19 15:33:00   \n351640            13038971  2011-08-19 16:24:00 2011-08-19 16:24:00   \n\n       NOTE_TYPE_ID          NOTE_TYPE    STATUS  LINE  \\\n16          1000021  PSYCH D/C SUMMARY    SIGNED     7   \n25          1000021  PSYCH D/C SUMMARY    SIGNED    11   \n55          1000021  PSYCH D/C SUMMARY    SIGNED    11   \n83          1000021  PSYCH D/C SUMMARY  ADDENDUM     8   \n123         1000021  PSYCH D/C SUMMARY  ADDENDUM     8   \n...             ...                ...       ...   ...   \n351569      1000021  PSYCH D/C SUMMARY    SIGNED     1   \n351618      1000021  PSYCH D/C SUMMARY    SIGNED     7   \n351638      1000021  PSYCH D/C SUMMARY    SIGNED     6   \n351639      1000021  PSYCH D/C SUMMARY  ADDENDUM     6   \n351640      1000021  PSYCH D/C SUMMARY    SIGNED     1   \n\n                                            NEW_NOTE_TEXT  \n16        Discharge Summary and Continuing Care Plan  ...  \n25        Discharge Summary and Continuing Care Plan  ...  \n55        Discharge Summary and Continuing Care Plan  ...  \n83        Discharge Summary and Continuing Care Plan  ...  \n123       Discharge Summary and Continuing Care Plan  ...  \n...                                                   ...  \n351569  The patient was seen and evaluated with NP Ash...  \n351618    Discharge Summary and Continuing Care Plan  ...  \n351638    Physician Discharge Summary     Patient ID: ...  \n351639    Physician Discharge Summary     Patient ID: ...  \n351640  SW met with patient as part of 100% SW coverag...  \n\n[26904 rows x 13 columns]",
      "text/html": "<div>\n<style scoped>\n    .dataframe tbody tr th:only-of-type {\n        vertical-align: middle;\n    }\n\n    .dataframe tbody tr th {\n        vertical-align: top;\n    }\n\n    .dataframe thead th {\n        text-align: right;\n    }\n</style>\n<table border=\"1\" class=\"dataframe\">\n  <thead>\n    <tr style=\"text-align: right;\">\n      <th></th>\n      <th>PAT_ID</th>\n      <th>MRN</th>\n      <th>CONTACT_DATE</th>\n      <th>PAT_ENC_CSN_ID</th>\n      <th>NOTE_ID</th>\n      <th>CONTACT_SERIAL_NUM</th>\n      <th>SPECIFIED_DATETIME</th>\n      <th>UPD_AUT_LOCAL_DTTM</th>\n      <th>NOTE_TYPE_ID</th>\n      <th>NOTE_TYPE</th>\n      <th>STATUS</th>\n      <th>LINE</th>\n      <th>NEW_NOTE_TEXT</th>\n    </tr>\n  </thead>\n  <tbody>\n    <tr>\n      <th>16</th>\n      <td>Z10001158</td>\n      <td>944489</td>\n      <td>2017-03-28</td>\n      <td>100011180367</td>\n      <td>176449157</td>\n      <td>191330396</td>\n      <td>2017-03-28 14:35:00</td>\n      <td>2017-03-27 18:47:00</td>\n      <td>1000021</td>\n      <td>PSYCH D/C SUMMARY</td>\n      <td>SIGNED</td>\n      <td>7</td>\n      <td>Discharge Summary and Continuing Care Plan  ...</td>\n    </tr>\n    <tr>\n      <th>25</th>\n      <td>Z1000297</td>\n      <td>2024206</td>\n      <td>2017-09-07</td>\n      <td>100015814066</td>\n      <td>204184817</td>\n      <td>216527388</td>\n      <td>2017-09-07 21:55:00</td>\n      <td>2017-08-22 11:30:00</td>\n      <td>1000021</td>\n      <td>PSYCH D/C SUMMARY</td>\n      <td>SIGNED</td>\n      <td>11</td>\n      <td>Discharge Summary and Continuing Care Plan  ...</td>\n    </tr>\n    <tr>\n      <th>55</th>\n      <td>Z10006444</td>\n      <td>959525</td>\n      <td>2020-08-17</td>\n      <td>100071007395</td>\n      <td>385726376</td>\n      <td>409296080</td>\n      <td>2020-08-17 14:20:00</td>\n      <td>2020-08-17 09:55:00</td>\n      <td>1000021</td>\n      <td>PSYCH D/C SUMMARY</td>\n      <td>SIGNED</td>\n      <td>11</td>\n      <td>Discharge Summary and Continuing Care Plan  ...</td>\n    </tr>\n    <tr>\n      <th>83</th>\n      <td>Z10010030</td>\n      <td>784247</td>\n      <td>2019-10-14</td>\n      <td>100057123607</td>\n      <td>309479854</td>\n      <td>329886362</td>\n      <td>2019-10-14 12:41:00</td>\n      <td>2019-10-11 17:46:00</td>\n      <td>1000021</td>\n      <td>PSYCH D/C SUMMARY</td>\n      <td>ADDENDUM</td>\n      <td>8</td>\n      <td>Discharge Summary and Continuing Care Plan  ...</td>\n    </tr>\n    <tr>\n      <th>123</th>\n      <td>Z10016854</td>\n      <td>718850</td>\n      <td>2018-11-13</td>\n      <td>100041850612</td>\n      <td>248642651</td>\n      <td>266191777</td>\n      <td>2018-11-13 16:30:00</td>\n      <td>2018-11-13 14:50:00</td>\n      <td>1000021</td>\n      <td>PSYCH D/C SUMMARY</td>\n      <td>ADDENDUM</td>\n      <td>8</td>\n      <td>Discharge Summary and Continuing Care Plan  ...</td>\n    </tr>\n    <tr>\n      <th>...</th>\n      <td>...</td>\n      <td>...</td>\n      <td>...</td>\n      <td>...</td>\n      <td>...</td>\n      <td>...</td>\n      <td>...</td>\n      <td>...</td>\n      <td>...</td>\n      <td>...</td>\n      <td>...</td>\n      <td>...</td>\n      <td>...</td>\n    </tr>\n    <tr>\n      <th>351569</th>\n      <td>Z998923</td>\n      <td>1775249</td>\n      <td>2014-01-24</td>\n      <td>92432260</td>\n      <td>45651063</td>\n      <td>53757969</td>\n      <td>2014-01-24 18:23:00</td>\n      <td>2014-01-24 18:23:00</td>\n      <td>1000021</td>\n      <td>PSYCH D/C SUMMARY</td>\n      <td>SIGNED</td>\n      <td>1</td>\n      <td>The patient was seen and evaluated with NP Ash...</td>\n    </tr>\n    <tr>\n      <th>351618</th>\n      <td>Z9995834</td>\n      <td>666332</td>\n      <td>2020-05-29</td>\n      <td>100068422579</td>\n      <td>364544255</td>\n      <td>387209454</td>\n      <td>2020-05-29 17:31:00</td>\n      <td>2020-05-29 16:13:00</td>\n      <td>1000021</td>\n      <td>PSYCH D/C SUMMARY</td>\n      <td>SIGNED</td>\n      <td>7</td>\n      <td>Discharge Summary and Continuing Care Plan  ...</td>\n    </tr>\n    <tr>\n      <th>351638</th>\n      <td>Z999785</td>\n      <td>1481387</td>\n      <td>2011-08-19</td>\n      <td>74342094</td>\n      <td>12066087</td>\n      <td>13033384</td>\n      <td>2011-08-19 15:16:00</td>\n      <td>2011-08-19 15:16:00</td>\n      <td>1000021</td>\n      <td>PSYCH D/C SUMMARY</td>\n      <td>SIGNED</td>\n      <td>6</td>\n      <td>Physician Discharge Summary     Patient ID: ...</td>\n    </tr>\n    <tr>\n      <th>351639</th>\n      <td>Z999785</td>\n      <td>1481387</td>\n      <td>2011-08-19</td>\n      <td>74342094</td>\n      <td>12066087</td>\n      <td>13036506</td>\n      <td>2011-08-19 15:33:00</td>\n      <td>2011-08-19 15:33:00</td>\n      <td>1000021</td>\n      <td>PSYCH D/C SUMMARY</td>\n      <td>ADDENDUM</td>\n      <td>6</td>\n      <td>Physician Discharge Summary     Patient ID: ...</td>\n    </tr>\n    <tr>\n      <th>351640</th>\n      <td>Z999785</td>\n      <td>1481387</td>\n      <td>2011-08-19</td>\n      <td>74342094</td>\n      <td>12070901</td>\n      <td>13038971</td>\n      <td>2011-08-19 16:24:00</td>\n      <td>2011-08-19 16:24:00</td>\n      <td>1000021</td>\n      <td>PSYCH D/C SUMMARY</td>\n      <td>SIGNED</td>\n      <td>1</td>\n      <td>SW met with patient as part of 100% SW coverag...</td>\n    </tr>\n  </tbody>\n</table>\n<p>26904 rows × 13 columns</p>\n</div>"
     },
     "execution_count": 400,
     "metadata": {},
     "output_type": "execute_result"
    }
   ],
   "source": [
    "# for row in pt_admissions.itertuples():\n",
    "#\n",
    "#     print(row.Index)\n",
    "\n",
    "df_discharge = df\n",
    "df_discharge = df_discharge.query('NOTE_TYPE_ID == \"1000021\"')\n",
    "df_discharge\n",
    "\n",
    "\n"
   ],
   "metadata": {
    "collapsed": false,
    "pycharm": {
     "name": "#%%\n"
    }
   }
  },
  {
   "cell_type": "code",
   "execution_count": 251,
   "outputs": [],
   "source": [
    "df_no_discharge = df\n",
    "index_names = df_no_discharge[ df_no_discharge['NOTE_TYPE_ID'] == '1000021' ].index\n",
    "df_no_discharge.drop(index_names, inplace = True)"
   ],
   "metadata": {
    "collapsed": false,
    "pycharm": {
     "name": "#%%\n"
    }
   }
  },
  {
   "cell_type": "code",
   "execution_count": null,
   "outputs": [],
   "source": [
    "print(\"Without discharge notes:\")\n",
    "print(\"Mean number of notes per patient id = {0} (sd = {1})\".format(df_no_discharge['PAT_ID'].value_counts().mean(),\n",
    "                                                                    df_no_discharge['PAT_ID'].value_counts().std()))\n",
    "print(\"Median number of notes per patient id = {0} [{1},{2}])\".format(df_no_discharge['PAT_ID'].value_counts().median(),\n",
    "                                                                      df_no_discharge['PAT_ID'].value_counts().max(),\n",
    "                                                                      df_no_discharge['PAT_ID'].value_counts().min()))\n",
    "print()\n",
    "print(\"Mean number of notes per hospitalization = {0} (sd = {1})\".format(df_no_discharge['PAT_ENC_CSN_ID'].value_counts().mean(),\n",
    "                                                                         df_no_discharge['PAT_ENC_CSN_ID'].value_counts().std()))\n",
    "print(\"Median number of notes per hospitalization = {0} [{1},{2}])\".format(df_no_discharge['PAT_ENC_CSN_ID'].value_counts().median(),\n",
    "                                                                           df_no_discharge['PAT_ENC_CSN_ID'].value_counts().max(),\n",
    "                                                                           df_no_discharge['PAT_ENC_CSN_ID'].value_counts().min()))\n",
    "print() # Encounter = instance in meeting between provider and patient that results in one main note with addendum possible\n",
    "print(\"Mean number of notes per encounters = {0} (sd = {1})\".format(df_no_discharge['NOTE_ID'].value_counts().mean(),\n",
    "                                                                    df_no_discharge['NOTE_ID'].value_counts().std()))\n",
    "print(\"Median number of notes per encounters = {0} [{1},{2}])\".format(df_no_discharge['NOTE_ID'].value_counts().median(),\n",
    "                                                                      df_no_discharge['NOTE_ID'].value_counts().max(),\n",
    "                                                                      df_no_discharge['NOTE_ID'].value_counts().min()))"
   ],
   "metadata": {
    "collapsed": false,
    "pycharm": {
     "name": "#%%\n",
     "is_executing": true
    }
   }
  },
  {
   "cell_type": "code",
   "execution_count": null,
   "outputs": [],
   "source": [
    "\n"
   ],
   "metadata": {
    "collapsed": false,
    "pycharm": {
     "name": "#%%\n",
     "is_executing": true
    }
   }
  },
  {
   "cell_type": "code",
   "execution_count": 253,
   "outputs": [],
   "source": [
    "# the average/median number of notes per encounter;\n",
    "# the average/median number of notes per hospitalization (with and without discharge notes);\n",
    "# the average/median length of stay (LOS);\n",
    "\n",
    "# the avg/med number of readmissions;\n",
    "# the entire history length.\n",
    "\n",
    "# average needs sd and median needs [min; max]"
   ],
   "metadata": {
    "collapsed": false,
    "pycharm": {
     "name": "#%%\n"
    }
   }
  },
  {
   "cell_type": "code",
   "execution_count": 254,
   "outputs": [],
   "source": [
    "# max_notes_patient1 = df.loc[(df[\"PAT_ID\"] == \"Z2801050\")]\n",
    "# max_notes_patient2 = df.loc[(df[\"MRN\"] == \"7186513\")]\n",
    "# max_notes_patient3 = df.loc[(df[\"MRN\"] == \"8607090\")]\n",
    "# notes_3patients = pd.concat([max_notes_patient1, max_notes_patient2, max_notes_patient3])"
   ],
   "metadata": {
    "collapsed": false,
    "pycharm": {
     "name": "#%%\n"
    }
   }
  },
  {
   "cell_type": "code",
   "execution_count": 255,
   "outputs": [],
   "source": [
    "# max_notes_patient['PAT_ENC_CSN_ID'].value_counts()\n",
    "# max_notes_patient['CONTACT_DATE'].value_counts()\n",
    "# max_notes_patient['NOTE_ID'].value_counts()"
   ],
   "metadata": {
    "collapsed": false,
    "pycharm": {
     "name": "#%%\n"
    }
   }
  },
  {
   "cell_type": "code",
   "execution_count": null,
   "outputs": [],
   "source": [],
   "metadata": {
    "collapsed": false,
    "pycharm": {
     "name": "#%%\n"
    }
   }
  }
 ],
 "metadata": {
  "kernelspec": {
   "display_name": "Python 3",
   "language": "python",
   "name": "python3"
  },
  "language_info": {
   "codemirror_mode": {
    "name": "ipython",
    "version": 2
   },
   "file_extension": ".py",
   "mimetype": "text/x-python",
   "name": "python",
   "nbconvert_exporter": "python",
   "pygments_lexer": "ipython2",
   "version": "2.7.6"
  }
 },
 "nbformat": 4,
 "nbformat_minor": 0
}