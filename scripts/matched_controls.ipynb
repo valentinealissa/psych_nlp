{
 "cells": [
  {
   "cell_type": "code",
   "execution_count": 2,
   "outputs": [],
   "source": [
    "from datetime import datetime\n",
    "# importing moules\n",
    "import os\n",
    "import pandas as pd\n",
    "import matplotlib\n",
    "import numpy as np\n",
    "from re import search\n",
    "import matplotlib.pyplot as plt\n",
    "from datetime import date\n",
    "import seaborn as sns\n",
    "import math"
   ],
   "metadata": {
    "collapsed": false,
    "pycharm": {
     "name": "#%%\n"
    }
   }
  },
  {
   "cell_type": "code",
   "execution_count": 3,
   "outputs": [
    {
     "name": "stderr",
     "output_type": "stream",
     "text": [
      "/var/folders/xm/m4dy5bvs1fn7fb9wxjhsg4dc0000gn/T/ipykernel_8430/795740903.py:1: DtypeWarning: Columns (0) have mixed types. Specify dtype option on import or set low_memory=False.\n",
      "  all_scz_diagnoses = pd.read_csv('/Users/valena17/psych_nlp/data/clean_ccsr_scz_patients.csv')\n"
     ]
    }
   ],
   "source": [
    "all_scz_diagnoses = pd.read_csv('/Users/valena17/psych_nlp/data/clean_ccsr_scz_patients.csv')"
   ],
   "metadata": {
    "collapsed": false,
    "pycharm": {
     "name": "#%%\n"
    }
   }
  },
  {
   "cell_type": "code",
   "execution_count": 4,
   "outputs": [],
   "source": [
    "codes_scz = set(all_scz_diagnoses[all_scz_diagnoses['CCSR_wSubstance'] == 'Schizophrenia spectrum and other psychotic disorders'].Value)\n",
    "codes_depression = set(all_scz_diagnoses[all_scz_diagnoses['CCSR_wSubstance'] == 'Depressive disorders'].Value)\n",
    "codes_trauma = set(all_scz_diagnoses[all_scz_diagnoses['CCSR_wSubstance'] == 'Trauma- and stressor-related disorders'].Value)\n",
    "codes_bipolar = set(all_scz_diagnoses[all_scz_diagnoses['CCSR_wSubstance'] == 'Bipolar and related disorders'].Value)\n",
    "codes_anxiety = set(all_scz_diagnoses[all_scz_diagnoses['CCSR_wSubstance'] == 'Anxiety and fear-related disorders'].Value)\n",
    "codes_substance = set(all_scz_diagnoses[all_scz_diagnoses['CCSR_wSubstance'] == 'Substance-related disorders'].Value)"
   ],
   "metadata": {
    "collapsed": false,
    "pycharm": {
     "name": "#%%\n"
    }
   }
  },
  {
   "cell_type": "code",
   "execution_count": 5,
   "outputs": [
    {
     "name": "stdout",
     "output_type": "stream",
     "text": [
      "22 20 23 34 20 207\n",
      "{'F20.5', 'F28', 'F21', 'F06.1', 'F20.0', 'F25.0', 'F25.1', 'F25', 'F25.9', 'F20.81', 'F06.0', 'F06.2', 'F20.1', 'F20.9', 'F20.2', 'F20.3', 'F20.89', 'F23', 'F24', 'F22', 'F25.8', 'F29'} \n",
      " {'F32.1', 'F32.89', 'F32.2', 'F33.1', 'F33.3', 'F32.81', 'F32.8', 'F34.1', 'F32.0', 'F33.9', 'F32.3', 'F33.41', 'F33.8', 'F33.0', 'F32.4', 'F32.A', 'F33.2', 'F06.32', 'F06.31', 'F32.9'} \n",
      " {'F44.9', 'F43.8', 'F43.81', 'F44.4', 'F44.89', 'F43.9', 'F43.25', 'F44.6', 'F43.12', 'F48.1', 'F43.10', 'F43.22', 'F43.23', 'F43.11', 'F43.89', 'F43.0', 'F43.20', 'F43.29', 'F44.1', 'F44.5', 'F44.81', 'F43.21', 'F43.24'} \n",
      " {'F31.73', 'F30.3', 'F30.8', 'F31.4', 'F34.0', 'F31.5', 'F06.33', 'F31.13', 'F31.30', 'F30.13', 'F30.10', 'F30.9', 'F31.61', 'F31.10', 'F31.31', 'F31.0', 'F31.81', 'F31.2', 'F31.77', 'F30.12', 'F31.12', 'F31.11', 'F31.75', 'F31.9', 'F30.2', 'F06.34', 'F30.11', 'F31.62', 'F31.60', 'F31.71', 'F31.32', 'F31.89', 'F31.63', 'F31.64'} \n",
      " {'F40.240', 'F41.1', 'F41.8', 'F40.00', 'F40.8', 'F41.3', 'F40.243', 'F40.298', 'F93.0', 'F06.4', 'F40.218', 'F41.9', 'F40.11', 'F40.248', 'F94.0', 'F41.0', 'F40.01', 'F40.10', 'F40.9', 'F40.233'} \n",
      " {'F19.920', 'F12.120', 'F15.10', 'F12.222', 'F16.929', 'F12.188', 'F11.90', 'F11.29', 'F19.229', 'F12.251', 'F14.24', 'F14.151', 'F12.229', 'F12.921', 'F19.922', 'F12.20', 'F10.939', 'F16.10', 'F19.988', 'F10.129', 'F16.220', 'F12.90', 'F14.20', 'F17.200', 'F12.920', 'F11.93', 'F15.921', 'F11.922', 'F14.921', 'F19.951', 'F17.209', 'F15.922', 'F19.959', 'F19.99', 'F12.159', 'F14.150', 'F11.10', 'F10.99', 'F12.180', 'F11.151', 'F19.288', 'F15.19', 'F19.159', 'F14.29', 'F17.290', 'F10.259', 'F10.239', 'F14.288', 'F10.14', 'F12.10', 'F15.929', 'F14.159', 'F14.23', 'F12.922', 'F14.93', 'F14.94', 'F11.20', 'F16.983', 'F19.96', 'F10.94', 'F16.122', 'F15.122', 'F14.90', 'F13.24', 'F16.959', 'F15.94', 'F15.90', 'F15.950', 'F10.20', 'F19.139', 'F13.230', 'F13.229', 'F12.99', 'F19.20', 'F15.259', 'F18.10', 'F15.951', 'F12.150', 'F13.239', 'F12.929', 'F10.139', 'F10.90', 'F10.931', 'F19.121', 'F12.259', 'F19.14', 'F14.959', 'F10.980', 'F12.988', 'F10.929', 'F10.920', 'F13.931', 'F13.99', 'F15.20', 'F16.94', 'F12.23', 'F12.220', 'F18.120', 'F11.23', 'F15.23', 'F14.220', 'F11.929', 'F11.13', 'F14.129', 'F13.939', 'F16.950', 'F19.939', 'F10.229', 'F19.930', 'F10.959', 'F19.950', 'F14.922', 'F19.91', 'F12.288', 'F10.221', 'F14.188', 'F11.288', 'F11.129', 'F12.129', 'F10.220', 'F10.932', 'F13.10', 'F14.920', 'F17.213', 'F11.921', 'F14.251', 'F14.10', 'F10.10', 'F19.122', 'F16.251', 'F19.188', 'F12.950', 'F15.959', 'F15.920', 'F19.980', 'F13.930', 'F16.259', 'F19.230', 'F11.99', 'F12.122', 'F19.120', 'F10.151', 'F12.19', 'F16.980', 'F14.282', 'F10.950', 'F10.27', 'F14.14', 'F13.280', 'F14.988', 'F16.920', 'F14.951', 'F19.929', 'F14.250', 'F13.921', 'F10.120', 'F15.129', 'F19.129', 'F17.203', 'F11.24', 'F13.129', 'F16.921', 'F19.94', 'F19.982', 'F18.99', 'F17.219', 'F12.959', 'F10.231', 'F14.91', 'F19.921', 'F15.24', 'F16.90', 'F12.121', 'F17.218', 'F10.921', 'F12.151', 'F19.19', 'F10.29', 'F16.99', 'F15.222', 'F12.13', 'F10.988', 'F10.930', 'F19.251', 'F11.221', 'F14.929', 'F16.20', 'F14.229', 'F16.951', 'F11.920', 'F18.20', 'F13.20', 'F12.951', 'F17.210', 'F14.99', 'F10.951', 'F12.980', 'F19.90', 'F19.10', 'F11.220', 'F19.24', 'F18.129', 'F19.97', 'F10.230', 'F13.932', 'F13.90', 'F11.229'}\n"
     ]
    }
   ],
   "source": [
    "print(len(codes_scz), len(codes_depression), len(codes_trauma), len(codes_bipolar), len(codes_anxiety),\n",
    "      len(codes_substance))\n",
    "print(codes_scz, \"\\n\", codes_depression, \"\\n\", codes_trauma, \"\\n\", codes_bipolar, \"\\n\", codes_anxiety, \"\\n\", codes_substance)"
   ],
   "metadata": {
    "collapsed": false,
    "pycharm": {
     "name": "#%%\n"
    }
   }
  },
  {
   "cell_type": "code",
   "execution_count": 5,
   "outputs": [],
   "source": [
    "scz_mrns = list(set(all_scz_diagnoses.PrimaryMrn))"
   ],
   "metadata": {
    "collapsed": false,
    "pycharm": {
     "name": "#%%\n"
    }
   }
  },
  {
   "cell_type": "code",
   "execution_count": 6,
   "outputs": [
    {
     "name": "stderr",
     "output_type": "stream",
     "text": [
      "/var/folders/xm/m4dy5bvs1fn7fb9wxjhsg4dc0000gn/T/ipykernel_41533/3404971775.py:1: DtypeWarning: Columns (0,10,13) have mixed types. Specify dtype option on import or set low_memory=False.\n",
      "  controls_depression = pd.read_csv('/Users/valena17/DataGripProjects/msdw2/output/matched_controls_depression.csv')\n"
     ]
    },
    {
     "data": {
      "text/plain": "140948"
     },
     "execution_count": 6,
     "metadata": {},
     "output_type": "execute_result"
    }
   ],
   "source": [
    "controls_depression = pd.read_csv('/Users/valena17/DataGripProjects/msdw2/output/matched_controls_depression.csv')\n",
    "controls_depression['PrimaryMrn'].nunique()"
   ],
   "metadata": {
    "collapsed": false,
    "pycharm": {
     "name": "#%%\n"
    }
   }
  },
  {
   "cell_type": "code",
   "execution_count": 9,
   "outputs": [
    {
     "data": {
      "text/plain": "136919"
     },
     "execution_count": 9,
     "metadata": {},
     "output_type": "execute_result"
    }
   ],
   "source": [
    "controls_depression = controls_depression[~controls_depression.PrimaryMrn.isin(scz_mrns)]\n",
    "controls_depression = controls_depression.replace(['Unknown', '*Unknown','*Unspecified', 'Choose not to disclose', 'Not recorded on birth certificate','*Not Applicable', 'Indeterminate', 'Uncertain', 'UNKNOWN', 'PATIENT DECLINED'], np.nan)\n",
    "controls_depression['PrimaryMrn'].nunique()"
   ],
   "metadata": {
    "collapsed": false,
    "pycharm": {
     "name": "#%%\n"
    }
   }
  },
  {
   "cell_type": "code",
   "execution_count": 28,
   "outputs": [
    {
     "name": "stderr",
     "output_type": "stream",
     "text": [
      "/var/folders/xm/m4dy5bvs1fn7fb9wxjhsg4dc0000gn/T/ipykernel_8430/667518559.py:1: DtypeWarning: Columns (0,10,13) have mixed types. Specify dtype option on import or set low_memory=False.\n",
      "  controls = pd.read_csv('/Users/valena17/DataGripProjects/msdw2/output/matched_controls.csv')\n"
     ]
    }
   ],
   "source": [
    "controls = pd.read_csv('/Users/valena17/DataGripProjects/msdw2/output/matched_controls.csv')\n",
    "controls = controls[~controls.PrimaryMrn.isin(scz_mrns)]\n",
    "controls = controls.replace(['Unknown', '*Unknown','*Unspecified', 'Choose not to disclose', 'Not recorded on birth certificate','*Not Applicable', 'Indeterminate', 'Uncertain', 'UNKNOWN', 'PATIENT DECLINED', '*Deleted'], np.nan)\n",
    "controls[\"PrimaryMrn\"]=controls[\"PrimaryMrn\"].values.astype(str)"
   ],
   "metadata": {
    "collapsed": false,
    "pycharm": {
     "name": "#%%\n"
    }
   }
  },
  {
   "cell_type": "code",
   "execution_count": 29,
   "outputs": [],
   "source": [
    "controls = controls.sort_values(by=['PrimaryMrn','VisitDate'], ascending=[True, True])\n",
    "controls = controls.drop_duplicates(subset=['PrimaryMrn', 'DisplayString'],  keep='first')"
   ],
   "metadata": {
    "collapsed": false,
    "pycharm": {
     "name": "#%%\n"
    }
   }
  },
  {
   "cell_type": "code",
   "execution_count": 30,
   "outputs": [
    {
     "data": {
      "text/plain": "['Neurocognitive disorders']"
     },
     "execution_count": 30,
     "metadata": {},
     "output_type": "execute_result"
    }
   ],
   "source": [
    "ccsr = pd.read_csv(\"/Users/valena17/DataGripProjects/msdw2/psych_diagnoses/ccsr_fcodes.csv\")\n",
    "ccsr = ccsr.applymap(lambda x: x.replace(\"'\", \"\"))\n",
    "ccsr = ccsr[['ICD-10-CM CODE', 'Default CCSR CATEGORY DESCRIPTION OP']]\n",
    "ccsr_mapping = ccsr.set_index('ICD-10-CM CODE').T.to_dict('list')\n",
    "ccsr_mapping['F01518']"
   ],
   "metadata": {
    "collapsed": false,
    "pycharm": {
     "name": "#%%\n"
    }
   }
  },
  {
   "cell_type": "code",
   "execution_count": 31,
   "outputs": [
    {
     "data": {
      "text/plain": "        PrimaryMrn  AgeInYears   BirthDate PreferredLanguage     Sex  \\\n1407141    1000094        48.0  1974-12-10           English    Male   \n1808696    1000094        48.0  1974-12-10           English    Male   \n1858877    1000176        48.0  1974-12-23           English    Male   \n1804800    1000224        75.0  1947-09-29           English    Male   \n1837909    1000224        75.0  1947-09-29           English    Male   \n1392173    1000224        75.0  1947-09-29           English    Male   \n1838026    1000417        54.0  1968-05-25           English  Female   \n1430464    1000417        54.0  1968-05-25           English  Female   \n1392275    1000417        54.0  1968-05-25           English  Female   \n1430476    1000417        54.0  1968-05-25           English  Female   \n1838285    1000417        54.0  1968-05-25           English  Female   \n1392476    1000417        54.0  1968-05-25           English  Female   \n1392394    1000417        54.0  1968-05-25           English  Female   \n1430711    1000417        54.0  1968-05-25           English  Female   \n1805247    1000445        48.0  1974-05-01           English  Female   \n1392487    1000446        48.0  1974-08-23           English  Female   \n1805248    1000446        48.0  1974-08-23           English  Female   \n1834540    1000539        65.0  1957-05-02           English  Female   \n1805249    1000898       111.0  1911-09-29           English  Female   \n1808951    1000898       111.0  1911-09-29           English  Female   \n1805251    1000952        84.0  1938-04-19           English  Female   \n1407492    1000952        84.0  1938-04-19           English  Female   \n1430724    1000952        84.0  1938-04-19           English  Female   \n1834682     100114        42.0  1980-08-20               NaN  Female   \n1838463     100114        42.0  1980-08-20               NaN  Female   \n1834684     100114        42.0  1980-08-20               NaN  Female   \n1805255    1001162        47.0  1975-02-18           English  Female   \n1838600      10012        90.0  1932-05-24           English    Male   \n1430875      10012        90.0  1932-05-24           English    Male   \n1859455      10012        90.0  1932-05-24           English    Male   \n1805298      10012        90.0  1932-05-24           English    Male   \n1809370    1001230        50.0  1972-09-29           English  Female   \n1407843    1001230        50.0  1972-09-29           English  Female   \n1407844    1001230        50.0  1972-09-29           English  Female   \n1407845    1001230        50.0  1972-09-29           English  Female   \n1809371    1001230        50.0  1972-09-29           English  Female   \n1805457    1001274        99.0  1923-06-03           Spanish  Female   \n1838753     100142        65.0  1957-10-30           English    Male   \n1430991    1001435        65.0  1957-03-21           English  Female   \n1859773    1001435        65.0  1957-03-21           English  Female   \n1809373     100145        62.0  1960-07-21           Spanish  Female   \n1834946     100145        62.0  1960-07-21           Spanish  Female   \n1805464    1001475        48.0  1974-07-30           English  Female   \n1809375    1001526        54.0  1968-09-02           English    Male   \n1805465    1001526        54.0  1968-09-02           English    Male   \n1859779    1001554        36.0  1986-12-30           English  Female   \n1809483    1001554        36.0  1986-12-30           English  Female   \n1834952    1001554        36.0  1986-12-30           English  Female   \n1834953    1001583        75.0  1947-07-24           English  Female   \n1834954    1001586        87.0  1935-08-28           English    Male   \n\n        SexAssignedAtBirth GenderIdentity Ethnicity  \\\n1407141                NaN            NaN       NaN   \n1808696                NaN            NaN       NaN   \n1858877                NaN            NaN       NaN   \n1804800               Male           Male       NaN   \n1837909               Male           Male       NaN   \n1392173               Male           Male       NaN   \n1838026             Female         Female       NaN   \n1430464             Female         Female       NaN   \n1392275             Female         Female       NaN   \n1430476             Female         Female       NaN   \n1838285             Female         Female       NaN   \n1392476             Female         Female       NaN   \n1392394             Female         Female       NaN   \n1430711             Female         Female       NaN   \n1805247             Female         Female       NaN   \n1392487                NaN            NaN       NaN   \n1805248                NaN            NaN       NaN   \n1834540                NaN            NaN       NaN   \n1805249                NaN            NaN       NaN   \n1808951                NaN            NaN       NaN   \n1805251                NaN            NaN       NaN   \n1407492                NaN            NaN       NaN   \n1430724                NaN            NaN       NaN   \n1834682                NaN            NaN       NaN   \n1838463                NaN            NaN       NaN   \n1834684                NaN            NaN       NaN   \n1805255             Female         Female       NaN   \n1838600               Male           Male       NaN   \n1430875               Male           Male       NaN   \n1859455               Male           Male       NaN   \n1805298               Male           Male       NaN   \n1809370             Female         Female       NaN   \n1407843             Female         Female       NaN   \n1407844             Female         Female       NaN   \n1407845             Female         Female       NaN   \n1809371             Female         Female       NaN   \n1805457                NaN            NaN       NaN   \n1838753                NaN            NaN       NaN   \n1430991                NaN            NaN       NaN   \n1859773                NaN            NaN       NaN   \n1809373                NaN            NaN       NaN   \n1834946                NaN            NaN       NaN   \n1805464             Female         Female       NaN   \n1809375                NaN            NaN       NaN   \n1805465                NaN            NaN       NaN   \n1859779             Female         Female       NaN   \n1809483             Female         Female       NaN   \n1834952             Female         Female       NaN   \n1834953                NaN            NaN       NaN   \n1834954                NaN            NaN       NaN   \n\n                         FirstRace SecondRace  ...  PostalCode  EncounterKey  \\\n1407141                      OTHER        NaN  ...       10029     323315612   \n1808696                      OTHER        NaN  ...       10029     323077124   \n1858877                        NaN        NaN  ...       10025     255234277   \n1804800           AFRICAN-AMERICAN        NaN  ...       10701       3561374   \n1837909           AFRICAN-AMERICAN        NaN  ...       10701     154293468   \n1392173           AFRICAN-AMERICAN        NaN  ...  10701-1908     307082686   \n1838026           AFRICAN-AMERICAN        NaN  ...       10039       3068279   \n1430464           AFRICAN-AMERICAN        NaN  ...       10039       2948041   \n1392275           AFRICAN-AMERICAN        NaN  ...       10039      22520511   \n1430476           AFRICAN-AMERICAN        NaN  ...       10039      14722359   \n1838285           AFRICAN-AMERICAN        NaN  ...       10039     137145229   \n1392476           AFRICAN-AMERICAN        NaN  ...       10039     137145253   \n1392394           AFRICAN-AMERICAN        NaN  ...       10039      95945529   \n1430711           AFRICAN-AMERICAN        NaN  ...       10039     254822176   \n1805247                      OTHER        NaN  ...  10025-9999      56386678   \n1392487                      OTHER        NaN  ...       10029      53840418   \n1805248                      OTHER        NaN  ...       10029     137334588   \n1834540                      OTHER        NaN  ...       10029      13512177   \n1805249                      OTHER        NaN  ...       10454       5766465   \n1808951                      OTHER        NaN  ...       10454      10755776   \n1805251                      OTHER        NaN  ...       10472       3400420   \n1407492                      OTHER        NaN  ...       10472     163250782   \n1430724                      OTHER        NaN  ...       10472      50818070   \n1834682                        NaN        NaN  ...       10025     254461210   \n1838463                        NaN        NaN  ...       10025     254784642   \n1834684                        NaN        NaN  ...       10025     255491685   \n1805255                      OTHER      OTHER  ...       10026     232575604   \n1838600                      WHITE        NaN  ...       10027     154461540   \n1430875                      WHITE        NaN  ...       10027     143958626   \n1859455                      WHITE        NaN  ...       10027     119015112   \n1805298                      WHITE        NaN  ...       10027     119015350   \n1809370                      OTHER        NaN  ...       10009       3475060   \n1407843                      OTHER        NaN  ...       10009      57635808   \n1407844                      OTHER        NaN  ...  10009-5511      82311315   \n1407845                      OTHER        NaN  ...  10009-5511      84165213   \n1809371                      OTHER        NaN  ...       10009     275556676   \n1805457            Hispanic/Latino        NaN  ...       10451       8637670   \n1838753                      OTHER        NaN  ...       10029     194380399   \n1430991                      WHITE        NaN  ...       10025     253924580   \n1859773                      WHITE        NaN  ...       10025     287273397   \n1809373                      OTHER        NaN  ...       10034     251197725   \n1834946                      OTHER        NaN  ...       10034     254257835   \n1805464                      WHITE        NaN  ...  10038-2746     189043270   \n1809375           AFRICAN-AMERICAN        NaN  ...       10026     314690728   \n1805465           AFRICAN-AMERICAN        NaN  ...       10026     314402497   \n1859779                        NaN        NaN  ...       11201     242648589   \n1809483                        NaN        NaN  ...       11201     240120303   \n1834952                        NaN        NaN  ...       11201     295127016   \n1834953  Black or African-American        NaN  ...       10031      47509515   \n1834954                      WHITE        NaN  ...       10003     180690614   \n\n        AgeAtVisit   VisitDate                VisitType  VisitType2    Value  \\\n1407141       47.0  2022-11-12       Hospital Encounter   Emergency   F43.24   \n1808696       47.0  2022-11-12       Hospital Encounter   Emergency   F43.20   \n1858877       40.0  2015-05-18             Office Visit  Outpatient    F32.1   \n1804800       62.0  2010-06-24  Psych Conf Office Visit  Outpatient    F41.1   \n1837909       68.0  2016-06-21             Office Visit  Outpatient  F17.210   \n1392173       74.0  2022-08-24             Office Visit         NaN  F17.200   \n1838026       41.0  2010-02-03     Psych Conf Telephone         NaN    F33.1   \n1430464       41.0  2010-03-19  Psych Conf Office Visit   Recurring   F40.01   \n1392275       46.0  2014-12-05  Psych Conf Office Visit   Recurring    F41.0   \n1430476       46.0  2015-01-22             Office Visit  Outpatient    F32.A   \n1838285       46.0  2015-01-22             Office Visit  Outpatient   F32.89   \n1392476       47.0  2016-05-05             Office Visit  Outpatient    F33.0   \n1392394       51.0  2019-06-21             Office Visit   Recurring    F41.1   \n1430711       51.0  2020-04-09             Office Visit  Outpatient    F33.9   \n1805247       42.0  2017-03-23           Admission Eval  Outpatient      F39   \n1392487       42.0  2017-01-25             Office Visit  Outpatient    F32.A   \n1805248       42.0  2017-01-25             Office Visit  Outpatient    F32.9   \n1834540       55.0  2012-05-14  Psych Conf Office Visit   Recurring   F19.20   \n1805249       95.0  2007-04-17             Office Visit  Outpatient    F32.A   \n1808951       99.0  2011-08-10             Office Visit  Outpatient   F03.90   \n1805251       71.0  2010-02-08  Psych Conf Office Visit   Recurring    F33.9   \n1407492       77.0  2015-10-14             Office Visit  Outpatient    F33.0   \n1430724       78.0  2016-09-07                Telephone         NaN    F32.A   \n1834682       34.0  2015-05-29             Office Visit  Outpatient   F31.32   \n1838463       35.0  2015-10-06             Office Visit  Outpatient      F39   \n1834684       35.0  2016-01-11             Office Visit  Outpatient   F11.20   \n1805255       46.0  2021-04-26             Office Visit  Outpatient  F17.200   \n1838600       82.0  2014-06-12             Office Visit  Outpatient    F41.1   \n1430875       82.0  2014-10-10             Office Visit  Outpatient    F33.2   \n1859455       84.0  2017-05-08             Office Visit  Outpatient    F41.9   \n1805298       84.0  2017-05-11             Office Visit  Outpatient   F43.20   \n1809370       34.0  2007-04-19             Office Visit  Outpatient    F32.A   \n1407843       44.0  2017-05-16             Office Visit  Outpatient   F51.01   \n1407844       45.0  2018-08-23             Office Visit  Outpatient    F32.0   \n1407845       46.0  2018-11-15             Office Visit  Outpatient   F51.04   \n1809371       49.0  2021-10-28       Hospital Encounter   Emergency   F07.81   \n1805457       84.0  2007-07-17             Office Visit  Outpatient    F32.A   \n1838753       63.0  2021-02-12             Office Visit  Outpatient    F52.0   \n1430991       57.0  2015-03-02             Office Visit  Outpatient    F41.1   \n1859773       58.0  2015-03-31             Office Visit  Outpatient    F33.1   \n1809373       53.0  2013-08-16             Office Visit  Outpatient    F31.9   \n1834946       53.0  2013-10-09             Office Visit  Outpatient  F17.200   \n1805464       46.0  2020-10-22       Hospital Encounter   Emergency   F43.22   \n1809375       53.0  2022-04-27       Hospital Encounter   Emergency   F11.20   \n1805465       53.0  2022-06-19       Hospital Encounter   Emergency   F43.25   \n1859779       33.0  2020-03-02             Office Visit  Outpatient    F41.1   \n1809483       33.0  2020-04-14             Office Visit  Outpatient    F41.0   \n1834952       34.0  2021-11-02             Office Visit  Outpatient   F43.20   \n1834953       68.0  2016-05-17             Office Visit  Outpatient    F41.8   \n1834954       84.0  2020-05-15             Office Visit   Recurring    F33.1   \n\n                                             DisplayString  \\\n1407141    Adjustment disorder with disturbance of conduct   \n1808696                   Adjustment disorder, unspecified   \n1858877  Major depressive disorder, single episode, mod...   \n1804800                       Generalized anxiety disorder   \n1837909     Nicotine dependence, cigarettes, uncomplicated   \n1392173    Nicotine dependence, unspecified, uncomplicated   \n1838026     Major depressive disorder, recurrent, moderate   \n1430464                    Agoraphobia with panic disorder   \n1392275       Panic disorder (episodic paroxysmal anxiety)   \n1430476                            Depression, unspecified   \n1838285                Other specified depressive episodes   \n1392476         Major depressive disorder, recurrent, mild   \n1392394                       Generalized anxiety disorder   \n1430711  Major depressive disorder, recurrent, unspecified   \n1805247              Unspecified mood (affective) disorder   \n1392487                            Depression, unspecified   \n1805248  Major depressive disorder, single episode, uns...   \n1834540  Other psychoactive substance dependence, uncom...   \n1805249                            Depression, unspecified   \n1808951  Unspecified dementia, unspecified severity, wi...   \n1805251  Major depressive disorder, recurrent, unspecified   \n1407492         Major depressive disorder, recurrent, mild   \n1430724                            Depression, unspecified   \n1834682  Bipolar disorder, current episode depressed, m...   \n1838463              Unspecified mood (affective) disorder   \n1834684                   Opioid dependence, uncomplicated   \n1805255    Nicotine dependence, unspecified, uncomplicated   \n1838600                       Generalized anxiety disorder   \n1430875  Major depressive disorder, recurrent severe wi...   \n1859455                      Anxiety disorder, unspecified   \n1805298                   Adjustment disorder, unspecified   \n1809370                            Depression, unspecified   \n1407843                                   Primary insomnia   \n1407844    Major depressive disorder, single episode, mild   \n1407845                         Psychophysiologic insomnia   \n1809371                          Postconcussional syndrome   \n1805457                            Depression, unspecified   \n1838753                  Hypoactive sexual desire disorder   \n1430991                       Generalized anxiety disorder   \n1859773     Major depressive disorder, recurrent, moderate   \n1809373                      Bipolar disorder, unspecified   \n1834946    Nicotine dependence, unspecified, uncomplicated   \n1805464                   Adjustment disorder with anxiety   \n1809375                   Opioid dependence, uncomplicated   \n1805465  Adjustment disorder with mixed disturbance of ...   \n1859779                       Generalized anxiety disorder   \n1809483       Panic disorder (episodic paroxysmal anxiety)   \n1834952                   Adjustment disorder, unspecified   \n1834953                  Other specified anxiety disorders   \n1834954     Major depressive disorder, recurrent, moderate   \n\n             PayorFinancialClass  \\\n1407141  Commercial/Managed Care   \n1808696  Commercial/Managed Care   \n1858877                      NaN   \n1804800                 Self-Pay   \n1837909                      NaN   \n1392173                      WTC   \n1838026                 Self-Pay   \n1430464                 Self-Pay   \n1392275                 Self-Pay   \n1430476                 Self-Pay   \n1838285                      NaN   \n1392476                      NaN   \n1392394    Medicaid Managed Care   \n1430711                      NaN   \n1805247                 Self-Pay   \n1392487    Medicaid Managed Care   \n1805248                      NaN   \n1834540                 Self-Pay   \n1805249                 Self-Pay   \n1808951                 Self-Pay   \n1805251                 Self-Pay   \n1407492                      NaN   \n1430724                 Self-Pay   \n1834682                      NaN   \n1838463                      NaN   \n1834684                      NaN   \n1805255  Commercial/Managed Care   \n1838600                      NaN   \n1430875                      NaN   \n1859455                      NaN   \n1805298                      NaN   \n1809370                 Self-Pay   \n1407843    Medicare Managed Care   \n1407844    Medicare Managed Care   \n1407845    Medicare Managed Care   \n1809371              Medicaid MS   \n1805457                 Self-Pay   \n1838753  Commercial/Managed Care   \n1430991                      NaN   \n1859773                      NaN   \n1809373                      NaN   \n1834946                      NaN   \n1805464                 Self-Pay   \n1809375    Medicaid Managed Care   \n1805465    Medicaid Managed Care   \n1859779                      NaN   \n1809483                      NaN   \n1834952                      NaN   \n1834953                 Self-Pay   \n1834954              Medicare MS   \n\n                                                 CCSR_code  \n1407141             Trauma- and stressor-related disorders  \n1808696             Trauma- and stressor-related disorders  \n1858877                               Depressive disorders  \n1804800                 Anxiety and fear-related disorders  \n1837909                          Tobacco-related disorders  \n1392173                          Tobacco-related disorders  \n1838026                               Depressive disorders  \n1430464                 Anxiety and fear-related disorders  \n1392275                 Anxiety and fear-related disorders  \n1430476                               Depressive disorders  \n1838285                               Depressive disorders  \n1392476                               Depressive disorders  \n1392394                 Anxiety and fear-related disorders  \n1430711                               Depressive disorders  \n1805247     Other specified and unspecified mood disorders  \n1392487                               Depressive disorders  \n1805248                               Depressive disorders  \n1834540        Other specified substance-related disorders  \n1805249                               Depressive disorders  \n1808951                           Neurocognitive disorders  \n1805251                               Depressive disorders  \n1407492                               Depressive disorders  \n1430724                               Depressive disorders  \n1834682                      Bipolar and related disorders  \n1838463     Other specified and unspecified mood disorders  \n1834684                           Opioid-related disorders  \n1805255                          Tobacco-related disorders  \n1838600                 Anxiety and fear-related disorders  \n1430875                               Depressive disorders  \n1859455                 Anxiety and fear-related disorders  \n1805298             Trauma- and stressor-related disorders  \n1809370                               Depressive disorders  \n1407843                               Sleep wake disorders  \n1407844                               Depressive disorders  \n1407845                               Sleep wake disorders  \n1809371                           Neurocognitive disorders  \n1805457                               Depressive disorders  \n1838753  Miscellaneous mental and behavioral disorders/...  \n1430991                 Anxiety and fear-related disorders  \n1859773                               Depressive disorders  \n1809373                      Bipolar and related disorders  \n1834946                          Tobacco-related disorders  \n1805464             Trauma- and stressor-related disorders  \n1809375                           Opioid-related disorders  \n1805465             Trauma- and stressor-related disorders  \n1859779                 Anxiety and fear-related disorders  \n1809483                 Anxiety and fear-related disorders  \n1834952             Trauma- and stressor-related disorders  \n1834953                 Anxiety and fear-related disorders  \n1834954                               Depressive disorders  \n\n[50 rows x 23 columns]",
      "text/html": "<div>\n<style scoped>\n    .dataframe tbody tr th:only-of-type {\n        vertical-align: middle;\n    }\n\n    .dataframe tbody tr th {\n        vertical-align: top;\n    }\n\n    .dataframe thead th {\n        text-align: right;\n    }\n</style>\n<table border=\"1\" class=\"dataframe\">\n  <thead>\n    <tr style=\"text-align: right;\">\n      <th></th>\n      <th>PrimaryMrn</th>\n      <th>AgeInYears</th>\n      <th>BirthDate</th>\n      <th>PreferredLanguage</th>\n      <th>Sex</th>\n      <th>SexAssignedAtBirth</th>\n      <th>GenderIdentity</th>\n      <th>Ethnicity</th>\n      <th>FirstRace</th>\n      <th>SecondRace</th>\n      <th>...</th>\n      <th>PostalCode</th>\n      <th>EncounterKey</th>\n      <th>AgeAtVisit</th>\n      <th>VisitDate</th>\n      <th>VisitType</th>\n      <th>VisitType2</th>\n      <th>Value</th>\n      <th>DisplayString</th>\n      <th>PayorFinancialClass</th>\n      <th>CCSR_code</th>\n    </tr>\n  </thead>\n  <tbody>\n    <tr>\n      <th>1407141</th>\n      <td>1000094</td>\n      <td>48.0</td>\n      <td>1974-12-10</td>\n      <td>English</td>\n      <td>Male</td>\n      <td>NaN</td>\n      <td>NaN</td>\n      <td>NaN</td>\n      <td>OTHER</td>\n      <td>NaN</td>\n      <td>...</td>\n      <td>10029</td>\n      <td>323315612</td>\n      <td>47.0</td>\n      <td>2022-11-12</td>\n      <td>Hospital Encounter</td>\n      <td>Emergency</td>\n      <td>F43.24</td>\n      <td>Adjustment disorder with disturbance of conduct</td>\n      <td>Commercial/Managed Care</td>\n      <td>Trauma- and stressor-related disorders</td>\n    </tr>\n    <tr>\n      <th>1808696</th>\n      <td>1000094</td>\n      <td>48.0</td>\n      <td>1974-12-10</td>\n      <td>English</td>\n      <td>Male</td>\n      <td>NaN</td>\n      <td>NaN</td>\n      <td>NaN</td>\n      <td>OTHER</td>\n      <td>NaN</td>\n      <td>...</td>\n      <td>10029</td>\n      <td>323077124</td>\n      <td>47.0</td>\n      <td>2022-11-12</td>\n      <td>Hospital Encounter</td>\n      <td>Emergency</td>\n      <td>F43.20</td>\n      <td>Adjustment disorder, unspecified</td>\n      <td>Commercial/Managed Care</td>\n      <td>Trauma- and stressor-related disorders</td>\n    </tr>\n    <tr>\n      <th>1858877</th>\n      <td>1000176</td>\n      <td>48.0</td>\n      <td>1974-12-23</td>\n      <td>English</td>\n      <td>Male</td>\n      <td>NaN</td>\n      <td>NaN</td>\n      <td>NaN</td>\n      <td>NaN</td>\n      <td>NaN</td>\n      <td>...</td>\n      <td>10025</td>\n      <td>255234277</td>\n      <td>40.0</td>\n      <td>2015-05-18</td>\n      <td>Office Visit</td>\n      <td>Outpatient</td>\n      <td>F32.1</td>\n      <td>Major depressive disorder, single episode, mod...</td>\n      <td>NaN</td>\n      <td>Depressive disorders</td>\n    </tr>\n    <tr>\n      <th>1804800</th>\n      <td>1000224</td>\n      <td>75.0</td>\n      <td>1947-09-29</td>\n      <td>English</td>\n      <td>Male</td>\n      <td>Male</td>\n      <td>Male</td>\n      <td>NaN</td>\n      <td>AFRICAN-AMERICAN</td>\n      <td>NaN</td>\n      <td>...</td>\n      <td>10701</td>\n      <td>3561374</td>\n      <td>62.0</td>\n      <td>2010-06-24</td>\n      <td>Psych Conf Office Visit</td>\n      <td>Outpatient</td>\n      <td>F41.1</td>\n      <td>Generalized anxiety disorder</td>\n      <td>Self-Pay</td>\n      <td>Anxiety and fear-related disorders</td>\n    </tr>\n    <tr>\n      <th>1837909</th>\n      <td>1000224</td>\n      <td>75.0</td>\n      <td>1947-09-29</td>\n      <td>English</td>\n      <td>Male</td>\n      <td>Male</td>\n      <td>Male</td>\n      <td>NaN</td>\n      <td>AFRICAN-AMERICAN</td>\n      <td>NaN</td>\n      <td>...</td>\n      <td>10701</td>\n      <td>154293468</td>\n      <td>68.0</td>\n      <td>2016-06-21</td>\n      <td>Office Visit</td>\n      <td>Outpatient</td>\n      <td>F17.210</td>\n      <td>Nicotine dependence, cigarettes, uncomplicated</td>\n      <td>NaN</td>\n      <td>Tobacco-related disorders</td>\n    </tr>\n    <tr>\n      <th>1392173</th>\n      <td>1000224</td>\n      <td>75.0</td>\n      <td>1947-09-29</td>\n      <td>English</td>\n      <td>Male</td>\n      <td>Male</td>\n      <td>Male</td>\n      <td>NaN</td>\n      <td>AFRICAN-AMERICAN</td>\n      <td>NaN</td>\n      <td>...</td>\n      <td>10701-1908</td>\n      <td>307082686</td>\n      <td>74.0</td>\n      <td>2022-08-24</td>\n      <td>Office Visit</td>\n      <td>NaN</td>\n      <td>F17.200</td>\n      <td>Nicotine dependence, unspecified, uncomplicated</td>\n      <td>WTC</td>\n      <td>Tobacco-related disorders</td>\n    </tr>\n    <tr>\n      <th>1838026</th>\n      <td>1000417</td>\n      <td>54.0</td>\n      <td>1968-05-25</td>\n      <td>English</td>\n      <td>Female</td>\n      <td>Female</td>\n      <td>Female</td>\n      <td>NaN</td>\n      <td>AFRICAN-AMERICAN</td>\n      <td>NaN</td>\n      <td>...</td>\n      <td>10039</td>\n      <td>3068279</td>\n      <td>41.0</td>\n      <td>2010-02-03</td>\n      <td>Psych Conf Telephone</td>\n      <td>NaN</td>\n      <td>F33.1</td>\n      <td>Major depressive disorder, recurrent, moderate</td>\n      <td>Self-Pay</td>\n      <td>Depressive disorders</td>\n    </tr>\n    <tr>\n      <th>1430464</th>\n      <td>1000417</td>\n      <td>54.0</td>\n      <td>1968-05-25</td>\n      <td>English</td>\n      <td>Female</td>\n      <td>Female</td>\n      <td>Female</td>\n      <td>NaN</td>\n      <td>AFRICAN-AMERICAN</td>\n      <td>NaN</td>\n      <td>...</td>\n      <td>10039</td>\n      <td>2948041</td>\n      <td>41.0</td>\n      <td>2010-03-19</td>\n      <td>Psych Conf Office Visit</td>\n      <td>Recurring</td>\n      <td>F40.01</td>\n      <td>Agoraphobia with panic disorder</td>\n      <td>Self-Pay</td>\n      <td>Anxiety and fear-related disorders</td>\n    </tr>\n    <tr>\n      <th>1392275</th>\n      <td>1000417</td>\n      <td>54.0</td>\n      <td>1968-05-25</td>\n      <td>English</td>\n      <td>Female</td>\n      <td>Female</td>\n      <td>Female</td>\n      <td>NaN</td>\n      <td>AFRICAN-AMERICAN</td>\n      <td>NaN</td>\n      <td>...</td>\n      <td>10039</td>\n      <td>22520511</td>\n      <td>46.0</td>\n      <td>2014-12-05</td>\n      <td>Psych Conf Office Visit</td>\n      <td>Recurring</td>\n      <td>F41.0</td>\n      <td>Panic disorder (episodic paroxysmal anxiety)</td>\n      <td>Self-Pay</td>\n      <td>Anxiety and fear-related disorders</td>\n    </tr>\n    <tr>\n      <th>1430476</th>\n      <td>1000417</td>\n      <td>54.0</td>\n      <td>1968-05-25</td>\n      <td>English</td>\n      <td>Female</td>\n      <td>Female</td>\n      <td>Female</td>\n      <td>NaN</td>\n      <td>AFRICAN-AMERICAN</td>\n      <td>NaN</td>\n      <td>...</td>\n      <td>10039</td>\n      <td>14722359</td>\n      <td>46.0</td>\n      <td>2015-01-22</td>\n      <td>Office Visit</td>\n      <td>Outpatient</td>\n      <td>F32.A</td>\n      <td>Depression, unspecified</td>\n      <td>Self-Pay</td>\n      <td>Depressive disorders</td>\n    </tr>\n    <tr>\n      <th>1838285</th>\n      <td>1000417</td>\n      <td>54.0</td>\n      <td>1968-05-25</td>\n      <td>English</td>\n      <td>Female</td>\n      <td>Female</td>\n      <td>Female</td>\n      <td>NaN</td>\n      <td>AFRICAN-AMERICAN</td>\n      <td>NaN</td>\n      <td>...</td>\n      <td>10039</td>\n      <td>137145229</td>\n      <td>46.0</td>\n      <td>2015-01-22</td>\n      <td>Office Visit</td>\n      <td>Outpatient</td>\n      <td>F32.89</td>\n      <td>Other specified depressive episodes</td>\n      <td>NaN</td>\n      <td>Depressive disorders</td>\n    </tr>\n    <tr>\n      <th>1392476</th>\n      <td>1000417</td>\n      <td>54.0</td>\n      <td>1968-05-25</td>\n      <td>English</td>\n      <td>Female</td>\n      <td>Female</td>\n      <td>Female</td>\n      <td>NaN</td>\n      <td>AFRICAN-AMERICAN</td>\n      <td>NaN</td>\n      <td>...</td>\n      <td>10039</td>\n      <td>137145253</td>\n      <td>47.0</td>\n      <td>2016-05-05</td>\n      <td>Office Visit</td>\n      <td>Outpatient</td>\n      <td>F33.0</td>\n      <td>Major depressive disorder, recurrent, mild</td>\n      <td>NaN</td>\n      <td>Depressive disorders</td>\n    </tr>\n    <tr>\n      <th>1392394</th>\n      <td>1000417</td>\n      <td>54.0</td>\n      <td>1968-05-25</td>\n      <td>English</td>\n      <td>Female</td>\n      <td>Female</td>\n      <td>Female</td>\n      <td>NaN</td>\n      <td>AFRICAN-AMERICAN</td>\n      <td>NaN</td>\n      <td>...</td>\n      <td>10039</td>\n      <td>95945529</td>\n      <td>51.0</td>\n      <td>2019-06-21</td>\n      <td>Office Visit</td>\n      <td>Recurring</td>\n      <td>F41.1</td>\n      <td>Generalized anxiety disorder</td>\n      <td>Medicaid Managed Care</td>\n      <td>Anxiety and fear-related disorders</td>\n    </tr>\n    <tr>\n      <th>1430711</th>\n      <td>1000417</td>\n      <td>54.0</td>\n      <td>1968-05-25</td>\n      <td>English</td>\n      <td>Female</td>\n      <td>Female</td>\n      <td>Female</td>\n      <td>NaN</td>\n      <td>AFRICAN-AMERICAN</td>\n      <td>NaN</td>\n      <td>...</td>\n      <td>10039</td>\n      <td>254822176</td>\n      <td>51.0</td>\n      <td>2020-04-09</td>\n      <td>Office Visit</td>\n      <td>Outpatient</td>\n      <td>F33.9</td>\n      <td>Major depressive disorder, recurrent, unspecified</td>\n      <td>NaN</td>\n      <td>Depressive disorders</td>\n    </tr>\n    <tr>\n      <th>1805247</th>\n      <td>1000445</td>\n      <td>48.0</td>\n      <td>1974-05-01</td>\n      <td>English</td>\n      <td>Female</td>\n      <td>Female</td>\n      <td>Female</td>\n      <td>NaN</td>\n      <td>OTHER</td>\n      <td>NaN</td>\n      <td>...</td>\n      <td>10025-9999</td>\n      <td>56386678</td>\n      <td>42.0</td>\n      <td>2017-03-23</td>\n      <td>Admission Eval</td>\n      <td>Outpatient</td>\n      <td>F39</td>\n      <td>Unspecified mood (affective) disorder</td>\n      <td>Self-Pay</td>\n      <td>Other specified and unspecified mood disorders</td>\n    </tr>\n    <tr>\n      <th>1392487</th>\n      <td>1000446</td>\n      <td>48.0</td>\n      <td>1974-08-23</td>\n      <td>English</td>\n      <td>Female</td>\n      <td>NaN</td>\n      <td>NaN</td>\n      <td>NaN</td>\n      <td>OTHER</td>\n      <td>NaN</td>\n      <td>...</td>\n      <td>10029</td>\n      <td>53840418</td>\n      <td>42.0</td>\n      <td>2017-01-25</td>\n      <td>Office Visit</td>\n      <td>Outpatient</td>\n      <td>F32.A</td>\n      <td>Depression, unspecified</td>\n      <td>Medicaid Managed Care</td>\n      <td>Depressive disorders</td>\n    </tr>\n    <tr>\n      <th>1805248</th>\n      <td>1000446</td>\n      <td>48.0</td>\n      <td>1974-08-23</td>\n      <td>English</td>\n      <td>Female</td>\n      <td>NaN</td>\n      <td>NaN</td>\n      <td>NaN</td>\n      <td>OTHER</td>\n      <td>NaN</td>\n      <td>...</td>\n      <td>10029</td>\n      <td>137334588</td>\n      <td>42.0</td>\n      <td>2017-01-25</td>\n      <td>Office Visit</td>\n      <td>Outpatient</td>\n      <td>F32.9</td>\n      <td>Major depressive disorder, single episode, uns...</td>\n      <td>NaN</td>\n      <td>Depressive disorders</td>\n    </tr>\n    <tr>\n      <th>1834540</th>\n      <td>1000539</td>\n      <td>65.0</td>\n      <td>1957-05-02</td>\n      <td>English</td>\n      <td>Female</td>\n      <td>NaN</td>\n      <td>NaN</td>\n      <td>NaN</td>\n      <td>OTHER</td>\n      <td>NaN</td>\n      <td>...</td>\n      <td>10029</td>\n      <td>13512177</td>\n      <td>55.0</td>\n      <td>2012-05-14</td>\n      <td>Psych Conf Office Visit</td>\n      <td>Recurring</td>\n      <td>F19.20</td>\n      <td>Other psychoactive substance dependence, uncom...</td>\n      <td>Self-Pay</td>\n      <td>Other specified substance-related disorders</td>\n    </tr>\n    <tr>\n      <th>1805249</th>\n      <td>1000898</td>\n      <td>111.0</td>\n      <td>1911-09-29</td>\n      <td>English</td>\n      <td>Female</td>\n      <td>NaN</td>\n      <td>NaN</td>\n      <td>NaN</td>\n      <td>OTHER</td>\n      <td>NaN</td>\n      <td>...</td>\n      <td>10454</td>\n      <td>5766465</td>\n      <td>95.0</td>\n      <td>2007-04-17</td>\n      <td>Office Visit</td>\n      <td>Outpatient</td>\n      <td>F32.A</td>\n      <td>Depression, unspecified</td>\n      <td>Self-Pay</td>\n      <td>Depressive disorders</td>\n    </tr>\n    <tr>\n      <th>1808951</th>\n      <td>1000898</td>\n      <td>111.0</td>\n      <td>1911-09-29</td>\n      <td>English</td>\n      <td>Female</td>\n      <td>NaN</td>\n      <td>NaN</td>\n      <td>NaN</td>\n      <td>OTHER</td>\n      <td>NaN</td>\n      <td>...</td>\n      <td>10454</td>\n      <td>10755776</td>\n      <td>99.0</td>\n      <td>2011-08-10</td>\n      <td>Office Visit</td>\n      <td>Outpatient</td>\n      <td>F03.90</td>\n      <td>Unspecified dementia, unspecified severity, wi...</td>\n      <td>Self-Pay</td>\n      <td>Neurocognitive disorders</td>\n    </tr>\n    <tr>\n      <th>1805251</th>\n      <td>1000952</td>\n      <td>84.0</td>\n      <td>1938-04-19</td>\n      <td>English</td>\n      <td>Female</td>\n      <td>NaN</td>\n      <td>NaN</td>\n      <td>NaN</td>\n      <td>OTHER</td>\n      <td>NaN</td>\n      <td>...</td>\n      <td>10472</td>\n      <td>3400420</td>\n      <td>71.0</td>\n      <td>2010-02-08</td>\n      <td>Psych Conf Office Visit</td>\n      <td>Recurring</td>\n      <td>F33.9</td>\n      <td>Major depressive disorder, recurrent, unspecified</td>\n      <td>Self-Pay</td>\n      <td>Depressive disorders</td>\n    </tr>\n    <tr>\n      <th>1407492</th>\n      <td>1000952</td>\n      <td>84.0</td>\n      <td>1938-04-19</td>\n      <td>English</td>\n      <td>Female</td>\n      <td>NaN</td>\n      <td>NaN</td>\n      <td>NaN</td>\n      <td>OTHER</td>\n      <td>NaN</td>\n      <td>...</td>\n      <td>10472</td>\n      <td>163250782</td>\n      <td>77.0</td>\n      <td>2015-10-14</td>\n      <td>Office Visit</td>\n      <td>Outpatient</td>\n      <td>F33.0</td>\n      <td>Major depressive disorder, recurrent, mild</td>\n      <td>NaN</td>\n      <td>Depressive disorders</td>\n    </tr>\n    <tr>\n      <th>1430724</th>\n      <td>1000952</td>\n      <td>84.0</td>\n      <td>1938-04-19</td>\n      <td>English</td>\n      <td>Female</td>\n      <td>NaN</td>\n      <td>NaN</td>\n      <td>NaN</td>\n      <td>OTHER</td>\n      <td>NaN</td>\n      <td>...</td>\n      <td>10472</td>\n      <td>50818070</td>\n      <td>78.0</td>\n      <td>2016-09-07</td>\n      <td>Telephone</td>\n      <td>NaN</td>\n      <td>F32.A</td>\n      <td>Depression, unspecified</td>\n      <td>Self-Pay</td>\n      <td>Depressive disorders</td>\n    </tr>\n    <tr>\n      <th>1834682</th>\n      <td>100114</td>\n      <td>42.0</td>\n      <td>1980-08-20</td>\n      <td>NaN</td>\n      <td>Female</td>\n      <td>NaN</td>\n      <td>NaN</td>\n      <td>NaN</td>\n      <td>NaN</td>\n      <td>NaN</td>\n      <td>...</td>\n      <td>10025</td>\n      <td>254461210</td>\n      <td>34.0</td>\n      <td>2015-05-29</td>\n      <td>Office Visit</td>\n      <td>Outpatient</td>\n      <td>F31.32</td>\n      <td>Bipolar disorder, current episode depressed, m...</td>\n      <td>NaN</td>\n      <td>Bipolar and related disorders</td>\n    </tr>\n    <tr>\n      <th>1838463</th>\n      <td>100114</td>\n      <td>42.0</td>\n      <td>1980-08-20</td>\n      <td>NaN</td>\n      <td>Female</td>\n      <td>NaN</td>\n      <td>NaN</td>\n      <td>NaN</td>\n      <td>NaN</td>\n      <td>NaN</td>\n      <td>...</td>\n      <td>10025</td>\n      <td>254784642</td>\n      <td>35.0</td>\n      <td>2015-10-06</td>\n      <td>Office Visit</td>\n      <td>Outpatient</td>\n      <td>F39</td>\n      <td>Unspecified mood (affective) disorder</td>\n      <td>NaN</td>\n      <td>Other specified and unspecified mood disorders</td>\n    </tr>\n    <tr>\n      <th>1834684</th>\n      <td>100114</td>\n      <td>42.0</td>\n      <td>1980-08-20</td>\n      <td>NaN</td>\n      <td>Female</td>\n      <td>NaN</td>\n      <td>NaN</td>\n      <td>NaN</td>\n      <td>NaN</td>\n      <td>NaN</td>\n      <td>...</td>\n      <td>10025</td>\n      <td>255491685</td>\n      <td>35.0</td>\n      <td>2016-01-11</td>\n      <td>Office Visit</td>\n      <td>Outpatient</td>\n      <td>F11.20</td>\n      <td>Opioid dependence, uncomplicated</td>\n      <td>NaN</td>\n      <td>Opioid-related disorders</td>\n    </tr>\n    <tr>\n      <th>1805255</th>\n      <td>1001162</td>\n      <td>47.0</td>\n      <td>1975-02-18</td>\n      <td>English</td>\n      <td>Female</td>\n      <td>Female</td>\n      <td>Female</td>\n      <td>NaN</td>\n      <td>OTHER</td>\n      <td>OTHER</td>\n      <td>...</td>\n      <td>10026</td>\n      <td>232575604</td>\n      <td>46.0</td>\n      <td>2021-04-26</td>\n      <td>Office Visit</td>\n      <td>Outpatient</td>\n      <td>F17.200</td>\n      <td>Nicotine dependence, unspecified, uncomplicated</td>\n      <td>Commercial/Managed Care</td>\n      <td>Tobacco-related disorders</td>\n    </tr>\n    <tr>\n      <th>1838600</th>\n      <td>10012</td>\n      <td>90.0</td>\n      <td>1932-05-24</td>\n      <td>English</td>\n      <td>Male</td>\n      <td>Male</td>\n      <td>Male</td>\n      <td>NaN</td>\n      <td>WHITE</td>\n      <td>NaN</td>\n      <td>...</td>\n      <td>10027</td>\n      <td>154461540</td>\n      <td>82.0</td>\n      <td>2014-06-12</td>\n      <td>Office Visit</td>\n      <td>Outpatient</td>\n      <td>F41.1</td>\n      <td>Generalized anxiety disorder</td>\n      <td>NaN</td>\n      <td>Anxiety and fear-related disorders</td>\n    </tr>\n    <tr>\n      <th>1430875</th>\n      <td>10012</td>\n      <td>90.0</td>\n      <td>1932-05-24</td>\n      <td>English</td>\n      <td>Male</td>\n      <td>Male</td>\n      <td>Male</td>\n      <td>NaN</td>\n      <td>WHITE</td>\n      <td>NaN</td>\n      <td>...</td>\n      <td>10027</td>\n      <td>143958626</td>\n      <td>82.0</td>\n      <td>2014-10-10</td>\n      <td>Office Visit</td>\n      <td>Outpatient</td>\n      <td>F33.2</td>\n      <td>Major depressive disorder, recurrent severe wi...</td>\n      <td>NaN</td>\n      <td>Depressive disorders</td>\n    </tr>\n    <tr>\n      <th>1859455</th>\n      <td>10012</td>\n      <td>90.0</td>\n      <td>1932-05-24</td>\n      <td>English</td>\n      <td>Male</td>\n      <td>Male</td>\n      <td>Male</td>\n      <td>NaN</td>\n      <td>WHITE</td>\n      <td>NaN</td>\n      <td>...</td>\n      <td>10027</td>\n      <td>119015112</td>\n      <td>84.0</td>\n      <td>2017-05-08</td>\n      <td>Office Visit</td>\n      <td>Outpatient</td>\n      <td>F41.9</td>\n      <td>Anxiety disorder, unspecified</td>\n      <td>NaN</td>\n      <td>Anxiety and fear-related disorders</td>\n    </tr>\n    <tr>\n      <th>1805298</th>\n      <td>10012</td>\n      <td>90.0</td>\n      <td>1932-05-24</td>\n      <td>English</td>\n      <td>Male</td>\n      <td>Male</td>\n      <td>Male</td>\n      <td>NaN</td>\n      <td>WHITE</td>\n      <td>NaN</td>\n      <td>...</td>\n      <td>10027</td>\n      <td>119015350</td>\n      <td>84.0</td>\n      <td>2017-05-11</td>\n      <td>Office Visit</td>\n      <td>Outpatient</td>\n      <td>F43.20</td>\n      <td>Adjustment disorder, unspecified</td>\n      <td>NaN</td>\n      <td>Trauma- and stressor-related disorders</td>\n    </tr>\n    <tr>\n      <th>1809370</th>\n      <td>1001230</td>\n      <td>50.0</td>\n      <td>1972-09-29</td>\n      <td>English</td>\n      <td>Female</td>\n      <td>Female</td>\n      <td>Female</td>\n      <td>NaN</td>\n      <td>OTHER</td>\n      <td>NaN</td>\n      <td>...</td>\n      <td>10009</td>\n      <td>3475060</td>\n      <td>34.0</td>\n      <td>2007-04-19</td>\n      <td>Office Visit</td>\n      <td>Outpatient</td>\n      <td>F32.A</td>\n      <td>Depression, unspecified</td>\n      <td>Self-Pay</td>\n      <td>Depressive disorders</td>\n    </tr>\n    <tr>\n      <th>1407843</th>\n      <td>1001230</td>\n      <td>50.0</td>\n      <td>1972-09-29</td>\n      <td>English</td>\n      <td>Female</td>\n      <td>Female</td>\n      <td>Female</td>\n      <td>NaN</td>\n      <td>OTHER</td>\n      <td>NaN</td>\n      <td>...</td>\n      <td>10009</td>\n      <td>57635808</td>\n      <td>44.0</td>\n      <td>2017-05-16</td>\n      <td>Office Visit</td>\n      <td>Outpatient</td>\n      <td>F51.01</td>\n      <td>Primary insomnia</td>\n      <td>Medicare Managed Care</td>\n      <td>Sleep wake disorders</td>\n    </tr>\n    <tr>\n      <th>1407844</th>\n      <td>1001230</td>\n      <td>50.0</td>\n      <td>1972-09-29</td>\n      <td>English</td>\n      <td>Female</td>\n      <td>Female</td>\n      <td>Female</td>\n      <td>NaN</td>\n      <td>OTHER</td>\n      <td>NaN</td>\n      <td>...</td>\n      <td>10009-5511</td>\n      <td>82311315</td>\n      <td>45.0</td>\n      <td>2018-08-23</td>\n      <td>Office Visit</td>\n      <td>Outpatient</td>\n      <td>F32.0</td>\n      <td>Major depressive disorder, single episode, mild</td>\n      <td>Medicare Managed Care</td>\n      <td>Depressive disorders</td>\n    </tr>\n    <tr>\n      <th>1407845</th>\n      <td>1001230</td>\n      <td>50.0</td>\n      <td>1972-09-29</td>\n      <td>English</td>\n      <td>Female</td>\n      <td>Female</td>\n      <td>Female</td>\n      <td>NaN</td>\n      <td>OTHER</td>\n      <td>NaN</td>\n      <td>...</td>\n      <td>10009-5511</td>\n      <td>84165213</td>\n      <td>46.0</td>\n      <td>2018-11-15</td>\n      <td>Office Visit</td>\n      <td>Outpatient</td>\n      <td>F51.04</td>\n      <td>Psychophysiologic insomnia</td>\n      <td>Medicare Managed Care</td>\n      <td>Sleep wake disorders</td>\n    </tr>\n    <tr>\n      <th>1809371</th>\n      <td>1001230</td>\n      <td>50.0</td>\n      <td>1972-09-29</td>\n      <td>English</td>\n      <td>Female</td>\n      <td>Female</td>\n      <td>Female</td>\n      <td>NaN</td>\n      <td>OTHER</td>\n      <td>NaN</td>\n      <td>...</td>\n      <td>10009</td>\n      <td>275556676</td>\n      <td>49.0</td>\n      <td>2021-10-28</td>\n      <td>Hospital Encounter</td>\n      <td>Emergency</td>\n      <td>F07.81</td>\n      <td>Postconcussional syndrome</td>\n      <td>Medicaid MS</td>\n      <td>Neurocognitive disorders</td>\n    </tr>\n    <tr>\n      <th>1805457</th>\n      <td>1001274</td>\n      <td>99.0</td>\n      <td>1923-06-03</td>\n      <td>Spanish</td>\n      <td>Female</td>\n      <td>NaN</td>\n      <td>NaN</td>\n      <td>NaN</td>\n      <td>Hispanic/Latino</td>\n      <td>NaN</td>\n      <td>...</td>\n      <td>10451</td>\n      <td>8637670</td>\n      <td>84.0</td>\n      <td>2007-07-17</td>\n      <td>Office Visit</td>\n      <td>Outpatient</td>\n      <td>F32.A</td>\n      <td>Depression, unspecified</td>\n      <td>Self-Pay</td>\n      <td>Depressive disorders</td>\n    </tr>\n    <tr>\n      <th>1838753</th>\n      <td>100142</td>\n      <td>65.0</td>\n      <td>1957-10-30</td>\n      <td>English</td>\n      <td>Male</td>\n      <td>NaN</td>\n      <td>NaN</td>\n      <td>NaN</td>\n      <td>OTHER</td>\n      <td>NaN</td>\n      <td>...</td>\n      <td>10029</td>\n      <td>194380399</td>\n      <td>63.0</td>\n      <td>2021-02-12</td>\n      <td>Office Visit</td>\n      <td>Outpatient</td>\n      <td>F52.0</td>\n      <td>Hypoactive sexual desire disorder</td>\n      <td>Commercial/Managed Care</td>\n      <td>Miscellaneous mental and behavioral disorders/...</td>\n    </tr>\n    <tr>\n      <th>1430991</th>\n      <td>1001435</td>\n      <td>65.0</td>\n      <td>1957-03-21</td>\n      <td>English</td>\n      <td>Female</td>\n      <td>NaN</td>\n      <td>NaN</td>\n      <td>NaN</td>\n      <td>WHITE</td>\n      <td>NaN</td>\n      <td>...</td>\n      <td>10025</td>\n      <td>253924580</td>\n      <td>57.0</td>\n      <td>2015-03-02</td>\n      <td>Office Visit</td>\n      <td>Outpatient</td>\n      <td>F41.1</td>\n      <td>Generalized anxiety disorder</td>\n      <td>NaN</td>\n      <td>Anxiety and fear-related disorders</td>\n    </tr>\n    <tr>\n      <th>1859773</th>\n      <td>1001435</td>\n      <td>65.0</td>\n      <td>1957-03-21</td>\n      <td>English</td>\n      <td>Female</td>\n      <td>NaN</td>\n      <td>NaN</td>\n      <td>NaN</td>\n      <td>WHITE</td>\n      <td>NaN</td>\n      <td>...</td>\n      <td>10025</td>\n      <td>287273397</td>\n      <td>58.0</td>\n      <td>2015-03-31</td>\n      <td>Office Visit</td>\n      <td>Outpatient</td>\n      <td>F33.1</td>\n      <td>Major depressive disorder, recurrent, moderate</td>\n      <td>NaN</td>\n      <td>Depressive disorders</td>\n    </tr>\n    <tr>\n      <th>1809373</th>\n      <td>100145</td>\n      <td>62.0</td>\n      <td>1960-07-21</td>\n      <td>Spanish</td>\n      <td>Female</td>\n      <td>NaN</td>\n      <td>NaN</td>\n      <td>NaN</td>\n      <td>OTHER</td>\n      <td>NaN</td>\n      <td>...</td>\n      <td>10034</td>\n      <td>251197725</td>\n      <td>53.0</td>\n      <td>2013-08-16</td>\n      <td>Office Visit</td>\n      <td>Outpatient</td>\n      <td>F31.9</td>\n      <td>Bipolar disorder, unspecified</td>\n      <td>NaN</td>\n      <td>Bipolar and related disorders</td>\n    </tr>\n    <tr>\n      <th>1834946</th>\n      <td>100145</td>\n      <td>62.0</td>\n      <td>1960-07-21</td>\n      <td>Spanish</td>\n      <td>Female</td>\n      <td>NaN</td>\n      <td>NaN</td>\n      <td>NaN</td>\n      <td>OTHER</td>\n      <td>NaN</td>\n      <td>...</td>\n      <td>10034</td>\n      <td>254257835</td>\n      <td>53.0</td>\n      <td>2013-10-09</td>\n      <td>Office Visit</td>\n      <td>Outpatient</td>\n      <td>F17.200</td>\n      <td>Nicotine dependence, unspecified, uncomplicated</td>\n      <td>NaN</td>\n      <td>Tobacco-related disorders</td>\n    </tr>\n    <tr>\n      <th>1805464</th>\n      <td>1001475</td>\n      <td>48.0</td>\n      <td>1974-07-30</td>\n      <td>English</td>\n      <td>Female</td>\n      <td>Female</td>\n      <td>Female</td>\n      <td>NaN</td>\n      <td>WHITE</td>\n      <td>NaN</td>\n      <td>...</td>\n      <td>10038-2746</td>\n      <td>189043270</td>\n      <td>46.0</td>\n      <td>2020-10-22</td>\n      <td>Hospital Encounter</td>\n      <td>Emergency</td>\n      <td>F43.22</td>\n      <td>Adjustment disorder with anxiety</td>\n      <td>Self-Pay</td>\n      <td>Trauma- and stressor-related disorders</td>\n    </tr>\n    <tr>\n      <th>1809375</th>\n      <td>1001526</td>\n      <td>54.0</td>\n      <td>1968-09-02</td>\n      <td>English</td>\n      <td>Male</td>\n      <td>NaN</td>\n      <td>NaN</td>\n      <td>NaN</td>\n      <td>AFRICAN-AMERICAN</td>\n      <td>NaN</td>\n      <td>...</td>\n      <td>10026</td>\n      <td>314690728</td>\n      <td>53.0</td>\n      <td>2022-04-27</td>\n      <td>Hospital Encounter</td>\n      <td>Emergency</td>\n      <td>F11.20</td>\n      <td>Opioid dependence, uncomplicated</td>\n      <td>Medicaid Managed Care</td>\n      <td>Opioid-related disorders</td>\n    </tr>\n    <tr>\n      <th>1805465</th>\n      <td>1001526</td>\n      <td>54.0</td>\n      <td>1968-09-02</td>\n      <td>English</td>\n      <td>Male</td>\n      <td>NaN</td>\n      <td>NaN</td>\n      <td>NaN</td>\n      <td>AFRICAN-AMERICAN</td>\n      <td>NaN</td>\n      <td>...</td>\n      <td>10026</td>\n      <td>314402497</td>\n      <td>53.0</td>\n      <td>2022-06-19</td>\n      <td>Hospital Encounter</td>\n      <td>Emergency</td>\n      <td>F43.25</td>\n      <td>Adjustment disorder with mixed disturbance of ...</td>\n      <td>Medicaid Managed Care</td>\n      <td>Trauma- and stressor-related disorders</td>\n    </tr>\n    <tr>\n      <th>1859779</th>\n      <td>1001554</td>\n      <td>36.0</td>\n      <td>1986-12-30</td>\n      <td>English</td>\n      <td>Female</td>\n      <td>Female</td>\n      <td>Female</td>\n      <td>NaN</td>\n      <td>NaN</td>\n      <td>NaN</td>\n      <td>...</td>\n      <td>11201</td>\n      <td>242648589</td>\n      <td>33.0</td>\n      <td>2020-03-02</td>\n      <td>Office Visit</td>\n      <td>Outpatient</td>\n      <td>F41.1</td>\n      <td>Generalized anxiety disorder</td>\n      <td>NaN</td>\n      <td>Anxiety and fear-related disorders</td>\n    </tr>\n    <tr>\n      <th>1809483</th>\n      <td>1001554</td>\n      <td>36.0</td>\n      <td>1986-12-30</td>\n      <td>English</td>\n      <td>Female</td>\n      <td>Female</td>\n      <td>Female</td>\n      <td>NaN</td>\n      <td>NaN</td>\n      <td>NaN</td>\n      <td>...</td>\n      <td>11201</td>\n      <td>240120303</td>\n      <td>33.0</td>\n      <td>2020-04-14</td>\n      <td>Office Visit</td>\n      <td>Outpatient</td>\n      <td>F41.0</td>\n      <td>Panic disorder (episodic paroxysmal anxiety)</td>\n      <td>NaN</td>\n      <td>Anxiety and fear-related disorders</td>\n    </tr>\n    <tr>\n      <th>1834952</th>\n      <td>1001554</td>\n      <td>36.0</td>\n      <td>1986-12-30</td>\n      <td>English</td>\n      <td>Female</td>\n      <td>Female</td>\n      <td>Female</td>\n      <td>NaN</td>\n      <td>NaN</td>\n      <td>NaN</td>\n      <td>...</td>\n      <td>11201</td>\n      <td>295127016</td>\n      <td>34.0</td>\n      <td>2021-11-02</td>\n      <td>Office Visit</td>\n      <td>Outpatient</td>\n      <td>F43.20</td>\n      <td>Adjustment disorder, unspecified</td>\n      <td>NaN</td>\n      <td>Trauma- and stressor-related disorders</td>\n    </tr>\n    <tr>\n      <th>1834953</th>\n      <td>1001583</td>\n      <td>75.0</td>\n      <td>1947-07-24</td>\n      <td>English</td>\n      <td>Female</td>\n      <td>NaN</td>\n      <td>NaN</td>\n      <td>NaN</td>\n      <td>Black or African-American</td>\n      <td>NaN</td>\n      <td>...</td>\n      <td>10031</td>\n      <td>47509515</td>\n      <td>68.0</td>\n      <td>2016-05-17</td>\n      <td>Office Visit</td>\n      <td>Outpatient</td>\n      <td>F41.8</td>\n      <td>Other specified anxiety disorders</td>\n      <td>Self-Pay</td>\n      <td>Anxiety and fear-related disorders</td>\n    </tr>\n    <tr>\n      <th>1834954</th>\n      <td>1001586</td>\n      <td>87.0</td>\n      <td>1935-08-28</td>\n      <td>English</td>\n      <td>Male</td>\n      <td>NaN</td>\n      <td>NaN</td>\n      <td>NaN</td>\n      <td>WHITE</td>\n      <td>NaN</td>\n      <td>...</td>\n      <td>10003</td>\n      <td>180690614</td>\n      <td>84.0</td>\n      <td>2020-05-15</td>\n      <td>Office Visit</td>\n      <td>Recurring</td>\n      <td>F33.1</td>\n      <td>Major depressive disorder, recurrent, moderate</td>\n      <td>Medicare MS</td>\n      <td>Depressive disorders</td>\n    </tr>\n  </tbody>\n</table>\n<p>50 rows × 23 columns</p>\n</div>"
     },
     "execution_count": 31,
     "metadata": {},
     "output_type": "execute_result"
    }
   ],
   "source": [
    "def CCSR(row):\n",
    "    row = row.replace('.', '')\n",
    "    if row in ccsr_mapping.keys():\n",
    "        return ccsr_mapping[row][0]\n",
    "\n",
    "controls['CCSR_code'] = controls['Value'].apply(CCSR)\n",
    "controls.head(50)"
   ],
   "metadata": {
    "collapsed": false,
    "pycharm": {
     "name": "#%%\n"
    }
   }
  },
  {
   "cell_type": "code",
   "execution_count": 32,
   "outputs": [],
   "source": [
    "controls = controls.replace(['Unknown', '*Unknown','*Unspecified', 'Choose not to disclose', 'Not recorded on birth certificate','*Not Applicable', 'Indeterminate', 'Uncertain', 'UNKNOWN', 'PATIENT DECLINED', '*Deleted'], np.nan)\n",
    "\n",
    "def ccsr_substance(x):\n",
    "    substance_disorders = ['Other specified substance-related disorders',\n",
    "                           'Alcohol-related disorders',\n",
    "                           'Tobacco-related disorders',\n",
    "                           'Stimulant-related disorders',\n",
    "                           'Cannabis-related disorders',\n",
    "                           'Opioid-related disorders',\n",
    "                           'Sedative-related disorders',\n",
    "                           'Hallucinogen-related disorders',\n",
    "                           'Inhalant-related disorders']\n",
    "    if x in substance_disorders:\n",
    "        return 'Substance-related disorders'\n",
    "    else:\n",
    "        return x\n",
    "\n",
    "controls['CCSR_wSubstance'] = controls['CCSR_code'].apply(ccsr_substance)"
   ],
   "metadata": {
    "collapsed": false,
    "pycharm": {
     "name": "#%%\n"
    }
   }
  },
  {
   "cell_type": "code",
   "execution_count": 33,
   "outputs": [
    {
     "data": {
      "text/plain": "        PrimaryMrn  AgeInYears   BirthDate PreferredLanguage     Sex  \\\n1407141    1000094        48.0  1974-12-10           English    Male   \n1858877    1000176        48.0  1974-12-23           English    Male   \n1804800    1000224        75.0  1947-09-29           English    Male   \n1837909    1000224        75.0  1947-09-29           English    Male   \n1838026    1000417        54.0  1968-05-25           English  Female   \n1430464    1000417        54.0  1968-05-25           English  Female   \n1805247    1000445        48.0  1974-05-01           English  Female   \n1392487    1000446        48.0  1974-08-23           English  Female   \n1834540    1000539        65.0  1957-05-02           English  Female   \n1805249    1000898       111.0  1911-09-29           English  Female   \n1808951    1000898       111.0  1911-09-29           English  Female   \n1805251    1000952        84.0  1938-04-19           English  Female   \n1834682     100114        42.0  1980-08-20               NaN  Female   \n1838463     100114        42.0  1980-08-20               NaN  Female   \n1834684     100114        42.0  1980-08-20               NaN  Female   \n1805255    1001162        47.0  1975-02-18           English  Female   \n1838600      10012        90.0  1932-05-24           English    Male   \n1430875      10012        90.0  1932-05-24           English    Male   \n1805298      10012        90.0  1932-05-24           English    Male   \n1809370    1001230        50.0  1972-09-29           English  Female   \n1407843    1001230        50.0  1972-09-29           English  Female   \n1809371    1001230        50.0  1972-09-29           English  Female   \n1805457    1001274        99.0  1923-06-03           Spanish  Female   \n1838753     100142        65.0  1957-10-30           English    Male   \n1430991    1001435        65.0  1957-03-21           English  Female   \n1859773    1001435        65.0  1957-03-21           English  Female   \n1809373     100145        62.0  1960-07-21           Spanish  Female   \n1834946     100145        62.0  1960-07-21           Spanish  Female   \n1805464    1001475        48.0  1974-07-30           English  Female   \n1809375    1001526        54.0  1968-09-02           English    Male   \n1805465    1001526        54.0  1968-09-02           English    Male   \n1859779    1001554        36.0  1986-12-30           English  Female   \n1834952    1001554        36.0  1986-12-30           English  Female   \n1834953    1001583        75.0  1947-07-24           English  Female   \n1834954    1001586        87.0  1935-08-28           English    Male   \n1834955    1001594        68.0  1954-08-23           English  Female   \n1407958    1001606        59.0  1963-03-27               NaN    Male   \n1838762    1001606        59.0  1963-03-27               NaN    Male   \n1805583    1001653        31.0  1991-08-29           English  Female   \n1838763    1001665        75.0  1947-11-27           English  Female   \n1805584    1001665        75.0  1947-11-27           English  Female   \n1392820     100170        24.0  1998-09-13               NaN    Male   \n1407966    1001742        22.0  2000-07-27           English  Female   \n1392915    1001742        22.0  2000-07-27           English  Female   \n1838921    1001742        22.0  2000-07-27           English  Female   \n1838922    1001780        38.0  1984-09-22           English  Female   \n1392917    1001825        75.0  1947-12-09           English    Male   \n1838930    1001877        66.0  1956-07-04           English    Male   \n1838928    1001877        66.0  1956-07-04           English    Male   \n1393016    1002007        47.0  1975-02-25           English    Male   \n\n        SexAssignedAtBirth GenderIdentity     Ethnicity  \\\n1407141                NaN            NaN           NaN   \n1858877                NaN            NaN           NaN   \n1804800               Male           Male           NaN   \n1837909               Male           Male           NaN   \n1838026             Female         Female           NaN   \n1430464             Female         Female           NaN   \n1805247             Female         Female           NaN   \n1392487                NaN            NaN           NaN   \n1834540                NaN            NaN           NaN   \n1805249                NaN            NaN           NaN   \n1808951                NaN            NaN           NaN   \n1805251                NaN            NaN           NaN   \n1834682                NaN            NaN           NaN   \n1838463                NaN            NaN           NaN   \n1834684                NaN            NaN           NaN   \n1805255             Female         Female           NaN   \n1838600               Male           Male           NaN   \n1430875               Male           Male           NaN   \n1805298               Male           Male           NaN   \n1809370             Female         Female           NaN   \n1407843             Female         Female           NaN   \n1809371             Female         Female           NaN   \n1805457                NaN            NaN           NaN   \n1838753                NaN            NaN           NaN   \n1430991                NaN            NaN           NaN   \n1859773                NaN            NaN           NaN   \n1809373                NaN            NaN           NaN   \n1834946                NaN            NaN           NaN   \n1805464             Female         Female           NaN   \n1809375                NaN            NaN           NaN   \n1805465                NaN            NaN           NaN   \n1859779             Female         Female           NaN   \n1834952             Female         Female           NaN   \n1834953                NaN            NaN           NaN   \n1834954                NaN            NaN           NaN   \n1834955             Female         Female  Puerto Rican   \n1407958                NaN            NaN           NaN   \n1838762                NaN            NaN           NaN   \n1805583                NaN            NaN           NaN   \n1838763                NaN            NaN           NaN   \n1805584                NaN            NaN           NaN   \n1392820                NaN            NaN           NaN   \n1407966                NaN            NaN           NaN   \n1392915                NaN            NaN           NaN   \n1838921                NaN            NaN           NaN   \n1838922                NaN            NaN           NaN   \n1392917                NaN            NaN           NaN   \n1838930               Male           Male           NaN   \n1838928               Male           Male           NaN   \n1393016                NaN            NaN           NaN   \n\n                         FirstRace SecondRace  ... EncounterKey  AgeAtVisit  \\\n1407141                      OTHER        NaN  ...    323315612        47.0   \n1858877                        NaN        NaN  ...    255234277        40.0   \n1804800           AFRICAN-AMERICAN        NaN  ...      3561374        62.0   \n1837909           AFRICAN-AMERICAN        NaN  ...    154293468        68.0   \n1838026           AFRICAN-AMERICAN        NaN  ...      3068279        41.0   \n1430464           AFRICAN-AMERICAN        NaN  ...      2948041        41.0   \n1805247                      OTHER        NaN  ...     56386678        42.0   \n1392487                      OTHER        NaN  ...     53840418        42.0   \n1834540                      OTHER        NaN  ...     13512177        55.0   \n1805249                      OTHER        NaN  ...      5766465        95.0   \n1808951                      OTHER        NaN  ...     10755776        99.0   \n1805251                      OTHER        NaN  ...      3400420        71.0   \n1834682                        NaN        NaN  ...    254461210        34.0   \n1838463                        NaN        NaN  ...    254784642        35.0   \n1834684                        NaN        NaN  ...    255491685        35.0   \n1805255                      OTHER      OTHER  ...    232575604        46.0   \n1838600                      WHITE        NaN  ...    154461540        82.0   \n1430875                      WHITE        NaN  ...    143958626        82.0   \n1805298                      WHITE        NaN  ...    119015350        84.0   \n1809370                      OTHER        NaN  ...      3475060        34.0   \n1407843                      OTHER        NaN  ...     57635808        44.0   \n1809371                      OTHER        NaN  ...    275556676        49.0   \n1805457            Hispanic/Latino        NaN  ...      8637670        84.0   \n1838753                      OTHER        NaN  ...    194380399        63.0   \n1430991                      WHITE        NaN  ...    253924580        57.0   \n1859773                      WHITE        NaN  ...    287273397        58.0   \n1809373                      OTHER        NaN  ...    251197725        53.0   \n1834946                      OTHER        NaN  ...    254257835        53.0   \n1805464                      WHITE        NaN  ...    189043270        46.0   \n1809375           AFRICAN-AMERICAN        NaN  ...    314690728        53.0   \n1805465           AFRICAN-AMERICAN        NaN  ...    314402497        53.0   \n1859779                        NaN        NaN  ...    242648589        33.0   \n1834952                        NaN        NaN  ...    295127016        34.0   \n1834953  Black or African-American        NaN  ...     47509515        68.0   \n1834954                      WHITE        NaN  ...    180690614        84.0   \n1834955                      WHITE        NaN  ...    270412775        67.0   \n1407958                        NaN        NaN  ...    250689633        51.0   \n1838762                        NaN        NaN  ...    278017591        51.0   \n1805583                        NaN        NaN  ...    324094031        31.0   \n1838763            Hispanic/Latino        NaN  ...      6260406        60.0   \n1805584            Hispanic/Latino        NaN  ...      6260407        60.0   \n1392820                        NaN        NaN  ...    278046652        13.0   \n1407966                        NaN        NaN  ...    264008256        20.0   \n1392915                        NaN        NaN  ...    264092465        20.0   \n1838921                        NaN        NaN  ...    280306209        20.0   \n1838922                      WHITE        NaN  ...     96348531        34.0   \n1392917                      WHITE        NaN  ...    238239144        71.0   \n1838930           AFRICAN-AMERICAN        NaN  ...    167157254        57.0   \n1838928           AFRICAN-AMERICAN        NaN  ...    154419263        58.0   \n1393016                      OTHER        NaN  ...    296244391        46.0   \n\n          VisitDate                VisitType  VisitType2    Value  \\\n1407141  2022-11-12       Hospital Encounter   Emergency   F43.24   \n1858877  2015-05-18             Office Visit  Outpatient    F32.1   \n1804800  2010-06-24  Psych Conf Office Visit  Outpatient    F41.1   \n1837909  2016-06-21             Office Visit  Outpatient  F17.210   \n1838026  2010-02-03     Psych Conf Telephone         NaN    F33.1   \n1430464  2010-03-19  Psych Conf Office Visit   Recurring   F40.01   \n1805247  2017-03-23           Admission Eval  Outpatient      F39   \n1392487  2017-01-25             Office Visit  Outpatient    F32.A   \n1834540  2012-05-14  Psych Conf Office Visit   Recurring   F19.20   \n1805249  2007-04-17             Office Visit  Outpatient    F32.A   \n1808951  2011-08-10             Office Visit  Outpatient   F03.90   \n1805251  2010-02-08  Psych Conf Office Visit   Recurring    F33.9   \n1834682  2015-05-29             Office Visit  Outpatient   F31.32   \n1838463  2015-10-06             Office Visit  Outpatient      F39   \n1834684  2016-01-11             Office Visit  Outpatient   F11.20   \n1805255  2021-04-26             Office Visit  Outpatient  F17.200   \n1838600  2014-06-12             Office Visit  Outpatient    F41.1   \n1430875  2014-10-10             Office Visit  Outpatient    F33.2   \n1805298  2017-05-11             Office Visit  Outpatient   F43.20   \n1809370  2007-04-19             Office Visit  Outpatient    F32.A   \n1407843  2017-05-16             Office Visit  Outpatient   F51.01   \n1809371  2021-10-28       Hospital Encounter   Emergency   F07.81   \n1805457  2007-07-17             Office Visit  Outpatient    F32.A   \n1838753  2021-02-12             Office Visit  Outpatient    F52.0   \n1430991  2015-03-02             Office Visit  Outpatient    F41.1   \n1859773  2015-03-31             Office Visit  Outpatient    F33.1   \n1809373  2013-08-16             Office Visit  Outpatient    F31.9   \n1834946  2013-10-09             Office Visit  Outpatient  F17.200   \n1805464  2020-10-22       Hospital Encounter   Emergency   F43.22   \n1809375  2022-04-27       Hospital Encounter   Emergency   F11.20   \n1805465  2022-06-19       Hospital Encounter   Emergency   F43.25   \n1859779  2020-03-02             Office Visit  Outpatient    F41.1   \n1834952  2021-11-02             Office Visit  Outpatient   F43.20   \n1834953  2016-05-17             Office Visit  Outpatient    F41.8   \n1834954  2020-05-15             Office Visit   Recurring    F33.1   \n1834955  2021-11-19          Treatment Visit  Outpatient   F14.19   \n1407958  2015-02-18             Office Visit  Outpatient   F31.89   \n1838762  2015-03-10             Office Visit  Outpatient    F34.1   \n1805583  2022-11-23         MyChart Messages         NaN    F41.9   \n1838763  2008-09-30             Office Visit  Outpatient    F41.0   \n1805584  2008-10-01             Office Visit  Outpatient    F32.A   \n1392820  2012-01-11             Office Visit  Outpatient    F90.9   \n1407966  2020-10-22             Office Visit  Outpatient    F90.9   \n1392915  2020-10-27             Office Visit  Outpatient    F34.1   \n1838921  2021-07-18             Office Visit  Outpatient    F41.9   \n1838922  2019-06-24       Hospital Encounter   Inpatient   F10.20   \n1392917  2019-08-20             Office Visit  Outpatient   F43.20   \n1838930  2014-04-18             Office Visit  Outpatient    F41.1   \n1838928  2014-07-11             Office Visit  Outpatient   F43.23   \n1393016  2021-12-13             Office Visit  Outpatient    F41.9   \n\n                                             DisplayString  \\\n1407141    Adjustment disorder with disturbance of conduct   \n1858877  Major depressive disorder, single episode, mod...   \n1804800                       Generalized anxiety disorder   \n1837909     Nicotine dependence, cigarettes, uncomplicated   \n1838026     Major depressive disorder, recurrent, moderate   \n1430464                    Agoraphobia with panic disorder   \n1805247              Unspecified mood (affective) disorder   \n1392487                            Depression, unspecified   \n1834540  Other psychoactive substance dependence, uncom...   \n1805249                            Depression, unspecified   \n1808951  Unspecified dementia, unspecified severity, wi...   \n1805251  Major depressive disorder, recurrent, unspecified   \n1834682  Bipolar disorder, current episode depressed, m...   \n1838463              Unspecified mood (affective) disorder   \n1834684                   Opioid dependence, uncomplicated   \n1805255    Nicotine dependence, unspecified, uncomplicated   \n1838600                       Generalized anxiety disorder   \n1430875  Major depressive disorder, recurrent severe wi...   \n1805298                   Adjustment disorder, unspecified   \n1809370                            Depression, unspecified   \n1407843                                   Primary insomnia   \n1809371                          Postconcussional syndrome   \n1805457                            Depression, unspecified   \n1838753                  Hypoactive sexual desire disorder   \n1430991                       Generalized anxiety disorder   \n1859773     Major depressive disorder, recurrent, moderate   \n1809373                      Bipolar disorder, unspecified   \n1834946    Nicotine dependence, unspecified, uncomplicated   \n1805464                   Adjustment disorder with anxiety   \n1809375                   Opioid dependence, uncomplicated   \n1805465  Adjustment disorder with mixed disturbance of ...   \n1859779                       Generalized anxiety disorder   \n1834952                   Adjustment disorder, unspecified   \n1834953                  Other specified anxiety disorders   \n1834954     Major depressive disorder, recurrent, moderate   \n1834955  Cocaine abuse with unspecified cocaine-induced...   \n1407958                             Other bipolar disorder   \n1838762                                 Dysthymic disorder   \n1805583                      Anxiety disorder, unspecified   \n1838763       Panic disorder (episodic paroxysmal anxiety)   \n1805584                            Depression, unspecified   \n1392820  Attention-deficit hyperactivity disorder, unsp...   \n1407966  Attention-deficit hyperactivity disorder, unsp...   \n1392915                                 Dysthymic disorder   \n1838921                      Anxiety disorder, unspecified   \n1838922                  Alcohol dependence, uncomplicated   \n1392917                   Adjustment disorder, unspecified   \n1838930                       Generalized anxiety disorder   \n1838928  Adjustment disorder with mixed anxiety and dep...   \n1393016                      Anxiety disorder, unspecified   \n\n             PayorFinancialClass  \\\n1407141  Commercial/Managed Care   \n1858877                      NaN   \n1804800                 Self-Pay   \n1837909                      NaN   \n1838026                 Self-Pay   \n1430464                 Self-Pay   \n1805247                 Self-Pay   \n1392487    Medicaid Managed Care   \n1834540                 Self-Pay   \n1805249                 Self-Pay   \n1808951                 Self-Pay   \n1805251                 Self-Pay   \n1834682                      NaN   \n1838463                      NaN   \n1834684                      NaN   \n1805255  Commercial/Managed Care   \n1838600                      NaN   \n1430875                      NaN   \n1805298                      NaN   \n1809370                 Self-Pay   \n1407843    Medicare Managed Care   \n1809371              Medicaid MS   \n1805457                 Self-Pay   \n1838753  Commercial/Managed Care   \n1430991                      NaN   \n1859773                      NaN   \n1809373                      NaN   \n1834946                      NaN   \n1805464                 Self-Pay   \n1809375    Medicaid Managed Care   \n1805465    Medicaid Managed Care   \n1859779                      NaN   \n1834952                      NaN   \n1834953                 Self-Pay   \n1834954              Medicare MS   \n1834955              Medicare MS   \n1407958                      NaN   \n1838762                      NaN   \n1805583                 Self-Pay   \n1838763                 Self-Pay   \n1805584                 Self-Pay   \n1392820                      NaN   \n1407966                      NaN   \n1392915                      NaN   \n1838921                      NaN   \n1838922    Medicaid Managed Care   \n1392917                      NaN   \n1838930                      NaN   \n1838928                      NaN   \n1393016                      NaN   \n\n                                                 CCSR_code  \\\n1407141             Trauma- and stressor-related disorders   \n1858877                               Depressive disorders   \n1804800                 Anxiety and fear-related disorders   \n1837909                          Tobacco-related disorders   \n1838026                               Depressive disorders   \n1430464                 Anxiety and fear-related disorders   \n1805247     Other specified and unspecified mood disorders   \n1392487                               Depressive disorders   \n1834540        Other specified substance-related disorders   \n1805249                               Depressive disorders   \n1808951                           Neurocognitive disorders   \n1805251                               Depressive disorders   \n1834682                      Bipolar and related disorders   \n1838463     Other specified and unspecified mood disorders   \n1834684                           Opioid-related disorders   \n1805255                          Tobacco-related disorders   \n1838600                 Anxiety and fear-related disorders   \n1430875                               Depressive disorders   \n1805298             Trauma- and stressor-related disorders   \n1809370                               Depressive disorders   \n1407843                               Sleep wake disorders   \n1809371                           Neurocognitive disorders   \n1805457                               Depressive disorders   \n1838753  Miscellaneous mental and behavioral disorders/...   \n1430991                 Anxiety and fear-related disorders   \n1859773                               Depressive disorders   \n1809373                      Bipolar and related disorders   \n1834946                          Tobacco-related disorders   \n1805464             Trauma- and stressor-related disorders   \n1809375                           Opioid-related disorders   \n1805465             Trauma- and stressor-related disorders   \n1859779                 Anxiety and fear-related disorders   \n1834952             Trauma- and stressor-related disorders   \n1834953                 Anxiety and fear-related disorders   \n1834954                               Depressive disorders   \n1834955                        Stimulant-related disorders   \n1407958                      Bipolar and related disorders   \n1838762                               Depressive disorders   \n1805583                 Anxiety and fear-related disorders   \n1838763                 Anxiety and fear-related disorders   \n1805584                               Depressive disorders   \n1392820                       Neurodevelopmental disorders   \n1407966                       Neurodevelopmental disorders   \n1392915                               Depressive disorders   \n1838921                 Anxiety and fear-related disorders   \n1838922                          Alcohol-related disorders   \n1392917             Trauma- and stressor-related disorders   \n1838930                 Anxiety and fear-related disorders   \n1838928             Trauma- and stressor-related disorders   \n1393016                 Anxiety and fear-related disorders   \n\n                                           CCSR_wSubstance  \n1407141             Trauma- and stressor-related disorders  \n1858877                               Depressive disorders  \n1804800                 Anxiety and fear-related disorders  \n1837909                        Substance-related disorders  \n1838026                               Depressive disorders  \n1430464                 Anxiety and fear-related disorders  \n1805247     Other specified and unspecified mood disorders  \n1392487                               Depressive disorders  \n1834540                        Substance-related disorders  \n1805249                               Depressive disorders  \n1808951                           Neurocognitive disorders  \n1805251                               Depressive disorders  \n1834682                      Bipolar and related disorders  \n1838463     Other specified and unspecified mood disorders  \n1834684                        Substance-related disorders  \n1805255                        Substance-related disorders  \n1838600                 Anxiety and fear-related disorders  \n1430875                               Depressive disorders  \n1805298             Trauma- and stressor-related disorders  \n1809370                               Depressive disorders  \n1407843                               Sleep wake disorders  \n1809371                           Neurocognitive disorders  \n1805457                               Depressive disorders  \n1838753  Miscellaneous mental and behavioral disorders/...  \n1430991                 Anxiety and fear-related disorders  \n1859773                               Depressive disorders  \n1809373                      Bipolar and related disorders  \n1834946                        Substance-related disorders  \n1805464             Trauma- and stressor-related disorders  \n1809375                        Substance-related disorders  \n1805465             Trauma- and stressor-related disorders  \n1859779                 Anxiety and fear-related disorders  \n1834952             Trauma- and stressor-related disorders  \n1834953                 Anxiety and fear-related disorders  \n1834954                               Depressive disorders  \n1834955                        Substance-related disorders  \n1407958                      Bipolar and related disorders  \n1838762                               Depressive disorders  \n1805583                 Anxiety and fear-related disorders  \n1838763                 Anxiety and fear-related disorders  \n1805584                               Depressive disorders  \n1392820                       Neurodevelopmental disorders  \n1407966                       Neurodevelopmental disorders  \n1392915                               Depressive disorders  \n1838921                 Anxiety and fear-related disorders  \n1838922                        Substance-related disorders  \n1392917             Trauma- and stressor-related disorders  \n1838930                 Anxiety and fear-related disorders  \n1838928             Trauma- and stressor-related disorders  \n1393016                 Anxiety and fear-related disorders  \n\n[50 rows x 24 columns]",
      "text/html": "<div>\n<style scoped>\n    .dataframe tbody tr th:only-of-type {\n        vertical-align: middle;\n    }\n\n    .dataframe tbody tr th {\n        vertical-align: top;\n    }\n\n    .dataframe thead th {\n        text-align: right;\n    }\n</style>\n<table border=\"1\" class=\"dataframe\">\n  <thead>\n    <tr style=\"text-align: right;\">\n      <th></th>\n      <th>PrimaryMrn</th>\n      <th>AgeInYears</th>\n      <th>BirthDate</th>\n      <th>PreferredLanguage</th>\n      <th>Sex</th>\n      <th>SexAssignedAtBirth</th>\n      <th>GenderIdentity</th>\n      <th>Ethnicity</th>\n      <th>FirstRace</th>\n      <th>SecondRace</th>\n      <th>...</th>\n      <th>EncounterKey</th>\n      <th>AgeAtVisit</th>\n      <th>VisitDate</th>\n      <th>VisitType</th>\n      <th>VisitType2</th>\n      <th>Value</th>\n      <th>DisplayString</th>\n      <th>PayorFinancialClass</th>\n      <th>CCSR_code</th>\n      <th>CCSR_wSubstance</th>\n    </tr>\n  </thead>\n  <tbody>\n    <tr>\n      <th>1407141</th>\n      <td>1000094</td>\n      <td>48.0</td>\n      <td>1974-12-10</td>\n      <td>English</td>\n      <td>Male</td>\n      <td>NaN</td>\n      <td>NaN</td>\n      <td>NaN</td>\n      <td>OTHER</td>\n      <td>NaN</td>\n      <td>...</td>\n      <td>323315612</td>\n      <td>47.0</td>\n      <td>2022-11-12</td>\n      <td>Hospital Encounter</td>\n      <td>Emergency</td>\n      <td>F43.24</td>\n      <td>Adjustment disorder with disturbance of conduct</td>\n      <td>Commercial/Managed Care</td>\n      <td>Trauma- and stressor-related disorders</td>\n      <td>Trauma- and stressor-related disorders</td>\n    </tr>\n    <tr>\n      <th>1858877</th>\n      <td>1000176</td>\n      <td>48.0</td>\n      <td>1974-12-23</td>\n      <td>English</td>\n      <td>Male</td>\n      <td>NaN</td>\n      <td>NaN</td>\n      <td>NaN</td>\n      <td>NaN</td>\n      <td>NaN</td>\n      <td>...</td>\n      <td>255234277</td>\n      <td>40.0</td>\n      <td>2015-05-18</td>\n      <td>Office Visit</td>\n      <td>Outpatient</td>\n      <td>F32.1</td>\n      <td>Major depressive disorder, single episode, mod...</td>\n      <td>NaN</td>\n      <td>Depressive disorders</td>\n      <td>Depressive disorders</td>\n    </tr>\n    <tr>\n      <th>1804800</th>\n      <td>1000224</td>\n      <td>75.0</td>\n      <td>1947-09-29</td>\n      <td>English</td>\n      <td>Male</td>\n      <td>Male</td>\n      <td>Male</td>\n      <td>NaN</td>\n      <td>AFRICAN-AMERICAN</td>\n      <td>NaN</td>\n      <td>...</td>\n      <td>3561374</td>\n      <td>62.0</td>\n      <td>2010-06-24</td>\n      <td>Psych Conf Office Visit</td>\n      <td>Outpatient</td>\n      <td>F41.1</td>\n      <td>Generalized anxiety disorder</td>\n      <td>Self-Pay</td>\n      <td>Anxiety and fear-related disorders</td>\n      <td>Anxiety and fear-related disorders</td>\n    </tr>\n    <tr>\n      <th>1837909</th>\n      <td>1000224</td>\n      <td>75.0</td>\n      <td>1947-09-29</td>\n      <td>English</td>\n      <td>Male</td>\n      <td>Male</td>\n      <td>Male</td>\n      <td>NaN</td>\n      <td>AFRICAN-AMERICAN</td>\n      <td>NaN</td>\n      <td>...</td>\n      <td>154293468</td>\n      <td>68.0</td>\n      <td>2016-06-21</td>\n      <td>Office Visit</td>\n      <td>Outpatient</td>\n      <td>F17.210</td>\n      <td>Nicotine dependence, cigarettes, uncomplicated</td>\n      <td>NaN</td>\n      <td>Tobacco-related disorders</td>\n      <td>Substance-related disorders</td>\n    </tr>\n    <tr>\n      <th>1838026</th>\n      <td>1000417</td>\n      <td>54.0</td>\n      <td>1968-05-25</td>\n      <td>English</td>\n      <td>Female</td>\n      <td>Female</td>\n      <td>Female</td>\n      <td>NaN</td>\n      <td>AFRICAN-AMERICAN</td>\n      <td>NaN</td>\n      <td>...</td>\n      <td>3068279</td>\n      <td>41.0</td>\n      <td>2010-02-03</td>\n      <td>Psych Conf Telephone</td>\n      <td>NaN</td>\n      <td>F33.1</td>\n      <td>Major depressive disorder, recurrent, moderate</td>\n      <td>Self-Pay</td>\n      <td>Depressive disorders</td>\n      <td>Depressive disorders</td>\n    </tr>\n    <tr>\n      <th>1430464</th>\n      <td>1000417</td>\n      <td>54.0</td>\n      <td>1968-05-25</td>\n      <td>English</td>\n      <td>Female</td>\n      <td>Female</td>\n      <td>Female</td>\n      <td>NaN</td>\n      <td>AFRICAN-AMERICAN</td>\n      <td>NaN</td>\n      <td>...</td>\n      <td>2948041</td>\n      <td>41.0</td>\n      <td>2010-03-19</td>\n      <td>Psych Conf Office Visit</td>\n      <td>Recurring</td>\n      <td>F40.01</td>\n      <td>Agoraphobia with panic disorder</td>\n      <td>Self-Pay</td>\n      <td>Anxiety and fear-related disorders</td>\n      <td>Anxiety and fear-related disorders</td>\n    </tr>\n    <tr>\n      <th>1805247</th>\n      <td>1000445</td>\n      <td>48.0</td>\n      <td>1974-05-01</td>\n      <td>English</td>\n      <td>Female</td>\n      <td>Female</td>\n      <td>Female</td>\n      <td>NaN</td>\n      <td>OTHER</td>\n      <td>NaN</td>\n      <td>...</td>\n      <td>56386678</td>\n      <td>42.0</td>\n      <td>2017-03-23</td>\n      <td>Admission Eval</td>\n      <td>Outpatient</td>\n      <td>F39</td>\n      <td>Unspecified mood (affective) disorder</td>\n      <td>Self-Pay</td>\n      <td>Other specified and unspecified mood disorders</td>\n      <td>Other specified and unspecified mood disorders</td>\n    </tr>\n    <tr>\n      <th>1392487</th>\n      <td>1000446</td>\n      <td>48.0</td>\n      <td>1974-08-23</td>\n      <td>English</td>\n      <td>Female</td>\n      <td>NaN</td>\n      <td>NaN</td>\n      <td>NaN</td>\n      <td>OTHER</td>\n      <td>NaN</td>\n      <td>...</td>\n      <td>53840418</td>\n      <td>42.0</td>\n      <td>2017-01-25</td>\n      <td>Office Visit</td>\n      <td>Outpatient</td>\n      <td>F32.A</td>\n      <td>Depression, unspecified</td>\n      <td>Medicaid Managed Care</td>\n      <td>Depressive disorders</td>\n      <td>Depressive disorders</td>\n    </tr>\n    <tr>\n      <th>1834540</th>\n      <td>1000539</td>\n      <td>65.0</td>\n      <td>1957-05-02</td>\n      <td>English</td>\n      <td>Female</td>\n      <td>NaN</td>\n      <td>NaN</td>\n      <td>NaN</td>\n      <td>OTHER</td>\n      <td>NaN</td>\n      <td>...</td>\n      <td>13512177</td>\n      <td>55.0</td>\n      <td>2012-05-14</td>\n      <td>Psych Conf Office Visit</td>\n      <td>Recurring</td>\n      <td>F19.20</td>\n      <td>Other psychoactive substance dependence, uncom...</td>\n      <td>Self-Pay</td>\n      <td>Other specified substance-related disorders</td>\n      <td>Substance-related disorders</td>\n    </tr>\n    <tr>\n      <th>1805249</th>\n      <td>1000898</td>\n      <td>111.0</td>\n      <td>1911-09-29</td>\n      <td>English</td>\n      <td>Female</td>\n      <td>NaN</td>\n      <td>NaN</td>\n      <td>NaN</td>\n      <td>OTHER</td>\n      <td>NaN</td>\n      <td>...</td>\n      <td>5766465</td>\n      <td>95.0</td>\n      <td>2007-04-17</td>\n      <td>Office Visit</td>\n      <td>Outpatient</td>\n      <td>F32.A</td>\n      <td>Depression, unspecified</td>\n      <td>Self-Pay</td>\n      <td>Depressive disorders</td>\n      <td>Depressive disorders</td>\n    </tr>\n    <tr>\n      <th>1808951</th>\n      <td>1000898</td>\n      <td>111.0</td>\n      <td>1911-09-29</td>\n      <td>English</td>\n      <td>Female</td>\n      <td>NaN</td>\n      <td>NaN</td>\n      <td>NaN</td>\n      <td>OTHER</td>\n      <td>NaN</td>\n      <td>...</td>\n      <td>10755776</td>\n      <td>99.0</td>\n      <td>2011-08-10</td>\n      <td>Office Visit</td>\n      <td>Outpatient</td>\n      <td>F03.90</td>\n      <td>Unspecified dementia, unspecified severity, wi...</td>\n      <td>Self-Pay</td>\n      <td>Neurocognitive disorders</td>\n      <td>Neurocognitive disorders</td>\n    </tr>\n    <tr>\n      <th>1805251</th>\n      <td>1000952</td>\n      <td>84.0</td>\n      <td>1938-04-19</td>\n      <td>English</td>\n      <td>Female</td>\n      <td>NaN</td>\n      <td>NaN</td>\n      <td>NaN</td>\n      <td>OTHER</td>\n      <td>NaN</td>\n      <td>...</td>\n      <td>3400420</td>\n      <td>71.0</td>\n      <td>2010-02-08</td>\n      <td>Psych Conf Office Visit</td>\n      <td>Recurring</td>\n      <td>F33.9</td>\n      <td>Major depressive disorder, recurrent, unspecified</td>\n      <td>Self-Pay</td>\n      <td>Depressive disorders</td>\n      <td>Depressive disorders</td>\n    </tr>\n    <tr>\n      <th>1834682</th>\n      <td>100114</td>\n      <td>42.0</td>\n      <td>1980-08-20</td>\n      <td>NaN</td>\n      <td>Female</td>\n      <td>NaN</td>\n      <td>NaN</td>\n      <td>NaN</td>\n      <td>NaN</td>\n      <td>NaN</td>\n      <td>...</td>\n      <td>254461210</td>\n      <td>34.0</td>\n      <td>2015-05-29</td>\n      <td>Office Visit</td>\n      <td>Outpatient</td>\n      <td>F31.32</td>\n      <td>Bipolar disorder, current episode depressed, m...</td>\n      <td>NaN</td>\n      <td>Bipolar and related disorders</td>\n      <td>Bipolar and related disorders</td>\n    </tr>\n    <tr>\n      <th>1838463</th>\n      <td>100114</td>\n      <td>42.0</td>\n      <td>1980-08-20</td>\n      <td>NaN</td>\n      <td>Female</td>\n      <td>NaN</td>\n      <td>NaN</td>\n      <td>NaN</td>\n      <td>NaN</td>\n      <td>NaN</td>\n      <td>...</td>\n      <td>254784642</td>\n      <td>35.0</td>\n      <td>2015-10-06</td>\n      <td>Office Visit</td>\n      <td>Outpatient</td>\n      <td>F39</td>\n      <td>Unspecified mood (affective) disorder</td>\n      <td>NaN</td>\n      <td>Other specified and unspecified mood disorders</td>\n      <td>Other specified and unspecified mood disorders</td>\n    </tr>\n    <tr>\n      <th>1834684</th>\n      <td>100114</td>\n      <td>42.0</td>\n      <td>1980-08-20</td>\n      <td>NaN</td>\n      <td>Female</td>\n      <td>NaN</td>\n      <td>NaN</td>\n      <td>NaN</td>\n      <td>NaN</td>\n      <td>NaN</td>\n      <td>...</td>\n      <td>255491685</td>\n      <td>35.0</td>\n      <td>2016-01-11</td>\n      <td>Office Visit</td>\n      <td>Outpatient</td>\n      <td>F11.20</td>\n      <td>Opioid dependence, uncomplicated</td>\n      <td>NaN</td>\n      <td>Opioid-related disorders</td>\n      <td>Substance-related disorders</td>\n    </tr>\n    <tr>\n      <th>1805255</th>\n      <td>1001162</td>\n      <td>47.0</td>\n      <td>1975-02-18</td>\n      <td>English</td>\n      <td>Female</td>\n      <td>Female</td>\n      <td>Female</td>\n      <td>NaN</td>\n      <td>OTHER</td>\n      <td>OTHER</td>\n      <td>...</td>\n      <td>232575604</td>\n      <td>46.0</td>\n      <td>2021-04-26</td>\n      <td>Office Visit</td>\n      <td>Outpatient</td>\n      <td>F17.200</td>\n      <td>Nicotine dependence, unspecified, uncomplicated</td>\n      <td>Commercial/Managed Care</td>\n      <td>Tobacco-related disorders</td>\n      <td>Substance-related disorders</td>\n    </tr>\n    <tr>\n      <th>1838600</th>\n      <td>10012</td>\n      <td>90.0</td>\n      <td>1932-05-24</td>\n      <td>English</td>\n      <td>Male</td>\n      <td>Male</td>\n      <td>Male</td>\n      <td>NaN</td>\n      <td>WHITE</td>\n      <td>NaN</td>\n      <td>...</td>\n      <td>154461540</td>\n      <td>82.0</td>\n      <td>2014-06-12</td>\n      <td>Office Visit</td>\n      <td>Outpatient</td>\n      <td>F41.1</td>\n      <td>Generalized anxiety disorder</td>\n      <td>NaN</td>\n      <td>Anxiety and fear-related disorders</td>\n      <td>Anxiety and fear-related disorders</td>\n    </tr>\n    <tr>\n      <th>1430875</th>\n      <td>10012</td>\n      <td>90.0</td>\n      <td>1932-05-24</td>\n      <td>English</td>\n      <td>Male</td>\n      <td>Male</td>\n      <td>Male</td>\n      <td>NaN</td>\n      <td>WHITE</td>\n      <td>NaN</td>\n      <td>...</td>\n      <td>143958626</td>\n      <td>82.0</td>\n      <td>2014-10-10</td>\n      <td>Office Visit</td>\n      <td>Outpatient</td>\n      <td>F33.2</td>\n      <td>Major depressive disorder, recurrent severe wi...</td>\n      <td>NaN</td>\n      <td>Depressive disorders</td>\n      <td>Depressive disorders</td>\n    </tr>\n    <tr>\n      <th>1805298</th>\n      <td>10012</td>\n      <td>90.0</td>\n      <td>1932-05-24</td>\n      <td>English</td>\n      <td>Male</td>\n      <td>Male</td>\n      <td>Male</td>\n      <td>NaN</td>\n      <td>WHITE</td>\n      <td>NaN</td>\n      <td>...</td>\n      <td>119015350</td>\n      <td>84.0</td>\n      <td>2017-05-11</td>\n      <td>Office Visit</td>\n      <td>Outpatient</td>\n      <td>F43.20</td>\n      <td>Adjustment disorder, unspecified</td>\n      <td>NaN</td>\n      <td>Trauma- and stressor-related disorders</td>\n      <td>Trauma- and stressor-related disorders</td>\n    </tr>\n    <tr>\n      <th>1809370</th>\n      <td>1001230</td>\n      <td>50.0</td>\n      <td>1972-09-29</td>\n      <td>English</td>\n      <td>Female</td>\n      <td>Female</td>\n      <td>Female</td>\n      <td>NaN</td>\n      <td>OTHER</td>\n      <td>NaN</td>\n      <td>...</td>\n      <td>3475060</td>\n      <td>34.0</td>\n      <td>2007-04-19</td>\n      <td>Office Visit</td>\n      <td>Outpatient</td>\n      <td>F32.A</td>\n      <td>Depression, unspecified</td>\n      <td>Self-Pay</td>\n      <td>Depressive disorders</td>\n      <td>Depressive disorders</td>\n    </tr>\n    <tr>\n      <th>1407843</th>\n      <td>1001230</td>\n      <td>50.0</td>\n      <td>1972-09-29</td>\n      <td>English</td>\n      <td>Female</td>\n      <td>Female</td>\n      <td>Female</td>\n      <td>NaN</td>\n      <td>OTHER</td>\n      <td>NaN</td>\n      <td>...</td>\n      <td>57635808</td>\n      <td>44.0</td>\n      <td>2017-05-16</td>\n      <td>Office Visit</td>\n      <td>Outpatient</td>\n      <td>F51.01</td>\n      <td>Primary insomnia</td>\n      <td>Medicare Managed Care</td>\n      <td>Sleep wake disorders</td>\n      <td>Sleep wake disorders</td>\n    </tr>\n    <tr>\n      <th>1809371</th>\n      <td>1001230</td>\n      <td>50.0</td>\n      <td>1972-09-29</td>\n      <td>English</td>\n      <td>Female</td>\n      <td>Female</td>\n      <td>Female</td>\n      <td>NaN</td>\n      <td>OTHER</td>\n      <td>NaN</td>\n      <td>...</td>\n      <td>275556676</td>\n      <td>49.0</td>\n      <td>2021-10-28</td>\n      <td>Hospital Encounter</td>\n      <td>Emergency</td>\n      <td>F07.81</td>\n      <td>Postconcussional syndrome</td>\n      <td>Medicaid MS</td>\n      <td>Neurocognitive disorders</td>\n      <td>Neurocognitive disorders</td>\n    </tr>\n    <tr>\n      <th>1805457</th>\n      <td>1001274</td>\n      <td>99.0</td>\n      <td>1923-06-03</td>\n      <td>Spanish</td>\n      <td>Female</td>\n      <td>NaN</td>\n      <td>NaN</td>\n      <td>NaN</td>\n      <td>Hispanic/Latino</td>\n      <td>NaN</td>\n      <td>...</td>\n      <td>8637670</td>\n      <td>84.0</td>\n      <td>2007-07-17</td>\n      <td>Office Visit</td>\n      <td>Outpatient</td>\n      <td>F32.A</td>\n      <td>Depression, unspecified</td>\n      <td>Self-Pay</td>\n      <td>Depressive disorders</td>\n      <td>Depressive disorders</td>\n    </tr>\n    <tr>\n      <th>1838753</th>\n      <td>100142</td>\n      <td>65.0</td>\n      <td>1957-10-30</td>\n      <td>English</td>\n      <td>Male</td>\n      <td>NaN</td>\n      <td>NaN</td>\n      <td>NaN</td>\n      <td>OTHER</td>\n      <td>NaN</td>\n      <td>...</td>\n      <td>194380399</td>\n      <td>63.0</td>\n      <td>2021-02-12</td>\n      <td>Office Visit</td>\n      <td>Outpatient</td>\n      <td>F52.0</td>\n      <td>Hypoactive sexual desire disorder</td>\n      <td>Commercial/Managed Care</td>\n      <td>Miscellaneous mental and behavioral disorders/...</td>\n      <td>Miscellaneous mental and behavioral disorders/...</td>\n    </tr>\n    <tr>\n      <th>1430991</th>\n      <td>1001435</td>\n      <td>65.0</td>\n      <td>1957-03-21</td>\n      <td>English</td>\n      <td>Female</td>\n      <td>NaN</td>\n      <td>NaN</td>\n      <td>NaN</td>\n      <td>WHITE</td>\n      <td>NaN</td>\n      <td>...</td>\n      <td>253924580</td>\n      <td>57.0</td>\n      <td>2015-03-02</td>\n      <td>Office Visit</td>\n      <td>Outpatient</td>\n      <td>F41.1</td>\n      <td>Generalized anxiety disorder</td>\n      <td>NaN</td>\n      <td>Anxiety and fear-related disorders</td>\n      <td>Anxiety and fear-related disorders</td>\n    </tr>\n    <tr>\n      <th>1859773</th>\n      <td>1001435</td>\n      <td>65.0</td>\n      <td>1957-03-21</td>\n      <td>English</td>\n      <td>Female</td>\n      <td>NaN</td>\n      <td>NaN</td>\n      <td>NaN</td>\n      <td>WHITE</td>\n      <td>NaN</td>\n      <td>...</td>\n      <td>287273397</td>\n      <td>58.0</td>\n      <td>2015-03-31</td>\n      <td>Office Visit</td>\n      <td>Outpatient</td>\n      <td>F33.1</td>\n      <td>Major depressive disorder, recurrent, moderate</td>\n      <td>NaN</td>\n      <td>Depressive disorders</td>\n      <td>Depressive disorders</td>\n    </tr>\n    <tr>\n      <th>1809373</th>\n      <td>100145</td>\n      <td>62.0</td>\n      <td>1960-07-21</td>\n      <td>Spanish</td>\n      <td>Female</td>\n      <td>NaN</td>\n      <td>NaN</td>\n      <td>NaN</td>\n      <td>OTHER</td>\n      <td>NaN</td>\n      <td>...</td>\n      <td>251197725</td>\n      <td>53.0</td>\n      <td>2013-08-16</td>\n      <td>Office Visit</td>\n      <td>Outpatient</td>\n      <td>F31.9</td>\n      <td>Bipolar disorder, unspecified</td>\n      <td>NaN</td>\n      <td>Bipolar and related disorders</td>\n      <td>Bipolar and related disorders</td>\n    </tr>\n    <tr>\n      <th>1834946</th>\n      <td>100145</td>\n      <td>62.0</td>\n      <td>1960-07-21</td>\n      <td>Spanish</td>\n      <td>Female</td>\n      <td>NaN</td>\n      <td>NaN</td>\n      <td>NaN</td>\n      <td>OTHER</td>\n      <td>NaN</td>\n      <td>...</td>\n      <td>254257835</td>\n      <td>53.0</td>\n      <td>2013-10-09</td>\n      <td>Office Visit</td>\n      <td>Outpatient</td>\n      <td>F17.200</td>\n      <td>Nicotine dependence, unspecified, uncomplicated</td>\n      <td>NaN</td>\n      <td>Tobacco-related disorders</td>\n      <td>Substance-related disorders</td>\n    </tr>\n    <tr>\n      <th>1805464</th>\n      <td>1001475</td>\n      <td>48.0</td>\n      <td>1974-07-30</td>\n      <td>English</td>\n      <td>Female</td>\n      <td>Female</td>\n      <td>Female</td>\n      <td>NaN</td>\n      <td>WHITE</td>\n      <td>NaN</td>\n      <td>...</td>\n      <td>189043270</td>\n      <td>46.0</td>\n      <td>2020-10-22</td>\n      <td>Hospital Encounter</td>\n      <td>Emergency</td>\n      <td>F43.22</td>\n      <td>Adjustment disorder with anxiety</td>\n      <td>Self-Pay</td>\n      <td>Trauma- and stressor-related disorders</td>\n      <td>Trauma- and stressor-related disorders</td>\n    </tr>\n    <tr>\n      <th>1809375</th>\n      <td>1001526</td>\n      <td>54.0</td>\n      <td>1968-09-02</td>\n      <td>English</td>\n      <td>Male</td>\n      <td>NaN</td>\n      <td>NaN</td>\n      <td>NaN</td>\n      <td>AFRICAN-AMERICAN</td>\n      <td>NaN</td>\n      <td>...</td>\n      <td>314690728</td>\n      <td>53.0</td>\n      <td>2022-04-27</td>\n      <td>Hospital Encounter</td>\n      <td>Emergency</td>\n      <td>F11.20</td>\n      <td>Opioid dependence, uncomplicated</td>\n      <td>Medicaid Managed Care</td>\n      <td>Opioid-related disorders</td>\n      <td>Substance-related disorders</td>\n    </tr>\n    <tr>\n      <th>1805465</th>\n      <td>1001526</td>\n      <td>54.0</td>\n      <td>1968-09-02</td>\n      <td>English</td>\n      <td>Male</td>\n      <td>NaN</td>\n      <td>NaN</td>\n      <td>NaN</td>\n      <td>AFRICAN-AMERICAN</td>\n      <td>NaN</td>\n      <td>...</td>\n      <td>314402497</td>\n      <td>53.0</td>\n      <td>2022-06-19</td>\n      <td>Hospital Encounter</td>\n      <td>Emergency</td>\n      <td>F43.25</td>\n      <td>Adjustment disorder with mixed disturbance of ...</td>\n      <td>Medicaid Managed Care</td>\n      <td>Trauma- and stressor-related disorders</td>\n      <td>Trauma- and stressor-related disorders</td>\n    </tr>\n    <tr>\n      <th>1859779</th>\n      <td>1001554</td>\n      <td>36.0</td>\n      <td>1986-12-30</td>\n      <td>English</td>\n      <td>Female</td>\n      <td>Female</td>\n      <td>Female</td>\n      <td>NaN</td>\n      <td>NaN</td>\n      <td>NaN</td>\n      <td>...</td>\n      <td>242648589</td>\n      <td>33.0</td>\n      <td>2020-03-02</td>\n      <td>Office Visit</td>\n      <td>Outpatient</td>\n      <td>F41.1</td>\n      <td>Generalized anxiety disorder</td>\n      <td>NaN</td>\n      <td>Anxiety and fear-related disorders</td>\n      <td>Anxiety and fear-related disorders</td>\n    </tr>\n    <tr>\n      <th>1834952</th>\n      <td>1001554</td>\n      <td>36.0</td>\n      <td>1986-12-30</td>\n      <td>English</td>\n      <td>Female</td>\n      <td>Female</td>\n      <td>Female</td>\n      <td>NaN</td>\n      <td>NaN</td>\n      <td>NaN</td>\n      <td>...</td>\n      <td>295127016</td>\n      <td>34.0</td>\n      <td>2021-11-02</td>\n      <td>Office Visit</td>\n      <td>Outpatient</td>\n      <td>F43.20</td>\n      <td>Adjustment disorder, unspecified</td>\n      <td>NaN</td>\n      <td>Trauma- and stressor-related disorders</td>\n      <td>Trauma- and stressor-related disorders</td>\n    </tr>\n    <tr>\n      <th>1834953</th>\n      <td>1001583</td>\n      <td>75.0</td>\n      <td>1947-07-24</td>\n      <td>English</td>\n      <td>Female</td>\n      <td>NaN</td>\n      <td>NaN</td>\n      <td>NaN</td>\n      <td>Black or African-American</td>\n      <td>NaN</td>\n      <td>...</td>\n      <td>47509515</td>\n      <td>68.0</td>\n      <td>2016-05-17</td>\n      <td>Office Visit</td>\n      <td>Outpatient</td>\n      <td>F41.8</td>\n      <td>Other specified anxiety disorders</td>\n      <td>Self-Pay</td>\n      <td>Anxiety and fear-related disorders</td>\n      <td>Anxiety and fear-related disorders</td>\n    </tr>\n    <tr>\n      <th>1834954</th>\n      <td>1001586</td>\n      <td>87.0</td>\n      <td>1935-08-28</td>\n      <td>English</td>\n      <td>Male</td>\n      <td>NaN</td>\n      <td>NaN</td>\n      <td>NaN</td>\n      <td>WHITE</td>\n      <td>NaN</td>\n      <td>...</td>\n      <td>180690614</td>\n      <td>84.0</td>\n      <td>2020-05-15</td>\n      <td>Office Visit</td>\n      <td>Recurring</td>\n      <td>F33.1</td>\n      <td>Major depressive disorder, recurrent, moderate</td>\n      <td>Medicare MS</td>\n      <td>Depressive disorders</td>\n      <td>Depressive disorders</td>\n    </tr>\n    <tr>\n      <th>1834955</th>\n      <td>1001594</td>\n      <td>68.0</td>\n      <td>1954-08-23</td>\n      <td>English</td>\n      <td>Female</td>\n      <td>Female</td>\n      <td>Female</td>\n      <td>Puerto Rican</td>\n      <td>WHITE</td>\n      <td>NaN</td>\n      <td>...</td>\n      <td>270412775</td>\n      <td>67.0</td>\n      <td>2021-11-19</td>\n      <td>Treatment Visit</td>\n      <td>Outpatient</td>\n      <td>F14.19</td>\n      <td>Cocaine abuse with unspecified cocaine-induced...</td>\n      <td>Medicare MS</td>\n      <td>Stimulant-related disorders</td>\n      <td>Substance-related disorders</td>\n    </tr>\n    <tr>\n      <th>1407958</th>\n      <td>1001606</td>\n      <td>59.0</td>\n      <td>1963-03-27</td>\n      <td>NaN</td>\n      <td>Male</td>\n      <td>NaN</td>\n      <td>NaN</td>\n      <td>NaN</td>\n      <td>NaN</td>\n      <td>NaN</td>\n      <td>...</td>\n      <td>250689633</td>\n      <td>51.0</td>\n      <td>2015-02-18</td>\n      <td>Office Visit</td>\n      <td>Outpatient</td>\n      <td>F31.89</td>\n      <td>Other bipolar disorder</td>\n      <td>NaN</td>\n      <td>Bipolar and related disorders</td>\n      <td>Bipolar and related disorders</td>\n    </tr>\n    <tr>\n      <th>1838762</th>\n      <td>1001606</td>\n      <td>59.0</td>\n      <td>1963-03-27</td>\n      <td>NaN</td>\n      <td>Male</td>\n      <td>NaN</td>\n      <td>NaN</td>\n      <td>NaN</td>\n      <td>NaN</td>\n      <td>NaN</td>\n      <td>...</td>\n      <td>278017591</td>\n      <td>51.0</td>\n      <td>2015-03-10</td>\n      <td>Office Visit</td>\n      <td>Outpatient</td>\n      <td>F34.1</td>\n      <td>Dysthymic disorder</td>\n      <td>NaN</td>\n      <td>Depressive disorders</td>\n      <td>Depressive disorders</td>\n    </tr>\n    <tr>\n      <th>1805583</th>\n      <td>1001653</td>\n      <td>31.0</td>\n      <td>1991-08-29</td>\n      <td>English</td>\n      <td>Female</td>\n      <td>NaN</td>\n      <td>NaN</td>\n      <td>NaN</td>\n      <td>NaN</td>\n      <td>NaN</td>\n      <td>...</td>\n      <td>324094031</td>\n      <td>31.0</td>\n      <td>2022-11-23</td>\n      <td>MyChart Messages</td>\n      <td>NaN</td>\n      <td>F41.9</td>\n      <td>Anxiety disorder, unspecified</td>\n      <td>Self-Pay</td>\n      <td>Anxiety and fear-related disorders</td>\n      <td>Anxiety and fear-related disorders</td>\n    </tr>\n    <tr>\n      <th>1838763</th>\n      <td>1001665</td>\n      <td>75.0</td>\n      <td>1947-11-27</td>\n      <td>English</td>\n      <td>Female</td>\n      <td>NaN</td>\n      <td>NaN</td>\n      <td>NaN</td>\n      <td>Hispanic/Latino</td>\n      <td>NaN</td>\n      <td>...</td>\n      <td>6260406</td>\n      <td>60.0</td>\n      <td>2008-09-30</td>\n      <td>Office Visit</td>\n      <td>Outpatient</td>\n      <td>F41.0</td>\n      <td>Panic disorder (episodic paroxysmal anxiety)</td>\n      <td>Self-Pay</td>\n      <td>Anxiety and fear-related disorders</td>\n      <td>Anxiety and fear-related disorders</td>\n    </tr>\n    <tr>\n      <th>1805584</th>\n      <td>1001665</td>\n      <td>75.0</td>\n      <td>1947-11-27</td>\n      <td>English</td>\n      <td>Female</td>\n      <td>NaN</td>\n      <td>NaN</td>\n      <td>NaN</td>\n      <td>Hispanic/Latino</td>\n      <td>NaN</td>\n      <td>...</td>\n      <td>6260407</td>\n      <td>60.0</td>\n      <td>2008-10-01</td>\n      <td>Office Visit</td>\n      <td>Outpatient</td>\n      <td>F32.A</td>\n      <td>Depression, unspecified</td>\n      <td>Self-Pay</td>\n      <td>Depressive disorders</td>\n      <td>Depressive disorders</td>\n    </tr>\n    <tr>\n      <th>1392820</th>\n      <td>100170</td>\n      <td>24.0</td>\n      <td>1998-09-13</td>\n      <td>NaN</td>\n      <td>Male</td>\n      <td>NaN</td>\n      <td>NaN</td>\n      <td>NaN</td>\n      <td>NaN</td>\n      <td>NaN</td>\n      <td>...</td>\n      <td>278046652</td>\n      <td>13.0</td>\n      <td>2012-01-11</td>\n      <td>Office Visit</td>\n      <td>Outpatient</td>\n      <td>F90.9</td>\n      <td>Attention-deficit hyperactivity disorder, unsp...</td>\n      <td>NaN</td>\n      <td>Neurodevelopmental disorders</td>\n      <td>Neurodevelopmental disorders</td>\n    </tr>\n    <tr>\n      <th>1407966</th>\n      <td>1001742</td>\n      <td>22.0</td>\n      <td>2000-07-27</td>\n      <td>English</td>\n      <td>Female</td>\n      <td>NaN</td>\n      <td>NaN</td>\n      <td>NaN</td>\n      <td>NaN</td>\n      <td>NaN</td>\n      <td>...</td>\n      <td>264008256</td>\n      <td>20.0</td>\n      <td>2020-10-22</td>\n      <td>Office Visit</td>\n      <td>Outpatient</td>\n      <td>F90.9</td>\n      <td>Attention-deficit hyperactivity disorder, unsp...</td>\n      <td>NaN</td>\n      <td>Neurodevelopmental disorders</td>\n      <td>Neurodevelopmental disorders</td>\n    </tr>\n    <tr>\n      <th>1392915</th>\n      <td>1001742</td>\n      <td>22.0</td>\n      <td>2000-07-27</td>\n      <td>English</td>\n      <td>Female</td>\n      <td>NaN</td>\n      <td>NaN</td>\n      <td>NaN</td>\n      <td>NaN</td>\n      <td>NaN</td>\n      <td>...</td>\n      <td>264092465</td>\n      <td>20.0</td>\n      <td>2020-10-27</td>\n      <td>Office Visit</td>\n      <td>Outpatient</td>\n      <td>F34.1</td>\n      <td>Dysthymic disorder</td>\n      <td>NaN</td>\n      <td>Depressive disorders</td>\n      <td>Depressive disorders</td>\n    </tr>\n    <tr>\n      <th>1838921</th>\n      <td>1001742</td>\n      <td>22.0</td>\n      <td>2000-07-27</td>\n      <td>English</td>\n      <td>Female</td>\n      <td>NaN</td>\n      <td>NaN</td>\n      <td>NaN</td>\n      <td>NaN</td>\n      <td>NaN</td>\n      <td>...</td>\n      <td>280306209</td>\n      <td>20.0</td>\n      <td>2021-07-18</td>\n      <td>Office Visit</td>\n      <td>Outpatient</td>\n      <td>F41.9</td>\n      <td>Anxiety disorder, unspecified</td>\n      <td>NaN</td>\n      <td>Anxiety and fear-related disorders</td>\n      <td>Anxiety and fear-related disorders</td>\n    </tr>\n    <tr>\n      <th>1838922</th>\n      <td>1001780</td>\n      <td>38.0</td>\n      <td>1984-09-22</td>\n      <td>English</td>\n      <td>Female</td>\n      <td>NaN</td>\n      <td>NaN</td>\n      <td>NaN</td>\n      <td>WHITE</td>\n      <td>NaN</td>\n      <td>...</td>\n      <td>96348531</td>\n      <td>34.0</td>\n      <td>2019-06-24</td>\n      <td>Hospital Encounter</td>\n      <td>Inpatient</td>\n      <td>F10.20</td>\n      <td>Alcohol dependence, uncomplicated</td>\n      <td>Medicaid Managed Care</td>\n      <td>Alcohol-related disorders</td>\n      <td>Substance-related disorders</td>\n    </tr>\n    <tr>\n      <th>1392917</th>\n      <td>1001825</td>\n      <td>75.0</td>\n      <td>1947-12-09</td>\n      <td>English</td>\n      <td>Male</td>\n      <td>NaN</td>\n      <td>NaN</td>\n      <td>NaN</td>\n      <td>WHITE</td>\n      <td>NaN</td>\n      <td>...</td>\n      <td>238239144</td>\n      <td>71.0</td>\n      <td>2019-08-20</td>\n      <td>Office Visit</td>\n      <td>Outpatient</td>\n      <td>F43.20</td>\n      <td>Adjustment disorder, unspecified</td>\n      <td>NaN</td>\n      <td>Trauma- and stressor-related disorders</td>\n      <td>Trauma- and stressor-related disorders</td>\n    </tr>\n    <tr>\n      <th>1838930</th>\n      <td>1001877</td>\n      <td>66.0</td>\n      <td>1956-07-04</td>\n      <td>English</td>\n      <td>Male</td>\n      <td>Male</td>\n      <td>Male</td>\n      <td>NaN</td>\n      <td>AFRICAN-AMERICAN</td>\n      <td>NaN</td>\n      <td>...</td>\n      <td>167157254</td>\n      <td>57.0</td>\n      <td>2014-04-18</td>\n      <td>Office Visit</td>\n      <td>Outpatient</td>\n      <td>F41.1</td>\n      <td>Generalized anxiety disorder</td>\n      <td>NaN</td>\n      <td>Anxiety and fear-related disorders</td>\n      <td>Anxiety and fear-related disorders</td>\n    </tr>\n    <tr>\n      <th>1838928</th>\n      <td>1001877</td>\n      <td>66.0</td>\n      <td>1956-07-04</td>\n      <td>English</td>\n      <td>Male</td>\n      <td>Male</td>\n      <td>Male</td>\n      <td>NaN</td>\n      <td>AFRICAN-AMERICAN</td>\n      <td>NaN</td>\n      <td>...</td>\n      <td>154419263</td>\n      <td>58.0</td>\n      <td>2014-07-11</td>\n      <td>Office Visit</td>\n      <td>Outpatient</td>\n      <td>F43.23</td>\n      <td>Adjustment disorder with mixed anxiety and dep...</td>\n      <td>NaN</td>\n      <td>Trauma- and stressor-related disorders</td>\n      <td>Trauma- and stressor-related disorders</td>\n    </tr>\n    <tr>\n      <th>1393016</th>\n      <td>1002007</td>\n      <td>47.0</td>\n      <td>1975-02-25</td>\n      <td>English</td>\n      <td>Male</td>\n      <td>NaN</td>\n      <td>NaN</td>\n      <td>NaN</td>\n      <td>OTHER</td>\n      <td>NaN</td>\n      <td>...</td>\n      <td>296244391</td>\n      <td>46.0</td>\n      <td>2021-12-13</td>\n      <td>Office Visit</td>\n      <td>Outpatient</td>\n      <td>F41.9</td>\n      <td>Anxiety disorder, unspecified</td>\n      <td>NaN</td>\n      <td>Anxiety and fear-related disorders</td>\n      <td>Anxiety and fear-related disorders</td>\n    </tr>\n  </tbody>\n</table>\n<p>50 rows × 24 columns</p>\n</div>"
     },
     "execution_count": 33,
     "metadata": {},
     "output_type": "execute_result"
    }
   ],
   "source": [
    "controls = controls.drop_duplicates(subset=['PrimaryMrn', 'CCSR_wSubstance'],  keep='first')\n",
    "controls.head(50)"
   ],
   "metadata": {
    "collapsed": false,
    "pycharm": {
     "name": "#%%\n"
    }
   }
  },
  {
   "cell_type": "code",
   "execution_count": 36,
   "outputs": [],
   "source": [
    "controls['Ethnicity_v2'] = controls['Ethnicity']\n",
    "controls.Ethnicity_v2 = controls.Ethnicity_v2.replace(['Puerto Rican', 'Dominican', 'Latin American', 'Cuban', 'Ecuadorian',\n",
    "                                                         'Mexican', 'Colombian','Mexican American', 'Criollo', 'Honduran', 'Panamanian',\n",
    "                                                         'Chilean', 'Central American','South American', 'Guatemalan', 'Venezuelan',\n",
    "                                                         'Uruguayan', 'Peruvian'],\n",
    "                    ['Hispanic or Latino', 'Hispanic or Latino', 'Hispanic or Latino', 'Hispanic or Latino',\n",
    "                     'Hispanic or Latino', 'Hispanic or Latino', 'Hispanic or Latino', 'Hispanic or Latino',\n",
    "                     'Hispanic or Latino', 'Hispanic or Latino', 'Hispanic or Latino', 'Hispanic or Latino',\n",
    "                     'Hispanic or Latino', 'Hispanic or Latino', 'Hispanic or Latino', 'Hispanic or Latino',\n",
    "                     'Hispanic or Latino', 'Hispanic or Latino'])"
   ],
   "metadata": {
    "collapsed": false,
    "pycharm": {
     "name": "#%%\n"
    }
   }
  },
  {
   "cell_type": "code",
   "execution_count": 35,
   "outputs": [
    {
     "data": {
      "text/plain": "Female                   357517\nMale                     274158\nNon-binary                 2307\nTransgender Female         2033\nTransgender Male           1227\nGender Non-conforming       444\nGender Queer                393\nOther                       393\nNaN                          98\nName: Merged_Gender, dtype: int64"
     },
     "execution_count": 35,
     "metadata": {},
     "output_type": "execute_result"
    }
   ],
   "source": [
    "controls['Merged_Gender'] = controls['GenderIdentity']\n",
    "controls['Merged_Gender'] = controls['Merged_Gender'].fillna(controls['Sex'])\n",
    "controls.Merged_Gender.value_counts(dropna=False)"
   ],
   "metadata": {
    "collapsed": false,
    "pycharm": {
     "name": "#%%\n"
    }
   }
  },
  {
   "cell_type": "code",
   "execution_count": 37,
   "outputs": [],
   "source": [
    "controls['Race'] = controls['FirstRace']\n",
    "controls.Race = controls.Race.replace(['AMERICAN INDIAN OR ALASKAN', 'Hispanic/Latino', 'Hispanic', 'AFRICAN-AMERICAN', 'OTHER',\n",
    "                               'PATIENT DECLINED', 'WHITE', 'ASIAN INDIAN', 'CHINESE', 'KOREAN', 'CHINESE AMERICAN', 'VIETNAMESE',\n",
    "                               'OTHER: NORTH AFRICAN', 'JAPANESE', 'NATIVE HAWAIIAN', 'OTHER PACIFIC ISLANDER', 'THAI',\n",
    "                               'PAPUA NEW GUINEAN', 'GUINEAN', 'FILIPINO', 'FILIPINO AMERICAN', 'BANGLADESHI', 'UGANDAN', 'PAKISTANI',\n",
    "                               'WEST INDIAN', 'TRINIDADIAN', 'JAMAICAN', 'HAITIAN', 'TAIWANESE', 'NIGERIAN', 'ETHIOPIAN',\n",
    "                               'DOMINICA ISLANDER', 'GRENADIAN', 'MADAGASCAR', 'POLYNESIAN', 'SRI LANKAN', 'INDONESIAN', 'MALIAN',\n",
    "                               'GHANAIAN', 'BARBADIAN', 'TAHITIAN', 'ST VINCENTIAN', 'TOKELAUAN',\n",
    "                               'Black or African-American', 'Asian (Pacific Islander)', 'LAOTIAN', 'CONGOLESE', 'Native American',\n",
    "                               'OTHER: WEST AFRICAN', 'BHUTANESE', 'CAMBODIAN', 'Pacific Islander', 'OKINAWAN', 'NEW HEBRIDES',\n",
    "                               'KENYAN', 'MARIANA ISLANDER', 'SENEGALESE', 'MARSHALLESE', 'BURMESE', 'GABONIAN', 'MALAYSIAN',\n",
    "                               'TOGOLESE', 'OTHER: EAST AFRICAN', 'LIBERIAN', 'SOMALIAN', 'SUDANESE', 'HMONG', 'MICRONESIAN',\n",
    "                               'NEPALESE', 'Black or African American', 'OTHER: SOUTH AFRICAN', 'Other Asian', 'ERITREAN', 'IVORY COASTIAN',\n",
    "                                       'SINGAPOREAN', 'ZIMBABWEAN', 'YAPESE', 'CAPE VERDIAN', 'SAIPANESE', 'SAMOAN', 'MELANESIAN',\n",
    "                                       'SIERRA LEONEAN', 'GUAMANIAN', 'CAROLINIAN', 'KOSRAEAN', 'GUAMANIAN OR CHAMORRO', 'CHUUKESE',\n",
    "                                       'MALDIVIAN', 'POHNPEIAN', 'IWO JIMAN', 'FIJIAN', 'TONGAN', 'CHAMORRO', 'SOLOMON ISLANDER', 'TANZANIAN'],\n",
    "                  ['American Indian or Alaska Native', 'Hispanic or Latino', 'Hispanic or Latino', 'Black or African-American', 'Other Race', 'Decline to Answer', 'White', 'Asian', 'Asian', 'Asian', 'Asian', 'Asian', 'Black or African-American', 'Asian', 'Native Hawaiian or Other Pacific Islander', 'Native Hawaiian or Other Pacific Islander', 'Asian', 'Native Hawaiian or Other Pacific Islander', 'Native Hawaiian or Other Pacific Islander', 'Native Hawaiian or Other Pacific Islander','Native Hawaiian or Other Pacific Islander', 'Asian', 'Black or African-American', 'Asian', 'Asian', 'Black or African-American', 'Black or African-American', 'Black or African-American', 'Asian', 'Black or African-American', 'Black or African-American', 'Black or African-American', 'Black or African-American', 'Black or African-American', 'Native Hawaiian or Other Pacific Islander', 'Asian', 'Asian', 'Black or African-American', 'Black or African-American', 'Black or African-American', 'Native Hawaiian or Other Pacific Islander', 'Black or African-American', 'Native Hawaiian or Other Pacific Islander',\n",
    "                   'Black or African-American', 'Native Hawaiian or Other Pacific Islander', 'Asian', 'Black or African-American',\n",
    "                   'American Indian or Alaska Native', 'Black or African-American', 'Asian', 'Asian',\n",
    "                   'Native Hawaiian or Other Pacific Islander', 'Asian', 'Native Hawaiian or Other Pacific Islander',\n",
    "                   'Black or African-American', 'Native Hawaiian or Other Pacific Islander', 'Black or African-American',\n",
    "                   'Native Hawaiian or Other Pacific Islander', 'Asian', 'Black or African-American', 'Asian',\n",
    "                   'Black or African-American', 'Black or African-American', 'Black or African-American', 'Black or African-American',\n",
    "                   'Black or African-American', 'Asian', 'Native Hawaiian or Other Pacific Islander', 'Asian', 'Black or African-American', 'Black or African-American', 'Asian', 'Black or African-American', 'Black or African-American', 'Asian', 'Black or African-American',\n",
    "                   'Native Hawaiian or Other Pacific Islander', 'Black or African-American', 'Native Hawaiian or Other Pacific Islander',\n",
    "                   'Native Hawaiian or Other Pacific Islander', 'Native Hawaiian or Other Pacific Islander', 'Black or African-American',\n",
    "                   'Native Hawaiian or Other Pacific Islander', 'Native Hawaiian or Other Pacific Islander',\n",
    "                   'Native Hawaiian or Other Pacific Islander', 'Native Hawaiian or Other Pacific Islander',\n",
    "                   'Native Hawaiian or Other Pacific Islander', 'Asian', 'Native Hawaiian or Other Pacific Islander', 'Asian',\n",
    "                   'Native Hawaiian or Other Pacific Islander', 'Native Hawaiian or Other Pacific Islander',\n",
    "                   'Native Hawaiian or Other Pacific Islander', 'Native Hawaiian or Other Pacific Islander', 'Black or African-American'])"
   ],
   "metadata": {
    "collapsed": false,
    "pycharm": {
     "name": "#%%\n"
    }
   }
  },
  {
   "cell_type": "code",
   "execution_count": 38,
   "outputs": [
    {
     "data": {
      "text/plain": "White                                        214106\nNaN                                          162816\nOther Race                                   135651\nBlack or African-American                     89256\nAsian                                         15238\nMixed racial group                            11599\nHispanic or Latino                             5894\nNative Hawaiian or Other Pacific Islander      3301\nAmerican Indian or Alaska Native                709\nName: Race_2, dtype: int64"
     },
     "execution_count": 38,
     "metadata": {},
     "output_type": "execute_result"
    }
   ],
   "source": [
    "def multiracial(x):\n",
    "    if x.MultiRacial == 1:\n",
    "        return 'Mixed racial group'\n",
    "    if x.Ethnicity_v2 == 'Hispanic or Latino' and x.Race == 'Other Race':\n",
    "        return 'Hispanic or Latino'\n",
    "    if x.Ethnicity_v2 == 'Hispanic or Latino' and x.Race == 'NaN':\n",
    "            return 'Hispanic or Latino'\n",
    "    else:\n",
    "        return x.Race\n",
    "\n",
    "# scz_notes = scz_notes.apply(multiracial)\n",
    "controls['Race_2'] = controls.apply(lambda row: multiracial(row), axis=1)\n",
    "controls.Race_2.value_counts(dropna=False)"
   ],
   "metadata": {
    "collapsed": false,
    "pycharm": {
     "name": "#%%\n"
    }
   }
  },
  {
   "cell_type": "code",
   "execution_count": 39,
   "outputs": [
    {
     "data": {
      "text/plain": "        PrimaryMrn  AgeInYears   BirthDate PreferredLanguage     Sex  \\\n1407141    1000094        48.0  1974-12-10           English    Male   \n1858877    1000176        48.0  1974-12-23           English    Male   \n1804800    1000224        75.0  1947-09-29           English    Male   \n1837909    1000224        75.0  1947-09-29           English    Male   \n1838026    1000417        54.0  1968-05-25           English  Female   \n...            ...         ...         ...               ...     ...   \n4579           nan        14.0  2008-03-18               NaN    Male   \n1089333        nan        83.0  1939-07-05               NaN  Female   \n1405654        nan       105.0  1917-11-30               NaN  Female   \n2618           nan        10.0  2012-08-20               NaN  Female   \n51152          nan        35.0  1987-11-07               NaN    Male   \n\n        SexAssignedAtBirth GenderIdentity Ethnicity         FirstRace  \\\n1407141                NaN            NaN       NaN             OTHER   \n1858877                NaN            NaN       NaN               NaN   \n1804800               Male           Male       NaN  AFRICAN-AMERICAN   \n1837909               Male           Male       NaN  AFRICAN-AMERICAN   \n1838026             Female         Female       NaN  AFRICAN-AMERICAN   \n...                    ...            ...       ...               ...   \n4579                   NaN            NaN       NaN               NaN   \n1089333                NaN            NaN       NaN               NaN   \n1405654                NaN            NaN       NaN               NaN   \n2618                   NaN            NaN       NaN               NaN   \n51152                  NaN            NaN       NaN               NaN   \n\n        SecondRace  ...  VisitType2    Value  \\\n1407141        NaN  ...   Emergency   F43.24   \n1858877        NaN  ...  Outpatient    F32.1   \n1804800        NaN  ...  Outpatient    F41.1   \n1837909        NaN  ...  Outpatient  F17.210   \n1838026        NaN  ...         NaN    F33.1   \n...            ...  ...         ...      ...   \n4579           NaN  ...  Outpatient    F98.0   \n1089333        NaN  ...  Outpatient   F51.02   \n1405654        NaN  ...  Outpatient   F45.42   \n2618           NaN  ...  Outpatient    F80.4   \n51152          NaN  ...  Outpatient    F31.1   \n\n                                             DisplayString  \\\n1407141    Adjustment disorder with disturbance of conduct   \n1858877  Major depressive disorder, single episode, mod...   \n1804800                       Generalized anxiety disorder   \n1837909     Nicotine dependence, cigarettes, uncomplicated   \n1838026     Major depressive disorder, recurrent, moderate   \n...                                                    ...   \n4579     Enuresis not due to a substance or known physi...   \n1089333                                Adjustment insomnia   \n1405654   Pain disorder with related psychological factors   \n2618     Speech and language development delay due to h...   \n51152    Bipolar disorder, current episode manic withou...   \n\n             PayorFinancialClass                               CCSR_code  \\\n1407141  Commercial/Managed Care  Trauma- and stressor-related disorders   \n1858877                      NaN                    Depressive disorders   \n1804800                 Self-Pay      Anxiety and fear-related disorders   \n1837909                      NaN               Tobacco-related disorders   \n1838026                 Self-Pay                    Depressive disorders   \n...                          ...                                     ...   \n4579                         NaN                    Urinary incontinence   \n1089333                      NaN                    Sleep wake disorders   \n1405654                      NaN                       Somatic disorders   \n2618                         NaN                            Hearing loss   \n51152                        NaN                                    None   \n\n                                CCSR_wSubstance Ethnicity_v2 Merged_Gender  \\\n1407141  Trauma- and stressor-related disorders          NaN          Male   \n1858877                    Depressive disorders          NaN          Male   \n1804800      Anxiety and fear-related disorders          NaN          Male   \n1837909             Substance-related disorders          NaN          Male   \n1838026                    Depressive disorders          NaN        Female   \n...                                         ...          ...           ...   \n4579                       Urinary incontinence          NaN          Male   \n1089333                    Sleep wake disorders          NaN        Female   \n1405654                       Somatic disorders          NaN        Female   \n2618                               Hearing loss          NaN        Female   \n51152                                      None          NaN          Male   \n\n                              Race                     Race_2  \n1407141                 Other Race                 Other Race  \n1858877                        NaN                        NaN  \n1804800  Black or African-American  Black or African-American  \n1837909  Black or African-American  Black or African-American  \n1838026  Black or African-American  Black or African-American  \n...                            ...                        ...  \n4579                           NaN                        NaN  \n1089333                        NaN                        NaN  \n1405654                        NaN                        NaN  \n2618                           NaN                        NaN  \n51152                          NaN                        NaN  \n\n[638570 rows x 28 columns]",
      "text/html": "<div>\n<style scoped>\n    .dataframe tbody tr th:only-of-type {\n        vertical-align: middle;\n    }\n\n    .dataframe tbody tr th {\n        vertical-align: top;\n    }\n\n    .dataframe thead th {\n        text-align: right;\n    }\n</style>\n<table border=\"1\" class=\"dataframe\">\n  <thead>\n    <tr style=\"text-align: right;\">\n      <th></th>\n      <th>PrimaryMrn</th>\n      <th>AgeInYears</th>\n      <th>BirthDate</th>\n      <th>PreferredLanguage</th>\n      <th>Sex</th>\n      <th>SexAssignedAtBirth</th>\n      <th>GenderIdentity</th>\n      <th>Ethnicity</th>\n      <th>FirstRace</th>\n      <th>SecondRace</th>\n      <th>...</th>\n      <th>VisitType2</th>\n      <th>Value</th>\n      <th>DisplayString</th>\n      <th>PayorFinancialClass</th>\n      <th>CCSR_code</th>\n      <th>CCSR_wSubstance</th>\n      <th>Ethnicity_v2</th>\n      <th>Merged_Gender</th>\n      <th>Race</th>\n      <th>Race_2</th>\n    </tr>\n  </thead>\n  <tbody>\n    <tr>\n      <th>1407141</th>\n      <td>1000094</td>\n      <td>48.0</td>\n      <td>1974-12-10</td>\n      <td>English</td>\n      <td>Male</td>\n      <td>NaN</td>\n      <td>NaN</td>\n      <td>NaN</td>\n      <td>OTHER</td>\n      <td>NaN</td>\n      <td>...</td>\n      <td>Emergency</td>\n      <td>F43.24</td>\n      <td>Adjustment disorder with disturbance of conduct</td>\n      <td>Commercial/Managed Care</td>\n      <td>Trauma- and stressor-related disorders</td>\n      <td>Trauma- and stressor-related disorders</td>\n      <td>NaN</td>\n      <td>Male</td>\n      <td>Other Race</td>\n      <td>Other Race</td>\n    </tr>\n    <tr>\n      <th>1858877</th>\n      <td>1000176</td>\n      <td>48.0</td>\n      <td>1974-12-23</td>\n      <td>English</td>\n      <td>Male</td>\n      <td>NaN</td>\n      <td>NaN</td>\n      <td>NaN</td>\n      <td>NaN</td>\n      <td>NaN</td>\n      <td>...</td>\n      <td>Outpatient</td>\n      <td>F32.1</td>\n      <td>Major depressive disorder, single episode, mod...</td>\n      <td>NaN</td>\n      <td>Depressive disorders</td>\n      <td>Depressive disorders</td>\n      <td>NaN</td>\n      <td>Male</td>\n      <td>NaN</td>\n      <td>NaN</td>\n    </tr>\n    <tr>\n      <th>1804800</th>\n      <td>1000224</td>\n      <td>75.0</td>\n      <td>1947-09-29</td>\n      <td>English</td>\n      <td>Male</td>\n      <td>Male</td>\n      <td>Male</td>\n      <td>NaN</td>\n      <td>AFRICAN-AMERICAN</td>\n      <td>NaN</td>\n      <td>...</td>\n      <td>Outpatient</td>\n      <td>F41.1</td>\n      <td>Generalized anxiety disorder</td>\n      <td>Self-Pay</td>\n      <td>Anxiety and fear-related disorders</td>\n      <td>Anxiety and fear-related disorders</td>\n      <td>NaN</td>\n      <td>Male</td>\n      <td>Black or African-American</td>\n      <td>Black or African-American</td>\n    </tr>\n    <tr>\n      <th>1837909</th>\n      <td>1000224</td>\n      <td>75.0</td>\n      <td>1947-09-29</td>\n      <td>English</td>\n      <td>Male</td>\n      <td>Male</td>\n      <td>Male</td>\n      <td>NaN</td>\n      <td>AFRICAN-AMERICAN</td>\n      <td>NaN</td>\n      <td>...</td>\n      <td>Outpatient</td>\n      <td>F17.210</td>\n      <td>Nicotine dependence, cigarettes, uncomplicated</td>\n      <td>NaN</td>\n      <td>Tobacco-related disorders</td>\n      <td>Substance-related disorders</td>\n      <td>NaN</td>\n      <td>Male</td>\n      <td>Black or African-American</td>\n      <td>Black or African-American</td>\n    </tr>\n    <tr>\n      <th>1838026</th>\n      <td>1000417</td>\n      <td>54.0</td>\n      <td>1968-05-25</td>\n      <td>English</td>\n      <td>Female</td>\n      <td>Female</td>\n      <td>Female</td>\n      <td>NaN</td>\n      <td>AFRICAN-AMERICAN</td>\n      <td>NaN</td>\n      <td>...</td>\n      <td>NaN</td>\n      <td>F33.1</td>\n      <td>Major depressive disorder, recurrent, moderate</td>\n      <td>Self-Pay</td>\n      <td>Depressive disorders</td>\n      <td>Depressive disorders</td>\n      <td>NaN</td>\n      <td>Female</td>\n      <td>Black or African-American</td>\n      <td>Black or African-American</td>\n    </tr>\n    <tr>\n      <th>...</th>\n      <td>...</td>\n      <td>...</td>\n      <td>...</td>\n      <td>...</td>\n      <td>...</td>\n      <td>...</td>\n      <td>...</td>\n      <td>...</td>\n      <td>...</td>\n      <td>...</td>\n      <td>...</td>\n      <td>...</td>\n      <td>...</td>\n      <td>...</td>\n      <td>...</td>\n      <td>...</td>\n      <td>...</td>\n      <td>...</td>\n      <td>...</td>\n      <td>...</td>\n      <td>...</td>\n    </tr>\n    <tr>\n      <th>4579</th>\n      <td>nan</td>\n      <td>14.0</td>\n      <td>2008-03-18</td>\n      <td>NaN</td>\n      <td>Male</td>\n      <td>NaN</td>\n      <td>NaN</td>\n      <td>NaN</td>\n      <td>NaN</td>\n      <td>NaN</td>\n      <td>...</td>\n      <td>Outpatient</td>\n      <td>F98.0</td>\n      <td>Enuresis not due to a substance or known physi...</td>\n      <td>NaN</td>\n      <td>Urinary incontinence</td>\n      <td>Urinary incontinence</td>\n      <td>NaN</td>\n      <td>Male</td>\n      <td>NaN</td>\n      <td>NaN</td>\n    </tr>\n    <tr>\n      <th>1089333</th>\n      <td>nan</td>\n      <td>83.0</td>\n      <td>1939-07-05</td>\n      <td>NaN</td>\n      <td>Female</td>\n      <td>NaN</td>\n      <td>NaN</td>\n      <td>NaN</td>\n      <td>NaN</td>\n      <td>NaN</td>\n      <td>...</td>\n      <td>Outpatient</td>\n      <td>F51.02</td>\n      <td>Adjustment insomnia</td>\n      <td>NaN</td>\n      <td>Sleep wake disorders</td>\n      <td>Sleep wake disorders</td>\n      <td>NaN</td>\n      <td>Female</td>\n      <td>NaN</td>\n      <td>NaN</td>\n    </tr>\n    <tr>\n      <th>1405654</th>\n      <td>nan</td>\n      <td>105.0</td>\n      <td>1917-11-30</td>\n      <td>NaN</td>\n      <td>Female</td>\n      <td>NaN</td>\n      <td>NaN</td>\n      <td>NaN</td>\n      <td>NaN</td>\n      <td>NaN</td>\n      <td>...</td>\n      <td>Outpatient</td>\n      <td>F45.42</td>\n      <td>Pain disorder with related psychological factors</td>\n      <td>NaN</td>\n      <td>Somatic disorders</td>\n      <td>Somatic disorders</td>\n      <td>NaN</td>\n      <td>Female</td>\n      <td>NaN</td>\n      <td>NaN</td>\n    </tr>\n    <tr>\n      <th>2618</th>\n      <td>nan</td>\n      <td>10.0</td>\n      <td>2012-08-20</td>\n      <td>NaN</td>\n      <td>Female</td>\n      <td>NaN</td>\n      <td>NaN</td>\n      <td>NaN</td>\n      <td>NaN</td>\n      <td>NaN</td>\n      <td>...</td>\n      <td>Outpatient</td>\n      <td>F80.4</td>\n      <td>Speech and language development delay due to h...</td>\n      <td>NaN</td>\n      <td>Hearing loss</td>\n      <td>Hearing loss</td>\n      <td>NaN</td>\n      <td>Female</td>\n      <td>NaN</td>\n      <td>NaN</td>\n    </tr>\n    <tr>\n      <th>51152</th>\n      <td>nan</td>\n      <td>35.0</td>\n      <td>1987-11-07</td>\n      <td>NaN</td>\n      <td>Male</td>\n      <td>NaN</td>\n      <td>NaN</td>\n      <td>NaN</td>\n      <td>NaN</td>\n      <td>NaN</td>\n      <td>...</td>\n      <td>Outpatient</td>\n      <td>F31.1</td>\n      <td>Bipolar disorder, current episode manic withou...</td>\n      <td>NaN</td>\n      <td>None</td>\n      <td>None</td>\n      <td>NaN</td>\n      <td>Male</td>\n      <td>NaN</td>\n      <td>NaN</td>\n    </tr>\n  </tbody>\n</table>\n<p>638570 rows × 28 columns</p>\n</div>"
     },
     "execution_count": 39,
     "metadata": {},
     "output_type": "execute_result"
    }
   ],
   "source": [
    "controls"
   ],
   "metadata": {
    "collapsed": false,
    "pycharm": {
     "name": "#%%\n"
    }
   }
  },
  {
   "cell_type": "code",
   "execution_count": 40,
   "outputs": [],
   "source": [
    "controls_clean = controls.dropna(subset = ['Race_2', 'Merged_Gender', 'PrimaryMrn'])"
   ],
   "metadata": {
    "collapsed": false,
    "pycharm": {
     "name": "#%%\n"
    }
   }
  },
  {
   "cell_type": "code",
   "execution_count": 41,
   "outputs": [
    {
     "data": {
      "text/plain": "PayorFinancialClass\nSelf-Pay                   176603\nCommercial/Managed Care     67831\nMedicaid Managed Care       36785\nMedicare MS                 11748\nMedicare Managed Care        9721\nMedicaid MS                  8093\nWTC                          1193\nOther Medicaid HMO           1146\nSelf Pay MS                   827\nChild Health Plus             709\nAetna                         691\nSelf Pay                      592\nMedicare                      543\nCommercial                    465\nMedicaid                      407\nCommercial Two                364\nTransplant                    358\nMedicare HMO Two              248\nBlue Cross                    207\nMedicaid HMO                  201\nWorker's Comp/No Fault        194\nCigna                         190\nOther                         170\nHMO                           148\nPPO                            91\nOxford                         91\nHMO Other                      88\nWellcare                       75\nBlue Cross Blue Shield         69\nLocal 1199                     62\nADAP                           60\nUnited Healthcare              48\nMagnacare                      47\nFidelis Care                   37\nVNS Hospice Care               27\nMedicare Two                   25\nAnthem Group Services          24\nManaged Care                   20\nMultiplan Inc.                  9\nAFFINITY MCD                    8\nNo Fault                        6\nPrivate Healthcare Sys.         6\nUnion                           6\nHorizon Healthcare PPO          5\nOther MS                        5\nEPO                             4\nWorkmans Compensation           3\nTricare                         1\nWTC Health Program              1\nMedicaid Two                    1\ndtype: int64"
     },
     "execution_count": 41,
     "metadata": {},
     "output_type": "execute_result"
    }
   ],
   "source": [
    "controls_clean.value_counts('PayorFinancialClass')"
   ],
   "metadata": {
    "collapsed": false,
    "pycharm": {
     "name": "#%%\n"
    }
   }
  },
  {
   "cell_type": "code",
   "execution_count": 42,
   "outputs": [
    {
     "name": "stderr",
     "output_type": "stream",
     "text": [
      "/var/folders/xm/m4dy5bvs1fn7fb9wxjhsg4dc0000gn/T/ipykernel_8430/1445753009.py:11: SettingWithCopyWarning: \n",
      "A value is trying to be set on a copy of a slice from a DataFrame.\n",
      "Try using .loc[row_indexer,col_indexer] = value instead\n",
      "\n",
      "See the caveats in the documentation: https://pandas.pydata.org/pandas-docs/stable/user_guide/indexing.html#returning-a-view-versus-a-copy\n",
      "  controls_clean['insurance_status'] = controls_clean['PayorFinancialClass'].apply(insurance_names)\n"
     ]
    }
   ],
   "source": [
    "def insurance_names(row): # WTC,\n",
    "    if search('dicare|dicaid|WTC|Child', str(row)):\n",
    "        return 'Public'\n",
    "    if search('Self', str(row)):\n",
    "        return 'Self-pay'\n",
    "    if pd.isna(row):\n",
    "        return 'NaN'\n",
    "    else:\n",
    "        return 'Private'\n",
    "\n",
    "controls_clean['insurance_status'] = controls_clean['PayorFinancialClass'].apply(insurance_names)"
   ],
   "metadata": {
    "collapsed": false,
    "pycharm": {
     "name": "#%%\n"
    }
   }
  },
  {
   "cell_type": "code",
   "execution_count": 43,
   "outputs": [
    {
     "name": "stderr",
     "output_type": "stream",
     "text": [
      "/var/folders/xm/m4dy5bvs1fn7fb9wxjhsg4dc0000gn/T/ipykernel_8430/2975691963.py:1: SettingWithCopyWarning: \n",
      "A value is trying to be set on a copy of a slice from a DataFrame.\n",
      "Try using .loc[row_indexer,col_indexer] = value instead\n",
      "\n",
      "See the caveats in the documentation: https://pandas.pydata.org/pandas-docs/stable/user_guide/indexing.html#returning-a-view-versus-a-copy\n",
      "  controls_clean.PostalCode = controls_clean.PostalCode.str[:5]\n",
      "/var/folders/xm/m4dy5bvs1fn7fb9wxjhsg4dc0000gn/T/ipykernel_8430/2975691963.py:2: SettingWithCopyWarning: \n",
      "A value is trying to be set on a copy of a slice from a DataFrame.\n",
      "Try using .loc[row_indexer,col_indexer] = value instead\n",
      "\n",
      "See the caveats in the documentation: https://pandas.pydata.org/pandas-docs/stable/user_guide/indexing.html#returning-a-view-versus-a-copy\n",
      "  controls_clean.PostalCode = controls_clean.PostalCode.replace(['99999', '00000'],np.nan)\n"
     ]
    },
    {
     "data": {
      "text/plain": "10029    35966\n10025    23716\n10019    12067\n10035    11442\n10027    10633\n         ...  \n10411        1\n33761        1\n93908        1\n94128        1\n08042        1\nName: PostalCode, Length: 5601, dtype: int64"
     },
     "execution_count": 43,
     "metadata": {},
     "output_type": "execute_result"
    }
   ],
   "source": [
    "controls_clean.PostalCode = controls_clean.PostalCode.str[:5]\n",
    "controls_clean.PostalCode = controls_clean.PostalCode.replace(['99999', '00000'],np.nan)\n",
    "controls_clean.PostalCode.value_counts(dropna=False)"
   ],
   "metadata": {
    "collapsed": false,
    "pycharm": {
     "name": "#%%\n"
    }
   }
  },
  {
   "cell_type": "code",
   "execution_count": 44,
   "outputs": [
    {
     "name": "stdout",
     "output_type": "stream",
     "text": [
      "189\n"
     ]
    }
   ],
   "source": [
    "income = pd.read_csv('/Users/valena17/psych_nlp/data/zipcode_income.csv')\n",
    "income = income.replace(['-'],np.nan)\n",
    "income.PostalCode = income.PostalCode.str[-5:]\n",
    "\n",
    "print(income['2021_Median_Hincome'].isna().sum())\n",
    "\n",
    "income['2021_Median_Hincome'] = income['2021_Median_Hincome'].replace(['250,000+'],'250000')\n",
    "income['2021_Median_Hincome'] = income['2021_Median_Hincome'].replace(['2,500-'],'2500')\n",
    "income['2021_Median_Hincome']=income['2021_Median_Hincome'].values.astype(float)"
   ],
   "metadata": {
    "collapsed": false,
    "pycharm": {
     "name": "#%%\n"
    }
   }
  },
  {
   "cell_type": "code",
   "execution_count": 45,
   "outputs": [
    {
     "data": {
      "text/plain": "       PrimaryMrn  AgeInYears   BirthDate PreferredLanguage     Sex  \\\n0         1000094        48.0  1974-12-10           English    Male   \n1         1000224        75.0  1947-09-29           English    Male   \n2         1000224        75.0  1947-09-29           English    Male   \n3         1000417        54.0  1968-05-25           English  Female   \n4         1000417        54.0  1968-05-25           English  Female   \n...           ...         ...         ...               ...     ...   \n475697    X400206       122.0  1900-11-06           English    Male   \n475698    X400207        36.0  1986-07-26           English    Male   \n475699    X400208        26.0  1996-12-13           English    Male   \n475700    X400209        26.0  1996-11-24           English    Male   \n475701    Y900008        44.0  1978-10-20           English    Male   \n\n       SexAssignedAtBirth GenderIdentity Ethnicity         FirstRace  \\\n0                     NaN            NaN       NaN             OTHER   \n1                    Male           Male       NaN  AFRICAN-AMERICAN   \n2                    Male           Male       NaN  AFRICAN-AMERICAN   \n3                  Female         Female       NaN  AFRICAN-AMERICAN   \n4                  Female         Female       NaN  AFRICAN-AMERICAN   \n...                   ...            ...       ...               ...   \n475697                NaN            NaN       NaN             WHITE   \n475698                NaN            NaN       NaN             OTHER   \n475699                NaN            NaN       NaN  AFRICAN-AMERICAN   \n475700                NaN            NaN       NaN             OTHER   \n475701               Male           Male       NaN             OTHER   \n\n       SecondRace  ...                               CCSR_code  \\\n0             NaN  ...  Trauma- and stressor-related disorders   \n1             NaN  ...      Anxiety and fear-related disorders   \n2             NaN  ...               Tobacco-related disorders   \n3             NaN  ...                    Depressive disorders   \n4             NaN  ...      Anxiety and fear-related disorders   \n...           ...  ...                                     ...   \n475697        NaN  ...               Alcohol-related disorders   \n475698        NaN  ...               Alcohol-related disorders   \n475699        NaN  ...               Alcohol-related disorders   \n475700        NaN  ...               Alcohol-related disorders   \n475701        NaN  ...               Alcohol-related disorders   \n\n                               CCSR_wSubstance Ethnicity_v2 Merged_Gender  \\\n0       Trauma- and stressor-related disorders          NaN          Male   \n1           Anxiety and fear-related disorders          NaN          Male   \n2                  Substance-related disorders          NaN          Male   \n3                         Depressive disorders          NaN        Female   \n4           Anxiety and fear-related disorders          NaN        Female   \n...                                        ...          ...           ...   \n475697             Substance-related disorders          NaN          Male   \n475698             Substance-related disorders          NaN          Male   \n475699             Substance-related disorders          NaN          Male   \n475700             Substance-related disorders          NaN          Male   \n475701             Substance-related disorders          NaN          Male   \n\n                             Race                     Race_2 insurance_status  \\\n0                      Other Race                 Other Race          Private   \n1       Black or African-American  Black or African-American         Self-pay   \n2       Black or African-American  Black or African-American              NaN   \n3       Black or African-American  Black or African-American         Self-pay   \n4       Black or African-American  Black or African-American         Self-pay   \n...                           ...                        ...              ...   \n475697                      White                      White         Self-pay   \n475698                 Other Race                 Other Race         Self-pay   \n475699  Black or African-American  Black or African-American         Self-pay   \n475700                 Other Race                 Other Race         Self-pay   \n475701                 Other Race                 Other Race           Public   \n\n       2021_Median_Hincome 2020_Median_Hincome 2019_Median_Hincome  \n0                  33901.0               33801               33720  \n1                  55553.0               87397               75182  \n2                  55553.0               87397               75182  \n3                  50164.0               41363               42278  \n4                  50164.0               41363               42278  \n...                    ...                 ...                 ...  \n475697            105538.0              101651              103792  \n475698             89027.0               93397               88130  \n475699                 NaN                 NaN                 NaN  \n475700            105538.0              101651              103792  \n475701             67241.0               61239               60659  \n\n[475702 rows x 32 columns]",
      "text/html": "<div>\n<style scoped>\n    .dataframe tbody tr th:only-of-type {\n        vertical-align: middle;\n    }\n\n    .dataframe tbody tr th {\n        vertical-align: top;\n    }\n\n    .dataframe thead th {\n        text-align: right;\n    }\n</style>\n<table border=\"1\" class=\"dataframe\">\n  <thead>\n    <tr style=\"text-align: right;\">\n      <th></th>\n      <th>PrimaryMrn</th>\n      <th>AgeInYears</th>\n      <th>BirthDate</th>\n      <th>PreferredLanguage</th>\n      <th>Sex</th>\n      <th>SexAssignedAtBirth</th>\n      <th>GenderIdentity</th>\n      <th>Ethnicity</th>\n      <th>FirstRace</th>\n      <th>SecondRace</th>\n      <th>...</th>\n      <th>CCSR_code</th>\n      <th>CCSR_wSubstance</th>\n      <th>Ethnicity_v2</th>\n      <th>Merged_Gender</th>\n      <th>Race</th>\n      <th>Race_2</th>\n      <th>insurance_status</th>\n      <th>2021_Median_Hincome</th>\n      <th>2020_Median_Hincome</th>\n      <th>2019_Median_Hincome</th>\n    </tr>\n  </thead>\n  <tbody>\n    <tr>\n      <th>0</th>\n      <td>1000094</td>\n      <td>48.0</td>\n      <td>1974-12-10</td>\n      <td>English</td>\n      <td>Male</td>\n      <td>NaN</td>\n      <td>NaN</td>\n      <td>NaN</td>\n      <td>OTHER</td>\n      <td>NaN</td>\n      <td>...</td>\n      <td>Trauma- and stressor-related disorders</td>\n      <td>Trauma- and stressor-related disorders</td>\n      <td>NaN</td>\n      <td>Male</td>\n      <td>Other Race</td>\n      <td>Other Race</td>\n      <td>Private</td>\n      <td>33901.0</td>\n      <td>33801</td>\n      <td>33720</td>\n    </tr>\n    <tr>\n      <th>1</th>\n      <td>1000224</td>\n      <td>75.0</td>\n      <td>1947-09-29</td>\n      <td>English</td>\n      <td>Male</td>\n      <td>Male</td>\n      <td>Male</td>\n      <td>NaN</td>\n      <td>AFRICAN-AMERICAN</td>\n      <td>NaN</td>\n      <td>...</td>\n      <td>Anxiety and fear-related disorders</td>\n      <td>Anxiety and fear-related disorders</td>\n      <td>NaN</td>\n      <td>Male</td>\n      <td>Black or African-American</td>\n      <td>Black or African-American</td>\n      <td>Self-pay</td>\n      <td>55553.0</td>\n      <td>87397</td>\n      <td>75182</td>\n    </tr>\n    <tr>\n      <th>2</th>\n      <td>1000224</td>\n      <td>75.0</td>\n      <td>1947-09-29</td>\n      <td>English</td>\n      <td>Male</td>\n      <td>Male</td>\n      <td>Male</td>\n      <td>NaN</td>\n      <td>AFRICAN-AMERICAN</td>\n      <td>NaN</td>\n      <td>...</td>\n      <td>Tobacco-related disorders</td>\n      <td>Substance-related disorders</td>\n      <td>NaN</td>\n      <td>Male</td>\n      <td>Black or African-American</td>\n      <td>Black or African-American</td>\n      <td>NaN</td>\n      <td>55553.0</td>\n      <td>87397</td>\n      <td>75182</td>\n    </tr>\n    <tr>\n      <th>3</th>\n      <td>1000417</td>\n      <td>54.0</td>\n      <td>1968-05-25</td>\n      <td>English</td>\n      <td>Female</td>\n      <td>Female</td>\n      <td>Female</td>\n      <td>NaN</td>\n      <td>AFRICAN-AMERICAN</td>\n      <td>NaN</td>\n      <td>...</td>\n      <td>Depressive disorders</td>\n      <td>Depressive disorders</td>\n      <td>NaN</td>\n      <td>Female</td>\n      <td>Black or African-American</td>\n      <td>Black or African-American</td>\n      <td>Self-pay</td>\n      <td>50164.0</td>\n      <td>41363</td>\n      <td>42278</td>\n    </tr>\n    <tr>\n      <th>4</th>\n      <td>1000417</td>\n      <td>54.0</td>\n      <td>1968-05-25</td>\n      <td>English</td>\n      <td>Female</td>\n      <td>Female</td>\n      <td>Female</td>\n      <td>NaN</td>\n      <td>AFRICAN-AMERICAN</td>\n      <td>NaN</td>\n      <td>...</td>\n      <td>Anxiety and fear-related disorders</td>\n      <td>Anxiety and fear-related disorders</td>\n      <td>NaN</td>\n      <td>Female</td>\n      <td>Black or African-American</td>\n      <td>Black or African-American</td>\n      <td>Self-pay</td>\n      <td>50164.0</td>\n      <td>41363</td>\n      <td>42278</td>\n    </tr>\n    <tr>\n      <th>...</th>\n      <td>...</td>\n      <td>...</td>\n      <td>...</td>\n      <td>...</td>\n      <td>...</td>\n      <td>...</td>\n      <td>...</td>\n      <td>...</td>\n      <td>...</td>\n      <td>...</td>\n      <td>...</td>\n      <td>...</td>\n      <td>...</td>\n      <td>...</td>\n      <td>...</td>\n      <td>...</td>\n      <td>...</td>\n      <td>...</td>\n      <td>...</td>\n      <td>...</td>\n      <td>...</td>\n    </tr>\n    <tr>\n      <th>475697</th>\n      <td>X400206</td>\n      <td>122.0</td>\n      <td>1900-11-06</td>\n      <td>English</td>\n      <td>Male</td>\n      <td>NaN</td>\n      <td>NaN</td>\n      <td>NaN</td>\n      <td>WHITE</td>\n      <td>NaN</td>\n      <td>...</td>\n      <td>Alcohol-related disorders</td>\n      <td>Substance-related disorders</td>\n      <td>NaN</td>\n      <td>Male</td>\n      <td>White</td>\n      <td>White</td>\n      <td>Self-pay</td>\n      <td>105538.0</td>\n      <td>101651</td>\n      <td>103792</td>\n    </tr>\n    <tr>\n      <th>475698</th>\n      <td>X400207</td>\n      <td>36.0</td>\n      <td>1986-07-26</td>\n      <td>English</td>\n      <td>Male</td>\n      <td>NaN</td>\n      <td>NaN</td>\n      <td>NaN</td>\n      <td>OTHER</td>\n      <td>NaN</td>\n      <td>...</td>\n      <td>Alcohol-related disorders</td>\n      <td>Substance-related disorders</td>\n      <td>NaN</td>\n      <td>Male</td>\n      <td>Other Race</td>\n      <td>Other Race</td>\n      <td>Self-pay</td>\n      <td>89027.0</td>\n      <td>93397</td>\n      <td>88130</td>\n    </tr>\n    <tr>\n      <th>475699</th>\n      <td>X400208</td>\n      <td>26.0</td>\n      <td>1996-12-13</td>\n      <td>English</td>\n      <td>Male</td>\n      <td>NaN</td>\n      <td>NaN</td>\n      <td>NaN</td>\n      <td>AFRICAN-AMERICAN</td>\n      <td>NaN</td>\n      <td>...</td>\n      <td>Alcohol-related disorders</td>\n      <td>Substance-related disorders</td>\n      <td>NaN</td>\n      <td>Male</td>\n      <td>Black or African-American</td>\n      <td>Black or African-American</td>\n      <td>Self-pay</td>\n      <td>NaN</td>\n      <td>NaN</td>\n      <td>NaN</td>\n    </tr>\n    <tr>\n      <th>475700</th>\n      <td>X400209</td>\n      <td>26.0</td>\n      <td>1996-11-24</td>\n      <td>English</td>\n      <td>Male</td>\n      <td>NaN</td>\n      <td>NaN</td>\n      <td>NaN</td>\n      <td>OTHER</td>\n      <td>NaN</td>\n      <td>...</td>\n      <td>Alcohol-related disorders</td>\n      <td>Substance-related disorders</td>\n      <td>NaN</td>\n      <td>Male</td>\n      <td>Other Race</td>\n      <td>Other Race</td>\n      <td>Self-pay</td>\n      <td>105538.0</td>\n      <td>101651</td>\n      <td>103792</td>\n    </tr>\n    <tr>\n      <th>475701</th>\n      <td>Y900008</td>\n      <td>44.0</td>\n      <td>1978-10-20</td>\n      <td>English</td>\n      <td>Male</td>\n      <td>Male</td>\n      <td>Male</td>\n      <td>NaN</td>\n      <td>OTHER</td>\n      <td>NaN</td>\n      <td>...</td>\n      <td>Alcohol-related disorders</td>\n      <td>Substance-related disorders</td>\n      <td>NaN</td>\n      <td>Male</td>\n      <td>Other Race</td>\n      <td>Other Race</td>\n      <td>Public</td>\n      <td>67241.0</td>\n      <td>61239</td>\n      <td>60659</td>\n    </tr>\n  </tbody>\n</table>\n<p>475702 rows × 32 columns</p>\n</div>"
     },
     "execution_count": 45,
     "metadata": {},
     "output_type": "execute_result"
    }
   ],
   "source": [
    "controls_clean = pd.merge(controls_clean,income, on=['PostalCode'], how='left')\n",
    "controls_clean"
   ],
   "metadata": {
    "collapsed": false,
    "pycharm": {
     "name": "#%%\n"
    }
   }
  },
  {
   "cell_type": "code",
   "execution_count": 47,
   "outputs": [
    {
     "data": {
      "text/plain": "       PrimaryMrn  AgeInYears   BirthDate PreferredLanguage     Sex  \\\n0         1000094        48.0  1974-12-10           English    Male   \n1         1000224        75.0  1947-09-29           English    Male   \n2         1000224        75.0  1947-09-29           English    Male   \n3         1000417        54.0  1968-05-25           English  Female   \n4         1000417        54.0  1968-05-25           English  Female   \n...           ...         ...         ...               ...     ...   \n475697    X400206       122.0  1900-11-06           English    Male   \n475698    X400207        36.0  1986-07-26           English    Male   \n475699    X400208        26.0  1996-12-13           English    Male   \n475700    X400209        26.0  1996-11-24           English    Male   \n475701    Y900008        44.0  1978-10-20           English    Male   \n\n       SexAssignedAtBirth GenderIdentity Ethnicity         FirstRace  \\\n0                     NaN            NaN       NaN             OTHER   \n1                    Male           Male       NaN  AFRICAN-AMERICAN   \n2                    Male           Male       NaN  AFRICAN-AMERICAN   \n3                  Female         Female       NaN  AFRICAN-AMERICAN   \n4                  Female         Female       NaN  AFRICAN-AMERICAN   \n...                   ...            ...       ...               ...   \n475697                NaN            NaN       NaN             WHITE   \n475698                NaN            NaN       NaN             OTHER   \n475699                NaN            NaN       NaN  AFRICAN-AMERICAN   \n475700                NaN            NaN       NaN             OTHER   \n475701               Male           Male       NaN             OTHER   \n\n       SecondRace  ...                         CCSR_wSubstance  Ethnicity_v2  \\\n0             NaN  ...  Trauma- and stressor-related disorders           NaN   \n1             NaN  ...      Anxiety and fear-related disorders           NaN   \n2             NaN  ...             Substance-related disorders           NaN   \n3             NaN  ...                    Depressive disorders           NaN   \n4             NaN  ...      Anxiety and fear-related disorders           NaN   \n...           ...  ...                                     ...           ...   \n475697        NaN  ...             Substance-related disorders           NaN   \n475698        NaN  ...             Substance-related disorders           NaN   \n475699        NaN  ...             Substance-related disorders           NaN   \n475700        NaN  ...             Substance-related disorders           NaN   \n475701        NaN  ...             Substance-related disorders           NaN   \n\n       Merged_Gender                       Race                     Race_2  \\\n0               Male                 Other Race                 Other Race   \n1               Male  Black or African-American  Black or African-American   \n2               Male  Black or African-American  Black or African-American   \n3             Female  Black or African-American  Black or African-American   \n4             Female  Black or African-American  Black or African-American   \n...              ...                        ...                        ...   \n475697          Male                      White                      White   \n475698          Male                 Other Race                 Other Race   \n475699          Male  Black or African-American  Black or African-American   \n475700          Male                 Other Race                 Other Race   \n475701          Male                 Other Race                 Other Race   \n\n        insurance_status 2021_Median_Hincome 2020_Median_Hincome  \\\n0                Private             33901.0               33801   \n1               Self-pay             55553.0               87397   \n2                    NaN             55553.0               87397   \n3               Self-pay             50164.0               41363   \n4               Self-pay             50164.0               41363   \n...                  ...                 ...                 ...   \n475697          Self-pay            105538.0              101651   \n475698          Self-pay             89027.0               93397   \n475699          Self-pay                 NaN                 NaN   \n475700          Self-pay            105538.0              101651   \n475701            Public             67241.0               61239   \n\n       2019_Median_Hincome      ZIPINC_QRTL  \n0                    33720          <52,000  \n1                    75182  52,000 - 65,999  \n2                    75182  52,000 - 65,999  \n3                    42278          <52,000  \n4                    42278          <52,000  \n...                    ...              ...  \n475697              103792          88,000+  \n475698               88130          88,000+  \n475699                 NaN             None  \n475700              103792          88,000+  \n475701               60659  66,000 - 87,999  \n\n[475702 rows x 33 columns]",
      "text/html": "<div>\n<style scoped>\n    .dataframe tbody tr th:only-of-type {\n        vertical-align: middle;\n    }\n\n    .dataframe tbody tr th {\n        vertical-align: top;\n    }\n\n    .dataframe thead th {\n        text-align: right;\n    }\n</style>\n<table border=\"1\" class=\"dataframe\">\n  <thead>\n    <tr style=\"text-align: right;\">\n      <th></th>\n      <th>PrimaryMrn</th>\n      <th>AgeInYears</th>\n      <th>BirthDate</th>\n      <th>PreferredLanguage</th>\n      <th>Sex</th>\n      <th>SexAssignedAtBirth</th>\n      <th>GenderIdentity</th>\n      <th>Ethnicity</th>\n      <th>FirstRace</th>\n      <th>SecondRace</th>\n      <th>...</th>\n      <th>CCSR_wSubstance</th>\n      <th>Ethnicity_v2</th>\n      <th>Merged_Gender</th>\n      <th>Race</th>\n      <th>Race_2</th>\n      <th>insurance_status</th>\n      <th>2021_Median_Hincome</th>\n      <th>2020_Median_Hincome</th>\n      <th>2019_Median_Hincome</th>\n      <th>ZIPINC_QRTL</th>\n    </tr>\n  </thead>\n  <tbody>\n    <tr>\n      <th>0</th>\n      <td>1000094</td>\n      <td>48.0</td>\n      <td>1974-12-10</td>\n      <td>English</td>\n      <td>Male</td>\n      <td>NaN</td>\n      <td>NaN</td>\n      <td>NaN</td>\n      <td>OTHER</td>\n      <td>NaN</td>\n      <td>...</td>\n      <td>Trauma- and stressor-related disorders</td>\n      <td>NaN</td>\n      <td>Male</td>\n      <td>Other Race</td>\n      <td>Other Race</td>\n      <td>Private</td>\n      <td>33901.0</td>\n      <td>33801</td>\n      <td>33720</td>\n      <td>&lt;52,000</td>\n    </tr>\n    <tr>\n      <th>1</th>\n      <td>1000224</td>\n      <td>75.0</td>\n      <td>1947-09-29</td>\n      <td>English</td>\n      <td>Male</td>\n      <td>Male</td>\n      <td>Male</td>\n      <td>NaN</td>\n      <td>AFRICAN-AMERICAN</td>\n      <td>NaN</td>\n      <td>...</td>\n      <td>Anxiety and fear-related disorders</td>\n      <td>NaN</td>\n      <td>Male</td>\n      <td>Black or African-American</td>\n      <td>Black or African-American</td>\n      <td>Self-pay</td>\n      <td>55553.0</td>\n      <td>87397</td>\n      <td>75182</td>\n      <td>52,000 - 65,999</td>\n    </tr>\n    <tr>\n      <th>2</th>\n      <td>1000224</td>\n      <td>75.0</td>\n      <td>1947-09-29</td>\n      <td>English</td>\n      <td>Male</td>\n      <td>Male</td>\n      <td>Male</td>\n      <td>NaN</td>\n      <td>AFRICAN-AMERICAN</td>\n      <td>NaN</td>\n      <td>...</td>\n      <td>Substance-related disorders</td>\n      <td>NaN</td>\n      <td>Male</td>\n      <td>Black or African-American</td>\n      <td>Black or African-American</td>\n      <td>NaN</td>\n      <td>55553.0</td>\n      <td>87397</td>\n      <td>75182</td>\n      <td>52,000 - 65,999</td>\n    </tr>\n    <tr>\n      <th>3</th>\n      <td>1000417</td>\n      <td>54.0</td>\n      <td>1968-05-25</td>\n      <td>English</td>\n      <td>Female</td>\n      <td>Female</td>\n      <td>Female</td>\n      <td>NaN</td>\n      <td>AFRICAN-AMERICAN</td>\n      <td>NaN</td>\n      <td>...</td>\n      <td>Depressive disorders</td>\n      <td>NaN</td>\n      <td>Female</td>\n      <td>Black or African-American</td>\n      <td>Black or African-American</td>\n      <td>Self-pay</td>\n      <td>50164.0</td>\n      <td>41363</td>\n      <td>42278</td>\n      <td>&lt;52,000</td>\n    </tr>\n    <tr>\n      <th>4</th>\n      <td>1000417</td>\n      <td>54.0</td>\n      <td>1968-05-25</td>\n      <td>English</td>\n      <td>Female</td>\n      <td>Female</td>\n      <td>Female</td>\n      <td>NaN</td>\n      <td>AFRICAN-AMERICAN</td>\n      <td>NaN</td>\n      <td>...</td>\n      <td>Anxiety and fear-related disorders</td>\n      <td>NaN</td>\n      <td>Female</td>\n      <td>Black or African-American</td>\n      <td>Black or African-American</td>\n      <td>Self-pay</td>\n      <td>50164.0</td>\n      <td>41363</td>\n      <td>42278</td>\n      <td>&lt;52,000</td>\n    </tr>\n    <tr>\n      <th>...</th>\n      <td>...</td>\n      <td>...</td>\n      <td>...</td>\n      <td>...</td>\n      <td>...</td>\n      <td>...</td>\n      <td>...</td>\n      <td>...</td>\n      <td>...</td>\n      <td>...</td>\n      <td>...</td>\n      <td>...</td>\n      <td>...</td>\n      <td>...</td>\n      <td>...</td>\n      <td>...</td>\n      <td>...</td>\n      <td>...</td>\n      <td>...</td>\n      <td>...</td>\n      <td>...</td>\n    </tr>\n    <tr>\n      <th>475697</th>\n      <td>X400206</td>\n      <td>122.0</td>\n      <td>1900-11-06</td>\n      <td>English</td>\n      <td>Male</td>\n      <td>NaN</td>\n      <td>NaN</td>\n      <td>NaN</td>\n      <td>WHITE</td>\n      <td>NaN</td>\n      <td>...</td>\n      <td>Substance-related disorders</td>\n      <td>NaN</td>\n      <td>Male</td>\n      <td>White</td>\n      <td>White</td>\n      <td>Self-pay</td>\n      <td>105538.0</td>\n      <td>101651</td>\n      <td>103792</td>\n      <td>88,000+</td>\n    </tr>\n    <tr>\n      <th>475698</th>\n      <td>X400207</td>\n      <td>36.0</td>\n      <td>1986-07-26</td>\n      <td>English</td>\n      <td>Male</td>\n      <td>NaN</td>\n      <td>NaN</td>\n      <td>NaN</td>\n      <td>OTHER</td>\n      <td>NaN</td>\n      <td>...</td>\n      <td>Substance-related disorders</td>\n      <td>NaN</td>\n      <td>Male</td>\n      <td>Other Race</td>\n      <td>Other Race</td>\n      <td>Self-pay</td>\n      <td>89027.0</td>\n      <td>93397</td>\n      <td>88130</td>\n      <td>88,000+</td>\n    </tr>\n    <tr>\n      <th>475699</th>\n      <td>X400208</td>\n      <td>26.0</td>\n      <td>1996-12-13</td>\n      <td>English</td>\n      <td>Male</td>\n      <td>NaN</td>\n      <td>NaN</td>\n      <td>NaN</td>\n      <td>AFRICAN-AMERICAN</td>\n      <td>NaN</td>\n      <td>...</td>\n      <td>Substance-related disorders</td>\n      <td>NaN</td>\n      <td>Male</td>\n      <td>Black or African-American</td>\n      <td>Black or African-American</td>\n      <td>Self-pay</td>\n      <td>NaN</td>\n      <td>NaN</td>\n      <td>NaN</td>\n      <td>None</td>\n    </tr>\n    <tr>\n      <th>475700</th>\n      <td>X400209</td>\n      <td>26.0</td>\n      <td>1996-11-24</td>\n      <td>English</td>\n      <td>Male</td>\n      <td>NaN</td>\n      <td>NaN</td>\n      <td>NaN</td>\n      <td>OTHER</td>\n      <td>NaN</td>\n      <td>...</td>\n      <td>Substance-related disorders</td>\n      <td>NaN</td>\n      <td>Male</td>\n      <td>Other Race</td>\n      <td>Other Race</td>\n      <td>Self-pay</td>\n      <td>105538.0</td>\n      <td>101651</td>\n      <td>103792</td>\n      <td>88,000+</td>\n    </tr>\n    <tr>\n      <th>475701</th>\n      <td>Y900008</td>\n      <td>44.0</td>\n      <td>1978-10-20</td>\n      <td>English</td>\n      <td>Male</td>\n      <td>Male</td>\n      <td>Male</td>\n      <td>NaN</td>\n      <td>OTHER</td>\n      <td>NaN</td>\n      <td>...</td>\n      <td>Substance-related disorders</td>\n      <td>NaN</td>\n      <td>Male</td>\n      <td>Other Race</td>\n      <td>Other Race</td>\n      <td>Public</td>\n      <td>67241.0</td>\n      <td>61239</td>\n      <td>60659</td>\n      <td>66,000 - 87,999</td>\n    </tr>\n  </tbody>\n</table>\n<p>475702 rows × 33 columns</p>\n</div>"
     },
     "execution_count": 47,
     "metadata": {},
     "output_type": "execute_result"
    }
   ],
   "source": [
    "controls_clean['2021_Median_Hincome'] = controls_clean['2021_Median_Hincome'].replace(['250,000+'],'250000')\n",
    "controls_clean['2021_Median_Hincome']=controls_clean['2021_Median_Hincome'].values.astype(float)\n",
    "def income_range(x):\n",
    "    income = x['2021_Median_Hincome']\n",
    "    if income < 52000:\n",
    "        return '<52,000'\n",
    "    if 52000 <= income <= 65999:\n",
    "        return '52,000 - 65,999'\n",
    "    if 66000 <= income <= 87999:\n",
    "        return '66,000 - 87,999'\n",
    "    if 88000 <= income :\n",
    "        return '88,000+'\n",
    "\n",
    "controls_clean['ZIPINC_QRTL'] = controls_clean.apply(lambda row: income_range(row), axis=1)\n",
    "controls_clean"
   ],
   "metadata": {
    "collapsed": false,
    "pycharm": {
     "name": "#%%\n"
    }
   }
  },
  {
   "cell_type": "code",
   "execution_count": 48,
   "outputs": [],
   "source": [
    "matched_controls = controls_clean[['PrimaryMrn', 'AgeInYears', 'BirthDate', 'PreferredLanguage', 'SexualOrientation',\n",
    "                                   'PostalCode', 'EncounterKey', 'AgeAtVisit', 'VisitDate', 'VisitType', 'VisitType2',\n",
    "                                   'Value', 'DisplayString', 'CCSR_code', 'CCSR_wSubstance', 'Merged_Gender', 'Race_2',\n",
    "                                'insurance_status', '2021_Median_Hincome', 'ZIPINC_QRTL']]"
   ],
   "metadata": {
    "collapsed": false,
    "pycharm": {
     "name": "#%%\n"
    }
   }
  },
  {
   "cell_type": "code",
   "execution_count": 18,
   "outputs": [],
   "source": [
    "def current_age_range(x):\n",
    "    age = x.AgeInYears\n",
    "    if age < 18:\n",
    "        return '<18'\n",
    "    if 18 <= age <= 24:\n",
    "        return '18-24'\n",
    "    if 25 <= age <= 34:\n",
    "        return '25-34'\n",
    "    if 35 <= age <= 44:\n",
    "        return '35-44'\n",
    "    if 45 <= age <= 54:\n",
    "        return '45-54'\n",
    "    if 55 <= age <= 64:\n",
    "        return '55-64'\n",
    "    if 65 <= age <= 74:\n",
    "        return '65-74'\n",
    "    if 75 <= age <= 84:\n",
    "        return '75-84'\n",
    "    if 85 <= age:\n",
    "        return '85+'\n",
    "\n",
    "\n",
    "# controls_clean['Age_group'] = controls_clean.apply(lambda row: age_range_at_diagnosis(row), axis=1)\n",
    "\n",
    "matched_controls['Age_group'] = matched_controls.apply(lambda row: current_age_range(row), axis=1)"
   ],
   "metadata": {
    "collapsed": false,
    "pycharm": {
     "name": "#%%\n"
    }
   }
  },
  {
   "cell_type": "code",
   "execution_count": 20,
   "outputs": [],
   "source": [
    "matched_controls = matched_controls.dropna(subset = ['Age_group'])"
   ],
   "metadata": {
    "collapsed": false,
    "pycharm": {
     "name": "#%%\n"
    }
   }
  },
  {
   "cell_type": "code",
   "execution_count": 26,
   "outputs": [
    {
     "name": "stderr",
     "output_type": "stream",
     "text": [
      "/var/folders/xm/m4dy5bvs1fn7fb9wxjhsg4dc0000gn/T/ipykernel_8430/1983202160.py:1: DtypeWarning: Columns (0,5,21,22) have mixed types. Specify dtype option on import or set low_memory=False.\n",
      "  matched_controls = pd.read_csv('/Users/valena17/psych_nlp/data/all_sample_controls.csv')\n"
     ]
    }
   ],
   "source": [
    "matched_controls = pd.read_csv('/Users/valena17/psych_nlp/data/all_sample_controls.csv')"
   ],
   "metadata": {
    "collapsed": false,
    "pycharm": {
     "name": "#%%\n"
    }
   }
  },
  {
   "cell_type": "code",
   "execution_count": 5,
   "outputs": [],
   "source": [
    "matched_controls = matched_controls[matched_controls['CCSR_wSubstance'].isin(['Depressive disorders',\n",
    "                                                                            'Substance-related disorders',\n",
    "                                                                            'Bipolar and related disorders',\n",
    "                                                                            'Trauma- and stressor-related disorders',\n",
    "                                                                            'Anxiety and fear-related disorders'])]"
   ],
   "metadata": {
    "collapsed": false,
    "pycharm": {
     "name": "#%%\n"
    }
   }
  },
  {
   "cell_type": "code",
   "execution_count": 21,
   "outputs": [
    {
     "name": "stdout",
     "output_type": "stream",
     "text": [
      "263184\n",
      "Anxiety disorder, unspecified                                               50943\n",
      "Generalized anxiety disorder                                                37124\n",
      "Depression, unspecified                                                     20586\n",
      "Major depressive disorder, recurrent, moderate                              14568\n",
      "Adjustment disorder, unspecified                                            12574\n",
      "                                                                            ...  \n",
      "Other stimulant dependence with intoxication, uncomplicated                     1\n",
      "Other psychoactive substance dependence with intoxication, uncomplicated        1\n",
      "Other stimulant abuse with stimulant-induced anxiety disorder                   1\n",
      "Cannabis dependence with intoxication with perceptual disturbance               1\n",
      "Other stimulant abuse with withdrawal                                           1\n",
      "Name: DisplayString, Length: 385, dtype: int64 Anxiety and fear-related disorders             107884\n",
      "Depressive disorders                            90587\n",
      "Trauma- and stressor-related disorders          67301\n",
      "Alcohol-related disorders                       32797\n",
      "Bipolar and related disorders                   13382\n",
      "Tobacco-related disorders                       11104\n",
      "Other specified substance-related disorders      8993\n",
      "Opioid-related disorders                         6691\n",
      "Cannabis-related disorders                       3871\n",
      "Stimulant-related disorders                      2768\n",
      "Sedative-related disorders                        960\n",
      "Hallucinogen-related disorders                    368\n",
      "Inhalant-related disorders                         22\n",
      "Name: CCSR_code, dtype: int64 Anxiety and fear-related disorders        107884\n",
      "Depressive disorders                       90587\n",
      "Substance-related disorders                67574\n",
      "Trauma- and stressor-related disorders     67301\n",
      "Bipolar and related disorders              13382\n",
      "Name: CCSR_wSubstance, dtype: int64 Female                   199193\n",
      "Male                     144586\n",
      "Non-binary                 1235\n",
      "Transgender Female          612\n",
      "Transgender Male            389\n",
      "Gender Non-conforming       269\n",
      "Gender Queer                236\n",
      "Other                       208\n",
      "Name: Merged_Gender, dtype: int64 White                                        153696\n",
      "Other Race                                   100561\n",
      "Black or African-American                     65865\n",
      "Asian                                         11136\n",
      "Mixed racial group                             8591\n",
      "Hispanic or Latino                             4173\n",
      "Native Hawaiian or Other Pacific Islander      2249\n",
      "American Indian or Alaska Native                457\n",
      "Name: Race_2, dtype: int64 25-34    73865\n",
      "35-44    61116\n",
      "55-64    52036\n",
      "45-54    46545\n",
      "65-74    38165\n",
      "18-24    25818\n",
      "75-84    22273\n",
      "85+      15234\n",
      "<18      11676\n",
      "Name: Age_group, dtype: int64 Self-pay    128685\n",
      "NaN         116299\n",
      "Private      51737\n",
      "Public       50007\n",
      "Name: insurance_status, dtype: int64 88,000+            150231\n",
      "<52,000             80465\n",
      "66,000 - 87,999     50097\n",
      "52,000 - 65,999     47423\n",
      "NaN                 18512\n",
      "Name: ZIPINC_QRTL, dtype: int64\n"
     ]
    }
   ],
   "source": [
    "print(matched_controls.PrimaryMrn.nunique())\n",
    "print(matched_controls.DisplayString.value_counts(dropna=False),\n",
    "      matched_controls.CCSR_code.value_counts(dropna=False),\n",
    "      matched_controls.CCSR_wSubstance.value_counts(dropna=False),\n",
    "      matched_controls.Merged_Gender.value_counts(dropna=False),\n",
    "      matched_controls.Race_2.value_counts(dropna=False),\n",
    "      matched_controls.Age_group.value_counts(dropna=False),\n",
    "      matched_controls.insurance_status.value_counts(dropna=False),\n",
    "      matched_controls.ZIPINC_QRTL.value_counts(dropna=False))"
   ],
   "metadata": {
    "collapsed": false,
    "pycharm": {
     "name": "#%%\n"
    }
   }
  },
  {
   "cell_type": "code",
   "execution_count": 49,
   "outputs": [],
   "source": [
    "pd.DataFrame.to_csv(matched_controls, \"/Users/valena17/psych_nlp/data/all_sample_controls.csv\",index = False)"
   ],
   "metadata": {
    "collapsed": false,
    "pycharm": {
     "name": "#%%\n"
    }
   }
  },
  {
   "cell_type": "code",
   "execution_count": 12,
   "outputs": [
    {
     "name": "stdout",
     "output_type": "stream",
     "text": [
      "90588\n",
      "Depression, unspecified                                                                  20586\n",
      "Major depressive disorder, recurrent, moderate                                           14568\n",
      "Major depressive disorder, single episode, unspecified                                    9353\n",
      "Dysthymic disorder                                                                        8923\n",
      "Other specified depressive episodes                                                       8372\n",
      "Major depressive disorder, recurrent, unspecified                                         5577\n",
      "Major depressive disorder, single episode, moderate                                       4869\n",
      "Major depressive disorder, recurrent severe without psychotic features                    4795\n",
      "Major depressive disorder, recurrent, mild                                                3910\n",
      "Major depressive disorder, single episode, mild                                           2630\n",
      "Major depressive disorder, single episode, severe without psychotic features              1982\n",
      "Major depressive disorder, recurrent, severe with psychotic symptoms                      1428\n",
      "Major depressive disorder, recurrent, in partial remission                                1194\n",
      "Premenstrual dysphoric disorder                                                            717\n",
      "Major depressive disorder, single episode, severe with psychotic features                  490\n",
      "Major depressive disorder, single episode, in partial remission                            462\n",
      "Mood disorder due to known physiological condition with depressive features                311\n",
      "Other recurrent depressive disorders                                                       244\n",
      "Other depressive episodes                                                                  140\n",
      "Mood disorder due to known physiological condition with major depressive-like episode       37\n",
      "Name: DisplayString, dtype: int64 Depressive disorders    90588\n",
      "Name: CCSR_code, dtype: int64 Depressive disorders    90588\n",
      "Name: CCSR_wSubstance, dtype: int64 Female                   59875\n",
      "Male                     29775\n",
      "Non-binary                 400\n",
      "Transgender Female         168\n",
      "Transgender Male           129\n",
      "Gender Non-conforming       89\n",
      "Other                       76\n",
      "Gender Queer                76\n",
      "Name: Merged_Gender, dtype: int64 White                                        41245\n",
      "Other Race                                   26394\n",
      "Black or African-American                    15278\n",
      "Asian                                         2940\n",
      "Mixed racial group                            2412\n",
      "Hispanic or Latino                            1574\n",
      "Native Hawaiian or Other Pacific Islander      622\n",
      "American Indian or Alaska Native               123\n",
      "Name: Race_2, dtype: int64 25-34    17085\n",
      "45-54    13592\n",
      "35-44    12751\n",
      "55-64    12414\n",
      "65-74    10011\n",
      "18-24     8829\n",
      "<18       7266\n",
      "75-84     5765\n",
      "85+       2875\n",
      "Name: Age_group, dtype: int64 NaN         37371\n",
      "Self-pay    31805\n",
      "Private     12063\n",
      "Public       9349\n",
      "Name: insurance_status, dtype: int64 88,000+            37468\n",
      "<52,000            22607\n",
      "52,000 - 65,999    13568\n",
      "66,000 - 87,999    13148\n",
      "NaN                 3797\n",
      "Name: ZIPINC_QRTL, dtype: int64\n"
     ]
    }
   ],
   "source": [
    "matched_controls_depressed = matched_controls[matched_controls['CCSR_wSubstance'].isin(['Depressive disorders'])]\n",
    "print(matched_controls_depressed.PrimaryMrn.nunique())\n",
    "print(matched_controls_depressed.DisplayString.value_counts(dropna=False),\n",
    "      matched_controls_depressed.CCSR_code.value_counts(dropna=False),\n",
    "      matched_controls_depressed.CCSR_wSubstance.value_counts(dropna=False),\n",
    "      matched_controls_depressed.Merged_Gender.value_counts(dropna=False),\n",
    "      matched_controls_depressed.Race_2.value_counts(dropna=False),\n",
    "      matched_controls_depressed.Age_group.value_counts(dropna=False),\n",
    "      matched_controls_depressed.insurance_status.value_counts(dropna=False),\n",
    "      matched_controls_depressed.ZIPINC_QRTL.value_counts(dropna=False))"
   ],
   "metadata": {
    "collapsed": false,
    "pycharm": {
     "name": "#%%\n"
    }
   }
  },
  {
   "cell_type": "code",
   "execution_count": 13,
   "outputs": [
    {
     "name": "stdout",
     "output_type": "stream",
     "text": [
      "67575\n",
      "Alcohol abuse, uncomplicated                                         8883\n",
      "Nicotine dependence, unspecified, uncomplicated                      8768\n",
      "Alcohol dependence with intoxication, uncomplicated                  6837\n",
      "Alcohol use, unspecified with intoxication, uncomplicated            6611\n",
      "Other psychoactive substance abuse, uncomplicated                    3436\n",
      "                                                                     ... \n",
      "Other stimulant abuse with stimulant-induced anxiety disorder           1\n",
      "Other stimulant abuse with intoxication delirium                        1\n",
      "Cannabis dependence with intoxication with perceptual disturbance       1\n",
      "Opioid abuse with unspecified opioid-induced disorder                   1\n",
      "Other stimulant abuse with withdrawal                                   1\n",
      "Name: DisplayString, Length: 276, dtype: int64 Alcohol-related disorders                      32797\n",
      "Tobacco-related disorders                      11104\n",
      "Other specified substance-related disorders     8993\n",
      "Opioid-related disorders                        6691\n",
      "Cannabis-related disorders                      3871\n",
      "Stimulant-related disorders                     2769\n",
      "Sedative-related disorders                       960\n",
      "Hallucinogen-related disorders                   368\n",
      "Inhalant-related disorders                        22\n",
      "Name: CCSR_code, dtype: int64 Substance-related disorders    67575\n",
      "Name: CCSR_wSubstance, dtype: int64 Male                     45879\n",
      "Female                   21436\n",
      "Transgender Female          93\n",
      "Non-binary                  76\n",
      "Transgender Male            28\n",
      "Gender Non-conforming       26\n",
      "Gender Queer                20\n",
      "Other                       17\n",
      "Name: Merged_Gender, dtype: int64 Other Race                                   24305\n",
      "White                                        21354\n",
      "Black or African-American                    18549\n",
      "Asian                                         1693\n",
      "Mixed racial group                             745\n",
      "Hispanic or Latino                             557\n",
      "Native Hawaiian or Other Pacific Islander      316\n",
      "American Indian or Alaska Native                56\n",
      "Name: Race_2, dtype: int64 25-34    14260\n",
      "45-54    12944\n",
      "35-44    12659\n",
      "55-64    11753\n",
      "18-24     7233\n",
      "65-74     4683\n",
      "85+       1797\n",
      "<18       1164\n",
      "75-84     1082\n",
      "Name: Age_group, dtype: int64 Self-pay    34374\n",
      "Public      16608\n",
      "NaN          9370\n",
      "Private      7223\n",
      "Name: insurance_status, dtype: int64 88,000+            27279\n",
      "<52,000            15837\n",
      "66,000 - 87,999    10048\n",
      "52,000 - 65,999     8926\n",
      "NaN                 5485\n",
      "Name: ZIPINC_QRTL, dtype: int64\n"
     ]
    }
   ],
   "source": [
    "matched_controls_substance = matched_controls[matched_controls['CCSR_wSubstance'].isin(['Substance-related disorders'])]\n",
    "print(matched_controls_substance.PrimaryMrn.nunique())\n",
    "print(matched_controls_substance.DisplayString.value_counts(dropna=False),\n",
    "      matched_controls_substance.CCSR_code.value_counts(dropna=False),\n",
    "      matched_controls_substance.CCSR_wSubstance.value_counts(dropna=False),\n",
    "      matched_controls_substance.Merged_Gender.value_counts(dropna=False),\n",
    "      matched_controls_substance.Race_2.value_counts(dropna=False),\n",
    "      matched_controls_substance.Age_group.value_counts(dropna=False),\n",
    "      matched_controls_substance.insurance_status.value_counts(dropna=False),\n",
    "      matched_controls_substance.ZIPINC_QRTL.value_counts(dropna=False))"
   ],
   "metadata": {
    "collapsed": false,
    "pycharm": {
     "name": "#%%\n"
    }
   }
  },
  {
   "cell_type": "code",
   "execution_count": 14,
   "outputs": [
    {
     "name": "stdout",
     "output_type": "stream",
     "text": [
      "13382\n",
      "Bipolar disorder, unspecified                                                          5137\n",
      "Bipolar II disorder                                                                    1808\n",
      "Bipolar disorder, current episode depressed, moderate                                   574\n",
      "Manic episode, unspecified                                                              570\n",
      "Bipolar disorder, current episode manic without psychotic features, unspecified         560\n",
      "Bipolar disorder, current episode depressed, mild or moderate severity, unspecified     493\n",
      "Other bipolar disorder                                                                  457\n",
      "Bipolar disorder, current episode manic severe with psychotic features                  442\n",
      "Bipolar disorder, current episode mixed, unspecified                                    410\n",
      "Bipolar disorder, current episode depressed, severe, without psychotic features         303\n",
      "Bipolar disorder, current episode manic without psychotic features, moderate            278\n",
      "Bipolar disorder, current episode depressed, mild                                       268\n",
      "Bipolar disorder, current episode depressed, severe, with psychotic features            240\n",
      "Bipolar disorder, current episode hypomanic                                             230\n",
      "Bipolar disorder, current episode mixed, moderate                                       212\n",
      "Bipolar disorder, current episode mixed, severe, with psychotic features                163\n",
      "Cyclothymic disorder                                                                    163\n",
      "Bipolar disorder, current episode manic without psychotic features, mild                125\n",
      "Bipolar disorder, in partial remission, most recent episode depressed                   118\n",
      "Bipolar disorder, current episode manic without psychotic features, severe              114\n",
      "Bipolar disorder, current episode mixed, mild                                            99\n",
      "Bipolar disorder, current episode mixed, severe, without psychotic features              96\n",
      "Bipolar disorder, in partial remission, most recent episode manic                        93\n",
      "Mood disorder due to known physiological condition with mixed features                   81\n",
      "Bipolar disorder, in partial remission, most recent episode mixed                        67\n",
      "Other manic episodes                                                                     57\n",
      "Bipolar disorder, in partial remission, most recent episode hypomanic                    47\n",
      "Manic episode without psychotic symptoms, unspecified                                    40\n",
      "Manic episode, severe with psychotic symptoms                                            38\n",
      "Mood disorder due to known physiological condition with manic features                   33\n",
      "Manic episode without psychotic symptoms, mild                                           21\n",
      "Manic episode without psychotic symptoms, moderate                                       20\n",
      "Manic episode in partial remission                                                       16\n",
      "Manic episode, severe, without psychotic symptoms                                         9\n",
      "Name: DisplayString, dtype: int64 Bipolar and related disorders    13382\n",
      "Name: CCSR_code, dtype: int64 Bipolar and related disorders    13382\n",
      "Name: CCSR_wSubstance, dtype: int64 Female                   7886\n",
      "Male                     5307\n",
      "Non-binary                 78\n",
      "Transgender Female         46\n",
      "Transgender Male           31\n",
      "Other                      14\n",
      "Gender Non-conforming      12\n",
      "Gender Queer                8\n",
      "Name: Merged_Gender, dtype: int64 White                                        5716\n",
      "Other Race                                   3890\n",
      "Black or African-American                    2906\n",
      "Asian                                         324\n",
      "Mixed racial group                            284\n",
      "Hispanic or Latino                            166\n",
      "Native Hawaiian or Other Pacific Islander      81\n",
      "American Indian or Alaska Native               15\n",
      "Name: Race_2, dtype: int64 25-34    2954\n",
      "45-54    2571\n",
      "35-44    2346\n",
      "55-64    1883\n",
      "18-24    1584\n",
      "65-74    1118\n",
      "<18       448\n",
      "75-84     383\n",
      "85+        95\n",
      "Name: Age_group, dtype: int64 NaN         6730\n",
      "Self-pay    3631\n",
      "Public      1801\n",
      "Private     1220\n",
      "Name: insurance_status, dtype: int64 88,000+            5068\n",
      "<52,000            3525\n",
      "52,000 - 65,999    2143\n",
      "66,000 - 87,999    1982\n",
      "NaN                 664\n",
      "Name: ZIPINC_QRTL, dtype: int64\n"
     ]
    }
   ],
   "source": [
    "matched_controls_bipolar = matched_controls[matched_controls['CCSR_wSubstance'].isin(['Bipolar and related disorders'])]\n",
    "print(matched_controls_bipolar.PrimaryMrn.nunique())\n",
    "print(matched_controls_bipolar.DisplayString.value_counts(dropna=False),\n",
    "      matched_controls_bipolar.CCSR_code.value_counts(dropna=False),\n",
    "      matched_controls_bipolar.CCSR_wSubstance.value_counts(dropna=False),\n",
    "      matched_controls_bipolar.Merged_Gender.value_counts(dropna=False),\n",
    "      matched_controls_bipolar.Race_2.value_counts(dropna=False),\n",
    "      matched_controls_bipolar.Age_group.value_counts(dropna=False),\n",
    "      matched_controls_bipolar.insurance_status.value_counts(dropna=False),\n",
    "      matched_controls_bipolar.ZIPINC_QRTL.value_counts(dropna=False))"
   ],
   "metadata": {
    "collapsed": false,
    "pycharm": {
     "name": "#%%\n"
    }
   }
  },
  {
   "cell_type": "code",
   "execution_count": 15,
   "outputs": [
    {
     "name": "stdout",
     "output_type": "stream",
     "text": [
      "67303\n",
      "Adjustment disorder, unspecified                                      12574\n",
      "Adjustment disorder with mixed anxiety and depressed mood             11610\n",
      "Adjustment disorder with depressed mood                                9866\n",
      "Post-traumatic stress disorder, unspecified                            9029\n",
      "Adjustment disorder with anxiety                                       8178\n",
      "Adjustment disorder with disturbance of conduct                        3993\n",
      "Adjustment disorder with mixed disturbance of emotions and conduct     3613\n",
      "Reaction to severe stress, unspecified                                 2099\n",
      "Acute stress reaction                                                  1885\n",
      "Adjustment disorder with other symptoms                                1720\n",
      "Post-traumatic stress disorder, chronic                                1043\n",
      "Other reactions to severe stress                                        380\n",
      "Dissociative and conversion disorder, unspecified                       347\n",
      "Conversion disorder with seizures or convulsions                        325\n",
      "Conversion disorder with motor symptom or deficit                       159\n",
      "Other dissociative and conversion disorders                             127\n",
      "Post-traumatic stress disorder, acute                                   101\n",
      "Prolonged grief disorder                                                 45\n",
      "Conversion disorder with mixed symptom presentation                      42\n",
      "Depersonalization-derealization syndrome                                 41\n",
      "Conversion disorder with sensory symptom or deficit                      41\n",
      "Dissociative fugue                                                       31\n",
      "Dissociative identity disorder                                           20\n",
      "Reactive attachment disorder of childhood                                16\n",
      "Dissociative amnesia                                                     12\n",
      "Dissociative stupor                                                       3\n",
      "Disinhibited attachment disorder of childhood                             3\n",
      "Name: DisplayString, dtype: int64 Trauma- and stressor-related disorders    67303\n",
      "Name: CCSR_code, dtype: int64 Trauma- and stressor-related disorders    67303\n",
      "Name: CCSR_wSubstance, dtype: int64 Female                   40153\n",
      "Male                     26513\n",
      "Non-binary                 255\n",
      "Transgender Female         153\n",
      "Transgender Male            92\n",
      "Gender Non-conforming       53\n",
      "Gender Queer                47\n",
      "Other                       37\n",
      "Name: Merged_Gender, dtype: int64 White                                        22591\n",
      "Other Race                                   22141\n",
      "Black or African-American                    17229\n",
      "Asian                                         2271\n",
      "Mixed racial group                            1593\n",
      "Hispanic or Latino                             876\n",
      "Native Hawaiian or Other Pacific Islander      469\n",
      "American Indian or Alaska Native               133\n",
      "Name: Race_2, dtype: int64 <18      12558\n",
      "25-34    12236\n",
      "18-24     9398\n",
      "35-44     9169\n",
      "45-54     8422\n",
      "55-64     6975\n",
      "65-74     4623\n",
      "75-84     2460\n",
      "85+       1462\n",
      "Name: Age_group, dtype: int64 NaN         25097\n",
      "Self-pay    22713\n",
      "Public      12061\n",
      "Private      7432\n",
      "Name: insurance_status, dtype: int64 88,000+            25297\n",
      "<52,000            20116\n",
      "52,000 - 65,999    10098\n",
      "66,000 - 87,999     8651\n",
      "NaN                 3141\n",
      "Name: ZIPINC_QRTL, dtype: int64\n"
     ]
    }
   ],
   "source": [
    "matched_controls_trauma = matched_controls[matched_controls['CCSR_wSubstance'].isin(['Trauma- and stressor-related disorders'])]\n",
    "print(matched_controls_trauma.PrimaryMrn.nunique())\n",
    "print(matched_controls_trauma.DisplayString.value_counts(dropna=False),\n",
    "      matched_controls_trauma.CCSR_code.value_counts(dropna=False),\n",
    "      matched_controls_trauma.CCSR_wSubstance.value_counts(dropna=False),\n",
    "      matched_controls_trauma.Merged_Gender.value_counts(dropna=False),\n",
    "      matched_controls_trauma.Race_2.value_counts(dropna=False),\n",
    "      matched_controls_trauma.Age_group.value_counts(dropna=False),\n",
    "      matched_controls_trauma.insurance_status.value_counts(dropna=False),\n",
    "      matched_controls_trauma.ZIPINC_QRTL.value_counts(dropna=False))"
   ],
   "metadata": {
    "collapsed": false,
    "pycharm": {
     "name": "#%%\n"
    }
   }
  },
  {
   "cell_type": "code",
   "execution_count": 16,
   "outputs": [
    {
     "name": "stdout",
     "output_type": "stream",
     "text": [
      "107886\n",
      "Anxiety disorder, unspecified                            50944\n",
      "Generalized anxiety disorder                             37125\n",
      "Other specified anxiety disorders                         7535\n",
      "Panic disorder (episodic paroxysmal anxiety)              7389\n",
      "Social phobia, unspecified                                1006\n",
      "Fear of flying                                             791\n",
      "Agoraphobia with panic disorder                            735\n",
      "Anxiety disorder due to known physiological condition      720\n",
      "Claustrophobia                                             284\n",
      "Separation anxiety disorder of childhood                   265\n",
      "Other specified phobia                                     249\n",
      "Other mixed anxiety disorders                              198\n",
      "Phobic anxiety disorder, unspecified                       164\n",
      "Other situational type phobia                              113\n",
      "Agoraphobia, unspecified                                    87\n",
      "Selective mutism                                            81\n",
      "Social phobia, generalized                                  61\n",
      "Fear of other medical care                                  25\n",
      "Acrophobia                                                  22\n",
      "Fear of injections and transfusions                         20\n",
      "Other animal type phobia                                    18\n",
      "Other phobic anxiety disorders                              17\n",
      "Other natural environment type phobia                       14\n",
      "Agoraphobia without panic disorder                          13\n",
      "Fear of injury                                               5\n",
      "Fear of blood                                                2\n",
      "Fear of bridges                                              2\n",
      "Fear of thunderstorms                                        1\n",
      "Name: DisplayString, dtype: int64 Anxiety and fear-related disorders    107886\n",
      "Name: CCSR_code, dtype: int64 Anxiety and fear-related disorders    107886\n",
      "Name: CCSR_wSubstance, dtype: int64 Female                   69847\n",
      "Male                     37114\n",
      "Non-binary                 426\n",
      "Transgender Female         152\n",
      "Transgender Male           109\n",
      "Gender Non-conforming       89\n",
      "Gender Queer                85\n",
      "Other                       64\n",
      "Name: Merged_Gender, dtype: int64 White                                        62792\n",
      "Other Race                                   23835\n",
      "Black or African-American                    11903\n",
      "Asian                                         3908\n",
      "Mixed racial group                            3557\n",
      "Hispanic or Latino                            1000\n",
      "Native Hawaiian or Other Pacific Islander      761\n",
      "American Indian or Alaska Native               130\n",
      "Name: Race_2, dtype: int64 25-34    28217\n",
      "35-44    17694\n",
      "45-54    14283\n",
      "55-64    12124\n",
      "18-24    10934\n",
      "65-74     9965\n",
      "<18       7398\n",
      "75-84     5129\n",
      "85+       2142\n",
      "Name: Age_group, dtype: int64 NaN         37734\n",
      "Self-pay    36163\n",
      "Private     23799\n",
      "Public      10190\n",
      "Name: insurance_status, dtype: int64 88,000+            55122\n",
      "<52,000            18383\n",
      "66,000 - 87,999    16268\n",
      "52,000 - 65,999    12688\n",
      "NaN                 5425\n",
      "Name: ZIPINC_QRTL, dtype: int64\n"
     ]
    }
   ],
   "source": [
    "matched_controls_anxiety = matched_controls[matched_controls['CCSR_wSubstance'].isin(['Anxiety and fear-related disorders'])]\n",
    "print(matched_controls_anxiety.PrimaryMrn.nunique())\n",
    "print(matched_controls_anxiety.DisplayString.value_counts(dropna=False),\n",
    "      matched_controls_anxiety.CCSR_code.value_counts(dropna=False),\n",
    "      matched_controls_anxiety.CCSR_wSubstance.value_counts(dropna=False),\n",
    "      matched_controls_anxiety.Merged_Gender.value_counts(dropna=False),\n",
    "      matched_controls_anxiety.Race_2.value_counts(dropna=False),\n",
    "      matched_controls_anxiety.Age_group.value_counts(dropna=False),\n",
    "      matched_controls_anxiety.insurance_status.value_counts(dropna=False),\n",
    "      matched_controls_anxiety.ZIPINC_QRTL.value_counts(dropna=False))"
   ],
   "metadata": {
    "collapsed": false,
    "pycharm": {
     "name": "#%%\n"
    }
   }
  },
  {
   "cell_type": "code",
   "execution_count": null,
   "outputs": [],
   "source": [],
   "metadata": {
    "collapsed": false,
    "pycharm": {
     "name": "#%%\n"
    }
   }
  }
 ],
 "metadata": {
  "kernelspec": {
   "display_name": "Python 3",
   "language": "python",
   "name": "python3"
  },
  "language_info": {
   "codemirror_mode": {
    "name": "ipython",
    "version": 2
   },
   "file_extension": ".py",
   "mimetype": "text/x-python",
   "name": "python",
   "nbconvert_exporter": "python",
   "pygments_lexer": "ipython2",
   "version": "2.7.6"
  }
 },
 "nbformat": 4,
 "nbformat_minor": 0
}