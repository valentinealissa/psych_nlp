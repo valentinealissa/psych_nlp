{
 "cells": [
  {
   "cell_type": "code",
   "execution_count": 1,
   "metadata": {
    "collapsed": true,
    "pycharm": {
     "name": "#%%\n"
    }
   },
   "outputs": [],
   "source": [
    "from datetime import datetime\n",
    "# importing moules\n",
    "import os\n",
    "import pandas as pd\n",
    "import matplotlib\n",
    "import numpy as np\n",
    "from re import search\n",
    "import matplotlib.pyplot as plt\n",
    "from datetime import date\n",
    "import seaborn as sns\n",
    "import math"
   ]
  },
  {
   "cell_type": "code",
   "execution_count": 2,
   "outputs": [
    {
     "name": "stderr",
     "output_type": "stream",
     "text": [
      "/var/folders/xm/m4dy5bvs1fn7fb9wxjhsg4dc0000gn/T/ipykernel_22752/1919229713.py:1: DtypeWarning: Columns (0,1,2,7) have mixed types. Specify dtype option on import or set low_memory=False.\n",
      "  scz_allEs = pd.read_csv('/Users/valena17/DataGripProjects/msdw2/output/scz_patients_notes_allEs.csv')\n",
      "/var/folders/xm/m4dy5bvs1fn7fb9wxjhsg4dc0000gn/T/ipykernel_22752/1919229713.py:9: DtypeWarning: Columns (0,1,2,7) have mixed types. Specify dtype option on import or set low_memory=False.\n",
      "  scz_psychEs = pd.read_csv('/Users/valena17/DataGripProjects/msdw2/output/scz_patients_notes_psychEs.csv')\n",
      "/var/folders/xm/m4dy5bvs1fn7fb9wxjhsg4dc0000gn/T/ipykernel_22752/1919229713.py:17: DtypeWarning: Columns (0,1,2,7) have mixed types. Specify dtype option on import or set low_memory=False.\n",
      "  scz_sczEs = pd.read_csv('/Users/valena17/DataGripProjects/msdw2/output/scz_patients_notes_sczEs.csv')\n",
      "/var/folders/xm/m4dy5bvs1fn7fb9wxjhsg4dc0000gn/T/ipykernel_22752/1919229713.py:21: DtypeWarning: Columns (0) have mixed types. Specify dtype option on import or set low_memory=False.\n",
      "  scz_allEs_beforeScz = pd.read_csv(\"/Users/valena17/psych_nlp/data/scz_patients_notes_allEs_beforeScz.csv\")\n"
     ]
    }
   ],
   "source": [
    "scz_allEs = pd.read_csv('/Users/valena17/DataGripProjects/msdw2/output/scz_patients_notes_allEs.csv')\n",
    "scz_allEs[\"PrimaryMrn\"]=scz_allEs[\"PrimaryMrn\"].values.astype(str)\n",
    "# print(scz_allEs['PrimaryMrn'].nunique()) #11773\n",
    "\n",
    "# con_allEs = pd.read_csv('/Users/valena17/DataGripProjects/msdw2/output/con_patients_notes_allEs.csv')\n",
    "# con_allEs[\"PrimaryMrn\"]=con_allEs[\"PrimaryMrn\"].values.astype(str)\n",
    "# print(con_allEs['PrimaryMrn'].nunique())\n",
    "\n",
    "scz_psychEs = pd.read_csv('/Users/valena17/DataGripProjects/msdw2/output/scz_patients_notes_psychEs.csv')\n",
    "scz_psychEs[\"PrimaryMrn\"]=scz_psychEs[\"PrimaryMrn\"].values.astype(str)\n",
    "# print(scz_psychEs['PrimaryMrn'].nunique()) #9883\n",
    "\n",
    "con_psychEs = pd.read_csv('/Users/valena17/DataGripProjects/msdw2/output/con_patients_notes_psychEs.csv')\n",
    "con_psychEs[\"PrimaryMrn\"]=con_psychEs[\"PrimaryMrn\"].values.astype(str)\n",
    "# print(con_psychEs['PrimaryMrn'].nunique()) #112577\n",
    "\n",
    "scz_sczEs = pd.read_csv('/Users/valena17/DataGripProjects/msdw2/output/scz_patients_notes_sczEs.csv')\n",
    "scz_sczEs[\"PrimaryMrn\"]=scz_sczEs[\"PrimaryMrn\"].values.astype(str)\n",
    "# print(scz_sczEs['PrimaryMrn'].nunique()) # 8749\n",
    "\n",
    "scz_allEs_beforeScz = pd.read_csv(\"/Users/valena17/psych_nlp/data/scz_patients_notes_allEs_beforeScz.csv\")\n",
    "scz_allEs_beforeScz[\"PrimaryMrn\"] = scz_allEs_beforeScz[\"PrimaryMrn\"].values.astype(str)\n",
    "# print(scz_allEs_beforeScz['PrimaryMrn'].nunique()) #8291"
   ],
   "metadata": {
    "collapsed": false,
    "pycharm": {
     "name": "#%%\n"
    }
   }
  },
  {
   "cell_type": "code",
   "execution_count": 11,
   "outputs": [
    {
     "name": "stdout",
     "output_type": "stream",
     "text": [
      "\n",
      "scz_allEs\n",
      "Mean number of notes per patient id = 242.6198080353351 (sd = 366.01922477782887)\n",
      "Median number of notes per patient id = 116.0 [6243,1])\n",
      "\n",
      "Mean number of notes per encounter = 3.0663398180611945 (sd = 12.32787161537579)\n",
      "Median number of notes per encounter = 1.0 [1502,1])\n",
      "\n",
      "Mean number of notes per employee = 48.99169854038386 (sd = 312.733753540365)\n",
      "Median number of notes per employee = 8.0 [53368,1])\n",
      "\n",
      "Physician                                 785214\n",
      "Registered Nurse                          756852\n",
      "Resident                                  317677\n",
      "Social Worker                             256834\n",
      "*Unspecified                              152569\n",
      "                                           ...  \n",
      "Nurse Aide                                     2\n",
      "EVS                                            2\n",
      "Non-licensed Substance Abuse Counselor         1\n",
      "EKG Tech                                       1\n",
      "Dance Movement Therapist                       1\n",
      "Name: AuthorType, Length: 87, dtype: int64\n",
      "\n",
      "*Unspecified                         1728651\n",
      "Emergency Medicine                    418710\n",
      "Psychiatry                            332501\n",
      "Medicine                               32314\n",
      "Nursing                                31544\n",
      "                                      ...   \n",
      "FPA - Ruttenberg Treatment Center          1\n",
      "Madison Avenue Associates                  1\n",
      "CT Surgery Thoracic                        1\n",
      "Premature Babies                           1\n",
      "Sports Therapy                             1\n",
      "Name: Service, Length: 368, dtype: int64\n",
      "\n",
      "Progress Notes                  1281629\n",
      "Telephone Encounter              318752\n",
      "Care Note                        251962\n",
      "ED Notes                         146690\n",
      "Historical Note                  132404\n",
      "                                 ...   \n",
      "Nursing Notes                         4\n",
      "Addendum OP Operative Report          4\n",
      "ACP (Advance Care Planning)           4\n",
      "Addendum IP Operative Report          3\n",
      "Telephone Mobile Notes                1\n",
      "Name: NoteType, Length: 90, dtype: int64\n",
      "\n",
      "\n",
      "scz_psychEs\n",
      "Mean number of notes per patient id = 112.34574521906303 (sd = 177.4504858346391)\n",
      "Median number of notes per patient id = 52.0 [3330,1])\n",
      "\n",
      "Mean number of notes per encounter = 3.9689472743521 (sd = 14.04879745631206)\n",
      "Median number of notes per encounter = 1.0 [976,1])\n",
      "\n",
      "Mean number of notes per employee = 49.07460773480663 (sd = 210.56170815516106)\n",
      "Median number of notes per employee = 3.0 [6086,1])\n",
      "\n",
      "Registered Nurse                          407586\n",
      "Physician                                 214497\n",
      "Resident                                  154282\n",
      "Social Worker                             113666\n",
      "Nurse Practitioner                         52009\n",
      "                                           ...  \n",
      "Resource                                       2\n",
      "Non-licensed Substance Abuse Counselor         1\n",
      "Recreational Therapist                         1\n",
      "Coordinator                                    1\n",
      "Audiologist                                    1\n",
      "Name: AuthorType, Length: 68, dtype: int64\n",
      "\n",
      "*Unspecified          617079\n",
      "Psychiatry            268097\n",
      "Emergency Medicine    150151\n",
      "Nursing                21871\n",
      "Behavioral Health      12802\n",
      "                       ...  \n",
      "MSBI RETU                  1\n",
      "Radiation Oncology         1\n",
      "OB/GYN (OP)                1\n",
      "MACT                       1\n",
      "Ethics                     1\n",
      "Name: Service, Length: 206, dtype: int64\n",
      "\n",
      "Progress Notes                  596270\n",
      "Care Note                       148075\n",
      "ED Notes                         64912\n",
      "Psych                            47870\n",
      "ED Psychiatric                   30875\n",
      "                                 ...  \n",
      "UC Procedure Note                    3\n",
      "Downtime Event Note                  3\n",
      "Addendum IP Operative Report         2\n",
      "Code Documentation                   1\n",
      "Pre-Procedure Instructions           1\n",
      "Name: NoteType, Length: 72, dtype: int64\n",
      "\n",
      "\n",
      "con_psychEs\n",
      "Mean number of notes per patient id = 22.109489504961047 (sd = 60.76780706392596)\n",
      "Median number of notes per patient id = 5.0 [2296,1])\n",
      "\n",
      "Mean number of notes per encounter = 2.35330045609603 (sd = 7.738896801619258)\n",
      "Median number of notes per encounter = 1.0 [839,1])\n",
      "\n",
      "Mean number of notes per employee = 98.32194351175193 (sd = 422.59777725021775)\n",
      "Median number of notes per employee = 8.0 [30209,1])\n",
      "\n",
      "Physician                       774881\n",
      "Registered Nurse                564075\n",
      "Social Worker                   283949\n",
      "Resident                        240577\n",
      "Psychologist                    181783\n",
      "                                 ...  \n",
      "Transport                            5\n",
      "Unit Clerk                           2\n",
      "Yoga Therapist                       1\n",
      "Clinical Program Coordinator         1\n",
      "EKG Tech                             1\n",
      "Name: AuthorType, Length: 77, dtype: int64\n",
      "\n",
      "*Unspecified                 1766573\n",
      "Emergency Medicine            389966\n",
      "Psychiatry                    174073\n",
      "Nursing                        27422\n",
      "Medicine                       15515\n",
      "                              ...   \n",
      "Cardio-Medicine Practice           1\n",
      "Cardiothoracic Pediatrics          1\n",
      "Student Intern Brief Note          1\n",
      "MSBI Surgery                       1\n",
      "Transplant Adult Heart             1\n",
      "Name: Service, Length: 269, dtype: int64\n",
      "\n",
      "Progress Notes                  1429491\n",
      "Care Note                        195613\n",
      "ED Notes                         144234\n",
      "Telephone Encounter              112241\n",
      "ED Triage/Intake                  67037\n",
      "                                 ...   \n",
      "OR PreOp                              2\n",
      "Titration Block Charting              2\n",
      "ACP (Advance Care Planning)           1\n",
      "Addendum OP Operative Report          1\n",
      "Committee Review                      1\n",
      "Name: NoteType, Length: 78, dtype: int64\n",
      "\n",
      "\n",
      "scz_sczEs\n",
      "Mean number of notes per patient id = 89.75288604411932 (sd = 153.39468182118566)\n",
      "Median number of notes per patient id = 37.0 [3284,1])\n",
      "\n",
      "Mean number of notes per encounter = 4.489029646822085 (sd = 15.236024731182889)\n",
      "Median number of notes per encounter = 1.0 [758,1])\n",
      "\n",
      "Mean number of notes per employee = 44.78941364362309 (sd = 174.85060590592622)\n",
      "Median number of notes per employee = 3.0 [5155,1])\n",
      "\n",
      "Registered Nurse                        300551\n",
      "Physician                               140598\n",
      "Resident                                111971\n",
      "Social Worker                            78853\n",
      "Nurse Practitioner                       40716\n",
      "Psychiatric Rehabilitation Therapist     36115\n",
      "Unlicensed Resident                      19886\n",
      "Nutritionist                              7908\n",
      "Occupational Therapist                    7068\n",
      "Psychologist                              5815\n",
      "*Unspecified                              5106\n",
      "Fellow                                    3458\n",
      "Medical Student                           3356\n",
      "Licensed Mental Health Counselor          3215\n",
      "Psych Interns                             2869\n",
      "Occupational Therapy Assistant            2493\n",
      "Psych Nurse Practitioner                  1896\n",
      "Physician Assistant                       1508\n",
      "Therapist                                 1461\n",
      "Chaplain                                  1373\n",
      "Social Worker Intern                      1102\n",
      "Physical Therapist                         910\n",
      "Health Educator                            806\n",
      "Social Worker Assistant                    801\n",
      "Anesthesiologist                           674\n",
      "Chaplain Resident                          655\n",
      "Respiratory Therapist                      590\n",
      "Art Therapist                              525\n",
      "Music Therapist                            436\n",
      "Psychology Extern                          335\n",
      "Licensed Practical Nurse                   288\n",
      "Chaplain Intern                            287\n",
      "Ancillary Student                          257\n",
      "Spiritual Care                             233\n",
      "Care Coordinator                           207\n",
      "Case Manager                               193\n",
      "Speech Therapist                           138\n",
      "Scribe                                     111\n",
      "Unlicensed Mental Health Counselor          78\n",
      "Physical Therapist Assistant                69\n",
      "Speech Language Pathologist                 63\n",
      "Technician                                  62\n",
      "Administrative Assistant                    43\n",
      "Nutrition Intern                            31\n",
      "Pharmacist                                  27\n",
      "Counselor                                   24\n",
      "Child Life Specialist                       23\n",
      "Transport                                   18\n",
      "Medical Assistant                           11\n",
      "Care Manager                                 8\n",
      "Nurse Anesthetist                            6\n",
      "Lactation Consultant                         5\n",
      "AuthorType                                   5\n",
      "Rehab Neuro Psychologist                     3\n",
      "Priest                                       3\n",
      "Radiology Tech                               2\n",
      "Osteopath                                    2\n",
      "Recreational Therapist                       1\n",
      "Name: AuthorType, dtype: int64\n",
      "\n",
      "*Unspecified              429341\n",
      "Psychiatry                217598\n",
      "Emergency Medicine         82849\n",
      "Nursing                    17615\n",
      "Behavioral Health          10565\n",
      "                           ...  \n",
      "MED Infectious Disease         1\n",
      "Transplant Insti-Liver         1\n",
      "NS OB/GYN                      1\n",
      "Allergy                        1\n",
      "Detox Observation              1\n",
      "Name: Service, Length: 181, dtype: int64\n",
      "\n",
      "Progress Notes                  435563\n",
      "Care Note                       117775\n",
      "Psych                            39200\n",
      "ED Notes                         38833\n",
      "ED Psychiatric                   18722\n",
      "                                 ...  \n",
      "Addendum IP Operative Report         2\n",
      "UC Procedure Note                    1\n",
      "Pre-Procedure Instructions           1\n",
      "Code Documentation                   1\n",
      "Downtime Event Note                  1\n",
      "Name: NoteType, Length: 72, dtype: int64\n",
      "\n",
      "\n",
      "scz_allEs_beforeScz\n",
      "Mean number of notes per patient id = 77.77759015800265 (sd = 168.23585025782234)\n",
      "Median number of notes per patient id = 23.0 [3051,1])\n",
      "\n",
      "Mean number of notes per encounter = 3.0187391452927437 (sd = 9.374482231027436)\n",
      "Median number of notes per encounter = 1.0 [674,1])\n",
      "\n",
      "Mean number of notes per employee = 24.51263922149998 (sd = 206.72270261244137)\n",
      "Median number of notes per employee = 7.0 [29818,1])\n",
      "\n",
      "Physician                       227041\n",
      "Registered Nurse                147058\n",
      "Resident                         51414\n",
      "*Unspecified                     45048\n",
      "Social Worker                    42882\n",
      "                                 ...  \n",
      "Yoga Therapist                       4\n",
      "Clinical Program Coordinator         4\n",
      "Child Life/CAT Intern                4\n",
      "Admission Liaison                    4\n",
      "Psychology Extern                    1\n",
      "Name: AuthorType, Length: 79, dtype: int64\n",
      "\n",
      "*Unspecified           384803\n",
      "Emergency Medicine     112038\n",
      "Psychiatry              48614\n",
      "MSMW Medicine            7514\n",
      "MSBIPDBK Psychiatry      6775\n",
      "                        ...  \n",
      "Dermatology/Excimer         1\n",
      "MED Primary Care            1\n",
      "Medical Specialties         1\n",
      "Radiation Oncology          1\n",
      "DART                        1\n",
      "Name: Service, Length: 313, dtype: int64\n",
      "\n",
      "Progress Notes                  246234\n",
      "Telephone Encounter              85892\n",
      "Historical Note                  62934\n",
      "ED Notes                         38362\n",
      "Care Note                        35873\n",
      "                                 ...  \n",
      "Addendum OP Operative Report         3\n",
      "Downtime Event Note                  2\n",
      "Addendum IP Operative Report         1\n",
      "Code Documentation                   1\n",
      "Pharmacist Notes                     1\n",
      "Name: NoteType, Length: 83, dtype: int64\n",
      "\n"
     ]
    }
   ],
   "source": [
    "def notes_stats(df, name):\n",
    "    print()\n",
    "    print(name)\n",
    "    print(\"Mean number of notes per patient id = {0} (sd = {1})\".format(df['PrimaryMrn'].value_counts().mean(),\n",
    "                                                                        df['PrimaryMrn'].value_counts().std()))\n",
    "    print(\"Median number of notes per patient id = {0} [{1},{2}])\".format(df['PrimaryMrn'].value_counts().median(),\n",
    "                                                                          df['PrimaryMrn'].value_counts().max(),\n",
    "                                                                          df['PrimaryMrn'].value_counts().min()))\n",
    "    print()\n",
    "    print(\"Mean number of notes per encounter = {0} (sd = {1})\".format(df['EncounterKey'].value_counts().mean(),\n",
    "                                                                             df['EncounterKey'].value_counts().std()))\n",
    "    print(\"Median number of notes per encounter = {0} [{1},{2}])\".format(df['EncounterKey'].value_counts().median(),\n",
    "                                                                               df['EncounterKey'].value_counts().max(),\n",
    "                                                                               df['EncounterKey'].value_counts().min()))\n",
    "    print()\n",
    "    print(\"Mean number of notes per employee = {0} (sd = {1})\".format(df['AuthoringEmployeeDurableKey'].value_counts().mean(),\n",
    "                                                                      df['AuthoringEmployeeDurableKey'].value_counts().std()))\n",
    "    print(\"Median number of notes per employee = {0} [{1},{2}])\".format(df['AuthoringEmployeeDurableKey'].value_counts().median(),\n",
    "                                                                        df['AuthoringEmployeeDurableKey'].value_counts().max(),\n",
    "                                                                        df['AuthoringEmployeeDurableKey'].value_counts().min()))\n",
    "    print()\n",
    "    print(df['AuthorType'].value_counts(dropna=False))\n",
    "    print()\n",
    "    print(df['Service'].value_counts(dropna=False))\n",
    "    print()\n",
    "    print(df['NoteType'].value_counts(dropna=False))\n",
    "    print()\n",
    "\n",
    "notes_stats(scz_allEs, 'scz_allEs')\n",
    "# notes_stats(con_allEs)\n",
    "notes_stats(scz_psychEs, 'scz_psychEs')\n",
    "notes_stats(con_psychEs, 'con_psychEs')\n",
    "notes_stats(scz_sczEs, 'scz_sczEs')\n",
    "notes_stats(scz_allEs_beforeScz, 'scz_allEs_beforeScz')"
   ],
   "metadata": {
    "collapsed": false,
    "pycharm": {
     "name": "#%%\n"
    }
   }
  },
  {
   "cell_type": "code",
   "execution_count": 16,
   "outputs": [
    {
     "data": {
      "text/plain": "12017"
     },
     "execution_count": 16,
     "metadata": {},
     "output_type": "execute_result"
    }
   ],
   "source": [
    "scz_model_patients = pd.read_csv(\"/Users/valena17/psych_nlp/data/blackwhite_malefemale_scz.csv\")\n",
    "scz_model_patients[\"PrimaryMrn\"] = scz_model_patients[\"PrimaryMrn\"].values.astype(str)\n",
    "scz_model_patients['PrimaryMrn'].nunique()"
   ],
   "metadata": {
    "collapsed": false,
    "pycharm": {
     "name": "#%%\n"
    }
   }
  },
  {
   "cell_type": "code",
   "execution_count": 3,
   "outputs": [
    {
     "name": "stderr",
     "output_type": "stream",
     "text": [
      "/var/folders/xm/m4dy5bvs1fn7fb9wxjhsg4dc0000gn/T/ipykernel_55844/4181466319.py:1: DtypeWarning: Columns (0) have mixed types. Specify dtype option on import or set low_memory=False.\n",
      "  model_patients = pd.read_csv(\"/Users/valena17/psych_nlp/data/blackwhite_malefemale_sczANDcontrols.csv\")\n"
     ]
    },
    {
     "data": {
      "text/plain": "12093"
     },
     "execution_count": 3,
     "metadata": {},
     "output_type": "execute_result"
    }
   ],
   "source": [
    "model_patients = pd.read_csv(\"/Users/valena17/psych_nlp/data/blackwhite_malefemale_sczANDcontrols.csv\")\n",
    "model_patients[\"PrimaryMrn\"]=model_patients[\"PrimaryMrn\"].values.astype(str)\n",
    "model_patients[model_patients['Scz'] == 0].PrimaryMrn.nunique()"
   ],
   "metadata": {
    "collapsed": false,
    "pycharm": {
     "name": "#%%\n"
    }
   }
  },
  {
   "cell_type": "code",
   "execution_count": 8,
   "outputs": [
    {
     "data": {
      "text/plain": "808"
     },
     "execution_count": 8,
     "metadata": {},
     "output_type": "execute_result"
    }
   ],
   "source": [
    "df = scz_psychEs.groupby(['PrimaryMrn'])['Text'].apply(lambda x: x[x.str.contains('BIB NYPD')].count()) # 1086894 has 5\n",
    "np.count_nonzero(df)\n",
    "# scz_psychE[scz_psychE['PrimaryMrn'] == '1086894']['Text'].str.contains('BIB NYPD')"
   ],
   "metadata": {
    "collapsed": false,
    "pycharm": {
     "name": "#%%\n"
    }
   }
  },
  {
   "cell_type": "code",
   "execution_count": 4,
   "outputs": [
    {
     "name": "stderr",
     "output_type": "stream",
     "text": [
      "/var/folders/xm/m4dy5bvs1fn7fb9wxjhsg4dc0000gn/T/ipykernel_9712/1177059778.py:1: DtypeWarning: Columns (0) have mixed types. Specify dtype option on import or set low_memory=False.\n",
      "  model_patients = pd.read_csv(\"/Users/valena17/psych_nlp/data/blackwhite_malefemale_sczANDcontrols.csv\")\n"
     ]
    },
    {
     "data": {
      "text/plain": "1612"
     },
     "execution_count": 4,
     "metadata": {},
     "output_type": "execute_result"
    }
   ],
   "source": [
    "# model_patients = pd.read_csv(\"/Users/valena17/psych_nlp/data/blackwhite_malefemale_sczANDcontrols.csv\")\n",
    "# model_patients[\"PrimaryMrn\"] = model_patients[\"PrimaryMrn\"].values.astype(str)\n",
    "# # model_patients[model_patients['Scz'] == 1].PrimaryMrn.nunique()\n",
    "# scz_con_allE_extra = scz_con_allE[~scz_con_allE.PrimaryMrn.isin(list(set(model_patients.PrimaryMrn)))]\n",
    "# scz_con_allE_extra['PrimaryMrn'].nunique()"
   ],
   "metadata": {
    "collapsed": false,
    "pycharm": {
     "name": "#%%\n"
    }
   }
  },
  {
   "cell_type": "code",
   "execution_count": 17,
   "outputs": [
    {
     "data": {
      "text/plain": "19874"
     },
     "execution_count": 17,
     "metadata": {},
     "output_type": "execute_result"
    }
   ],
   "source": [
    "scz_patients_demographics = pd.read_csv('/Users/valena17/psych_nlp/data/clean_ccsr_ONLYscz_patients.csv')\n",
    "scz_patients_demographics[\"PrimaryMrn\"]=scz_patients_demographics[\"PrimaryMrn\"].values.astype(str)\n",
    "scz_patients_demographics['PrimaryMrn'].nunique()"
   ],
   "metadata": {
    "collapsed": false,
    "pycharm": {
     "name": "#%%\n"
    }
   }
  },
  {
   "cell_type": "code",
   "execution_count": 25,
   "outputs": [
    {
     "data": {
      "text/plain": "        PrimaryMrn EncounterKey ClinicalNoteKey      CreationInstant  \\\n0          1010078     52221008        91943092  2016-10-26 12:07:00   \n1          1010078     80725933        63081457  2018-06-18 22:37:00   \n2          1010078     80725933        70483621  2018-06-19 02:18:00   \n3          1010078    310919176       160562026  2022-10-05 09:20:00   \n4          1011624      2905390        25476062  2008-04-10 06:00:00   \n...            ...          ...             ...                  ...   \n2856358    K145757    325581696       168560228  2022-12-30 05:47:00   \n2856359    K145757    331078719       170662705  2023-02-07 16:15:00   \n2856360    K151829    328951563       169144383  2023-01-11 09:44:00   \n2856361    X300004     76843447        62859561  2018-03-11 10:40:00   \n2856362    X300004     76843447        65966579  2018-03-11 11:45:00   \n\n                    NoteType             Service  \\\n0                Attestation  Emergency Medicine   \n1               ED Procedure  Emergency Medicine   \n2                   ED Notes  Emergency Medicine   \n3                   ED Notes  Emergency Medicine   \n4          Discharge Summary        *Unspecified   \n...                      ...                 ...   \n2856358            Care Note        *Unspecified   \n2856359       Progress Notes        *Unspecified   \n2856360  Telephone Encounter    Gastroenterology   \n2856361       Progress Notes        *Unspecified   \n2856362       Progress Notes        *Unspecified   \n\n                                   AuthorType AuthoringEmployeeDurableKey  \\\n0                                   Physician                       10009   \n1                                   Physician                       10143   \n2                            Registered Nurse                        2913   \n3                            Registered Nurse                       92489   \n4                                   Physician                        2260   \n...                                       ...                         ...   \n2856358                      Registered Nurse                       83077   \n2856359                         Social Worker                       36604   \n2856360                           Coordinator                      115078   \n2856361  Psychiatric Rehabilitation Therapist                       59288   \n2856362  Psychiatric Rehabilitation Therapist                       59288   \n\n                                                      Text  \\\n0          Reviewed Chart Elements:     past medical ch...   \n1        Electrocardiogram, Complete 6/18/2018 10:37 PM...   \n2        Pt awake,a&ox3,argiong with wife at bedside,on...   \n3        Pt is A&Ox3 in NAD. Pt c/o of right sided back...   \n4           THIS IS A CONFIDENTIAL AND PRIVILEGED COMMU...   \n...                                                    ...   \n2856358    Problem: Maintenance of CVAD  Goal: Patient ...   \n2856359  Oncology social worker continued to follow Amo...   \n2856360  Pt has been rescheduled with Dr. Smtih for #/7...   \n2856361      Pt participated fully in the movement grou...   \n2856362  Pt participated actively in the Recovery Skill...   \n\n                   VisitDate  \n0        2017-05-04 00:00:00  \n1        2017-05-04 00:00:00  \n2        2017-05-04 00:00:00  \n3        2017-05-04 00:00:00  \n4        2013-06-25 00:00:00  \n...                      ...  \n2856358  2022-09-09 00:00:00  \n2856359  2022-09-09 00:00:00  \n2856360  2020-01-02 00:00:00  \n2856361  2018-06-13 00:00:00  \n2856362  2018-06-13 00:00:00  \n\n[2856363 rows x 10 columns]",
      "text/html": "<div>\n<style scoped>\n    .dataframe tbody tr th:only-of-type {\n        vertical-align: middle;\n    }\n\n    .dataframe tbody tr th {\n        vertical-align: top;\n    }\n\n    .dataframe thead th {\n        text-align: right;\n    }\n</style>\n<table border=\"1\" class=\"dataframe\">\n  <thead>\n    <tr style=\"text-align: right;\">\n      <th></th>\n      <th>PrimaryMrn</th>\n      <th>EncounterKey</th>\n      <th>ClinicalNoteKey</th>\n      <th>CreationInstant</th>\n      <th>NoteType</th>\n      <th>Service</th>\n      <th>AuthorType</th>\n      <th>AuthoringEmployeeDurableKey</th>\n      <th>Text</th>\n      <th>VisitDate</th>\n    </tr>\n  </thead>\n  <tbody>\n    <tr>\n      <th>0</th>\n      <td>1010078</td>\n      <td>52221008</td>\n      <td>91943092</td>\n      <td>2016-10-26 12:07:00</td>\n      <td>Attestation</td>\n      <td>Emergency Medicine</td>\n      <td>Physician</td>\n      <td>10009</td>\n      <td>Reviewed Chart Elements:     past medical ch...</td>\n      <td>2017-05-04 00:00:00</td>\n    </tr>\n    <tr>\n      <th>1</th>\n      <td>1010078</td>\n      <td>80725933</td>\n      <td>63081457</td>\n      <td>2018-06-18 22:37:00</td>\n      <td>ED Procedure</td>\n      <td>Emergency Medicine</td>\n      <td>Physician</td>\n      <td>10143</td>\n      <td>Electrocardiogram, Complete 6/18/2018 10:37 PM...</td>\n      <td>2017-05-04 00:00:00</td>\n    </tr>\n    <tr>\n      <th>2</th>\n      <td>1010078</td>\n      <td>80725933</td>\n      <td>70483621</td>\n      <td>2018-06-19 02:18:00</td>\n      <td>ED Notes</td>\n      <td>Emergency Medicine</td>\n      <td>Registered Nurse</td>\n      <td>2913</td>\n      <td>Pt awake,a&amp;ox3,argiong with wife at bedside,on...</td>\n      <td>2017-05-04 00:00:00</td>\n    </tr>\n    <tr>\n      <th>3</th>\n      <td>1010078</td>\n      <td>310919176</td>\n      <td>160562026</td>\n      <td>2022-10-05 09:20:00</td>\n      <td>ED Notes</td>\n      <td>Emergency Medicine</td>\n      <td>Registered Nurse</td>\n      <td>92489</td>\n      <td>Pt is A&amp;Ox3 in NAD. Pt c/o of right sided back...</td>\n      <td>2017-05-04 00:00:00</td>\n    </tr>\n    <tr>\n      <th>4</th>\n      <td>1011624</td>\n      <td>2905390</td>\n      <td>25476062</td>\n      <td>2008-04-10 06:00:00</td>\n      <td>Discharge Summary</td>\n      <td>*Unspecified</td>\n      <td>Physician</td>\n      <td>2260</td>\n      <td>THIS IS A CONFIDENTIAL AND PRIVILEGED COMMU...</td>\n      <td>2013-06-25 00:00:00</td>\n    </tr>\n    <tr>\n      <th>...</th>\n      <td>...</td>\n      <td>...</td>\n      <td>...</td>\n      <td>...</td>\n      <td>...</td>\n      <td>...</td>\n      <td>...</td>\n      <td>...</td>\n      <td>...</td>\n      <td>...</td>\n    </tr>\n    <tr>\n      <th>2856358</th>\n      <td>K145757</td>\n      <td>325581696</td>\n      <td>168560228</td>\n      <td>2022-12-30 05:47:00</td>\n      <td>Care Note</td>\n      <td>*Unspecified</td>\n      <td>Registered Nurse</td>\n      <td>83077</td>\n      <td>Problem: Maintenance of CVAD  Goal: Patient ...</td>\n      <td>2022-09-09 00:00:00</td>\n    </tr>\n    <tr>\n      <th>2856359</th>\n      <td>K145757</td>\n      <td>331078719</td>\n      <td>170662705</td>\n      <td>2023-02-07 16:15:00</td>\n      <td>Progress Notes</td>\n      <td>*Unspecified</td>\n      <td>Social Worker</td>\n      <td>36604</td>\n      <td>Oncology social worker continued to follow Amo...</td>\n      <td>2022-09-09 00:00:00</td>\n    </tr>\n    <tr>\n      <th>2856360</th>\n      <td>K151829</td>\n      <td>328951563</td>\n      <td>169144383</td>\n      <td>2023-01-11 09:44:00</td>\n      <td>Telephone Encounter</td>\n      <td>Gastroenterology</td>\n      <td>Coordinator</td>\n      <td>115078</td>\n      <td>Pt has been rescheduled with Dr. Smtih for #/7...</td>\n      <td>2020-01-02 00:00:00</td>\n    </tr>\n    <tr>\n      <th>2856361</th>\n      <td>X300004</td>\n      <td>76843447</td>\n      <td>62859561</td>\n      <td>2018-03-11 10:40:00</td>\n      <td>Progress Notes</td>\n      <td>*Unspecified</td>\n      <td>Psychiatric Rehabilitation Therapist</td>\n      <td>59288</td>\n      <td>Pt participated fully in the movement grou...</td>\n      <td>2018-06-13 00:00:00</td>\n    </tr>\n    <tr>\n      <th>2856362</th>\n      <td>X300004</td>\n      <td>76843447</td>\n      <td>65966579</td>\n      <td>2018-03-11 11:45:00</td>\n      <td>Progress Notes</td>\n      <td>*Unspecified</td>\n      <td>Psychiatric Rehabilitation Therapist</td>\n      <td>59288</td>\n      <td>Pt participated actively in the Recovery Skill...</td>\n      <td>2018-06-13 00:00:00</td>\n    </tr>\n  </tbody>\n</table>\n<p>2856363 rows × 10 columns</p>\n</div>"
     },
     "execution_count": 25,
     "metadata": {},
     "output_type": "execute_result"
    }
   ],
   "source": [
    "df = scz_allEs.merge(scz_patients_demographics[['PrimaryMrn', 'VisitDate']], on=['PrimaryMrn'], how='left')\n",
    "df"
   ],
   "metadata": {
    "collapsed": false,
    "pycharm": {
     "name": "#%%\n"
    }
   }
  },
  {
   "cell_type": "code",
   "execution_count": 26,
   "outputs": [
    {
     "data": {
      "text/plain": "        PrimaryMrn EncounterKey ClinicalNoteKey      CreationInstant  \\\n0          1010078     52221008        91943092  2016-10-26 12:07:00   \n4          1011624      2905390        25476062  2008-04-10 06:00:00   \n5          1010078     10970244        30645928  2010-12-03 09:28:00   \n6          1010078     41954842        14505497  2015-10-07 15:23:00   \n10         1011624      4264278        20225785  2010-08-10 16:43:00   \n...            ...          ...             ...                  ...   \n2856316    K145757    307132780       158039949  2022-08-19 13:39:00   \n2856317    K145757    307136085       157648240  2022-08-12 10:51:00   \n2856318    K145757    307227083       157622901  2022-08-12 14:57:00   \n2856361    X300004     76843447        62859561  2018-03-11 10:40:00   \n2856362    X300004     76843447        65966579  2018-03-11 11:45:00   \n\n                     NoteType             Service  \\\n0                 Attestation  Emergency Medicine   \n4           Discharge Summary        *Unspecified   \n5              Progress Notes        *Unspecified   \n6                ED Attending  Emergency Medicine   \n10             Progress Notes        *Unspecified   \n...                       ...                 ...   \n2856316        Progress Notes        *Unspecified   \n2856317  Patient Instructions        *Unspecified   \n2856318   Telephone Encounter        *Unspecified   \n2856361        Progress Notes        *Unspecified   \n2856362        Progress Notes        *Unspecified   \n\n                                   AuthorType AuthoringEmployeeDurableKey  \\\n0                                   Physician                       10009   \n4                                   Physician                        2260   \n5                                   Physician                        4196   \n6                                   Physician                        9392   \n10                                  Physician                        4120   \n...                                       ...                         ...   \n2856316                      Registered Nurse                       11700   \n2856317                    Nurse Practitioner                        6809   \n2856318                          *Unspecified                       73051   \n2856361  Psychiatric Rehabilitation Therapist                       59288   \n2856362  Psychiatric Rehabilitation Therapist                       59288   \n\n                                                      Text  \\\n0          Reviewed Chart Elements:     past medical ch...   \n4           THIS IS A CONFIDENTIAL AND PRIVILEGED COMMU...   \n5        The case was reviewed and discussed with Shann...   \n6        Attending Notes  Attending Note      Past Medi...   \n10       She has been staying at home , she is paranoid...   \n...                                                    ...   \n2856316  20 gauge 3/4 inch medi-port needle placed with...   \n2856317  Dear Amora Newton,    We hope you enjoyed your...   \n2856318  Spoke with patients parent to confirm receipt ...   \n2856361      Pt participated fully in the movement grou...   \n2856362  Pt participated actively in the Recovery Skill...   \n\n                   VisitDate  \n0        2017-05-04 00:00:00  \n4        2013-06-25 00:00:00  \n5        2017-05-04 00:00:00  \n6        2017-05-04 00:00:00  \n10       2013-06-25 00:00:00  \n...                      ...  \n2856316  2022-09-09 00:00:00  \n2856317  2022-09-09 00:00:00  \n2856318  2022-09-09 00:00:00  \n2856361  2018-06-13 00:00:00  \n2856362  2018-06-13 00:00:00  \n\n[644854 rows x 10 columns]",
      "text/html": "<div>\n<style scoped>\n    .dataframe tbody tr th:only-of-type {\n        vertical-align: middle;\n    }\n\n    .dataframe tbody tr th {\n        vertical-align: top;\n    }\n\n    .dataframe thead th {\n        text-align: right;\n    }\n</style>\n<table border=\"1\" class=\"dataframe\">\n  <thead>\n    <tr style=\"text-align: right;\">\n      <th></th>\n      <th>PrimaryMrn</th>\n      <th>EncounterKey</th>\n      <th>ClinicalNoteKey</th>\n      <th>CreationInstant</th>\n      <th>NoteType</th>\n      <th>Service</th>\n      <th>AuthorType</th>\n      <th>AuthoringEmployeeDurableKey</th>\n      <th>Text</th>\n      <th>VisitDate</th>\n    </tr>\n  </thead>\n  <tbody>\n    <tr>\n      <th>0</th>\n      <td>1010078</td>\n      <td>52221008</td>\n      <td>91943092</td>\n      <td>2016-10-26 12:07:00</td>\n      <td>Attestation</td>\n      <td>Emergency Medicine</td>\n      <td>Physician</td>\n      <td>10009</td>\n      <td>Reviewed Chart Elements:     past medical ch...</td>\n      <td>2017-05-04 00:00:00</td>\n    </tr>\n    <tr>\n      <th>4</th>\n      <td>1011624</td>\n      <td>2905390</td>\n      <td>25476062</td>\n      <td>2008-04-10 06:00:00</td>\n      <td>Discharge Summary</td>\n      <td>*Unspecified</td>\n      <td>Physician</td>\n      <td>2260</td>\n      <td>THIS IS A CONFIDENTIAL AND PRIVILEGED COMMU...</td>\n      <td>2013-06-25 00:00:00</td>\n    </tr>\n    <tr>\n      <th>5</th>\n      <td>1010078</td>\n      <td>10970244</td>\n      <td>30645928</td>\n      <td>2010-12-03 09:28:00</td>\n      <td>Progress Notes</td>\n      <td>*Unspecified</td>\n      <td>Physician</td>\n      <td>4196</td>\n      <td>The case was reviewed and discussed with Shann...</td>\n      <td>2017-05-04 00:00:00</td>\n    </tr>\n    <tr>\n      <th>6</th>\n      <td>1010078</td>\n      <td>41954842</td>\n      <td>14505497</td>\n      <td>2015-10-07 15:23:00</td>\n      <td>ED Attending</td>\n      <td>Emergency Medicine</td>\n      <td>Physician</td>\n      <td>9392</td>\n      <td>Attending Notes  Attending Note      Past Medi...</td>\n      <td>2017-05-04 00:00:00</td>\n    </tr>\n    <tr>\n      <th>10</th>\n      <td>1011624</td>\n      <td>4264278</td>\n      <td>20225785</td>\n      <td>2010-08-10 16:43:00</td>\n      <td>Progress Notes</td>\n      <td>*Unspecified</td>\n      <td>Physician</td>\n      <td>4120</td>\n      <td>She has been staying at home , she is paranoid...</td>\n      <td>2013-06-25 00:00:00</td>\n    </tr>\n    <tr>\n      <th>...</th>\n      <td>...</td>\n      <td>...</td>\n      <td>...</td>\n      <td>...</td>\n      <td>...</td>\n      <td>...</td>\n      <td>...</td>\n      <td>...</td>\n      <td>...</td>\n      <td>...</td>\n    </tr>\n    <tr>\n      <th>2856316</th>\n      <td>K145757</td>\n      <td>307132780</td>\n      <td>158039949</td>\n      <td>2022-08-19 13:39:00</td>\n      <td>Progress Notes</td>\n      <td>*Unspecified</td>\n      <td>Registered Nurse</td>\n      <td>11700</td>\n      <td>20 gauge 3/4 inch medi-port needle placed with...</td>\n      <td>2022-09-09 00:00:00</td>\n    </tr>\n    <tr>\n      <th>2856317</th>\n      <td>K145757</td>\n      <td>307136085</td>\n      <td>157648240</td>\n      <td>2022-08-12 10:51:00</td>\n      <td>Patient Instructions</td>\n      <td>*Unspecified</td>\n      <td>Nurse Practitioner</td>\n      <td>6809</td>\n      <td>Dear Amora Newton,    We hope you enjoyed your...</td>\n      <td>2022-09-09 00:00:00</td>\n    </tr>\n    <tr>\n      <th>2856318</th>\n      <td>K145757</td>\n      <td>307227083</td>\n      <td>157622901</td>\n      <td>2022-08-12 14:57:00</td>\n      <td>Telephone Encounter</td>\n      <td>*Unspecified</td>\n      <td>*Unspecified</td>\n      <td>73051</td>\n      <td>Spoke with patients parent to confirm receipt ...</td>\n      <td>2022-09-09 00:00:00</td>\n    </tr>\n    <tr>\n      <th>2856361</th>\n      <td>X300004</td>\n      <td>76843447</td>\n      <td>62859561</td>\n      <td>2018-03-11 10:40:00</td>\n      <td>Progress Notes</td>\n      <td>*Unspecified</td>\n      <td>Psychiatric Rehabilitation Therapist</td>\n      <td>59288</td>\n      <td>Pt participated fully in the movement grou...</td>\n      <td>2018-06-13 00:00:00</td>\n    </tr>\n    <tr>\n      <th>2856362</th>\n      <td>X300004</td>\n      <td>76843447</td>\n      <td>65966579</td>\n      <td>2018-03-11 11:45:00</td>\n      <td>Progress Notes</td>\n      <td>*Unspecified</td>\n      <td>Psychiatric Rehabilitation Therapist</td>\n      <td>59288</td>\n      <td>Pt participated actively in the Recovery Skill...</td>\n      <td>2018-06-13 00:00:00</td>\n    </tr>\n  </tbody>\n</table>\n<p>644854 rows × 10 columns</p>\n</div>"
     },
     "execution_count": 26,
     "metadata": {},
     "output_type": "execute_result"
    }
   ],
   "source": [
    "df = df[df['CreationInstant'] < df['VisitDate']]\n",
    "df"
   ],
   "metadata": {
    "collapsed": false,
    "pycharm": {
     "name": "#%%\n"
    }
   }
  },
  {
   "cell_type": "code",
   "execution_count": 27,
   "outputs": [],
   "source": [
    "pd.DataFrame.to_csv(df, \"/Users/valena17/psych_nlp/data/scz_patients_notes_allEs_beforeScz.csv\",index = False)"
   ],
   "metadata": {
    "collapsed": false,
    "pycharm": {
     "name": "#%%\n"
    }
   }
  },
  {
   "cell_type": "code",
   "execution_count": 24,
   "outputs": [
    {
     "data": {
      "text/plain": "2922"
     },
     "execution_count": 24,
     "metadata": {},
     "output_type": "execute_result"
    }
   ],
   "source": [
    "homeless_words = ['homeless', 'housing lack', 'lacks housing', 'insecure housing', 'housing insecure', 'houseless',\n",
    "'unhoused', 'undomiciled', 'shelter',\n",
    "'unsheltered',\n",
    "'living in squat',\n",
    "'living in squalor',\n",
    "'living rough',\n",
    "'sleeping out',\n",
    "'sleeping outside',\n",
    "'social migrant',\n",
    "'vagrant',\n",
    "'vagabond',\n",
    "'sofa surfer',\n",
    "'sleeping on sofa',\n",
    "'sleeping on couch',\n",
    "'no fixed abode',\n",
    "'temporary shelter',\n",
    "\"sleeping at friend's abode\",\n",
    "'sleeping in night shelter',\n",
    "'sleeping in shelter',\n",
    "'staying in shelter',\n",
    "'living in shelter',\n",
    "'living on street',\n",
    "'living on the street',\n",
    "'living in shelter',\n",
    "'living in homeless shelter',\n",
    "'lives in shelter',\n",
    "'lives on the street',\n",
    "'lives in shelter',\n",
    "'lives in homeless shelter',\n",
    "'in and out of shelter',\n",
    "'refuses shelter',\n",
    "'refuses to go to shelter',\n",
    "'refuses to stay at shelter',\n",
    "                  'refuses to visit shelter',\n",
    "                  'unwilling to go to shelter',\n",
    "                  'sleeping in park',\n",
    "                  'sleeping in a park',\n",
    "                  'sleeping on a bench',\n",
    "                  'sleeping on the street',\n",
    "                  'sleeps in park',\n",
    "                  'sleeps in a park',\n",
    "                  'sleeps on a bench',\n",
    "                  'sleeps on the street']\n",
    "\n",
    "homeless_mrns = df.groupby(['PrimaryMrn'])['Text'].apply(lambda x: x[x.str.contains('|'.join(homeless_words))].count())\n",
    "homeless_mrns = homeless_mrns.to_frame()\n",
    "homeless_mrns = homeless_mrns[homeless_mrns.Text != 0]\n",
    "homeless_mrns = list(homeless_mrns.index)\n",
    "len(homeless_mrns)\n"
   ],
   "metadata": {
    "collapsed": false,
    "pycharm": {
     "name": "#%%\n"
    }
   }
  },
  {
   "cell_type": "code",
   "execution_count": null,
   "outputs": [],
   "source": [],
   "metadata": {
    "collapsed": false,
    "pycharm": {
     "name": "#%%\n"
    }
   }
  }
 ],
 "metadata": {
  "kernelspec": {
   "display_name": "Python 3",
   "language": "python",
   "name": "python3"
  },
  "language_info": {
   "codemirror_mode": {
    "name": "ipython",
    "version": 2
   },
   "file_extension": ".py",
   "mimetype": "text/x-python",
   "name": "python",
   "nbconvert_exporter": "python",
   "pygments_lexer": "ipython2",
   "version": "2.7.6"
  }
 },
 "nbformat": 4,
 "nbformat_minor": 0
}