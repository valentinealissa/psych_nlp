{
 "cells": [
  {
   "cell_type": "code",
   "execution_count": 37,
   "id": "34fb1260-d6e6-41d4-b5a6-b89109524aa7",
   "metadata": {},
   "outputs": [
    {
     "name": "stderr",
     "output_type": "stream",
     "text": [
      "You are using a model of type megatron-bert to instantiate a model of type bert. This is not supported for all configurations of models and can yield errors.\n",
      "Some weights of the model checkpoint at runs/ta_pretraining/checkpoint-435 were not used when initializing BertForMaskedLM: ['bert.encoder.layer.11.attention.ln.weight', 'bert.encoder.layer.18.attention.ln.bias', 'bert.encoder.layer.16.ln.bias', 'bert.encoder.layer.4.attention.ln.weight', 'bert.encoder.layer.19.ln.bias', 'bert.encoder.layer.17.attention.ln.bias', 'bert.encoder.layer.20.ln.weight', 'bert.encoder.layer.0.attention.ln.bias', 'bert.encoder.layer.1.ln.weight', 'bert.encoder.layer.14.attention.ln.weight', 'bert.encoder.layer.8.attention.ln.bias', 'bert.encoder.layer.1.attention.ln.weight', 'bert.encoder.layer.18.ln.weight', 'bert.encoder.layer.12.ln.bias', 'bert.encoder.layer.1.ln.bias', 'bert.encoder.layer.13.ln.weight', 'bert.encoder.layer.15.attention.ln.weight', 'bert.encoder.layer.3.attention.ln.weight', 'bert.encoder.layer.15.attention.ln.bias', 'bert.encoder.layer.7.ln.bias', 'bert.encoder.layer.21.attention.ln.bias', 'bert.encoder.layer.10.attention.ln.weight', 'bert.encoder.layer.19.attention.ln.weight', 'bert.encoder.layer.23.attention.ln.weight', 'bert.encoder.layer.10.attention.ln.bias', 'bert.encoder.layer.7.ln.weight', 'bert.encoder.layer.21.ln.weight', 'bert.encoder.layer.18.attention.ln.weight', 'bert.encoder.layer.1.attention.ln.bias', 'bert.encoder.layer.2.ln.weight', 'bert.encoder.layer.2.attention.ln.weight', 'bert.encoder.layer.22.attention.ln.bias', 'bert.encoder.layer.20.attention.ln.bias', 'bert.encoder.layer.9.ln.bias', 'bert.encoder.layer.15.ln.weight', 'bert.encoder.layer.7.attention.ln.bias', 'bert.encoder.layer.6.attention.ln.bias', 'bert.encoder.layer.8.ln.bias', 'bert.encoder.layer.17.ln.weight', 'bert.encoder.layer.3.attention.ln.bias', 'bert.encoder.layer.23.attention.ln.bias', 'bert.encoder.layer.12.attention.ln.weight', 'bert.encoder.layer.19.attention.ln.bias', 'bert.encoder.layer.5.attention.ln.bias', 'bert.encoder.layer.15.ln.bias', 'bert.encoder.layer.16.attention.ln.weight', 'bert.encoder.layer.5.ln.bias', 'bert.encoder.layer.11.attention.ln.bias', 'bert.encoder.layer.13.attention.ln.weight', 'bert.encoder.layer.17.ln.bias', 'bert.encoder.layer.16.ln.weight', 'bert.encoder.layer.17.attention.ln.weight', 'bert.encoder.layer.12.ln.weight', 'bert.encoder.layer.4.ln.weight', 'bert.encoder.layer.0.ln.weight', 'bert.encoder.layer.14.attention.ln.bias', 'bert.encoder.layer.8.attention.ln.weight', 'bert.encoder.layer.6.ln.bias', 'bert.encoder.layer.14.ln.weight', 'bert.encoder.layer.3.ln.bias', 'bert.encoder.layer.2.ln.bias', 'bert.encoder.layer.20.attention.ln.weight', 'bert.encoder.layer.22.ln.weight', 'bert.encoder.layer.5.attention.ln.weight', 'bert.encoder.layer.11.ln.bias', 'bert.encoder.layer.21.attention.ln.weight', 'bert.encoder.layer.22.ln.bias', 'bert.encoder.layer.14.ln.bias', 'bert.encoder.layer.8.ln.weight', 'bert.encoder.layer.6.attention.ln.weight', 'bert.encoder.layer.11.ln.weight', 'bert.encoder.layer.12.attention.ln.bias', 'bert.encoder.ln.bias', 'bert.encoder.layer.5.ln.weight', 'bert.encoder.layer.18.ln.bias', 'bert.encoder.layer.19.ln.weight', 'bert.encoder.ln.weight', 'bert.encoder.layer.0.ln.bias', 'bert.encoder.layer.9.attention.ln.bias', 'bert.encoder.layer.23.ln.bias', 'bert.encoder.layer.9.attention.ln.weight', 'bert.encoder.layer.16.attention.ln.bias', 'bert.encoder.layer.9.ln.weight', 'bert.encoder.layer.10.ln.weight', 'bert.encoder.layer.3.ln.weight', 'bert.encoder.layer.10.ln.bias', 'bert.encoder.layer.4.ln.bias', 'bert.encoder.layer.13.ln.bias', 'bert.encoder.layer.2.attention.ln.bias', 'bert.encoder.layer.4.attention.ln.bias', 'bert.encoder.layer.21.ln.bias', 'bert.encoder.layer.23.ln.weight', 'bert.encoder.layer.20.ln.bias', 'bert.encoder.layer.6.ln.weight', 'bert.encoder.layer.13.attention.ln.bias', 'bert.encoder.layer.0.attention.ln.weight', 'bert.encoder.layer.7.attention.ln.weight', 'bert.encoder.layer.22.attention.ln.weight']\n",
      "- This IS expected if you are initializing BertForMaskedLM from the checkpoint of a model trained on another task or with another architecture (e.g. initializing a BertForSequenceClassification model from a BertForPreTraining model).\n",
      "- This IS NOT expected if you are initializing BertForMaskedLM from the checkpoint of a model that you expect to be exactly identical (initializing a BertForSequenceClassification model from a BertForSequenceClassification model).\n",
      "Some weights of BertForMaskedLM were not initialized from the model checkpoint at runs/ta_pretraining/checkpoint-435 and are newly initialized: ['bert.encoder.layer.10.output.LayerNorm.bias', 'bert.encoder.layer.15.output.LayerNorm.bias', 'bert.encoder.layer.4.output.LayerNorm.bias', 'bert.encoder.layer.21.attention.output.LayerNorm.weight', 'bert.encoder.layer.16.attention.output.LayerNorm.weight', 'bert.encoder.layer.12.attention.output.LayerNorm.weight', 'bert.encoder.layer.14.output.LayerNorm.weight', 'bert.encoder.layer.11.output.LayerNorm.weight', 'bert.encoder.layer.8.output.LayerNorm.bias', 'bert.encoder.layer.22.output.LayerNorm.bias', 'bert.encoder.layer.17.attention.output.LayerNorm.weight', 'bert.encoder.layer.20.attention.output.LayerNorm.bias', 'bert.encoder.layer.19.output.LayerNorm.weight', 'bert.encoder.layer.11.attention.output.LayerNorm.bias', 'bert.encoder.layer.17.output.LayerNorm.weight', 'bert.encoder.layer.7.attention.output.LayerNorm.weight', 'bert.encoder.layer.3.output.LayerNorm.bias', 'bert.encoder.layer.6.attention.output.LayerNorm.weight', 'bert.encoder.layer.10.attention.output.LayerNorm.weight', 'bert.encoder.layer.12.attention.output.LayerNorm.bias', 'bert.encoder.layer.18.attention.output.LayerNorm.weight', 'bert.encoder.layer.9.output.LayerNorm.weight', 'bert.encoder.layer.13.attention.output.LayerNorm.weight', 'bert.encoder.layer.20.attention.output.LayerNorm.weight', 'bert.encoder.layer.2.output.LayerNorm.bias', 'bert.encoder.layer.16.attention.output.LayerNorm.bias', 'bert.encoder.layer.19.attention.output.LayerNorm.bias', 'bert.encoder.layer.1.attention.output.LayerNorm.weight', 'bert.encoder.layer.23.attention.output.LayerNorm.weight', 'bert.encoder.layer.12.output.LayerNorm.weight', 'bert.encoder.layer.5.attention.output.LayerNorm.weight', 'bert.encoder.layer.3.attention.output.LayerNorm.weight', 'bert.encoder.layer.19.output.LayerNorm.bias', 'bert.encoder.layer.3.output.LayerNorm.weight', 'bert.encoder.layer.0.output.LayerNorm.weight', 'bert.encoder.layer.22.output.LayerNorm.weight', 'bert.encoder.layer.12.output.LayerNorm.bias', 'bert.encoder.layer.21.output.LayerNorm.weight', 'bert.embeddings.LayerNorm.bias', 'bert.encoder.layer.4.attention.output.LayerNorm.bias', 'bert.encoder.layer.23.attention.output.LayerNorm.bias', 'bert.encoder.layer.22.attention.output.LayerNorm.weight', 'bert.encoder.layer.5.output.LayerNorm.bias', 'bert.encoder.layer.11.output.LayerNorm.bias', 'bert.encoder.layer.17.output.LayerNorm.bias', 'bert.encoder.layer.8.attention.output.LayerNorm.bias', 'bert.encoder.layer.2.attention.output.LayerNorm.weight', 'bert.encoder.layer.0.attention.output.LayerNorm.bias', 'bert.encoder.layer.16.output.LayerNorm.bias', 'bert.encoder.layer.7.attention.output.LayerNorm.bias', 'bert.encoder.layer.6.output.LayerNorm.bias', 'bert.encoder.layer.6.output.LayerNorm.weight', 'bert.encoder.layer.14.attention.output.LayerNorm.weight', 'bert.encoder.layer.21.attention.output.LayerNorm.bias', 'bert.encoder.layer.9.attention.output.LayerNorm.weight', 'bert.encoder.layer.7.output.LayerNorm.bias', 'bert.encoder.layer.20.output.LayerNorm.weight', 'bert.encoder.layer.4.output.LayerNorm.weight', 'bert.encoder.layer.15.output.LayerNorm.weight', 'bert.encoder.layer.1.output.LayerNorm.bias', 'bert.encoder.layer.2.attention.output.LayerNorm.bias', 'bert.encoder.layer.14.output.LayerNorm.bias', 'bert.encoder.layer.8.output.LayerNorm.weight', 'bert.encoder.layer.23.output.LayerNorm.weight', 'bert.encoder.layer.2.output.LayerNorm.weight', 'bert.encoder.layer.8.attention.output.LayerNorm.weight', 'bert.encoder.layer.1.output.LayerNorm.weight', 'bert.encoder.layer.9.output.LayerNorm.bias', 'bert.encoder.layer.10.attention.output.LayerNorm.bias', 'bert.encoder.layer.1.attention.output.LayerNorm.bias', 'bert.encoder.layer.20.output.LayerNorm.bias', 'bert.encoder.layer.18.output.LayerNorm.weight', 'bert.embeddings.LayerNorm.weight', 'bert.encoder.layer.5.output.LayerNorm.weight', 'bert.encoder.layer.18.attention.output.LayerNorm.bias', 'bert.encoder.layer.0.attention.output.LayerNorm.weight', 'bert.encoder.layer.18.output.LayerNorm.bias', 'bert.encoder.layer.15.attention.output.LayerNorm.bias', 'bert.encoder.layer.3.attention.output.LayerNorm.bias', 'bert.encoder.layer.11.attention.output.LayerNorm.weight', 'bert.encoder.layer.5.attention.output.LayerNorm.bias', 'bert.encoder.layer.13.output.LayerNorm.weight', 'bert.encoder.layer.17.attention.output.LayerNorm.bias', 'bert.encoder.layer.19.attention.output.LayerNorm.weight', 'bert.encoder.layer.13.attention.output.LayerNorm.bias', 'bert.encoder.layer.23.output.LayerNorm.bias', 'bert.encoder.layer.0.output.LayerNorm.bias', 'bert.encoder.layer.6.attention.output.LayerNorm.bias', 'bert.encoder.layer.22.attention.output.LayerNorm.bias', 'bert.encoder.layer.14.attention.output.LayerNorm.bias', 'bert.encoder.layer.15.attention.output.LayerNorm.weight', 'bert.encoder.layer.13.output.LayerNorm.bias', 'bert.encoder.layer.21.output.LayerNorm.bias', 'bert.encoder.layer.7.output.LayerNorm.weight', 'bert.encoder.layer.4.attention.output.LayerNorm.weight', 'bert.encoder.layer.9.attention.output.LayerNorm.bias', 'bert.encoder.layer.10.output.LayerNorm.weight', 'bert.encoder.layer.16.output.LayerNorm.weight']\n",
      "You should probably TRAIN this model on a down-stream task to be able to use it for predictions and inference.\n"
     ]
    }
   ],
   "source": [
    "from transformers import BertConfig, BertTokenizer, BertModel, BertForMaskedLM\n",
    "from openprompt.data_utils import InputExample\n",
    "from openprompt.prompts import ManualTemplate, ManualVerbalizer\n",
    "from openprompt import PromptForClassification, PromptDataLoader\n",
    "from openprompt.plms import load_plm\n",
    "from collections import namedtuple\n",
    "from mlm import MLMTokenizerWrapper\n",
    "import torch\n",
    "\n",
    "\n",
    "model_path = \"runs/ta_pretraining/checkpoint-435\"\n",
    "ModelClass = namedtuple(\"ModelClass\", ('config', 'tokenizer', 'model','wrapper'))\n",
    "\n",
    "_MODEL_CLASSES = {\n",
    "    'bert': ModelClass(**{\n",
    "        'config': BertConfig,\n",
    "        'tokenizer': BertTokenizer,\n",
    "        'model':BertForMaskedLM,\n",
    "        'wrapper': MLMTokenizerWrapper,\n",
    "    })}\n",
    "\n",
    "def get_model_class(plm_type: str):\n",
    "    return _MODEL_CLASSES[plm_type]\n",
    "\n",
    "model_class = get_model_class('bert')\n",
    "model_config = BertConfig.from_pretrained(model_path)\n",
    "plm = BertForMaskedLM.from_pretrained(model_path, config=model_config)\n",
    "tokenizer = BertTokenizer.from_pretrained('UFNLP/gatortron-base')\n",
    "WrapperClass = MLMTokenizerWrapper\n",
    "\n",
    "\n",
    "# plm, tokenizer, model_config, WrapperClass = load_plm(\"bert\", 'UFNLP/gatortron-base') # \"runs/ta_pretraining/checkpoint-435\""
   ]
  },
  {
   "cell_type": "code",
   "execution_count": 38,
   "id": "246ce119-a947-45f3-b01e-09f7331d730d",
   "metadata": {},
   "outputs": [
    {
     "name": "stdout",
     "output_type": "stream",
     "text": [
      "[{\n",
      "  \"guid\": 0,\n",
      "  \"label\": null,\n",
      "  \"meta\": \"neutral\",\n",
      "  \"text_a\": \"She states that pt has been compliant with meds\",\n",
      "  \"text_b\": \"\",\n",
      "  \"tgt_text\": null\n",
      "}\n",
      ", {\n",
      "  \"guid\": 1,\n",
      "  \"label\": null,\n",
      "  \"meta\": \"negative\",\n",
      "  \"text_a\": \"Pt remains aggressive and very threatening upon arrival, tried to hit security officer with his head while still in handcuff\",\n",
      "  \"text_b\": \"\",\n",
      "  \"tgt_text\": null\n",
      "}\n",
      ", {\n",
      "  \"guid\": 2,\n",
      "  \"label\": null,\n",
      "  \"meta\": \"positive\",\n",
      "  \"text_a\": \"MSE: pleasant, cooperative, euthymic, speech wnl, affect full and appropriate to content\",\n",
      "  \"text_b\": \"\",\n",
      "  \"tgt_text\": null\n",
      "}\n",
      "]\n"
     ]
    }
   ],
   "source": [
    "classes = [ # There are two classes in Sentiment Analysis, one for negative and one for positive\n",
    "    \"neutral\",\n",
    "    \"negative\",\n",
    "    \"positive\"\n",
    "]\n",
    "dataset = [ # For simplicity, there's only two examples\n",
    "    # text_a is the input text of the data, some other datasets may have multiple input sentences in one example.\n",
    "    InputExample(\n",
    "        guid = 0, # neutral\n",
    "        meta = \"neutral\",\n",
    "        text_a = \"She states that pt has been compliant with meds\",\n",
    "    ),\n",
    "    InputExample(\n",
    "        guid = 1, #negative\n",
    "        meta = \"negative\",\n",
    "        text_a = \"Pt remains aggressive and very threatening upon arrival, tried to hit security officer with his head while still in handcuff\",\n",
    "    ),\n",
    "    InputExample(\n",
    "        guid = 2, # positive\n",
    "        meta = \"positive\",\n",
    "        text_a = \"MSE: pleasant, cooperative, euthymic, speech wnl, affect full and appropriate to content\",\n",
    "    )\n",
    "]\n",
    "\n",
    "print(dataset)"
   ]
  },
  {
   "cell_type": "code",
   "execution_count": 41,
   "id": "32d03722-6c8d-487e-91dc-1d378ebbb31c",
   "metadata": {},
   "outputs": [
    {
     "name": "stderr",
     "output_type": "stream",
     "text": [
      "tokenizing: 3it [00:00, 841.78it/s]\n"
     ]
    },
    {
     "name": "stdout",
     "output_type": "stream",
     "text": [
      "negative\n",
      "negative\n",
      "positive\n"
     ]
    }
   ],
   "source": [
    "promptTemplate = ManualTemplate(\n",
    "    text = '{\"placeholder\":\"text_a\"} It was {\"mask\"}',\n",
    "    tokenizer = tokenizer,\n",
    ")\n",
    "\n",
    "promptVerbalizer = ManualVerbalizer(\n",
    "    classes = classes,\n",
    "    label_words = {\n",
    "        \"neutral\": [\"fair\", \"okay\", \"unbiased\", \"unknown\"],\n",
    "        \"negative\": [\"bad\", \"awful\", \"terrible\", \"horrible\"],\n",
    "        \"positive\": [\"good\", \"wonderful\", \"great\", \"effective\"],\n",
    "    },\n",
    "    tokenizer = tokenizer,\n",
    ")\n",
    "\n",
    "promptModel = PromptForClassification(\n",
    "    template = promptTemplate,\n",
    "    plm = plm,\n",
    "    verbalizer = promptVerbalizer,\n",
    ")\n",
    "\n",
    "data_loader = PromptDataLoader(\n",
    "    dataset = dataset,\n",
    "    tokenizer = tokenizer,\n",
    "    template = promptTemplate,\n",
    "    tokenizer_wrapper_class=WrapperClass,\n",
    ")\n",
    "\n",
    "# making zero-shot inference using pretrained MLM with prompt\n",
    "promptModel.eval()\n",
    "with torch.no_grad():\n",
    "    for batch in data_loader:\n",
    "        logits = promptModel(batch)\n",
    "        preds = torch.argmax(logits, dim = -1)\n",
    "        print(classes[preds])\n",
    "# predictions would be 1, 0 for classes 'positive', 'negative'"
   ]
  },
  {
   "cell_type": "code",
   "execution_count": null,
   "id": "55247038-462a-45fa-acc9-e3403ce2685b",
   "metadata": {},
   "outputs": [],
   "source": []
  }
 ],
 "metadata": {
  "kernelspec": {
   "display_name": "Python 3 (ipykernel)",
   "language": "python",
   "name": "python3"
  },
  "language_info": {
   "codemirror_mode": {
    "name": "ipython",
    "version": 3
   },
   "file_extension": ".py",
   "mimetype": "text/x-python",
   "name": "python",
   "nbconvert_exporter": "python",
   "pygments_lexer": "ipython3",
   "version": "3.8.16"
  }
 },
 "nbformat": 4,
 "nbformat_minor": 5
}
