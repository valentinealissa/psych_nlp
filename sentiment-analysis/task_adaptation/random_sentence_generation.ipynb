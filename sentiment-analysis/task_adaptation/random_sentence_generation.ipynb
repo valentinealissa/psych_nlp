{
 "cells": [
  {
   "cell_type": "code",
   "execution_count": 225,
   "id": "2948bf36-694c-4a31-a873-581f3718c5c3",
   "metadata": {},
   "outputs": [],
   "source": [
    "import numpy as np\n",
    "import random\n",
    "import pandas as pd\n",
    "import itertools"
   ]
  },
  {
   "cell_type": "code",
   "execution_count": 131,
   "id": "b4d7b680-8b9e-481a-844b-b337a412fa14",
   "metadata": {},
   "outputs": [],
   "source": [
    "notes_1000 = pd.read_csv(\"/Users/valena17/DataGripProjects/msdw2/output/random_1000_psych_progress_notes.csv\", header=None)\n",
    "sentences = notes_1000[9].str.lower().str.split('.').values.tolist()\n",
    "sentences = list(itertools.chain.from_iterable(sentences))\n",
    "sentences = [x for x in sentences if len(x) > 30]"
   ]
  },
  {
   "cell_type": "code",
   "execution_count": 91,
   "id": "dc27f256-d072-4501-ac00-af2adb36fe35",
   "metadata": {},
   "outputs": [
    {
     "name": "stdout",
     "output_type": "stream",
     "text": [
      "[' She lives alone but has a daughter who is also schizophrenic', ' Pt also instructed to speak with parole officer to help with detox placement if necessary', ' After he runs out of money and food he tends to get depressed', 'ED Psych Progress Note  No incidents overnight', '  Remained calm and in behavioral control all night; repeatedly denying all mood and psychotic symptoms, including worsened irritability or difficulty controlling his impulses', \" Pt reports she takes her meds daily except her cymbalta which she self dc's last week\", ' Attempting to transfer pt to an in network facility', ' King will speak with foster mother (Vivian) this early afternoon (1PM) regarding foster mother accepting child back home', ' Patient aware of plan to return to residence', '    Pt says that since his MSH hospitalization he has been in and out of Harlem Hospital']\n"
     ]
    }
   ],
   "source": [
    "# Initializing substring\n",
    "word = 'not angry'\n",
    "\n",
    "# using list comprehension\n",
    "# to get string with substring\n",
    "sentences_wWord = [i for i in sentences if word in i]\n",
    "random_sentences_wWord = random.sample(sentences_wWord, 3)\n",
    "print(random_sentences_wWord)"
   ]
  },
  {
   "cell_type": "code",
   "execution_count": 182,
   "id": "0a303139-4395-4503-b56b-c6ef216ab67f",
   "metadata": {},
   "outputs": [
    {
     "name": "stdout",
     "output_type": "stream",
     "text": [
      "7706\n"
     ]
    }
   ],
   "source": [
    "notes_1000 = pd.read_csv(\"/Users/valena17/DataGripProjects/msdw2/output/random_1000_psych_progress_notes.csv\", header=None)\n",
    "sentences = notes_1000[9].str.lower().str.split('.').values.tolist()\n",
    "sentences = list(itertools.chain.from_iterable(sentences))\n",
    "sentences = pd.Series(sentences)\n",
    "print(len(sentences))"
   ]
  },
  {
   "cell_type": "code",
   "execution_count": 199,
   "id": "3351f3fd-8536-4fcb-98e4-01829aaadd9a",
   "metadata": {},
   "outputs": [],
   "source": [
    "descriptors = ['adamant', 'adhere', 'agitat', 'aggress', 'angry', 'complian', 'cooperat', 'malinger', 'pleasant']\n",
    "\n",
    "sentences_wDescriptors = sentences[sentences.str.contains('|'.join(descriptors)) == True]\n",
    "\n",
    "sentences_woDescriptors = sentences[sentences.str.contains('|'.join(descriptors)) == False]"
   ]
  },
  {
   "cell_type": "code",
   "execution_count": 200,
   "id": "efda071d-536a-408b-a725-31d5f02b8f8b",
   "metadata": {},
   "outputs": [
    {
     "name": "stdout",
     "output_type": "stream",
     "text": [
      "368 7338\n"
     ]
    }
   ],
   "source": [
    "print(len(sentences_wDescriptors), len(sentences_woDescriptors))"
   ]
  },
  {
   "cell_type": "code",
   "execution_count": 201,
   "id": "13ff53f3-8109-4b1a-a352-c381c401e60f",
   "metadata": {},
   "outputs": [],
   "source": [
    "sentences_woDescriptors.values.tolist()\n",
    "sentences_woDescriptors = [ele for ele in sentences_woDescriptors if ele.strip()]"
   ]
  },
  {
   "cell_type": "code",
   "execution_count": 204,
   "id": "cd052d66-b865-4450-958e-b9cff3f56033",
   "metadata": {},
   "outputs": [],
   "source": [
    "r_sentences_woDescriptors = random.sample(sentences_woDescriptors, 65)"
   ]
  },
  {
   "cell_type": "code",
   "execution_count": 206,
   "id": "6084583c-af9a-4c1a-bb40-48a3bc3b493c",
   "metadata": {},
   "outputs": [],
   "source": [
    "r_sentences_woDescriptors = pd.Series(r_sentences_woDescriptors)\n",
    "r_sentences_woDescriptors.to_csv('sentences_woDescriptors.csv', encoding = 'utf-8-sig')"
   ]
  },
  {
   "cell_type": "code",
   "execution_count": 162,
   "id": "5527a6a2-2afb-40f3-bc05-3369140fece9",
   "metadata": {},
   "outputs": [],
   "source": [
    "sentences_wDescriptors.to_csv('sentences_wDescriptors_wSS.csv', encoding = 'utf-8-sig')"
   ]
  },
  {
   "cell_type": "code",
   "execution_count": 172,
   "id": "833cf0fc-3399-450e-bba3-7cef31c474d1",
   "metadata": {},
   "outputs": [
    {
     "name": "stdout",
     "output_type": "stream",
     "text": [
      "328\n"
     ]
    }
   ],
   "source": []
  },
  {
   "cell_type": "code",
   "execution_count": 208,
   "id": "570639f1-b2ca-4084-8c99-b5174c83c329",
   "metadata": {},
   "outputs": [
    {
     "data": {
      "text/plain": [
       "1         pt with h/o bipolar disorder was bib gm afte...\n",
       "6         she is fidgety but does not have any psychom...\n",
       "47       prn agitation: haloperidol 5mg/lorazepam 2mg/...\n",
       "71        when told that her urine was positive for co...\n",
       "73          plan:    -admit to 7n, vol status, vitals ...\n",
       "                              ...                        \n",
       "7565     he arrived in the psych ed agitated hostile, ...\n",
       "7569     due to his aggressive and hostile behavior se...\n",
       "7571     will re-evaluate patient when he is less host...\n",
       "7596                                 calm and cooperative\n",
       "7695    ed psych progress note  pt was submitted to sa...\n",
       "Length: 368, dtype: object"
      ]
     },
     "execution_count": 208,
     "metadata": {},
     "output_type": "execute_result"
    }
   ],
   "source": [
    "sentences_wDescriptors"
   ]
  },
  {
   "cell_type": "code",
   "execution_count": 207,
   "id": "63c571d1-1dd8-496b-b84b-44edc17321b7",
   "metadata": {},
   "outputs": [
    {
     "data": {
      "text/plain": [
       "0     s: patient was lying in bed chewing gum with 1...\n",
       "1                                                     7\n",
       "2                                       no murmur heard\n",
       "3            uhc agreed to pay for one day of admission\n",
       "4       also discontinued 1:1 order placed while pt ...\n",
       "                            ...                        \n",
       "60                                         regular diet\n",
       "61     spoke with louis who was informed about pt's ...\n",
       "62      will give her ativan 2mg po to help her feel...\n",
       "63                                             9 °c (94\n",
       "64                      pt denies si hi past or present\n",
       "Length: 65, dtype: object"
      ]
     },
     "execution_count": 207,
     "metadata": {},
     "output_type": "execute_result"
    }
   ],
   "source": [
    "r_sentences_woDescriptors"
   ]
  },
  {
   "cell_type": "code",
   "execution_count": 209,
   "id": "7ddaa0ff-63db-416e-90b3-ed4293d12428",
   "metadata": {},
   "outputs": [],
   "source": [
    "task_adapt_sentences = pd.concat([sentences_wDescriptors, r_sentences_woDescriptors])"
   ]
  },
  {
   "cell_type": "code",
   "execution_count": 210,
   "id": "dc1f97cc-bfd5-451f-bfee-ae740ba18ef9",
   "metadata": {},
   "outputs": [
    {
     "data": {
      "text/plain": [
       "1       pt with h/o bipolar disorder was bib gm afte...\n",
       "6       she is fidgety but does not have any psychom...\n",
       "47     prn agitation: haloperidol 5mg/lorazepam 2mg/...\n",
       "71      when told that her urine was positive for co...\n",
       "73        plan:    -admit to 7n, vol status, vitals ...\n",
       "                            ...                        \n",
       "60                                         regular diet\n",
       "61     spoke with louis who was informed about pt's ...\n",
       "62      will give her ativan 2mg po to help her feel...\n",
       "63                                             9 °c (94\n",
       "64                      pt denies si hi past or present\n",
       "Length: 433, dtype: object"
      ]
     },
     "execution_count": 210,
     "metadata": {},
     "output_type": "execute_result"
    }
   ],
   "source": [
    "task_adapt_sentences"
   ]
  },
  {
   "cell_type": "code",
   "execution_count": 221,
   "id": "709a1431-eec1-4cb7-a471-02f192a3323c",
   "metadata": {},
   "outputs": [],
   "source": [
    "task_adapt_sentences.to_csv('task_adapt_sentences.csv', encoding = 'utf-8-sig')"
   ]
  },
  {
   "cell_type": "code",
   "execution_count": 231,
   "id": "08b23753-e304-4cd0-a5bf-f8b602b28585",
   "metadata": {},
   "outputs": [],
   "source": [
    "sentences = pd.read_csv('13_words_39_sentences.csv', header=0)\n",
    "sentences_MD = sentences[['language', \"MD_label\"]]\n",
    "sentences_PT = sentences[['language', \"PT_label\"]]\n",
    "\n",
    "sentences_MD_pos = sentences_MD[sentences_MD[\"MD_label\"] == 'positive']\n",
    "sentences_PT_pos = sentences_PT[sentences_PT[\"PT_label\"] == 'positive']"
   ]
  },
  {
   "cell_type": "code",
   "execution_count": 232,
   "id": "d4264dc9-4d01-49fe-a981-a36afa139e5b",
   "metadata": {},
   "outputs": [],
   "source": [
    "sentences_MD_pos_extra = sentences_MD_pos.sample(n=8,replace=True)\n",
    "sentences_MD = pd.concat([sentences_MD, sentences_MD_pos_extra])\n",
    "\n",
    "sentences_PT_pos_extra = sentences_PT_pos.sample(n=8,replace=True)\n",
    "sentences_PT = pd.concat([sentences_PT, sentences_PT_pos_extra])"
   ]
  },
  {
   "cell_type": "code",
   "execution_count": 233,
   "id": "fe961ab1-e79a-4009-b1fd-85d9b04c0ef7",
   "metadata": {},
   "outputs": [],
   "source": [
    "sentences_MD.to_csv('sentences_MD-labels.csv', encoding = 'utf-8-sig')\n",
    "sentences_PT.to_csv('sentences_PT-labels.csv', encoding = 'utf-8-sig')"
   ]
  },
  {
   "cell_type": "code",
   "execution_count": 230,
   "id": "0111d2e7-899e-4eef-881a-a071d21b540e",
   "metadata": {},
   "outputs": [
    {
     "data": {
      "text/html": [
       "<div>\n",
       "<style scoped>\n",
       "    .dataframe tbody tr th:only-of-type {\n",
       "        vertical-align: middle;\n",
       "    }\n",
       "\n",
       "    .dataframe tbody tr th {\n",
       "        vertical-align: top;\n",
       "    }\n",
       "\n",
       "    .dataframe thead th {\n",
       "        text-align: right;\n",
       "    }\n",
       "</style>\n",
       "<table border=\"1\" class=\"dataframe\">\n",
       "  <thead>\n",
       "    <tr style=\"text-align: right;\">\n",
       "      <th></th>\n",
       "      <th>language</th>\n",
       "      <th>PT_label</th>\n",
       "    </tr>\n",
       "  </thead>\n",
       "  <tbody>\n",
       "    <tr>\n",
       "      <th>0</th>\n",
       "      <td>Patient very adamantly against hospitalization...</td>\n",
       "      <td>neutral</td>\n",
       "    </tr>\n",
       "    <tr>\n",
       "      <th>1</th>\n",
       "      <td>Pt admits to sometimes thinking about death, w...</td>\n",
       "      <td>neutral</td>\n",
       "    </tr>\n",
       "    <tr>\n",
       "      <th>2</th>\n",
       "      <td>However this morning he is adamant that he wan...</td>\n",
       "      <td>neutral</td>\n",
       "    </tr>\n",
       "    <tr>\n",
       "      <th>3</th>\n",
       "      <td>Pt continues to report adherence with his medi...</td>\n",
       "      <td>negative</td>\n",
       "    </tr>\n",
       "    <tr>\n",
       "      <th>4</th>\n",
       "      <td>Adherent with medications, and lithium level o...</td>\n",
       "      <td>neutral</td>\n",
       "    </tr>\n",
       "    <tr>\n",
       "      <th>5</th>\n",
       "      <td>States he is adherent w/ his outpatient XXX an...</td>\n",
       "      <td>neutral</td>\n",
       "    </tr>\n",
       "    <tr>\n",
       "      <th>6</th>\n",
       "      <td>Pt has been agitated throught her time in the ...</td>\n",
       "      <td>negative</td>\n",
       "    </tr>\n",
       "    <tr>\n",
       "      <th>7</th>\n",
       "      <td>She has been awake now for several hours and h...</td>\n",
       "      <td>neutral</td>\n",
       "    </tr>\n",
       "    <tr>\n",
       "      <th>8</th>\n",
       "      <td>Pt denied AH VH PI SA HI and when approached w...</td>\n",
       "      <td>negative</td>\n",
       "    </tr>\n",
       "    <tr>\n",
       "      <th>9</th>\n",
       "      <td>Note that pt was not agitated when he was allo...</td>\n",
       "      <td>negative</td>\n",
       "    </tr>\n",
       "    <tr>\n",
       "      <th>10</th>\n",
       "      <td>On reassessment this AM, pt remained calm, not...</td>\n",
       "      <td>positive</td>\n",
       "    </tr>\n",
       "    <tr>\n",
       "      <th>11</th>\n",
       "      <td>Sister saw pt often while he was at XXX b/c sh...</td>\n",
       "      <td>positive</td>\n",
       "    </tr>\n",
       "    <tr>\n",
       "      <th>12</th>\n",
       "      <td>Pt remains aggressive and very threatening upo...</td>\n",
       "      <td>negative</td>\n",
       "    </tr>\n",
       "    <tr>\n",
       "      <th>13</th>\n",
       "      <td>Pt w extensive XXX history, admitted for the 5...</td>\n",
       "      <td>negative</td>\n",
       "    </tr>\n",
       "    <tr>\n",
       "      <th>14</th>\n",
       "      <td>Although pt continues to request discharge, sh...</td>\n",
       "      <td>neutral</td>\n",
       "    </tr>\n",
       "    <tr>\n",
       "      <th>15</th>\n",
       "      <td>Pt angry and has hx of making suicidal threats...</td>\n",
       "      <td>negative</td>\n",
       "    </tr>\n",
       "    <tr>\n",
       "      <th>16</th>\n",
       "      <td>He remained irritable with an angry edge but w...</td>\n",
       "      <td>negative</td>\n",
       "    </tr>\n",
       "    <tr>\n",
       "      <th>17</th>\n",
       "      <td>Pt appears angry with mother and sister and de...</td>\n",
       "      <td>positive</td>\n",
       "    </tr>\n",
       "    <tr>\n",
       "      <th>18</th>\n",
       "      <td>She states that pt has been compliant with meds</td>\n",
       "      <td>neutral</td>\n",
       "    </tr>\n",
       "    <tr>\n",
       "      <th>19</th>\n",
       "      <td>She says that the patient has been compliant w...</td>\n",
       "      <td>negative</td>\n",
       "    </tr>\n",
       "    <tr>\n",
       "      <th>20</th>\n",
       "      <td>Pt reports \"im ok\" and states that although sh...</td>\n",
       "      <td>positive</td>\n",
       "    </tr>\n",
       "    <tr>\n",
       "      <th>21</th>\n",
       "      <td>Calm and cooperative, agrees with plan to stay...</td>\n",
       "      <td>positive</td>\n",
       "    </tr>\n",
       "    <tr>\n",
       "      <th>22</th>\n",
       "      <td>Pt is sleepy this morning, and initially resis...</td>\n",
       "      <td>positive</td>\n",
       "    </tr>\n",
       "    <tr>\n",
       "      <th>23</th>\n",
       "      <td>He continues to deny SI, is calm, cooperative,...</td>\n",
       "      <td>positive</td>\n",
       "    </tr>\n",
       "    <tr>\n",
       "      <th>24</th>\n",
       "      <td>Pt had been evaluated in XXX ED earlier today,...</td>\n",
       "      <td>negative</td>\n",
       "    </tr>\n",
       "    <tr>\n",
       "      <th>25</th>\n",
       "      <td>When we discharged the two brothers-- told the...</td>\n",
       "      <td>negative</td>\n",
       "    </tr>\n",
       "    <tr>\n",
       "      <th>26</th>\n",
       "      <td>His odd behavior, such as nearly walking into ...</td>\n",
       "      <td>negative</td>\n",
       "    </tr>\n",
       "    <tr>\n",
       "      <th>27</th>\n",
       "      <td>55 yo male with XXX, h/o asthma, BIB police fo...</td>\n",
       "      <td>neutral</td>\n",
       "    </tr>\n",
       "    <tr>\n",
       "      <th>28</th>\n",
       "      <td>This writer discussed with the patient her pat...</td>\n",
       "      <td>neutral</td>\n",
       "    </tr>\n",
       "    <tr>\n",
       "      <th>29</th>\n",
       "      <td>Given recent non-adherence, will restart pt on...</td>\n",
       "      <td>negative</td>\n",
       "    </tr>\n",
       "    <tr>\n",
       "      <th>30</th>\n",
       "      <td>His worsening psychotic symptom secondary to m...</td>\n",
       "      <td>neutral</td>\n",
       "    </tr>\n",
       "    <tr>\n",
       "      <th>31</th>\n",
       "      <td>She reported that the patient has not been ful...</td>\n",
       "      <td>neutral</td>\n",
       "    </tr>\n",
       "    <tr>\n",
       "      <th>32</th>\n",
       "      <td>She does not come regularly for her XXX appoin...</td>\n",
       "      <td>negative</td>\n",
       "    </tr>\n",
       "    <tr>\n",
       "      <th>33</th>\n",
       "      <td>MSE: pleasant, cooperative, euthymic, speech w...</td>\n",
       "      <td>positive</td>\n",
       "    </tr>\n",
       "    <tr>\n",
       "      <th>34</th>\n",
       "      <td>Throughout interview, pt calm, cooperative and...</td>\n",
       "      <td>positive</td>\n",
       "    </tr>\n",
       "    <tr>\n",
       "      <th>35</th>\n",
       "      <td>The patient was moderately helpless on intervi...</td>\n",
       "      <td>negative</td>\n",
       "    </tr>\n",
       "    <tr>\n",
       "      <th>36</th>\n",
       "      <td>he does not cooperate with treatment decisions...</td>\n",
       "      <td>negative</td>\n",
       "    </tr>\n",
       "    <tr>\n",
       "      <th>37</th>\n",
       "      <td>Primary team will need to complete more thorou...</td>\n",
       "      <td>neutral</td>\n",
       "    </tr>\n",
       "    <tr>\n",
       "      <th>38</th>\n",
       "      <td>He is not cooperative with questions and start...</td>\n",
       "      <td>negative</td>\n",
       "    </tr>\n",
       "    <tr>\n",
       "      <th>17</th>\n",
       "      <td>Pt appears angry with mother and sister and de...</td>\n",
       "      <td>positive</td>\n",
       "    </tr>\n",
       "    <tr>\n",
       "      <th>23</th>\n",
       "      <td>He continues to deny SI, is calm, cooperative,...</td>\n",
       "      <td>positive</td>\n",
       "    </tr>\n",
       "    <tr>\n",
       "      <th>17</th>\n",
       "      <td>Pt appears angry with mother and sister and de...</td>\n",
       "      <td>positive</td>\n",
       "    </tr>\n",
       "    <tr>\n",
       "      <th>34</th>\n",
       "      <td>Throughout interview, pt calm, cooperative and...</td>\n",
       "      <td>positive</td>\n",
       "    </tr>\n",
       "    <tr>\n",
       "      <th>20</th>\n",
       "      <td>Pt reports \"im ok\" and states that although sh...</td>\n",
       "      <td>positive</td>\n",
       "    </tr>\n",
       "    <tr>\n",
       "      <th>21</th>\n",
       "      <td>Calm and cooperative, agrees with plan to stay...</td>\n",
       "      <td>positive</td>\n",
       "    </tr>\n",
       "    <tr>\n",
       "      <th>34</th>\n",
       "      <td>Throughout interview, pt calm, cooperative and...</td>\n",
       "      <td>positive</td>\n",
       "    </tr>\n",
       "    <tr>\n",
       "      <th>10</th>\n",
       "      <td>On reassessment this AM, pt remained calm, not...</td>\n",
       "      <td>positive</td>\n",
       "    </tr>\n",
       "  </tbody>\n",
       "</table>\n",
       "</div>"
      ],
      "text/plain": [
       "                                             language  PT_label\n",
       "0   Patient very adamantly against hospitalization...   neutral\n",
       "1   Pt admits to sometimes thinking about death, w...   neutral\n",
       "2   However this morning he is adamant that he wan...   neutral\n",
       "3   Pt continues to report adherence with his medi...  negative\n",
       "4   Adherent with medications, and lithium level o...   neutral\n",
       "5   States he is adherent w/ his outpatient XXX an...   neutral\n",
       "6   Pt has been agitated throught her time in the ...  negative\n",
       "7   She has been awake now for several hours and h...   neutral\n",
       "8   Pt denied AH VH PI SA HI and when approached w...  negative\n",
       "9   Note that pt was not agitated when he was allo...  negative\n",
       "10  On reassessment this AM, pt remained calm, not...  positive\n",
       "11  Sister saw pt often while he was at XXX b/c sh...  positive\n",
       "12  Pt remains aggressive and very threatening upo...  negative\n",
       "13  Pt w extensive XXX history, admitted for the 5...  negative\n",
       "14  Although pt continues to request discharge, sh...   neutral\n",
       "15  Pt angry and has hx of making suicidal threats...  negative\n",
       "16  He remained irritable with an angry edge but w...  negative\n",
       "17  Pt appears angry with mother and sister and de...  positive\n",
       "18    She states that pt has been compliant with meds   neutral\n",
       "19  She says that the patient has been compliant w...  negative\n",
       "20  Pt reports \"im ok\" and states that although sh...  positive\n",
       "21  Calm and cooperative, agrees with plan to stay...  positive\n",
       "22  Pt is sleepy this morning, and initially resis...  positive\n",
       "23  He continues to deny SI, is calm, cooperative,...  positive\n",
       "24  Pt had been evaluated in XXX ED earlier today,...  negative\n",
       "25  When we discharged the two brothers-- told the...  negative\n",
       "26  His odd behavior, such as nearly walking into ...  negative\n",
       "27  55 yo male with XXX, h/o asthma, BIB police fo...   neutral\n",
       "28  This writer discussed with the patient her pat...   neutral\n",
       "29  Given recent non-adherence, will restart pt on...  negative\n",
       "30  His worsening psychotic symptom secondary to m...   neutral\n",
       "31  She reported that the patient has not been ful...   neutral\n",
       "32  She does not come regularly for her XXX appoin...  negative\n",
       "33  MSE: pleasant, cooperative, euthymic, speech w...  positive\n",
       "34  Throughout interview, pt calm, cooperative and...  positive\n",
       "35  The patient was moderately helpless on intervi...  negative\n",
       "36  he does not cooperate with treatment decisions...  negative\n",
       "37  Primary team will need to complete more thorou...   neutral\n",
       "38  He is not cooperative with questions and start...  negative\n",
       "17  Pt appears angry with mother and sister and de...  positive\n",
       "23  He continues to deny SI, is calm, cooperative,...  positive\n",
       "17  Pt appears angry with mother and sister and de...  positive\n",
       "34  Throughout interview, pt calm, cooperative and...  positive\n",
       "20  Pt reports \"im ok\" and states that although sh...  positive\n",
       "21  Calm and cooperative, agrees with plan to stay...  positive\n",
       "34  Throughout interview, pt calm, cooperative and...  positive\n",
       "10  On reassessment this AM, pt remained calm, not...  positive"
      ]
     },
     "execution_count": 230,
     "metadata": {},
     "output_type": "execute_result"
    }
   ],
   "source": [
    "sentences_PT_pos"
   ]
  },
  {
   "cell_type": "code",
   "execution_count": null,
   "id": "3e361ca5-1575-42d3-b608-cb99ab86fa81",
   "metadata": {},
   "outputs": [],
   "source": []
  }
 ],
 "metadata": {
  "kernelspec": {
   "display_name": "Python 3 (ipykernel)",
   "language": "python",
   "name": "python3"
  },
  "language_info": {
   "codemirror_mode": {
    "name": "ipython",
    "version": 3
   },
   "file_extension": ".py",
   "mimetype": "text/x-python",
   "name": "python",
   "nbconvert_exporter": "python",
   "pygments_lexer": "ipython3",
   "version": "3.8.16"
  }
 },
 "nbformat": 4,
 "nbformat_minor": 5
}
